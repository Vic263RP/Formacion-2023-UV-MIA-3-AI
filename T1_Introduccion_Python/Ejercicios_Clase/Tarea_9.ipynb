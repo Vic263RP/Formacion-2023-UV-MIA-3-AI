{
 "cells": [
  {
   "cell_type": "markdown",
   "metadata": {},
   "source": [
    "Crea una función denominada Mifactorial que devuelva el factorial de\n",
    "un número entero n. Utiliza bucles for y sentencias if."
   ]
  },
  {
   "cell_type": "code",
   "execution_count": 7,
   "metadata": {},
   "outputs": [
    {
     "name": "stdout",
     "output_type": "stream",
     "text": [
      "El factorial de \"5.6\" es \"imposible de calcular\".\n"
     ]
    }
   ],
   "source": [
    "def Minifactorial(num=5):\n",
    "    try:\n",
    "        num = int(num)\n",
    "    except:\n",
    "        resultado = 'no se puede calcular'\n",
    "    else: \n",
    "        if num == 0:\n",
    "            resultado = 1\n",
    "        elif num > 0:\n",
    "            resultado = 1\n",
    "\n",
    "            for x in range(1,num+1):\n",
    "                resultado *= x\n",
    "        else:\n",
    "            resultado = 'imposible de calcular'\n",
    "    finally:\n",
    "        print(f'El factorial de \"{num}\" es \"{resultado}\".')\n",
    "\n",
    "num = input('Introduce el número del cual quieras calcular el factorial: ')\n",
    "\n",
    "Minifactorial(num)\n",
    "\n",
    "            \n"
   ]
  },
  {
   "cell_type": "markdown",
   "metadata": {},
   "source": [
    "Una determinada compañía evalúa la calidad de sus clientes a través del\n",
    "ICC=Gasto/ (Insatisfaccion+1)*2. El Gasto es un dato normalizado entre\n",
    "0 y 100. La insatisfacción se mide con una variable continua definida entre\n",
    "0 y 1. La empresa categoriza a os clientes de la siguiente manera: <br>\n",
    "•\n",
    "IC<17 Cliente Pésimo<br>\n",
    "•\n",
    "17<=IC<18 Cliente a Pésimo II<br>\n",
    "•\n",
    "18<=IC<25 Cliente Normal<br>\n",
    "•\n",
    "25<=IC<30 Cliente OK<br>\n",
    "•\n",
    "30<=IC<35 Cliente OK II<br>\n",
    "•\n",
    "35<=IC<40 Cliente OK III<br>\n",
    "•\n",
    "IC>=40 Cliente Premium<br>\n",
    "Crea una función de Python denominada ICC que calcule el índice de\n",
    "calidad del cliente. Debe tener como argumentos el gasto, la insatisfacción\n",
    "del cliente y el nombre del mismo. La función debe devolver una lista en el\n",
    "que el primer elemento es el nombre del cliente y el segundo el ICC del\n",
    "cliente"
   ]
  },
  {
   "cell_type": "code",
   "execution_count": 9,
   "metadata": {},
   "outputs": [
    {
     "name": "stdout",
     "output_type": "stream",
     "text": [
      "['Manuel', 55.55555555555556, 'Cliente Premium']\n"
     ]
    }
   ],
   "source": [
    "def ICC(gasto, insatisfaccion, nombre):\n",
    "\n",
    "    icc = gasto/(insatisfaccion+1)*2\n",
    "\n",
    "    if icc < 17:\n",
    "        calidad = 'Cliente Pésimo'\n",
    "    elif icc < 18:\n",
    "        calidad = 'Cliente Pésimo II'\n",
    "    elif icc < 25:\n",
    "        calidad = 'Cliente Normal'\n",
    "    elif icc < 30:\n",
    "        calidad = 'Cliente OK'\n",
    "    elif icc < 35:\n",
    "        calidad = 'Cliente OK II'\n",
    "    elif icc < 40:\n",
    "        calidad = 'Cliente OK III'\n",
    "    else:\n",
    "        calidad = 'Cliente Premium'\n",
    "\n",
    "\n",
    "    return([icc, calidad])\n",
    "\n",
    "\n",
    "\n",
    "\n",
    "gasto = 50\n",
    "insatisfaccion = 0.8\n",
    "nombre = 'Manuel'\n",
    "\n",
    "datos = ICC(gasto, insatisfaccion, nombre)\n",
    "\n",
    "print(datos)"
   ]
  },
  {
   "cell_type": "markdown",
   "metadata": {},
   "source": [
    "Crea otra función llamada ICC_GLOBAL como la\n",
    "anterior, cuyo argumento sea un diccionario en el que\n",
    "las claves contendrán los nombres de los clientes y en\n",
    "el valor una lista que contiene el gasto y la\n",
    "insatisfacción. La salida de la función debe devolver un\n",
    "diccionario con los nombres de los clientes y su ICC"
   ]
  },
  {
   "cell_type": "code",
   "execution_count": 17,
   "metadata": {},
   "outputs": [
    {
     "name": "stdout",
     "output_type": "stream",
     "text": [
      "{'Manuel': 55.55555555555556, 'Sofía': 37.5, 'Thalía': 128.57142857142858, 'Mateo': 200.0}\n"
     ]
    }
   ],
   "source": [
    "def ICC_GLOBAL(datos_dic):\n",
    "    return({nombre: gasto/(insatisfaccion+1)*2 for nombre, [gasto, insatisfaccion] in datos_dic.items()})\n",
    " \n",
    "\n",
    "datos_dic = {'Manuel': [50, 0.8], 'Sofía': [30, 0.6], 'Thalía': [90, 0.4], 'Mateo': [100, 0]}\n",
    "\n",
    "sql = ICC_GLOBAL(datos_dic)\n",
    "print(sql)\n"
   ]
  },
  {
   "cell_type": "markdown",
   "metadata": {},
   "source": [
    "Modifica ICC_GLOBAL, para que si el gasto o la\n",
    "insatisfacción no es un número real, devuelva un\n",
    "mensaje por pantalla indicando No se puede\n",
    "calcular el ICC, revisa los argumentos, todo\n",
    "esto sin que el interprete de Python devuelva un error."
   ]
  },
  {
   "cell_type": "code",
   "execution_count": 25,
   "metadata": {},
   "outputs": [
    {
     "name": "stdout",
     "output_type": "stream",
     "text": [
      "{'Manuel': 'Datos mal inputados', 'Sofía': [[30, 0.6], 37.5, 'Cliente OK III'], 'Thalía': [[90, False], 180.0, 'Cliente Premium'], 'Mateo': [[100, 0], 200.0, 'Cliente Premium']}\n"
     ]
    }
   ],
   "source": [
    "datos_dic = {'Manuel': ['no', 0.8], 'Sofía': [30, 0.6], 'Thalía': [90, False], 'Mateo': [100, 0]}\n",
    "\n",
    "for x in datos_dic:\n",
    "\n",
    "    #print(float(datos_dic[x][1]))\n",
    "    try:\n",
    "        float(datos_dic[x][0])\n",
    "        float(datos_dic[x][0])  \n",
    "    except:\n",
    "        sql[x] = 'Datos mal inputados'\n",
    "    else:\n",
    "        sql[x] = ICC(datos_dic[x][0], datos_dic[x][1], datos_dic[x])\n",
    "print(sql)"
   ]
  }
 ],
 "metadata": {
  "kernelspec": {
   "display_name": "work",
   "language": "python",
   "name": "python3"
  },
  "language_info": {
   "codemirror_mode": {
    "name": "ipython",
    "version": 3
   },
   "file_extension": ".py",
   "mimetype": "text/x-python",
   "name": "python",
   "nbconvert_exporter": "python",
   "pygments_lexer": "ipython3",
   "version": "3.11.4"
  },
  "orig_nbformat": 4
 },
 "nbformat": 4,
 "nbformat_minor": 2
}
