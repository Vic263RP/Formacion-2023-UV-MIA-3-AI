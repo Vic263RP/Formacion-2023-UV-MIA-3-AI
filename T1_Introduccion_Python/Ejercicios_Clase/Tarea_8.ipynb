{
 "cells": [
  {
   "cell_type": "markdown",
   "metadata": {},
   "source": [
    "El modulo random contiene una función denominada randrange permite generar un número entero aleatorio. <br>\n",
    "Crea una lista denominada Ejer8a que contenga 200 números aleatorios en el rango de 0 a 100. Ordena la lista Ejer8a"
   ]
  },
  {
   "cell_type": "code",
   "execution_count": 35,
   "metadata": {},
   "outputs": [
    {
     "name": "stdout",
     "output_type": "stream",
     "text": [
      "[0, 1, 2, 3, 4, 4, 5, 5, 5, 6, 6, 8, 8, 9, 9, 9, 9, 10, 10, 11, 11, 11, 11, 12, 12, 12, 12, 12, 13, 13, 13, 14, 15, 15, 16, 16, 16, 16, 17, 17, 17, 19, 19, 19, 20, 20, 20, 20, 20, 20, 21, 21, 22, 23, 24, 25, 25, 25, 26, 26, 26, 26, 28, 29, 30, 30, 31, 31, 32, 32, 32, 33, 33, 33, 34, 34, 34, 35, 35, 35, 35, 35, 35, 36, 36, 36, 37, 37, 38, 38, 39, 39, 40, 40, 40, 41, 41, 42, 42, 42, 44, 44, 44, 45, 46, 46, 46, 47, 47, 47, 49, 50, 51, 51, 51, 52, 52, 52, 53, 54, 54, 55, 55, 57, 58, 58, 58, 59, 60, 62, 62, 63, 63, 64, 64, 64, 66, 68, 68, 68, 69, 69, 69, 70, 70, 72, 72, 72, 72, 73, 73, 74, 74, 77, 77, 77, 78, 79, 80, 80, 81, 81, 81, 82, 82, 83, 83, 83, 83, 84, 84, 85, 85, 85, 85, 85, 85, 85, 86, 87, 87, 87, 88, 89, 90, 90, 90, 91, 92, 92, 93, 93, 94, 95, 95, 95, 95, 97, 98, 98]\n"
     ]
    }
   ],
   "source": [
    "from random import randrange\n",
    "\n",
    "Ejer8a = [randrange(0,100) for x in range(200)]\n",
    "Ejer8a.sort()\n",
    "print(Ejer8a)"
   ]
  },
  {
   "cell_type": "markdown",
   "metadata": {},
   "source": [
    "Sean dos listas Nombre=[‘ana’, ’pedro’, ’juan’, ’oscar’, ’julia’] y\n",
    "Peso=[55.7, 80.6 ,87.8, 75.4, 60.1], consigue una lista de tuplas\n",
    "en la que cada tupla este compuesta por el nombre y el peso de\n",
    "cada sujeto."
   ]
  },
  {
   "cell_type": "code",
   "execution_count": 36,
   "metadata": {},
   "outputs": [
    {
     "data": {
      "text/plain": [
       "[('ana', 55.7),\n",
       " ('pedro', 80.6),\n",
       " ('juan', 87.8),\n",
       " ('oscar', 75.4),\n",
       " ('julia', 60.1)]"
      ]
     },
     "execution_count": 36,
     "metadata": {},
     "output_type": "execute_result"
    }
   ],
   "source": [
    "Nombre=['ana', 'pedro', 'juan', 'oscar', 'julia']\n",
    "Peso=[55.7, 80.6 ,87.8, 75.4, 60.1]\n",
    "\n",
    "Lista = list(zip(Nombre, Peso))\n",
    "Lista"
   ]
  },
  {
   "cell_type": "markdown",
   "metadata": {},
   "source": [
    "Genera un diccionario cuyas claves sean los nombres de los\n",
    "sujetos del ejercicio anterior y los valores su peso. <br>\n",
    "¿Podrías acceder dentro del diccionario al peso de Ana? <br> Y al de Pedro?. <br> Si queremos añadir un sujeto más a la base de datos, en concreto\n",
    "Emilio con un peso de 83.2 en el diccionario, Cómo lo harías?. <br>\n",
    "Por último, elimina del diccionario a Juan."
   ]
  },
  {
   "cell_type": "code",
   "execution_count": 37,
   "metadata": {},
   "outputs": [
    {
     "data": {
      "text/plain": [
       "{'ana': 55.7, 'pedro': 80.6, 'oscar': 75.4, 'julia': 60.1, 'emilio': 83.2}"
      ]
     },
     "execution_count": 37,
     "metadata": {},
     "output_type": "execute_result"
    }
   ],
   "source": [
    "Diccionario = dict(zip(Nombre, Peso))\n",
    "Diccionario['ana']\n",
    "Diccionario['pedro']\n",
    "Diccionario['emilio'] = 83.2\n",
    "\n",
    "del Diccionario['juan']\n",
    "\n",
    "Diccionario"
   ]
  },
  {
   "cell_type": "markdown",
   "metadata": {},
   "source": [
    "Repite la creación del diccionario anterior utilizando\n",
    "obligatoriamente un bucle for para añadir cada elemento del\n",
    "diccionario. Hazlo SIN y CON comprehensions."
   ]
  },
  {
   "cell_type": "code",
   "execution_count": 38,
   "metadata": {},
   "outputs": [
    {
     "data": {
      "text/plain": [
       "{'ana': 55.7, 'pedro': 80.6, 'juan': 87.8, 'oscar': 75.4, 'julia': 60.1}"
      ]
     },
     "execution_count": 38,
     "metadata": {},
     "output_type": "execute_result"
    }
   ],
   "source": [
    "Bucle = {}\n",
    "for key, value in zip(Nombre, Peso):\n",
    "    Bucle[key] = value\n",
    "\n",
    "\n",
    "Comprehension = {key:value for key,value in zip(Nombre, Peso)}\n",
    "\n",
    "\n",
    "Bucle\n",
    "Comprehension"
   ]
  },
  {
   "cell_type": "markdown",
   "metadata": {},
   "source": [
    "Crea dos listas Ejer8b y Ejer8c aleatorias como la\n",
    "del ejercicio 2 de esta tarea. <br>\n",
    "•\n",
    "Determina los elementos únicos de cada lista.\n",
    "Determina los elementos que tienen en\n",
    "común ambas listas. <br>\n",
    "•\n",
    "Determina los elementos de la lista Ejer8b\n",
    "que no están en la lista Ejer8a."
   ]
  },
  {
   "cell_type": "code",
   "execution_count": 39,
   "metadata": {},
   "outputs": [
    {
     "data": {
      "text/plain": [
       "{7, 17, 20, 27, 47, 56, 66, 81, 87, 89}"
      ]
     },
     "execution_count": 39,
     "metadata": {},
     "output_type": "execute_result"
    }
   ],
   "source": [
    "Ejer8b = {randrange(0,100) for x in range(200)}\n",
    "Ejer8c = {randrange(0,100) for x in range(200)}\n",
    "\n",
    "comun = Ejer8b.intersection(Ejer8c)\n",
    "C_no_en_8b = Ejer8c.difference(Ejer8b)\n",
    "\n",
    "C_no_en_8b"
   ]
  },
  {
   "cell_type": "markdown",
   "metadata": {},
   "source": [
    "Crea un diccionario cuyas claves contengan los\n",
    "nombres de la lista Nombre y cuyo valor sea la\n",
    "posición que ocupa en la lista"
   ]
  },
  {
   "cell_type": "code",
   "execution_count": 40,
   "metadata": {},
   "outputs": [
    {
     "data": {
      "text/plain": [
       "{'ana': 0, 'pedro': 1, 'juan': 2, 'oscar': 3, 'julia': 4}"
      ]
     },
     "execution_count": 40,
     "metadata": {},
     "output_type": "execute_result"
    }
   ],
   "source": [
    "Nombre_posicion = {key: value for value, key in enumerate(Nombre)}\n",
    "\n",
    "Nombre_posicion"
   ]
  },
  {
   "cell_type": "markdown",
   "metadata": {},
   "source": [
    "Crea una lista derivada de la lista Nombres que\n",
    "contenga los nombres con mas de 4 letras."
   ]
  },
  {
   "cell_type": "code",
   "execution_count": 41,
   "metadata": {},
   "outputs": [
    {
     "data": {
      "text/plain": [
       "['pedro', 'oscar', 'julia']"
      ]
     },
     "execution_count": 41,
     "metadata": {},
     "output_type": "execute_result"
    }
   ],
   "source": [
    "Nombres_largos = [nom for nom in Nombre if len(nom) > 4]\n",
    "Nombres_largos"
   ]
  },
  {
   "cell_type": "markdown",
   "metadata": {},
   "source": [
    "En el diccionario resultante del ejercicio 4 de esta\n",
    "tarea crea un nuevo diccionario con los usuarios\n",
    "cuyo peso es mayor de 65.0 Kg. Siéntete libre\n",
    "de utilizar comprehensions cuando lo\n",
    "consideres oportuno."
   ]
  },
  {
   "cell_type": "code",
   "execution_count": 43,
   "metadata": {},
   "outputs": [
    {
     "data": {
      "text/plain": [
       "{'pedro': 80.6, 'oscar': 75.4, 'emilio': 83.2}"
      ]
     },
     "execution_count": 43,
     "metadata": {},
     "output_type": "execute_result"
    }
   ],
   "source": [
    "Pesados = {nom:pes for nom,pes in Diccionario.items() if pes > 65}\n",
    "Pesados"
   ]
  }
 ],
 "metadata": {
  "kernelspec": {
   "display_name": "work",
   "language": "python",
   "name": "python3"
  },
  "language_info": {
   "name": "python",
   "version": "3.11.4"
  },
  "orig_nbformat": 4
 },
 "nbformat": 4,
 "nbformat_minor": 2
}
