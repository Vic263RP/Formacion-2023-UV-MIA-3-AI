{
 "cells": [
  {
   "cell_type": "markdown",
   "metadata": {},
   "source": [
    "Crea dos variables de tipo string . La primera denominada parte1 y que contengan las frase las variables string. Y la segunda denominada parte 2 y que contenga la frase  son muy utilies."
   ]
  },
  {
   "cell_type": "code",
   "execution_count": 10,
   "metadata": {},
   "outputs": [],
   "source": [
    "#Crear parte 1 y parte 2 de la frase\n",
    "parte_1 = \"las variables string\"\n",
    "parte_2 = \" son muy útiles\""
   ]
  },
  {
   "cell_type": "markdown",
   "metadata": {},
   "source": [
    "Crea una variable denominada eslogan que contenga la concatenación de las variables parte 1 y parte 2 . • "
   ]
  },
  {
   "cell_type": "code",
   "execution_count": 11,
   "metadata": {},
   "outputs": [],
   "source": [
    "#Concatenar y guardar en una variable\n",
    "eslogan = parte_1 + parte_2"
   ]
  },
  {
   "cell_type": "markdown",
   "metadata": {},
   "source": [
    "Explora los métodos y los atributos que contiene un objeto de tipo string.  A partir del nombre de los diferentes métodos de un objeto de  tipo string intenta conseguir que la frase contenida en eslogan empiece por mayúscula."
   ]
  },
  {
   "cell_type": "code",
   "execution_count": 12,
   "metadata": {},
   "outputs": [],
   "source": [
    "#El método capitalize hace que la primera letra de todo el string sea mayúscula. (Title no sirve porque hace la primera letra de todas las palabras)\n",
    "eslogan = eslogan.capitalize()"
   ]
  },
  {
   "cell_type": "markdown",
   "metadata": {},
   "source": [
    "Intenta conseguir, a partir de los métodos de un string, una lista con las diferentes palabras que componen la frase contenida en eslogan."
   ]
  },
  {
   "cell_type": "code",
   "execution_count": 13,
   "metadata": {},
   "outputs": [
    {
     "name": "stdout",
     "output_type": "stream",
     "text": [
      "['Las', 'variables', 'string', 'son', 'muy', 'útiles']\n"
     ]
    }
   ],
   "source": [
    "palabras = eslogan.split()\n",
    "print(palabras)"
   ]
  },
  {
   "cell_type": "markdown",
   "metadata": {},
   "source": [
    "Sea una variable de tipo string denominada interes que contiene el tipo de interés numérico de un préstamo. Otra variable que contiene un número real denominada  cantidad que contiene la cantidad de dinero solicitado y una última variable denominada Ncuotas que contiene un número entero con el número de cuotas a pagar.  Escribe en una línea de código como se calcularía la variable cuota."
   ]
  },
  {
   "cell_type": "code",
   "execution_count": 34,
   "metadata": {},
   "outputs": [
    {
     "name": "stdout",
     "output_type": "stream",
     "text": [
      "1350.0000000000002\n"
     ]
    }
   ],
   "source": [
    "intereses = str(8)\n",
    "cantidad = 15000\n",
    "Ncuotas = 12\n",
    "\n",
    "cuota = cantidad*(1+float(intereses)/100)/12\n",
    "\n",
    "print(cuota)"
   ]
  },
  {
   "cell_type": "markdown",
   "metadata": {},
   "source": [
    "Crea una variable denominada InicioClase de tipo datetime que contenga la fecha y la hora a la que ha empezado la clase de hoy."
   ]
  },
  {
   "cell_type": "code",
   "execution_count": 32,
   "metadata": {},
   "outputs": [
    {
     "name": "stdout",
     "output_type": "stream",
     "text": [
      "2023-10-07 08:01:30.480926\n"
     ]
    }
   ],
   "source": [
    "import datetime as dt\n",
    "\n",
    "InicioClase = dt.datetime.now()\n",
    "\n",
    "print(InicioClase)"
   ]
  },
  {
   "cell_type": "markdown",
   "metadata": {},
   "source": [
    "Utiliza un método de los objetos datetime para formatear la fecha y la hora almacenada en InicioClase con el formato ‘dd/mm/YYYY HH:MM:SS’."
   ]
  },
  {
   "cell_type": "code",
   "execution_count": 33,
   "metadata": {},
   "outputs": [
    {
     "name": "stdout",
     "output_type": "stream",
     "text": [
      "07/Oct/2023, 08:01:30\n"
     ]
    }
   ],
   "source": [
    "InicioClase = InicioClase.strftime(\"%d/%b/%Y, %H:%M:%S\")\n",
    "print(InicioClase)"
   ]
  },
  {
   "cell_type": "code",
   "execution_count": 14,
   "metadata": {},
   "outputs": [
    {
     "name": "stdout",
     "output_type": "stream",
     "text": [
      "Las variables string son muy útiles\n"
     ]
    }
   ],
   "source": [
    "print(eslogan)"
   ]
  }
 ],
 "metadata": {
  "kernelspec": {
   "display_name": "work",
   "language": "python",
   "name": "python3"
  },
  "language_info": {
   "codemirror_mode": {
    "name": "ipython",
    "version": 3
   },
   "file_extension": ".py",
   "mimetype": "text/x-python",
   "name": "python",
   "nbconvert_exporter": "python",
   "pygments_lexer": "ipython3",
   "version": "3.11.4"
  },
  "orig_nbformat": 4
 },
 "nbformat": 4,
 "nbformat_minor": 2
}
