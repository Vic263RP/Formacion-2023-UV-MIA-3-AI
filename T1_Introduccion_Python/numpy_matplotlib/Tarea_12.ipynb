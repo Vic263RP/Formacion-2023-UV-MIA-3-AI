{
 "cells": [
  {
   "cell_type": "markdown",
   "metadata": {},
   "source": [
    "Ejercicio 2. Crea una matriz denominada Ejer2 de tamaño 2x10\n",
    "compuesta por elementos iguales 10. Realiza la operación\n",
    "matricial Ejer1·T(Ejer2)."
   ]
  },
  {
   "cell_type": "code",
   "execution_count": null,
   "metadata": {},
   "outputs": [],
   "source": []
  },
  {
   "cell_type": "markdown",
   "metadata": {},
   "source": [
    "Ejercicio 3. Crea un tensor de orden de orden 3 denominado\n",
    "Ejer3 de tamaño 10x9x5 compuesto por elementos del 1 al 450\n",
    "dispuestos en el tensor por filas dentro de la cada matriz del\n",
    "tensor"
   ]
  },
  {
   "cell_type": "markdown",
   "metadata": {},
   "source": [
    "Ejercicio 4. Vamos a jugar con el array Ejer3, y a comprobar lo\n",
    "que recuerdas de indexar arrays… <br>\n",
    "•\n",
    "Extrae la primera matriz 9x5 del tensor y denominalo Ejer4a<br>\n",
    "•\n",
    "Extrae la última matriz 9x5 del tensor y denominalo Ejer4b<br>\n",
    "•\n",
    "Realiza la operación matricial Ejer4a·T(Ejer4b)<br>\n",
    "•\n",
    "Extrae un vector denominado Ejer4c constituido por la\n",
    "segunda fila de la segunda matriz del tensor Ejer3.<br>\n",
    "•\n",
    "Extrae un vector denominado Ejer4d constituido por la\n",
    "primera fila de la tercera matriz del tensor Ejer3.<br>\n",
    "•\n",
    "Cuál es el valor del producto escalar de los vectores Ejer4c\n",
    "y Ejer4d?"
   ]
  },
  {
   "cell_type": "markdown",
   "metadata": {},
   "source": [
    "Crea un vector columna denominado Ejer4e compuesto\n",
    "por lo elementos de la última columna de la primera\n",
    "matriz de Ejer3."
   ]
  },
  {
   "cell_type": "markdown",
   "metadata": {},
   "source": [
    "Crea un vector columna denominado Ejer4f compuesto\n",
    "por los elementos de tercera columna de la cuarta\n",
    "matriz de Ejer3."
   ]
  },
  {
   "cell_type": "markdown",
   "metadata": {},
   "source": [
    "Cuál es el valor del producto escalar de los vectores\n",
    "Ejer4e y Ejer4f?. Utiliza la función np.dot para\n",
    "conseguirlo"
   ]
  },
  {
   "cell_type": "markdown",
   "metadata": {},
   "source": []
  }
 ],
 "metadata": {
  "language_info": {
   "name": "python"
  },
  "orig_nbformat": 4
 },
 "nbformat": 4,
 "nbformat_minor": 2
}
