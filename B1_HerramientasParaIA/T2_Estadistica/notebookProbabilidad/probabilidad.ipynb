{
 "cells": [
  {
   "attachments": {},
   "cell_type": "markdown",
   "metadata": {},
   "source": [
    "<img src=\"idal-logo.png\" align=\"right\" style=\"float\" width=\"300\">\n",
    "<font color=\"#CA3532\"><h1 align=\"left\">Máster en Inteligencia Artificial Avanzada y Aplicada.</h1></font>\n",
    "<font color=\"#6E6E6E\"><h2 align=\"left\">Herramientas de AI: probabilidad.</h2></font> \n",
    "\n",
    "#### Joan Vila Francés\n",
    "\n",
    "\n",
    "En este notebooks vamos a introducir el concepto de probabilidad, al mismo tiempo que repasamos los conceptos básicos acerca del uso y representación de datos en Python usando las librerías `Pandas` y `numPy`.  \n",
    "## Ejemplo de probabilidad (frecuentista): encuesta de helados\n",
    "Sabemos la frecuencia con que la que se prefiere un determinado sabor de helado según el género (a partir de una encuesta)."
   ]
  },
  {
   "cell_type": "code",
   "execution_count": null,
   "metadata": {},
   "outputs": [],
   "source": [
    "import numpy as np\n",
    "import pandas as pd\n",
    "import matplotlib.pyplot as plt\n",
    "%matplotlib inline\n",
    "import seaborn as sns"
   ]
  },
  {
   "cell_type": "code",
   "execution_count": null,
   "metadata": {},
   "outputs": [],
   "source": [
    "#definimos un DataFrame en Pandas con los resultados de la encuesta\n",
    "encuesta = pd.DataFrame({'chocolate': [100, 350], \n",
    "                         'vainilla': [120, 200], \n",
    "                         'fresa': [60, 90]}, \n",
    "                         index = ['hombre', 'mujer'])\n",
    "encuesta"
   ]
  },
  {
   "cell_type": "code",
   "execution_count": null,
   "metadata": {},
   "outputs": [],
   "source": [
    "type(encuesta)"
   ]
  },
  {
   "attachments": {},
   "cell_type": "markdown",
   "metadata": {},
   "source": [
    "### Indexado de filas y columnas\n",
    "#### Indexado de filas"
   ]
  },
  {
   "cell_type": "code",
   "execution_count": null,
   "metadata": {
    "tags": []
   },
   "outputs": [],
   "source": [
    "#Las filas se pueden referenciar por su nombre (index)\n",
    "encuesta.loc['hombre']"
   ]
  },
  {
   "cell_type": "code",
   "execution_count": null,
   "metadata": {},
   "outputs": [],
   "source": [
    "type(encuesta.loc['hombre'])"
   ]
  },
  {
   "cell_type": "code",
   "execution_count": null,
   "metadata": {},
   "outputs": [],
   "source": [
    "encuesta.iloc[0] #o también por su índice numérico"
   ]
  },
  {
   "cell_type": "markdown",
   "metadata": {},
   "source": [
    "#### Indexado de columnas"
   ]
  },
  {
   "cell_type": "code",
   "execution_count": null,
   "metadata": {},
   "outputs": [],
   "source": [
    "encuesta['chocolate'] #indexado de columnas por nombre"
   ]
  },
  {
   "cell_type": "code",
   "execution_count": null,
   "metadata": {},
   "outputs": [],
   "source": [
    "encuesta[['chocolate', 'fresa']] #varias columnas"
   ]
  },
  {
   "cell_type": "code",
   "execution_count": null,
   "metadata": {},
   "outputs": [],
   "source": [
    "#otra manera de indexar columnas por nombre\n",
    "encuesta.loc[:,\"chocolate\"]"
   ]
  },
  {
   "cell_type": "code",
   "execution_count": null,
   "metadata": {},
   "outputs": [],
   "source": [
    "encuesta.iloc[:,0] #referencia a columna por índice"
   ]
  },
  {
   "cell_type": "markdown",
   "metadata": {},
   "source": [
    "#### Indexado de celdas"
   ]
  },
  {
   "cell_type": "code",
   "execution_count": null,
   "metadata": {},
   "outputs": [],
   "source": [
    "encuesta.loc['hombre', 'chocolate'] #indexado de celda [fila, columna]"
   ]
  },
  {
   "cell_type": "code",
   "execution_count": null,
   "metadata": {},
   "outputs": [],
   "source": [
    "#equivalente: indexar una columna y en objeto pd.Series resultante indexar una fila\n",
    "encuesta['chocolate']['hombre']"
   ]
  },
  {
   "cell_type": "markdown",
   "metadata": {},
   "source": [
    "### Sumatorios"
   ]
  },
  {
   "cell_type": "code",
   "execution_count": null,
   "metadata": {},
   "outputs": [],
   "source": [
    "encuesta"
   ]
  },
  {
   "cell_type": "code",
   "execution_count": null,
   "metadata": {},
   "outputs": [],
   "source": [
    "#Podemos sumar las filas para ver totales por columnas (agregación por filas -index-)\n",
    "encuesta.sum(axis='index')"
   ]
  },
  {
   "cell_type": "code",
   "execution_count": null,
   "metadata": {},
   "outputs": [],
   "source": [
    "#O podemos sumar las columnas para ver totales por filas (agregación por columnas)\n",
    "encuesta.sum(axis='columns')"
   ]
  },
  {
   "cell_type": "code",
   "execution_count": null,
   "metadata": {},
   "outputs": [],
   "source": [
    "encuesta.sum() #por defecto agrega por axis=0 (filas)"
   ]
  },
  {
   "cell_type": "code",
   "execution_count": null,
   "metadata": {},
   "outputs": [],
   "source": [
    "#Totales de la tabla\n",
    "N = encuesta.sum().sum()\n",
    "N"
   ]
  },
  {
   "attachments": {},
   "cell_type": "markdown",
   "metadata": {},
   "source": [
    "### Conversión a `numPy`\n",
    "Podemos convertir de Pandas a NumPy y usar sus funciones"
   ]
  },
  {
   "cell_type": "code",
   "execution_count": null,
   "metadata": {},
   "outputs": [],
   "source": [
    "encuesta_np = encuesta.to_numpy()\n",
    "encuesta_np"
   ]
  },
  {
   "cell_type": "code",
   "execution_count": null,
   "metadata": {},
   "outputs": [],
   "source": [
    "type(encuesta_np)"
   ]
  },
  {
   "cell_type": "code",
   "execution_count": null,
   "metadata": {},
   "outputs": [],
   "source": [
    "encuesta_np.shape"
   ]
  },
  {
   "cell_type": "code",
   "execution_count": null,
   "metadata": {},
   "outputs": [],
   "source": [
    "encuesta_np.dtype"
   ]
  },
  {
   "cell_type": "code",
   "execution_count": null,
   "metadata": {},
   "outputs": [],
   "source": [
    "#numPy por defecto suma todos los elementos\n",
    "encuesta_np.sum()"
   ]
  },
  {
   "cell_type": "code",
   "execution_count": null,
   "metadata": {},
   "outputs": [],
   "source": [
    "encuesta_np.sum(axis=0) #suma por filas"
   ]
  },
  {
   "cell_type": "code",
   "execution_count": null,
   "metadata": {},
   "outputs": [],
   "source": [
    "encuesta_np.sum(axis=0).shape #suma por filas"
   ]
  },
  {
   "cell_type": "code",
   "execution_count": null,
   "metadata": {},
   "outputs": [],
   "source": [
    "encuesta_np.sum(axis=1) #suma por columnas"
   ]
  },
  {
   "cell_type": "code",
   "execution_count": null,
   "metadata": {},
   "outputs": [],
   "source": [
    "encuesta_np.sum(axis=1).shape #suma las columnas"
   ]
  },
  {
   "cell_type": "markdown",
   "metadata": {},
   "source": [
    "#### Probabilidad conjunta\n",
    "La probabilidad de que sucedan dos eventos a la vez."
   ]
  },
  {
   "cell_type": "code",
   "execution_count": null,
   "metadata": {},
   "outputs": [],
   "source": [
    "#Convertimos frecuencias a probabilidad (aprox. frecuentista)\n",
    "P = encuesta / N\n",
    "P"
   ]
  },
  {
   "attachments": {},
   "cell_type": "markdown",
   "metadata": {},
   "source": [
    "La probabilidad de todo el espacio muestral debe ser 1"
   ]
  },
  {
   "cell_type": "code",
   "execution_count": null,
   "metadata": {},
   "outputs": [],
   "source": [
    "P.sum().sum()"
   ]
  },
  {
   "cell_type": "markdown",
   "metadata": {},
   "source": [
    "Ejemplo, de los 920 participantes de la encuesta, ¿Cuál es la probabilidad de que el participante sea un hombre **y** prefiera el chocolate, $P(hombre, chocolate)$?"
   ]
  },
  {
   "cell_type": "code",
   "execution_count": null,
   "metadata": {},
   "outputs": [],
   "source": [
    "P.loc['hombre', 'chocolate']"
   ]
  },
  {
   "cell_type": "markdown",
   "metadata": {},
   "source": [
    "¿Cuál es la probabilidad de que el participante sea una mujer y prefiera la vainilla, $P(mujer, vainilla)$?"
   ]
  },
  {
   "cell_type": "code",
   "execution_count": null,
   "metadata": {},
   "outputs": [],
   "source": [
    "#completar\n"
   ]
  },
  {
   "attachments": {},
   "cell_type": "markdown",
   "metadata": {},
   "source": [
    "#### Probabilidad marginal\n",
    "La probabilidad **marginal** de una probabilidad conjunta se obtiene eliminando el efecto de un evento sobre la probabilidad conjunta (regla de la suma):  \n",
    "\\begin{align}\n",
    "P(A)=\\sum_B{P(A,B)}\n",
    "\\end{align} \n",
    "En la encuesta, la probabilidad $P(sabor)$ se obtiene sumando las probabilidades conjuntas: $P(sabor, hombre)+P(sabor, mujer)$"
   ]
  },
  {
   "cell_type": "code",
   "execution_count": null,
   "metadata": {},
   "outputs": [],
   "source": [
    "#Sumamos las filas\n",
    "P_sabor = P.sum(axis='index')\n",
    "P_sabor"
   ]
  },
  {
   "cell_type": "markdown",
   "metadata": {},
   "source": [
    "Ejemplo: la probabilidad de que un participante cualquiera prefiera el chocolate, $P(chocolate)$, es"
   ]
  },
  {
   "cell_type": "code",
   "execution_count": null,
   "metadata": {},
   "outputs": [],
   "source": [
    "P_sabor['chocolate']"
   ]
  },
  {
   "cell_type": "markdown",
   "metadata": {},
   "source": [
    "Este valor equivale a la suma  $P(hombre, chocolate) + P(mujer, chocolate)$"
   ]
  },
  {
   "cell_type": "code",
   "execution_count": null,
   "metadata": {},
   "outputs": [],
   "source": [
    "#comprobar [COMPLETAR]\n"
   ]
  },
  {
   "attachments": {},
   "cell_type": "markdown",
   "metadata": {},
   "source": [
    "Podemos calcular la probabilidad de $P(género)$ sumando por columnas:"
   ]
  },
  {
   "cell_type": "code",
   "execution_count": null,
   "metadata": {},
   "outputs": [],
   "source": [
    "P_genero = P.sum(axis='columns')\n",
    "P_genero"
   ]
  },
  {
   "cell_type": "markdown",
   "metadata": {},
   "source": [
    "Probabilidad de que el encuestado sea un hombre"
   ]
  },
  {
   "cell_type": "code",
   "execution_count": null,
   "metadata": {},
   "outputs": [],
   "source": [
    "#P('hombre')\n",
    "P_genero.loc['hombre']"
   ]
  },
  {
   "cell_type": "code",
   "execution_count": null,
   "metadata": {},
   "outputs": [],
   "source": [
    "#o también simplemente\n",
    "P_genero['hombre']"
   ]
  },
  {
   "cell_type": "markdown",
   "metadata": {},
   "source": [
    "Este valor equivale a la suma  $P(hombre, chocolate) + P(hombre, vainilla) + P(hombre, fresa)$ (regla de la suma) "
   ]
  },
  {
   "cell_type": "code",
   "execution_count": null,
   "metadata": {},
   "outputs": [],
   "source": [
    "P.loc['hombre', 'chocolate']+P.loc['hombre', 'vainilla']+P.loc['hombre', 'fresa']"
   ]
  },
  {
   "attachments": {},
   "cell_type": "markdown",
   "metadata": {},
   "source": [
    "#### Probabilidad condicionada\n",
    "La probabilidad de que suceda un evento dado que ha sucedido otro evento.  \n",
    "Ejemplo, si sabemos que el participante de la encuesta es un hombre, ¿cuál es la probilidad de que prefiera el chocolate, $P(chocolate|hombre)$?  \n",
    "Por la regla de la cadena:  \n",
    "\\begin{align}\n",
    "P(chocolate|hombre)=\\frac{P(chocolate,hombre)}{P(hombre)}\n",
    "\\end{align}"
   ]
  },
  {
   "cell_type": "code",
   "execution_count": null,
   "metadata": {},
   "outputs": [],
   "source": [
    "P_choco_hombre = P.loc['hombre', 'chocolate'] / P_genero['hombre']\n",
    "P_choco_hombre"
   ]
  },
  {
   "attachments": {},
   "cell_type": "markdown",
   "metadata": {},
   "source": [
    "Nótese que es distinta de la probabilidad $P(chocolate)$:"
   ]
  },
  {
   "cell_type": "code",
   "execution_count": null,
   "metadata": {},
   "outputs": [],
   "source": [
    "P_sabor['chocolate']"
   ]
  },
  {
   "attachments": {},
   "cell_type": "markdown",
   "metadata": {},
   "source": [
    "Es decir, que la probabilidad -global- de que a un encuestado le guste el chocolate es del 48%, pero disminuye a un 36% si sabemos que el encuestado es un hombre."
   ]
  },
  {
   "cell_type": "markdown",
   "metadata": {},
   "source": [
    "#### Ejercicio\n",
    "Calcula la probabilidad $P(chocolate|mujer)$"
   ]
  },
  {
   "cell_type": "code",
   "execution_count": null,
   "metadata": {},
   "outputs": [],
   "source": [
    "#completar\n"
   ]
  },
  {
   "cell_type": "markdown",
   "metadata": {},
   "source": [
    "Podemos calcular la probabilidad de cada sabor condicionada por género para cada entrada de la tabla en una sola operación."
   ]
  },
  {
   "cell_type": "code",
   "execution_count": null,
   "metadata": {},
   "outputs": [],
   "source": [
    "P #recordamos"
   ]
  },
  {
   "cell_type": "code",
   "execution_count": null,
   "metadata": {},
   "outputs": [],
   "source": [
    "#dividimos cada columna (sabor) por la P_genero\n",
    "#convertimos P_genero en vector columna para hacer broadcasting\n",
    "\n",
    "#P(sabor|genero) = P(sabor,genero)/P(genero)\n",
    "P_s_g = P.to_numpy() / P_genero.to_numpy().reshape(-1,1)\n",
    "P_s_g"
   ]
  },
  {
   "attachments": {},
   "cell_type": "markdown",
   "metadata": {},
   "source": [
    "Puesto 'en bonito' de nuevo"
   ]
  },
  {
   "cell_type": "code",
   "execution_count": null,
   "metadata": {},
   "outputs": [],
   "source": [
    "#muestra en \"bonito\" la probabilidad condicionada de 'sabor' dado 'género'\n",
    "P_s_g = pd.DataFrame(P_s_g, columns = P.columns, index = P.index)\n",
    "display(P_s_g)"
   ]
  },
  {
   "cell_type": "markdown",
   "metadata": {},
   "source": [
    "*donde*"
   ]
  },
  {
   "cell_type": "code",
   "execution_count": null,
   "metadata": {},
   "outputs": [],
   "source": [
    "P.to_numpy() "
   ]
  },
  {
   "cell_type": "code",
   "execution_count": null,
   "metadata": {},
   "outputs": [],
   "source": [
    "P.to_numpy().shape"
   ]
  },
  {
   "cell_type": "code",
   "execution_count": null,
   "metadata": {},
   "outputs": [],
   "source": [
    "P_genero.to_numpy()"
   ]
  },
  {
   "cell_type": "code",
   "execution_count": null,
   "metadata": {},
   "outputs": [],
   "source": [
    "P_genero.to_numpy().shape"
   ]
  },
  {
   "cell_type": "code",
   "execution_count": null,
   "metadata": {},
   "outputs": [],
   "source": [
    "P_genero.to_numpy().reshape(-1,1) #convertimos a vector columna (dim 2x1)"
   ]
  },
  {
   "cell_type": "code",
   "execution_count": null,
   "metadata": {},
   "outputs": [],
   "source": [
    "P_genero.to_numpy().reshape(-1,1).shape"
   ]
  },
  {
   "cell_type": "code",
   "execution_count": null,
   "metadata": {},
   "outputs": [],
   "source": [
    "#alternativa para convertir P_genero en vector columna\n",
    "\n",
    "from numpy import newaxis\n",
    "P_genero.to_numpy()[:,newaxis]"
   ]
  },
  {
   "cell_type": "markdown",
   "metadata": {},
   "source": [
    "Pandas es inteligente a la hora de hacer \"broadcasting\".  \n",
    "P.ej. podemos condicionar cada género por sabor ($P(género|sabor)$):"
   ]
  },
  {
   "cell_type": "code",
   "execution_count": null,
   "metadata": {},
   "outputs": [],
   "source": [
    "#P(genero|sabor) = P(sabor,genero)/P(sabor)\n",
    "#dividimos cada fila (género) por la P_sabor\n",
    "\n",
    "P_g_s = P.to_numpy() / P_sabor.to_numpy().reshape(1,-1)\n",
    "P_g_s"
   ]
  },
  {
   "cell_type": "markdown",
   "metadata": {},
   "source": [
    "*donde*"
   ]
  },
  {
   "cell_type": "code",
   "execution_count": null,
   "metadata": {},
   "outputs": [],
   "source": [
    "P_sabor"
   ]
  },
  {
   "cell_type": "code",
   "execution_count": null,
   "metadata": {},
   "outputs": [],
   "source": [
    "P_sabor.to_numpy()"
   ]
  },
  {
   "cell_type": "code",
   "execution_count": null,
   "metadata": {},
   "outputs": [],
   "source": [
    "P_sabor.to_numpy().shape"
   ]
  },
  {
   "cell_type": "code",
   "execution_count": null,
   "metadata": {},
   "outputs": [],
   "source": [
    "P_sabor.to_numpy().reshape(1,-1) #convierte a vector fila"
   ]
  },
  {
   "cell_type": "code",
   "execution_count": null,
   "metadata": {},
   "outputs": [],
   "source": [
    "P_sabor.to_numpy().reshape(1,-1).shape #convierte a vector fila"
   ]
  },
  {
   "cell_type": "code",
   "execution_count": null,
   "metadata": {},
   "outputs": [],
   "source": [
    "#también hubiera funcionado\n",
    "P.to_numpy() / P_sabor.to_numpy()"
   ]
  },
  {
   "cell_type": "code",
   "execution_count": null,
   "metadata": {},
   "outputs": [],
   "source": [
    "#muestra en \"bonito\" la probabilidad condicionada de 'género' dado 'sabor'\n",
    "P_g_s = pd.DataFrame(P_g_s, columns = P.columns, index = P.index)\n",
    "display(P_g_s)"
   ]
  },
  {
   "cell_type": "markdown",
   "metadata": {},
   "source": [
    "P. ej. la probabilidad de que siendo mujer le guste la fresa $P(fresa|mujer)$ es"
   ]
  },
  {
   "cell_type": "code",
   "execution_count": null,
   "metadata": {},
   "outputs": [],
   "source": [
    "P_s_g.loc['mujer', 'fresa']"
   ]
  },
  {
   "attachments": {},
   "cell_type": "markdown",
   "metadata": {},
   "source": [
    "La probabilidad de ser mujer si te gusta la fresa, $P(mujer|fresa)$:"
   ]
  },
  {
   "cell_type": "code",
   "execution_count": null,
   "metadata": {},
   "outputs": [],
   "source": [
    "P_g_s.loc['mujer', 'fresa']"
   ]
  },
  {
   "cell_type": "markdown",
   "metadata": {},
   "source": [
    "#### Ley de la probabilidad total\n",
    "Se puede calcular la probabilidad de un evento como la suma de todas sus probabilidades condicionales.  \n",
    "Ejemplo: la probabilidad de que el participante de la encuesta prefiera el chocolate es la suma:  \n",
    "  \n",
    "$P(chocolate) = \\underset{genero}{ \\sum} P(chocolate|genero) \\times P(genero) =P(chocolate|hombre) \\times P(hombre) + P(chocolate|mujer) \\times P(mujer)$  \n"
   ]
  },
  {
   "cell_type": "code",
   "execution_count": null,
   "metadata": {},
   "outputs": [],
   "source": [
    "P_sabor['chocolate']"
   ]
  },
  {
   "cell_type": "code",
   "execution_count": null,
   "metadata": {},
   "outputs": [],
   "source": [
    "#P(sabor|género) es P_s_g.loc['género', 'sabor']\n",
    "\n",
    "P_choco = (P_s_g.loc['hombre', 'chocolate'] * P_genero['hombre'] + \n",
    "           P_s_g.loc['mujer', 'chocolate'] * P_genero['mujer'])\n",
    "P_choco"
   ]
  },
  {
   "cell_type": "code",
   "execution_count": null,
   "metadata": {},
   "outputs": [],
   "source": [
    "#La probabilidad total de cada sabor se puede calcular con el producto matricial\n",
    "# P_genero x P_sabor_genero\n",
    "# dim(1,2) x dim(2,3) = dim(1,3)\n",
    "P_genero.to_numpy().dot(P_s_g)"
   ]
  },
  {
   "cell_type": "markdown",
   "metadata": {},
   "source": [
    "*donde*"
   ]
  },
  {
   "cell_type": "code",
   "execution_count": null,
   "metadata": {},
   "outputs": [],
   "source": [
    "P_genero.to_numpy() #convierte a vector fila"
   ]
  },
  {
   "cell_type": "code",
   "execution_count": null,
   "metadata": {},
   "outputs": [],
   "source": [
    "P_s_g #se convierte automáticamente a numpy al hacer el producto matricial"
   ]
  },
  {
   "cell_type": "markdown",
   "metadata": {},
   "source": [
    "#### Independencia\n",
    "Dos eventos son independientes si $P(A, B) = P(A) \\cdot P(B)$   \n",
    "¿se cumple para los datos de la encuesta?"
   ]
  },
  {
   "cell_type": "code",
   "execution_count": null,
   "metadata": {},
   "outputs": [],
   "source": [
    "P.loc['hombre', 'chocolate'] == P_genero['hombre'] * P_sabor['chocolate']"
   ]
  },
  {
   "cell_type": "code",
   "execution_count": null,
   "metadata": {},
   "outputs": [],
   "source": [
    "P.loc['hombre', 'chocolate']"
   ]
  },
  {
   "cell_type": "code",
   "execution_count": null,
   "metadata": {},
   "outputs": [],
   "source": [
    "P_genero['hombre'] * P_sabor['chocolate']"
   ]
  },
  {
   "cell_type": "markdown",
   "metadata": {},
   "source": [
    "Otra manera de comprobar independencia es ver si $P(G|S) = P(G)$  \n",
    "Para eso podemos calcular si la probabilidad de 'hombre' es igual dado el gusto del participante  "
   ]
  },
  {
   "cell_type": "code",
   "execution_count": null,
   "metadata": {},
   "outputs": [],
   "source": [
    "#P(hombre|sabor) = P(hombre, sabor) / P(sabor)\n",
    "P.loc['hombre'] / P.sum()"
   ]
  },
  {
   "cell_type": "code",
   "execution_count": null,
   "metadata": {},
   "outputs": [],
   "source": [
    "#mientras que P(hombre) es\n",
    "P.sum(axis=1)[\"hombre\"]"
   ]
  },
  {
   "attachments": {},
   "cell_type": "markdown",
   "metadata": {},
   "source": [
    "Vemos que esta probabilidad $P(hombre|sabor)$ es distinta para cada sabor, por lo que hombre y sabor NO son independientes: la probabilidad de que el encuestado sea hombre depende del sabor preferido."
   ]
  },
  {
   "cell_type": "markdown",
   "metadata": {},
   "source": [
    "## Ejemplo práctico\n",
    "### Dataset 'Titanic'\n",
    "Vamos a utilizar un listado de pasajeros del Titanic para estudiar probabilidades de supervivencia de los pasajeros en función de su género y su clase. \n",
    "Primero cargamos los datos como `DataFrame` de Pandas.  "
   ]
  },
  {
   "cell_type": "code",
   "execution_count": null,
   "metadata": {},
   "outputs": [],
   "source": [
    "#Cargamos el dataset\n",
    "titanic = pd.read_csv('titanic.csv')"
   ]
  },
  {
   "cell_type": "code",
   "execution_count": null,
   "metadata": {},
   "outputs": [],
   "source": [
    "titanic.info()"
   ]
  },
  {
   "cell_type": "code",
   "execution_count": null,
   "metadata": {},
   "outputs": [],
   "source": [
    "#Mostramos primeras columnas como ejemplo\n",
    "titanic.head()"
   ]
  },
  {
   "cell_type": "code",
   "execution_count": null,
   "metadata": {},
   "outputs": [],
   "source": [
    "#Convertimos columna 'Sex' a categoría\n",
    "titanic['Sex'] = titanic['Sex'].astype('category')"
   ]
  },
  {
   "cell_type": "code",
   "execution_count": null,
   "metadata": {},
   "outputs": [],
   "source": [
    "titanic.info()"
   ]
  },
  {
   "attachments": {},
   "cell_type": "markdown",
   "metadata": {},
   "source": [
    "### Análisis exploratorio (EDA)\n",
    "Realizamos un primer análisis de cada variable del dataset (supervivencia, clase, género)"
   ]
  },
  {
   "cell_type": "code",
   "execution_count": null,
   "metadata": {},
   "outputs": [],
   "source": [
    "titanic['Survived'].value_counts()"
   ]
  },
  {
   "cell_type": "code",
   "execution_count": null,
   "metadata": {},
   "outputs": [],
   "source": [
    "titanic['Pclass'].value_counts()"
   ]
  },
  {
   "cell_type": "code",
   "execution_count": null,
   "metadata": {},
   "outputs": [],
   "source": [
    "titanic['Sex'].value_counts()"
   ]
  },
  {
   "attachments": {},
   "cell_type": "markdown",
   "metadata": {},
   "source": [
    "### Visualización\n",
    "Usamos la librería `seaborn`, https://seaborn.pydata.org/tutorial/categorical.html#bar-plots"
   ]
  },
  {
   "cell_type": "code",
   "execution_count": null,
   "metadata": {},
   "outputs": [],
   "source": [
    "# Nº supervivientes\n",
    "sns.countplot(data=titanic, x=\"Survived\")\n",
    "plt.show()"
   ]
  },
  {
   "cell_type": "code",
   "execution_count": null,
   "metadata": {},
   "outputs": [],
   "source": [
    "# Nº pasajeros por clase\n",
    "sns.countplot(data=titanic, x=\"Pclass\")\n",
    "plt.show()"
   ]
  },
  {
   "cell_type": "code",
   "execution_count": null,
   "metadata": {},
   "outputs": [],
   "source": [
    "#Edad media frente a clase\n",
    "sns.barplot(data=titanic, x=\"Pclass\", y=\"Age\")\n",
    "plt.show()"
   ]
  },
  {
   "cell_type": "code",
   "execution_count": null,
   "metadata": {},
   "outputs": [],
   "source": [
    "#visualizamos Survived frente a Sex\n",
    "#seaborn toma la media de Y para representar cada categoría en X\n",
    "sns.barplot(data=titanic, x=\"Sex\", y=\"Survived\", ci=None) #media de \"survived\" por \"Sex\"\n",
    "plt.show()"
   ]
  },
  {
   "cell_type": "code",
   "execution_count": null,
   "metadata": {},
   "outputs": [],
   "source": [
    "#supervivientes por clase\n",
    "sns.barplot(data=titanic, x=\"Pclass\", y=\"Survived\", ci=None)\n",
    "plt.show()"
   ]
  },
  {
   "cell_type": "code",
   "execution_count": null,
   "metadata": {},
   "outputs": [],
   "source": [
    "#supervivientes por clase y sexo\n",
    "sns.barplot(data=titanic, x=\"Pclass\", y=\"Survived\", hue=\"Sex\", ci=None)\n",
    "plt.show()"
   ]
  },
  {
   "cell_type": "code",
   "execution_count": null,
   "metadata": {},
   "outputs": [],
   "source": [
    "#edad media según supervivencia por clase\n",
    "sns.barplot(data=titanic, x=\"Pclass\", y=\"Age\", hue=\"Survived\", ci=None)\n",
    "plt.show()"
   ]
  },
  {
   "attachments": {},
   "cell_type": "markdown",
   "metadata": {},
   "source": [
    "### Tablas de contingencia\n",
    "Contamos agrupando por variables"
   ]
  },
  {
   "cell_type": "code",
   "execution_count": null,
   "metadata": {},
   "outputs": [],
   "source": [
    "#Tabla de contingencia: nº de pasajeros por supervivencia y sexo\n",
    "pd.crosstab(index=titanic['Survived'], columns=titanic['Sex'])"
   ]
  },
  {
   "cell_type": "code",
   "execution_count": null,
   "metadata": {},
   "outputs": [],
   "source": [
    "#Tabla de contingencia: nº de pasajeros por sexo y supervivencia\n",
    "pd.crosstab(index=titanic['Sex'], columns=titanic['Survived'])"
   ]
  },
  {
   "cell_type": "code",
   "execution_count": null,
   "metadata": {},
   "outputs": [],
   "source": [
    "#Tabla de contingencia: nº de pasajeros por clase y sexo\n",
    "pd.crosstab(index=titanic['Pclass'], columns=titanic['Sex'])"
   ]
  },
  {
   "cell_type": "code",
   "execution_count": null,
   "metadata": {},
   "outputs": [],
   "source": [
    "#Tabla de contingencia: nº de pasajeros por supervivencia y clase\n",
    "pd.crosstab(index=titanic['Survived'], columns=titanic['Pclass'])"
   ]
  },
  {
   "cell_type": "code",
   "execution_count": null,
   "metadata": {},
   "outputs": [],
   "source": [
    "#Tabla de contingencia: nº de supervivientes por sexo y clase (multi-columna)\n",
    "titanic_surv = pd.crosstab(index=titanic['Survived'], columns=[titanic['Sex'],titanic['Pclass']])\n",
    "titanic_surv"
   ]
  },
  {
   "cell_type": "code",
   "execution_count": null,
   "metadata": {},
   "outputs": [],
   "source": [
    "titanic_surv.info()"
   ]
  },
  {
   "attachments": {},
   "cell_type": "markdown",
   "metadata": {},
   "source": [
    "cada columna es una tupla de dos elementos:"
   ]
  },
  {
   "cell_type": "code",
   "execution_count": null,
   "metadata": {},
   "outputs": [],
   "source": [
    "titanic_surv.columns"
   ]
  },
  {
   "cell_type": "code",
   "execution_count": null,
   "metadata": {},
   "outputs": [],
   "source": [
    "titanic_surv.loc[0] #indexado de filas"
   ]
  },
  {
   "cell_type": "code",
   "execution_count": null,
   "metadata": {},
   "outputs": [],
   "source": [
    "titanic_surv.loc[:,\"male\"] #indexado de columna superior"
   ]
  },
  {
   "cell_type": "code",
   "execution_count": null,
   "metadata": {},
   "outputs": [],
   "source": [
    "titanic_surv.loc[:,(\"male\",2)] #indexado multicolumna"
   ]
  },
  {
   "cell_type": "code",
   "execution_count": null,
   "metadata": {},
   "outputs": [],
   "source": [
    "titanic_surv.xs(1, axis='columns', level=\"Pclass\") #indexado columna inferior"
   ]
  },
  {
   "attachments": {},
   "cell_type": "markdown",
   "metadata": {},
   "source": [
    "### Probabilidad conjunta\n",
    "Normalizamos a probabilidades la tabla de contingencias"
   ]
  },
  {
   "cell_type": "code",
   "execution_count": null,
   "metadata": {},
   "outputs": [],
   "source": [
    "N = len(titanic)\n",
    "N"
   ]
  },
  {
   "cell_type": "code",
   "execution_count": null,
   "metadata": {},
   "outputs": [],
   "source": [
    "titanic_frec = titanic_surv / N\n",
    "round(titanic_frec, 4)"
   ]
  },
  {
   "attachments": {},
   "cell_type": "markdown",
   "metadata": {},
   "source": [
    "Por ejemplo, probabilidad de supervivencia para mujeres de clase 2: $P(Survived, female, 2)$"
   ]
  },
  {
   "cell_type": "code",
   "execution_count": null,
   "metadata": {},
   "outputs": [],
   "source": [
    "titanic_frec.loc[1, (\"female\", 2)]"
   ]
  },
  {
   "cell_type": "code",
   "execution_count": null,
   "metadata": {},
   "outputs": [],
   "source": [
    "titanic_frec.loc[1][(\"female\", 2)] #equivalente"
   ]
  },
  {
   "cell_type": "code",
   "execution_count": null,
   "metadata": {},
   "outputs": [],
   "source": [
    "titanic_frec[(\"female\", 2)][1] #última manera"
   ]
  },
  {
   "cell_type": "code",
   "execution_count": null,
   "metadata": {},
   "outputs": [],
   "source": [
    "#Tabla de contingencia multi-índice (supervivencia y sexo por clase)\n",
    "titanic_frec_2 = pd.crosstab(index=[titanic['Survived'],titanic['Sex']], columns=[titanic['Pclass']]) / N\n",
    "round(titanic_frec_2, 4)"
   ]
  },
  {
   "cell_type": "code",
   "execution_count": null,
   "metadata": {},
   "outputs": [],
   "source": [
    "titanic_frec_2.info()"
   ]
  },
  {
   "attachments": {},
   "cell_type": "markdown",
   "metadata": {},
   "source": [
    "Cada índice es una tupla de 2 elementos:"
   ]
  },
  {
   "cell_type": "code",
   "execution_count": null,
   "metadata": {},
   "outputs": [],
   "source": [
    "titanic_frec_2.index"
   ]
  },
  {
   "cell_type": "markdown",
   "metadata": {},
   "source": [
    "De esta tabla obtenemos las probabilidades conjuntas de los tres eventos (supervivencia, género, clase)"
   ]
  },
  {
   "cell_type": "code",
   "execution_count": null,
   "metadata": {},
   "outputs": [],
   "source": [
    "titanic_frec"
   ]
  },
  {
   "cell_type": "code",
   "execution_count": null,
   "metadata": {},
   "outputs": [],
   "source": [
    "titanic_frec.loc[0] #No Supervivientes (label 0) por género y clase\n",
    "#cuidado, aquí '0' es una etiqueta y no un índice"
   ]
  },
  {
   "cell_type": "code",
   "execution_count": null,
   "metadata": {},
   "outputs": [],
   "source": [
    "#P(no supervivencia, mujer, clase 2)\n",
    "#cuidado, aquí '0' es una etiqueta y no un índice\n",
    "titanic_frec.loc[0, ('female', 2)]"
   ]
  },
  {
   "cell_type": "code",
   "execution_count": null,
   "metadata": {},
   "outputs": [],
   "source": [
    "#P(no supervivencia, mujer, todas las clases)\n",
    "titanic_frec.loc[0, ('female')]"
   ]
  },
  {
   "cell_type": "code",
   "execution_count": null,
   "metadata": {},
   "outputs": [],
   "source": [
    "#o también\n",
    "titanic_frec.loc[0, 'female']"
   ]
  },
  {
   "cell_type": "code",
   "execution_count": null,
   "metadata": {},
   "outputs": [],
   "source": [
    "#o incluso\n",
    "titanic_frec.loc[0]['female']"
   ]
  },
  {
   "cell_type": "code",
   "execution_count": null,
   "metadata": {},
   "outputs": [],
   "source": [
    "#última manera\n",
    "titanic_frec['female'].loc[0]"
   ]
  },
  {
   "attachments": {},
   "cell_type": "markdown",
   "metadata": {},
   "source": [
    "Para calcular las probabilidad de supervivencia de la clase 1, $P(clase=1)$, hay que aplicar la regla de la suma sobre todas las columnas `PClass=1` por lo que hay que seleccionar el segundo nivel del multindex por columna con el método `xs` (*cross-section*):  "
   ]
  },
  {
   "cell_type": "code",
   "execution_count": null,
   "metadata": {},
   "outputs": [],
   "source": [
    "titanic_frec"
   ]
  },
  {
   "cell_type": "code",
   "execution_count": null,
   "metadata": {},
   "outputs": [],
   "source": [
    "titanic_frec.xs(1, axis='columns', level='Pclass') #Supervivencia por género para clase 1"
   ]
  },
  {
   "cell_type": "code",
   "execution_count": null,
   "metadata": {},
   "outputs": [],
   "source": [
    "titanic_frec.xs(1, axis='columns', level='Pclass')['female'] #Supervivencia para mujeres de clase 1"
   ]
  },
  {
   "cell_type": "code",
   "execution_count": null,
   "metadata": {},
   "outputs": [],
   "source": [
    "titanic_frec.loc[:,('female',1)] #equivale a lo anterior: indexamos una columna multi-índice"
   ]
  },
  {
   "cell_type": "code",
   "execution_count": null,
   "metadata": {},
   "outputs": [],
   "source": [
    "#pasajeros con Sex='female'\n",
    "titanic_frec.xs('female', axis='columns', level='Sex')"
   ]
  },
  {
   "cell_type": "code",
   "execution_count": null,
   "metadata": {},
   "outputs": [],
   "source": [
    "#en este caso, al ser el primer nivel también sirve\n",
    "titanic_frec.loc[:,'female']"
   ]
  },
  {
   "cell_type": "code",
   "execution_count": null,
   "metadata": {},
   "outputs": [],
   "source": [
    "#o incluso más simple\n",
    "titanic_frec['female']"
   ]
  },
  {
   "attachments": {},
   "cell_type": "markdown",
   "metadata": {},
   "source": [
    "Repasamos ahora el indexado multi-índice"
   ]
  },
  {
   "cell_type": "code",
   "execution_count": null,
   "metadata": {},
   "outputs": [],
   "source": [
    "titanic_frec_2"
   ]
  },
  {
   "cell_type": "code",
   "execution_count": null,
   "metadata": {},
   "outputs": [],
   "source": [
    "#indexamos por el primer nivel del índice: seleccionamos filas para Survived=1\n",
    "titanic_frec_2.loc[1]"
   ]
  },
  {
   "cell_type": "code",
   "execution_count": null,
   "metadata": {},
   "outputs": [],
   "source": [
    "#indexamos por el segundo nivel del índice: seleccionamos filas para Sex='males'\n",
    "titanic_frec_2.xs('male', axis='index', level='Sex')"
   ]
  },
  {
   "cell_type": "code",
   "execution_count": null,
   "metadata": {},
   "outputs": [],
   "source": [
    "titanic_frec[[('female', 1), ('male', 3)]] #seleccionamos columnas concretas multi-índice"
   ]
  },
  {
   "cell_type": "code",
   "execution_count": null,
   "metadata": {},
   "outputs": [],
   "source": [
    "titanic_frec.loc[1][('female', 1)] #supervivientes clase 1, female"
   ]
  },
  {
   "cell_type": "code",
   "execution_count": null,
   "metadata": {},
   "outputs": [],
   "source": [
    "titanic_frec.loc[1, ('female', 1)]"
   ]
  },
  {
   "cell_type": "markdown",
   "metadata": {},
   "source": [
    "### Ejercicio  \n",
    "Calcula las probabilidades condicionales siguientes:  \n",
    " * $P(Survived=True|Género=male)$ \n",
    " * $P(Survived=True|Clase=1)$  \n",
    " * $P(Survived=True|Género=male, Clase=1)$  \n",
    " "
   ]
  },
  {
   "cell_type": "markdown",
   "metadata": {},
   "source": [
    "Solución de $P(Survived=True|Género=male)$  "
   ]
  },
  {
   "cell_type": "code",
   "execution_count": null,
   "metadata": {},
   "outputs": [],
   "source": [
    "#recuerda\n",
    "titanic_frec"
   ]
  },
  {
   "cell_type": "code",
   "execution_count": null,
   "metadata": {},
   "outputs": [],
   "source": [
    "#Solución\n"
   ]
  },
  {
   "cell_type": "markdown",
   "metadata": {},
   "source": [
    "Solución de $P(Survived=True|Clase=1)$  "
   ]
  },
  {
   "cell_type": "code",
   "execution_count": null,
   "metadata": {},
   "outputs": [],
   "source": [
    "#Solución\n"
   ]
  },
  {
   "cell_type": "markdown",
   "metadata": {},
   "source": [
    "Solución de $P(Survived=True|Género=male, Clase=1)$   \n",
    "Aquí hay que aplicar la regla de la cadena:  \n",
    "$P(Survived=True|Género=male, Clase=1) = P(Survived=True, Género=male, Clase=1) / P(Género=male, Clase=1)$"
   ]
  },
  {
   "cell_type": "code",
   "execution_count": null,
   "metadata": {},
   "outputs": [],
   "source": [
    "#Solución\n"
   ]
  },
  {
   "cell_type": "markdown",
   "metadata": {},
   "source": [
    "### Independencia de las variables\n",
    "¿son independientes género y clase?  \n",
    "Si lo son debe cumplirse la igualdad $P(G,C)=P(G)*P(C)$  \n",
    "Lo comprobamos para género='male' y clase=1"
   ]
  },
  {
   "cell_type": "code",
   "execution_count": null,
   "metadata": {},
   "outputs": [],
   "source": [
    "#P(G,C)\n",
    "P_h_c1 = sum(titanic_frec[('male',1)]) #P(male, class1)\n",
    "P_h_c1"
   ]
  },
  {
   "cell_type": "code",
   "execution_count": null,
   "metadata": {},
   "outputs": [],
   "source": [
    "#P(G)\n",
    "P_h = titanic_frec['male'].sum().sum() #P(male)\n",
    "P_h"
   ]
  },
  {
   "cell_type": "code",
   "execution_count": null,
   "metadata": {},
   "outputs": [],
   "source": [
    "#P(C)\n",
    "P_c1 = titanic_frec.xs(1, axis=1, level='Pclass').sum().sum() #P(class1)\n",
    "P_c1"
   ]
  },
  {
   "cell_type": "code",
   "execution_count": null,
   "metadata": {},
   "outputs": [],
   "source": [
    "#P(G)*P(C)\n",
    "P_h * P_c1"
   ]
  },
  {
   "cell_type": "markdown",
   "metadata": {},
   "source": [
    "**No** son independientes.  \n",
    "Otra manera de comprobarlo es mirar si $P(G|C) = P(G)$"
   ]
  },
  {
   "cell_type": "code",
   "execution_count": null,
   "metadata": {},
   "outputs": [],
   "source": [
    "#P(hombre|c1) = P(hombre, clase1) / P(clase1)\n",
    "P_h_c_1 = P_h_c1 / P_c1"
   ]
  },
  {
   "cell_type": "code",
   "execution_count": null,
   "metadata": {},
   "outputs": [],
   "source": [
    "P_h_c_1"
   ]
  },
  {
   "cell_type": "code",
   "execution_count": null,
   "metadata": {},
   "outputs": [],
   "source": [
    "P_h"
   ]
  },
  {
   "attachments": {},
   "cell_type": "markdown",
   "metadata": {},
   "source": [
    "Podemos comprobar para ambos sexos a la vez"
   ]
  },
  {
   "cell_type": "code",
   "execution_count": null,
   "metadata": {},
   "outputs": [],
   "source": [
    "p_sex_c = pd.crosstab(index=titanic['Sex'], columns=titanic['Pclass']) / N\n",
    "p_sex_c"
   ]
  },
  {
   "cell_type": "code",
   "execution_count": null,
   "metadata": {},
   "outputs": [],
   "source": [
    "#P(G|C) = P(G,C) / P(C)\n",
    "p_sex_c / p_sex_c.sum()"
   ]
  },
  {
   "cell_type": "code",
   "execution_count": null,
   "metadata": {},
   "outputs": [],
   "source": [
    "#mientras que P(G) es\n",
    "p_sex_c.sum(axis=1)"
   ]
  },
  {
   "attachments": {},
   "cell_type": "markdown",
   "metadata": {},
   "source": [
    "El hecho de ser hombre y viajar en clase 1 no son independientes (la prob. de ser hombre es menor entre los pasajeros de la clase 1). Generalizando, la prob. de pertenecer a un sexo depende de la clase en la que se viajaba"
   ]
  },
  {
   "cell_type": "code",
   "execution_count": null,
   "metadata": {},
   "outputs": [],
   "source": [
    "# ¿es independiente la probabilidad de supervencia de la clase?\n",
    "#P(S|c1)=P(S) ??\n",
    "P_S_c1 = (titanic_frec.xs(1, axis=1, level='Pclass').loc[1].sum() /\n",
    "          titanic_frec.xs(1, axis=1, level='Pclass').sum().sum())#P(S|c1) = P(S,c1)/P(c1)\n",
    "\n",
    "P_S_c1"
   ]
  },
  {
   "attachments": {},
   "cell_type": "markdown",
   "metadata": {},
   "source": [
    "¿es independiente probabilidad de supervivencia y clase?  \n",
    "La probabilidad de supervivencia condicionada a cada clase es:"
   ]
  },
  {
   "cell_type": "code",
   "execution_count": null,
   "metadata": {},
   "outputs": [],
   "source": [
    "#para todas las clases\n",
    "# P(S|C) = P(S,C) / P(C)\n",
    "titanic_frec_surv_class = pd.crosstab(index=titanic[\"Survived\"], columns=titanic[\"Pclass\"])/N\n",
    "titanic_frec_surv_class.loc[1] / titanic_frec_surv_class.sum()"
   ]
  },
  {
   "attachments": {},
   "cell_type": "markdown",
   "metadata": {},
   "source": [
    "Pero la probabilidad global de supervivencia, $P(S=1)$ es:  "
   ]
  },
  {
   "cell_type": "code",
   "execution_count": null,
   "metadata": {},
   "outputs": [],
   "source": [
    "P_S = titanic_frec.loc[1].sum() #P(S)\n",
    "\n",
    "P_S"
   ]
  },
  {
   "attachments": {},
   "cell_type": "markdown",
   "metadata": {},
   "source": [
    "No es independiente la probabilidad de supervivencia y la clase.  \n",
    "Por otro lado, ¿es independiente probabilidad de supervivencia y género?  "
   ]
  },
  {
   "cell_type": "code",
   "execution_count": null,
   "metadata": {},
   "outputs": [],
   "source": [
    "#P(S|G) = P(S,G) / P(G)\n",
    "titanic_frec_surv_sex = pd.crosstab(index=titanic[\"Survived\"], columns=titanic[\"Sex\"])/N\n",
    "titanic_frec_surv_sex.loc[1] / titanic_frec_surv_sex.sum()"
   ]
  },
  {
   "attachments": {},
   "cell_type": "markdown",
   "metadata": {},
   "source": [
    "No es independiente porque la probabilidad de supervivencia cambia cuando se condiciona al género."
   ]
  },
  {
   "cell_type": "markdown",
   "metadata": {},
   "source": [
    "## Teorema de Bayes\n",
    "### Ejercicio práctico: sistema de diagnóstico de Meningitis  \n",
    "* La meningitis (M) causa el síntoma de rigidez de cuello (S) en un 50% de los casos: $P(S|M)=0.5$    \n",
    "* se conoce también la probabilidad a priori de que un paciente tenga meningitis: $P(M)=1/50000$    \n",
    "* se conoce la probabilidad a priori de que un paciente tenga rigidez de cuello $P(S)=1/20$    \n",
    "\n",
    "Por tanto podemos calcular $P(M|S)$ (probabilidad de que un paciente con rigidez de cuello sufra una meningitis)"
   ]
  },
  {
   "cell_type": "code",
   "execution_count": null,
   "metadata": {},
   "outputs": [],
   "source": [
    "pS_M = 0.5\n",
    "pM = 1/50000\n",
    "pS = 1/20\n",
    "\n",
    "#teorema de Bayes: P(M|S) = P(S|M)*P(M)/P(S)\n",
    "pM_S = (pS_M*pM) / pS\n",
    "pM_S"
   ]
  },
  {
   "cell_type": "code",
   "execution_count": null,
   "metadata": {},
   "outputs": [],
   "source": [
    "#probabilidad a priori de tener meningitis\n",
    "pM"
   ]
  },
  {
   "cell_type": "code",
   "execution_count": null,
   "metadata": {},
   "outputs": [],
   "source": [
    "#probabilidad a posteriori de tener meningitis, dado que se tiene rigidez de cuello\n",
    "pM_S"
   ]
  },
  {
   "attachments": {},
   "cell_type": "markdown",
   "metadata": {},
   "source": [
    "La probabilidad de tener meningitis si se tiene rigidez de cuello aumenta en un factor:\n"
   ]
  },
  {
   "cell_type": "code",
   "execution_count": null,
   "metadata": {},
   "outputs": [],
   "source": [
    "pM_S / pM"
   ]
  },
  {
   "cell_type": "markdown",
   "metadata": {},
   "source": [
    "Ahora evaluamos cómo varía $P(M|S)$ cuando varía $P(S)$ (probabilidad a priori de tener rigidez de cuello)"
   ]
  },
  {
   "cell_type": "code",
   "execution_count": null,
   "metadata": {},
   "outputs": [],
   "source": [
    "pSarray = np.arange(start=1/20, stop=1, step=1/20)\n",
    "pM_Sarray = [pS_M*pM/pS for pS in pSarray]\n",
    "\n",
    "pSarray"
   ]
  },
  {
   "cell_type": "code",
   "execution_count": null,
   "metadata": {},
   "outputs": [],
   "source": [
    "plt.plot(pSarray, pM_Sarray)\n",
    "plt.xlabel('P(S)')\n",
    "plt.ylabel('P(M|S)')\n",
    "plt.grid()\n",
    "plt.title(\"Probabilidad de meningitis en función de P(S)\")\n",
    "plt.show()"
   ]
  },
  {
   "attachments": {},
   "cell_type": "markdown",
   "metadata": {},
   "source": [
    "Cuando más probable es el síntoma de la rigidez de cuello, menos informativo es para nuestros propósitos (menos probable de que se deba a una meningitis)"
   ]
  },
  {
   "attachments": {},
   "cell_type": "markdown",
   "metadata": {},
   "source": [
    "### Ejercicio práctico: PCR para detectar COVID-19  \n",
    "* Un test PCR tiene una sensibilidad del 93% y una especificidad del 99%    \n",
    "* La prevalencia estimada de COVID-19 es del 10% de la población en general\n",
    "\n",
    "Si una PCR tiene un resultado positivo, ¿cuál es la probabilidad *real* de tener COVID-19? ¿y si el paciente se hace una segunda PCR y también es positiva?  \n",
    "¿qué pasaría si baja la prevalencia del COVID-19 al 1%? ¿y si la especificidad del test es del 95%?  \n",
    "**Ayuda:**  \n",
    "*sensibilidad = P(PCR|C)* [Prob. de test positivo cuando se tiene COVID],  \n",
    "*especificidad = P(noPCR|noC)* [Prob. de test negativo cuando no se tiene COVID]"
   ]
  },
  {
   "cell_type": "code",
   "execution_count": null,
   "metadata": {},
   "outputs": [],
   "source": [
    "# Solución\n"
   ]
  },
  {
   "cell_type": "code",
   "execution_count": null,
   "metadata": {},
   "outputs": [],
   "source": [
    "#para la segunda PCR:\n"
   ]
  },
  {
   "cell_type": "code",
   "execution_count": null,
   "metadata": {},
   "outputs": [],
   "source": [
    "#si baja la prevalencia de la COVID-19 al 1%\n"
   ]
  },
  {
   "cell_type": "code",
   "execution_count": null,
   "metadata": {},
   "outputs": [],
   "source": [
    "#si baja la especificidad del test al 95%\n"
   ]
  },
  {
   "attachments": {},
   "cell_type": "markdown",
   "metadata": {},
   "source": [
    "## Variables aleatorias\n",
    "Una variable aleatoria es una variable que toma valores numéricos de un fenómeno aleatorio (con una determinada distribución de probabilidad). Las variables aleatorias pueden ser `discretas` o `continuas`.  \n",
    "### Variables discretas\n",
    "Suponemos que tenemos una población con los números enteros del 1 al 6 (por ejemplo al lanzar un dado de 6 caras).  "
   ]
  },
  {
   "cell_type": "code",
   "execution_count": null,
   "metadata": {},
   "outputs": [],
   "source": [
    "np.random.seed(12345)\n",
    "x=np.arange(6)+1\n",
    "\n",
    "x"
   ]
  },
  {
   "cell_type": "markdown",
   "metadata": {},
   "source": [
    "Selección de muestras al azar (de manera aleatoria uniforme)"
   ]
  },
  {
   "cell_type": "code",
   "execution_count": null,
   "metadata": {},
   "outputs": [],
   "source": [
    "#Permutación de la población\n",
    "np.random.shuffle(x) #Ojo, no devuelve un array sino que modifica el original\n",
    "x"
   ]
  },
  {
   "cell_type": "code",
   "execution_count": null,
   "metadata": {},
   "outputs": [],
   "source": [
    "#otra manera\n",
    "np.random.permutation(x) #devuelve un array con las permutaciones"
   ]
  },
  {
   "cell_type": "code",
   "execution_count": null,
   "metadata": {},
   "outputs": [],
   "source": [
    "x #no modifica el array original"
   ]
  },
  {
   "cell_type": "code",
   "execution_count": null,
   "metadata": {},
   "outputs": [],
   "source": [
    "#última manera\n",
    "np.random.permutation(6)+1 #genera un array de [0...5] y lo permuta"
   ]
  },
  {
   "cell_type": "code",
   "execution_count": null,
   "metadata": {},
   "outputs": [],
   "source": [
    "#muestreo de la población sin reemplazo\n",
    "np.random.choice(x, 3, replace=False)"
   ]
  },
  {
   "cell_type": "code",
   "execution_count": null,
   "metadata": {},
   "outputs": [],
   "source": [
    "#muestreo con reemplazo\n",
    "np.random.choice(x, 10, replace=True)"
   ]
  },
  {
   "cell_type": "code",
   "execution_count": null,
   "metadata": {},
   "outputs": [],
   "source": [
    "#repetición del experimento 10 veces\n",
    "a=np.array([np.random.choice(x, 3, replace=False) for i in range(10)])\n",
    "a"
   ]
  },
  {
   "cell_type": "code",
   "execution_count": null,
   "metadata": {},
   "outputs": [],
   "source": [
    "#¿qué dimensiones tiene este array?\n",
    "a.shape"
   ]
  },
  {
   "cell_type": "markdown",
   "metadata": {},
   "source": [
    "## Distribuciones de probabilidad"
   ]
  },
  {
   "attachments": {},
   "cell_type": "markdown",
   "metadata": {},
   "source": [
    "La distribución de probabilidad (PMF de sus siglas en inglés) de una variable discreta es una lista de las probabilidades asociadas a cada valor posible.  \n",
    "La función de distribución acumulativa (CDF) es indica la probabilidad de que una variable aleatoria X sea menor o igual que x.  \n",
    "En Python, podemos generar muestras aleatorias para distintas funciones de distribución con el paquete `numpy.random.Generator` (https://numpy.org/doc/stable/reference/random/generator.html).  \n",
    "Podemos calcular la PMF y la CDF de distintas distribuciones con el paquete `scipy.stats` (https://docs.scipy.org/doc/scipy/reference/stats.html)  "
   ]
  },
  {
   "cell_type": "markdown",
   "metadata": {},
   "source": [
    "## Distribuciones discretas\n",
    "### Distribución uniforme\n",
    "Generamos una secuencia uniforme de números enteros entre 0 y 9"
   ]
  },
  {
   "cell_type": "code",
   "execution_count": null,
   "metadata": {},
   "outputs": [],
   "source": [
    "size = 1000\n",
    "n = 10\n",
    "s = np.random.choice(np.arange(n), size, replace=True)\n",
    "s.shape"
   ]
  },
  {
   "cell_type": "code",
   "execution_count": null,
   "metadata": {},
   "outputs": [],
   "source": [
    "s[:10]"
   ]
  },
  {
   "cell_type": "code",
   "execution_count": null,
   "metadata": {},
   "outputs": [],
   "source": [
    "#frecuencia de cada número\n",
    "counts = np.unique(s, return_counts=True)\n",
    "counts"
   ]
  },
  {
   "cell_type": "markdown",
   "metadata": {},
   "source": [
    "#### Distribución de probabilidad"
   ]
  },
  {
   "cell_type": "code",
   "execution_count": null,
   "metadata": {},
   "outputs": [],
   "source": [
    "fig, ax = plt.subplots()\n",
    "ax = sns.countplot(x=s, label='Simulación', color='b')\n",
    "ax.set_xlabel(\"Valor\",fontsize=16)\n",
    "ax.set_ylabel(\"Frecuencia\",fontsize=16)\n",
    "x = range(n)\n",
    "ax.plot(x, np.ones(n)*size/n, 'ro', label='PMF uniforme')\n",
    "ax.vlines(x, 0, np.ones(n)*size/n, 'r', lw=5, alpha=0.5)\n",
    "plt.legend()\n",
    "plt.show()"
   ]
  },
  {
   "cell_type": "markdown",
   "metadata": {},
   "source": [
    "#### Función de probabilidad acumulada"
   ]
  },
  {
   "cell_type": "code",
   "execution_count": null,
   "metadata": {},
   "outputs": [],
   "source": [
    "#frecuencia acumulada\n",
    "counts[1].cumsum()"
   ]
  },
  {
   "cell_type": "code",
   "execution_count": null,
   "metadata": {},
   "outputs": [],
   "source": [
    "cdf = counts[1].cumsum() / size\n",
    "cdf"
   ]
  },
  {
   "cell_type": "code",
   "execution_count": null,
   "metadata": {},
   "outputs": [],
   "source": [
    "plt.subplots()\n",
    "plt.plot(counts[0], counts[1].cumsum()/size, label='Simulación')\n",
    "plt.xlabel(\"Valor\",fontsize=16)\n",
    "plt.ylabel(\"CDF\",fontsize=16)\n",
    "plt.plot(x, (np.ones(n)*size/n).cumsum()/size, 'r', label='CDF uniforme')\n",
    "plt.legend()\n",
    "plt.grid()\n",
    "plt.show()"
   ]
  },
  {
   "attachments": {},
   "cell_type": "markdown",
   "metadata": {},
   "source": [
    "### Distribución binomial\n",
    "P. ej. si la probabilidad de que suceda un evento (acierto) es p=0.3 y repetimos el evento 10 veces, ¿cuál es la probabilidad de que suceda el evento $x$ veces ( $PDF(x, n=10, p=0,3)$ )?  \n",
    "Lo simulamos con `np.random.default_rng().binomial`.  \n",
    "Podemos calcular el valor teórico del la PMF con el método `pmf` de la clase `scipy.stats.binom`."
   ]
  },
  {
   "cell_type": "code",
   "execution_count": null,
   "metadata": {},
   "outputs": [],
   "source": [
    "from scipy.stats import binom\n",
    "size = 1000 #nº de veces que repetimos la simulación\n",
    "n = 10\n",
    "p = 0.3\n",
    "s = np.random.default_rng().binomial(n, p, size)"
   ]
  },
  {
   "cell_type": "code",
   "execution_count": null,
   "metadata": {},
   "outputs": [],
   "source": [
    "s.shape"
   ]
  },
  {
   "cell_type": "code",
   "execution_count": null,
   "metadata": {},
   "outputs": [],
   "source": [
    "s[:10]"
   ]
  },
  {
   "cell_type": "code",
   "execution_count": null,
   "metadata": {},
   "outputs": [],
   "source": [
    "np.unique(s, return_counts=True)"
   ]
  },
  {
   "attachments": {},
   "cell_type": "markdown",
   "metadata": {},
   "source": [
    "P. ej. valor teórico de la PMF de una distribución binomial (n=10, p=0.3) para el evento 0 (probabilidad de que ocurran 0 eventos para 10 ejecuciones):"
   ]
  },
  {
   "cell_type": "code",
   "execution_count": null,
   "metadata": {},
   "outputs": [],
   "source": [
    "binom.pmf(0, n, p)"
   ]
  },
  {
   "cell_type": "markdown",
   "metadata": {},
   "source": [
    "Para 1000 realizaciones del experimento"
   ]
  },
  {
   "cell_type": "code",
   "execution_count": null,
   "metadata": {},
   "outputs": [],
   "source": [
    "binom.pmf(0, n, p) * size"
   ]
  },
  {
   "cell_type": "code",
   "execution_count": null,
   "metadata": {},
   "outputs": [],
   "source": [
    "fig, ax = plt.subplots()\n",
    "ax = sns.countplot(x=s, label='Simulación', color='b')\n",
    "ax.set_xlabel(\"Número de aciertos\",fontsize=16)\n",
    "ax.set_ylabel(\"Frecuencia\",fontsize=16)\n",
    "x = range(n+1)\n",
    "ax.plot(x, binom.pmf(x, n, p)*size, 'ro', label='PMF binomial')\n",
    "ax.vlines(x, 0, binom.pmf(x, n, p)*size, colors='r', lw=5, alpha=0.5)\n",
    "plt.legend()\n",
    "plt.show()"
   ]
  },
  {
   "cell_type": "code",
   "execution_count": null,
   "metadata": {},
   "outputs": [],
   "source": [
    "#frecuencia teórica de acertar 7 veces en 1000 simulaciones\n",
    "binom.pmf(7,10,0.3)*1000"
   ]
  },
  {
   "cell_type": "code",
   "execution_count": null,
   "metadata": {},
   "outputs": [],
   "source": [
    "#CDF\n",
    "#normalizamos frecuencias a probabilidad\n",
    "prob=pd.Series(s).value_counts().sort_index()/size\n",
    "prob"
   ]
  },
  {
   "cell_type": "code",
   "execution_count": null,
   "metadata": {},
   "outputs": [],
   "source": [
    "#otra manera\n",
    "counts = np.unique(s, return_counts=True)\n",
    "counts[1]/size"
   ]
  },
  {
   "cell_type": "code",
   "execution_count": null,
   "metadata": {},
   "outputs": [],
   "source": [
    "#prob. acumulada\n",
    "prob.cumsum()"
   ]
  },
  {
   "cell_type": "code",
   "execution_count": null,
   "metadata": {},
   "outputs": [],
   "source": [
    "#CDF teórica de acertar 7 veces o menos en 10 repeticiones\n",
    "binom.cdf(7, n, p)"
   ]
  },
  {
   "cell_type": "code",
   "execution_count": null,
   "metadata": {},
   "outputs": [],
   "source": [
    "fig, ax = plt.subplots()\n",
    "ax = prob.cumsum().plot(label='Simulación')\n",
    "ax.set_xlabel(\"Número de aciertos\",fontsize=16)\n",
    "ax.set_ylabel(\"CDF\",fontsize=16)\n",
    "x = range(n+1)\n",
    "ax.plot(x, binom.cdf(x, n, p), 'ro', label='CDF binomial')\n",
    "plt.legend()\n",
    "plt.grid()\n",
    "plt.show()"
   ]
  },
  {
   "cell_type": "code",
   "execution_count": null,
   "metadata": {},
   "outputs": [],
   "source": [
    "#Probabilidad de tener entre 4 y 7 aciertos\n",
    "binom.cdf(7, n, p)-binom.cdf(3, n, p)"
   ]
  },
  {
   "cell_type": "code",
   "execution_count": null,
   "metadata": {},
   "outputs": [],
   "source": [
    "#Probabilidad acertar 3 o menos veces\n",
    "binom.cdf(3, n, p)"
   ]
  },
  {
   "cell_type": "code",
   "execution_count": null,
   "metadata": {},
   "outputs": [],
   "source": [
    "#al lanzar una moneda 100 veces, ¿cuál es la probabilidad de que salga exactamente 20 caras?\n",
    "binom.pmf(20, 100, 0.5)"
   ]
  },
  {
   "cell_type": "code",
   "execution_count": null,
   "metadata": {},
   "outputs": [],
   "source": [
    "#al lanzar una moneda 100 veces, ¿cuál es la probabilidad de que salga 20 caras o menos?\n",
    "binom.cdf(20, 100, 0.5)"
   ]
  },
  {
   "cell_type": "code",
   "execution_count": null,
   "metadata": {},
   "outputs": [],
   "source": [
    "#al lanzar una moneda 100 veces, ¿cuál es la probabilidad de que salga 50 caras o menos?\n",
    "binom.cdf(50, 100, 0.5)"
   ]
  },
  {
   "cell_type": "code",
   "execution_count": null,
   "metadata": {},
   "outputs": [],
   "source": [
    "#al lanzar una moneda 100 veces, ¿cuál es la probabilidad de que salgan más de 50 caras?\n",
    "1-binom.cdf(50,100,0.5)"
   ]
  },
  {
   "attachments": {},
   "cell_type": "markdown",
   "metadata": {},
   "source": [
    "#### Valor esperado\n",
    "El valor esperado de una variable aleatoria es el valor medio que toma la variable para un gran número de ejecuciones. Se define como:  \n",
    "\\begin{align}\n",
    "E[X]=\\sum{xp(x)} \n",
    "\\end{align}\n",
    "Calculamos el valor esperado en una variable con distribución binomial:"
   ]
  },
  {
   "cell_type": "code",
   "execution_count": null,
   "metadata": {},
   "outputs": [],
   "source": [
    "fig, ax = plt.subplots()\n",
    "ax.vlines(prob.index, 0, prob, colors='r', lw=5, alpha=0.5)\n",
    "ax.set_xlabel(\"Número de aciertos\",fontsize=16)\n",
    "ax.set_ylabel(\"Probabilidad\",fontsize=16)\n",
    "plt.show()"
   ]
  },
  {
   "cell_type": "code",
   "execution_count": null,
   "metadata": {},
   "outputs": [],
   "source": [
    "prob"
   ]
  },
  {
   "cell_type": "code",
   "execution_count": null,
   "metadata": {},
   "outputs": [],
   "source": [
    "#valor de la simulación\n",
    "E=sum(prob.index*prob)\n",
    "E"
   ]
  },
  {
   "cell_type": "code",
   "execution_count": null,
   "metadata": {},
   "outputs": [],
   "source": [
    "#valor teórico\n",
    "x=range(10+1)\n",
    "E=sum(x*binom.pmf(x, n, p))\n",
    "E"
   ]
  },
  {
   "attachments": {},
   "cell_type": "markdown",
   "metadata": {},
   "source": [
    "#### Ejemplo\n",
    "Si realizamos un cuestionario con n=10 preguntas con 4 opciones cada respuesta, y la persona que realiza la prueba responde al azar, ¿Cuál es la nota esperada? ¿cuál es la probabilidad de aprobar? ¿Y si penalizamos con 0.25 puntos la respuesta equivocada?"
   ]
  },
  {
   "cell_type": "code",
   "execution_count": null,
   "metadata": {},
   "outputs": [],
   "source": [
    "#Solución: sin penalización\n",
    "n = 10\n",
    "p = 1/4\n",
    "#la probabilidad de acertar x preguntas sigue una distribución binomial\n",
    "x = range(n+1)\n",
    "p_x = binom.pmf(x, n, p)"
   ]
  },
  {
   "cell_type": "code",
   "execution_count": null,
   "metadata": {},
   "outputs": [],
   "source": [
    "plt.plot(x, p_x, 'ro', )\n",
    "plt.vlines(x, 0, p_x, colors='r', lw=5, alpha=0.5)\n",
    "plt.xlabel(\"Número de aciertos\",fontsize=16)\n",
    "plt.ylabel(\"Probabilidad\",fontsize=16)\n",
    "plt.grid()\n",
    "plt.show()"
   ]
  },
  {
   "cell_type": "code",
   "execution_count": null,
   "metadata": {},
   "outputs": [],
   "source": [
    "#la nota esperada es la suma de cada x por su probabilidad\n",
    "nota_esperada = np.sum(x*p_x)\n",
    "nota_esperada"
   ]
  },
  {
   "cell_type": "code",
   "execution_count": null,
   "metadata": {},
   "outputs": [],
   "source": [
    "#Simular 1000 exámenes y obtener la nota media de todos los exámenes\n",
    "\n",
    "size = 1000\n",
    "n = 10\n",
    "p = 1/4\n",
    "s = np.random.default_rng().binomial(n, p, size)"
   ]
  },
  {
   "cell_type": "code",
   "execution_count": null,
   "metadata": {},
   "outputs": [],
   "source": [
    "s.mean()"
   ]
  },
  {
   "cell_type": "code",
   "execution_count": null,
   "metadata": {},
   "outputs": [],
   "source": [
    "#¿cuál es la probabilidad de sacar al menos un 3?\n",
    "1-binom.cdf(2, n, p) #Hay que acertar más de 2 preguntas"
   ]
  },
  {
   "cell_type": "code",
   "execution_count": null,
   "metadata": {},
   "outputs": [],
   "source": [
    "#¿cuál es la prob de aprobar?\n",
    "1-binom.cdf(4, n, p) "
   ]
  },
  {
   "cell_type": "markdown",
   "metadata": {},
   "source": [
    "Aplicando penalización"
   ]
  },
  {
   "cell_type": "code",
   "execution_count": null,
   "metadata": {},
   "outputs": [],
   "source": [
    "#si acierta x preguntas, falla n-x preguntas con una penalización de -1/4\n",
    "nota_esperada = np.sum(x*p_x) - np.sum((np.ones(n+1)*n-x)*p_x*1/4)\n",
    "nota_esperada"
   ]
  },
  {
   "cell_type": "code",
   "execution_count": null,
   "metadata": {},
   "outputs": [],
   "source": [
    "#donde el número de preguntas falladas es 10-(nº aciertos)\n",
    "(np.ones(n+1)*n-x)"
   ]
  },
  {
   "cell_type": "code",
   "execution_count": null,
   "metadata": {},
   "outputs": [],
   "source": [
    "#Representamos Nota final con penalización según nº de aciertos\n",
    "plt.plot(x-(np.ones(n+1)*n-x)*1/4)\n",
    "plt.axhline(y=5, color='red')\n",
    "plt.xlabel('Nº de aciertos')\n",
    "plt.ylabel('Nota')\n",
    "plt.grid()\n",
    "plt.show()"
   ]
  },
  {
   "attachments": {},
   "cell_type": "markdown",
   "metadata": {},
   "source": [
    "Hace falta acertar al menos 6 preguntas para aprobar:"
   ]
  },
  {
   "cell_type": "code",
   "execution_count": null,
   "metadata": {},
   "outputs": [],
   "source": [
    "#nota obtenida para cada nº de aciertos\n",
    "pd.Series(x-(np.ones(n+1)*n-x)*1/4)"
   ]
  },
  {
   "attachments": {},
   "cell_type": "markdown",
   "metadata": {},
   "source": [
    "Con penalización, ¿cuál es la prob. de sacar más de 3?"
   ]
  },
  {
   "cell_type": "code",
   "execution_count": null,
   "metadata": {},
   "outputs": [],
   "source": [
    "#hace falta al menos acertar 5 preguntas (nota: 3,75)\n",
    "1-binom.cdf(4, n, p)"
   ]
  },
  {
   "attachments": {},
   "cell_type": "markdown",
   "metadata": {},
   "source": [
    "Probabilidad de aprobar con penalización. Hay que acertar al menos 6 preguntas"
   ]
  },
  {
   "cell_type": "code",
   "execution_count": null,
   "metadata": {},
   "outputs": [],
   "source": [
    "1-binom.cdf(5, n, p) #prob. acumulada de acercar 6 o más preguntas"
   ]
  },
  {
   "cell_type": "markdown",
   "metadata": {},
   "source": [
    "### Distribución multinomial\n",
    "Es una generalización de la distribución binomial, en la que cada experimento puede tomar un valor de entre  $p$  valores posibles.  \n",
    "Ejemplo: si lanzamos un dado (equilibrado) 20 veces, ¿cuántas veces sale cada valor?"
   ]
  },
  {
   "cell_type": "code",
   "execution_count": null,
   "metadata": {},
   "outputs": [],
   "source": [
    "veces = 20\n",
    "p = [1/6]*6 #probabilidad de cada cara"
   ]
  },
  {
   "cell_type": "code",
   "execution_count": null,
   "metadata": {},
   "outputs": [],
   "source": [
    "#nº de veces que sale cada cara al lanzar 20 veces el dado\n",
    "s = np.random.default_rng().multinomial(veces, p, size=1)\n",
    "s"
   ]
  },
  {
   "cell_type": "code",
   "execution_count": null,
   "metadata": {},
   "outputs": [],
   "source": [
    "np.sum(s)"
   ]
  },
  {
   "cell_type": "markdown",
   "metadata": {},
   "source": [
    "Si repetimos el experimento muchas veces, dado que la probabilidad es igual para todo los lados, la tendencia es a tener una distribución uniforme de valores"
   ]
  },
  {
   "cell_type": "code",
   "execution_count": null,
   "metadata": {},
   "outputs": [],
   "source": [
    "s = np.random.default_rng().multinomial(veces, p, size=1000)"
   ]
  },
  {
   "cell_type": "code",
   "execution_count": null,
   "metadata": {},
   "outputs": [],
   "source": [
    "s.shape"
   ]
  },
  {
   "cell_type": "code",
   "execution_count": null,
   "metadata": {},
   "outputs": [],
   "source": [
    "np.mean(s, axis=0)"
   ]
  },
  {
   "cell_type": "code",
   "execution_count": null,
   "metadata": {},
   "outputs": [],
   "source": [
    "np.mean(s, axis=0).sum()"
   ]
  },
  {
   "cell_type": "markdown",
   "metadata": {},
   "source": [
    "Si repetimos infinitas veces el experimiento de lanzar 20 veces el dado, cada lado debe salir 20/6 veces"
   ]
  },
  {
   "cell_type": "code",
   "execution_count": null,
   "metadata": {},
   "outputs": [],
   "source": [
    "20/6"
   ]
  },
  {
   "cell_type": "code",
   "execution_count": null,
   "metadata": {},
   "outputs": [],
   "source": [
    "plt.bar(x=np.arange(6)+1, height=np.mean(s, axis=0))\n",
    "plt.axhline(y=20/6, color='red')\n",
    "plt.xlabel('Valor del dado')\n",
    "plt.ylabel('Nº de veces que sale')\n",
    "plt.show()"
   ]
  },
  {
   "attachments": {},
   "cell_type": "markdown",
   "metadata": {},
   "source": [
    "Suponemos un dado trucado en el que el 4 tiene el doble de probabilidad de salir que el resto de caras:"
   ]
  },
  {
   "cell_type": "code",
   "execution_count": null,
   "metadata": {},
   "outputs": [],
   "source": [
    "#Calculamos la probabilidad de cada evento (cada una de las caras)\n",
    "prob = [1,1,1,2,1,1]\n",
    "p=np.array(prob)/sum(prob) #normalizamos las probabilidades\n",
    "p"
   ]
  },
  {
   "cell_type": "code",
   "execution_count": null,
   "metadata": {},
   "outputs": [],
   "source": [
    "np.random.default_rng().multinomial(veces, p, size=1)"
   ]
  },
  {
   "cell_type": "code",
   "execution_count": null,
   "metadata": {},
   "outputs": [],
   "source": [
    "s = np.random.default_rng().multinomial(veces, p, size=1000)\n",
    "s.mean(axis=0)"
   ]
  },
  {
   "cell_type": "code",
   "execution_count": null,
   "metadata": {},
   "outputs": [],
   "source": [
    "plt.bar(x=np.arange(6)+1, height=np.mean(s, axis=0))\n",
    "plt.xlabel('Valor del dado')\n",
    "plt.ylabel('Nº de veces que sale')\n",
    "plt.show()"
   ]
  },
  {
   "attachments": {},
   "cell_type": "markdown",
   "metadata": {},
   "source": [
    "### Distribución de Poisson\n",
    "Es una generalización de la distribución binomial para valores grandes de N.  \n",
    "#### Ejemplo:\n",
    "Nº de coches que pasan por una carretera en 1 hora para una estimación de 100 coches/hora"
   ]
  },
  {
   "cell_type": "code",
   "execution_count": null,
   "metadata": {},
   "outputs": [],
   "source": [
    "from scipy.stats import poisson\n",
    "\n",
    "lam = 100 #coches por hora\n",
    "s = np.random.default_rng().poisson(lam, size=1000) #simulamos 1000 repeticiones"
   ]
  },
  {
   "cell_type": "code",
   "execution_count": null,
   "metadata": {},
   "outputs": [],
   "source": [
    "s[:10]"
   ]
  },
  {
   "cell_type": "code",
   "execution_count": null,
   "metadata": {},
   "outputs": [],
   "source": [
    "s.shape"
   ]
  },
  {
   "cell_type": "code",
   "execution_count": null,
   "metadata": {},
   "outputs": [],
   "source": [
    "len(np.unique(s))"
   ]
  },
  {
   "cell_type": "code",
   "execution_count": null,
   "metadata": {},
   "outputs": [],
   "source": [
    "poisson.ppf(0.01, lam) #percentil 1% de coches por hora"
   ]
  },
  {
   "attachments": {},
   "cell_type": "markdown",
   "metadata": {},
   "source": [
    "Es decir, sólo el 1% de las veces pasan 77 coches o menos"
   ]
  },
  {
   "cell_type": "code",
   "execution_count": null,
   "metadata": {},
   "outputs": [],
   "source": [
    "poisson.ppf(0.99, lam) #percentil 99% de coches por hora"
   ]
  },
  {
   "cell_type": "code",
   "execution_count": null,
   "metadata": {},
   "outputs": [],
   "source": [
    "poisson.pmf(100, lam) #probabilidad de que pasen exactamente 100 coches/hora"
   ]
  },
  {
   "cell_type": "code",
   "execution_count": null,
   "metadata": {},
   "outputs": [],
   "source": [
    "poisson.pmf([50, 90, 100, 110, 150], lam) #probabilidad de que pasen exactamente esos coches/hora"
   ]
  },
  {
   "cell_type": "code",
   "execution_count": null,
   "metadata": {},
   "outputs": [],
   "source": [
    "#Probabilidad de que pasen más de 120 coches en una hora\n",
    "1 - poisson.cdf(120, lam)"
   ]
  },
  {
   "cell_type": "code",
   "execution_count": null,
   "metadata": {},
   "outputs": [],
   "source": [
    "count, bins, ignored = plt.hist(s, 25, density=True, label='Simulación')\n",
    "x = np.arange(poisson.ppf(0.01, lam),\n",
    "               poisson.ppf(0.99, lam))\n",
    "plt.plot(x, poisson.pmf(x, lam), linewidth=2, color='r', label='PDF Poisson')\n",
    "plt.xlabel(\"Nº coches/hora\")\n",
    "plt.ylabel(\"Probabilidad\")\n",
    "plt.legend()\n",
    "plt.show()"
   ]
  },
  {
   "cell_type": "code",
   "execution_count": null,
   "metadata": {},
   "outputs": [],
   "source": [
    "#suma de todas las probabilidades teóricas (ojo, se excluye el percentil 1% por cada extremo)\n",
    "sum(poisson.pmf(x, lam))"
   ]
  },
  {
   "attachments": {},
   "cell_type": "markdown",
   "metadata": {},
   "source": [
    "En la simulación, si contamos el nº de veces que pasan entre entre 77 y 124 coches (rango del percentil 98%):"
   ]
  },
  {
   "cell_type": "code",
   "execution_count": null,
   "metadata": {},
   "outputs": [],
   "source": [
    "\n",
    "sum(np.isin(s, x))/size"
   ]
  },
  {
   "cell_type": "code",
   "execution_count": null,
   "metadata": {},
   "outputs": [],
   "source": [
    "#CDF\n",
    "fig, ax = plt.subplots()\n",
    "ax.plot(bins[1:], count.cumsum()/count.sum(), 'o-', label='Simulación')\n",
    "ax.set_xlabel(\"Nº coches/hora\",fontsize=16)\n",
    "ax.set_ylabel(\"CDF\",fontsize=16)\n",
    "ax.plot(x, poisson.cdf(x, lam), linewidth=2, color='r', label='CDF Poisson')\n",
    "plt.legend()\n",
    "plt.grid()\n",
    "plt.show()"
   ]
  },
  {
   "cell_type": "code",
   "execution_count": null,
   "metadata": {},
   "outputs": [],
   "source": [
    "#¿cuál es la posibilidad de que pasen entre 90 y 110 coches en una hora?\n",
    "\n",
    "poisson.cdf(110, lam)-poisson.cdf(89, lam)"
   ]
  },
  {
   "attachments": {},
   "cell_type": "markdown",
   "metadata": {},
   "source": [
    "#### Ejemplo 2\n",
    "Imaginad que enviamos un paquete de bits de longitud $n = 10^4$ donde cada bit puede estar corrupto independientemente con una probabilidad $p=10^{-6}$.  \n",
    "¿cuál es la probabilidad de que se reciba un mensaje sin corromper?  \n",
    "Aquí $\\lambda=10^4 \\times 10^{-6}=0.01$ luego:  "
   ]
  },
  {
   "cell_type": "code",
   "execution_count": null,
   "metadata": {},
   "outputs": [],
   "source": [
    "lam = 0.1\n",
    "poisson.pmf(0, lam) #probabilidad de 0 eventos de error"
   ]
  },
  {
   "cell_type": "code",
   "execution_count": null,
   "metadata": {},
   "outputs": [],
   "source": [
    "#probabilidad de algún error\n",
    "1-poisson.pmf(0, lam)"
   ]
  },
  {
   "cell_type": "code",
   "execution_count": null,
   "metadata": {},
   "outputs": [],
   "source": [
    "#Probabilidad de tener N bits erróneos\n",
    "x = np.arange(10)\n",
    "plt.plot(x, poisson.pmf(x, lam), 'ro')\n",
    "plt.vlines(x, 0, poisson.pmf(x, lam), colors='r', lw=5, alpha=0.5)\n",
    "plt.xlabel(\"Nº bits erróneos\")\n",
    "plt.ylabel(\"Probabilidad\")\n",
    "plt.show()"
   ]
  },
  {
   "cell_type": "code",
   "execution_count": null,
   "metadata": {},
   "outputs": [],
   "source": [
    "#valor numérico de probabilidad\n",
    "pd.Series(np.round(poisson.pmf(x, lam), 3))"
   ]
  },
  {
   "cell_type": "markdown",
   "metadata": {},
   "source": [
    "### Ejemplo 3\n",
    "Analizamos los homicidios cometidos en Inglaterra y Gales entre 2013 y 2016 (https://www.ons.gov.uk/peoplepopulationandcommunity/crimeandjustice/compendium/focusonviolentcrimeandsexualoffences/yearendingmarch2016/homicide#statistical-interpretation-of-trends-in-homicides).  \n",
    "Vemos cómo el nº de homicidios por día sigue una estadística de Poisson (tomando como lambda la media de homicidios/día en ese período)."
   ]
  },
  {
   "cell_type": "code",
   "execution_count": null,
   "metadata": {},
   "outputs": [],
   "source": [
    "homicidios = pd.read_csv(\"homicidios.csv\")\n",
    "homicidios"
   ]
  },
  {
   "cell_type": "markdown",
   "metadata": {},
   "source": [
    "Calculamos la media de homicidios/día y sacamos la distribución de Poisson para comparar"
   ]
  },
  {
   "cell_type": "code",
   "execution_count": null,
   "metadata": {},
   "outputs": [],
   "source": [
    "total = np.sum(np.arange(8)*homicidios.Occurences)\n",
    "media = total / 365 / 3 #período de 3 años\n",
    "print(f'Ha habido un total de {total} homicidios, con una media de {media:.3f} homicidios/día')"
   ]
  },
  {
   "cell_type": "code",
   "execution_count": null,
   "metadata": {},
   "outputs": [],
   "source": [
    "homicidios[\"estimados\"] = poisson.pmf(np.arange(8), media) * (365*3)\n",
    "homicidios"
   ]
  },
  {
   "cell_type": "code",
   "execution_count": null,
   "metadata": {},
   "outputs": [],
   "source": [
    "fig, ax = plt.subplots()\n",
    "plt.bar(x=homicidios.Homicides, height=homicidios.Occurences, color='b', label=\"Observado\")\n",
    "ax.vlines(homicidios.Homicides, 0, homicidios.estimados, colors='r', lw=5, alpha=0.5, label=\"Estimado\")\n",
    "plt.plot(homicidios.Homicides, homicidios.estimados, 'ro')\n",
    "ax.set_xlabel(\"Número de homicidios/día\",fontsize=16)\n",
    "ax.set_ylabel(\"Ocurrencia\",fontsize=16)\n",
    "plt.legend()\n",
    "\n",
    "plt.show()"
   ]
  },
  {
   "cell_type": "markdown",
   "metadata": {},
   "source": [
    "## Distribuciones continuas\n",
    "### Distribución uniforme\n",
    "Lo podemos simular con `np.random.Generator.uniform`\n"
   ]
  },
  {
   "cell_type": "code",
   "execution_count": null,
   "metadata": {},
   "outputs": [],
   "source": [
    "size = 1000\n",
    "s = np.random.default_rng().uniform(size=size)"
   ]
  },
  {
   "cell_type": "code",
   "execution_count": null,
   "metadata": {},
   "outputs": [],
   "source": [
    "s[:10]"
   ]
  },
  {
   "cell_type": "code",
   "execution_count": null,
   "metadata": {},
   "outputs": [],
   "source": [
    "count, bins, ignored = plt.hist(s, 10, density=True, label='Simulación')\n",
    "plt.axhline(y=1, linewidth=2, color='r', label='PDF uniforme')\n",
    "plt.legend()\n",
    "plt.xlabel('x')\n",
    "plt.ylabel('frec. normalizada')\n",
    "plt.show()"
   ]
  },
  {
   "cell_type": "code",
   "execution_count": null,
   "metadata": {},
   "outputs": [],
   "source": [
    "#CDF\n",
    "plt.plot(bins[1:], count.cumsum()/np.sum(count), 'o-')\n",
    "plt.plot([0,1], [0,1], 'r')\n",
    "plt.xlabel('x')\n",
    "plt.ylabel('P(x)')\n",
    "plt.legend(['Simulación', 'CDF uniforme'])\n",
    "plt.grid()\n",
    "plt.show()"
   ]
  },
  {
   "cell_type": "markdown",
   "metadata": {},
   "source": [
    "### Distribución normal\n",
    "La podemos simular con `np.random.Generator.normal` y calcular con `scipy.stats.norm`.\n"
   ]
  },
  {
   "cell_type": "code",
   "execution_count": null,
   "metadata": {},
   "outputs": [],
   "source": [
    "mu, sigma = 0, 0.1 # media y desviación estándar\n",
    "size=1000\n",
    "s = np.random.default_rng().normal(mu, sigma, size)"
   ]
  },
  {
   "cell_type": "code",
   "execution_count": null,
   "metadata": {},
   "outputs": [],
   "source": [
    "s.shape"
   ]
  },
  {
   "cell_type": "code",
   "execution_count": null,
   "metadata": {},
   "outputs": [],
   "source": [
    "s[:10]"
   ]
  },
  {
   "cell_type": "code",
   "execution_count": null,
   "metadata": {},
   "outputs": [],
   "source": [
    "from scipy.stats import norm\n",
    "count, bins, ignored = plt.hist(s, 25, density=True, label='Simulación')\n",
    "x = np.linspace(mu-3*sigma, mu+3*sigma)\n",
    "plt.plot(x, norm.pdf(x, mu, sigma), linewidth=2, color='r', label='PDF normal')\n",
    "plt.xlabel(\"x\")\n",
    "plt.ylabel(\"PDF\")\n",
    "plt.legend()\n",
    "plt.grid()\n",
    "plt.show()"
   ]
  },
  {
   "cell_type": "markdown",
   "metadata": {},
   "source": [
    "La PDF está normalizada para que su CDF sea 1 (área bajo la curva)"
   ]
  },
  {
   "cell_type": "code",
   "execution_count": null,
   "metadata": {},
   "outputs": [],
   "source": [
    "#CDF\n",
    "plt.plot(bins[1:], count.cumsum()/np.sum(count), 'o-', label='CDF simulación')\n",
    "plt.plot(bins, norm.cdf(bins, mu, sigma), linewidth=2, color='r', label='CDF normal')\n",
    "plt.xlabel(\"x\")\n",
    "plt.ylabel(\"CDF\")\n",
    "plt.legend()\n",
    "plt.grid()\n",
    "plt.show()"
   ]
  },
  {
   "cell_type": "markdown",
   "metadata": {},
   "source": [
    "El CDF nos permite conocer la probabilidad de obtener un valor dentro de un rango:"
   ]
  },
  {
   "cell_type": "code",
   "execution_count": null,
   "metadata": {},
   "outputs": [],
   "source": [
    "#Probabilidad entre -sigma y 0\n",
    "norm.cdf(0, mu, sigma)-norm.cdf(-sigma, mu, sigma)"
   ]
  },
  {
   "cell_type": "code",
   "execution_count": null,
   "metadata": {},
   "outputs": [],
   "source": [
    "#Prob. de obtener un valor alrededor de una desv. estándar de la media\n",
    "norm.cdf(sigma, mu, sigma)-norm.cdf(-sigma, mu, sigma)"
   ]
  },
  {
   "cell_type": "code",
   "execution_count": null,
   "metadata": {},
   "outputs": [],
   "source": [
    "#probabilidad en el rango de 3 sigmas\n",
    "norm.cdf(3*sigma, mu, sigma)-norm.cdf(-3*sigma, mu, sigma)"
   ]
  },
  {
   "attachments": {},
   "cell_type": "markdown",
   "metadata": {},
   "source": [
    "## Método de Monte Carlo\n",
    "Permite simular un evento probabilísticamente sin necesidad de realizar el desarrollo matemático.  \n",
    "### Ejemplo\n",
    "Vamos a calcular la probabilidad de que la suma de lanzar 3 veces un dado sea 10"
   ]
  },
  {
   "cell_type": "code",
   "execution_count": null,
   "metadata": {},
   "outputs": [],
   "source": [
    "#simulamos el lanzamiento de 3 dados\n",
    "s = np.random.choice(np.arange(6)+1, 3, replace=True)\n",
    "sum(s)\n"
   ]
  },
  {
   "cell_type": "code",
   "execution_count": null,
   "metadata": {},
   "outputs": [],
   "source": [
    "#repetimos el lanzamiento n veces\n",
    "n = 10000\n",
    "a=np.array([np.random.choice(np.arange(6)+1, 3, replace=True) for i in range(n)])\n",
    "a.shape"
   ]
  },
  {
   "cell_type": "code",
   "execution_count": null,
   "metadata": {},
   "outputs": [],
   "source": [
    "#calculamos la suma de cada tirada\n",
    "sumas = a.sum(axis=1)\n",
    "sumas.shape"
   ]
  },
  {
   "cell_type": "code",
   "execution_count": null,
   "metadata": {},
   "outputs": [],
   "source": [
    "#representamos resultados\n",
    "counts=pd.Series(sumas).value_counts().sort_index()\n",
    "\n",
    "plt.plot(counts.index, counts, 'ro', )\n",
    "plt.vlines(counts.index, 0, counts, colors='r', lw=5, alpha=0.5)\n",
    "plt.xlabel(\"Valor de la suma\",fontsize=13)\n",
    "plt.ylabel(\"Nº de ocurrencias\",fontsize=13)\n",
    "plt.grid()\n",
    "plt.show()"
   ]
  },
  {
   "cell_type": "code",
   "execution_count": null,
   "metadata": {},
   "outputs": [],
   "source": [
    "#Probabilidad de suma=10\n",
    "counts.loc[10] / n"
   ]
  },
  {
   "attachments": {},
   "cell_type": "markdown",
   "metadata": {},
   "source": [
    "Recuerda que el valor más probable estimado es:"
   ]
  },
  {
   "cell_type": "code",
   "execution_count": null,
   "metadata": {},
   "outputs": [],
   "source": [
    "E = sum(1/6*(np.arange(6)+1)) #valor estimado para 1 dado\n",
    "E * 3 #suma para 3 dados"
   ]
  },
  {
   "attachments": {},
   "cell_type": "markdown",
   "metadata": {},
   "source": [
    "### Problema de Monty Python\n",
    "Vamos a calcular las probabilidades de ganar en el juego de Monty Hall según se cambie o no la puerta mediante simulación."
   ]
  },
  {
   "cell_type": "code",
   "execution_count": null,
   "metadata": {},
   "outputs": [],
   "source": [
    "def juego(cambio):\n",
    "    \"\"\"Calcula la probabilidad de ganar en el juego de Monty Hall\n",
    "    en función de si cambiamos (cambio=1) o no la puerta\"\"\"\n",
    "    P = np.arange(3) #puertas posibles\n",
    "    E = np.random.choice(3, 1) #puerta elegida\n",
    "    C = np.random.choice(3, 1) #puerta con el coche, sucesos independientes\n",
    "    Monty = np.random.choice(np.setdiff1d(P, np.union1d(E, C)), 1) #selección de Monty\n",
    "    E = E if cambio==0 else np.setdiff1d(P, np.union1d(E, Monty)) #elección final\n",
    "    \n",
    "    return(E==C)"
   ]
  },
  {
   "cell_type": "markdown",
   "metadata": {},
   "source": [
    "Explicación del código de la función"
   ]
  },
  {
   "cell_type": "code",
   "execution_count": null,
   "metadata": {},
   "outputs": [],
   "source": [
    "P = np.arange(3) #puertas posibles\n",
    "P"
   ]
  },
  {
   "cell_type": "code",
   "execution_count": null,
   "metadata": {},
   "outputs": [],
   "source": [
    "E = np.random.choice(3, 1) #puerta elegida\n",
    "E"
   ]
  },
  {
   "cell_type": "code",
   "execution_count": null,
   "metadata": {},
   "outputs": [],
   "source": [
    "C = np.random.choice(3, 1) #puerta con el coche, sucesos independientes\n",
    "C"
   ]
  },
  {
   "cell_type": "code",
   "execution_count": null,
   "metadata": {},
   "outputs": [],
   "source": [
    "np.union1d(E, C) #puertas que no puede elegir Monty"
   ]
  },
  {
   "cell_type": "code",
   "execution_count": null,
   "metadata": {},
   "outputs": [],
   "source": [
    "np.setdiff1d(P, np.union1d(E, C)) #puertas que puede elegir Monty"
   ]
  },
  {
   "cell_type": "code",
   "execution_count": null,
   "metadata": {},
   "outputs": [],
   "source": [
    "Monty=np.random.choice(np.setdiff1d(P, np.union1d(E, C))) #selección de Monty\n",
    "Monty"
   ]
  },
  {
   "cell_type": "code",
   "execution_count": null,
   "metadata": {},
   "outputs": [],
   "source": [
    "np.union1d(E, Monty) #puertas descartadas si se cambia la puerta"
   ]
  },
  {
   "cell_type": "code",
   "execution_count": null,
   "metadata": {},
   "outputs": [],
   "source": [
    "E == C #resultado final si el jugador NO cambia la puerta"
   ]
  },
  {
   "cell_type": "code",
   "execution_count": null,
   "metadata": {},
   "outputs": [],
   "source": [
    "E = np.setdiff1d(P,np.union1d(E, Monty)) #selección final si se cambia la puerta\n",
    "E"
   ]
  },
  {
   "cell_type": "code",
   "execution_count": null,
   "metadata": {},
   "outputs": [],
   "source": [
    "E == C #resultado final si el jugador SÍ cambia la puerta"
   ]
  },
  {
   "cell_type": "markdown",
   "metadata": {},
   "source": [
    "Simulamos el juego 1000 veces"
   ]
  },
  {
   "cell_type": "code",
   "execution_count": null,
   "metadata": {},
   "outputs": [],
   "source": [
    "N = 10000\n",
    "ganados = [juego(0) for i in range(N)]\n",
    "p_ganar = np.sum(ganados) / N\n",
    "\n",
    "plt.plot(np.cumsum(ganados)*100/(np.arange(N)+1))\n",
    "plt.xlabel('Nº de intentos')\n",
    "plt.ylabel('% intentos ganados')\n",
    "plt.title('% de intentos ganados cuando NO se cambia')\n",
    "plt.grid()\n",
    "plt.show()\n",
    "print(f'Gana un {p_ganar*100:.2f}% de las veces')"
   ]
  },
  {
   "cell_type": "code",
   "execution_count": null,
   "metadata": {},
   "outputs": [],
   "source": [
    "N = 10000\n",
    "ganados = [juego(1) for i in range(N)]\n",
    "p_ganar = np.sum(ganados) / N\n",
    "\n",
    "plt.plot(np.cumsum(ganados)*100/(np.arange(N)+1))\n",
    "plt.xlabel('Nº de intentos')\n",
    "plt.ylabel('% inttentos ganados')\n",
    "plt.title('porc. de intentos ganados cuando SI se cambia')\n",
    "plt.grid()\n",
    "plt.show()\n",
    "print(f'Gana un {p_ganar*100:.2f}% de las veces')"
   ]
  },
  {
   "cell_type": "markdown",
   "metadata": {},
   "source": [
    "### Estimación del valor de Pi\n",
    "Suponemos que tenemos un círculo de radio $r=1$ dentro de un cuadrado del mismo tamaño. Sabiendo que el área de un círculo tiene el valor $A=\\pi \\times r^2$,  lanzamos aleatoriamente dardos en toda la superficie del cuadrado, la proporción $p$ de dardos que quedan dentro del cículo deben de ser:\n",
    "$p=\\frac{\\pi \\times r^2}{(2r)^2}=\\frac{\\pi}{4}$   \n",
    "Luego:\n",
    "$\\pi=p \\times 4$  "
   ]
  },
  {
   "cell_type": "code",
   "execution_count": null,
   "metadata": {},
   "outputs": [],
   "source": [
    "import random as r\n",
    "import math as m\n",
    "\n",
    "# Número de dardos que caen dentro del círculo.\n",
    "inside = 0\n",
    "# Número total de dardos lanzados.\n",
    "total = 1000000\n",
    "\n",
    "# Iteramos para el total de dardos.\n",
    "for i in range(0, total):\n",
    "  # Generamos posición del dardo (x, y) en el rango [0, 1] con una distr. uniforme\n",
    "  \n",
    "    x = r.random()\n",
    "    y = r.random()\n",
    "  # Incrementamos el contador si el dardo cae dentro.\n",
    "    if m.sqrt(x**2 + y**2) <= 1.0:\n",
    "        inside += 1\n",
    "\n",
    "# dentro / total = pi / 4\n",
    "pi = (float(inside) / total) * 4\n",
    "pi\n"
   ]
  },
  {
   "cell_type": "code",
   "execution_count": null,
   "metadata": {},
   "outputs": [],
   "source": [
    "total=1000000\n",
    "#Versión vectorizada con numPy\n",
    "x = np.random.default_rng().uniform(size=total)\n",
    "y = np.random.default_rng().uniform(size=total)\n",
    "inside = np.sum(np.sqrt(x**2 + y**2) <= 1.0)\n",
    "pi = (float(inside) / total) * 4\n",
    "pi"
   ]
  },
  {
   "cell_type": "markdown",
   "metadata": {},
   "source": [
    "### Ejercicio\n",
    "Analizar cómo mejora la precisión de la estimación de $\\pi$ al aumentar el nº de dardos en la simulación.  \n",
    "Para eso hay que crear una función que calcule la estimación de $\\pi$ en función del nº de dardos (N) y hacer un barrido de N"
   ]
  },
  {
   "cell_type": "code",
   "execution_count": null,
   "metadata": {},
   "outputs": [],
   "source": [
    "#Mejora de la precisión de la simulación con el número de dardos\n",
    "def calcula_pi(n):\n",
    "    #completar\n",
    "\n",
    "\n"
   ]
  },
  {
   "cell_type": "code",
   "execution_count": null,
   "metadata": {},
   "outputs": [],
   "source": [
    "calcula_pi(100000)"
   ]
  },
  {
   "cell_type": "code",
   "execution_count": null,
   "metadata": {},
   "outputs": [],
   "source": [
    "#Simulamos entre 1 y 1000 veces\n",
    "N = 1000\n",
    "pi_estimado = [calcula_pi(i+1) for i in range(N)]"
   ]
  },
  {
   "cell_type": "code",
   "execution_count": null,
   "metadata": {},
   "outputs": [],
   "source": [
    "plt.plot(pi_estimado)\n",
    "plt.xlabel('Nº de dardos')\n",
    "plt.ylabel('$\\pi$')\n",
    "plt.title('Valor estimado de $\\pi$')\n",
    "plt.axhline(y=np.pi, color='r', linewidth=2)\n",
    "plt.grid()\n",
    "plt.show()"
   ]
  },
  {
   "cell_type": "code",
   "execution_count": null,
   "metadata": {},
   "outputs": [],
   "source": [
    "N = np.logspace(2, 6, 1000) #escala logarítmica de 100 a 1000000 de simulaciones"
   ]
  },
  {
   "cell_type": "code",
   "execution_count": null,
   "metadata": {},
   "outputs": [],
   "source": [
    "pi_estimado = [calcula_pi(int(i)) for i in N]\n",
    "\n",
    "plt.semilogx(N, pi_estimado)\n",
    "plt.xlabel('Nº de dardos')\n",
    "plt.ylabel('$\\pi$')\n",
    "plt.title('Valor estimado de $\\pi$')\n",
    "plt.axhline(y=np.pi, color='r', linewidth=2)\n",
    "plt.grid()\n",
    "plt.show()"
   ]
  },
  {
   "cell_type": "code",
   "execution_count": null,
   "metadata": {},
   "outputs": [],
   "source": [
    "#Representación del error absoluto\n",
    "plt.plot((np.abs(np.array(pi_estimado)-np.pi)))\n",
    "plt.grid()\n",
    "plt.show()"
   ]
  },
  {
   "cell_type": "code",
   "execution_count": null,
   "metadata": {},
   "outputs": [],
   "source": [
    "pi_estimado[-1] #valor estimado en la última iteración (N máxima)"
   ]
  }
 ],
 "metadata": {
  "kernelspec": {
   "display_name": "Python 3 (ipykernel)",
   "language": "python",
   "name": "python3"
  },
  "language_info": {
   "codemirror_mode": {
    "name": "ipython",
    "version": 3
   },
   "file_extension": ".py",
   "mimetype": "text/x-python",
   "name": "python",
   "nbconvert_exporter": "python",
   "pygments_lexer": "ipython3",
   "version": "3.8.8"
  },
  "vscode": {
   "interpreter": {
    "hash": "974d86b888590d91c91725277f46e2331e9f38bd583c386dd56dd3384a234a0e"
   }
  }
 },
 "nbformat": 4,
 "nbformat_minor": 4
}
