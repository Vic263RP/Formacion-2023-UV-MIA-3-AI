{
 "cells": [
  {
   "cell_type": "markdown",
   "metadata": {},
   "source": [
    "<h1> Tarea 2 </h1>\n",
    "<h3> Estadística </h3>\n",
    "\n",
    "\n",
    "<p>Para completar esta tarea tenéis que crear una simulación de Monte Carlo para calcular cuál es la probabilidad de ganar en el juego de Seven-Eleven (diapositiva 46 de la presentación) frente a la banca. Tenéis que responder dos preguntas:</p>"
   ]
  },
  {
   "cell_type": "code",
   "execution_count": 3,
   "metadata": {},
   "outputs": [],
   "source": [
    "import numpy as np\n",
    "\n",
    "n = 1000000\n",
    "banca = np.array([2, 3, 12])\n",
    "jugador = np.array([7, 11])"
   ]
  },
  {
   "cell_type": "code",
   "execution_count": 4,
   "metadata": {},
   "outputs": [],
   "source": [
    "def lanzar_dados():\n",
    "    dados = np.random.randint(1, 7) + np.random.randint(1, 7)\n",
    "    return dados\n",
    "\n",
    "def juego (num, primer_lanzamiento, contador):\n",
    "    if num == 7:\n",
    "        contador[1] += 1\n",
    "    elif num is primer_lanzamiento:\n",
    "        contador[0] += 1\n",
    "    return contador"
   ]
  },
  {
   "cell_type": "markdown",
   "metadata": {},
   "source": [
    "- <p style = 'color:cyan'> La probabilidad de ganar en la primera jugada</p>"
   ]
  },
  {
   "cell_type": "code",
   "execution_count": 155,
   "metadata": {},
   "outputs": [
    {
     "name": "stdout",
     "output_type": "stream",
     "text": [
      "\n",
      "      En la primera jugada las probabilidades son \n",
      "\n",
      "            - Ganar: 22.357% \n",
      "\n",
      "            - Perder: 11.242%\n",
      "      \n"
     ]
    }
   ],
   "source": [
    "dados = np.array([lanzar_dados() for i in range(n)])\n",
    "\n",
    "conteo = np.vstack(np.unique(dados, return_counts=True)).T\n",
    "\n",
    "pierdes = np.sum(conteo[np.isin(conteo[:, 0], banca)][:, 1]) / n * 100\n",
    "ganas = np.sum(conteo[np.isin(conteo[:, 0], jugador)][:, 1]) / n * 100\n",
    "\n",
    "\n",
    "print(f'''\n",
    "      En la primera jugada las probabilidades son \\n\n",
    "            - Ganar: {round(ganas, 3)}% \\n\n",
    "            - Perder: {round(pierdes, 3)}%\n",
    "      '''\n",
    "      )"
   ]
  },
  {
   "cell_type": "markdown",
   "metadata": {},
   "source": [
    "- <p style = 'color:cyan'>Si el juego es equitativo (la probabilidad de ganar frente a la banca)</p>"
   ]
  },
  {
   "cell_type": "code",
   "execution_count": 5,
   "metadata": {},
   "outputs": [
    {
     "name": "stdout",
     "output_type": "stream",
     "text": [
      "[492650 507350]\n",
      "\n",
      "      Las probabilidades de ganar son: 49.265%\n",
      "      Y las de perder son: 50.735\n",
      "      \n"
     ]
    }
   ],
   "source": [
    "contador = np.array([0, 0])\n",
    "for jugada in range(n):\n",
    "    primer_lanzamiento = lanzar_dados()\n",
    "    \n",
    "    if primer_lanzamiento in jugador:\n",
    "        contador[0] += 1\n",
    "    elif primer_lanzamiento in banca:\n",
    "        contador[1] += 1\n",
    "    else:\n",
    "        while sum(contador) != jugada + 1:\n",
    "\n",
    "            dados = lanzar_dados()\n",
    "            contador = juego(dados, primer_lanzamiento, contador)\n",
    "print(contador)\n",
    "\n",
    "print(f'''\n",
    "      Las probabilidades de ganar son: {contador[0] * 100 / n}%\n",
    "      Y las de perder son: {contador[1] * 100 / n}\n",
    "      ''')"
   ]
  },
  {
   "cell_type": "code",
   "execution_count": null,
   "metadata": {},
   "outputs": [],
   "source": []
  }
 ],
 "metadata": {
  "kernelspec": {
   "display_name": "work",
   "language": "python",
   "name": "python3"
  },
  "language_info": {
   "codemirror_mode": {
    "name": "ipython",
    "version": 3
   },
   "file_extension": ".py",
   "mimetype": "text/x-python",
   "name": "python",
   "nbconvert_exporter": "python",
   "pygments_lexer": "ipython3",
   "version": "3.11.4"
  }
 },
 "nbformat": 4,
 "nbformat_minor": 2
}
