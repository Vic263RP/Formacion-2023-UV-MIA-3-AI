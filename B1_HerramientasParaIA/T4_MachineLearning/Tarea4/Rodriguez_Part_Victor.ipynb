{
 "cells": [
  {
   "cell_type": "markdown",
   "metadata": {},
   "source": [
    "Aplicar los conocimientos de programación orientada a objetos y machine learning para implementar al menos una clase que sirva como pipeline de procesamiento de datos, entrenamiento de un modelos (o modelos), inferencia y presentación de los resultados.\n",
    "\n",
    "Elegid un dataset (en Kaggle por ejemplo) para realizar la implementación de la pipeline, incluid una descripción de los datos, así como breves explicaciones de los métodos que utilicéis. Todo ello puede entregarse en un mismo notebook de Jupyter con las explicaciones incluídas, no es necesario generar ningún documento adicional.\n",
    "\n",
    "Como mínimo, el trabajo ha de constar de una clase con distintos métodos para preprocesar y preparar los datos, entrenar el modelo y realizar inferencia:\n",
    "\n",
    "Método/s de preprocesado y preparación de los datos (podéis incluir reducción de la dimensionalidad, ETL, etc)\n",
    "Método/s de entrenamiento del modelo elegido (o selección y entrenamiento, posibilidad de cambiar sus parámetros, crossvalidation, etc)\n",
    "Método/s para realizar inferencia sobre datos nuevos.\n",
    "Método/s de presentación de resultados (gráficas o resúmenes del entrenamiento y la inferencia)\n",
    "Además podéis incluir cualquier cosa que se os ocurra a partir de estos mínimos, como algún método de actualización del modelo, algún método para seleccionar entre distintos modelos, etc...\n",
    "\n",
    "Todo lo que hagáis deberá estar debidamente comentado y explicado, no es necesario complicarse con la explicación, simplemente describir las razones por las que se use un tipo de preprocesado en los datos, o por qué realizáis o no algún tipo de reducción de la dimensionalidad o la elección del modelo, etc.\n",
    "\n",
    "\n",
    "Se adjunta código de ejemplo, que podéis utilizar y modificar."
   ]
  },
  {
   "cell_type": "code",
   "execution_count": null,
   "metadata": {},
   "outputs": [],
   "source": [
    "'''\n",
    "Mínimos:\n",
    "    - Dataset + descripción de los datos.\n",
    "    - Explicación de los métodos.\n",
    "    - Preproceso y preparación de los datos.\n",
    "    - Entrenamiento del modelo\n",
    "    -\n",
    "       \n",
    "'''"
   ]
  },
  {
   "cell_type": "code",
   "execution_count": null,
   "metadata": {},
   "outputs": [],
   "source": [
    "#Imports."
   ]
  },
  {
   "cell_type": "code",
   "execution_count": 1,
   "metadata": {},
   "outputs": [],
   "source": [
    "#Clase pipeline\n",
    "\n",
    "class Pipeline:\n",
    "    \n",
    "    def __init__(self, random_state=42) -> None:\n",
    "        self.random_state = random_state\n",
    "\n",
    "    "
   ]
  },
  {
   "cell_type": "code",
   "execution_count": null,
   "metadata": {},
   "outputs": [],
   "source": []
  }
 ],
 "metadata": {
  "kernelspec": {
   "display_name": "work",
   "language": "python",
   "name": "python3"
  },
  "language_info": {
   "codemirror_mode": {
    "name": "ipython",
    "version": 3
   },
   "file_extension": ".py",
   "mimetype": "text/x-python",
   "name": "python",
   "nbconvert_exporter": "python",
   "pygments_lexer": "ipython3",
   "version": "3.11.4"
  }
 },
 "nbformat": 4,
 "nbformat_minor": 2
}
