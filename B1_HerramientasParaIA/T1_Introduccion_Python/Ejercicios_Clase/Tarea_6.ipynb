{
 "cells": [
  {
   "cell_type": "markdown",
   "metadata": {},
   "source": [
    "Escribe un segmento de código que calcule la suma de los\n",
    "cuadrados de los números enteros hasta que esta suma sea\n",
    "superior a 50000 ."
   ]
  },
  {
   "cell_type": "code",
   "execution_count": 7,
   "metadata": {},
   "outputs": [
    {
     "name": "stdout",
     "output_type": "stream",
     "text": [
      "Se ha llegado hasta el número 52 y el resultado es 48230 \n"
     ]
    }
   ],
   "source": [
    "suma = 0\n",
    "i = 0\n",
    "while suma<50000:\n",
    "    if suma+i**2 > 50000:\n",
    "        break\n",
    "    i += 1\n",
    "    suma += i**2\n",
    "print(f\"Se ha llegado hasta el número {i} y el resultado es {suma} \")"
   ]
  },
  {
   "cell_type": "markdown",
   "metadata": {},
   "source": [
    "Construir un programa que calcule el índice de masa corporal de una persona (IMC = peso [kg] / altura2 [m]) e indique el estado en el que se encuentra esa persona en función del valor de IMC. Crea dos variables denominadas peso y altura.\n",
    "• IMC<16 Criterio de ingreso en hospital\n",
    "• 16>=IMC<17 Infrapeso\n",
    "• 17>=IMC<18 Bajo peso\n",
    "• 18>=IMC<25 Peso OK\n",
    "• 25>=IMC<30 Obesidad Grado 1\n",
    "• 30>=IMC<35 Obesidad Grado II\n",
    "• 35>=IMC<40 I Obesidad Grado III\n",
    "• IMC>=40 Obesidad de Grado 4"
   ]
  },
  {
   "cell_type": "code",
   "execution_count": null,
   "metadata": {},
   "outputs": [],
   "source": [
    "peso = float(input(\"Indique su peso (kg): \"))\n",
    "altura = float(input(\"Indique su altura (m): \"))\n",
    "\n",
    "IMC = peso/altura**2\n",
    "\n",
    "if IMC < 16:\n",
    "    print(\"Criterio de ingreso al hospital\")\n",
    "elif IMC < 17:\n",
    "    print(\"Infrapeso\")\n",
    "elif IMC < 18:\n",
    "    print (\"Bajo peso\")\n",
    "elif IMC < 25:\n",
    "    print(\"Peso OK\")\n",
    "elif IMC < 30:\n",
    "    print(\"Obesidad grado 1\")\n",
    "elif IMC < 35:\n",
    "    print(\"Obesidad grado 2\")\n",
    "elif IMC < 40:\n",
    "    print(\"Obesidad grado 3\")\n",
    "else: \n",
    "    print(\"Obesidad Grado 4\")"
   ]
  },
  {
   "cell_type": "markdown",
   "metadata": {},
   "source": [
    "Haz un programa que calcule el factorial del\n",
    "contenido de la variable argumento. Utiliza\n",
    "bucles for y setencias if."
   ]
  },
  {
   "cell_type": "code",
   "execution_count": 11,
   "metadata": {},
   "outputs": [
    {
     "name": "stdout",
     "output_type": "stream",
     "text": [
      "120\n"
     ]
    }
   ],
   "source": [
    "num = int(input(\"Calcular el factorial de: \"))\n",
    "factorial = 1\n",
    "\n",
    "for i in range(1, num+1):\n",
    "    factorial *= i\n",
    "\n",
    "print(factorial)"
   ]
  },
  {
   "cell_type": "markdown",
   "metadata": {},
   "source": [
    "Crea un programa que devuelva por pantalla, a\n",
    "partir de una variable dada:\n",
    "• Si es posible hacer la conversión a real, el\n",
    "texto Conversión OK y el resultado de la\n",
    "conversión.\n",
    "• Si NO es posible hacer la conversión a real, el\n",
    "texto Imposible Conversión y el\n",
    "contenido de la variable sin convertir."
   ]
  },
  {
   "cell_type": "code",
   "execution_count": 13,
   "metadata": {},
   "outputs": [
    {
     "name": "stdout",
     "output_type": "stream",
     "text": [
      "Imposible la conversión\n",
      "hdbfv\n"
     ]
    }
   ],
   "source": [
    "algo = input(\"Indica algo: \")\n",
    "\n",
    "try:\n",
    "    float(algo)\n",
    "except:\n",
    "    print(\"Imposible la conversión\")\n",
    "else:\n",
    "    print(\"Conversión OK\")\n",
    "finally:\n",
    "    print(algo)"
   ]
  }
 ],
 "metadata": {
  "kernelspec": {
   "display_name": "work",
   "language": "python",
   "name": "python3"
  },
  "language_info": {
   "codemirror_mode": {
    "name": "ipython",
    "version": 3
   },
   "file_extension": ".py",
   "mimetype": "text/x-python",
   "name": "python",
   "nbconvert_exporter": "python",
   "pygments_lexer": "ipython3",
   "version": "3.11.4"
  },
  "orig_nbformat": 4
 },
 "nbformat": 4,
 "nbformat_minor": 2
}
