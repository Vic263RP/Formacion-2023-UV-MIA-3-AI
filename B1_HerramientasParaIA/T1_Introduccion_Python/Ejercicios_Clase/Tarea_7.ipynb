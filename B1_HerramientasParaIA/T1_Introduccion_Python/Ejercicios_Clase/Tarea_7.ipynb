{
 "cells": [
  {
   "cell_type": "markdown",
   "metadata": {},
   "source": [
    "Crea una lista denominada A que contenga dos strings el primero tu nombre el segundo tu primer apellido. Crea una tupla denominada A_bis que contenga tres strings el primero tu nombre, el segundo tu primer apellido y el tercero tu segundo\n",
    "apellido."
   ]
  },
  {
   "cell_type": "code",
   "execution_count": 11,
   "metadata": {},
   "outputs": [],
   "source": [
    "A = ['Victor', 'Rodríguez']\n",
    "A_bis = ('Víctor', 'Rodríguez', 'Part')"
   ]
  },
  {
   "cell_type": "markdown",
   "metadata": {},
   "source": [
    "Se puede incorporar un elemento en la tercera posición de\n",
    "A que fuera tu segundo apellido?. Cómo lo harías?."
   ]
  },
  {
   "cell_type": "code",
   "execution_count": 12,
   "metadata": {},
   "outputs": [
    {
     "data": {
      "text/plain": [
       "['Victor', 'Rodríguez', 'Part']"
      ]
     },
     "execution_count": 12,
     "metadata": {},
     "output_type": "execute_result"
    }
   ],
   "source": [
    "A.append('Part')\n",
    "A"
   ]
  },
  {
   "cell_type": "markdown",
   "metadata": {},
   "source": [
    "Modifica el tercer elemento de la A añadiendo tu\n",
    "provincia.Puedes hacerlo? Por qué?"
   ]
  },
  {
   "cell_type": "code",
   "execution_count": 13,
   "metadata": {},
   "outputs": [
    {
     "data": {
      "text/plain": [
       "['Victor', 'Rodríguez', 'Valencia']"
      ]
     },
     "execution_count": 13,
     "metadata": {},
     "output_type": "execute_result"
    }
   ],
   "source": [
    "A[-1] = 'Valencia'\n",
    "A"
   ]
  },
  {
   "cell_type": "markdown",
   "metadata": {},
   "source": [
    "Crea una lista B que contenga:\n",
    "• En el primer elemento: La lista A\n",
    "• En el seguindo elemento: La tupla (1,3,5)\n",
    "• En el tercer elemento: La lista [2,4,6]"
   ]
  },
  {
   "cell_type": "code",
   "execution_count": 14,
   "metadata": {},
   "outputs": [
    {
     "data": {
      "text/plain": [
       "['Victor', (1, 3, 5), [2, 4, 6]]"
      ]
     },
     "execution_count": 14,
     "metadata": {},
     "output_type": "execute_result"
    }
   ],
   "source": [
    "B = [A[0], (1, 3, 5), [2, 4, 6]]\n",
    "B"
   ]
  },
  {
   "cell_type": "markdown",
   "metadata": {},
   "source": [
    "Como accederías a los siguientes elementos de la\n",
    "lista B:\n",
    "• Tu nombre\n",
    "• El número 1\n",
    "• El número 4"
   ]
  },
  {
   "cell_type": "code",
   "execution_count": 16,
   "metadata": {},
   "outputs": [
    {
     "name": "stdout",
     "output_type": "stream",
     "text": [
      "Victor 1 4\n"
     ]
    }
   ],
   "source": [
    "print(B[0], B[1][0], B[2][1])"
   ]
  },
  {
   "cell_type": "markdown",
   "metadata": {},
   "source": [
    "Crea un programa que: <br>\n",
    "• Defina la lista C con el contenido que desees.<br>\n",
    "• Ordene los elementos de C cuando sea posible. Si es posible devolverá por pantalla un texto que informe de Lista ordenada y el resultado en caso contrario devolverá un texto que diga Imposible Ordenación.<br>\n",
    "• Sea o no posible, la conversión, queremos que programa muestre el tipo de dato del primer elemento de la lista"
   ]
  },
  {
   "cell_type": "code",
   "execution_count": 21,
   "metadata": {},
   "outputs": [
    {
     "name": "stdout",
     "output_type": "stream",
     "text": [
      "<class 'int'>\n"
     ]
    }
   ],
   "source": [
    "C = [9, 12, 5]\n",
    "C.extend(B[2])\n",
    "C.sort()\n",
    "print(type(C[0]))"
   ]
  }
 ],
 "metadata": {
  "kernelspec": {
   "display_name": "work",
   "language": "python",
   "name": "python3"
  },
  "language_info": {
   "codemirror_mode": {
    "name": "ipython",
    "version": 3
   },
   "file_extension": ".py",
   "mimetype": "text/x-python",
   "name": "python",
   "nbconvert_exporter": "python",
   "pygments_lexer": "ipython3",
   "version": "3.11.4"
  },
  "orig_nbformat": 4
 },
 "nbformat": 4,
 "nbformat_minor": 2
}
