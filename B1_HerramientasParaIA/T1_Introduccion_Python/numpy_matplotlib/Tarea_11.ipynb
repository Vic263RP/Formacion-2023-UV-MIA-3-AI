{
 "cells": [
  {
   "cell_type": "markdown",
   "metadata": {},
   "source": [
    "Ejercicio 1. Crea un notebook de jupyter denominado\n",
    "Tarea11.ipynb y a continuación crea un vector fila que contenga\n",
    "los numeros enteros del 20 al 30."
   ]
  },
  {
   "cell_type": "code",
   "execution_count": 5,
   "metadata": {},
   "outputs": [
    {
     "name": "stdout",
     "output_type": "stream",
     "text": [
      "[20 21 22 23 24 25 26 27 28 29 30]\n"
     ]
    }
   ],
   "source": [
    "import numpy as np\n",
    "\n",
    "fila = np.array(range(20,31))\n",
    "print(fila)"
   ]
  },
  {
   "cell_type": "markdown",
   "metadata": {},
   "source": [
    "Ejercicio 2. Crea otro array seleccionando los 6 primeros\n",
    "elementos del array que has creado en el ejercicio anterior."
   ]
  },
  {
   "cell_type": "code",
   "execution_count": 9,
   "metadata": {},
   "outputs": [
    {
     "data": {
      "text/plain": [
       "array([20, 21, 22, 23, 24, 25, 26])"
      ]
     },
     "execution_count": 9,
     "metadata": {},
     "output_type": "execute_result"
    }
   ],
   "source": [
    "fila_reducido = np.array(fila[0:7])\n",
    "fila_reducido"
   ]
  },
  {
   "cell_type": "markdown",
   "metadata": {},
   "source": [
    "Ejercicio 3. Crea un vector fila llamado Ejer3a con los números\n",
    "enteros del 100 al 200. Cuando lo hayas hecho crea un nuevo\n",
    "vector denominado Ejer3b que contenga las 10 primeras\n",
    "posiciones de Ejer3a"
   ]
  },
  {
   "cell_type": "code",
   "execution_count": 48,
   "metadata": {},
   "outputs": [
    {
     "name": "stdout",
     "output_type": "stream",
     "text": [
      "[100 101 102 103 104 105 106 107 108 109 110 111 112 113 114 115 116 117\n",
      " 118 119 120 121 122 123 124 125 126 127 128 129 130 131 132 133 134 135\n",
      " 136 137 138 139 140 141 142 143 144 145 146 147 148 149 150 151 152 153\n",
      " 154 155 156 157 158 159 160 161 162 163 164 165 166 167 168 169 170 171\n",
      " 172 173 174 175 176 177 178 179 180 181 182 183 184 185 186 187 188 189\n",
      " 190 191 192 193 194 195 196 197 198 199 200]\n",
      "[100 101 102 103 104 105 106 107 108 109]\n"
     ]
    }
   ],
   "source": [
    "Ejer3a = np.array(range(100,201))\n",
    "Ejer3b = np.array(Ejer3a[:10]).copy()\n",
    "\n",
    "print(Ejer3a)\n",
    "print(Ejer3b)"
   ]
  },
  {
   "cell_type": "markdown",
   "metadata": {},
   "source": [
    "Ejercicio 4. En el array resultado del ejercicio 3 (Ejer3b) haz que\n",
    "en las posiciones pares el valor sea 9999. Comprueba el valor\n",
    "del array Ejer3a. Cómo explicas el resultado al visualizar Ejer3a?.\n",
    "Cómo lo resolverías?"
   ]
  },
  {
   "cell_type": "code",
   "execution_count": 44,
   "metadata": {},
   "outputs": [
    {
     "name": "stdout",
     "output_type": "stream",
     "text": [
      "[9999  101 9999  103 9999  105 9999  107 9999  109]\n"
     ]
    },
    {
     "data": {
      "text/plain": [
       "numpy.ndarray"
      ]
     },
     "execution_count": 44,
     "metadata": {},
     "output_type": "execute_result"
    }
   ],
   "source": [
    "indices_pares = np.arange(len(Ejer3b)) % 2 == 0\n",
    "\n",
    "Ejer3b[indices_pares] = 9999\n",
    "\n",
    "print(Ejer3b)\n",
    "type(Ejer3b)"
   ]
  },
  {
   "cell_type": "code",
   "execution_count": 54,
   "metadata": {},
   "outputs": [
    {
     "name": "stdout",
     "output_type": "stream",
     "text": [
      "[9999  101 9999  103 9999  105 9999  107 9999  109]\n"
     ]
    },
    {
     "data": {
      "text/plain": [
       "numpy.ndarray"
      ]
     },
     "execution_count": 54,
     "metadata": {},
     "output_type": "execute_result"
    }
   ],
   "source": [
    "Ejer3x = np.where(np.arange(len(Ejer3b)) % 2 == 0, 9999, Ejer3a[:10])\n",
    "\n",
    "print(Ejer3x)\n",
    "type(Ejer3x)"
   ]
  },
  {
   "cell_type": "markdown",
   "metadata": {},
   "source": [
    "Ejercicio 5. Crea un array 3x3 denominado Ejer5a que contenga\n",
    "los números enteros del 9 al 1 dispuestos en filas. Crea un un\n",
    "array denominado Ejer5b que contenga las 2 primeras filas de\n",
    "Ejer5a. Crea un un array denominado Ejer5c que contenga las 2\n",
    "primeras columnas de Ejer5a. Crea un un array denominado\n",
    "Ejer5c que contenga la submatriz 2x2 de la parte inferior\n",
    "izquierda de Ejer5a"
   ]
  },
  {
   "cell_type": "code",
   "execution_count": 37,
   "metadata": {},
   "outputs": [
    {
     "name": "stdout",
     "output_type": "stream",
     "text": [
      "[[9 8 7]\n",
      " [6 5 4]\n",
      " [3 2 1]]\n",
      "[[9 8 7]\n",
      " [6 5 4]]\n",
      "[[9 8]\n",
      " [6 5]\n",
      " [3 2]]\n",
      "[[6 5]\n",
      " [3 2]]\n"
     ]
    }
   ],
   "source": [
    "Ejer5a = np.arange(9, 0, -1).reshape(3,3)\n",
    "\n",
    "# Ejer5a = np.arange(9, 0, -1)\n",
    "# Ejer5a = Ejer5a.reshape(len(Ejer5a),1)\n",
    "\n",
    "Ejer5b = Ejer5a[:2]\n",
    "Ejer5c = Ejer5a[:,:2]\n",
    "Ejer5d = Ejer5a[1:,:2]\n",
    "\n",
    "\n",
    "print(Ejer5a)\n",
    "print(Ejer5b)\n",
    "print(Ejer5c)\n",
    "print(Ejer5d)"
   ]
  }
 ],
 "metadata": {
  "kernelspec": {
   "display_name": "work",
   "language": "python",
   "name": "python3"
  },
  "language_info": {
   "codemirror_mode": {
    "name": "ipython",
    "version": 3
   },
   "file_extension": ".py",
   "mimetype": "text/x-python",
   "name": "python",
   "nbconvert_exporter": "python",
   "pygments_lexer": "ipython3",
   "version": "3.11.4"
  },
  "orig_nbformat": 4
 },
 "nbformat": 4,
 "nbformat_minor": 2
}
