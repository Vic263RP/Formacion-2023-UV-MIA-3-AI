{
 "cells": [
  {
   "cell_type": "markdown",
   "metadata": {},
   "source": [
    "Crea una matriz denominada\n",
    "Ejer3 de tamaño 50x50 cuyos elementos\n",
    "constituyan una distribución normal aleatoria de media 0 y desviación típica\n",
    "unidad"
   ]
  },
  {
   "cell_type": "code",
   "execution_count": 3,
   "metadata": {},
   "outputs": [
    {
     "name": "stdout",
     "output_type": "stream",
     "text": [
      "(50, 50)\n"
     ]
    }
   ],
   "source": [
    "from numpy import random\n",
    "\n",
    "Ejer3 = random.randn(50,50)\n",
    "\n",
    "print(Ejer3)"
   ]
  },
  {
   "cell_type": "markdown",
   "metadata": {},
   "source": [
    "A partir de la matriz Ejer3, calcula: <br>\n",
    "•\n",
    "La media de los elementos de la matriz<br>\n",
    "•\n",
    "La desviación típica de los elementos de la matriz<br>\n",
    "•\n",
    "La media de los elementos de cada fila de la matriz.<br>\n",
    "•\n",
    "La desviación típica de los elementos de cada fila de la matriz.<br>\n",
    "•\n",
    "La suma de los elementos de cada fila de la matriz.<br>\n",
    "•\n",
    "La suma de los elementos de cada columna de la matriz"
   ]
  },
  {
   "cell_type": "code",
   "execution_count": 15,
   "metadata": {},
   "outputs": [
    {
     "name": "stdout",
     "output_type": "stream",
     "text": [
      "-0.015725586246502887\n",
      "1.0053917445182312\n",
      "50\n",
      "6.683835794785301 6.683835794785301\n",
      "-5.935913925815772 -5.935913925815772\n"
     ]
    }
   ],
   "source": [
    "media = Ejer3.mean()\n",
    "desv_tip = Ejer3.std()\n",
    "media_filas = Ejer3.mean(axis=1)\n",
    "desv_tip_filas = Ejer3.std(axis = 1)\n",
    "suma_filas = Ejer3.sum(axis = 1)\n",
    "suma_columnas = Ejer3.sum(axis = 0)\n",
    "\n",
    "\n",
    "print(media)\n",
    "print(desv_tip)\n",
    "print(len(media_filas))\n",
    "print(suma_filas[0], Ejer3[0].sum())\n",
    "print(suma_columnas[0], Ejer3[:,0].sum())\n"
   ]
  },
  {
   "cell_type": "code",
   "execution_count": 25,
   "metadata": {},
   "outputs": [
    {
     "name": "stdout",
     "output_type": "stream",
     "text": [
      "[[[ 1  4]\n",
      "  [ 7 10]]\n",
      "\n",
      " [[ 2  5]\n",
      "  [ 8 11]]\n",
      "\n",
      " [[ 3  6]\n",
      "  [ 9 12]]]\n"
     ]
    }
   ],
   "source": [
    "import numpy as np\n",
    "\n",
    "matriz = np.array([[[1,2,3],\n",
    "                    [4,5,6]],\n",
    "                    \n",
    "                    [[7,8,9],\n",
    "                     [10,11,12]]])\n",
    "\n",
    "matriz = matriz.transpose(2,0,1)\n",
    "print(matriz)"
   ]
  },
  {
   "cell_type": "markdown",
   "metadata": {},
   "source": [
    "Guarda el array anterior en un fichero explorando las diferentes opciones de\n",
    "almacenar arrays"
   ]
  },
  {
   "cell_type": "markdown",
   "metadata": {},
   "source": [
    "Intenta cargar algunos de los ficheros almacenados"
   ]
  },
  {
   "cell_type": "markdown",
   "metadata": {},
   "source": []
  }
 ],
 "metadata": {
  "kernelspec": {
   "display_name": "work",
   "language": "python",
   "name": "python3"
  },
  "language_info": {
   "codemirror_mode": {
    "name": "ipython",
    "version": 3
   },
   "file_extension": ".py",
   "mimetype": "text/x-python",
   "name": "python",
   "nbconvert_exporter": "python",
   "pygments_lexer": "ipython3",
   "version": "3.11.4"
  },
  "orig_nbformat": 4
 },
 "nbformat": 4,
 "nbformat_minor": 2
}
