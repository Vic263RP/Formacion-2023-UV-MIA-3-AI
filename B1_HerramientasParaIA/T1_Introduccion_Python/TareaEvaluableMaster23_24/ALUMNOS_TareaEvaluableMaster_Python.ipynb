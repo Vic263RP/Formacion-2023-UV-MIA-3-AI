{
 "cells": [
  {
   "cell_type": "markdown",
   "metadata": {},
   "source": [
    "<img src=\"idal-logo.png\" align=\"right\" style=\"float\" width=\"400\">\n",
    "<font color=\"#CA3532\"><h1 align=\"left\">mIA3</h1></font>\n",
    "<font color=\"#6E6E6E\"><h2 align=\"left\">Tarea Evaluable. Python.</h2></font> \n",
    "\n",
    "#### Juan Gómez-Sanchis"
   ]
  },
  {
   "cell_type": "markdown",
   "metadata": {},
   "source": [
    "**Ejercicio 1. (2 puntos)** La criba de Eratóstenes es un método ideado por Eratóstenes, para conseguir los números primos entre el 1 y un determinado número entero n. Este ejercicio permite poner en práctica muchas de las sentencias de control que hemos visto.\n",
    "\n",
    "\n",
    "La criba de Eratostenes se puede programar como un algoritmo que consiste en formar  una tabla con todos los números naturales comprendidos entre 2 y n,  se van tachando los números que no son primos de la siguiente manera: \n",
    "\n",
    "* Comenzando por el 2 (considerado primo), se tachan todos sus múltiplos.\n",
    "* Comenzando de nuevo, cuando se encuentra un número entero que no ha sido tachado, ese número es declarado primo, y se procede a tachar todos sus múltiplos.\n",
    "* El proceso se repite iterativamente. El proceso termina cuando el cuadrado del siguiente número confirmado como primo es mayor que n.\n",
    "\n",
    "Con todo esto, \n",
    "\n",
    "* Crea una función denominada `Eratostenes(n)`, que devuelva los número primos inferiores o iguales a n. \n",
    "\n",
    "* El tipo computacional de n es entero, modifica la función anterior `Eratostenes_Err` y crea un nueva función  para que si se introduce un valor real como argumento de la función, no devuelva error y  muestre un mensaje por pantalla informando al usuario de que el argumento sea entero."
   ]
  },
  {
   "cell_type": "code",
   "execution_count": 1,
   "metadata": {},
   "outputs": [
    {
     "data": {
      "text/plain": [
       "array([    1,     2,     3, ..., 99971, 99989, 99991])"
      ]
     },
     "execution_count": 1,
     "metadata": {},
     "output_type": "execute_result"
    }
   ],
   "source": [
    "#Solución 1\n",
    "import numpy as np\n",
    "import time\n",
    "\n",
    "numero = 100000\n",
    "#numero = int(input(\"introduce un numero entero\"))\n",
    "\n",
    "def Eratostenes(n):\n",
    "    vector = set(range(1, n+1))\n",
    "\n",
    "    for i in range(2, int(np.sqrt(numero))+1):\n",
    "        \n",
    "        multiplos = np.arange(2*i,n+1, i)\n",
    "        vector = vector.difference(multiplos)\n",
    "    \n",
    "    vector = np.array(list(vector))\n",
    "\n",
    "    return(vector)\n",
    "\n",
    "#tiempo_inicio = time.time()\n",
    "\n",
    "primos = np.sort(Eratostenes(numero))\n",
    "#tiempo_fin = time.time()\n",
    "#tiempo_transcurrido = tiempo_fin - tiempo_inicio\n",
    "\n",
    "#print(tiempo_transcurrido)\n",
    "primos\n"
   ]
  },
  {
   "cell_type": "code",
   "execution_count": 6,
   "metadata": {},
   "outputs": [
    {
     "name": "stdout",
     "output_type": "stream",
     "text": [
      "[  1   2   3   5   7  11  13  17  19  23  29  31  37  41  43  47  53  59\n",
      "  61  67  71  73  79  83  89  97 101 103 107 109 113 127 131 137 139 149\n",
      " 151 157 163 167 173 179 181 191 193 197 199 211 223 227 229 233 239 241\n",
      " 251 257 263 269 271 277 281 283 293 307 311 313 317 331 337 347 349 353\n",
      " 359 367 373 379 383 389 397 401 409 419 421 431 433 439 443 449 457 461\n",
      " 463 467 479 487 491 499 503 509 521 523 541 547 557 563 569 571 577 587\n",
      " 593 599 601 607 613 617 619 631 641 643 647 653 659 661 673 677 683 691\n",
      " 701 709 719 727 733 739 743 751 757 761 769 773 787 797 809 811 821 823\n",
      " 827 829 839 853 857 859 863 877 881 883 887 907 911 919 929 937 941 947\n",
      " 953 967 971 977 983 991 997]\n",
      "s no es un número entero.\n",
      "127.873259 no es un número entero.\n"
     ]
    }
   ],
   "source": [
    "#Solución 2\n",
    "\n",
    "import numpy as np\n",
    "import time\n",
    "\n",
    "\n",
    "numero = 1000\n",
    "letra = 's'\n",
    "real = 127.873259\n",
    "\n",
    "def Eratostenes_sin_bucles(n):\n",
    "    vector = np.arange(1, n+1)\n",
    "    multiplos = np.arange(2, int(np.sqrt(numero) // 1)+1)\n",
    "    multiplos = np.array(list(filter(lambda x: all(x % multiplos[:np.where(multiplos == x)[0][0]] != 0), multiplos)))\n",
    "    resultado = np.outer(vector[1:len(vector)//2], multiplos).flatten()\n",
    "\n",
    "    vector = np.array(list(set(vector).difference(resultado)))\n",
    "    print(np.sort(vector))\n",
    "    return(np.sort(vector))\n",
    "\n",
    "\n",
    "def Eratostenes_Err(n):\n",
    "    try:\n",
    "        range(n)\n",
    "    except:\n",
    "        print(f\"{n} no es un número entero.\")\n",
    "    else:\n",
    "        return(Eratostenes_sin_bucles(n))\n",
    "\n",
    "#tiempo_inicio = time.time()\n",
    "primos = Eratostenes_Err(numero)\n",
    "primos_letra = Eratostenes_Err(letra)\n",
    "primos_real = Eratostenes_Err(real)\n",
    "#tiempo_fin = time.time()\n",
    "#tiempo_transcurrido = tiempo_fin - tiempo_inicio\n",
    "\n",
    "#print(tiempo_transcurrido)"
   ]
  },
  {
   "cell_type": "markdown",
   "metadata": {},
   "source": [
    "<div style=\"background-color: #55aaaa; color: black\" >\n",
    "En resumen, pese a que lo más  eficiente suele ser no hacer bucles, la solución de los bucles es la más rápida.\n",
    "</div>"
   ]
  },
  {
   "cell_type": "markdown",
   "metadata": {},
   "source": [
    "**Ejercicio 2. (2 punto)** Crea una array 8x3 con los enteros entre 10 y 34 de uno en uno. Después crea 4 nuevos arrays 2x3 partiendo el array original de dos en dos filas. "
   ]
  },
  {
   "cell_type": "code",
   "execution_count": 9,
   "metadata": {},
   "outputs": [
    {
     "name": "stdout",
     "output_type": "stream",
     "text": [
      "Vector general:\n",
      " [[10 11 12]\n",
      " [13 14 15]\n",
      " [16 17 18]\n",
      " [19 20 21]\n",
      " [22 23 24]\n",
      " [25 26 27]\n",
      " [28 29 30]\n",
      " [31 32 33]]\n",
      "Líneas 0 y 1:\n",
      " [[10 11 12]\n",
      " [13 14 15]]\n",
      "Líneas 2 y 3:\n",
      " [[16 17 18]\n",
      " [19 20 21]]\n",
      "Líneas 4 y 5:\n",
      " [[22 23 24]\n",
      " [25 26 27]]\n",
      "Líneas 6 y 7:\n",
      " [[28 29 30]\n",
      " [31 32 33]]\n"
     ]
    }
   ],
   "source": [
    "#Solución\n",
    "\n",
    "import numpy as np\n",
    "\n",
    "vector = np.arange(10,34)\n",
    "vector = vector.reshape(8,3)\n",
    "\n",
    "\n",
    "vector1 = vector[:2,]\n",
    "vector2 = vector[2:4,]\n",
    "vector3 = vector[4:6,]\n",
    "vector4 = vector[6:,]\n",
    "\n",
    "print(f\"Vector general:\\n {vector}\")\n",
    "print(f\"Líneas 0 y 1:\\n {vector1}\")\n",
    "print(f\"Líneas 2 y 3:\\n {vector2}\")\n",
    "print(f\"Líneas 4 y 5:\\n {vector3}\")\n",
    "print(f\"Líneas 6 y 7:\\n {vector4}\")\n"
   ]
  },
  {
   "cell_type": "markdown",
   "metadata": {},
   "source": [
    "**Ejercicio 3. (2 punto)** Crea el siguiente array de numpy:\n",
    "\n",
    "\n",
    "[[34,43,73],[82,22,12],[53,94,66]]\n",
    "\n",
    "Calcula:\n",
    "\n",
    "* El máximo por filas\n",
    "* El mínimo por columnas \n",
    "* La media por columnas\n",
    "* La desviación típica por filas\n"
   ]
  },
  {
   "cell_type": "code",
   "execution_count": 10,
   "metadata": {},
   "outputs": [
    {
     "name": "stdout",
     "output_type": "stream",
     "text": [
      "Los máximos por filas son [73 82 94]\n",
      "Los mínimos por columnas son [34 22 12]\n",
      "Las medias por columnas son [56.33333333 53.         50.33333333]\n",
      "Las desviaciones típicas por filas son [16.673332   30.91206165 17.10750323]\n"
     ]
    }
   ],
   "source": [
    "#Solución\n",
    "\n",
    "import numpy as np\n",
    "\n",
    "vector_3 = np.array([[34,43,73],[82,22,12],[53,94,66]])\n",
    "maximos_filas = vector_3.max(axis = 1)\n",
    "minimos_columnas = vector_3.min(axis = 0)\n",
    "media_columnas = vector_3.mean(axis = 0)\n",
    "desv_filas = vector_3.std(axis = 1)\n",
    "\n",
    "\n",
    "print(f\"Los máximos por filas son {maximos_filas}\")\n",
    "print(f\"Los mínimos por columnas son {minimos_columnas}\")\n",
    "print(f\"Las medias por columnas son {media_columnas}\")\n",
    "print(f\"Las desviaciones típicas por filas son {desv_filas}\")\n"
   ]
  },
  {
   "cell_type": "markdown",
   "metadata": {},
   "source": [
    "**Ejercicio 5. (2 puntos)** \n",
    "\n",
    "En matemáticas, la pseudoinversa $A^+$ de una matriz $A$ es una generalización de la matriz inversa. Un uso común de la pseudoinversa es el de encontrar una solución de «ajuste óptimo» (por mínimos cuadrados) de un sistema de ecuaciones lineales que no posee solución única. Otro uso es hallar la solución de norma mínima (euclídea) de un sistema de ecuaciones lineales con múltiples soluciones. \n",
    "\n",
    "La pseudoinversa $A^+=VS^{-1}U^t$ se obtiene a través de la descomposición en valores singulares (SVD) de la matriz $A=USV^t$. Utilizarás la función  de numpy apropiada  para obtener la descomposicion SVD de la matriz $A=USV^t$.\n",
    "\n",
    "* Determina la matriz $S$.\n",
    "* Comprueba que $A=USV^t$\n",
    "* Comprueba que no se cumple $AA^+=I$**. Es decir $A^+$ no es la matriz inversa $A^{-1}$.\n",
    "* Comprueba que se cumple $AA^+A=A$\n",
    "\n",
    "_Nota: I es la matriz unidad._  \n"
   ]
  },
  {
   "cell_type": "code",
   "execution_count": 11,
   "metadata": {},
   "outputs": [
    {
     "name": "stdout",
     "output_type": "stream",
     "text": [
      "[[16.84810335  0.          0.        ]\n",
      " [ 0.          1.06836951  0.        ]\n",
      " [ 0.          0.          0.        ]] \n",
      "\n"
     ]
    }
   ],
   "source": [
    "#Solución 1\n",
    "\n",
    "import numpy as np\n",
    "\n",
    "A = np.array([[1, 2, 3], [4, 5, 6], [7, 8, 9]])\n",
    "\n",
    "U, S, Vt = np.linalg.svd(A)\n",
    "\n",
    "S = np.diag(S)\n",
    "S[S < 1e-15] = 0\n",
    "\n",
    "# print(U, \"\\n\")\n",
    "print(S, \"\\n\")\n",
    "# print(Vt, \"\\n\")\n",
    "\n",
    "# Aplusdir = np.linalg.pinv(A)\n",
    "\n",
    "# print(Aplusdir)"
   ]
  },
  {
   "cell_type": "code",
   "execution_count": 12,
   "metadata": {},
   "outputs": [
    {
     "data": {
      "text/plain": [
       "array([[1., 2., 3.],\n",
       "       [4., 5., 6.],\n",
       "       [7., 8., 9.]])"
      ]
     },
     "execution_count": 12,
     "metadata": {},
     "output_type": "execute_result"
    }
   ],
   "source": [
    "#Solución 2\n",
    "\n",
    "Aprueba = np.dot(np.dot(U,S),Vt)\n",
    "Aprueba"
   ]
  },
  {
   "cell_type": "code",
   "execution_count": 13,
   "metadata": {},
   "outputs": [
    {
     "name": "stderr",
     "output_type": "stream",
     "text": [
      "/tmp/ipykernel_651/1977917559.py:3: RuntimeWarning: divide by zero encountered in divide\n",
      "  S_1 = np.where(S != 0.0, 1.0 / S, 0.0)\n"
     ]
    },
    {
     "data": {
      "text/plain": [
       "False"
      ]
     },
     "execution_count": 13,
     "metadata": {},
     "output_type": "execute_result"
    }
   ],
   "source": [
    "#Solución 3\n",
    "V = Vt.transpose()\n",
    "S_1 = np.where(S != 0.0, 1.0 / S, 0.0)\n",
    "Ut = U.transpose()\n",
    "\n",
    "\n",
    "# print(Ut, \"\\n\")\n",
    "# print(S_1, \"\\n\")\n",
    "# print(V)\n",
    "\n",
    "Aplus = np.dot(np.dot(V,S_1),Ut)\n",
    "\n",
    "comprobar = np.dot(A,Aplus) == np.linalg.inv(A).all()\n",
    "comprobar.all()"
   ]
  },
  {
   "cell_type": "code",
   "execution_count": 14,
   "metadata": {},
   "outputs": [
    {
     "data": {
      "text/plain": [
       "True"
      ]
     },
     "execution_count": 14,
     "metadata": {},
     "output_type": "execute_result"
    }
   ],
   "source": [
    "#Solución 4\n",
    "\n",
    "comprobar2 = (np.dot(np.dot(A, Aplus), A)).astype(int) == A\n",
    "comprobar2.all()"
   ]
  },
  {
   "cell_type": "markdown",
   "metadata": {},
   "source": []
  },
  {
   "cell_type": "markdown",
   "metadata": {},
   "source": [
    "**Ejercicio 6. (2 puntos)** Carga el dataset `Coches_dataset_jgx_I.csv` empleando la librería `pandas` y sus funciones de importación.\n",
    "\n",
    "* Una vez cargado, visualiza las 5 primeras muestras del data frame.\n",
    "* Averigua el número de muestras del data frame.\n",
    "* Crea los gráficos de scattering necesarios dispuestos en un layout subplot donde se muestren las relaciones entre las variables de tipo float del dataset 2 a 2.\n",
    "\n"
   ]
  },
  {
   "cell_type": "code",
   "execution_count": 15,
   "metadata": {},
   "outputs": [],
   "source": [
    "#Solución 1\n",
    "\n",
    "import pandas as pd\n",
    "\n",
    "coches = pd.read_csv(\"Coches_dataset_jgx_I.csv\", sep= \";\")"
   ]
  },
  {
   "cell_type": "code",
   "execution_count": 16,
   "metadata": {},
   "outputs": [
    {
     "data": {
      "text/html": [
       "<div>\n",
       "<style scoped>\n",
       "    .dataframe tbody tr th:only-of-type {\n",
       "        vertical-align: middle;\n",
       "    }\n",
       "\n",
       "    .dataframe tbody tr th {\n",
       "        vertical-align: top;\n",
       "    }\n",
       "\n",
       "    .dataframe thead th {\n",
       "        text-align: right;\n",
       "    }\n",
       "</style>\n",
       "<table border=\"1\" class=\"dataframe\">\n",
       "  <thead>\n",
       "    <tr style=\"text-align: right;\">\n",
       "      <th></th>\n",
       "      <th>index</th>\n",
       "      <th>company</th>\n",
       "      <th>body-style</th>\n",
       "      <th>wheel-base</th>\n",
       "      <th>length</th>\n",
       "      <th>engine-type</th>\n",
       "      <th>num-of-cylinders</th>\n",
       "      <th>horsepower</th>\n",
       "      <th>average-mileage</th>\n",
       "      <th>price</th>\n",
       "    </tr>\n",
       "  </thead>\n",
       "  <tbody>\n",
       "    <tr>\n",
       "      <th>0</th>\n",
       "      <td>0</td>\n",
       "      <td>alfa-romero</td>\n",
       "      <td>convertible</td>\n",
       "      <td>88.6</td>\n",
       "      <td>168.8</td>\n",
       "      <td>dohc</td>\n",
       "      <td>four</td>\n",
       "      <td>111</td>\n",
       "      <td>21</td>\n",
       "      <td>13495</td>\n",
       "    </tr>\n",
       "    <tr>\n",
       "      <th>1</th>\n",
       "      <td>1</td>\n",
       "      <td>alfa-romero</td>\n",
       "      <td>convertible</td>\n",
       "      <td>88.6</td>\n",
       "      <td>168.8</td>\n",
       "      <td>dohc</td>\n",
       "      <td>four</td>\n",
       "      <td>111</td>\n",
       "      <td>21</td>\n",
       "      <td>16500</td>\n",
       "    </tr>\n",
       "    <tr>\n",
       "      <th>2</th>\n",
       "      <td>2</td>\n",
       "      <td>alfa-romero</td>\n",
       "      <td>hatchback</td>\n",
       "      <td>94.5</td>\n",
       "      <td>171.2</td>\n",
       "      <td>ohcv</td>\n",
       "      <td>six</td>\n",
       "      <td>154</td>\n",
       "      <td>19</td>\n",
       "      <td>16500</td>\n",
       "    </tr>\n",
       "    <tr>\n",
       "      <th>3</th>\n",
       "      <td>3</td>\n",
       "      <td>audi</td>\n",
       "      <td>sedan</td>\n",
       "      <td>99.8</td>\n",
       "      <td>176.6</td>\n",
       "      <td>ohc</td>\n",
       "      <td>four</td>\n",
       "      <td>102</td>\n",
       "      <td>24</td>\n",
       "      <td>13950</td>\n",
       "    </tr>\n",
       "    <tr>\n",
       "      <th>4</th>\n",
       "      <td>4</td>\n",
       "      <td>audi</td>\n",
       "      <td>sedan</td>\n",
       "      <td>99.4</td>\n",
       "      <td>176.6</td>\n",
       "      <td>ohc</td>\n",
       "      <td>five</td>\n",
       "      <td>115</td>\n",
       "      <td>18</td>\n",
       "      <td>17450</td>\n",
       "    </tr>\n",
       "  </tbody>\n",
       "</table>\n",
       "</div>"
      ],
      "text/plain": [
       "   index      company   body-style  wheel-base  length engine-type  \\\n",
       "0      0  alfa-romero  convertible        88.6   168.8        dohc   \n",
       "1      1  alfa-romero  convertible        88.6   168.8        dohc   \n",
       "2      2  alfa-romero    hatchback        94.5   171.2        ohcv   \n",
       "3      3         audi        sedan        99.8   176.6         ohc   \n",
       "4      4         audi        sedan        99.4   176.6         ohc   \n",
       "\n",
       "  num-of-cylinders  horsepower  average-mileage  price  \n",
       "0             four         111               21  13495  \n",
       "1             four         111               21  16500  \n",
       "2              six         154               19  16500  \n",
       "3             four         102               24  13950  \n",
       "4             five         115               18  17450  "
      ]
     },
     "execution_count": 16,
     "metadata": {},
     "output_type": "execute_result"
    }
   ],
   "source": [
    "#Solución 2\n",
    "coches.head()"
   ]
  },
  {
   "cell_type": "code",
   "execution_count": 17,
   "metadata": {},
   "outputs": [
    {
     "name": "stdout",
     "output_type": "stream",
     "text": [
      "Se puede con: \n",
      "index               61\n",
      "company             61\n",
      "body-style          61\n",
      "wheel-base          61\n",
      "length              61\n",
      "engine-type         61\n",
      "num-of-cylinders    61\n",
      "horsepower          61\n",
      "average-mileage     61\n",
      "price               58\n",
      "dtype: int64 \n",
      "\n",
      "O con: 61\n"
     ]
    }
   ],
   "source": [
    "#Solucion 3\n",
    "\n",
    "print(f\"Se puede con: \\n{coches.count()} \\n\")\n",
    "print(f\"O con: {coches.shape[0]}\")"
   ]
  },
  {
   "cell_type": "markdown",
   "metadata": {},
   "source": []
  },
  {
   "cell_type": "code",
   "execution_count": null,
   "metadata": {},
   "outputs": [],
   "source": []
  },
  {
   "cell_type": "code",
   "execution_count": 63,
   "metadata": {
    "scrolled": true
   },
   "outputs": [
    {
     "data": {
      "image/png": "[encoded data removed]",
      "text/plain": [
       "<Figure size 1000x700 with 6 Axes>"
      ]
     },
     "metadata": {},
     "output_type": "display_data"
    }
   ],
   "source": [
    "#Solucion 4\n",
    "import matplotlib.pyplot as plt\n",
    "\n",
    "fig,ax=plt.subplots(3,2)\n",
    "fig.set_size_inches(10, 7)\n",
    "\n",
    "\n",
    "#fig.set_title('Comparación por pares 2 a 2 de los valores numéricos del data frame \"Coches\"')\n",
    "\n",
    "\n",
    "ax[0,0].scatter(coches['wheel-base'], coches['length'], s = 7)\n",
    "ax[0,0].set_xlabel(\"Wheel Base\")\n",
    "ax[0,0].set_ylabel(\"Length\")\n",
    "\n",
    "ax[0,1].scatter(coches['wheel-base'], coches['horsepower'], s = 7)\n",
    "\n",
    "ax[1,0].scatter(coches['wheel-base'], coches['average-mileage'], s = 7, marker=\"v\")\n",
    "ax[1,1].scatter(coches['length'], coches['horsepower'], s = 7, color=\"g\")\n",
    "ax[2,0].scatter(coches['length'], coches['average-mileage'], s = 7)\n",
    "ax[2,1].scatter(coches['horsepower'], coches['average-mileage'], s = 7, alpha = 0.2)\n",
    "plt.show()"
   ]
  },
  {
   "cell_type": "code",
   "execution_count": null,
   "metadata": {},
   "outputs": [],
   "source": []
  },
  {
   "cell_type": "code",
   "execution_count": null,
   "metadata": {},
   "outputs": [],
   "source": []
  },
  {
   "cell_type": "code",
   "execution_count": null,
   "metadata": {},
   "outputs": [],
   "source": []
  }
 ],
 "metadata": {
  "kernelspec": {
   "display_name": "Python 3",
   "language": "python",
   "name": "python3"
  },
  "language_info": {
   "codemirror_mode": {
    "name": "ipython",
    "version": 3
   },
   "file_extension": ".py",
   "mimetype": "text/x-python",
   "name": "python",
   "nbconvert_exporter": "python",
   "pygments_lexer": "ipython3",
   "version": "3.11.4"
  }
 },
 "nbformat": 4,
 "nbformat_minor": 4
}
