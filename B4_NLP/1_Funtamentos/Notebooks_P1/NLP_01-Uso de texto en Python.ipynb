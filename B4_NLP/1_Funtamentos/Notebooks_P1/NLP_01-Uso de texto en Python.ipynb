{
 "cells": [
  {
   "attachments": {},
   "cell_type": "markdown",
   "id": "german-basic",
   "metadata": {},
   "source": [
    "## Uso de texto en Python\n",
    "Declaración de variables de tipo `string`"
   ]
  },
  {
   "cell_type": "code",
   "execution_count": 1,
   "id": "sized-membership",
   "metadata": {},
   "outputs": [],
   "source": [
    "texto = \"\"\"\n",
    "Texto en \n",
    "dos lineas\n",
    "\"\"\""
   ]
  },
  {
   "cell_type": "code",
   "execution_count": 2,
   "id": "quiet-eleven",
   "metadata": {},
   "outputs": [
    {
     "data": {
      "text/plain": [
       "str"
      ]
     },
     "execution_count": 2,
     "metadata": {},
     "output_type": "execute_result"
    }
   ],
   "source": [
    "type(texto)"
   ]
  },
  {
   "cell_type": "code",
   "execution_count": 3,
   "id": "lightweight-assist",
   "metadata": {},
   "outputs": [
    {
     "data": {
      "text/plain": [
       "22"
      ]
     },
     "execution_count": 3,
     "metadata": {},
     "output_type": "execute_result"
    }
   ],
   "source": [
    "len(texto)"
   ]
  },
  {
   "attachments": {},
   "cell_type": "markdown",
   "id": "previous-corruption",
   "metadata": {},
   "source": [
    "Los objetos de tipo `string` son elementos *iterables* compuestos por sus caracteres:"
   ]
  },
  {
   "cell_type": "code",
   "execution_count": 4,
   "id": "appreciated-testimony",
   "metadata": {},
   "outputs": [
    {
     "name": "stdout",
     "output_type": "stream",
     "text": [
      "\n",
      "\n",
      "T\n",
      "e\n",
      "x\n",
      "t\n",
      "o\n",
      " \n",
      "e\n",
      "n\n",
      " \n",
      "\n",
      "\n",
      "d\n",
      "o\n",
      "s\n",
      " \n",
      "l\n",
      "i\n",
      "n\n",
      "e\n",
      "a\n",
      "s\n",
      "\n",
      "\n"
     ]
    }
   ],
   "source": [
    "for t in texto:\n",
    "    print(t)"
   ]
  },
  {
   "cell_type": "code",
   "execution_count": 5,
   "id": "handed-offset",
   "metadata": {},
   "outputs": [
    {
     "data": {
      "text/plain": [
       "'\\nText'"
      ]
     },
     "execution_count": 5,
     "metadata": {},
     "output_type": "execute_result"
    }
   ],
   "source": [
    "#podemos indexar cada elemento (caracter) del texto\n",
    "texto[0:5]"
   ]
  },
  {
   "cell_type": "code",
   "execution_count": 6,
   "id": "later-witch",
   "metadata": {},
   "outputs": [
    {
     "name": "stdout",
     "output_type": "stream",
     "text": [
      "['\\n', 'T', 'e', 'x', 't', 'o', ' ', 'e', 'n', ' ', '\\n', 'd', 'o', 's', ' ', 'l', 'i', 'n', 'e', 'a', 's', '\\n']\n"
     ]
    }
   ],
   "source": [
    "#los iterables también se recorren como list comprehension:\n",
    "lista = [t for t in texto]\n",
    "print(lista)"
   ]
  },
  {
   "attachments": {},
   "cell_type": "markdown",
   "id": "aerial-fleece",
   "metadata": {},
   "source": [
    "*Nota:* Las list comprenhension se ven en detalle al final del notebook."
   ]
  },
  {
   "cell_type": "code",
   "execution_count": 7,
   "id": "compact-process",
   "metadata": {},
   "outputs": [
    {
     "data": {
      "text/plain": [
       "list"
      ]
     },
     "execution_count": 7,
     "metadata": {},
     "output_type": "execute_result"
    }
   ],
   "source": [
    "type(lista)"
   ]
  },
  {
   "attachments": {},
   "cell_type": "markdown",
   "id": "stuffed-serbia",
   "metadata": {},
   "source": [
    "### Ejercicio\n",
    "¿De qué tipo es cada elemento de la lista anterior?"
   ]
  },
  {
   "cell_type": "code",
   "execution_count": null,
   "id": "breathing-grammar",
   "metadata": {},
   "outputs": [],
   "source": []
  },
  {
   "attachments": {},
   "cell_type": "markdown",
   "id": "ultimate-oxygen",
   "metadata": {},
   "source": [
    "### Caracteres unicode en Python\n",
    "Todos los objetos `string` aceptan caracteres unicode."
   ]
  },
  {
   "cell_type": "code",
   "execution_count": 8,
   "id": "horizontal-foster",
   "metadata": {},
   "outputs": [
    {
     "data": {
      "text/plain": [
       "5"
      ]
     },
     "execution_count": 8,
     "metadata": {},
     "output_type": "execute_result"
    }
   ],
   "source": [
    "#caracteres unicode\n",
    "texto2 = \"áèï😀🛵\"\n",
    "len(texto2)"
   ]
  },
  {
   "cell_type": "code",
   "execution_count": 9,
   "id": "alone-logan",
   "metadata": {},
   "outputs": [
    {
     "data": {
      "text/plain": [
       "['á', 'è', 'ï', '😀', '🛵']"
      ]
     },
     "execution_count": 9,
     "metadata": {},
     "output_type": "execute_result"
    }
   ],
   "source": [
    "[t for t in texto2]"
   ]
  },
  {
   "cell_type": "code",
   "execution_count": 10,
   "id": "b35293d0",
   "metadata": {},
   "outputs": [
    {
     "data": {
      "text/plain": [
       "'🛵'"
      ]
     },
     "execution_count": 10,
     "metadata": {},
     "output_type": "execute_result"
    }
   ],
   "source": [
    "texto2[4]"
   ]
  },
  {
   "attachments": {},
   "cell_type": "markdown",
   "id": "9a805467",
   "metadata": {},
   "source": [
    "En la codificación unicode cada caracter se puede codificar con varios bytes"
   ]
  },
  {
   "cell_type": "code",
   "execution_count": 11,
   "id": "c1ed02b0",
   "metadata": {},
   "outputs": [
    {
     "data": {
      "text/plain": [
       "b'\\xc3\\xa1\\xc3\\xa8\\xc3\\xaf\\xf0\\x9f\\x98\\x80\\xf0\\x9f\\x9b\\xb5'"
      ]
     },
     "execution_count": 11,
     "metadata": {},
     "output_type": "execute_result"
    }
   ],
   "source": [
    "texto2.encode('UTF-8')"
   ]
  },
  {
   "cell_type": "code",
   "execution_count": 12,
   "id": "7d4717b9",
   "metadata": {},
   "outputs": [
    {
     "data": {
      "text/plain": [
       "14"
      ]
     },
     "execution_count": 12,
     "metadata": {},
     "output_type": "execute_result"
    }
   ],
   "source": [
    "len(texto2.encode('UTF-8'))"
   ]
  },
  {
   "attachments": {},
   "cell_type": "markdown",
   "id": "needed-folks",
   "metadata": {},
   "source": [
    "Texto en otros alfabetos (http://xahlee.info/comp/unicode_index.html)"
   ]
  },
  {
   "cell_type": "code",
   "execution_count": 13,
   "id": "guided-medline",
   "metadata": {},
   "outputs": [
    {
     "data": {
      "text/plain": [
       "['林', '花', '謝', '了', '春', '紅', ' ', '太', '匆', '匆']"
      ]
     },
     "execution_count": 13,
     "metadata": {},
     "output_type": "execute_result"
    }
   ],
   "source": [
    "#chino\n",
    "texto3 = \"林花謝了春紅 太匆匆\"\n",
    "[t for t in texto3]"
   ]
  },
  {
   "cell_type": "code",
   "execution_count": 14,
   "id": "medieval-netscape",
   "metadata": {},
   "outputs": [
    {
     "data": {
      "text/plain": [
       "['Б', 'б', 'в', 'Г', 'г', 'Д', 'д', 'ѭ']"
      ]
     },
     "execution_count": 14,
     "metadata": {},
     "output_type": "execute_result"
    }
   ],
   "source": [
    "#cirílico:\n",
    "texto4 = \"БбвГгДдѭ\"\n",
    "[t for t in texto4]"
   ]
  },
  {
   "cell_type": "code",
   "execution_count": 15,
   "id": "simple-audio",
   "metadata": {},
   "outputs": [],
   "source": [
    "#griego:\n",
    "texto5 = \"αβγδε\"\n",
    "lista = [t for t in texto5]"
   ]
  },
  {
   "attachments": {},
   "cell_type": "markdown",
   "id": "be790ed4",
   "metadata": {},
   "source": [
    "### Caracteres invisibles"
   ]
  },
  {
   "cell_type": "code",
   "execution_count": 16,
   "id": "2f6bcac1",
   "metadata": {},
   "outputs": [
    {
     "data": {
      "text/plain": [
       "['h', 'o', 'l', 'a', '\\n', 'm', 'u', 'n', 'd', 'o']"
      ]
     },
     "execution_count": 16,
     "metadata": {},
     "output_type": "execute_result"
    }
   ],
   "source": [
    "texto6 = \"hola\\nmundo\"\n",
    "[t for t in texto6]"
   ]
  },
  {
   "cell_type": "code",
   "execution_count": 17,
   "id": "a42761be",
   "metadata": {},
   "outputs": [
    {
     "data": {
      "text/plain": [
       "10"
      ]
     },
     "execution_count": 17,
     "metadata": {},
     "output_type": "execute_result"
    }
   ],
   "source": [
    "len(texto6)"
   ]
  },
  {
   "cell_type": "code",
   "execution_count": 18,
   "id": "85b2810b",
   "metadata": {},
   "outputs": [
    {
     "data": {
      "text/plain": [
       "'hola\\nmundo'"
      ]
     },
     "execution_count": 18,
     "metadata": {},
     "output_type": "execute_result"
    }
   ],
   "source": [
    "texto6"
   ]
  },
  {
   "cell_type": "code",
   "execution_count": 19,
   "id": "f46b316c",
   "metadata": {},
   "outputs": [
    {
     "name": "stdout",
     "output_type": "stream",
     "text": [
      "hola\n",
      "mundo\n"
     ]
    }
   ],
   "source": [
    "print(texto6)"
   ]
  },
  {
   "attachments": {},
   "cell_type": "markdown",
   "id": "4f615697",
   "metadata": {},
   "source": [
    "Si declaramos el texto como 'raw' no considera los caracteres invisibles como tales"
   ]
  },
  {
   "cell_type": "code",
   "execution_count": 20,
   "id": "a8c7d4af",
   "metadata": {},
   "outputs": [
    {
     "data": {
      "text/plain": [
       "['h', 'o', 'l', 'a', '\\\\', 'n', 'm', 'u', 'n', 'd', 'o']"
      ]
     },
     "execution_count": 20,
     "metadata": {},
     "output_type": "execute_result"
    }
   ],
   "source": [
    "texto6 = r\"hola\\nmundo\"\n",
    "[t for t in texto6]"
   ]
  },
  {
   "cell_type": "code",
   "execution_count": 21,
   "id": "42dfd28e",
   "metadata": {},
   "outputs": [
    {
     "data": {
      "text/plain": [
       "11"
      ]
     },
     "execution_count": 21,
     "metadata": {},
     "output_type": "execute_result"
    }
   ],
   "source": [
    "len(texto6)"
   ]
  },
  {
   "cell_type": "code",
   "execution_count": 22,
   "id": "1fee577e",
   "metadata": {},
   "outputs": [
    {
     "name": "stdout",
     "output_type": "stream",
     "text": [
      "hola\\nmundo\n"
     ]
    }
   ],
   "source": [
    "print(texto6)"
   ]
  },
  {
   "attachments": {},
   "cell_type": "markdown",
   "id": "rising-nudist",
   "metadata": {},
   "source": [
    "## Métodos sobre strings\n",
    "Métodos que devuelven `string`/lista de `string`:\n",
    "- `lower`\n",
    "- `upper`\n",
    "- `title`\n",
    "- `capitalize`\n",
    "- `zfill`"
   ]
  },
  {
   "cell_type": "code",
   "execution_count": 23,
   "id": "endangered-antibody",
   "metadata": {},
   "outputs": [
    {
     "data": {
      "text/plain": [
       "'TEXTO'"
      ]
     },
     "execution_count": 23,
     "metadata": {},
     "output_type": "execute_result"
    }
   ],
   "source": [
    "\"texto\".upper()"
   ]
  },
  {
   "cell_type": "code",
   "execution_count": 24,
   "id": "rental-fortune",
   "metadata": {},
   "outputs": [
    {
     "data": {
      "text/plain": [
       "'\\nTexto En \\nDos Lineas\\n'"
      ]
     },
     "execution_count": 24,
     "metadata": {},
     "output_type": "execute_result"
    }
   ],
   "source": [
    "texto.title()"
   ]
  },
  {
   "cell_type": "code",
   "execution_count": 25,
   "id": "expected-prize",
   "metadata": {},
   "outputs": [
    {
     "data": {
      "text/plain": [
       "'La Casa Azul'"
      ]
     },
     "execution_count": 25,
     "metadata": {},
     "output_type": "execute_result"
    }
   ],
   "source": [
    "\"la casa azul\".title()"
   ]
  },
  {
   "attachments": {},
   "cell_type": "markdown",
   "id": "fixed-christianity",
   "metadata": {},
   "source": [
    "Lo podemos aplicar a los elementos *string* de una lista mediante una *list comprenhension*"
   ]
  },
  {
   "cell_type": "code",
   "execution_count": 26,
   "id": "dental-arcade",
   "metadata": {},
   "outputs": [
    {
     "data": {
      "text/plain": [
       "['\\nTexto', 'en', '\\ndos', 'lineas\\n']"
      ]
     },
     "execution_count": 26,
     "metadata": {},
     "output_type": "execute_result"
    }
   ],
   "source": [
    "#creamos una lista de las palabras de nuestro texto\n",
    "lista2 = texto.split(\" \")\n",
    "lista2"
   ]
  },
  {
   "cell_type": "code",
   "execution_count": 27,
   "id": "matched-thumbnail",
   "metadata": {},
   "outputs": [
    {
     "data": {
      "text/plain": [
       "['\\nTEXTO', 'EN', '\\nDOS', 'LINEAS\\n']"
      ]
     },
     "execution_count": 27,
     "metadata": {},
     "output_type": "execute_result"
    }
   ],
   "source": [
    "#aplicamos método a cada elemento de la lista\n",
    "[c.upper() for c in lista2]"
   ]
  },
  {
   "cell_type": "code",
   "execution_count": 28,
   "id": "9d4483c5",
   "metadata": {},
   "outputs": [
    {
     "data": {
      "text/plain": [
       "'\\nTexto,en,\\ndos,lineas\\n'"
      ]
     },
     "execution_count": 28,
     "metadata": {},
     "output_type": "execute_result"
    }
   ],
   "source": [
    "#también podemos convertir una lista en string\n",
    "','.join(lista2)"
   ]
  },
  {
   "attachments": {},
   "cell_type": "markdown",
   "id": "large-radar",
   "metadata": {},
   "source": [
    "### Métodos de comparación:  \n",
    "```python\n",
    "s.startswith(t)\n",
    "s.endswith(t)\n",
    "t in s\n",
    "s.isupper(); s.islower(); s.istitle()\n",
    "s.isalpha(); s.isdigit(); s.isalnum()\n",
    "```  "
   ]
  },
  {
   "cell_type": "code",
   "execution_count": 29,
   "id": "three-briefing",
   "metadata": {},
   "outputs": [
    {
     "data": {
      "text/plain": [
       "False"
      ]
     },
     "execution_count": 29,
     "metadata": {},
     "output_type": "execute_result"
    }
   ],
   "source": [
    "'Texto'.startswith('t')"
   ]
  },
  {
   "cell_type": "code",
   "execution_count": 30,
   "id": "beneficial-makeup",
   "metadata": {},
   "outputs": [
    {
     "data": {
      "text/plain": [
       "True"
      ]
     },
     "execution_count": 30,
     "metadata": {},
     "output_type": "execute_result"
    }
   ],
   "source": [
    "'Texto'.startswith('T')"
   ]
  },
  {
   "cell_type": "code",
   "execution_count": 31,
   "id": "uniform-banana",
   "metadata": {},
   "outputs": [
    {
     "data": {
      "text/plain": [
       "True"
      ]
     },
     "execution_count": 31,
     "metadata": {},
     "output_type": "execute_result"
    }
   ],
   "source": [
    "'ex' in texto"
   ]
  },
  {
   "cell_type": "code",
   "execution_count": 32,
   "id": "concerned-battlefield",
   "metadata": {},
   "outputs": [
    {
     "data": {
      "text/plain": [
       "True"
      ]
     },
     "execution_count": 32,
     "metadata": {},
     "output_type": "execute_result"
    }
   ],
   "source": [
    "'Texto'.istitle()"
   ]
  },
  {
   "cell_type": "code",
   "execution_count": 33,
   "id": "hired-deposit",
   "metadata": {},
   "outputs": [
    {
     "data": {
      "text/plain": [
       "False"
      ]
     },
     "execution_count": 33,
     "metadata": {},
     "output_type": "execute_result"
    }
   ],
   "source": [
    "'TexTo'.istitle()"
   ]
  },
  {
   "cell_type": "code",
   "execution_count": 34,
   "id": "similar-nursing",
   "metadata": {},
   "outputs": [
    {
     "data": {
      "text/plain": [
       "False"
      ]
     },
     "execution_count": 34,
     "metadata": {},
     "output_type": "execute_result"
    }
   ],
   "source": [
    "'Texto largo'.istitle()"
   ]
  },
  {
   "attachments": {},
   "cell_type": "markdown",
   "id": "liquid-location",
   "metadata": {},
   "source": [
    "Podemos combinar las funciones de comparación con las list comprehension"
   ]
  },
  {
   "cell_type": "code",
   "execution_count": 35,
   "id": "furnished-investigator",
   "metadata": {},
   "outputs": [
    {
     "data": {
      "text/plain": [
       "['\\nTexto', 'en', '\\ndos', 'lineas\\n']"
      ]
     },
     "execution_count": 35,
     "metadata": {},
     "output_type": "execute_result"
    }
   ],
   "source": [
    "lista2"
   ]
  },
  {
   "cell_type": "code",
   "execution_count": 36,
   "id": "eligible-corpus",
   "metadata": {},
   "outputs": [
    {
     "data": {
      "text/plain": [
       "['\\nTexto']"
      ]
     },
     "execution_count": 36,
     "metadata": {},
     "output_type": "execute_result"
    }
   ],
   "source": [
    "#palabras que empiezan en mayúscula\n",
    "[w for w in lista2 if w.istitle()]"
   ]
  },
  {
   "attachments": {},
   "cell_type": "markdown",
   "id": "noble-accordance",
   "metadata": {},
   "source": [
    "### Ejercicio\n",
    "Filtra las palabras terminadas en `n` de `lista2`"
   ]
  },
  {
   "cell_type": "code",
   "execution_count": null,
   "id": "indoor-duncan",
   "metadata": {},
   "outputs": [],
   "source": []
  },
  {
   "attachments": {},
   "cell_type": "markdown",
   "id": "hungry-gallery",
   "metadata": {},
   "source": [
    "## Uso de texto en Pandas\n",
    "https://pandas.pydata.org/pandas-docs/stable/user_guide/text.html"
   ]
  },
  {
   "cell_type": "code",
   "execution_count": 37,
   "id": "coordinated-russia",
   "metadata": {},
   "outputs": [
    {
     "data": {
      "text/plain": [
       "'2.2.1'"
      ]
     },
     "execution_count": 37,
     "metadata": {},
     "output_type": "execute_result"
    }
   ],
   "source": [
    "import pandas as pd\n",
    "import numpy as np\n",
    "pd.__version__"
   ]
  },
  {
   "cell_type": "code",
   "execution_count": 38,
   "id": "plastic-roommate",
   "metadata": {},
   "outputs": [
    {
     "data": {
      "text/plain": [
       "0     \\nTexto\n",
       "1          en\n",
       "2       \\ndos\n",
       "3    lineas\\n\n",
       "dtype: object"
      ]
     },
     "execution_count": 38,
     "metadata": {},
     "output_type": "execute_result"
    }
   ],
   "source": [
    "pd.Series(lista2)"
   ]
  },
  {
   "cell_type": "code",
   "execution_count": 39,
   "id": "exotic-explosion",
   "metadata": {},
   "outputs": [
    {
     "data": {
      "text/plain": [
       "0     \n",
       "Texto\n",
       "1         en\n",
       "2       \n",
       "dos\n",
       "3    lineas\n",
       "\n",
       "dtype: string"
      ]
     },
     "execution_count": 39,
     "metadata": {},
     "output_type": "execute_result"
    }
   ],
   "source": [
    "pd.Series(lista2, dtype=\"string\") #string es un nuevo dtype de Pandas 1.0"
   ]
  },
  {
   "cell_type": "code",
   "execution_count": 40,
   "id": "dirty-invasion",
   "metadata": {},
   "outputs": [
    {
     "data": {
      "text/plain": [
       "0       A\n",
       "1       B\n",
       "2       C\n",
       "3    Aaba\n",
       "4    Baca\n",
       "5    <NA>\n",
       "6    CABA\n",
       "7     dog\n",
       "8     cat\n",
       "dtype: string"
      ]
     },
     "execution_count": 40,
     "metadata": {},
     "output_type": "execute_result"
    }
   ],
   "source": [
    "#podemos usar los métodos de str sobre los elementos del array\n",
    "s = pd.Series(\n",
    "     [\"A\", \"B\", \"C\", \"Aaba\", \"Baca\", np.nan, \"CABA\", \"dog\", \"cat\"],\n",
    "     dtype=\"string\"\n",
    " )\n",
    "s"
   ]
  },
  {
   "cell_type": "code",
   "execution_count": 41,
   "id": "universal-findings",
   "metadata": {},
   "outputs": [
    {
     "data": {
      "text/plain": [
       "0       1\n",
       "1       1\n",
       "2       1\n",
       "3       4\n",
       "4       4\n",
       "5    <NA>\n",
       "6       4\n",
       "7       3\n",
       "8       3\n",
       "dtype: Int64"
      ]
     },
     "execution_count": 41,
     "metadata": {},
     "output_type": "execute_result"
    }
   ],
   "source": [
    "#contar caracteres\n",
    "s.str.len()"
   ]
  },
  {
   "cell_type": "code",
   "execution_count": 42,
   "id": "changing-prerequisite",
   "metadata": {},
   "outputs": [
    {
     "data": {
      "text/plain": [
       "0       A\n",
       "1       B\n",
       "2       C\n",
       "3    AABA\n",
       "4    BACA\n",
       "5    <NA>\n",
       "6    CABA\n",
       "7     DOG\n",
       "8     CAT\n",
       "dtype: string"
      ]
     },
     "execution_count": 42,
     "metadata": {},
     "output_type": "execute_result"
    }
   ],
   "source": [
    "#convertir serie s en mayúsculas\n",
    "s.str.upper()"
   ]
  },
  {
   "attachments": {},
   "cell_type": "markdown",
   "id": "precious-ensemble",
   "metadata": {},
   "source": [
    "Dividir, expandir, reemplazar, o concatenar texto (extraer lo veremos con RegEx)"
   ]
  },
  {
   "cell_type": "code",
   "execution_count": 43,
   "id": "becoming-saint",
   "metadata": {},
   "outputs": [
    {
     "data": {
      "text/plain": [
       "0       [a, b, c]\n",
       "1       [c, d, e]\n",
       "2            <NA>\n",
       "3    [f, g, h, k]\n",
       "dtype: object"
      ]
     },
     "execution_count": 43,
     "metadata": {},
     "output_type": "execute_result"
    }
   ],
   "source": [
    "#split devuelve una Serie de elementos de tipo lista\n",
    "s2 = pd.Series([\"a_b_c\", \"c_d_e\", np.nan, \"f_g_h_k\"], dtype=\"string\")\n",
    "s2.str.split(\"_\")"
   ]
  },
  {
   "cell_type": "code",
   "execution_count": 44,
   "id": "seasonal-russia",
   "metadata": {},
   "outputs": [
    {
     "data": {
      "text/plain": [
       "0       b\n",
       "1       d\n",
       "2    <NA>\n",
       "3       g\n",
       "dtype: object"
      ]
     },
     "execution_count": 44,
     "metadata": {},
     "output_type": "execute_result"
    }
   ],
   "source": [
    "#podemos acceder a los elementos de la lista con str.get o str[]\n",
    "s2.str.split(\"_\").str.get(1)"
   ]
  },
  {
   "cell_type": "code",
   "execution_count": 45,
   "id": "corporate-strap",
   "metadata": {},
   "outputs": [
    {
     "data": {
      "text/plain": [
       "0       c\n",
       "1       e\n",
       "2    <NA>\n",
       "3       h\n",
       "dtype: object"
      ]
     },
     "execution_count": 45,
     "metadata": {},
     "output_type": "execute_result"
    }
   ],
   "source": [
    "s2.str.split(\"_\").str[2]"
   ]
  },
  {
   "cell_type": "code",
   "execution_count": 46,
   "id": "contrary-worry",
   "metadata": {},
   "outputs": [
    {
     "data": {
      "text/html": [
       "<div>\n",
       "<style scoped>\n",
       "    .dataframe tbody tr th:only-of-type {\n",
       "        vertical-align: middle;\n",
       "    }\n",
       "\n",
       "    .dataframe tbody tr th {\n",
       "        vertical-align: top;\n",
       "    }\n",
       "\n",
       "    .dataframe thead th {\n",
       "        text-align: right;\n",
       "    }\n",
       "</style>\n",
       "<table border=\"1\" class=\"dataframe\">\n",
       "  <thead>\n",
       "    <tr style=\"text-align: right;\">\n",
       "      <th></th>\n",
       "      <th>0</th>\n",
       "      <th>1</th>\n",
       "      <th>2</th>\n",
       "      <th>3</th>\n",
       "    </tr>\n",
       "  </thead>\n",
       "  <tbody>\n",
       "    <tr>\n",
       "      <th>0</th>\n",
       "      <td>a</td>\n",
       "      <td>b</td>\n",
       "      <td>c</td>\n",
       "      <td>&lt;NA&gt;</td>\n",
       "    </tr>\n",
       "    <tr>\n",
       "      <th>1</th>\n",
       "      <td>c</td>\n",
       "      <td>d</td>\n",
       "      <td>e</td>\n",
       "      <td>&lt;NA&gt;</td>\n",
       "    </tr>\n",
       "    <tr>\n",
       "      <th>2</th>\n",
       "      <td>&lt;NA&gt;</td>\n",
       "      <td>&lt;NA&gt;</td>\n",
       "      <td>&lt;NA&gt;</td>\n",
       "      <td>&lt;NA&gt;</td>\n",
       "    </tr>\n",
       "    <tr>\n",
       "      <th>3</th>\n",
       "      <td>f</td>\n",
       "      <td>g</td>\n",
       "      <td>h</td>\n",
       "      <td>k</td>\n",
       "    </tr>\n",
       "  </tbody>\n",
       "</table>\n",
       "</div>"
      ],
      "text/plain": [
       "      0     1     2     3\n",
       "0     a     b     c  <NA>\n",
       "1     c     d     e  <NA>\n",
       "2  <NA>  <NA>  <NA>  <NA>\n",
       "3     f     g     h     k"
      ]
     },
     "execution_count": 46,
     "metadata": {},
     "output_type": "execute_result"
    }
   ],
   "source": [
    "#podemos expandir la lista a un dataframe\n",
    "s2.str.split(\"_\", expand=True)"
   ]
  },
  {
   "cell_type": "code",
   "execution_count": 47,
   "id": "official-consultation",
   "metadata": {},
   "outputs": [
    {
     "data": {
      "text/plain": [
       "0       A\n",
       "1       B\n",
       "2       C\n",
       "3    Aaba\n",
       "4    Baca\n",
       "5        \n",
       "6    <NA>\n",
       "7    CABA\n",
       "8     dog\n",
       "9     cat\n",
       "dtype: string"
      ]
     },
     "execution_count": 47,
     "metadata": {},
     "output_type": "execute_result"
    }
   ],
   "source": [
    "s3 = pd.Series(\n",
    "     [\"A\", \"B\", \"C\", \"Aaba\", \"Baca\", \"\", np.nan, \"CABA\", \"dog\", \"cat\"],\n",
    "     dtype=\"string\",\n",
    " )\n",
    "s3"
   ]
  },
  {
   "cell_type": "code",
   "execution_count": 48,
   "id": "german-yesterday",
   "metadata": {},
   "outputs": [
    {
     "data": {
      "text/plain": [
       "0       A\n",
       "1       B\n",
       "2       C\n",
       "3    AXbX\n",
       "4    BXcX\n",
       "5        \n",
       "6    <NA>\n",
       "7    CABA\n",
       "8     dog\n",
       "9     cXt\n",
       "dtype: string"
      ]
     },
     "execution_count": 48,
     "metadata": {},
     "output_type": "execute_result"
    }
   ],
   "source": [
    "#reemplazar texto\n",
    "s3.str.replace(\"a\", \"X\", case=True)"
   ]
  },
  {
   "cell_type": "code",
   "execution_count": 49,
   "id": "monthly-awareness",
   "metadata": {},
   "outputs": [
    {
     "data": {
      "text/plain": [
       "0    a\n",
       "1    b\n",
       "2    c\n",
       "3    d\n",
       "dtype: string"
      ]
     },
     "execution_count": 49,
     "metadata": {},
     "output_type": "execute_result"
    }
   ],
   "source": [
    "s = pd.Series([\"a\", \"b\", \"c\", \"d\"], dtype=\"string\")\n",
    "s"
   ]
  },
  {
   "cell_type": "code",
   "execution_count": 50,
   "id": "involved-service",
   "metadata": {},
   "outputs": [
    {
     "data": {
      "text/plain": [
       "'a,b,c,d'"
      ]
     },
     "execution_count": 50,
     "metadata": {},
     "output_type": "execute_result"
    }
   ],
   "source": [
    "#concatenar texto (elementos de una Serie)\n",
    "s.str.cat(sep=\",\")"
   ]
  },
  {
   "cell_type": "code",
   "execution_count": 51,
   "id": "sapphire-perth",
   "metadata": {},
   "outputs": [
    {
     "data": {
      "text/plain": [
       "str"
      ]
     },
     "execution_count": 51,
     "metadata": {},
     "output_type": "execute_result"
    }
   ],
   "source": [
    "type(s.str.cat(sep=\",\"))"
   ]
  },
  {
   "cell_type": "code",
   "execution_count": 52,
   "id": "tutorial-quarter",
   "metadata": {},
   "outputs": [
    {
     "data": {
      "text/plain": [
       "0    aA\n",
       "1    bB\n",
       "2    cC\n",
       "3    dD\n",
       "dtype: string"
      ]
     },
     "execution_count": 52,
     "metadata": {},
     "output_type": "execute_result"
    }
   ],
   "source": [
    "#podemos concatenar los elementos de una Serie con otra de igual longitud\n",
    "s.str.cat([\"A\", \"B\", \"C\", \"D\"])"
   ]
  },
  {
   "attachments": {},
   "cell_type": "markdown",
   "id": "million-terry",
   "metadata": {},
   "source": [
    "Funciones de comparación: comprobar si un elemento contiene o empieza por un patrón"
   ]
  },
  {
   "cell_type": "code",
   "execution_count": 53,
   "id": "empty-substitute",
   "metadata": {},
   "outputs": [
    {
     "data": {
      "text/plain": [
       "0       A\n",
       "1       B\n",
       "2       C\n",
       "3    Aaba\n",
       "4    Baca\n",
       "5        \n",
       "6    <NA>\n",
       "7    CABA\n",
       "8     dog\n",
       "9     cat\n",
       "dtype: string"
      ]
     },
     "execution_count": 53,
     "metadata": {},
     "output_type": "execute_result"
    }
   ],
   "source": [
    "s3"
   ]
  },
  {
   "cell_type": "code",
   "execution_count": 54,
   "id": "illegal-inventory",
   "metadata": {},
   "outputs": [
    {
     "data": {
      "text/plain": [
       "0     True\n",
       "1    False\n",
       "2    False\n",
       "3     True\n",
       "4    False\n",
       "5    False\n",
       "6     <NA>\n",
       "7    False\n",
       "8    False\n",
       "9    False\n",
       "dtype: boolean"
      ]
     },
     "execution_count": 54,
     "metadata": {},
     "output_type": "execute_result"
    }
   ],
   "source": [
    "s3.str.match(\"A\") #comienza por el patrón"
   ]
  },
  {
   "cell_type": "code",
   "execution_count": 55,
   "id": "attractive-cisco",
   "metadata": {},
   "outputs": [
    {
     "data": {
      "text/html": [
       "<div>\n",
       "<style scoped>\n",
       "    .dataframe tbody tr th:only-of-type {\n",
       "        vertical-align: middle;\n",
       "    }\n",
       "\n",
       "    .dataframe tbody tr th {\n",
       "        vertical-align: top;\n",
       "    }\n",
       "\n",
       "    .dataframe thead th {\n",
       "        text-align: right;\n",
       "    }\n",
       "</style>\n",
       "<table border=\"1\" class=\"dataframe\">\n",
       "  <thead>\n",
       "    <tr style=\"text-align: right;\">\n",
       "      <th></th>\n",
       "      <th>0</th>\n",
       "      <th>1</th>\n",
       "    </tr>\n",
       "  </thead>\n",
       "  <tbody>\n",
       "    <tr>\n",
       "      <th>0</th>\n",
       "      <td>A</td>\n",
       "      <td>True</td>\n",
       "    </tr>\n",
       "    <tr>\n",
       "      <th>1</th>\n",
       "      <td>B</td>\n",
       "      <td>False</td>\n",
       "    </tr>\n",
       "    <tr>\n",
       "      <th>2</th>\n",
       "      <td>C</td>\n",
       "      <td>False</td>\n",
       "    </tr>\n",
       "    <tr>\n",
       "      <th>3</th>\n",
       "      <td>Aaba</td>\n",
       "      <td>True</td>\n",
       "    </tr>\n",
       "    <tr>\n",
       "      <th>4</th>\n",
       "      <td>Baca</td>\n",
       "      <td>False</td>\n",
       "    </tr>\n",
       "    <tr>\n",
       "      <th>5</th>\n",
       "      <td></td>\n",
       "      <td>False</td>\n",
       "    </tr>\n",
       "    <tr>\n",
       "      <th>6</th>\n",
       "      <td>&lt;NA&gt;</td>\n",
       "      <td>&lt;NA&gt;</td>\n",
       "    </tr>\n",
       "    <tr>\n",
       "      <th>7</th>\n",
       "      <td>CABA</td>\n",
       "      <td>False</td>\n",
       "    </tr>\n",
       "    <tr>\n",
       "      <th>8</th>\n",
       "      <td>dog</td>\n",
       "      <td>False</td>\n",
       "    </tr>\n",
       "    <tr>\n",
       "      <th>9</th>\n",
       "      <td>cat</td>\n",
       "      <td>False</td>\n",
       "    </tr>\n",
       "  </tbody>\n",
       "</table>\n",
       "</div>"
      ],
      "text/plain": [
       "      0      1\n",
       "0     A   True\n",
       "1     B  False\n",
       "2     C  False\n",
       "3  Aaba   True\n",
       "4  Baca  False\n",
       "5        False\n",
       "6  <NA>   <NA>\n",
       "7  CABA  False\n",
       "8   dog  False\n",
       "9   cat  False"
      ]
     },
     "execution_count": 55,
     "metadata": {},
     "output_type": "execute_result"
    }
   ],
   "source": [
    "pd.concat([s3, s3.str.startswith(\"A\")], axis=1) #comienza por patrón"
   ]
  },
  {
   "cell_type": "code",
   "execution_count": 56,
   "id": "following-heating",
   "metadata": {},
   "outputs": [
    {
     "data": {
      "text/html": [
       "<div>\n",
       "<style scoped>\n",
       "    .dataframe tbody tr th:only-of-type {\n",
       "        vertical-align: middle;\n",
       "    }\n",
       "\n",
       "    .dataframe tbody tr th {\n",
       "        vertical-align: top;\n",
       "    }\n",
       "\n",
       "    .dataframe thead th {\n",
       "        text-align: right;\n",
       "    }\n",
       "</style>\n",
       "<table border=\"1\" class=\"dataframe\">\n",
       "  <thead>\n",
       "    <tr style=\"text-align: right;\">\n",
       "      <th></th>\n",
       "      <th>0</th>\n",
       "      <th>1</th>\n",
       "    </tr>\n",
       "  </thead>\n",
       "  <tbody>\n",
       "    <tr>\n",
       "      <th>0</th>\n",
       "      <td>A</td>\n",
       "      <td>True</td>\n",
       "    </tr>\n",
       "    <tr>\n",
       "      <th>1</th>\n",
       "      <td>B</td>\n",
       "      <td>False</td>\n",
       "    </tr>\n",
       "    <tr>\n",
       "      <th>2</th>\n",
       "      <td>C</td>\n",
       "      <td>False</td>\n",
       "    </tr>\n",
       "    <tr>\n",
       "      <th>3</th>\n",
       "      <td>Aaba</td>\n",
       "      <td>True</td>\n",
       "    </tr>\n",
       "    <tr>\n",
       "      <th>4</th>\n",
       "      <td>Baca</td>\n",
       "      <td>False</td>\n",
       "    </tr>\n",
       "    <tr>\n",
       "      <th>5</th>\n",
       "      <td></td>\n",
       "      <td>False</td>\n",
       "    </tr>\n",
       "    <tr>\n",
       "      <th>6</th>\n",
       "      <td>&lt;NA&gt;</td>\n",
       "      <td>&lt;NA&gt;</td>\n",
       "    </tr>\n",
       "    <tr>\n",
       "      <th>7</th>\n",
       "      <td>CABA</td>\n",
       "      <td>True</td>\n",
       "    </tr>\n",
       "    <tr>\n",
       "      <th>8</th>\n",
       "      <td>dog</td>\n",
       "      <td>False</td>\n",
       "    </tr>\n",
       "    <tr>\n",
       "      <th>9</th>\n",
       "      <td>cat</td>\n",
       "      <td>False</td>\n",
       "    </tr>\n",
       "  </tbody>\n",
       "</table>\n",
       "</div>"
      ],
      "text/plain": [
       "      0      1\n",
       "0     A   True\n",
       "1     B  False\n",
       "2     C  False\n",
       "3  Aaba   True\n",
       "4  Baca  False\n",
       "5        False\n",
       "6  <NA>   <NA>\n",
       "7  CABA   True\n",
       "8   dog  False\n",
       "9   cat  False"
      ]
     },
     "execution_count": 56,
     "metadata": {},
     "output_type": "execute_result"
    }
   ],
   "source": [
    "pd.concat([s3, s3.str.contains(\"A\")], axis=1) #contiene el patrón"
   ]
  },
  {
   "cell_type": "code",
   "execution_count": 57,
   "id": "internal-invitation",
   "metadata": {},
   "outputs": [
    {
     "data": {
      "text/html": [
       "<div>\n",
       "<style scoped>\n",
       "    .dataframe tbody tr th:only-of-type {\n",
       "        vertical-align: middle;\n",
       "    }\n",
       "\n",
       "    .dataframe tbody tr th {\n",
       "        vertical-align: top;\n",
       "    }\n",
       "\n",
       "    .dataframe thead th {\n",
       "        text-align: right;\n",
       "    }\n",
       "</style>\n",
       "<table border=\"1\" class=\"dataframe\">\n",
       "  <thead>\n",
       "    <tr style=\"text-align: right;\">\n",
       "      <th></th>\n",
       "      <th>0</th>\n",
       "      <th>1</th>\n",
       "    </tr>\n",
       "  </thead>\n",
       "  <tbody>\n",
       "    <tr>\n",
       "      <th>0</th>\n",
       "      <td>A</td>\n",
       "      <td>True</td>\n",
       "    </tr>\n",
       "    <tr>\n",
       "      <th>1</th>\n",
       "      <td>B</td>\n",
       "      <td>False</td>\n",
       "    </tr>\n",
       "    <tr>\n",
       "      <th>2</th>\n",
       "      <td>C</td>\n",
       "      <td>False</td>\n",
       "    </tr>\n",
       "    <tr>\n",
       "      <th>3</th>\n",
       "      <td>Aaba</td>\n",
       "      <td>False</td>\n",
       "    </tr>\n",
       "    <tr>\n",
       "      <th>4</th>\n",
       "      <td>Baca</td>\n",
       "      <td>False</td>\n",
       "    </tr>\n",
       "    <tr>\n",
       "      <th>5</th>\n",
       "      <td></td>\n",
       "      <td>False</td>\n",
       "    </tr>\n",
       "    <tr>\n",
       "      <th>6</th>\n",
       "      <td>&lt;NA&gt;</td>\n",
       "      <td>&lt;NA&gt;</td>\n",
       "    </tr>\n",
       "    <tr>\n",
       "      <th>7</th>\n",
       "      <td>CABA</td>\n",
       "      <td>False</td>\n",
       "    </tr>\n",
       "    <tr>\n",
       "      <th>8</th>\n",
       "      <td>dog</td>\n",
       "      <td>False</td>\n",
       "    </tr>\n",
       "    <tr>\n",
       "      <th>9</th>\n",
       "      <td>cat</td>\n",
       "      <td>False</td>\n",
       "    </tr>\n",
       "  </tbody>\n",
       "</table>\n",
       "</div>"
      ],
      "text/plain": [
       "      0      1\n",
       "0     A   True\n",
       "1     B  False\n",
       "2     C  False\n",
       "3  Aaba  False\n",
       "4  Baca  False\n",
       "5        False\n",
       "6  <NA>   <NA>\n",
       "7  CABA  False\n",
       "8   dog  False\n",
       "9   cat  False"
      ]
     },
     "execution_count": 57,
     "metadata": {},
     "output_type": "execute_result"
    }
   ],
   "source": [
    "pd.concat([s3, s3.str.fullmatch(\"A\")], axis=1) #es igual al patrón"
   ]
  },
  {
   "attachments": {},
   "cell_type": "markdown",
   "id": "selected-elder",
   "metadata": {},
   "source": [
    "El listado completo de métodos para *strings* está en https://pandas.pydata.org/pandas-docs/stable/user_guide/text.html#method-summary"
   ]
  },
  {
   "attachments": {},
   "cell_type": "markdown",
   "id": "stylish-empty",
   "metadata": {},
   "source": [
    "## Objetos iteradores"
   ]
  },
  {
   "cell_type": "markdown",
   "id": "65c9c629",
   "metadata": {},
   "source": [
    "Los objetos de tipo `iterator` son objetos que sólo se pueden recorrer secuencialmente como un *iterable* y adicionalmente con la función `next()`"
   ]
  },
  {
   "cell_type": "code",
   "execution_count": 58,
   "id": "noted-hurricane",
   "metadata": {},
   "outputs": [],
   "source": [
    "#la función range es un caso especial de iterator\n",
    "x=range(10)"
   ]
  },
  {
   "cell_type": "code",
   "execution_count": 59,
   "id": "civil-conjunction",
   "metadata": {},
   "outputs": [
    {
     "data": {
      "text/plain": [
       "range(0, 10)"
      ]
     },
     "execution_count": 59,
     "metadata": {},
     "output_type": "execute_result"
    }
   ],
   "source": [
    "x"
   ]
  },
  {
   "cell_type": "code",
   "execution_count": 60,
   "id": "previous-motel",
   "metadata": {},
   "outputs": [
    {
     "name": "stdout",
     "output_type": "stream",
     "text": [
      "0\n",
      "1\n",
      "2\n",
      "3\n",
      "4\n",
      "5\n",
      "6\n",
      "7\n",
      "8\n",
      "9\n"
     ]
    }
   ],
   "source": [
    "#los generadores son iterables\n",
    "for i in x:\n",
    "    print(i)"
   ]
  },
  {
   "cell_type": "code",
   "execution_count": 61,
   "id": "continued-blond",
   "metadata": {},
   "outputs": [
    {
     "data": {
      "text/plain": [
       "<generator object <genexpr> at 0x7fc8a02619a0>"
      ]
     },
     "execution_count": 61,
     "metadata": {},
     "output_type": "execute_result"
    }
   ],
   "source": [
    "#generator comprenhension\n",
    "gen = (i**2 for i in range(10))\n",
    "gen"
   ]
  },
  {
   "cell_type": "markdown",
   "id": "40ad25c3",
   "metadata": {},
   "source": [
    "Los generadores son otro caso de `iterator`"
   ]
  },
  {
   "cell_type": "code",
   "execution_count": 62,
   "id": "e2353026",
   "metadata": {},
   "outputs": [
    {
     "data": {
      "text/plain": [
       "[0, 1, 4, 9, 16, 25, 36, 49, 64, 81]"
      ]
     },
     "execution_count": 62,
     "metadata": {},
     "output_type": "execute_result"
    }
   ],
   "source": [
    "[i**2 for i in range(10)]"
   ]
  },
  {
   "attachments": {},
   "cell_type": "markdown",
   "id": "functioning-chicago",
   "metadata": {},
   "source": [
    "Los `iterator` se pueden recorrer con un bucle `for` pero también con la función `next()`.  "
   ]
  },
  {
   "cell_type": "code",
   "execution_count": 63,
   "id": "scientific-trash",
   "metadata": {},
   "outputs": [
    {
     "data": {
      "text/plain": [
       "0"
      ]
     },
     "execution_count": 63,
     "metadata": {},
     "output_type": "execute_result"
    }
   ],
   "source": [
    "next(gen)"
   ]
  },
  {
   "attachments": {},
   "cell_type": "markdown",
   "id": "a79a18a1",
   "metadata": {},
   "source": [
    "Un iterador no se puede indexar..."
   ]
  },
  {
   "cell_type": "code",
   "execution_count": 64,
   "id": "1318ef05",
   "metadata": {},
   "outputs": [
    {
     "name": "stdout",
     "output_type": "stream",
     "text": [
      "TypeError: 'generator' object is not subscriptable\n"
     ]
    }
   ],
   "source": [
    "try:\n",
    "    gen[2]\n",
    "except TypeError as e:\n",
    "    print(f\"TypeError: {e}\")"
   ]
  },
  {
   "attachments": {},
   "cell_type": "markdown",
   "id": "06ff96fe",
   "metadata": {},
   "source": [
    "Ni tiene un atributo de longitud..."
   ]
  },
  {
   "cell_type": "code",
   "execution_count": 65,
   "id": "6e595bc2",
   "metadata": {},
   "outputs": [
    {
     "name": "stdout",
     "output_type": "stream",
     "text": [
      "TypeError: object of type 'generator' has no len()\n"
     ]
    }
   ],
   "source": [
    "try:\n",
    "    len(gen)\n",
    "except TypeError as e:\n",
    "    print(f\"TypeError: {e}\")"
   ]
  },
  {
   "attachments": {},
   "cell_type": "markdown",
   "id": "statutory-harvard",
   "metadata": {},
   "source": [
    "Los `iterator` se consumen al iterar sobre ellos, por lo que no es posible volver a generar el mismo miembro. En el siguiente bucle se comienza por el 2º elemento"
   ]
  },
  {
   "cell_type": "code",
   "execution_count": 66,
   "id": "sustainable-mileage",
   "metadata": {},
   "outputs": [
    {
     "name": "stdout",
     "output_type": "stream",
     "text": [
      "1\n",
      "4\n",
      "9\n",
      "16\n",
      "25\n",
      "36\n",
      "49\n",
      "64\n",
      "81\n"
     ]
    }
   ],
   "source": [
    "for i in gen:\n",
    "    print(i)"
   ]
  },
  {
   "cell_type": "code",
   "execution_count": 67,
   "id": "28dbcc6b",
   "metadata": {},
   "outputs": [
    {
     "name": "stdout",
     "output_type": "stream",
     "text": [
      "StopIteration\n"
     ]
    }
   ],
   "source": [
    "try:\n",
    "    next(gen)\n",
    "except StopIteration:\n",
    "    print(\"StopIteration\")"
   ]
  },
  {
   "cell_type": "code",
   "execution_count": 68,
   "id": "worst-former",
   "metadata": {},
   "outputs": [
    {
     "data": {
      "text/plain": [
       "104"
      ]
     },
     "execution_count": 68,
     "metadata": {},
     "output_type": "execute_result"
    }
   ],
   "source": [
    "import sys\n",
    "sys.getsizeof(gen)"
   ]
  },
  {
   "attachments": {},
   "cell_type": "markdown",
   "id": "warming-mandate",
   "metadata": {},
   "source": [
    "Podemos volcar los contenidos de un `iterador` a una lista (objeto `iterable`), que sí ocupa memoria por cada uno de sus elementos."
   ]
  },
  {
   "cell_type": "code",
   "execution_count": 69,
   "id": "mounted-shame",
   "metadata": {},
   "outputs": [],
   "source": [
    "gen = (i**2 for i in range(100))\n",
    "lista_gen = list(gen)"
   ]
  },
  {
   "cell_type": "code",
   "execution_count": 70,
   "id": "victorian-nebraska",
   "metadata": {},
   "outputs": [
    {
     "data": {
      "text/plain": [
       "104"
      ]
     },
     "execution_count": 70,
     "metadata": {},
     "output_type": "execute_result"
    }
   ],
   "source": [
    "sys.getsizeof(gen)"
   ]
  },
  {
   "cell_type": "code",
   "execution_count": 71,
   "id": "overall-precipitation",
   "metadata": {},
   "outputs": [
    {
     "data": {
      "text/plain": [
       "920"
      ]
     },
     "execution_count": 71,
     "metadata": {},
     "output_type": "execute_result"
    }
   ],
   "source": [
    "sys.getsizeof(lista_gen)"
   ]
  },
  {
   "cell_type": "code",
   "execution_count": 72,
   "id": "august-interval",
   "metadata": {},
   "outputs": [],
   "source": [
    "#lo anterior equivale a un list comprenhension de los mismos valores\n",
    "lista = [i**2 for i in range(10)]"
   ]
  },
  {
   "cell_type": "code",
   "execution_count": 73,
   "id": "black-compact",
   "metadata": {},
   "outputs": [
    {
     "data": {
      "text/plain": [
       "[0, 1, 4, 9, 16, 25, 36, 49, 64, 81]"
      ]
     },
     "execution_count": 73,
     "metadata": {},
     "output_type": "execute_result"
    }
   ],
   "source": [
    "lista"
   ]
  },
  {
   "attachments": {},
   "cell_type": "markdown",
   "id": "b9a64bcb",
   "metadata": {},
   "source": [
    "Podemos convertir cualquier objeto *iterable* en objeto de tipo `iterator` mediante la función `iter()`"
   ]
  },
  {
   "cell_type": "code",
   "execution_count": 74,
   "id": "played-disney",
   "metadata": {},
   "outputs": [],
   "source": [
    "gen_lista = iter(lista)"
   ]
  },
  {
   "cell_type": "code",
   "execution_count": 75,
   "id": "available-costume",
   "metadata": {},
   "outputs": [
    {
     "data": {
      "text/plain": [
       "<list_iterator at 0x7fc8a023f250>"
      ]
     },
     "execution_count": 75,
     "metadata": {},
     "output_type": "execute_result"
    }
   ],
   "source": [
    "gen_lista"
   ]
  },
  {
   "cell_type": "code",
   "execution_count": 76,
   "id": "established-reality",
   "metadata": {},
   "outputs": [
    {
     "data": {
      "text/plain": [
       "0"
      ]
     },
     "execution_count": 76,
     "metadata": {},
     "output_type": "execute_result"
    }
   ],
   "source": [
    "next(gen_lista)"
   ]
  },
  {
   "cell_type": "code",
   "execution_count": 77,
   "id": "bizarre-darkness",
   "metadata": {},
   "outputs": [
    {
     "name": "stdout",
     "output_type": "stream",
     "text": [
      "1\n",
      "4\n",
      "9\n",
      "16\n",
      "25\n",
      "36\n",
      "49\n",
      "64\n",
      "81\n"
     ]
    }
   ],
   "source": [
    "for i in gen_lista:\n",
    "    print(i)"
   ]
  },
  {
   "cell_type": "markdown",
   "id": "7fce3162",
   "metadata": {},
   "source": [
    "Podemos crear un `iterator` a partir de un objeto *iterable* mediante la función `map()`"
   ]
  },
  {
   "cell_type": "code",
   "execution_count": 78,
   "id": "85ea89e5",
   "metadata": {},
   "outputs": [
    {
     "data": {
      "text/plain": [
       "<map at 0x7fc8a023ed70>"
      ]
     },
     "execution_count": 78,
     "metadata": {},
     "output_type": "execute_result"
    }
   ],
   "source": [
    "lista = [\"uno\", \"dos\", \"tres\"]\n",
    "mapa = map(str.upper, lista)\n",
    "mapa"
   ]
  },
  {
   "cell_type": "code",
   "execution_count": 79,
   "id": "4516fac5",
   "metadata": {},
   "outputs": [
    {
     "data": {
      "text/plain": [
       "'UNO'"
      ]
     },
     "execution_count": 79,
     "metadata": {},
     "output_type": "execute_result"
    }
   ],
   "source": [
    "next(mapa)"
   ]
  },
  {
   "cell_type": "code",
   "execution_count": 80,
   "id": "09696e01",
   "metadata": {},
   "outputs": [
    {
     "name": "stdout",
     "output_type": "stream",
     "text": [
      "DOS\n",
      "TRES\n"
     ]
    }
   ],
   "source": [
    "for s in mapa:\n",
    "    print(s)"
   ]
  },
  {
   "attachments": {},
   "cell_type": "markdown",
   "id": "nuclear-hawaii",
   "metadata": {},
   "source": [
    "### Enumerando iterables\n",
    "La función nativa `enumerate` permite iterar sobre un iterable y mantener la cuenta de la iteración. La función `enumerate` es en sí mismo *iterable*."
   ]
  },
  {
   "cell_type": "code",
   "execution_count": 81,
   "id": "attached-piano",
   "metadata": {},
   "outputs": [
    {
     "data": {
      "text/plain": [
       "<enumerate at 0x7fc8a02a2fc0>"
      ]
     },
     "execution_count": 81,
     "metadata": {},
     "output_type": "execute_result"
    }
   ],
   "source": [
    "enumerate(lista)"
   ]
  },
  {
   "cell_type": "code",
   "execution_count": 82,
   "id": "intimate-chicago",
   "metadata": {},
   "outputs": [
    {
     "name": "stdout",
     "output_type": "stream",
     "text": [
      "0 \n",
      "Texto\n",
      "1 en\n",
      "2 \n",
      "dos\n",
      "3 lineas\n",
      "\n"
     ]
    }
   ],
   "source": [
    "for i,j in enumerate(lista2):\n",
    "    print(i,j)"
   ]
  },
  {
   "cell_type": "code",
   "execution_count": 83,
   "id": "e7bb36c3",
   "metadata": {},
   "outputs": [
    {
     "data": {
      "text/plain": [
       "['\\nTexto', 'en', '\\ndos', 'lineas\\n']"
      ]
     },
     "execution_count": 83,
     "metadata": {},
     "output_type": "execute_result"
    }
   ],
   "source": [
    "lista2"
   ]
  },
  {
   "cell_type": "code",
   "execution_count": 84,
   "id": "d5d50fb3",
   "metadata": {},
   "outputs": [
    {
     "name": "stdout",
     "output_type": "stream",
     "text": [
      "0 0\n",
      "1 1\n",
      "2 4\n",
      "3 9\n",
      "4 16\n",
      "5 25\n",
      "6 36\n",
      "7 49\n",
      "8 64\n",
      "9 81\n"
     ]
    }
   ],
   "source": [
    "for i,j in enumerate((i**2 for i in range(10))):\n",
    "    print(i,j)"
   ]
  },
  {
   "cell_type": "code",
   "execution_count": 85,
   "id": "molecular-medication",
   "metadata": {},
   "outputs": [
    {
     "name": "stdout",
     "output_type": "stream",
     "text": [
      "Palabra 0: Esta\n",
      "Palabra 1: es\n",
      "Palabra 2: una\n",
      "Palabra 3: frase\n"
     ]
    }
   ],
   "source": [
    "for (i, p) in enumerate(\"Esta es una frase\".split(' ')):\n",
    "    print(f\"Palabra {i}: {p}\")"
   ]
  },
  {
   "attachments": {},
   "cell_type": "markdown",
   "id": "psychological-coordination",
   "metadata": {},
   "source": [
    "### Uso de *list/generator comprenhensions*\n",
    "Podemos usar una expresión `if-else` dentro de la *comprenhension*"
   ]
  },
  {
   "cell_type": "code",
   "execution_count": 86,
   "id": "nuclear-musical",
   "metadata": {},
   "outputs": [
    {
     "data": {
      "text/plain": [
       "['par',\n",
       " 'impar',\n",
       " 'par',\n",
       " 'impar',\n",
       " 'par',\n",
       " 'impar',\n",
       " 'par',\n",
       " 'impar',\n",
       " 'par',\n",
       " 'impar']"
      ]
     },
     "execution_count": 86,
     "metadata": {},
     "output_type": "execute_result"
    }
   ],
   "source": [
    "['impar' if i%2 else 'par' for i in range(10)]"
   ]
  },
  {
   "cell_type": "code",
   "execution_count": 87,
   "id": "raising-schema",
   "metadata": {},
   "outputs": [
    {
     "data": {
      "text/plain": [
       "[(0, 'par'),\n",
       " (1, 'impar'),\n",
       " (2, 'par'),\n",
       " (3, 'impar'),\n",
       " (4, 'par'),\n",
       " (5, 'impar'),\n",
       " (6, 'par'),\n",
       " (7, 'impar'),\n",
       " (8, 'par'),\n",
       " (9, 'impar')]"
      ]
     },
     "execution_count": 87,
     "metadata": {},
     "output_type": "execute_result"
    }
   ],
   "source": [
    "#devolviendo una tupla con (valor, par/impar)\n",
    "[(i,'impar' if i%2 else 'par') for i in range(10)]"
   ]
  },
  {
   "cell_type": "code",
   "execution_count": 88,
   "id": "31898cba",
   "metadata": {},
   "outputs": [
    {
     "data": {
      "text/plain": [
       "[(1, 'impar'), (3, 'impar'), (5, 'impar'), (7, 'impar'), (9, 'impar')]"
      ]
     },
     "execution_count": 88,
     "metadata": {},
     "output_type": "execute_result"
    }
   ],
   "source": [
    "#devolviendo una tupla con (valor, par/impar)\n",
    "[(i,'impar') for i in range(10) if i%2]"
   ]
  },
  {
   "cell_type": "code",
   "execution_count": 89,
   "id": "resident-essex",
   "metadata": {},
   "outputs": [
    {
     "data": {
      "text/plain": [
       "['en']"
      ]
     },
     "execution_count": 89,
     "metadata": {},
     "output_type": "execute_result"
    }
   ],
   "source": [
    "#podemos combinar con funciones sobre str\n",
    "[c.upper() if len(c)>3 else c for c in lista2 if c.endswith('n')]"
   ]
  },
  {
   "cell_type": "code",
   "execution_count": 90,
   "id": "local-deviation",
   "metadata": {},
   "outputs": [],
   "source": [
    "#también lo podemos hacer sobre un generador\n",
    "gen = (c.upper() if len(c)>3 else c for c in lista2 if c.endswith('n'))"
   ]
  },
  {
   "cell_type": "code",
   "execution_count": 91,
   "id": "standing-organizer",
   "metadata": {},
   "outputs": [
    {
     "data": {
      "text/plain": [
       "<generator object <genexpr> at 0x7fc8a0262a40>"
      ]
     },
     "execution_count": 91,
     "metadata": {},
     "output_type": "execute_result"
    }
   ],
   "source": [
    "gen"
   ]
  },
  {
   "cell_type": "code",
   "execution_count": 92,
   "id": "ancient-spray",
   "metadata": {},
   "outputs": [
    {
     "name": "stdout",
     "output_type": "stream",
     "text": [
      "en\n"
     ]
    }
   ],
   "source": [
    "for i in gen:\n",
    "    print(i)"
   ]
  },
  {
   "cell_type": "code",
   "execution_count": 93,
   "id": "0bfc2347",
   "metadata": {},
   "outputs": [],
   "source": [
    "#también podemos generar tuplas con los list / generator comprenhension\n",
    "gen = ((i, i**2) for i in range(10))"
   ]
  },
  {
   "cell_type": "code",
   "execution_count": 94,
   "id": "bce329cf",
   "metadata": {},
   "outputs": [
    {
     "name": "stdout",
     "output_type": "stream",
     "text": [
      "(0, 0)\n",
      "(1, 1)\n",
      "(2, 4)\n",
      "(3, 9)\n",
      "(4, 16)\n",
      "(5, 25)\n",
      "(6, 36)\n",
      "(7, 49)\n",
      "(8, 64)\n",
      "(9, 81)\n"
     ]
    }
   ],
   "source": [
    "for i in gen:\n",
    "    print(i)\n"
   ]
  },
  {
   "cell_type": "code",
   "execution_count": 95,
   "id": "cb8a731d",
   "metadata": {},
   "outputs": [
    {
     "name": "stdout",
     "output_type": "stream",
     "text": [
      "El cuadrado de 0 es 0\n",
      "El cuadrado de 1 es 1\n",
      "El cuadrado de 2 es 4\n",
      "El cuadrado de 3 es 9\n",
      "El cuadrado de 4 es 16\n",
      "El cuadrado de 5 es 25\n",
      "El cuadrado de 6 es 36\n",
      "El cuadrado de 7 es 49\n",
      "El cuadrado de 8 es 64\n",
      "El cuadrado de 9 es 81\n"
     ]
    }
   ],
   "source": [
    "for i,j in ((i, i**2) for i in range(10)):\n",
    "    print(f\"El cuadrado de {i} es {j}\")"
   ]
  },
  {
   "cell_type": "code",
   "execution_count": null,
   "id": "devoted-delhi",
   "metadata": {},
   "outputs": [],
   "source": []
  }
 ],
 "metadata": {
  "kernelspec": {
   "display_name": "Python 3",
   "language": "python",
   "name": "python3"
  },
  "language_info": {
   "codemirror_mode": {
    "name": "ipython",
    "version": 3
   },
   "file_extension": ".py",
   "mimetype": "text/x-python",
   "name": "python",
   "nbconvert_exporter": "python",
   "pygments_lexer": "ipython3",
   "version": "3.10.13"
  }
 },
 "nbformat": 4,
 "nbformat_minor": 5
}
