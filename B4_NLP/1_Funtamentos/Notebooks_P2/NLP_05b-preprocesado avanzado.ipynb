{
 "cells": [
  {
   "cell_type": "markdown",
   "id": "positive-driver",
   "metadata": {},
   "source": [
    "# Funciones avanzadas de preprocesado\n",
    "Técnicas que utilizan un modelo ML del lenguaje para extraer información morfologica/semántica del texto"
   ]
  },
  {
   "cell_type": "code",
   "execution_count": 1,
   "id": "cathedral-tennessee",
   "metadata": {},
   "outputs": [],
   "source": [
    "import spacy\n",
    "import pandas as pd\n",
    "from spacy import displacy\n",
    "\n",
    "import es_core_news_md\n",
    "nlp = es_core_news_md.load()"
   ]
  },
  {
   "cell_type": "code",
   "execution_count": 2,
   "id": "0c0a85ea-89e6-456d-a6dd-bedd6ff48709",
   "metadata": {},
   "outputs": [
    {
     "data": {
      "text/plain": [
       "['tok2vec',\n",
       " 'morphologizer',\n",
       " 'parser',\n",
       " 'senter',\n",
       " 'attribute_ruler',\n",
       " 'lemmatizer',\n",
       " 'ner']"
      ]
     },
     "execution_count": 2,
     "metadata": {},
     "output_type": "execute_result"
    }
   ],
   "source": [
    "nlp.component_names"
   ]
  },
  {
   "cell_type": "markdown",
   "id": "7571e472",
   "metadata": {},
   "source": [
    "## Part of Speech"
   ]
  },
  {
   "cell_type": "code",
   "execution_count": 3,
   "id": "276276d2",
   "metadata": {},
   "outputs": [
    {
     "data": {
      "text/html": [
       "<div>\n",
       "<style scoped>\n",
       "    .dataframe tbody tr th:only-of-type {\n",
       "        vertical-align: middle;\n",
       "    }\n",
       "\n",
       "    .dataframe tbody tr th {\n",
       "        vertical-align: top;\n",
       "    }\n",
       "\n",
       "    .dataframe thead th {\n",
       "        text-align: right;\n",
       "    }\n",
       "</style>\n",
       "<table border=\"1\" class=\"dataframe\">\n",
       "  <thead>\n",
       "    <tr style=\"text-align: right;\">\n",
       "      <th></th>\n",
       "      <th>text</th>\n",
       "      <th>POS</th>\n",
       "      <th>morph</th>\n",
       "    </tr>\n",
       "  </thead>\n",
       "  <tbody>\n",
       "    <tr>\n",
       "      <th>0</th>\n",
       "      <td>el</td>\n",
       "      <td>DET</td>\n",
       "      <td>(Definite=Def, Gender=Masc, Number=Sing, PronT...</td>\n",
       "    </tr>\n",
       "    <tr>\n",
       "      <th>1</th>\n",
       "      <td>perro</td>\n",
       "      <td>NOUN</td>\n",
       "      <td>(Gender=Masc, Number=Sing)</td>\n",
       "    </tr>\n",
       "    <tr>\n",
       "      <th>2</th>\n",
       "      <td>de</td>\n",
       "      <td>ADP</td>\n",
       "      <td>()</td>\n",
       "    </tr>\n",
       "    <tr>\n",
       "      <th>3</th>\n",
       "      <td>Juan</td>\n",
       "      <td>PROPN</td>\n",
       "      <td>()</td>\n",
       "    </tr>\n",
       "    <tr>\n",
       "      <th>4</th>\n",
       "      <td>se</td>\n",
       "      <td>PRON</td>\n",
       "      <td>(Case=Dat, Person=3, PrepCase=Npr, PronType=Pr...</td>\n",
       "    </tr>\n",
       "    <tr>\n",
       "      <th>5</th>\n",
       "      <td>comió</td>\n",
       "      <td>VERB</td>\n",
       "      <td>(Mood=Ind, Number=Sing, Person=3, Tense=Past, ...</td>\n",
       "    </tr>\n",
       "    <tr>\n",
       "      <th>6</th>\n",
       "      <td>mi</td>\n",
       "      <td>DET</td>\n",
       "      <td>(Number=Sing, Number[psor]=Sing, Person=1, Pos...</td>\n",
       "    </tr>\n",
       "    <tr>\n",
       "      <th>7</th>\n",
       "      <td>bocadillo</td>\n",
       "      <td>NOUN</td>\n",
       "      <td>(Gender=Masc, Number=Sing)</td>\n",
       "    </tr>\n",
       "  </tbody>\n",
       "</table>\n",
       "</div>"
      ],
      "text/plain": [
       "        text    POS                                              morph\n",
       "0         el    DET  (Definite=Def, Gender=Masc, Number=Sing, PronT...\n",
       "1      perro   NOUN                         (Gender=Masc, Number=Sing)\n",
       "2         de    ADP                                                 ()\n",
       "3       Juan  PROPN                                                 ()\n",
       "4         se   PRON  (Case=Dat, Person=3, PrepCase=Npr, PronType=Pr...\n",
       "5      comió   VERB  (Mood=Ind, Number=Sing, Person=3, Tense=Past, ...\n",
       "6         mi    DET  (Number=Sing, Number[psor]=Sing, Person=1, Pos...\n",
       "7  bocadillo   NOUN                         (Gender=Masc, Number=Sing)"
      ]
     },
     "execution_count": 3,
     "metadata": {},
     "output_type": "execute_result"
    }
   ],
   "source": [
    "doc = nlp(\"el perro de Juan se comió mi bocadillo\")\n",
    "\n",
    "pd.DataFrame([(t.text, t.pos_, t.morph) for t in doc], columns=['text', 'POS', 'morph'])"
   ]
  },
  {
   "cell_type": "markdown",
   "id": "amateur-entity",
   "metadata": {},
   "source": [
    "## Named Entity Recognition"
   ]
  },
  {
   "cell_type": "code",
   "execution_count": 4,
   "id": "roman-hunger",
   "metadata": {},
   "outputs": [],
   "source": [
    "doc = nlp(\"El gran escritor Miguel de Cervantes nació en Alcalá de Henares\")"
   ]
  },
  {
   "cell_type": "code",
   "execution_count": 5,
   "id": "3dd52f49",
   "metadata": {},
   "outputs": [
    {
     "name": "stdout",
     "output_type": "stream",
     "text": [
      "[('Miguel de Cervantes', 'PER'), ('Alcalá de Henares', 'LOC')]\n"
     ]
    }
   ],
   "source": [
    "print([(ent.text, ent.label_) for ent in doc.ents])"
   ]
  },
  {
   "cell_type": "markdown",
   "id": "96e0763f",
   "metadata": {},
   "source": [
    "Entidades en el modelo `ES`"
   ]
  },
  {
   "cell_type": "code",
   "execution_count": 6,
   "id": "40601558",
   "metadata": {},
   "outputs": [
    {
     "data": {
      "text/plain": [
       "['LOC', 'MISC', 'ORG', 'PER']"
      ]
     },
     "execution_count": 6,
     "metadata": {},
     "output_type": "execute_result"
    }
   ],
   "source": [
    "nlp.meta[\"labels\"][\"ner\"]"
   ]
  },
  {
   "cell_type": "markdown",
   "id": "fa9bb838",
   "metadata": {},
   "source": [
    "Entidades en el modelo `EN`"
   ]
  },
  {
   "cell_type": "code",
   "execution_count": 7,
   "id": "22a8c4f8",
   "metadata": {},
   "outputs": [
    {
     "data": {
      "text/plain": [
       "['CARDINAL',\n",
       " 'DATE',\n",
       " 'EVENT',\n",
       " 'FAC',\n",
       " 'GPE',\n",
       " 'LANGUAGE',\n",
       " 'LAW',\n",
       " 'LOC',\n",
       " 'MONEY',\n",
       " 'NORP',\n",
       " 'ORDINAL',\n",
       " 'ORG',\n",
       " 'PERCENT',\n",
       " 'PERSON',\n",
       " 'PRODUCT',\n",
       " 'QUANTITY',\n",
       " 'TIME',\n",
       " 'WORK_OF_ART']"
      ]
     },
     "execution_count": 7,
     "metadata": {},
     "output_type": "execute_result"
    }
   ],
   "source": [
    "nlp_en = spacy.load(\"en_core_web_md\")\n",
    "nlp_en.meta[\"labels\"][\"ner\"]"
   ]
  },
  {
   "cell_type": "code",
   "execution_count": 8,
   "id": "457abe54",
   "metadata": {},
   "outputs": [
    {
     "data": {
      "text/plain": [
       "'La Policía Nacional, en colaboración con la policía marroquí, ha desarticulado una \"importante y peligrosa\" célula del Estado Islámico (ISIS, en sus siglas en inglés) que pretendía impulsar atentados yihadistas en España y en otros países de Europa: \"Tenía como objetivo materializar la estrategia de la organización terrorista en occidente\", aseguran fuentes de la investigación, que aseguran que estaban en contacto con yihadistas ubicados en Siria. Los agentes de la Comisaría General de Información (CGI) y los de la Dirección General de Vigilancia del Territorio del Reino de Marruecos (DGST) han detenido en total a cinco personas, dos en España, en las localidades de Lorca (Murcia) y Abadiño (Bizkaia); y otras tres en Marruecos, que integraban la red de la organización terrorista.'"
      ]
     },
     "execution_count": 8,
     "metadata": {},
     "output_type": "execute_result"
    }
   ],
   "source": [
    "with open('articulo.txt', 'r', encoding='utf-8') as f:\n",
    "    texto = f.read()\n",
    "texto"
   ]
  },
  {
   "cell_type": "code",
   "execution_count": 9,
   "id": "e46f286f",
   "metadata": {},
   "outputs": [
    {
     "data": {
      "text/html": [
       "<span class=\"tex2jax_ignore\"><div class=\"entities\" style=\"line-height: 2.5; direction: ltr\">La \n",
       "<mark class=\"entity\" style=\"background: #7aecec; padding: 0.45em 0.6em; margin: 0 0.25em; line-height: 1; border-radius: 0.35em;\">\n",
       "    Policía Nacional\n",
       "    <span style=\"font-size: 0.8em; font-weight: bold; line-height: 1; border-radius: 0.35em; vertical-align: middle; margin-left: 0.5rem\">ORG</span>\n",
       "</mark>\n",
       ", en colaboración con la policía marroquí, ha desarticulado una &quot;importante y peligrosa&quot; célula del \n",
       "<mark class=\"entity\" style=\"background: #ff9561; padding: 0.45em 0.6em; margin: 0 0.25em; line-height: 1; border-radius: 0.35em;\">\n",
       "    Estado Islámico\n",
       "    <span style=\"font-size: 0.8em; font-weight: bold; line-height: 1; border-radius: 0.35em; vertical-align: middle; margin-left: 0.5rem\">LOC</span>\n",
       "</mark>\n",
       " (\n",
       "<mark class=\"entity\" style=\"background: #7aecec; padding: 0.45em 0.6em; margin: 0 0.25em; line-height: 1; border-radius: 0.35em;\">\n",
       "    ISIS\n",
       "    <span style=\"font-size: 0.8em; font-weight: bold; line-height: 1; border-radius: 0.35em; vertical-align: middle; margin-left: 0.5rem\">ORG</span>\n",
       "</mark>\n",
       ", en sus siglas en inglés) que pretendía impulsar atentados yihadistas en \n",
       "<mark class=\"entity\" style=\"background: #ff9561; padding: 0.45em 0.6em; margin: 0 0.25em; line-height: 1; border-radius: 0.35em;\">\n",
       "    España\n",
       "    <span style=\"font-size: 0.8em; font-weight: bold; line-height: 1; border-radius: 0.35em; vertical-align: middle; margin-left: 0.5rem\">LOC</span>\n",
       "</mark>\n",
       " y en otros países de \n",
       "<mark class=\"entity\" style=\"background: #ff9561; padding: 0.45em 0.6em; margin: 0 0.25em; line-height: 1; border-radius: 0.35em;\">\n",
       "    Europa\n",
       "    <span style=\"font-size: 0.8em; font-weight: bold; line-height: 1; border-radius: 0.35em; vertical-align: middle; margin-left: 0.5rem\">LOC</span>\n",
       "</mark>\n",
       ": &quot;Tenía como objetivo materializar la estrategia de la organización terrorista en occidente&quot;, aseguran fuentes de la investigación, que aseguran que estaban en contacto con yihadistas ubicados en \n",
       "<mark class=\"entity\" style=\"background: #ff9561; padding: 0.45em 0.6em; margin: 0 0.25em; line-height: 1; border-radius: 0.35em;\">\n",
       "    Siria\n",
       "    <span style=\"font-size: 0.8em; font-weight: bold; line-height: 1; border-radius: 0.35em; vertical-align: middle; margin-left: 0.5rem\">LOC</span>\n",
       "</mark>\n",
       ". \n",
       "<mark class=\"entity\" style=\"background: #ddd; padding: 0.45em 0.6em; margin: 0 0.25em; line-height: 1; border-radius: 0.35em;\">\n",
       "    Los agentes de la\n",
       "    <span style=\"font-size: 0.8em; font-weight: bold; line-height: 1; border-radius: 0.35em; vertical-align: middle; margin-left: 0.5rem\">MISC</span>\n",
       "</mark>\n",
       " \n",
       "<mark class=\"entity\" style=\"background: #ff9561; padding: 0.45em 0.6em; margin: 0 0.25em; line-height: 1; border-radius: 0.35em;\">\n",
       "    Comisaría General de Información\n",
       "    <span style=\"font-size: 0.8em; font-weight: bold; line-height: 1; border-radius: 0.35em; vertical-align: middle; margin-left: 0.5rem\">LOC</span>\n",
       "</mark>\n",
       " (CGI) y los de la \n",
       "<mark class=\"entity\" style=\"background: #ff9561; padding: 0.45em 0.6em; margin: 0 0.25em; line-height: 1; border-radius: 0.35em;\">\n",
       "    Dirección General de Vigilancia del Territorio del Reino de Marruecos\n",
       "    <span style=\"font-size: 0.8em; font-weight: bold; line-height: 1; border-radius: 0.35em; vertical-align: middle; margin-left: 0.5rem\">LOC</span>\n",
       "</mark>\n",
       " (\n",
       "<mark class=\"entity\" style=\"background: #ff9561; padding: 0.45em 0.6em; margin: 0 0.25em; line-height: 1; border-radius: 0.35em;\">\n",
       "    DGST\n",
       "    <span style=\"font-size: 0.8em; font-weight: bold; line-height: 1; border-radius: 0.35em; vertical-align: middle; margin-left: 0.5rem\">LOC</span>\n",
       "</mark>\n",
       ") han detenido en total a cinco personas, dos en \n",
       "<mark class=\"entity\" style=\"background: #ff9561; padding: 0.45em 0.6em; margin: 0 0.25em; line-height: 1; border-radius: 0.35em;\">\n",
       "    España\n",
       "    <span style=\"font-size: 0.8em; font-weight: bold; line-height: 1; border-radius: 0.35em; vertical-align: middle; margin-left: 0.5rem\">LOC</span>\n",
       "</mark>\n",
       ", en las localidades de \n",
       "<mark class=\"entity\" style=\"background: #ff9561; padding: 0.45em 0.6em; margin: 0 0.25em; line-height: 1; border-radius: 0.35em;\">\n",
       "    Lorca\n",
       "    <span style=\"font-size: 0.8em; font-weight: bold; line-height: 1; border-radius: 0.35em; vertical-align: middle; margin-left: 0.5rem\">LOC</span>\n",
       "</mark>\n",
       " (\n",
       "<mark class=\"entity\" style=\"background: #ff9561; padding: 0.45em 0.6em; margin: 0 0.25em; line-height: 1; border-radius: 0.35em;\">\n",
       "    Murcia\n",
       "    <span style=\"font-size: 0.8em; font-weight: bold; line-height: 1; border-radius: 0.35em; vertical-align: middle; margin-left: 0.5rem\">LOC</span>\n",
       "</mark>\n",
       ") y \n",
       "<mark class=\"entity\" style=\"background: #ff9561; padding: 0.45em 0.6em; margin: 0 0.25em; line-height: 1; border-radius: 0.35em;\">\n",
       "    Abadiño\n",
       "    <span style=\"font-size: 0.8em; font-weight: bold; line-height: 1; border-radius: 0.35em; vertical-align: middle; margin-left: 0.5rem\">LOC</span>\n",
       "</mark>\n",
       " (\n",
       "<mark class=\"entity\" style=\"background: #ff9561; padding: 0.45em 0.6em; margin: 0 0.25em; line-height: 1; border-radius: 0.35em;\">\n",
       "    Bizkaia\n",
       "    <span style=\"font-size: 0.8em; font-weight: bold; line-height: 1; border-radius: 0.35em; vertical-align: middle; margin-left: 0.5rem\">LOC</span>\n",
       "</mark>\n",
       "); y otras tres en \n",
       "<mark class=\"entity\" style=\"background: #ff9561; padding: 0.45em 0.6em; margin: 0 0.25em; line-height: 1; border-radius: 0.35em;\">\n",
       "    Marruecos\n",
       "    <span style=\"font-size: 0.8em; font-weight: bold; line-height: 1; border-radius: 0.35em; vertical-align: middle; margin-left: 0.5rem\">LOC</span>\n",
       "</mark>\n",
       ", que integraban la red de la organización terrorista.</div></span>"
      ],
      "text/plain": [
       "<IPython.core.display.HTML object>"
      ]
     },
     "metadata": {},
     "output_type": "display_data"
    }
   ],
   "source": [
    "doc_articulo = nlp(texto)\n",
    "displacy.render(doc_articulo, style='ent', jupyter=True)"
   ]
  },
  {
   "cell_type": "code",
   "execution_count": 10,
   "id": "representative-kingdom",
   "metadata": {},
   "outputs": [
    {
     "data": {
      "text/plain": [
       "[Miguel de Cervantes, Alcalá de Henares]"
      ]
     },
     "execution_count": 10,
     "metadata": {},
     "output_type": "execute_result"
    }
   ],
   "source": [
    "entidades = [e for e in doc.ents]\n",
    "entidades"
   ]
  },
  {
   "cell_type": "code",
   "execution_count": 11,
   "id": "right-delicious",
   "metadata": {},
   "outputs": [
    {
     "data": {
      "text/plain": [
       "spacy.tokens.span.Span"
      ]
     },
     "execution_count": 11,
     "metadata": {},
     "output_type": "execute_result"
    }
   ],
   "source": [
    "type(entidades[0])"
   ]
  },
  {
   "cell_type": "code",
   "execution_count": 12,
   "id": "needed-answer",
   "metadata": {},
   "outputs": [
    {
     "data": {
      "text/plain": [
       "3"
      ]
     },
     "execution_count": 12,
     "metadata": {},
     "output_type": "execute_result"
    }
   ],
   "source": [
    "entidades[0].start"
   ]
  },
  {
   "cell_type": "code",
   "execution_count": 13,
   "id": "satellite-congress",
   "metadata": {},
   "outputs": [
    {
     "data": {
      "text/plain": [
       "6"
      ]
     },
     "execution_count": 13,
     "metadata": {},
     "output_type": "execute_result"
    }
   ],
   "source": [
    "entidades[0].end"
   ]
  },
  {
   "cell_type": "code",
   "execution_count": 14,
   "id": "copyrighted-buffer",
   "metadata": {},
   "outputs": [
    {
     "data": {
      "text/plain": [
       "Miguel de Cervantes"
      ]
     },
     "execution_count": 14,
     "metadata": {},
     "output_type": "execute_result"
    }
   ],
   "source": [
    "doc[3:6]"
   ]
  },
  {
   "cell_type": "code",
   "execution_count": 15,
   "id": "expensive-provision",
   "metadata": {},
   "outputs": [
    {
     "data": {
      "text/plain": [
       "'PER'"
      ]
     },
     "execution_count": 15,
     "metadata": {},
     "output_type": "execute_result"
    }
   ],
   "source": [
    "entidades[0].label_"
   ]
  },
  {
   "cell_type": "code",
   "execution_count": 16,
   "id": "early-remainder",
   "metadata": {},
   "outputs": [
    {
     "data": {
      "text/html": [
       "<div>\n",
       "<style scoped>\n",
       "    .dataframe tbody tr th:only-of-type {\n",
       "        vertical-align: middle;\n",
       "    }\n",
       "\n",
       "    .dataframe tbody tr th {\n",
       "        vertical-align: top;\n",
       "    }\n",
       "\n",
       "    .dataframe thead th {\n",
       "        text-align: right;\n",
       "    }\n",
       "</style>\n",
       "<table border=\"1\" class=\"dataframe\">\n",
       "  <thead>\n",
       "    <tr style=\"text-align: right;\">\n",
       "      <th></th>\n",
       "      <th>token</th>\n",
       "      <th>POS</th>\n",
       "      <th>ent_iob</th>\n",
       "      <th>ent_type</th>\n",
       "    </tr>\n",
       "  </thead>\n",
       "  <tbody>\n",
       "    <tr>\n",
       "      <th>0</th>\n",
       "      <td>El</td>\n",
       "      <td>DET</td>\n",
       "      <td>O</td>\n",
       "      <td></td>\n",
       "    </tr>\n",
       "    <tr>\n",
       "      <th>1</th>\n",
       "      <td>gran</td>\n",
       "      <td>ADJ</td>\n",
       "      <td>O</td>\n",
       "      <td></td>\n",
       "    </tr>\n",
       "    <tr>\n",
       "      <th>2</th>\n",
       "      <td>escritor</td>\n",
       "      <td>NOUN</td>\n",
       "      <td>O</td>\n",
       "      <td></td>\n",
       "    </tr>\n",
       "    <tr>\n",
       "      <th>3</th>\n",
       "      <td>Miguel</td>\n",
       "      <td>PROPN</td>\n",
       "      <td>B</td>\n",
       "      <td>PER</td>\n",
       "    </tr>\n",
       "    <tr>\n",
       "      <th>4</th>\n",
       "      <td>de</td>\n",
       "      <td>ADP</td>\n",
       "      <td>I</td>\n",
       "      <td>PER</td>\n",
       "    </tr>\n",
       "    <tr>\n",
       "      <th>5</th>\n",
       "      <td>Cervantes</td>\n",
       "      <td>PROPN</td>\n",
       "      <td>I</td>\n",
       "      <td>PER</td>\n",
       "    </tr>\n",
       "    <tr>\n",
       "      <th>6</th>\n",
       "      <td>nació</td>\n",
       "      <td>VERB</td>\n",
       "      <td>O</td>\n",
       "      <td></td>\n",
       "    </tr>\n",
       "    <tr>\n",
       "      <th>7</th>\n",
       "      <td>en</td>\n",
       "      <td>ADP</td>\n",
       "      <td>O</td>\n",
       "      <td></td>\n",
       "    </tr>\n",
       "    <tr>\n",
       "      <th>8</th>\n",
       "      <td>Alcalá</td>\n",
       "      <td>PROPN</td>\n",
       "      <td>B</td>\n",
       "      <td>LOC</td>\n",
       "    </tr>\n",
       "    <tr>\n",
       "      <th>9</th>\n",
       "      <td>de</td>\n",
       "      <td>ADP</td>\n",
       "      <td>I</td>\n",
       "      <td>LOC</td>\n",
       "    </tr>\n",
       "    <tr>\n",
       "      <th>10</th>\n",
       "      <td>Henares</td>\n",
       "      <td>PROPN</td>\n",
       "      <td>I</td>\n",
       "      <td>LOC</td>\n",
       "    </tr>\n",
       "  </tbody>\n",
       "</table>\n",
       "</div>"
      ],
      "text/plain": [
       "        token    POS ent_iob ent_type\n",
       "0          El    DET       O         \n",
       "1        gran    ADJ       O         \n",
       "2    escritor   NOUN       O         \n",
       "3      Miguel  PROPN       B      PER\n",
       "4          de    ADP       I      PER\n",
       "5   Cervantes  PROPN       I      PER\n",
       "6       nació   VERB       O         \n",
       "7          en    ADP       O         \n",
       "8      Alcalá  PROPN       B      LOC\n",
       "9          de    ADP       I      LOC\n",
       "10    Henares  PROPN       I      LOC"
      ]
     },
     "execution_count": 16,
     "metadata": {},
     "output_type": "execute_result"
    }
   ],
   "source": [
    "datos = map(lambda t: {'token': t.orth_,\n",
    "                       'POS': t.pos_,\n",
    "                       'ent_iob': t.ent_iob_,\n",
    "                       'ent_type': t.ent_type_\n",
    "                      }, doc)\n",
    "\n",
    "pd.DataFrame(datos)"
   ]
  },
  {
   "cell_type": "markdown",
   "id": "outdoor-dating",
   "metadata": {},
   "source": [
    "Podemos usar la detección de entidades de tipo `PER` para enmascarar nombres propios en un texto"
   ]
  },
  {
   "cell_type": "code",
   "execution_count": 17,
   "id": "independent-bryan",
   "metadata": {},
   "outputs": [],
   "source": [
    "texto = \"Al detenido Alejandro García se le acusa de matar a Juan Pérez\""
   ]
  },
  {
   "cell_type": "code",
   "execution_count": 18,
   "id": "attractive-consent",
   "metadata": {},
   "outputs": [
    {
     "data": {
      "text/html": [
       "<div>\n",
       "<style scoped>\n",
       "    .dataframe tbody tr th:only-of-type {\n",
       "        vertical-align: middle;\n",
       "    }\n",
       "\n",
       "    .dataframe tbody tr th {\n",
       "        vertical-align: top;\n",
       "    }\n",
       "\n",
       "    .dataframe thead th {\n",
       "        text-align: right;\n",
       "    }\n",
       "</style>\n",
       "<table border=\"1\" class=\"dataframe\">\n",
       "  <thead>\n",
       "    <tr style=\"text-align: right;\">\n",
       "      <th></th>\n",
       "      <th>token</th>\n",
       "      <th>POS</th>\n",
       "      <th>ent_iob</th>\n",
       "      <th>ent_type</th>\n",
       "    </tr>\n",
       "  </thead>\n",
       "  <tbody>\n",
       "    <tr>\n",
       "      <th>0</th>\n",
       "      <td>Al</td>\n",
       "      <td>ADP</td>\n",
       "      <td>O</td>\n",
       "      <td></td>\n",
       "    </tr>\n",
       "    <tr>\n",
       "      <th>1</th>\n",
       "      <td>detenido</td>\n",
       "      <td>ADJ</td>\n",
       "      <td>O</td>\n",
       "      <td></td>\n",
       "    </tr>\n",
       "    <tr>\n",
       "      <th>2</th>\n",
       "      <td>Alejandro</td>\n",
       "      <td>PROPN</td>\n",
       "      <td>B</td>\n",
       "      <td>PER</td>\n",
       "    </tr>\n",
       "    <tr>\n",
       "      <th>3</th>\n",
       "      <td>García</td>\n",
       "      <td>PROPN</td>\n",
       "      <td>I</td>\n",
       "      <td>PER</td>\n",
       "    </tr>\n",
       "    <tr>\n",
       "      <th>4</th>\n",
       "      <td>se</td>\n",
       "      <td>PRON</td>\n",
       "      <td>O</td>\n",
       "      <td></td>\n",
       "    </tr>\n",
       "    <tr>\n",
       "      <th>5</th>\n",
       "      <td>le</td>\n",
       "      <td>PRON</td>\n",
       "      <td>O</td>\n",
       "      <td></td>\n",
       "    </tr>\n",
       "    <tr>\n",
       "      <th>6</th>\n",
       "      <td>acusa</td>\n",
       "      <td>VERB</td>\n",
       "      <td>O</td>\n",
       "      <td></td>\n",
       "    </tr>\n",
       "    <tr>\n",
       "      <th>7</th>\n",
       "      <td>de</td>\n",
       "      <td>ADP</td>\n",
       "      <td>O</td>\n",
       "      <td></td>\n",
       "    </tr>\n",
       "    <tr>\n",
       "      <th>8</th>\n",
       "      <td>matar</td>\n",
       "      <td>VERB</td>\n",
       "      <td>O</td>\n",
       "      <td></td>\n",
       "    </tr>\n",
       "    <tr>\n",
       "      <th>9</th>\n",
       "      <td>a</td>\n",
       "      <td>ADP</td>\n",
       "      <td>O</td>\n",
       "      <td></td>\n",
       "    </tr>\n",
       "    <tr>\n",
       "      <th>10</th>\n",
       "      <td>Juan</td>\n",
       "      <td>PROPN</td>\n",
       "      <td>B</td>\n",
       "      <td>PER</td>\n",
       "    </tr>\n",
       "    <tr>\n",
       "      <th>11</th>\n",
       "      <td>Pérez</td>\n",
       "      <td>PROPN</td>\n",
       "      <td>I</td>\n",
       "      <td>PER</td>\n",
       "    </tr>\n",
       "  </tbody>\n",
       "</table>\n",
       "</div>"
      ],
      "text/plain": [
       "        token    POS ent_iob ent_type\n",
       "0          Al    ADP       O         \n",
       "1    detenido    ADJ       O         \n",
       "2   Alejandro  PROPN       B      PER\n",
       "3      García  PROPN       I      PER\n",
       "4          se   PRON       O         \n",
       "5          le   PRON       O         \n",
       "6       acusa   VERB       O         \n",
       "7          de    ADP       O         \n",
       "8       matar   VERB       O         \n",
       "9           a    ADP       O         \n",
       "10       Juan  PROPN       B      PER\n",
       "11      Pérez  PROPN       I      PER"
      ]
     },
     "execution_count": 18,
     "metadata": {},
     "output_type": "execute_result"
    }
   ],
   "source": [
    "doc = nlp(texto)\n",
    "datos = map(lambda t: {'token': t.orth_,\n",
    "                       'POS': t.pos_,\n",
    "                       'ent_iob': t.ent_iob_,\n",
    "                       'ent_type': t.ent_type_\n",
    "                      }, doc)\n",
    "\n",
    "pd.DataFrame(datos)"
   ]
  },
  {
   "cell_type": "code",
   "execution_count": 19,
   "id": "a9cba81d",
   "metadata": {},
   "outputs": [
    {
     "data": {
      "text/plain": [
       "['Al',\n",
       " 'detenido',\n",
       " '_PERSONA_',\n",
       " '_PERSONA_',\n",
       " 'se',\n",
       " 'le',\n",
       " 'acusa',\n",
       " 'de',\n",
       " 'matar',\n",
       " 'a',\n",
       " '_PERSONA_',\n",
       " '_PERSONA_']"
      ]
     },
     "execution_count": 19,
     "metadata": {},
     "output_type": "execute_result"
    }
   ],
   "source": [
    "[t.text if not t.ent_type_=='PER' else '_PERSONA_' for t in doc]"
   ]
  },
  {
   "cell_type": "code",
   "execution_count": 20,
   "id": "fbf970cd-1a45-4210-8c66-97804a7fa67d",
   "metadata": {},
   "outputs": [
    {
     "data": {
      "text/plain": [
       "<function spacy.pipeline.functions.merge_entities(doc: spacy.tokens.doc.Doc)>"
      ]
     },
     "execution_count": 20,
     "metadata": {},
     "output_type": "execute_result"
    }
   ],
   "source": [
    "nlp.add_pipe(\"merge_entities\")"
   ]
  },
  {
   "cell_type": "code",
   "execution_count": 21,
   "id": "6a64eff6-90a6-4675-9510-0d4f2277c35c",
   "metadata": {},
   "outputs": [
    {
     "data": {
      "text/plain": [
       "['tok2vec',\n",
       " 'morphologizer',\n",
       " 'parser',\n",
       " 'senter',\n",
       " 'attribute_ruler',\n",
       " 'lemmatizer',\n",
       " 'ner',\n",
       " 'merge_entities']"
      ]
     },
     "execution_count": 21,
     "metadata": {},
     "output_type": "execute_result"
    }
   ],
   "source": [
    "nlp.component_names"
   ]
  },
  {
   "cell_type": "code",
   "execution_count": 22,
   "id": "2b35f1ea-1c70-4f0f-ab96-6695f8a1fd3c",
   "metadata": {},
   "outputs": [
    {
     "data": {
      "text/html": [
       "<div>\n",
       "<style scoped>\n",
       "    .dataframe tbody tr th:only-of-type {\n",
       "        vertical-align: middle;\n",
       "    }\n",
       "\n",
       "    .dataframe tbody tr th {\n",
       "        vertical-align: top;\n",
       "    }\n",
       "\n",
       "    .dataframe thead th {\n",
       "        text-align: right;\n",
       "    }\n",
       "</style>\n",
       "<table border=\"1\" class=\"dataframe\">\n",
       "  <thead>\n",
       "    <tr style=\"text-align: right;\">\n",
       "      <th></th>\n",
       "      <th>token</th>\n",
       "      <th>POS</th>\n",
       "      <th>ent_iob</th>\n",
       "      <th>ent_type</th>\n",
       "    </tr>\n",
       "  </thead>\n",
       "  <tbody>\n",
       "    <tr>\n",
       "      <th>0</th>\n",
       "      <td>Al</td>\n",
       "      <td>ADP</td>\n",
       "      <td>O</td>\n",
       "      <td></td>\n",
       "    </tr>\n",
       "    <tr>\n",
       "      <th>1</th>\n",
       "      <td>detenido</td>\n",
       "      <td>ADJ</td>\n",
       "      <td>O</td>\n",
       "      <td></td>\n",
       "    </tr>\n",
       "    <tr>\n",
       "      <th>2</th>\n",
       "      <td>Alejandro García</td>\n",
       "      <td>PROPN</td>\n",
       "      <td>B</td>\n",
       "      <td>PER</td>\n",
       "    </tr>\n",
       "    <tr>\n",
       "      <th>3</th>\n",
       "      <td>se</td>\n",
       "      <td>PRON</td>\n",
       "      <td>O</td>\n",
       "      <td></td>\n",
       "    </tr>\n",
       "    <tr>\n",
       "      <th>4</th>\n",
       "      <td>le</td>\n",
       "      <td>PRON</td>\n",
       "      <td>O</td>\n",
       "      <td></td>\n",
       "    </tr>\n",
       "    <tr>\n",
       "      <th>5</th>\n",
       "      <td>acusa</td>\n",
       "      <td>VERB</td>\n",
       "      <td>O</td>\n",
       "      <td></td>\n",
       "    </tr>\n",
       "    <tr>\n",
       "      <th>6</th>\n",
       "      <td>de</td>\n",
       "      <td>ADP</td>\n",
       "      <td>O</td>\n",
       "      <td></td>\n",
       "    </tr>\n",
       "    <tr>\n",
       "      <th>7</th>\n",
       "      <td>matar</td>\n",
       "      <td>VERB</td>\n",
       "      <td>O</td>\n",
       "      <td></td>\n",
       "    </tr>\n",
       "    <tr>\n",
       "      <th>8</th>\n",
       "      <td>a</td>\n",
       "      <td>ADP</td>\n",
       "      <td>O</td>\n",
       "      <td></td>\n",
       "    </tr>\n",
       "    <tr>\n",
       "      <th>9</th>\n",
       "      <td>Juan Pérez</td>\n",
       "      <td>PROPN</td>\n",
       "      <td>B</td>\n",
       "      <td>PER</td>\n",
       "    </tr>\n",
       "  </tbody>\n",
       "</table>\n",
       "</div>"
      ],
      "text/plain": [
       "              token    POS ent_iob ent_type\n",
       "0                Al    ADP       O         \n",
       "1          detenido    ADJ       O         \n",
       "2  Alejandro García  PROPN       B      PER\n",
       "3                se   PRON       O         \n",
       "4                le   PRON       O         \n",
       "5             acusa   VERB       O         \n",
       "6                de    ADP       O         \n",
       "7             matar   VERB       O         \n",
       "8                 a    ADP       O         \n",
       "9        Juan Pérez  PROPN       B      PER"
      ]
     },
     "execution_count": 22,
     "metadata": {},
     "output_type": "execute_result"
    }
   ],
   "source": [
    "doc = nlp(texto)\n",
    "datos = map(lambda t: {'token': t.orth_,\n",
    "                       'POS': t.pos_,\n",
    "                       'ent_iob': t.ent_iob_,\n",
    "                       'ent_type': t.ent_type_\n",
    "                      }, doc)\n",
    "\n",
    "pd.DataFrame(datos)"
   ]
  },
  {
   "cell_type": "code",
   "execution_count": 23,
   "id": "gentle-fitness",
   "metadata": {},
   "outputs": [
    {
     "data": {
      "text/plain": [
       "['Al',\n",
       " 'detenido',\n",
       " '_PERSONA_',\n",
       " 'se',\n",
       " 'le',\n",
       " 'acusa',\n",
       " 'de',\n",
       " 'matar',\n",
       " 'a',\n",
       " '_PERSONA_']"
      ]
     },
     "execution_count": 23,
     "metadata": {},
     "output_type": "execute_result"
    }
   ],
   "source": [
    "[t.text if not t.ent_type_=='PER' else '_PERSONA_' for t in doc]"
   ]
  },
  {
   "cell_type": "markdown",
   "id": "civilian-subject",
   "metadata": {},
   "source": [
    "### Creación de nuevas entidades en spaCy\n",
    "Podemos crear entidades nuevas con el componente `EntityRuler` del pipeline (https://spacy.io/api/entityruler)"
   ]
  },
  {
   "cell_type": "code",
   "execution_count": 24,
   "id": "maritime-listening",
   "metadata": {},
   "outputs": [
    {
     "data": {
      "text/html": [
       "<span class=\"tex2jax_ignore\"><div class=\"entities\" style=\"line-height: 2.5; direction: ltr\">El gran \n",
       "<mark class=\"entity\" style=\"background: #ddd; padding: 0.45em 0.6em; margin: 0 0.25em; line-height: 1; border-radius: 0.35em;\">\n",
       "    escritor\n",
       "    <span style=\"font-size: 0.8em; font-weight: bold; line-height: 1; border-radius: 0.35em; vertical-align: middle; margin-left: 0.5rem\">PROFESION</span>\n",
       "</mark>\n",
       " \n",
       "<mark class=\"entity\" style=\"background: #ddd; padding: 0.45em 0.6em; margin: 0 0.25em; line-height: 1; border-radius: 0.35em;\">\n",
       "    Miguel de Cervantes\n",
       "    <span style=\"font-size: 0.8em; font-weight: bold; line-height: 1; border-radius: 0.35em; vertical-align: middle; margin-left: 0.5rem\">PER</span>\n",
       "</mark>\n",
       " nació en \n",
       "<mark class=\"entity\" style=\"background: #ff9561; padding: 0.45em 0.6em; margin: 0 0.25em; line-height: 1; border-radius: 0.35em;\">\n",
       "    Alcalá de Henares\n",
       "    <span style=\"font-size: 0.8em; font-weight: bold; line-height: 1; border-radius: 0.35em; vertical-align: middle; margin-left: 0.5rem\">LOC</span>\n",
       "</mark>\n",
       "</div></span>"
      ],
      "text/plain": [
       "<IPython.core.display.HTML object>"
      ]
     },
     "metadata": {},
     "output_type": "display_data"
    }
   ],
   "source": [
    "#Definimos \"escritor\" como profesión\n",
    "ruler = nlp.add_pipe(\"entity_ruler\")\n",
    "patterns = [{\"label\": \"PROFESION\", \"pattern\": [{\"LEMMA\": \"escritor\"}]}]\n",
    "ruler.add_patterns(patterns)\n",
    "\n",
    "doc = nlp(\"El gran escritor Miguel de Cervantes nació en Alcalá de Henares\")\n",
    "displacy.render(doc, style='ent', jupyter=True)"
   ]
  },
  {
   "cell_type": "code",
   "execution_count": 25,
   "id": "collected-bouquet",
   "metadata": {},
   "outputs": [
    {
     "data": {
      "text/html": [
       "<div>\n",
       "<style scoped>\n",
       "    .dataframe tbody tr th:only-of-type {\n",
       "        vertical-align: middle;\n",
       "    }\n",
       "\n",
       "    .dataframe tbody tr th {\n",
       "        vertical-align: top;\n",
       "    }\n",
       "\n",
       "    .dataframe thead th {\n",
       "        text-align: right;\n",
       "    }\n",
       "</style>\n",
       "<table border=\"1\" class=\"dataframe\">\n",
       "  <thead>\n",
       "    <tr style=\"text-align: right;\">\n",
       "      <th></th>\n",
       "      <th>token</th>\n",
       "      <th>POS</th>\n",
       "      <th>ent_iob</th>\n",
       "      <th>ent_type</th>\n",
       "    </tr>\n",
       "  </thead>\n",
       "  <tbody>\n",
       "    <tr>\n",
       "      <th>0</th>\n",
       "      <td>El</td>\n",
       "      <td>DET</td>\n",
       "      <td>O</td>\n",
       "      <td></td>\n",
       "    </tr>\n",
       "    <tr>\n",
       "      <th>1</th>\n",
       "      <td>gran</td>\n",
       "      <td>ADJ</td>\n",
       "      <td>O</td>\n",
       "      <td></td>\n",
       "    </tr>\n",
       "    <tr>\n",
       "      <th>2</th>\n",
       "      <td>escritor</td>\n",
       "      <td>NOUN</td>\n",
       "      <td>B</td>\n",
       "      <td>PROFESION</td>\n",
       "    </tr>\n",
       "    <tr>\n",
       "      <th>3</th>\n",
       "      <td>Miguel de Cervantes</td>\n",
       "      <td>PROPN</td>\n",
       "      <td>B</td>\n",
       "      <td>PER</td>\n",
       "    </tr>\n",
       "    <tr>\n",
       "      <th>4</th>\n",
       "      <td>nació</td>\n",
       "      <td>VERB</td>\n",
       "      <td>O</td>\n",
       "      <td></td>\n",
       "    </tr>\n",
       "    <tr>\n",
       "      <th>5</th>\n",
       "      <td>en</td>\n",
       "      <td>ADP</td>\n",
       "      <td>O</td>\n",
       "      <td></td>\n",
       "    </tr>\n",
       "    <tr>\n",
       "      <th>6</th>\n",
       "      <td>Alcalá de Henares</td>\n",
       "      <td>PROPN</td>\n",
       "      <td>B</td>\n",
       "      <td>LOC</td>\n",
       "    </tr>\n",
       "  </tbody>\n",
       "</table>\n",
       "</div>"
      ],
      "text/plain": [
       "                 token    POS ent_iob   ent_type\n",
       "0                   El    DET       O           \n",
       "1                 gran    ADJ       O           \n",
       "2             escritor   NOUN       B  PROFESION\n",
       "3  Miguel de Cervantes  PROPN       B        PER\n",
       "4                nació   VERB       O           \n",
       "5                   en    ADP       O           \n",
       "6    Alcalá de Henares  PROPN       B        LOC"
      ]
     },
     "execution_count": 25,
     "metadata": {},
     "output_type": "execute_result"
    }
   ],
   "source": [
    "datos = map(lambda t: {'token': t.orth_,\n",
    "                       'POS': t.pos_,\n",
    "                       'ent_iob': t.ent_iob_,\n",
    "                       'ent_type': t.ent_type_\n",
    "                      }, doc)\n",
    "\n",
    "pd.DataFrame(datos)"
   ]
  },
  {
   "cell_type": "markdown",
   "id": "august-edition",
   "metadata": {},
   "source": [
    "Podemos añadir nuevas profesiones.  \n",
    "### Ejercicio\n",
    "Añade \"matador de toros\" como profesión y comprueba si funciona con la frase siguiente:"
   ]
  },
  {
   "cell_type": "code",
   "execution_count": 33,
   "id": "empty-chase",
   "metadata": {},
   "outputs": [
    {
     "name": "stdout",
     "output_type": "stream",
     "text": [
      "[('Miguel Bosé', 'PER'), ('matador de toros', 'PROFESION'), ('Luis Miguel Dominguín', 'PER')]\n"
     ]
    }
   ],
   "source": [
    "patterns = [{\"label\": \"PROFESION\", \"pattern\": [{\"LOWER\": \"matador\"}, {\"LOWER\": \"de\"}, {\"LOWER\": \"toros\"}]}]\n",
    "ruler.add_patterns(patterns)\n",
    "\n",
    "doc = nlp(\"El padre de Miguel Bosé era el matador de toros Luis Miguel Dominguín\")\n",
    "print([(ent.text, ent.label_) for ent in doc.ents])"
   ]
  },
  {
   "cell_type": "code",
   "execution_count": 34,
   "id": "proved-gateway",
   "metadata": {},
   "outputs": [
    {
     "data": {
      "text/html": [
       "<div>\n",
       "<style scoped>\n",
       "    .dataframe tbody tr th:only-of-type {\n",
       "        vertical-align: middle;\n",
       "    }\n",
       "\n",
       "    .dataframe tbody tr th {\n",
       "        vertical-align: top;\n",
       "    }\n",
       "\n",
       "    .dataframe thead th {\n",
       "        text-align: right;\n",
       "    }\n",
       "</style>\n",
       "<table border=\"1\" class=\"dataframe\">\n",
       "  <thead>\n",
       "    <tr style=\"text-align: right;\">\n",
       "      <th></th>\n",
       "      <th>token</th>\n",
       "      <th>POS</th>\n",
       "      <th>ent_iob</th>\n",
       "      <th>ent_type</th>\n",
       "    </tr>\n",
       "  </thead>\n",
       "  <tbody>\n",
       "    <tr>\n",
       "      <th>0</th>\n",
       "      <td>El</td>\n",
       "      <td>DET</td>\n",
       "      <td>O</td>\n",
       "      <td></td>\n",
       "    </tr>\n",
       "    <tr>\n",
       "      <th>1</th>\n",
       "      <td>padre</td>\n",
       "      <td>NOUN</td>\n",
       "      <td>O</td>\n",
       "      <td></td>\n",
       "    </tr>\n",
       "    <tr>\n",
       "      <th>2</th>\n",
       "      <td>de</td>\n",
       "      <td>ADP</td>\n",
       "      <td>O</td>\n",
       "      <td></td>\n",
       "    </tr>\n",
       "    <tr>\n",
       "      <th>3</th>\n",
       "      <td>Miguel Bosé</td>\n",
       "      <td>PROPN</td>\n",
       "      <td>B</td>\n",
       "      <td>PER</td>\n",
       "    </tr>\n",
       "    <tr>\n",
       "      <th>4</th>\n",
       "      <td>era</td>\n",
       "      <td>AUX</td>\n",
       "      <td>O</td>\n",
       "      <td></td>\n",
       "    </tr>\n",
       "    <tr>\n",
       "      <th>5</th>\n",
       "      <td>el</td>\n",
       "      <td>DET</td>\n",
       "      <td>O</td>\n",
       "      <td></td>\n",
       "    </tr>\n",
       "    <tr>\n",
       "      <th>6</th>\n",
       "      <td>matador</td>\n",
       "      <td>NOUN</td>\n",
       "      <td>B</td>\n",
       "      <td>PROFESION</td>\n",
       "    </tr>\n",
       "    <tr>\n",
       "      <th>7</th>\n",
       "      <td>de</td>\n",
       "      <td>ADP</td>\n",
       "      <td>I</td>\n",
       "      <td>PROFESION</td>\n",
       "    </tr>\n",
       "    <tr>\n",
       "      <th>8</th>\n",
       "      <td>toros</td>\n",
       "      <td>NOUN</td>\n",
       "      <td>I</td>\n",
       "      <td>PROFESION</td>\n",
       "    </tr>\n",
       "    <tr>\n",
       "      <th>9</th>\n",
       "      <td>Luis Miguel Dominguín</td>\n",
       "      <td>PROPN</td>\n",
       "      <td>B</td>\n",
       "      <td>PER</td>\n",
       "    </tr>\n",
       "  </tbody>\n",
       "</table>\n",
       "</div>"
      ],
      "text/plain": [
       "                   token    POS ent_iob   ent_type\n",
       "0                     El    DET       O           \n",
       "1                  padre   NOUN       O           \n",
       "2                     de    ADP       O           \n",
       "3            Miguel Bosé  PROPN       B        PER\n",
       "4                    era    AUX       O           \n",
       "5                     el    DET       O           \n",
       "6                matador   NOUN       B  PROFESION\n",
       "7                     de    ADP       I  PROFESION\n",
       "8                  toros   NOUN       I  PROFESION\n",
       "9  Luis Miguel Dominguín  PROPN       B        PER"
      ]
     },
     "execution_count": 34,
     "metadata": {},
     "output_type": "execute_result"
    }
   ],
   "source": [
    "datos = map(lambda t: {'token': t.orth_,\n",
    "                       'POS': t.pos_,\n",
    "                       'ent_iob': t.ent_iob_,\n",
    "                       'ent_type': t.ent_type_\n",
    "                      }, doc)\n",
    "\n",
    "pd.DataFrame(datos)"
   ]
  },
  {
   "cell_type": "markdown",
   "id": "794e7cfa",
   "metadata": {},
   "source": [
    "Como el proceso `entity_ruler` está detrás del `merge_entities` en el *pipeline* de `spaCy` no une las profesiones"
   ]
  },
  {
   "cell_type": "code",
   "execution_count": 35,
   "id": "14b08615",
   "metadata": {},
   "outputs": [
    {
     "data": {
      "text/plain": [
       "['tok2vec',\n",
       " 'morphologizer',\n",
       " 'parser',\n",
       " 'senter',\n",
       " 'attribute_ruler',\n",
       " 'lemmatizer',\n",
       " 'ner',\n",
       " 'merge_entities',\n",
       " 'entity_ruler']"
      ]
     },
     "execution_count": 35,
     "metadata": {},
     "output_type": "execute_result"
    }
   ],
   "source": [
    "nlp.component_names"
   ]
  },
  {
   "cell_type": "code",
   "execution_count": 36,
   "id": "2854441b",
   "metadata": {},
   "outputs": [
    {
     "data": {
      "text/plain": [
       "('merge_entities',\n",
       " <function spacy.pipeline.functions.merge_entities(doc: spacy.tokens.doc.Doc)>)"
      ]
     },
     "execution_count": 36,
     "metadata": {},
     "output_type": "execute_result"
    }
   ],
   "source": [
    "nlp.remove_pipe('merge_entities')"
   ]
  },
  {
   "cell_type": "code",
   "execution_count": 37,
   "id": "ed1da0aa",
   "metadata": {},
   "outputs": [
    {
     "data": {
      "text/html": [
       "<div>\n",
       "<style scoped>\n",
       "    .dataframe tbody tr th:only-of-type {\n",
       "        vertical-align: middle;\n",
       "    }\n",
       "\n",
       "    .dataframe tbody tr th {\n",
       "        vertical-align: top;\n",
       "    }\n",
       "\n",
       "    .dataframe thead th {\n",
       "        text-align: right;\n",
       "    }\n",
       "</style>\n",
       "<table border=\"1\" class=\"dataframe\">\n",
       "  <thead>\n",
       "    <tr style=\"text-align: right;\">\n",
       "      <th></th>\n",
       "      <th>token</th>\n",
       "      <th>POS</th>\n",
       "      <th>ent_iob</th>\n",
       "      <th>ent_type</th>\n",
       "    </tr>\n",
       "  </thead>\n",
       "  <tbody>\n",
       "    <tr>\n",
       "      <th>0</th>\n",
       "      <td>Luis</td>\n",
       "      <td>PROPN</td>\n",
       "      <td>B</td>\n",
       "      <td>PER</td>\n",
       "    </tr>\n",
       "    <tr>\n",
       "      <th>1</th>\n",
       "      <td>Miguel</td>\n",
       "      <td>PROPN</td>\n",
       "      <td>I</td>\n",
       "      <td>PER</td>\n",
       "    </tr>\n",
       "    <tr>\n",
       "      <th>2</th>\n",
       "      <td>era</td>\n",
       "      <td>AUX</td>\n",
       "      <td>O</td>\n",
       "      <td></td>\n",
       "    </tr>\n",
       "    <tr>\n",
       "      <th>3</th>\n",
       "      <td>matador</td>\n",
       "      <td>NOUN</td>\n",
       "      <td>B</td>\n",
       "      <td>PROFESION</td>\n",
       "    </tr>\n",
       "    <tr>\n",
       "      <th>4</th>\n",
       "      <td>de</td>\n",
       "      <td>ADP</td>\n",
       "      <td>I</td>\n",
       "      <td>PROFESION</td>\n",
       "    </tr>\n",
       "    <tr>\n",
       "      <th>5</th>\n",
       "      <td>toros</td>\n",
       "      <td>NOUN</td>\n",
       "      <td>I</td>\n",
       "      <td>PROFESION</td>\n",
       "    </tr>\n",
       "    <tr>\n",
       "      <th>6</th>\n",
       "      <td>y</td>\n",
       "      <td>CCONJ</td>\n",
       "      <td>O</td>\n",
       "      <td></td>\n",
       "    </tr>\n",
       "    <tr>\n",
       "      <th>7</th>\n",
       "      <td>Cervantes</td>\n",
       "      <td>PROPN</td>\n",
       "      <td>B</td>\n",
       "      <td>PER</td>\n",
       "    </tr>\n",
       "    <tr>\n",
       "      <th>8</th>\n",
       "      <td>era</td>\n",
       "      <td>AUX</td>\n",
       "      <td>O</td>\n",
       "      <td></td>\n",
       "    </tr>\n",
       "    <tr>\n",
       "      <th>9</th>\n",
       "      <td>escritor</td>\n",
       "      <td>NOUN</td>\n",
       "      <td>B</td>\n",
       "      <td>PROFESION</td>\n",
       "    </tr>\n",
       "  </tbody>\n",
       "</table>\n",
       "</div>"
      ],
      "text/plain": [
       "       token    POS ent_iob   ent_type\n",
       "0       Luis  PROPN       B        PER\n",
       "1     Miguel  PROPN       I        PER\n",
       "2        era    AUX       O           \n",
       "3    matador   NOUN       B  PROFESION\n",
       "4         de    ADP       I  PROFESION\n",
       "5      toros   NOUN       I  PROFESION\n",
       "6          y  CCONJ       O           \n",
       "7  Cervantes  PROPN       B        PER\n",
       "8        era    AUX       O           \n",
       "9   escritor   NOUN       B  PROFESION"
      ]
     },
     "execution_count": 37,
     "metadata": {},
     "output_type": "execute_result"
    }
   ],
   "source": [
    "doc = nlp(\"Luis Miguel era matador de toros y Cervantes era escritor\")\n",
    "\n",
    "datos = map(lambda t: {'token': t.orth_,\n",
    "                       'POS': t.pos_,\n",
    "                       'ent_iob': t.ent_iob_,\n",
    "                       'ent_type': t.ent_type_\n",
    "                      }, doc)\n",
    "\n",
    "pd.DataFrame(datos)"
   ]
  },
  {
   "cell_type": "code",
   "execution_count": 38,
   "id": "39a5af88-2f8d-4a88-bb3b-a1fca3ba865b",
   "metadata": {},
   "outputs": [
    {
     "data": {
      "text/plain": [
       "['tok2vec',\n",
       " 'morphologizer',\n",
       " 'parser',\n",
       " 'senter',\n",
       " 'attribute_ruler',\n",
       " 'lemmatizer',\n",
       " 'ner',\n",
       " 'entity_ruler',\n",
       " 'merge_entities']"
      ]
     },
     "execution_count": 38,
     "metadata": {},
     "output_type": "execute_result"
    }
   ],
   "source": [
    "nlp.add_pipe(\"merge_entities\")\n",
    "nlp.component_names"
   ]
  },
  {
   "cell_type": "code",
   "execution_count": 39,
   "id": "2010b8e7-c1d6-485e-b3ed-19637e7e5350",
   "metadata": {},
   "outputs": [
    {
     "data": {
      "text/html": [
       "<div>\n",
       "<style scoped>\n",
       "    .dataframe tbody tr th:only-of-type {\n",
       "        vertical-align: middle;\n",
       "    }\n",
       "\n",
       "    .dataframe tbody tr th {\n",
       "        vertical-align: top;\n",
       "    }\n",
       "\n",
       "    .dataframe thead th {\n",
       "        text-align: right;\n",
       "    }\n",
       "</style>\n",
       "<table border=\"1\" class=\"dataframe\">\n",
       "  <thead>\n",
       "    <tr style=\"text-align: right;\">\n",
       "      <th></th>\n",
       "      <th>token</th>\n",
       "      <th>POS</th>\n",
       "      <th>ent_iob</th>\n",
       "      <th>ent_type</th>\n",
       "    </tr>\n",
       "  </thead>\n",
       "  <tbody>\n",
       "    <tr>\n",
       "      <th>0</th>\n",
       "      <td>Luis Miguel</td>\n",
       "      <td>PROPN</td>\n",
       "      <td>B</td>\n",
       "      <td>PER</td>\n",
       "    </tr>\n",
       "    <tr>\n",
       "      <th>1</th>\n",
       "      <td>era</td>\n",
       "      <td>AUX</td>\n",
       "      <td>O</td>\n",
       "      <td></td>\n",
       "    </tr>\n",
       "    <tr>\n",
       "      <th>2</th>\n",
       "      <td>matador de toros</td>\n",
       "      <td>NOUN</td>\n",
       "      <td>B</td>\n",
       "      <td>PROFESION</td>\n",
       "    </tr>\n",
       "    <tr>\n",
       "      <th>3</th>\n",
       "      <td>y</td>\n",
       "      <td>CCONJ</td>\n",
       "      <td>O</td>\n",
       "      <td></td>\n",
       "    </tr>\n",
       "    <tr>\n",
       "      <th>4</th>\n",
       "      <td>Cervantes</td>\n",
       "      <td>PROPN</td>\n",
       "      <td>B</td>\n",
       "      <td>PER</td>\n",
       "    </tr>\n",
       "    <tr>\n",
       "      <th>5</th>\n",
       "      <td>era</td>\n",
       "      <td>AUX</td>\n",
       "      <td>O</td>\n",
       "      <td></td>\n",
       "    </tr>\n",
       "    <tr>\n",
       "      <th>6</th>\n",
       "      <td>escritor</td>\n",
       "      <td>NOUN</td>\n",
       "      <td>B</td>\n",
       "      <td>PROFESION</td>\n",
       "    </tr>\n",
       "  </tbody>\n",
       "</table>\n",
       "</div>"
      ],
      "text/plain": [
       "              token    POS ent_iob   ent_type\n",
       "0       Luis Miguel  PROPN       B        PER\n",
       "1               era    AUX       O           \n",
       "2  matador de toros   NOUN       B  PROFESION\n",
       "3                 y  CCONJ       O           \n",
       "4         Cervantes  PROPN       B        PER\n",
       "5               era    AUX       O           \n",
       "6          escritor   NOUN       B  PROFESION"
      ]
     },
     "execution_count": 39,
     "metadata": {},
     "output_type": "execute_result"
    }
   ],
   "source": [
    "doc = nlp(\"Luis Miguel era matador de toros y Cervantes era escritor\")\n",
    "\n",
    "datos = map(lambda t: {'token': t.orth_,\n",
    "                       'POS': t.pos_,\n",
    "                       'ent_iob': t.ent_iob_,\n",
    "                       'ent_type': t.ent_type_\n",
    "                      }, doc)\n",
    "\n",
    "pd.DataFrame(datos)"
   ]
  },
  {
   "cell_type": "code",
   "execution_count": 40,
   "id": "pacific-article",
   "metadata": {},
   "outputs": [
    {
     "name": "stdout",
     "output_type": "stream",
     "text": [
      "[('gatos', 'ANIMAL'), ('perros', 'ANIMAL')]\n"
     ]
    }
   ],
   "source": [
    "patterns = [{\"label\": \"ANIMAL\", \"pattern\": [{\"LEMMA\": \"gato\"},{\"LEMMA\": \"montés\", 'OP': '?'}]},\n",
    "           {\"label\": \"ANIMAL\", \"pattern\": [{\"LEMMA\": \"perro\"}]}]\n",
    "ruler.add_patterns(patterns)\n",
    "\n",
    "doc = nlp(\"Los gatos y los perros son animales de compañía.\")\n",
    "print([(ent.text, ent.label_) for ent in doc.ents])"
   ]
  },
  {
   "cell_type": "code",
   "execution_count": 41,
   "id": "varying-acoustic",
   "metadata": {},
   "outputs": [
    {
     "data": {
      "text/html": [
       "<div>\n",
       "<style scoped>\n",
       "    .dataframe tbody tr th:only-of-type {\n",
       "        vertical-align: middle;\n",
       "    }\n",
       "\n",
       "    .dataframe tbody tr th {\n",
       "        vertical-align: top;\n",
       "    }\n",
       "\n",
       "    .dataframe thead th {\n",
       "        text-align: right;\n",
       "    }\n",
       "</style>\n",
       "<table border=\"1\" class=\"dataframe\">\n",
       "  <thead>\n",
       "    <tr style=\"text-align: right;\">\n",
       "      <th></th>\n",
       "      <th>token</th>\n",
       "      <th>POS</th>\n",
       "      <th>lemma</th>\n",
       "      <th>ent_iob</th>\n",
       "      <th>ent_type</th>\n",
       "    </tr>\n",
       "  </thead>\n",
       "  <tbody>\n",
       "    <tr>\n",
       "      <th>0</th>\n",
       "      <td>Los</td>\n",
       "      <td>DET</td>\n",
       "      <td>el</td>\n",
       "      <td>O</td>\n",
       "      <td></td>\n",
       "    </tr>\n",
       "    <tr>\n",
       "      <th>1</th>\n",
       "      <td>gatos</td>\n",
       "      <td>NOUN</td>\n",
       "      <td>gato</td>\n",
       "      <td>B</td>\n",
       "      <td>ANIMAL</td>\n",
       "    </tr>\n",
       "    <tr>\n",
       "      <th>2</th>\n",
       "      <td>y</td>\n",
       "      <td>CCONJ</td>\n",
       "      <td>y</td>\n",
       "      <td>O</td>\n",
       "      <td></td>\n",
       "    </tr>\n",
       "    <tr>\n",
       "      <th>3</th>\n",
       "      <td>los</td>\n",
       "      <td>DET</td>\n",
       "      <td>el</td>\n",
       "      <td>O</td>\n",
       "      <td></td>\n",
       "    </tr>\n",
       "    <tr>\n",
       "      <th>4</th>\n",
       "      <td>perros</td>\n",
       "      <td>NOUN</td>\n",
       "      <td>perro</td>\n",
       "      <td>B</td>\n",
       "      <td>ANIMAL</td>\n",
       "    </tr>\n",
       "    <tr>\n",
       "      <th>5</th>\n",
       "      <td>son</td>\n",
       "      <td>AUX</td>\n",
       "      <td>ser</td>\n",
       "      <td>O</td>\n",
       "      <td></td>\n",
       "    </tr>\n",
       "    <tr>\n",
       "      <th>6</th>\n",
       "      <td>animales</td>\n",
       "      <td>NOUN</td>\n",
       "      <td>animal</td>\n",
       "      <td>O</td>\n",
       "      <td></td>\n",
       "    </tr>\n",
       "    <tr>\n",
       "      <th>7</th>\n",
       "      <td>de</td>\n",
       "      <td>ADP</td>\n",
       "      <td>de</td>\n",
       "      <td>O</td>\n",
       "      <td></td>\n",
       "    </tr>\n",
       "    <tr>\n",
       "      <th>8</th>\n",
       "      <td>compañía</td>\n",
       "      <td>NOUN</td>\n",
       "      <td>compañía</td>\n",
       "      <td>O</td>\n",
       "      <td></td>\n",
       "    </tr>\n",
       "    <tr>\n",
       "      <th>9</th>\n",
       "      <td>.</td>\n",
       "      <td>PUNCT</td>\n",
       "      <td>.</td>\n",
       "      <td>O</td>\n",
       "      <td></td>\n",
       "    </tr>\n",
       "  </tbody>\n",
       "</table>\n",
       "</div>"
      ],
      "text/plain": [
       "      token    POS     lemma ent_iob ent_type\n",
       "0       Los    DET        el       O         \n",
       "1     gatos   NOUN      gato       B   ANIMAL\n",
       "2         y  CCONJ         y       O         \n",
       "3       los    DET        el       O         \n",
       "4    perros   NOUN     perro       B   ANIMAL\n",
       "5       son    AUX       ser       O         \n",
       "6  animales   NOUN    animal       O         \n",
       "7        de    ADP        de       O         \n",
       "8  compañía   NOUN  compañía       O         \n",
       "9         .  PUNCT         .       O         "
      ]
     },
     "execution_count": 41,
     "metadata": {},
     "output_type": "execute_result"
    }
   ],
   "source": [
    "datos = map(lambda t: {'token': t.orth_,\n",
    "                       'POS': t.pos_,\n",
    "                       'lemma': t.lemma_,\n",
    "                       'ent_iob': t.ent_iob_,\n",
    "                       'ent_type': t.ent_type_\n",
    "                      }, doc)\n",
    "\n",
    "pd.DataFrame(datos)"
   ]
  },
  {
   "cell_type": "code",
   "execution_count": 42,
   "id": "opposite-april",
   "metadata": {},
   "outputs": [
    {
     "data": {
      "text/html": [
       "<div>\n",
       "<style scoped>\n",
       "    .dataframe tbody tr th:only-of-type {\n",
       "        vertical-align: middle;\n",
       "    }\n",
       "\n",
       "    .dataframe tbody tr th {\n",
       "        vertical-align: top;\n",
       "    }\n",
       "\n",
       "    .dataframe thead th {\n",
       "        text-align: right;\n",
       "    }\n",
       "</style>\n",
       "<table border=\"1\" class=\"dataframe\">\n",
       "  <thead>\n",
       "    <tr style=\"text-align: right;\">\n",
       "      <th></th>\n",
       "      <th>token</th>\n",
       "      <th>POS</th>\n",
       "      <th>lemma</th>\n",
       "      <th>ent_iob</th>\n",
       "      <th>ent_type</th>\n",
       "    </tr>\n",
       "  </thead>\n",
       "  <tbody>\n",
       "    <tr>\n",
       "      <th>0</th>\n",
       "      <td>El</td>\n",
       "      <td>DET</td>\n",
       "      <td>el</td>\n",
       "      <td>O</td>\n",
       "      <td></td>\n",
       "    </tr>\n",
       "    <tr>\n",
       "      <th>1</th>\n",
       "      <td>gato montés</td>\n",
       "      <td>NOUN</td>\n",
       "      <td>gato montés</td>\n",
       "      <td>B</td>\n",
       "      <td>ANIMAL</td>\n",
       "    </tr>\n",
       "    <tr>\n",
       "      <th>2</th>\n",
       "      <td>es</td>\n",
       "      <td>AUX</td>\n",
       "      <td>ser</td>\n",
       "      <td>O</td>\n",
       "      <td></td>\n",
       "    </tr>\n",
       "    <tr>\n",
       "      <th>3</th>\n",
       "      <td>más</td>\n",
       "      <td>ADV</td>\n",
       "      <td>más</td>\n",
       "      <td>O</td>\n",
       "      <td></td>\n",
       "    </tr>\n",
       "    <tr>\n",
       "      <th>4</th>\n",
       "      <td>grande</td>\n",
       "      <td>ADJ</td>\n",
       "      <td>grande</td>\n",
       "      <td>O</td>\n",
       "      <td></td>\n",
       "    </tr>\n",
       "    <tr>\n",
       "      <th>5</th>\n",
       "      <td>que</td>\n",
       "      <td>SCONJ</td>\n",
       "      <td>que</td>\n",
       "      <td>O</td>\n",
       "      <td></td>\n",
       "    </tr>\n",
       "    <tr>\n",
       "      <th>6</th>\n",
       "      <td>los</td>\n",
       "      <td>DET</td>\n",
       "      <td>el</td>\n",
       "      <td>O</td>\n",
       "      <td></td>\n",
       "    </tr>\n",
       "    <tr>\n",
       "      <th>7</th>\n",
       "      <td>gatos</td>\n",
       "      <td>NOUN</td>\n",
       "      <td>gato</td>\n",
       "      <td>B</td>\n",
       "      <td>ANIMAL</td>\n",
       "    </tr>\n",
       "    <tr>\n",
       "      <th>8</th>\n",
       "      <td>callejeros</td>\n",
       "      <td>ADJ</td>\n",
       "      <td>callejero</td>\n",
       "      <td>O</td>\n",
       "      <td></td>\n",
       "    </tr>\n",
       "  </tbody>\n",
       "</table>\n",
       "</div>"
      ],
      "text/plain": [
       "         token    POS        lemma ent_iob ent_type\n",
       "0           El    DET           el       O         \n",
       "1  gato montés   NOUN  gato montés       B   ANIMAL\n",
       "2           es    AUX          ser       O         \n",
       "3          más    ADV          más       O         \n",
       "4       grande    ADJ       grande       O         \n",
       "5          que  SCONJ          que       O         \n",
       "6          los    DET           el       O         \n",
       "7        gatos   NOUN         gato       B   ANIMAL\n",
       "8   callejeros    ADJ    callejero       O         "
      ]
     },
     "execution_count": 42,
     "metadata": {},
     "output_type": "execute_result"
    }
   ],
   "source": [
    "doc = nlp(\"El gato montés es más grande que los gatos callejeros\")\n",
    "\n",
    "datos = map(lambda t: {'token': t.orth_,\n",
    "                       'POS': t.pos_,\n",
    "                       'lemma': t.lemma_,\n",
    "                       'ent_iob': t.ent_iob_,\n",
    "                       'ent_type': t.ent_type_\n",
    "                      }, doc)\n",
    "\n",
    "pd.DataFrame(datos)"
   ]
  },
  {
   "cell_type": "code",
   "execution_count": 43,
   "id": "7ba4f34b",
   "metadata": {},
   "outputs": [
    {
     "data": {
      "text/plain": [
       "['tok2vec',\n",
       " 'morphologizer',\n",
       " 'parser',\n",
       " 'senter',\n",
       " 'attribute_ruler',\n",
       " 'lemmatizer',\n",
       " 'ner',\n",
       " 'entity_ruler',\n",
       " 'merge_entities']"
      ]
     },
     "execution_count": 43,
     "metadata": {},
     "output_type": "execute_result"
    }
   ],
   "source": [
    "nlp.component_names"
   ]
  },
  {
   "cell_type": "code",
   "execution_count": 44,
   "id": "copyrighted-needle",
   "metadata": {},
   "outputs": [
    {
     "name": "stdout",
     "output_type": "stream",
     "text": [
      "[('gato montés', 'ANIMAL'), ('gatos', 'ANIMAL')]\n"
     ]
    }
   ],
   "source": [
    "print([(ent.text, ent.label_) for ent in doc.ents])"
   ]
  },
  {
   "cell_type": "code",
   "execution_count": 46,
   "id": "advanced-jonathan",
   "metadata": {},
   "outputs": [
    {
     "name": "stdout",
     "output_type": "stream",
     "text": [
      "[('escritor', 'PROFESION'), ('Miguel de Cervantes', 'PER'), ('gato', 'ANIMAL'), ('Bigotes', 'MISC')]\n"
     ]
    }
   ],
   "source": [
    "doc = nlp(\"El escritor Miguel de Cervantes tenía un gato llamado Bigotes\")\n",
    "print([(ent.text, ent.label_) for ent in doc.ents])"
   ]
  },
  {
   "cell_type": "markdown",
   "id": "virgin-offering",
   "metadata": {},
   "source": [
    "## Entity linking\n",
    "Usamos la API de DBPedia Spotlight (https://www.dbpedia-spotlight.org/api)"
   ]
  },
  {
   "cell_type": "code",
   "execution_count": 48,
   "id": "formal-diana",
   "metadata": {},
   "outputs": [
    {
     "ename": "APIError",
     "evalue": "APIError: status=503",
     "output_type": "error",
     "traceback": [
      "\u001b[0;31m---------------------------------------------------------------------------\u001b[0m",
      "\u001b[0;31mAPIError\u001b[0m                                  Traceback (most recent call last)",
      "Cell \u001b[0;32mIn[48], line 28\u001b[0m\n\u001b[1;32m     25\u001b[0m res \u001b[38;5;241m=\u001b[39m requests\u001b[38;5;241m.\u001b[39mget(base_url, params\u001b[38;5;241m=\u001b[39mparams, headers\u001b[38;5;241m=\u001b[39mheaders)\n\u001b[1;32m     26\u001b[0m \u001b[38;5;28;01mif\u001b[39;00m res\u001b[38;5;241m.\u001b[39mstatus_code \u001b[38;5;241m!=\u001b[39m \u001b[38;5;241m200\u001b[39m:\n\u001b[1;32m     27\u001b[0m     \u001b[38;5;66;03m# Something went wrong\u001b[39;00m\n\u001b[0;32m---> 28\u001b[0m     \u001b[38;5;28;01mraise\u001b[39;00m APIError(res\u001b[38;5;241m.\u001b[39mstatus_code)\n\u001b[1;32m     29\u001b[0m \u001b[38;5;66;03m# Display the result as HTML in Jupyter Notebook\u001b[39;00m\n\u001b[1;32m     30\u001b[0m display(HTML(res\u001b[38;5;241m.\u001b[39mtext))\n",
      "\u001b[0;31mAPIError\u001b[0m: APIError: status=503"
     ]
    }
   ],
   "source": [
    "import requests\n",
    "from IPython.display import display, HTML\n",
    "# An API Error Exception\n",
    "class APIError(Exception):\n",
    "    def __init__(self, status):\n",
    "            self.status = status\n",
    "    def __str__(self):\n",
    "            return \"APIError: status={}\".format(self.status)\n",
    "      \n",
    "# Base URL for Spotlight API\n",
    "base_url = \"http://api.dbpedia-spotlight.org/en/annotate\"\n",
    "# Parameters \n",
    "# 'text' - text to be annotated \n",
    "# 'confidence' -   confidence score for linking\n",
    "text = \"The Space Shuttle was a partially reusable low Earth orbital \\\n",
    "spacecraft system operated from April 12, 1981, to July 21, 2011, by \\\n",
    "the National Aeronautics and Space Administration in the United States. \\\n",
    "Launched from the Kennedy Space Center in Florida, five Space Shuttle \\\n",
    "orbiter vehicles flew on a total of 135 missions during 30 years.\"\n",
    "\n",
    "params = {\"text\": text, \"confidence\": 0.6}\n",
    "# Response content type\n",
    "headers = {'accept': 'text/html'}\n",
    "# GET Request\n",
    "res = requests.get(base_url, params=params, headers=headers)\n",
    "if res.status_code != 200:\n",
    "    # Something went wrong\n",
    "    raise APIError(res.status_code)\n",
    "# Display the result as HTML in Jupyter Notebook\n",
    "display(HTML(res.text))"
   ]
  },
  {
   "cell_type": "code",
   "execution_count": null,
   "id": "turkish-camera",
   "metadata": {},
   "outputs": [],
   "source": [
    "res.headers"
   ]
  },
  {
   "cell_type": "code",
   "execution_count": null,
   "id": "operational-taiwan",
   "metadata": {},
   "outputs": [],
   "source": [
    "print(res.text)"
   ]
  },
  {
   "cell_type": "markdown",
   "id": "refined-monitor",
   "metadata": {},
   "source": [
    "Podemos hacer la petición en formato JSON"
   ]
  },
  {
   "cell_type": "code",
   "execution_count": null,
   "id": "correct-adapter",
   "metadata": {},
   "outputs": [],
   "source": [
    "headers = {'accept': 'application/json'}\n",
    "# GET Request\n",
    "res = requests.get(base_url, params=params, headers=headers)\n",
    "if res.status_code != 200:\n",
    "    # Something went wrong\n",
    "    raise APIError(res.status_code)\n",
    "# Display the result as HTML in Jupyter Notebook\n",
    "respuesta = res.json()\n",
    "respuesta"
   ]
  },
  {
   "cell_type": "markdown",
   "id": "automated-sensitivity",
   "metadata": {},
   "source": [
    "La respuesta JSON se puede iterar como un diccionario de claves-valores:"
   ]
  },
  {
   "cell_type": "code",
   "execution_count": null,
   "id": "composite-fraud",
   "metadata": {},
   "outputs": [],
   "source": [
    "for key, value in respuesta.items():\n",
    "    print(f\"{key} : {value}\\n\")"
   ]
  },
  {
   "cell_type": "markdown",
   "id": "patient-gathering",
   "metadata": {},
   "source": [
    "Además podemos acceder directamente a una clave o a una clave anidada:"
   ]
  },
  {
   "cell_type": "code",
   "execution_count": null,
   "id": "dirty-maple",
   "metadata": {},
   "outputs": [],
   "source": [
    "respuesta['@text']"
   ]
  },
  {
   "cell_type": "code",
   "execution_count": null,
   "id": "short-bench",
   "metadata": {},
   "outputs": [],
   "source": [
    "type(respuesta['Resources'])"
   ]
  },
  {
   "cell_type": "code",
   "execution_count": null,
   "id": "0e16547d",
   "metadata": {},
   "outputs": [],
   "source": [
    "respuesta['Resources'][0]"
   ]
  },
  {
   "cell_type": "code",
   "execution_count": null,
   "id": "equipped-triple",
   "metadata": {},
   "outputs": [],
   "source": [
    "respuesta['Resources'][0]['@URI']"
   ]
  },
  {
   "cell_type": "code",
   "execution_count": null,
   "id": "08d46d83",
   "metadata": {},
   "outputs": [],
   "source": [
    "for r in respuesta['Resources']:\n",
    "    print(r['@URI'])"
   ]
  },
  {
   "cell_type": "code",
   "execution_count": null,
   "id": "dependent-community",
   "metadata": {},
   "outputs": [],
   "source": [
    "    \n",
    "# Base URL for Spotlight API\n",
    "base_url = \"http://api.dbpedia-spotlight.org/es/annotate\"\n",
    "# Parameters \n",
    "# 'text' - text to be annotated \n",
    "# 'confidence' -   confidence score for linking\n",
    "with open('articulo.txt', 'r') as f:\n",
    "    texto = f.read()\n",
    "    \n",
    "params = {\"text\": texto, \"confidence\": 0.5}\n",
    "# Response content type\n",
    "headers = {'accept': 'application/json'}\n",
    "# GET Request\n",
    "res = requests.get(base_url, params=params, headers=headers)\n",
    "if res.status_code != 200:\n",
    "    # Something went wrong\n",
    "    raise APIError(res.status_code)\n",
    "# Display the result as HTML in Jupyter Notebook\n",
    "respuesta = res.json()\n",
    "respuesta"
   ]
  }
 ],
 "metadata": {
  "kernelspec": {
   "display_name": "Python 3 (ipykernel)",
   "language": "python",
   "name": "python3"
  },
  "language_info": {
   "codemirror_mode": {
    "name": "ipython",
    "version": 3
   },
   "file_extension": ".py",
   "mimetype": "text/x-python",
   "name": "python",
   "nbconvert_exporter": "python",
   "pygments_lexer": "ipython3",
   "version": "3.10.13"
  }
 },
 "nbformat": 4,
 "nbformat_minor": 5
}
