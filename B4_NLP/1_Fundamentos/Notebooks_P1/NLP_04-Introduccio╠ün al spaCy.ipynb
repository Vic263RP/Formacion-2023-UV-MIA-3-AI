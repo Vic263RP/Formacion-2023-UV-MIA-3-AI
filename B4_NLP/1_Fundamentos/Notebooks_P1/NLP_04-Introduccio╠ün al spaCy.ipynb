{
 "cells": [
  {
   "attachments": {},
   "cell_type": "markdown",
   "metadata": {},
   "source": [
    "# Introducción a la librería spaCy\n",
    "En este *notebook* vamos a describir el uso de la librería `spaCy` para el Procesado de Lenguaje Natural."
   ]
  },
  {
   "cell_type": "code",
   "execution_count": 1,
   "metadata": {},
   "outputs": [],
   "source": [
    "import spacy\n",
    "import pandas as pd\n",
    "import es_core_news_sm\n",
    "import en_core_web_md\n",
    "import re"
   ]
  },
  {
   "attachments": {},
   "cell_type": "markdown",
   "metadata": {},
   "source": [
    "Cargamos la librería y el modelo de lenguaje para el español. Vemos las principales características de la librería y del modelo."
   ]
  },
  {
   "cell_type": "code",
   "execution_count": 2,
   "metadata": {},
   "outputs": [
    {
     "data": {
      "text/plain": [
       "{'spacy_version': '3.7.5',\n",
       " 'location': '/home/vic_263/anaconda3/envs/ia/lib/python3.10/site-packages/spacy',\n",
       " 'platform': 'Linux-5.15.153.1-microsoft-standard-WSL2-x86_64-with-glibc2.31',\n",
       " 'python_version': '3.10.13',\n",
       " 'pipelines': {'es_core_news_sm': '3.7.0', 'en_core_web_md': '3.7.1'}}"
      ]
     },
     "execution_count": 2,
     "metadata": {},
     "output_type": "execute_result"
    }
   ],
   "source": [
    "spacy.info()"
   ]
  },
  {
   "attachments": {},
   "cell_type": "markdown",
   "metadata": {},
   "source": [
    "Comprobamos los modelos de lenguaje instalados (compatible con todas las versiones de `spaCy`)"
   ]
  },
  {
   "cell_type": "code",
   "execution_count": 3,
   "metadata": {},
   "outputs": [
    {
     "name": "stdout",
     "output_type": "stream",
     "text": [
      "\u001b[2K\u001b[38;5;2m✔ Loaded compatibility table\u001b[0m\n",
      "\u001b[1m\n",
      "================= Installed pipeline packages (spaCy v3.7.5) =================\u001b[0m\n",
      "\u001b[38;5;4mℹ spaCy installation:\n",
      "/home/vic_263/anaconda3/envs/ia/lib/python3.10/site-packages/spacy\u001b[0m\n",
      "\n",
      "NAME              SPACY            VERSION                            \n",
      "es_core_news_sm   >=3.7.0,<3.8.0   \u001b[38;5;2m3.7.0\u001b[0m   \u001b[38;5;2m✔\u001b[0m\n",
      "en_core_web_md    >=3.7.2,<3.8.0   \u001b[38;5;2m3.7.1\u001b[0m   \u001b[38;5;2m✔\u001b[0m\n",
      "\n"
     ]
    }
   ],
   "source": [
    "!python -m spacy validate"
   ]
  },
  {
   "cell_type": "code",
   "execution_count": 4,
   "metadata": {},
   "outputs": [],
   "source": [
    "# nlp = spacy.load(\"es_core_news_md\")\n",
    "nlp = es_core_news_sm.load()"
   ]
  },
  {
   "cell_type": "code",
   "execution_count": 5,
   "metadata": {},
   "outputs": [],
   "source": [
    "# spacy.info('es_core_news_md')"
   ]
  },
  {
   "attachments": {},
   "cell_type": "markdown",
   "metadata": {},
   "source": [
    "### Información del modelo\n",
    "Podemos ver todas las características del modelo cargado con su atributo `meta` (diccionario)"
   ]
  },
  {
   "cell_type": "code",
   "execution_count": 6,
   "metadata": {},
   "outputs": [
    {
     "data": {
      "text/plain": [
       "dict_keys(['lang', 'name', 'version', 'description', 'author', 'email', 'url', 'license', 'spacy_version', 'spacy_git_version', 'vectors', 'labels', 'pipeline', 'components', 'disabled', 'performance', 'sources', 'requirements'])"
      ]
     },
     "execution_count": 6,
     "metadata": {},
     "output_type": "execute_result"
    }
   ],
   "source": [
    "nlp.meta.keys()"
   ]
  },
  {
   "cell_type": "code",
   "execution_count": 7,
   "metadata": {},
   "outputs": [
    {
     "data": {
      "text/plain": [
       "['tok2vec', 'morphologizer', 'parser', 'attribute_ruler', 'lemmatizer', 'ner']"
      ]
     },
     "execution_count": 7,
     "metadata": {},
     "output_type": "execute_result"
    }
   ],
   "source": [
    "nlp.meta['pipeline']"
   ]
  },
  {
   "attachments": {},
   "cell_type": "markdown",
   "metadata": {},
   "source": [
    "## Arquitectura del modelo\n",
    "Para cada modelo, `spaCy` tiene un vocabulario de palabras conocidas (*lexemes*) que almacena en un `stringStore` global"
   ]
  },
  {
   "attachments": {},
   "cell_type": "markdown",
   "metadata": {},
   "source": [
    "Cada modelo tiene un conjunto de lexemas del idioma definidos en su Vocabulario"
   ]
  },
  {
   "cell_type": "code",
   "execution_count": 8,
   "metadata": {},
   "outputs": [
    {
     "data": {
      "text/plain": [
       "<spacy.vocab.Vocab at 0x7fdad77a6320>"
      ]
     },
     "execution_count": 8,
     "metadata": {},
     "output_type": "execute_result"
    }
   ],
   "source": [
    "nlp.vocab"
   ]
  },
  {
   "cell_type": "code",
   "execution_count": 9,
   "metadata": {},
   "outputs": [
    {
     "name": "stdout",
     "output_type": "stream",
     "text": [
      "\n",
      "Tamaño vocabulario:  420\n"
     ]
    }
   ],
   "source": [
    "print(\"\\nTamaño vocabulario: \", len(nlp.vocab)) #esta longitud es falsa"
   ]
  },
  {
   "cell_type": "code",
   "execution_count": 10,
   "metadata": {},
   "outputs": [
    {
     "data": {
      "text/plain": [
       "182191"
      ]
     },
     "execution_count": 10,
     "metadata": {},
     "output_type": "execute_result"
    }
   ],
   "source": [
    "len(nlp.vocab.strings)"
   ]
  },
  {
   "attachments": {},
   "cell_type": "markdown",
   "metadata": {},
   "source": [
    "`spaCy` no precargar en memoria todo el vocabulario, sino que carga los lexemas conforme los va necesitando:  \n",
    "> *To reduce the initial loading time, the lexemes in `nlp.vocab` are no longer loaded on initialization for models with vectors. As you process texts, the lexemes will be added to the vocab automatically, just as in small models without vectors.*"
   ]
  },
  {
   "cell_type": "code",
   "execution_count": 11,
   "metadata": {},
   "outputs": [
    {
     "name": "stdout",
     "output_type": "stream",
     "text": [
      "\n",
      "Tamaño vocabulario:  420\n"
     ]
    }
   ],
   "source": [
    "for w in nlp.vocab.vectors:\n",
    "    _ = nlp.vocab[w]\n",
    "\n",
    "print(\"\\nTamaño vocabulario: \", len(nlp.vocab))"
   ]
  },
  {
   "cell_type": "code",
   "execution_count": 12,
   "metadata": {},
   "outputs": [
    {
     "data": {
      "text/plain": [
       "<spacy.lexeme.Lexeme at 0x7fdad779cf40>"
      ]
     },
     "execution_count": 12,
     "metadata": {},
     "output_type": "execute_result"
    }
   ],
   "source": [
    "nlp.vocab[\"ciudad\"]"
   ]
  },
  {
   "cell_type": "code",
   "execution_count": 13,
   "metadata": {},
   "outputs": [
    {
     "data": {
      "text/plain": [
       "'ciudad'"
      ]
     },
     "execution_count": 13,
     "metadata": {},
     "output_type": "execute_result"
    }
   ],
   "source": [
    "nlp.vocab[\"ciudad\"].text"
   ]
  },
  {
   "cell_type": "code",
   "execution_count": 14,
   "metadata": {},
   "outputs": [
    {
     "data": {
      "text/plain": [
       "['check_flag',\n",
       " 'cluster',\n",
       " 'flags',\n",
       " 'has_vector',\n",
       " 'is_alpha',\n",
       " 'is_ascii',\n",
       " 'is_bracket',\n",
       " 'is_currency',\n",
       " 'is_digit',\n",
       " 'is_left_punct',\n",
       " 'is_lower',\n",
       " 'is_oov',\n",
       " 'is_punct',\n",
       " 'is_quote',\n",
       " 'is_right_punct',\n",
       " 'is_space',\n",
       " 'is_stop',\n",
       " 'is_title',\n",
       " 'is_upper',\n",
       " 'lang',\n",
       " 'lang_',\n",
       " 'like_email',\n",
       " 'like_num',\n",
       " 'like_url',\n",
       " 'lower',\n",
       " 'lower_',\n",
       " 'norm',\n",
       " 'norm_',\n",
       " 'orth',\n",
       " 'orth_',\n",
       " 'prefix',\n",
       " 'prefix_',\n",
       " 'prob',\n",
       " 'rank',\n",
       " 'sentiment',\n",
       " 'set_attrs',\n",
       " 'set_flag',\n",
       " 'shape',\n",
       " 'shape_',\n",
       " 'similarity',\n",
       " 'suffix',\n",
       " 'suffix_',\n",
       " 'text',\n",
       " 'vector',\n",
       " 'vector_norm',\n",
       " 'vocab']"
      ]
     },
     "execution_count": 14,
     "metadata": {},
     "output_type": "execute_result"
    }
   ],
   "source": [
    "[prop for prop in dir(spacy.lexeme.Lexeme) if not prop.startswith('_')]"
   ]
  },
  {
   "cell_type": "code",
   "execution_count": 15,
   "metadata": {},
   "outputs": [
    {
     "data": {
      "text/plain": [
       "False"
      ]
     },
     "execution_count": 15,
     "metadata": {},
     "output_type": "execute_result"
    }
   ],
   "source": [
    "nlp.vocab[\"adiós\"].has_vector"
   ]
  },
  {
   "cell_type": "code",
   "execution_count": 16,
   "metadata": {},
   "outputs": [
    {
     "data": {
      "text/plain": [
       "False"
      ]
     },
     "execution_count": 16,
     "metadata": {},
     "output_type": "execute_result"
    }
   ],
   "source": [
    "\"jhgsfhgjsf\" in nlp.vocab"
   ]
  },
  {
   "cell_type": "code",
   "execution_count": 17,
   "metadata": {},
   "outputs": [
    {
     "data": {
      "text/plain": [
       "<spacy.lexeme.Lexeme at 0x7fdad778ea40>"
      ]
     },
     "execution_count": 17,
     "metadata": {},
     "output_type": "execute_result"
    }
   ],
   "source": [
    "nlp.vocab[\"jhgsfhgjsf\"]"
   ]
  },
  {
   "cell_type": "code",
   "execution_count": 18,
   "metadata": {},
   "outputs": [
    {
     "data": {
      "text/plain": [
       "True"
      ]
     },
     "execution_count": 18,
     "metadata": {},
     "output_type": "execute_result"
    }
   ],
   "source": [
    "\"jhgsfhgjsf\" in nlp.vocab"
   ]
  },
  {
   "cell_type": "code",
   "execution_count": 19,
   "metadata": {},
   "outputs": [
    {
     "data": {
      "text/plain": [
       "15970597814306712899"
      ]
     },
     "execution_count": 19,
     "metadata": {},
     "output_type": "execute_result"
    }
   ],
   "source": [
    "nlp.vocab[\"adiós\"].orth"
   ]
  },
  {
   "cell_type": "code",
   "execution_count": 20,
   "metadata": {},
   "outputs": [
    {
     "data": {
      "text/plain": [
       "'adiós'"
      ]
     },
     "execution_count": 20,
     "metadata": {},
     "output_type": "execute_result"
    }
   ],
   "source": [
    "nlp.vocab.strings[15970597814306712899]"
   ]
  },
  {
   "attachments": {},
   "cell_type": "markdown",
   "metadata": {},
   "source": [
    "## Procesado de texto\n",
    "spaCy ejecuta todos los análisis del texto con una sola instrucción. Esta instrucción ejecuta un *pipeline* (procesado secuencial) que implementa:  \n",
    "\n",
    "- División en tokens  \n",
    "- Lematizado\n",
    "- Análisis gramatical\n",
    "- Análisis de dependencias\n",
    "- *Name Entity Recognition* (NER)"
   ]
  },
  {
   "cell_type": "code",
   "execution_count": 21,
   "metadata": {},
   "outputs": [],
   "source": [
    "# Ejemplo de texto\n",
    "texto = \"La casa de Juan es muy bonita.\""
   ]
  },
  {
   "attachments": {},
   "cell_type": "markdown",
   "metadata": {},
   "source": [
    "Lo primero que hacemos es procesar el texto y generar un objeto de tipo `Doc`"
   ]
  },
  {
   "cell_type": "code",
   "execution_count": 22,
   "metadata": {},
   "outputs": [
    {
     "data": {
      "text/plain": [
       "spacy.tokens.doc.Doc"
      ]
     },
     "execution_count": 22,
     "metadata": {},
     "output_type": "execute_result"
    }
   ],
   "source": [
    "doc = nlp(texto)\n",
    "type(doc)"
   ]
  },
  {
   "cell_type": "code",
   "execution_count": 23,
   "metadata": {},
   "outputs": [
    {
     "data": {
      "text/plain": [
       "['cats',\n",
       " 'char_span',\n",
       " 'copy',\n",
       " 'count_by',\n",
       " 'doc',\n",
       " 'ents',\n",
       " 'extend_tensor',\n",
       " 'from_array',\n",
       " 'from_bytes',\n",
       " 'from_dict',\n",
       " 'from_disk',\n",
       " 'from_docs',\n",
       " 'from_json',\n",
       " 'get_extension',\n",
       " 'get_lca_matrix',\n",
       " 'has_annotation',\n",
       " 'has_extension',\n",
       " 'has_unknown_spaces',\n",
       " 'has_vector',\n",
       " 'is_nered',\n",
       " 'is_parsed',\n",
       " 'is_sentenced',\n",
       " 'is_tagged',\n",
       " 'lang',\n",
       " 'lang_',\n",
       " 'mem',\n",
       " 'noun_chunks',\n",
       " 'noun_chunks_iterator',\n",
       " 'remove_extension',\n",
       " 'retokenize',\n",
       " 'sentiment',\n",
       " 'sents',\n",
       " 'set_ents',\n",
       " 'set_extension',\n",
       " 'similarity',\n",
       " 'spans',\n",
       " 'tensor',\n",
       " 'text',\n",
       " 'text_with_ws',\n",
       " 'to_array',\n",
       " 'to_bytes',\n",
       " 'to_dict',\n",
       " 'to_disk',\n",
       " 'to_json',\n",
       " 'to_utf8_array',\n",
       " 'user_data',\n",
       " 'user_hooks',\n",
       " 'user_span_hooks',\n",
       " 'user_token_hooks',\n",
       " 'vector',\n",
       " 'vector_norm',\n",
       " 'vocab']"
      ]
     },
     "execution_count": 23,
     "metadata": {},
     "output_type": "execute_result"
    }
   ],
   "source": [
    "[prop for prop in dir(spacy.tokens.doc.Doc) if not prop.startswith('_')]"
   ]
  },
  {
   "cell_type": "code",
   "execution_count": 24,
   "metadata": {},
   "outputs": [
    {
     "data": {
      "text/plain": [
       "'La casa de Juan es muy bonita.'"
      ]
     },
     "execution_count": 24,
     "metadata": {},
     "output_type": "execute_result"
    }
   ],
   "source": [
    "doc.text"
   ]
  },
  {
   "cell_type": "code",
   "execution_count": 25,
   "metadata": {},
   "outputs": [
    {
     "data": {
      "text/plain": [
       "str"
      ]
     },
     "execution_count": 25,
     "metadata": {},
     "output_type": "execute_result"
    }
   ],
   "source": [
    "type(doc.text)"
   ]
  },
  {
   "cell_type": "code",
   "execution_count": 26,
   "metadata": {},
   "outputs": [
    {
     "data": {
      "text/plain": [
       "La casa de Juan es muy bonita."
      ]
     },
     "execution_count": 26,
     "metadata": {},
     "output_type": "execute_result"
    }
   ],
   "source": [
    "doc"
   ]
  },
  {
   "attachments": {},
   "cell_type": "markdown",
   "metadata": {},
   "source": [
    "## Exploramos el documento\n",
    "\n",
    "Al analizar un texto, spaCy lo divide en una lista de `tokens`, que se acceden iterando sobre el objeto `Doc`\n"
   ]
  },
  {
   "cell_type": "code",
   "execution_count": 27,
   "metadata": {},
   "outputs": [
    {
     "data": {
      "text/plain": [
       "[La, casa, de, Juan, es, muy, bonita, .]"
      ]
     },
     "execution_count": 27,
     "metadata": {},
     "output_type": "execute_result"
    }
   ],
   "source": [
    "[t for t in doc]"
   ]
  },
  {
   "cell_type": "code",
   "execution_count": 28,
   "metadata": {},
   "outputs": [
    {
     "data": {
      "text/plain": [
       "8"
      ]
     },
     "execution_count": 28,
     "metadata": {},
     "output_type": "execute_result"
    }
   ],
   "source": [
    "len(doc)"
   ]
  },
  {
   "cell_type": "code",
   "execution_count": 29,
   "metadata": {},
   "outputs": [
    {
     "data": {
      "text/plain": [
       "."
      ]
     },
     "execution_count": 29,
     "metadata": {},
     "output_type": "execute_result"
    }
   ],
   "source": [
    "doc[-1]"
   ]
  },
  {
   "attachments": {},
   "cell_type": "markdown",
   "metadata": {},
   "source": [
    "Esta división es distinta de la simple división por espacios:"
   ]
  },
  {
   "cell_type": "code",
   "execution_count": 30,
   "metadata": {},
   "outputs": [
    {
     "data": {
      "text/plain": [
       "['La', 'casa', 'de', 'Juan', 'es', 'muy', 'bonita.']"
      ]
     },
     "execution_count": 30,
     "metadata": {},
     "output_type": "execute_result"
    }
   ],
   "source": [
    "texto.split(' ')"
   ]
  },
  {
   "cell_type": "code",
   "execution_count": 31,
   "metadata": {},
   "outputs": [
    {
     "data": {
      "text/plain": [
       "spacy.tokens.token.Token"
      ]
     },
     "execution_count": 31,
     "metadata": {},
     "output_type": "execute_result"
    }
   ],
   "source": [
    "type(doc[0])"
   ]
  },
  {
   "attachments": {},
   "cell_type": "markdown",
   "metadata": {},
   "source": [
    "Cada token tiene una serie de atributos:"
   ]
  },
  {
   "cell_type": "code",
   "execution_count": 32,
   "metadata": {},
   "outputs": [
    {
     "name": "stdout",
     "output_type": "stream",
     "text": [
      "['ancestors', 'check_flag', 'children', 'cluster', 'conjuncts', 'dep', 'dep_', 'doc', 'ent_id', 'ent_id_', 'ent_iob', 'ent_iob_', 'ent_kb_id', 'ent_kb_id_', 'ent_type', 'ent_type_', 'get_extension', 'has_dep', 'has_extension', 'has_head', 'has_morph', 'has_vector', 'head', 'i', 'idx', 'iob_strings', 'is_alpha', 'is_ancestor', 'is_ascii', 'is_bracket', 'is_currency', 'is_digit', 'is_left_punct', 'is_lower', 'is_oov', 'is_punct', 'is_quote', 'is_right_punct', 'is_sent_end', 'is_sent_start', 'is_space', 'is_stop', 'is_title', 'is_upper', 'lang', 'lang_', 'left_edge', 'lefts', 'lemma', 'lemma_', 'lex', 'lex_id', 'like_email', 'like_num', 'like_url', 'lower', 'lower_', 'morph', 'n_lefts', 'n_rights', 'nbor', 'norm', 'norm_', 'orth', 'orth_', 'pos', 'pos_', 'prefix', 'prefix_', 'prob', 'rank', 'remove_extension', 'right_edge', 'rights', 'sent', 'sent_start', 'sentiment', 'set_extension', 'set_morph', 'shape', 'shape_', 'similarity', 'subtree', 'suffix', 'suffix_', 'tag', 'tag_', 'tensor', 'text', 'text_with_ws', 'vector', 'vector_norm', 'vocab', 'whitespace_']\n"
     ]
    }
   ],
   "source": [
    "print([prop for prop in dir(spacy.tokens.token.Token) if not prop.startswith('_')])"
   ]
  },
  {
   "attachments": {},
   "cell_type": "markdown",
   "metadata": {},
   "source": [
    "Cada propiedad tiene dos atributos:  \n",
    "- `propiedad`: ID único o *hash* que identifica el valor en un diccionario común a todos los Docs (`stringstore`)\n",
    "- `propiedad_`: valor de la propiedad  "
   ]
  },
  {
   "attachments": {},
   "cell_type": "markdown",
   "metadata": {},
   "source": [
    "Veamos los atributos de algunos de los tokens:"
   ]
  },
  {
   "cell_type": "code",
   "execution_count": 33,
   "metadata": {},
   "outputs": [
    {
     "name": "stdout",
     "output_type": "stream",
     "text": [
      "TOKEN: Juan\n",
      "original: 12079884900455715477 Juan\n",
      "lowercased: 5414139780887730998 juan\n",
      "lemma: 12079884900455715477 Juan\n",
      "shape: 10887629174180191697 Xxxx\n",
      "prefix: 18003918085672799305 J\n",
      "suffix: 15055317959408037229 uan\n",
      "log probability: -20.0\n",
      "Brown cluster id: 0\n",
      "POS: 96 PROPN\n",
      "tag: 96 PROPN\n",
      "morphology: \n",
      "Dependency parsing: 426 nmod\n"
     ]
    }
   ],
   "source": [
    "token=doc[3]\n",
    "print(\"TOKEN:\", token)\n",
    "print(\"original:\", token.orth, token.orth_)\n",
    "print(\"lowercased:\", token.lower, token.lower_)\n",
    "print(\"lemma:\", token.lemma, token.lemma_)\n",
    "print(\"shape:\", token.shape, token.shape_)\n",
    "print(\"prefix:\", token.prefix, token.prefix_)\n",
    "print(\"suffix:\", token.suffix, token.suffix_)\n",
    "print(\"log probability:\", token.prob)\n",
    "print(\"Brown cluster id:\", token.cluster)\n",
    "print(\"POS:\", token.pos, token.pos_)\n",
    "print(\"tag:\", token.tag, token.tag_)\n",
    "print(\"morphology:\", token.morph)\n",
    "print(\"Dependency parsing:\", token.dep, token.dep_)\n"
   ]
  },
  {
   "attachments": {},
   "cell_type": "markdown",
   "metadata": {},
   "source": [
    "Las propiedades más importantes son (https://spacy.io/api/token#attributes):  \n",
    "* `orth_`: texto del token\n",
    "* `lemma_`: lema (palabra base)\n",
    "* `shape_`: forma ortográfica del token\n",
    "* `pos_`: Part-of-Speech (genérico)\n",
    "* `tag_`: POS detallado\n",
    "* `morph`: Análisis morfológico\n",
    "* `dep_`: Tipo de dependencia del token (análisis de dependencias)"
   ]
  },
  {
   "cell_type": "code",
   "execution_count": 34,
   "metadata": {},
   "outputs": [
    {
     "data": {
      "text/html": [
       "<div>\n",
       "<style scoped>\n",
       "    .dataframe tbody tr th:only-of-type {\n",
       "        vertical-align: middle;\n",
       "    }\n",
       "\n",
       "    .dataframe tbody tr th {\n",
       "        vertical-align: top;\n",
       "    }\n",
       "\n",
       "    .dataframe thead th {\n",
       "        text-align: right;\n",
       "    }\n",
       "</style>\n",
       "<table border=\"1\" class=\"dataframe\">\n",
       "  <thead>\n",
       "    <tr style=\"text-align: right;\">\n",
       "      <th></th>\n",
       "      <th>token</th>\n",
       "      <th>lema</th>\n",
       "      <th>shape</th>\n",
       "      <th>POS</th>\n",
       "      <th>Descripción TAG</th>\n",
       "      <th>dependencia</th>\n",
       "      <th>Descripción dep</th>\n",
       "      <th>Morfología</th>\n",
       "    </tr>\n",
       "  </thead>\n",
       "  <tbody>\n",
       "    <tr>\n",
       "      <th>0</th>\n",
       "      <td>La</td>\n",
       "      <td>el</td>\n",
       "      <td>Xx</td>\n",
       "      <td>DET</td>\n",
       "      <td>determiner</td>\n",
       "      <td>det</td>\n",
       "      <td>determiner</td>\n",
       "      <td>(Definite=Def, Gender=Fem, Number=Sing, PronType=Art)</td>\n",
       "    </tr>\n",
       "    <tr>\n",
       "      <th>1</th>\n",
       "      <td>casa</td>\n",
       "      <td>casa</td>\n",
       "      <td>xxxx</td>\n",
       "      <td>NOUN</td>\n",
       "      <td>noun</td>\n",
       "      <td>nsubj</td>\n",
       "      <td>nominal subject</td>\n",
       "      <td>(Gender=Fem, Number=Sing)</td>\n",
       "    </tr>\n",
       "    <tr>\n",
       "      <th>2</th>\n",
       "      <td>de</td>\n",
       "      <td>de</td>\n",
       "      <td>xx</td>\n",
       "      <td>ADP</td>\n",
       "      <td>adposition</td>\n",
       "      <td>case</td>\n",
       "      <td>case marking</td>\n",
       "      <td>()</td>\n",
       "    </tr>\n",
       "    <tr>\n",
       "      <th>3</th>\n",
       "      <td>Juan</td>\n",
       "      <td>Juan</td>\n",
       "      <td>Xxxx</td>\n",
       "      <td>PROPN</td>\n",
       "      <td>proper noun</td>\n",
       "      <td>nmod</td>\n",
       "      <td>modifier of nominal</td>\n",
       "      <td>()</td>\n",
       "    </tr>\n",
       "    <tr>\n",
       "      <th>4</th>\n",
       "      <td>es</td>\n",
       "      <td>ser</td>\n",
       "      <td>xx</td>\n",
       "      <td>AUX</td>\n",
       "      <td>auxiliary</td>\n",
       "      <td>cop</td>\n",
       "      <td>copula</td>\n",
       "      <td>(Mood=Ind, Number=Sing, Person=3, Tense=Pres, VerbForm=Fin)</td>\n",
       "    </tr>\n",
       "    <tr>\n",
       "      <th>5</th>\n",
       "      <td>muy</td>\n",
       "      <td>mucho</td>\n",
       "      <td>xxx</td>\n",
       "      <td>ADV</td>\n",
       "      <td>adverb</td>\n",
       "      <td>advmod</td>\n",
       "      <td>adverbial modifier</td>\n",
       "      <td>()</td>\n",
       "    </tr>\n",
       "    <tr>\n",
       "      <th>6</th>\n",
       "      <td>bonita</td>\n",
       "      <td>bonito</td>\n",
       "      <td>xxxx</td>\n",
       "      <td>ADJ</td>\n",
       "      <td>adjective</td>\n",
       "      <td>ROOT</td>\n",
       "      <td>root</td>\n",
       "      <td>(Gender=Fem, Number=Sing)</td>\n",
       "    </tr>\n",
       "    <tr>\n",
       "      <th>7</th>\n",
       "      <td>.</td>\n",
       "      <td>.</td>\n",
       "      <td>.</td>\n",
       "      <td>PUNCT</td>\n",
       "      <td>punctuation</td>\n",
       "      <td>punct</td>\n",
       "      <td>punctuation</td>\n",
       "      <td>(PunctType=Peri)</td>\n",
       "    </tr>\n",
       "  </tbody>\n",
       "</table>\n",
       "</div>"
      ],
      "text/plain": [
       "    token    lema shape    POS Descripción TAG dependencia  \\\n",
       "0      La      el    Xx    DET      determiner         det   \n",
       "1    casa    casa  xxxx   NOUN            noun       nsubj   \n",
       "2      de      de    xx    ADP      adposition        case   \n",
       "3    Juan    Juan  Xxxx  PROPN     proper noun        nmod   \n",
       "4      es     ser    xx    AUX       auxiliary         cop   \n",
       "5     muy   mucho   xxx    ADV          adverb      advmod   \n",
       "6  bonita  bonito  xxxx    ADJ       adjective        ROOT   \n",
       "7       .       .     .  PUNCT     punctuation       punct   \n",
       "\n",
       "       Descripción dep  \\\n",
       "0           determiner   \n",
       "1      nominal subject   \n",
       "2         case marking   \n",
       "3  modifier of nominal   \n",
       "4               copula   \n",
       "5   adverbial modifier   \n",
       "6                 root   \n",
       "7          punctuation   \n",
       "\n",
       "                                                    Morfología  \n",
       "0        (Definite=Def, Gender=Fem, Number=Sing, PronType=Art)  \n",
       "1                                    (Gender=Fem, Number=Sing)  \n",
       "2                                                           ()  \n",
       "3                                                           ()  \n",
       "4  (Mood=Ind, Number=Sing, Person=3, Tense=Pres, VerbForm=Fin)  \n",
       "5                                                           ()  \n",
       "6                                    (Gender=Fem, Number=Sing)  \n",
       "7                                             (PunctType=Peri)  "
      ]
     },
     "execution_count": 34,
     "metadata": {},
     "output_type": "execute_result"
    }
   ],
   "source": [
    "pd.set_option('display.max_colwidth', None)\n",
    "\n",
    "datos = map(lambda t: {'token': t.orth_,\n",
    "                       'lema': t.lemma_,\n",
    "                       'shape': t.shape_,\n",
    "                       'POS': t.pos_,\n",
    "                       'Descripción TAG': spacy.explain(t.tag_),\n",
    "                       'dependencia': t.dep_,\n",
    "                       'Descripción dep': spacy.explain(t.dep_),\n",
    "                       'Morfología': t.morph}, doc)\n",
    "\n",
    "pd.DataFrame(datos)"
   ]
  },
  {
   "attachments": {},
   "cell_type": "markdown",
   "metadata": {},
   "source": [
    "### Diferencia entre token y lexema"
   ]
  },
  {
   "cell_type": "code",
   "execution_count": 36,
   "metadata": {},
   "outputs": [
    {
     "data": {
      "text/html": [
       "<div>\n",
       "<style scoped>\n",
       "    .dataframe tbody tr th:only-of-type {\n",
       "        vertical-align: middle;\n",
       "    }\n",
       "\n",
       "    .dataframe tbody tr th {\n",
       "        vertical-align: top;\n",
       "    }\n",
       "\n",
       "    .dataframe thead th {\n",
       "        text-align: right;\n",
       "    }\n",
       "</style>\n",
       "<table border=\"1\" class=\"dataframe\">\n",
       "  <thead>\n",
       "    <tr style=\"text-align: right;\">\n",
       "      <th></th>\n",
       "      <th>token</th>\n",
       "      <th>lema</th>\n",
       "      <th>shape</th>\n",
       "      <th>POS</th>\n",
       "      <th>Morfología</th>\n",
       "      <th>dependencia</th>\n",
       "      <th>Descripción dep</th>\n",
       "    </tr>\n",
       "  </thead>\n",
       "  <tbody>\n",
       "    <tr>\n",
       "      <th>0</th>\n",
       "      <td>I</td>\n",
       "      <td>I</td>\n",
       "      <td>X</td>\n",
       "      <td>PRON</td>\n",
       "      <td>(Case=Nom, Number=Sing, Person=1, PronType=Prs)</td>\n",
       "      <td>nsubj</td>\n",
       "      <td>nominal subject</td>\n",
       "    </tr>\n",
       "    <tr>\n",
       "      <th>1</th>\n",
       "      <td>run</td>\n",
       "      <td>run</td>\n",
       "      <td>xxx</td>\n",
       "      <td>VERB</td>\n",
       "      <td>(Tense=Pres, VerbForm=Fin)</td>\n",
       "      <td>ROOT</td>\n",
       "      <td>root</td>\n",
       "    </tr>\n",
       "    <tr>\n",
       "      <th>2</th>\n",
       "      <td>a</td>\n",
       "      <td>a</td>\n",
       "      <td>x</td>\n",
       "      <td>DET</td>\n",
       "      <td>(Definite=Ind, PronType=Art)</td>\n",
       "      <td>det</td>\n",
       "      <td>determiner</td>\n",
       "    </tr>\n",
       "    <tr>\n",
       "      <th>3</th>\n",
       "      <td>long</td>\n",
       "      <td>long</td>\n",
       "      <td>xxxx</td>\n",
       "      <td>ADJ</td>\n",
       "      <td>(Degree=Pos)</td>\n",
       "      <td>amod</td>\n",
       "      <td>adjectival modifier</td>\n",
       "    </tr>\n",
       "    <tr>\n",
       "      <th>4</th>\n",
       "      <td>run</td>\n",
       "      <td>run</td>\n",
       "      <td>xxx</td>\n",
       "      <td>NOUN</td>\n",
       "      <td>(Number=Sing)</td>\n",
       "      <td>dobj</td>\n",
       "      <td>direct object</td>\n",
       "    </tr>\n",
       "  </tbody>\n",
       "</table>\n",
       "</div>"
      ],
      "text/plain": [
       "  token  lema shape   POS                                       Morfología  \\\n",
       "0     I     I     X  PRON  (Case=Nom, Number=Sing, Person=1, PronType=Prs)   \n",
       "1   run   run   xxx  VERB                       (Tense=Pres, VerbForm=Fin)   \n",
       "2     a     a     x   DET                     (Definite=Ind, PronType=Art)   \n",
       "3  long  long  xxxx   ADJ                                     (Degree=Pos)   \n",
       "4   run   run   xxx  NOUN                                    (Number=Sing)   \n",
       "\n",
       "  dependencia      Descripción dep  \n",
       "0       nsubj      nominal subject  \n",
       "1        ROOT                 root  \n",
       "2         det           determiner  \n",
       "3        amod  adjectival modifier  \n",
       "4        dobj        direct object  "
      ]
     },
     "execution_count": 36,
     "metadata": {},
     "output_type": "execute_result"
    }
   ],
   "source": [
    "nlp_en = en_core_web_md.load()\n",
    "parsedData = nlp_en(\"I run a long run\")\n",
    "datos = map(lambda t: {'token': t.orth_,\n",
    "                       'lema': t.lemma_,\n",
    "                       'shape': t.shape_,\n",
    "                       'POS': t.pos_,\n",
    "                       'Morfología': t.morph,\n",
    "                       'dependencia': t.dep_,\n",
    "                       'Descripción dep': spacy.explain(t.dep_)},\n",
    "                        parsedData)\n",
    "\n",
    "pd.DataFrame(datos)"
   ]
  },
  {
   "cell_type": "code",
   "execution_count": 37,
   "metadata": {},
   "outputs": [
    {
     "data": {
      "text/plain": [
       "run"
      ]
     },
     "execution_count": 37,
     "metadata": {},
     "output_type": "execute_result"
    }
   ],
   "source": [
    "parsedData[1]"
   ]
  },
  {
   "cell_type": "code",
   "execution_count": 38,
   "metadata": {},
   "outputs": [
    {
     "data": {
      "text/plain": [
       "run"
      ]
     },
     "execution_count": 38,
     "metadata": {},
     "output_type": "execute_result"
    }
   ],
   "source": [
    "parsedData[4]"
   ]
  },
  {
   "cell_type": "code",
   "execution_count": 39,
   "metadata": {},
   "outputs": [
    {
     "data": {
      "text/plain": [
       "False"
      ]
     },
     "execution_count": 39,
     "metadata": {},
     "output_type": "execute_result"
    }
   ],
   "source": [
    "parsedData[1]==parsedData[4]"
   ]
  },
  {
   "cell_type": "code",
   "execution_count": 40,
   "metadata": {},
   "outputs": [
    {
     "data": {
      "text/plain": [
       "12767647472892411841"
      ]
     },
     "execution_count": 40,
     "metadata": {},
     "output_type": "execute_result"
    }
   ],
   "source": [
    "parsedData[1].orth"
   ]
  },
  {
   "cell_type": "code",
   "execution_count": 41,
   "metadata": {},
   "outputs": [
    {
     "data": {
      "text/plain": [
       "'run'"
      ]
     },
     "execution_count": 41,
     "metadata": {},
     "output_type": "execute_result"
    }
   ],
   "source": [
    "nlp.vocab.strings[parsedData[1].orth]"
   ]
  },
  {
   "cell_type": "code",
   "execution_count": 42,
   "metadata": {},
   "outputs": [
    {
     "data": {
      "text/plain": [
       "True"
      ]
     },
     "execution_count": 42,
     "metadata": {},
     "output_type": "execute_result"
    }
   ],
   "source": [
    "parsedData[1].orth==parsedData[4].orth"
   ]
  },
  {
   "cell_type": "code",
   "execution_count": 43,
   "metadata": {},
   "outputs": [
    {
     "data": {
      "text/plain": [
       "'VERB'"
      ]
     },
     "execution_count": 43,
     "metadata": {},
     "output_type": "execute_result"
    }
   ],
   "source": [
    "parsedData[1].pos_"
   ]
  },
  {
   "cell_type": "code",
   "execution_count": 44,
   "metadata": {},
   "outputs": [
    {
     "data": {
      "text/plain": [
       "'NOUN'"
      ]
     },
     "execution_count": 44,
     "metadata": {},
     "output_type": "execute_result"
    }
   ],
   "source": [
    "parsedData[4].pos_"
   ]
  },
  {
   "attachments": {},
   "cell_type": "markdown",
   "metadata": {},
   "source": [
    "## Análisis gramatical\n",
    "Los documentos SpaCy también dividen en texto en oraciones (*sentences*) que son objetos del tipo `spacy.tokens.span.Span`. Podemos iterar con el generador `doc.sents` usando `next()`, `list()`, un bucle o con una comprensión de lista."
   ]
  },
  {
   "cell_type": "code",
   "execution_count": 45,
   "metadata": {},
   "outputs": [],
   "source": [
    "texto = \"Al Sr. Daniel siempre le gustaron las catedrales. La de su ciudad era tan alta, \\\n",
    "que al mirarla desde su pequeña estatura, tenía que torcer el cuello de tal forma que \\\n",
    "le costaba no marearse. Lo que más temía era que sus pies se despegasen de la tierra \\\n",
    "y la Catedral le arrastrara con ella hasta los cielos. Aun así, un espíritu \\\n",
    "aventurero le llevaba cada tarde hasta la Plaza Mayor.\"\n",
    "doc = nlp(texto)"
   ]
  },
  {
   "cell_type": "code",
   "execution_count": 46,
   "metadata": {},
   "outputs": [
    {
     "data": {
      "text/plain": [
       "'Al Sr. Daniel siempre le gustaron las catedrales. La de su ciudad era tan alta, que al mirarla desde su pequeña estatura, tenía que torcer el cuello de tal forma que le costaba no marearse. Lo que más temía era que sus pies se despegasen de la tierra y la Catedral le arrastrara con ella hasta los cielos. Aun así, un espíritu aventurero le llevaba cada tarde hasta la Plaza Mayor.'"
      ]
     },
     "execution_count": 46,
     "metadata": {},
     "output_type": "execute_result"
    }
   ],
   "source": [
    "doc.text"
   ]
  },
  {
   "cell_type": "code",
   "execution_count": 47,
   "metadata": {},
   "outputs": [
    {
     "data": {
      "text/plain": [
       "<generator at 0x7fdad7751e40>"
      ]
     },
     "execution_count": 47,
     "metadata": {},
     "output_type": "execute_result"
    }
   ],
   "source": [
    "frases = doc.sents\n",
    "frases"
   ]
  },
  {
   "cell_type": "code",
   "execution_count": 59,
   "metadata": {},
   "outputs": [
    {
     "data": {
      "text/plain": [
       "La de su ciudad era tan alta, que al mirarla desde su pequeña estatura, tenía que torcer el cuello de tal forma que le costaba no marearse."
      ]
     },
     "execution_count": 59,
     "metadata": {},
     "output_type": "execute_result"
    }
   ],
   "source": [
    "next(frases)"
   ]
  },
  {
   "cell_type": "code",
   "execution_count": 49,
   "metadata": {},
   "outputs": [
    {
     "data": {
      "text/plain": [
       "spacy.tokens.span.Span"
      ]
     },
     "execution_count": 49,
     "metadata": {},
     "output_type": "execute_result"
    }
   ],
   "source": [
    "type(next(doc.sents))"
   ]
  },
  {
   "cell_type": "code",
   "execution_count": 50,
   "metadata": {},
   "outputs": [
    {
     "name": "stdout",
     "output_type": "stream",
     "text": [
      "Oración 0:\n",
      "Al Sr. Daniel siempre le gustaron las catedrales.\n",
      "\n",
      "Oración 1:\n",
      "La de su ciudad era tan alta, que al mirarla desde su pequeña estatura, tenía que torcer el cuello de tal forma que le costaba no marearse.\n",
      "\n",
      "Oración 2:\n",
      "Lo que más temía era que sus pies se despegasen de la tierra y la Catedral le arrastrara con ella hasta los cielos.\n",
      "\n",
      "Oración 3:\n",
      "Aun así, un espíritu aventurero le llevaba cada tarde hasta la Plaza Mayor.\n",
      "\n"
     ]
    }
   ],
   "source": [
    "for i, sent in enumerate(doc.sents):\n",
    "    print(\"Oración {}:\\n{}\\n\".format(i,sent))"
   ]
  },
  {
   "attachments": {},
   "cell_type": "markdown",
   "metadata": {},
   "source": [
    "Cada sentencia también tiene sus propios atributos, distintos de los de los tokens. Para spaCy las oraciones son objetos de tipo `spacy.tokens.span.Span`"
   ]
  },
  {
   "cell_type": "code",
   "execution_count": 51,
   "metadata": {},
   "outputs": [
    {
     "name": "stdout",
     "output_type": "stream",
     "text": [
      "['as_doc', 'char_span', 'conjuncts', 'doc', 'end', 'end_char', 'ent_id', 'ent_id_', 'ents', 'get_extension', 'get_lca_matrix', 'has_extension', 'has_vector', 'id', 'id_', 'kb_id', 'kb_id_', 'label', 'label_', 'lefts', 'lemma_', 'n_lefts', 'n_rights', 'noun_chunks', 'orth_', 'remove_extension', 'rights', 'root', 'sent', 'sentiment', 'sents', 'set_extension', 'similarity', 'start', 'start_char', 'subtree', 'tensor', 'text', 'text_with_ws', 'to_array', 'vector', 'vector_norm', 'vocab']\n"
     ]
    }
   ],
   "source": [
    "print([prop for prop in dir(spacy.tokens.span.Span) if not prop.startswith('_')])"
   ]
  },
  {
   "attachments": {},
   "cell_type": "markdown",
   "metadata": {},
   "source": [
    "Algunas propiedades de `Span` son distintas que las de cada `Token`:"
   ]
  },
  {
   "cell_type": "code",
   "execution_count": 52,
   "metadata": {},
   "outputs": [
    {
     "data": {
      "text/plain": [
       "['as_doc',\n",
       " 'char_span',\n",
       " 'end',\n",
       " 'end_char',\n",
       " 'ents',\n",
       " 'get_lca_matrix',\n",
       " 'id',\n",
       " 'id_',\n",
       " 'kb_id',\n",
       " 'kb_id_',\n",
       " 'label',\n",
       " 'label_',\n",
       " 'noun_chunks',\n",
       " 'root',\n",
       " 'sents',\n",
       " 'start',\n",
       " 'start_char',\n",
       " 'to_array']"
      ]
     },
     "execution_count": 52,
     "metadata": {},
     "output_type": "execute_result"
    }
   ],
   "source": [
    "[prop for prop in dir(spacy.tokens.span.Span) if\n",
    " not prop.startswith('_') and not prop in dir(spacy.tokens.token.Token)]"
   ]
  },
  {
   "cell_type": "code",
   "execution_count": 53,
   "metadata": {},
   "outputs": [
    {
     "data": {
      "text/plain": [
       "Al Sr. Daniel siempre le gustaron las catedrales."
      ]
     },
     "execution_count": 53,
     "metadata": {},
     "output_type": "execute_result"
    }
   ],
   "source": [
    "frase=next(doc.sents)\n",
    "frase"
   ]
  },
  {
   "cell_type": "code",
   "execution_count": 54,
   "metadata": {},
   "outputs": [
    {
     "data": {
      "text/plain": [
       "0"
      ]
     },
     "execution_count": 54,
     "metadata": {},
     "output_type": "execute_result"
    }
   ],
   "source": [
    "frase.start"
   ]
  },
  {
   "cell_type": "code",
   "execution_count": 55,
   "metadata": {},
   "outputs": [
    {
     "data": {
      "text/plain": [
       "9"
      ]
     },
     "execution_count": 55,
     "metadata": {},
     "output_type": "execute_result"
    }
   ],
   "source": [
    "frase.end"
   ]
  },
  {
   "cell_type": "code",
   "execution_count": 56,
   "metadata": {},
   "outputs": [
    {
     "data": {
      "text/plain": [
       "[Al, Sr., Daniel, siempre, le, gustaron, las, catedrales, .]"
      ]
     },
     "execution_count": 56,
     "metadata": {},
     "output_type": "execute_result"
    }
   ],
   "source": [
    "[t for t in doc[frase.start:frase.end]]"
   ]
  },
  {
   "cell_type": "code",
   "execution_count": 57,
   "metadata": {},
   "outputs": [
    {
     "data": {
      "text/plain": [
       "gustaron"
      ]
     },
     "execution_count": 57,
     "metadata": {},
     "output_type": "execute_result"
    }
   ],
   "source": [
    "frase.root"
   ]
  },
  {
   "cell_type": "code",
   "execution_count": 58,
   "metadata": {},
   "outputs": [
    {
     "data": {
      "text/plain": [
       "spacy.tokens.token.Token"
      ]
     },
     "execution_count": 58,
     "metadata": {},
     "output_type": "execute_result"
    }
   ],
   "source": [
    "type(frase.root)"
   ]
  },
  {
   "attachments": {},
   "cell_type": "markdown",
   "metadata": {},
   "source": [
    "### Ejercicio 1\n",
    "Obtén la palabra raíz -atributo `root`- de cada oración del texto anterior y muéstrala.  \n",
    "La respuesta es  \n",
    "```python  \n",
    "[gustaron, alta, era, llevaba]\n",
    "```"
   ]
  },
  {
   "cell_type": "code",
   "execution_count": 61,
   "metadata": {},
   "outputs": [
    {
     "data": {
      "text/plain": [
       "[gustaron, alta, era, llevaba]"
      ]
     },
     "execution_count": 61,
     "metadata": {},
     "output_type": "execute_result"
    }
   ],
   "source": [
    "frases = doc.sents\n",
    "[frase.root for frase in frases]"
   ]
  },
  {
   "attachments": {},
   "cell_type": "markdown",
   "metadata": {},
   "source": [
    "### Part of Speech (POS)\n",
    "La librería `spaCy` determina el tipo gramatical (POS) de cada palabra en nuestro texto. Creamos un diccionario con los distintos POS de nuestro texto de ejemplo, usando el *hash* de cada POS como clave del diccionario:"
   ]
  },
  {
   "cell_type": "code",
   "execution_count": 62,
   "metadata": {},
   "outputs": [
    {
     "data": {
      "text/plain": [
       "{85: ('ADP', 'adposition'),\n",
       " 96: ('PROPN', 'proper noun'),\n",
       " 86: ('ADV', 'adverb'),\n",
       " 95: ('PRON', 'pronoun'),\n",
       " 100: ('VERB', 'verb'),\n",
       " 90: ('DET', 'determiner'),\n",
       " 92: ('NOUN', 'noun'),\n",
       " 97: ('PUNCT', 'punctuation'),\n",
       " 87: ('AUX', 'auxiliary'),\n",
       " 84: ('ADJ', 'adjective'),\n",
       " 98: ('SCONJ', 'subordinating conjunction'),\n",
       " 89: ('CCONJ', 'coordinating conjunction')}"
      ]
     },
     "execution_count": 62,
     "metadata": {},
     "output_type": "execute_result"
    }
   ],
   "source": [
    "{w.pos: (w.pos_, spacy.explain(w.pos_)) for w in doc} "
   ]
  },
  {
   "attachments": {},
   "cell_type": "markdown",
   "metadata": {},
   "source": [
    "Cada tipo gramatical (POS) se subdivide en distintas etiquetas según su análisis mnorfológico(atributo `morph`).  \n",
    "Por ejemplo en nuestro texto tenemos los siguientes `tag`:"
   ]
  },
  {
   "cell_type": "code",
   "execution_count": 63,
   "metadata": {},
   "outputs": [
    {
     "data": {
      "text/html": [
       "<div>\n",
       "<style scoped>\n",
       "    .dataframe tbody tr th:only-of-type {\n",
       "        vertical-align: middle;\n",
       "    }\n",
       "\n",
       "    .dataframe tbody tr th {\n",
       "        vertical-align: top;\n",
       "    }\n",
       "\n",
       "    .dataframe thead th {\n",
       "        text-align: right;\n",
       "    }\n",
       "</style>\n",
       "<table border=\"1\" class=\"dataframe\">\n",
       "  <thead>\n",
       "    <tr style=\"text-align: right;\">\n",
       "      <th></th>\n",
       "      <th>POS</th>\n",
       "      <th>morph</th>\n",
       "    </tr>\n",
       "  </thead>\n",
       "  <tbody>\n",
       "    <tr>\n",
       "      <th>36</th>\n",
       "      <td>ADJ</td>\n",
       "      <td>(Gender=Fem, Number=Sing)</td>\n",
       "    </tr>\n",
       "    <tr>\n",
       "      <th>28</th>\n",
       "      <td>ADJ</td>\n",
       "      <td>(Gender=Masc, Number=Sing)</td>\n",
       "    </tr>\n",
       "    <tr>\n",
       "      <th>6</th>\n",
       "      <td>ADP</td>\n",
       "      <td>(Definite=Def, Gender=Masc, Number=Sing, PronType=Art)</td>\n",
       "    </tr>\n",
       "    <tr>\n",
       "      <th>7</th>\n",
       "      <td>ADP</td>\n",
       "      <td>()</td>\n",
       "    </tr>\n",
       "    <tr>\n",
       "      <th>27</th>\n",
       "      <td>ADV</td>\n",
       "      <td>()</td>\n",
       "    </tr>\n",
       "    <tr>\n",
       "      <th>4</th>\n",
       "      <td>ADV</td>\n",
       "      <td>(Polarity=Neg)</td>\n",
       "    </tr>\n",
       "    <tr>\n",
       "      <th>17</th>\n",
       "      <td>ADV</td>\n",
       "      <td>(Degree=Cmp)</td>\n",
       "    </tr>\n",
       "    <tr>\n",
       "      <th>33</th>\n",
       "      <td>AUX</td>\n",
       "      <td>(Mood=Ind, Number=Sing, Person=3, Tense=Imp, VerbForm=Fin)</td>\n",
       "    </tr>\n",
       "    <tr>\n",
       "      <th>16</th>\n",
       "      <td>CCONJ</td>\n",
       "      <td>()</td>\n",
       "    </tr>\n",
       "    <tr>\n",
       "      <th>38</th>\n",
       "      <td>DET</td>\n",
       "      <td>(Definite=Def, Gender=Fem, Number=Sing, PronType=Art)</td>\n",
       "    </tr>\n",
       "    <tr>\n",
       "      <th>20</th>\n",
       "      <td>DET</td>\n",
       "      <td>(Number=Sing, Person=3, Poss=Yes, PronType=Prs)</td>\n",
       "    </tr>\n",
       "    <tr>\n",
       "      <th>30</th>\n",
       "      <td>DET</td>\n",
       "      <td>(Definite=Def, Gender=Masc, Number=Sing, PronType=Art)</td>\n",
       "    </tr>\n",
       "    <tr>\n",
       "      <th>14</th>\n",
       "      <td>DET</td>\n",
       "      <td>(Definite=Ind, Gender=Masc, Number=Sing, PronType=Art)</td>\n",
       "    </tr>\n",
       "    <tr>\n",
       "      <th>11</th>\n",
       "      <td>DET</td>\n",
       "      <td>(Number=Plur, Person=3, Poss=Yes, PronType=Prs)</td>\n",
       "    </tr>\n",
       "    <tr>\n",
       "      <th>26</th>\n",
       "      <td>DET</td>\n",
       "      <td>(Definite=Def, Gender=Fem, Number=Plur, PronType=Art)</td>\n",
       "    </tr>\n",
       "    <tr>\n",
       "      <th>34</th>\n",
       "      <td>DET</td>\n",
       "      <td>(Number=Sing, PronType=Tot)</td>\n",
       "    </tr>\n",
       "    <tr>\n",
       "      <th>5</th>\n",
       "      <td>DET</td>\n",
       "      <td>(Number=Sing, PronType=Dem)</td>\n",
       "    </tr>\n",
       "    <tr>\n",
       "      <th>1</th>\n",
       "      <td>DET</td>\n",
       "      <td>(Definite=Def, Gender=Masc, Number=Plur, PronType=Art)</td>\n",
       "    </tr>\n",
       "    <tr>\n",
       "      <th>32</th>\n",
       "      <td>NOUN</td>\n",
       "      <td>(Gender=Fem, Number=Plur)</td>\n",
       "    </tr>\n",
       "    <tr>\n",
       "      <th>10</th>\n",
       "      <td>NOUN</td>\n",
       "      <td>(Gender=Fem, Number=Sing)</td>\n",
       "    </tr>\n",
       "    <tr>\n",
       "      <th>2</th>\n",
       "      <td>NOUN</td>\n",
       "      <td>(Gender=Masc, Number=Sing)</td>\n",
       "    </tr>\n",
       "    <tr>\n",
       "      <th>13</th>\n",
       "      <td>NOUN</td>\n",
       "      <td>(Gender=Masc, Number=Plur)</td>\n",
       "    </tr>\n",
       "    <tr>\n",
       "      <th>23</th>\n",
       "      <td>NOUN</td>\n",
       "      <td>()</td>\n",
       "    </tr>\n",
       "    <tr>\n",
       "      <th>31</th>\n",
       "      <td>PRON</td>\n",
       "      <td>(Case=Acc, Case=Nom, Gender=Fem, Number=Sing, Person=3, PronType=Prs)</td>\n",
       "    </tr>\n",
       "    <tr>\n",
       "      <th>19</th>\n",
       "      <td>PRON</td>\n",
       "      <td>(Case=Acc, Definite=Def, Gender=Masc, Number=Sing, Person=3, PrepCase=Npr, PronType=Prs)</td>\n",
       "    </tr>\n",
       "    <tr>\n",
       "      <th>21</th>\n",
       "      <td>PRON</td>\n",
       "      <td>(Case=Acc, Person=3, PrepCase=Npr, PronType=Prs, Reflex=Yes)</td>\n",
       "    </tr>\n",
       "    <tr>\n",
       "      <th>12</th>\n",
       "      <td>PRON</td>\n",
       "      <td>(Case=Dat, Number=Sing, Person=3, PronType=Prs)</td>\n",
       "    </tr>\n",
       "    <tr>\n",
       "      <th>9</th>\n",
       "      <td>PRON</td>\n",
       "      <td>(PronType=Int, PronType=Rel)</td>\n",
       "    </tr>\n",
       "    <tr>\n",
       "      <th>8</th>\n",
       "      <td>PROPN</td>\n",
       "      <td>()</td>\n",
       "    </tr>\n",
       "    <tr>\n",
       "      <th>35</th>\n",
       "      <td>PUNCT</td>\n",
       "      <td>(PunctType=Peri)</td>\n",
       "    </tr>\n",
       "    <tr>\n",
       "      <th>3</th>\n",
       "      <td>PUNCT</td>\n",
       "      <td>(PunctType=Comm)</td>\n",
       "    </tr>\n",
       "    <tr>\n",
       "      <th>25</th>\n",
       "      <td>SCONJ</td>\n",
       "      <td>()</td>\n",
       "    </tr>\n",
       "    <tr>\n",
       "      <th>22</th>\n",
       "      <td>VERB</td>\n",
       "      <td>(Mood=Sub, Number=Plur, Person=3, Tense=Imp, VerbForm=Fin)</td>\n",
       "    </tr>\n",
       "    <tr>\n",
       "      <th>37</th>\n",
       "      <td>VERB</td>\n",
       "      <td>(Mood=Sub, Number=Sing, Person=3, Tense=Imp, VerbForm=Fin)</td>\n",
       "    </tr>\n",
       "    <tr>\n",
       "      <th>29</th>\n",
       "      <td>VERB</td>\n",
       "      <td>(Case=Acc, Person=3, PrepCase=Npr, PronType=Prs, Reflex=Yes, VerbForm=Inf)</td>\n",
       "    </tr>\n",
       "    <tr>\n",
       "      <th>18</th>\n",
       "      <td>VERB</td>\n",
       "      <td>(Case=Acc, Gender=Fem, Number=Sing, Person=3, PrepCase=Npr, PronType=Prs, VerbForm=Inf)</td>\n",
       "    </tr>\n",
       "    <tr>\n",
       "      <th>15</th>\n",
       "      <td>VERB</td>\n",
       "      <td>(VerbForm=Inf)</td>\n",
       "    </tr>\n",
       "    <tr>\n",
       "      <th>24</th>\n",
       "      <td>VERB</td>\n",
       "      <td>(Mood=Ind, Number=Plur, Person=3, Tense=Past, VerbForm=Fin)</td>\n",
       "    </tr>\n",
       "    <tr>\n",
       "      <th>0</th>\n",
       "      <td>VERB</td>\n",
       "      <td>(Mood=Ind, Number=Sing, Person=3, Tense=Imp, VerbForm=Fin)</td>\n",
       "    </tr>\n",
       "  </tbody>\n",
       "</table>\n",
       "</div>"
      ],
      "text/plain": [
       "      POS  \\\n",
       "36    ADJ   \n",
       "28    ADJ   \n",
       "6     ADP   \n",
       "7     ADP   \n",
       "27    ADV   \n",
       "4     ADV   \n",
       "17    ADV   \n",
       "33    AUX   \n",
       "16  CCONJ   \n",
       "38    DET   \n",
       "20    DET   \n",
       "30    DET   \n",
       "14    DET   \n",
       "11    DET   \n",
       "26    DET   \n",
       "34    DET   \n",
       "5     DET   \n",
       "1     DET   \n",
       "32   NOUN   \n",
       "10   NOUN   \n",
       "2    NOUN   \n",
       "13   NOUN   \n",
       "23   NOUN   \n",
       "31   PRON   \n",
       "19   PRON   \n",
       "21   PRON   \n",
       "12   PRON   \n",
       "9    PRON   \n",
       "8   PROPN   \n",
       "35  PUNCT   \n",
       "3   PUNCT   \n",
       "25  SCONJ   \n",
       "22   VERB   \n",
       "37   VERB   \n",
       "29   VERB   \n",
       "18   VERB   \n",
       "15   VERB   \n",
       "24   VERB   \n",
       "0    VERB   \n",
       "\n",
       "                                                                                       morph  \n",
       "36                                                                 (Gender=Fem, Number=Sing)  \n",
       "28                                                                (Gender=Masc, Number=Sing)  \n",
       "6                                     (Definite=Def, Gender=Masc, Number=Sing, PronType=Art)  \n",
       "7                                                                                         ()  \n",
       "27                                                                                        ()  \n",
       "4                                                                             (Polarity=Neg)  \n",
       "17                                                                              (Degree=Cmp)  \n",
       "33                                (Mood=Ind, Number=Sing, Person=3, Tense=Imp, VerbForm=Fin)  \n",
       "16                                                                                        ()  \n",
       "38                                     (Definite=Def, Gender=Fem, Number=Sing, PronType=Art)  \n",
       "20                                           (Number=Sing, Person=3, Poss=Yes, PronType=Prs)  \n",
       "30                                    (Definite=Def, Gender=Masc, Number=Sing, PronType=Art)  \n",
       "14                                    (Definite=Ind, Gender=Masc, Number=Sing, PronType=Art)  \n",
       "11                                           (Number=Plur, Person=3, Poss=Yes, PronType=Prs)  \n",
       "26                                     (Definite=Def, Gender=Fem, Number=Plur, PronType=Art)  \n",
       "34                                                               (Number=Sing, PronType=Tot)  \n",
       "5                                                                (Number=Sing, PronType=Dem)  \n",
       "1                                     (Definite=Def, Gender=Masc, Number=Plur, PronType=Art)  \n",
       "32                                                                 (Gender=Fem, Number=Plur)  \n",
       "10                                                                 (Gender=Fem, Number=Sing)  \n",
       "2                                                                 (Gender=Masc, Number=Sing)  \n",
       "13                                                                (Gender=Masc, Number=Plur)  \n",
       "23                                                                                        ()  \n",
       "31                     (Case=Acc, Case=Nom, Gender=Fem, Number=Sing, Person=3, PronType=Prs)  \n",
       "19  (Case=Acc, Definite=Def, Gender=Masc, Number=Sing, Person=3, PrepCase=Npr, PronType=Prs)  \n",
       "21                              (Case=Acc, Person=3, PrepCase=Npr, PronType=Prs, Reflex=Yes)  \n",
       "12                                           (Case=Dat, Number=Sing, Person=3, PronType=Prs)  \n",
       "9                                                               (PronType=Int, PronType=Rel)  \n",
       "8                                                                                         ()  \n",
       "35                                                                          (PunctType=Peri)  \n",
       "3                                                                           (PunctType=Comm)  \n",
       "25                                                                                        ()  \n",
       "22                                (Mood=Sub, Number=Plur, Person=3, Tense=Imp, VerbForm=Fin)  \n",
       "37                                (Mood=Sub, Number=Sing, Person=3, Tense=Imp, VerbForm=Fin)  \n",
       "29                (Case=Acc, Person=3, PrepCase=Npr, PronType=Prs, Reflex=Yes, VerbForm=Inf)  \n",
       "18   (Case=Acc, Gender=Fem, Number=Sing, Person=3, PrepCase=Npr, PronType=Prs, VerbForm=Inf)  \n",
       "15                                                                            (VerbForm=Inf)  \n",
       "24                               (Mood=Ind, Number=Plur, Person=3, Tense=Past, VerbForm=Fin)  \n",
       "0                                 (Mood=Ind, Number=Sing, Person=3, Tense=Imp, VerbForm=Fin)  "
      ]
     },
     "execution_count": 63,
     "metadata": {},
     "output_type": "execute_result"
    }
   ],
   "source": [
    "pd.DataFrame(set([(w.pos_, w.morph) for w in doc]), columns=['POS', 'morph']).sort_values(by='POS')"
   ]
  },
  {
   "attachments": {},
   "cell_type": "markdown",
   "metadata": {},
   "source": [
    "### Ejercicio 2\n",
    "Crea una lista de Python con todas las palabras del texto `doc` que sean del tipo NOMBRE y además sean de género Femenino.  \n",
    "Ayuda: tendrás que usar una comprensión de lista filtrando mediante una función de búsqueda de texto (o patrón regular) sobre el valor del atributo `morph` "
   ]
  },
  {
   "cell_type": "markdown",
   "metadata": {},
   "source": [
    "Podemos extraer el género de todos los sustantivos a partir de su atributo `morph`:"
   ]
  },
  {
   "cell_type": "code",
   "execution_count": 64,
   "metadata": {},
   "outputs": [
    {
     "data": {
      "text/plain": [
       "[(catedrales, ['Fem']),\n",
       " (ciudad, ['Fem']),\n",
       " (estatura, ['Fem']),\n",
       " (cuello, ['Masc']),\n",
       " (forma, ['Fem']),\n",
       " (temía, ['Fem']),\n",
       " (pies, ['Masc']),\n",
       " (tierra, ['Fem']),\n",
       " (cielos, ['Masc']),\n",
       " (Aun, []),\n",
       " (espíritu, ['Masc']),\n",
       " (tarde, ['Fem'])]"
      ]
     },
     "execution_count": 64,
     "metadata": {},
     "output_type": "execute_result"
    }
   ],
   "source": [
    "[(w, re.findall('Gender=(\\w+)', str(w.morph))) for w in doc if w.pos_=='NOUN']"
   ]
  },
  {
   "attachments": {},
   "cell_type": "markdown",
   "metadata": {},
   "source": [
    "### Análisis de dependencias (dependency parsing)\n",
    "La librería `spaCy` también analiza las relaciones entre palabras de una frase."
   ]
  },
  {
   "cell_type": "code",
   "execution_count": 65,
   "metadata": {},
   "outputs": [
    {
     "data": {
      "text/html": [
       "<div>\n",
       "<style scoped>\n",
       "    .dataframe tbody tr th:only-of-type {\n",
       "        vertical-align: middle;\n",
       "    }\n",
       "\n",
       "    .dataframe tbody tr th {\n",
       "        vertical-align: top;\n",
       "    }\n",
       "\n",
       "    .dataframe thead th {\n",
       "        text-align: right;\n",
       "    }\n",
       "</style>\n",
       "<table border=\"1\" class=\"dataframe\">\n",
       "  <thead>\n",
       "    <tr style=\"text-align: right;\">\n",
       "      <th></th>\n",
       "      <th>texto</th>\n",
       "      <th>dependencia</th>\n",
       "      <th>explicación</th>\n",
       "    </tr>\n",
       "  </thead>\n",
       "  <tbody>\n",
       "    <tr>\n",
       "      <th>0</th>\n",
       "      <td>El</td>\n",
       "      <td>det</td>\n",
       "      <td>determiner</td>\n",
       "    </tr>\n",
       "    <tr>\n",
       "      <th>1</th>\n",
       "      <td>perro</td>\n",
       "      <td>nsubj</td>\n",
       "      <td>nominal subject</td>\n",
       "    </tr>\n",
       "    <tr>\n",
       "      <th>2</th>\n",
       "      <td>de</td>\n",
       "      <td>case</td>\n",
       "      <td>case marking</td>\n",
       "    </tr>\n",
       "    <tr>\n",
       "      <th>3</th>\n",
       "      <td>Juan</td>\n",
       "      <td>nmod</td>\n",
       "      <td>modifier of nominal</td>\n",
       "    </tr>\n",
       "    <tr>\n",
       "      <th>4</th>\n",
       "      <td>se</td>\n",
       "      <td>iobj</td>\n",
       "      <td>indirect object</td>\n",
       "    </tr>\n",
       "    <tr>\n",
       "      <th>5</th>\n",
       "      <td>comió</td>\n",
       "      <td>ROOT</td>\n",
       "      <td>root</td>\n",
       "    </tr>\n",
       "    <tr>\n",
       "      <th>6</th>\n",
       "      <td>mi</td>\n",
       "      <td>det</td>\n",
       "      <td>determiner</td>\n",
       "    </tr>\n",
       "    <tr>\n",
       "      <th>7</th>\n",
       "      <td>bocadillo</td>\n",
       "      <td>obj</td>\n",
       "      <td>object</td>\n",
       "    </tr>\n",
       "    <tr>\n",
       "      <th>8</th>\n",
       "      <td>.</td>\n",
       "      <td>punct</td>\n",
       "      <td>punctuation</td>\n",
       "    </tr>\n",
       "  </tbody>\n",
       "</table>\n",
       "</div>"
      ],
      "text/plain": [
       "       texto dependencia          explicación\n",
       "0         El         det           determiner\n",
       "1      perro       nsubj      nominal subject\n",
       "2         de        case         case marking\n",
       "3       Juan        nmod  modifier of nominal\n",
       "4         se        iobj      indirect object\n",
       "5      comió        ROOT                 root\n",
       "6         mi         det           determiner\n",
       "7  bocadillo         obj               object\n",
       "8          .       punct          punctuation"
      ]
     },
     "execution_count": 65,
     "metadata": {},
     "output_type": "execute_result"
    }
   ],
   "source": [
    "doc = nlp(\"El perro de Juan se comió mi bocadillo.\")\n",
    "dependencias = [(t.text, t.dep_, spacy.explain(t.dep_)) for t in doc]\n",
    "pd.DataFrame(list(dependencias), columns=['texto', 'dependencia', 'explicación'])"
   ]
  },
  {
   "attachments": {},
   "cell_type": "markdown",
   "metadata": {},
   "source": [
    "Cada palabra tiene un tipo de dependencia determinado dentro de la frase. \n",
    "La lista completa está en https://spacy.io/docs/api/annotation  \n",
    "La dependencia `root` coincide con el atributo `root` de cada sentencia."
   ]
  },
  {
   "cell_type": "code",
   "execution_count": 66,
   "metadata": {},
   "outputs": [
    {
     "data": {
      "text/plain": [
       "comió"
      ]
     },
     "execution_count": 66,
     "metadata": {},
     "output_type": "execute_result"
    }
   ],
   "source": [
    "sent=next(doc.sents)\n",
    "sent.root"
   ]
  },
  {
   "attachments": {},
   "cell_type": "markdown",
   "metadata": {},
   "source": [
    "Cada raíz tiene una serie de hijos (tokens que dependen gramaticalmente de esa raíz)."
   ]
  },
  {
   "cell_type": "code",
   "execution_count": 67,
   "metadata": {},
   "outputs": [
    {
     "data": {
      "text/plain": [
       "[perro, se, bocadillo, .]"
      ]
     },
     "execution_count": 67,
     "metadata": {},
     "output_type": "execute_result"
    }
   ],
   "source": [
    "list(sent.root.children)"
   ]
  },
  {
   "cell_type": "code",
   "execution_count": 68,
   "metadata": {},
   "outputs": [
    {
     "data": {
      "text/plain": [
       "comió"
      ]
     },
     "execution_count": 68,
     "metadata": {},
     "output_type": "execute_result"
    }
   ],
   "source": [
    "doc[1].head"
   ]
  },
  {
   "cell_type": "code",
   "execution_count": 69,
   "metadata": {},
   "outputs": [
    {
     "data": {
      "text/plain": [
       "'nsubj'"
      ]
     },
     "execution_count": 69,
     "metadata": {},
     "output_type": "execute_result"
    }
   ],
   "source": [
    "doc[1].dep_"
   ]
  },
  {
   "attachments": {},
   "cell_type": "markdown",
   "metadata": {},
   "source": [
    "Podemos extender el análisis a cada palabra del texto."
   ]
  },
  {
   "cell_type": "code",
   "execution_count": 70,
   "metadata": {},
   "outputs": [
    {
     "name": "stdout",
     "output_type": "stream",
     "text": [
      "El :  []\n",
      "perro :  [El, Juan]\n",
      "de :  []\n",
      "Juan :  [de]\n",
      "se :  []\n",
      "comió :  [perro, se, bocadillo, .]\n",
      "mi :  []\n",
      "bocadillo :  [mi]\n",
      ". :  []\n"
     ]
    }
   ],
   "source": [
    "for word in sent: \n",
    "    print(word, ': ', str(list(word.children)))"
   ]
  },
  {
   "attachments": {},
   "cell_type": "markdown",
   "metadata": {},
   "source": [
    "Además, cada palabra tiene una palabra de la que depende (`.head`) y unas palabras que dependen de ella (`children`) a izquierda (`.lefts`) y a derecha (`.rights`)."
   ]
  },
  {
   "cell_type": "code",
   "execution_count": 71,
   "metadata": {},
   "outputs": [
    {
     "data": {
      "text/html": [
       "<div>\n",
       "<style scoped>\n",
       "    .dataframe tbody tr th:only-of-type {\n",
       "        vertical-align: middle;\n",
       "    }\n",
       "\n",
       "    .dataframe tbody tr th {\n",
       "        vertical-align: top;\n",
       "    }\n",
       "\n",
       "    .dataframe thead th {\n",
       "        text-align: right;\n",
       "    }\n",
       "</style>\n",
       "<table border=\"1\" class=\"dataframe\">\n",
       "  <thead>\n",
       "    <tr style=\"text-align: right;\">\n",
       "      <th></th>\n",
       "      <th>Palabra</th>\n",
       "      <th>tipo de dependencia</th>\n",
       "      <th>HEAD</th>\n",
       "    </tr>\n",
       "  </thead>\n",
       "  <tbody>\n",
       "    <tr>\n",
       "      <th>0</th>\n",
       "      <td>El</td>\n",
       "      <td>det (determiner)</td>\n",
       "      <td>perro</td>\n",
       "    </tr>\n",
       "    <tr>\n",
       "      <th>1</th>\n",
       "      <td>perro</td>\n",
       "      <td>nsubj (nominal subject)</td>\n",
       "      <td>comió</td>\n",
       "    </tr>\n",
       "    <tr>\n",
       "      <th>2</th>\n",
       "      <td>de</td>\n",
       "      <td>case (case marking)</td>\n",
       "      <td>Juan</td>\n",
       "    </tr>\n",
       "    <tr>\n",
       "      <th>3</th>\n",
       "      <td>Juan</td>\n",
       "      <td>nmod (modifier of nominal)</td>\n",
       "      <td>perro</td>\n",
       "    </tr>\n",
       "    <tr>\n",
       "      <th>4</th>\n",
       "      <td>se</td>\n",
       "      <td>iobj (indirect object)</td>\n",
       "      <td>comió</td>\n",
       "    </tr>\n",
       "    <tr>\n",
       "      <th>5</th>\n",
       "      <td>comió</td>\n",
       "      <td>ROOT (root)</td>\n",
       "      <td>comió</td>\n",
       "    </tr>\n",
       "    <tr>\n",
       "      <th>6</th>\n",
       "      <td>mi</td>\n",
       "      <td>det (determiner)</td>\n",
       "      <td>bocadillo</td>\n",
       "    </tr>\n",
       "    <tr>\n",
       "      <th>7</th>\n",
       "      <td>bocadillo</td>\n",
       "      <td>obj (object)</td>\n",
       "      <td>comió</td>\n",
       "    </tr>\n",
       "    <tr>\n",
       "      <th>8</th>\n",
       "      <td>.</td>\n",
       "      <td>punct (punctuation)</td>\n",
       "      <td>comió</td>\n",
       "    </tr>\n",
       "  </tbody>\n",
       "</table>\n",
       "</div>"
      ],
      "text/plain": [
       "     Palabra         tipo de dependencia       HEAD\n",
       "0         El            det (determiner)      perro\n",
       "1      perro     nsubj (nominal subject)      comió\n",
       "2         de         case (case marking)       Juan\n",
       "3       Juan  nmod (modifier of nominal)      perro\n",
       "4         se      iobj (indirect object)      comió\n",
       "5      comió                 ROOT (root)      comió\n",
       "6         mi            det (determiner)  bocadillo\n",
       "7  bocadillo                obj (object)      comió\n",
       "8          .         punct (punctuation)      comió"
      ]
     },
     "execution_count": 71,
     "metadata": {},
     "output_type": "execute_result"
    }
   ],
   "source": [
    "dependencias = map(lambda t: {\n",
    "    'Palabra': t.orth_,\n",
    "    'tipo de dependencia': f\"{t.dep_} ({spacy.explain(t.dep_)})\",\n",
    "    'HEAD': t.head.orth_},\n",
    "    doc)\n",
    "\n",
    "pd.DataFrame(dependencias)"
   ]
  },
  {
   "cell_type": "code",
   "execution_count": 72,
   "metadata": {},
   "outputs": [
    {
     "data": {
      "text/html": [
       "<div>\n",
       "<style scoped>\n",
       "    .dataframe tbody tr th:only-of-type {\n",
       "        vertical-align: middle;\n",
       "    }\n",
       "\n",
       "    .dataframe tbody tr th {\n",
       "        vertical-align: top;\n",
       "    }\n",
       "\n",
       "    .dataframe thead th {\n",
       "        text-align: right;\n",
       "    }\n",
       "</style>\n",
       "<table border=\"1\" class=\"dataframe\">\n",
       "  <thead>\n",
       "    <tr style=\"text-align: right;\">\n",
       "      <th></th>\n",
       "      <th>dep. izquierdas</th>\n",
       "      <th>palabra[tipo de dependencia]</th>\n",
       "      <th>dep.derechas</th>\n",
       "    </tr>\n",
       "  </thead>\n",
       "  <tbody>\n",
       "    <tr>\n",
       "      <th>0</th>\n",
       "      <td>[]</td>\n",
       "      <td>El [det]</td>\n",
       "      <td>[]</td>\n",
       "    </tr>\n",
       "    <tr>\n",
       "      <th>1</th>\n",
       "      <td>[El]</td>\n",
       "      <td>perro [nsubj]</td>\n",
       "      <td>[Juan]</td>\n",
       "    </tr>\n",
       "    <tr>\n",
       "      <th>2</th>\n",
       "      <td>[]</td>\n",
       "      <td>de [case]</td>\n",
       "      <td>[]</td>\n",
       "    </tr>\n",
       "    <tr>\n",
       "      <th>3</th>\n",
       "      <td>[de]</td>\n",
       "      <td>Juan [nmod]</td>\n",
       "      <td>[]</td>\n",
       "    </tr>\n",
       "    <tr>\n",
       "      <th>4</th>\n",
       "      <td>[]</td>\n",
       "      <td>se [iobj]</td>\n",
       "      <td>[]</td>\n",
       "    </tr>\n",
       "    <tr>\n",
       "      <th>5</th>\n",
       "      <td>[perro, se]</td>\n",
       "      <td>comió [ROOT]</td>\n",
       "      <td>[bocadillo, .]</td>\n",
       "    </tr>\n",
       "    <tr>\n",
       "      <th>6</th>\n",
       "      <td>[]</td>\n",
       "      <td>mi [det]</td>\n",
       "      <td>[]</td>\n",
       "    </tr>\n",
       "    <tr>\n",
       "      <th>7</th>\n",
       "      <td>[mi]</td>\n",
       "      <td>bocadillo [obj]</td>\n",
       "      <td>[]</td>\n",
       "    </tr>\n",
       "    <tr>\n",
       "      <th>8</th>\n",
       "      <td>[]</td>\n",
       "      <td>. [punct]</td>\n",
       "      <td>[]</td>\n",
       "    </tr>\n",
       "  </tbody>\n",
       "</table>\n",
       "</div>"
      ],
      "text/plain": [
       "  dep. izquierdas palabra[tipo de dependencia]    dep.derechas\n",
       "0              []                     El [det]              []\n",
       "1            [El]                perro [nsubj]          [Juan]\n",
       "2              []                    de [case]              []\n",
       "3            [de]                  Juan [nmod]              []\n",
       "4              []                    se [iobj]              []\n",
       "5     [perro, se]                 comió [ROOT]  [bocadillo, .]\n",
       "6              []                     mi [det]              []\n",
       "7            [mi]              bocadillo [obj]              []\n",
       "8              []                    . [punct]              []"
      ]
     },
     "execution_count": 72,
     "metadata": {},
     "output_type": "execute_result"
    }
   ],
   "source": [
    "dependencias = map(lambda token: {\n",
    "    'dep. izquierdas': [t.orth_ for t in token.lefts],\n",
    "    'palabra[tipo de dependencia]': f\"{token.orth_} [{token.dep_}]\",\n",
    "    'dep.derechas': [t.orth_ for t in token.rights]},\n",
    "    doc)\n",
    "\n",
    "pd.DataFrame(dependencias)"
   ]
  },
  {
   "attachments": {},
   "cell_type": "markdown",
   "metadata": {},
   "source": [
    "Podemos representar gráficamente las dependencias con el módulo de visualización `displaCy`:"
   ]
  },
  {
   "cell_type": "code",
   "execution_count": 73,
   "metadata": {},
   "outputs": [
    {
     "data": {
      "text/html": [
       "<span class=\"tex2jax_ignore\"><svg xmlns=\"http://www.w3.org/2000/svg\" xmlns:xlink=\"http://www.w3.org/1999/xlink\" xml:lang=\"es\" id=\"01c7ce0292134716a33936973f49f8da-0\" class=\"displacy\" width=\"1010\" height=\"317.0\" direction=\"ltr\" style=\"max-width: none; height: 317.0px; color: #000000; background: #ffffff; font-family: Arial; direction: ltr\">\n",
       "<text class=\"displacy-token\" fill=\"currentColor\" text-anchor=\"middle\" y=\"227.0\">\n",
       "    <tspan class=\"displacy-word\" fill=\"currentColor\" x=\"50\">El</tspan>\n",
       "    <tspan class=\"displacy-tag\" dy=\"2em\" fill=\"currentColor\" x=\"50\">DET</tspan>\n",
       "</text>\n",
       "\n",
       "<text class=\"displacy-token\" fill=\"currentColor\" text-anchor=\"middle\" y=\"227.0\">\n",
       "    <tspan class=\"displacy-word\" fill=\"currentColor\" x=\"170\">perro</tspan>\n",
       "    <tspan class=\"displacy-tag\" dy=\"2em\" fill=\"currentColor\" x=\"170\">NOUN</tspan>\n",
       "</text>\n",
       "\n",
       "<text class=\"displacy-token\" fill=\"currentColor\" text-anchor=\"middle\" y=\"227.0\">\n",
       "    <tspan class=\"displacy-word\" fill=\"currentColor\" x=\"290\">de</tspan>\n",
       "    <tspan class=\"displacy-tag\" dy=\"2em\" fill=\"currentColor\" x=\"290\">ADP</tspan>\n",
       "</text>\n",
       "\n",
       "<text class=\"displacy-token\" fill=\"currentColor\" text-anchor=\"middle\" y=\"227.0\">\n",
       "    <tspan class=\"displacy-word\" fill=\"currentColor\" x=\"410\">Juan</tspan>\n",
       "    <tspan class=\"displacy-tag\" dy=\"2em\" fill=\"currentColor\" x=\"410\">PROPN</tspan>\n",
       "</text>\n",
       "\n",
       "<text class=\"displacy-token\" fill=\"currentColor\" text-anchor=\"middle\" y=\"227.0\">\n",
       "    <tspan class=\"displacy-word\" fill=\"currentColor\" x=\"530\">se</tspan>\n",
       "    <tspan class=\"displacy-tag\" dy=\"2em\" fill=\"currentColor\" x=\"530\">PRON</tspan>\n",
       "</text>\n",
       "\n",
       "<text class=\"displacy-token\" fill=\"currentColor\" text-anchor=\"middle\" y=\"227.0\">\n",
       "    <tspan class=\"displacy-word\" fill=\"currentColor\" x=\"650\">comió</tspan>\n",
       "    <tspan class=\"displacy-tag\" dy=\"2em\" fill=\"currentColor\" x=\"650\">VERB</tspan>\n",
       "</text>\n",
       "\n",
       "<text class=\"displacy-token\" fill=\"currentColor\" text-anchor=\"middle\" y=\"227.0\">\n",
       "    <tspan class=\"displacy-word\" fill=\"currentColor\" x=\"770\">mi</tspan>\n",
       "    <tspan class=\"displacy-tag\" dy=\"2em\" fill=\"currentColor\" x=\"770\">DET</tspan>\n",
       "</text>\n",
       "\n",
       "<text class=\"displacy-token\" fill=\"currentColor\" text-anchor=\"middle\" y=\"227.0\">\n",
       "    <tspan class=\"displacy-word\" fill=\"currentColor\" x=\"890\">bocadillo.</tspan>\n",
       "    <tspan class=\"displacy-tag\" dy=\"2em\" fill=\"currentColor\" x=\"890\">NOUN</tspan>\n",
       "</text>\n",
       "\n",
       "<g class=\"displacy-arrow\">\n",
       "    <path class=\"displacy-arc\" id=\"arrow-01c7ce0292134716a33936973f49f8da-0-0\" stroke-width=\"2px\" d=\"M70,182.0 C70,122.0 160.0,122.0 160.0,182.0\" fill=\"none\" stroke=\"currentColor\"/>\n",
       "    <text dy=\"1.25em\" style=\"font-size: 0.8em; letter-spacing: 1px\">\n",
       "        <textPath xlink:href=\"#arrow-01c7ce0292134716a33936973f49f8da-0-0\" class=\"displacy-label\" startOffset=\"50%\" side=\"left\" fill=\"currentColor\" text-anchor=\"middle\">det</textPath>\n",
       "    </text>\n",
       "    <path class=\"displacy-arrowhead\" d=\"M70,184.0 L62,172.0 78,172.0\" fill=\"currentColor\"/>\n",
       "</g>\n",
       "\n",
       "<g class=\"displacy-arrow\">\n",
       "    <path class=\"displacy-arc\" id=\"arrow-01c7ce0292134716a33936973f49f8da-0-1\" stroke-width=\"2px\" d=\"M190,182.0 C190,2.0 650.0,2.0 650.0,182.0\" fill=\"none\" stroke=\"currentColor\"/>\n",
       "    <text dy=\"1.25em\" style=\"font-size: 0.8em; letter-spacing: 1px\">\n",
       "        <textPath xlink:href=\"#arrow-01c7ce0292134716a33936973f49f8da-0-1\" class=\"displacy-label\" startOffset=\"50%\" side=\"left\" fill=\"currentColor\" text-anchor=\"middle\">nsubj</textPath>\n",
       "    </text>\n",
       "    <path class=\"displacy-arrowhead\" d=\"M190,184.0 L182,172.0 198,172.0\" fill=\"currentColor\"/>\n",
       "</g>\n",
       "\n",
       "<g class=\"displacy-arrow\">\n",
       "    <path class=\"displacy-arc\" id=\"arrow-01c7ce0292134716a33936973f49f8da-0-2\" stroke-width=\"2px\" d=\"M310,182.0 C310,122.0 400.0,122.0 400.0,182.0\" fill=\"none\" stroke=\"currentColor\"/>\n",
       "    <text dy=\"1.25em\" style=\"font-size: 0.8em; letter-spacing: 1px\">\n",
       "        <textPath xlink:href=\"#arrow-01c7ce0292134716a33936973f49f8da-0-2\" class=\"displacy-label\" startOffset=\"50%\" side=\"left\" fill=\"currentColor\" text-anchor=\"middle\">case</textPath>\n",
       "    </text>\n",
       "    <path class=\"displacy-arrowhead\" d=\"M310,184.0 L302,172.0 318,172.0\" fill=\"currentColor\"/>\n",
       "</g>\n",
       "\n",
       "<g class=\"displacy-arrow\">\n",
       "    <path class=\"displacy-arc\" id=\"arrow-01c7ce0292134716a33936973f49f8da-0-3\" stroke-width=\"2px\" d=\"M190,182.0 C190,62.0 405.0,62.0 405.0,182.0\" fill=\"none\" stroke=\"currentColor\"/>\n",
       "    <text dy=\"1.25em\" style=\"font-size: 0.8em; letter-spacing: 1px\">\n",
       "        <textPath xlink:href=\"#arrow-01c7ce0292134716a33936973f49f8da-0-3\" class=\"displacy-label\" startOffset=\"50%\" side=\"left\" fill=\"currentColor\" text-anchor=\"middle\">nmod</textPath>\n",
       "    </text>\n",
       "    <path class=\"displacy-arrowhead\" d=\"M405.0,184.0 L413.0,172.0 397.0,172.0\" fill=\"currentColor\"/>\n",
       "</g>\n",
       "\n",
       "<g class=\"displacy-arrow\">\n",
       "    <path class=\"displacy-arc\" id=\"arrow-01c7ce0292134716a33936973f49f8da-0-4\" stroke-width=\"2px\" d=\"M550,182.0 C550,122.0 640.0,122.0 640.0,182.0\" fill=\"none\" stroke=\"currentColor\"/>\n",
       "    <text dy=\"1.25em\" style=\"font-size: 0.8em; letter-spacing: 1px\">\n",
       "        <textPath xlink:href=\"#arrow-01c7ce0292134716a33936973f49f8da-0-4\" class=\"displacy-label\" startOffset=\"50%\" side=\"left\" fill=\"currentColor\" text-anchor=\"middle\">iobj</textPath>\n",
       "    </text>\n",
       "    <path class=\"displacy-arrowhead\" d=\"M550,184.0 L542,172.0 558,172.0\" fill=\"currentColor\"/>\n",
       "</g>\n",
       "\n",
       "<g class=\"displacy-arrow\">\n",
       "    <path class=\"displacy-arc\" id=\"arrow-01c7ce0292134716a33936973f49f8da-0-5\" stroke-width=\"2px\" d=\"M790,182.0 C790,122.0 880.0,122.0 880.0,182.0\" fill=\"none\" stroke=\"currentColor\"/>\n",
       "    <text dy=\"1.25em\" style=\"font-size: 0.8em; letter-spacing: 1px\">\n",
       "        <textPath xlink:href=\"#arrow-01c7ce0292134716a33936973f49f8da-0-5\" class=\"displacy-label\" startOffset=\"50%\" side=\"left\" fill=\"currentColor\" text-anchor=\"middle\">det</textPath>\n",
       "    </text>\n",
       "    <path class=\"displacy-arrowhead\" d=\"M790,184.0 L782,172.0 798,172.0\" fill=\"currentColor\"/>\n",
       "</g>\n",
       "\n",
       "<g class=\"displacy-arrow\">\n",
       "    <path class=\"displacy-arc\" id=\"arrow-01c7ce0292134716a33936973f49f8da-0-6\" stroke-width=\"2px\" d=\"M670,182.0 C670,62.0 885.0,62.0 885.0,182.0\" fill=\"none\" stroke=\"currentColor\"/>\n",
       "    <text dy=\"1.25em\" style=\"font-size: 0.8em; letter-spacing: 1px\">\n",
       "        <textPath xlink:href=\"#arrow-01c7ce0292134716a33936973f49f8da-0-6\" class=\"displacy-label\" startOffset=\"50%\" side=\"left\" fill=\"currentColor\" text-anchor=\"middle\">obj</textPath>\n",
       "    </text>\n",
       "    <path class=\"displacy-arrowhead\" d=\"M885.0,184.0 L893.0,172.0 877.0,172.0\" fill=\"currentColor\"/>\n",
       "</g>\n",
       "</svg></span>"
      ],
      "text/plain": [
       "<IPython.core.display.HTML object>"
      ]
     },
     "metadata": {},
     "output_type": "display_data"
    }
   ],
   "source": [
    "from spacy import displacy\n",
    "\n",
    "displacy.render(doc, style='dep', jupyter=True, options={'distance':120})"
   ]
  },
  {
   "attachments": {},
   "cell_type": "markdown",
   "metadata": {},
   "source": [
    "También se pueden obtener los **sintagmas nominales** (*noun phrases*) de la oración. Cada NP tiene un sustantivo como raíz, acompañado ocasionalmente de las palabras que describen el sustantivo.  "
   ]
  },
  {
   "cell_type": "code",
   "execution_count": 74,
   "metadata": {},
   "outputs": [
    {
     "data": {
      "text/html": [
       "<div>\n",
       "<style scoped>\n",
       "    .dataframe tbody tr th:only-of-type {\n",
       "        vertical-align: middle;\n",
       "    }\n",
       "\n",
       "    .dataframe tbody tr th {\n",
       "        vertical-align: top;\n",
       "    }\n",
       "\n",
       "    .dataframe thead th {\n",
       "        text-align: right;\n",
       "    }\n",
       "</style>\n",
       "<table border=\"1\" class=\"dataframe\">\n",
       "  <thead>\n",
       "    <tr style=\"text-align: right;\">\n",
       "      <th></th>\n",
       "      <th>NP</th>\n",
       "      <th>root</th>\n",
       "      <th>Dep.</th>\n",
       "      <th>head</th>\n",
       "    </tr>\n",
       "  </thead>\n",
       "  <tbody>\n",
       "    <tr>\n",
       "      <th>0</th>\n",
       "      <td>El perro</td>\n",
       "      <td>perro</td>\n",
       "      <td>nsubj</td>\n",
       "      <td>comió</td>\n",
       "    </tr>\n",
       "    <tr>\n",
       "      <th>1</th>\n",
       "      <td>Juan</td>\n",
       "      <td>Juan</td>\n",
       "      <td>nmod</td>\n",
       "      <td>perro</td>\n",
       "    </tr>\n",
       "    <tr>\n",
       "      <th>2</th>\n",
       "      <td>mi bocadillo</td>\n",
       "      <td>bocadillo</td>\n",
       "      <td>obj</td>\n",
       "      <td>comió</td>\n",
       "    </tr>\n",
       "  </tbody>\n",
       "</table>\n",
       "</div>"
      ],
      "text/plain": [
       "             NP       root   Dep.   head\n",
       "0      El perro      perro  nsubj  comió\n",
       "1          Juan       Juan   nmod  perro\n",
       "2  mi bocadillo  bocadillo    obj  comió"
      ]
     },
     "execution_count": 74,
     "metadata": {},
     "output_type": "execute_result"
    }
   ],
   "source": [
    "chunks = map(lambda chunk: {'NP': chunk.text,\n",
    "                            'root': chunk.root.text,\n",
    "                            'Dep.': chunk.root.dep_,\n",
    "                            'head': chunk.root.head.text},\n",
    "             doc.noun_chunks)\n",
    "\n",
    "pd.DataFrame(chunks)"
   ]
  },
  {
   "attachments": {},
   "cell_type": "markdown",
   "metadata": {},
   "source": [
    "# Búsqueda de patrones de token\n",
    "Spacy tiene una clase `Matcher` que permite buscar tokens con un patrón definido en los objetos `Doc`.  \n",
    "Se puede buscar por el texto del token o por los atributos del token.  \n",
    "Ref: https://spacy.io/usage/rule-based-matching"
   ]
  },
  {
   "cell_type": "code",
   "execution_count": 75,
   "metadata": {},
   "outputs": [],
   "source": [
    "from spacy.matcher import Matcher\n",
    "\n",
    "#inicializamos sobre el vocabulario\n",
    "matcher = Matcher(nlp.vocab)"
   ]
  },
  {
   "cell_type": "code",
   "execution_count": 76,
   "metadata": {},
   "outputs": [
    {
     "name": "stdout",
     "output_type": "stream",
     "text": [
      "iPhone X\n"
     ]
    }
   ],
   "source": [
    "#definimos un patrón de texto a buscar\n",
    "patron = [{\"TEXT\": \"iPhone\"}, {\"TEXT\": \"X\"}] #Patrón: texto 'iPhone' seguido de texto 'X'\n",
    "matcher.add(\"iphone_x\", [patron])\n",
    "\n",
    "#procesamos un documento con el patrón\n",
    "doc = nlp(\"El iPhone X salió después del iPhone 8, pero nunca sacaron el iPhone 9\")\n",
    "\n",
    "#llamamos al matcher\n",
    "matches = matcher(doc)\n",
    "\n",
    "#iteramos sobre los resultados\n",
    "for match_id, start, end in matches:\n",
    "    matched_span = doc[start:end]\n",
    "    print(matched_span.text)"
   ]
  },
  {
   "cell_type": "code",
   "execution_count": 77,
   "metadata": {},
   "outputs": [
    {
     "data": {
      "text/plain": [
       "[(1738708750870670527, 1, 3)]"
      ]
     },
     "execution_count": 77,
     "metadata": {},
     "output_type": "execute_result"
    }
   ],
   "source": [
    "matches #lista de 'matches'"
   ]
  },
  {
   "cell_type": "code",
   "execution_count": 78,
   "metadata": {},
   "outputs": [
    {
     "data": {
      "text/plain": [
       "'iphone_x'"
      ]
     },
     "execution_count": 78,
     "metadata": {},
     "output_type": "execute_result"
    }
   ],
   "source": [
    "nlp.vocab.strings[1738708750870670527]"
   ]
  },
  {
   "cell_type": "code",
   "execution_count": 79,
   "metadata": {},
   "outputs": [
    {
     "data": {
      "text/plain": [
       "iPhone X"
      ]
     },
     "execution_count": 79,
     "metadata": {},
     "output_type": "execute_result"
    }
   ],
   "source": [
    "doc[1:3]"
   ]
  },
  {
   "attachments": {},
   "cell_type": "markdown",
   "metadata": {},
   "source": [
    "Podemos buscar por atributos del token:"
   ]
  },
  {
   "cell_type": "code",
   "execution_count": 80,
   "metadata": {},
   "outputs": [
    {
     "name": "stdout",
     "output_type": "stream",
     "text": [
      "iphone_x: iPhone X\n",
      "iphone_NN: iPhone 8\n",
      "iphone_NN: iPhone 9\n"
     ]
    }
   ],
   "source": [
    "patron = [{\"TEXT\": \"iPhone\"}, {\"IS_DIGIT\": True}] #Patrón: texto 'iPhone' seguido token con la atributo 'IS_DIGIT' a True\n",
    "matcher.add(\"iphone_NN\", [patron])\n",
    "#llamamos al matcher\n",
    "matches = matcher(doc)\n",
    "\n",
    "#iteramos sobre los resultados\n",
    "for match_id, start, end in matches:\n",
    "    matched_span = doc[start:end] #span del match en el documento\n",
    "    string_id = nlp.vocab.strings[match_id] #identificador del match\n",
    "    print(f\"{string_id}: {matched_span.text}\")"
   ]
  },
  {
   "cell_type": "code",
   "execution_count": 81,
   "metadata": {},
   "outputs": [
    {
     "name": "stdout",
     "output_type": "stream",
     "text": [
      "gustar_nombre: gusta el baile\n",
      "gustar_nombre: gusta María\n",
      "gustar_nombre: gusta el iPhone\n",
      "iphone_x: iPhone X\n"
     ]
    }
   ],
   "source": [
    "doc = nlp(\"A mí me gusta el baile y a Pedro le gustaba tocar la trompeta pero no le gusta María y el gusta el iPhone X\")\n",
    "\n",
    "patron = [{\"LEMMA\": \"gustar\"}, {\"POS\": \"DET\", \"OP\": \"?\"}, {\"POS\": {\"REGEX\": \"NOUN|PROPN\"}}]\n",
    "matcher.add(\"gustar_nombre\", [patron])\n",
    "#llamamos al matcher\n",
    "matches = matcher(doc)\n",
    "\n",
    "#iteramos sobre el resultado\n",
    "for match_id, start, end in matches:\n",
    "    matched_span = doc[start:end]\n",
    "    string_id = nlp.vocab.strings[match_id]\n",
    "    print(f\"{string_id}: {matched_span.text}\")"
   ]
  },
  {
   "attachments": {},
   "cell_type": "markdown",
   "metadata": {},
   "source": [
    "### Ejercicio 3\n",
    "Crea un nuevo patrón para el lema \"gustar\" seguido de un verbo"
   ]
  },
  {
   "cell_type": "code",
   "execution_count": 82,
   "metadata": {},
   "outputs": [
    {
     "name": "stdout",
     "output_type": "stream",
     "text": [
      "gustar_nombre: gusta el baile\n",
      "gustar_nombre: gustaba tocar\n",
      "gustar_nombre: gusta María\n",
      "gustar_nombre: gusta el iPhone\n",
      "iphone_x: iPhone X\n"
     ]
    }
   ],
   "source": [
    "patron = [{\"LEMMA\": \"gustar\"}, {\"POS\": \"VERB\"}]\n",
    "matcher.add(\"gustar_nombre\", [patron])\n",
    "#llamamos al matcher\n",
    "matches = matcher(doc)\n",
    "\n",
    "#iteramos sobre el resultado\n",
    "for match_id, start, end in matches:\n",
    "    matched_span = doc[start:end]\n",
    "    string_id = nlp.vocab.strings[match_id]\n",
    "    print(f\"{string_id}: {matched_span.text}\")"
   ]
  },
  {
   "attachments": {},
   "cell_type": "markdown",
   "metadata": {},
   "source": [
    "### Ejercicio 4\n",
    "Busca todas las secuencias de texto formadas por nombre seguido de al menos un adjetivo en el texto siguiente."
   ]
  },
  {
   "cell_type": "code",
   "execution_count": 85,
   "metadata": {},
   "outputs": [],
   "source": [
    "texto = \"En el agua muerta, de una brillantez de estaño, permanecía inmóvil la barca-correo: \\\n",
    "un gran ataúd cargado de personas y paquetes, con la borda casi a flor de agua. La vela triangular, \\\n",
    "con remiendos obscuros, estaba rematada por un guiñapo incoloro que en otros tiempos había sido una \\\n",
    "bandera española destartalada y delataba el carácter oficial de la vieja embarcación.\"\n",
    "\n",
    "matcher = Matcher(nlp.vocab)\n",
    "\n",
    "patron = [{\"POS\": {\"REGEX\": \"NOUN|PROPN\"}}, {\"POS\": \"ADJ\", \"OP\": \"+\"}]\n",
    "matcher.add(\"noun_adjs\", [patron])\n",
    "#llamamos al matcher\n",
    "matches = matcher(doc)\n",
    "\n",
    "#iteramos sobre el resultado\n",
    "for match_id, start, end in matches:\n",
    "    matched_span = doc[start:end]\n",
    "    string_id = nlp.vocab.strings[match_id]\n",
    "    print(f\"{string_id}: {matched_span.text}\")"
   ]
  },
  {
   "cell_type": "markdown",
   "metadata": {},
   "source": [
    "# búsqueda de patrones de doc\n",
    "También existe una clase para buscar secuencias de tokens (objetos tipo `doc`) dentro de un texto procesado. Se usa la clase `PhraseMatcher`, como explica https://spacy.io/usage/rule-based-matching#phrasematcher.  \n",
    "Es útil para buscar un listado de palabras o frases en un texto.  "
   ]
  },
  {
   "cell_type": "code",
   "execution_count": null,
   "metadata": {},
   "outputs": [],
   "source": [
    "from spacy.matcher import PhraseMatcher\n",
    "\n",
    "matcher = PhraseMatcher(nlp.vocab)\n",
    "paises = [\"Alemania\", \"Países Bajos\", \"Estados Unidos\"]\n",
    "#definimos patrones como objetos 'doc'\n",
    "patterns = [nlp.make_doc(text) for text in paises] #sólo tokenizamos\n",
    "matcher.add(\"Países\", patterns)\n",
    "\n",
    "doc = nlp(\"El presidente de Estados Unidos, Barack Obama, \"\n",
    "          \"visitó al caciller de Alemania en Berlín\")\n",
    "matches = matcher(doc)\n",
    "for match_id, start, end in matches:\n",
    "    span = doc[start:end]\n",
    "    print(span.text)\n"
   ]
  },
  {
   "cell_type": "code",
   "execution_count": null,
   "metadata": {},
   "outputs": [],
   "source": [
    "matcher = PhraseMatcher(nlp.vocab, attr=\"LEMMA\")\n",
    "colores = [\"azul\", \"amarillo\", \"rojo\", \"verde\"]\n",
    "#definimos patrones como objetos 'doc'\n",
    "patterns = [nlp(text) for text in colores] #hay que ejecutar todo el pipeline\n",
    "matcher.add(\"Colores\", patterns)\n",
    "\n",
    "doc = nlp(\"Me gusta el azul pero los amarillos me parecen todos feos\")\n",
    "matches = matcher(doc)\n",
    "for match_id, start, end in matches:\n",
    "    span = doc[start:end]\n",
    "    print(span.text)"
   ]
  },
  {
   "cell_type": "code",
   "execution_count": null,
   "metadata": {},
   "outputs": [],
   "source": []
  }
 ],
 "metadata": {
  "kernelspec": {
   "display_name": "Python 3 (ipykernel)",
   "language": "python",
   "name": "python3"
  },
  "language_info": {
   "codemirror_mode": {
    "name": "ipython",
    "version": 3
   },
   "file_extension": ".py",
   "mimetype": "text/x-python",
   "name": "python",
   "nbconvert_exporter": "python",
   "pygments_lexer": "ipython3",
   "version": "3.10.13"
  }
 },
 "nbformat": 4,
 "nbformat_minor": 4
}
