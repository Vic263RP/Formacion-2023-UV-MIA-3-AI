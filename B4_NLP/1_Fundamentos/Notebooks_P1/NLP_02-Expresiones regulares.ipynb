{
 "cells": [
  {
   "attachments": {},
   "cell_type": "markdown",
   "id": "seeing-kelly",
   "metadata": {},
   "source": [
    "# Expresiones regulares en Python\n",
    "El módulo `re` tiene las siguientes funciones de Regex:\n",
    "- `findall`: Returns a list containing all matches  \n",
    "- `search`: Returns a Match object if there is a match anywhere in the string  \n",
    "- `match`: Returns a Match object if there is a match at the start of the string  \n",
    "- `split`: Returns a list where the string has been split at each match  \n",
    "- `sub`: Replaces one or many matches with a string  \n",
    "- `finditer`: Return an iterator yielding all Match objects"
   ]
  },
  {
   "cell_type": "code",
   "execution_count": 1,
   "id": "wound-preliminary",
   "metadata": {},
   "outputs": [],
   "source": [
    "import re"
   ]
  },
  {
   "attachments": {},
   "cell_type": "markdown",
   "id": "thousand-chapel",
   "metadata": {},
   "source": [
    "Las expresiones regulares son patrones formados por:  \n",
    "- texto  \n",
    "- Metacaracteres  \n",
    "- Secuencias especiales  \n",
    "- Sets  "
   ]
  },
  {
   "cell_type": "code",
   "execution_count": 2,
   "id": "minor-prophet",
   "metadata": {},
   "outputs": [],
   "source": [
    "texto = 'El Sol aparece por la mañana entre las montañas y los ríos'"
   ]
  },
  {
   "attachments": {},
   "cell_type": "markdown",
   "id": "imposed-keyboard",
   "metadata": {},
   "source": [
    "### Texto"
   ]
  },
  {
   "cell_type": "code",
   "execution_count": 3,
   "id": "legitimate-boutique",
   "metadata": {},
   "outputs": [
    {
     "data": {
      "text/plain": [
       "<re.Match object; span=(23, 26), match='aña'>"
      ]
     },
     "execution_count": 3,
     "metadata": {},
     "output_type": "execute_result"
    }
   ],
   "source": [
    "re.search(\"aña\", texto)"
   ]
  },
  {
   "cell_type": "code",
   "execution_count": 4,
   "id": "dressed-tourism",
   "metadata": {},
   "outputs": [
    {
     "data": {
      "text/plain": [
       "'aña'"
      ]
     },
     "execution_count": 4,
     "metadata": {},
     "output_type": "execute_result"
    }
   ],
   "source": [
    "#indexamos del inicio al final del span\n",
    "texto[23:26]"
   ]
  },
  {
   "attachments": {},
   "cell_type": "markdown",
   "id": "explicit-channels",
   "metadata": {},
   "source": [
    "Los objetos de tipo `re.Match` tienen distintos atributos, pero el texto encontrado por el patrón está en el atributo `group(0)` o elemento [0]"
   ]
  },
  {
   "cell_type": "code",
   "execution_count": 5,
   "id": "angry-church",
   "metadata": {},
   "outputs": [
    {
     "data": {
      "text/plain": [
       "'AÑA'"
      ]
     },
     "execution_count": 5,
     "metadata": {},
     "output_type": "execute_result"
    }
   ],
   "source": [
    "m = re.search(\"aña\", texto)\n",
    "m[0].upper() #m[0] equivale a  re.search(\"aña\", texto).group(0)"
   ]
  },
  {
   "cell_type": "code",
   "execution_count": 6,
   "id": "30055162",
   "metadata": {},
   "outputs": [
    {
     "data": {
      "text/plain": [
       "['end',\n",
       " 'endpos',\n",
       " 'expand',\n",
       " 'group',\n",
       " 'groupdict',\n",
       " 'groups',\n",
       " 'lastgroup',\n",
       " 'lastindex',\n",
       " 'pos',\n",
       " 're',\n",
       " 'regs',\n",
       " 'span',\n",
       " 'start',\n",
       " 'string']"
      ]
     },
     "execution_count": 6,
     "metadata": {},
     "output_type": "execute_result"
    }
   ],
   "source": [
    "[a for a in dir(m) if not a.startswith('__')]"
   ]
  },
  {
   "cell_type": "code",
   "execution_count": 7,
   "id": "surprised-letter",
   "metadata": {},
   "outputs": [
    {
     "data": {
      "text/plain": [
       "'aña'"
      ]
     },
     "execution_count": 7,
     "metadata": {},
     "output_type": "execute_result"
    }
   ],
   "source": [
    "texto[m.start():m.end()]"
   ]
  },
  {
   "cell_type": "code",
   "execution_count": 8,
   "id": "2214964b",
   "metadata": {},
   "outputs": [
    {
     "data": {
      "text/plain": [
       "'aña'"
      ]
     },
     "execution_count": 8,
     "metadata": {},
     "output_type": "execute_result"
    }
   ],
   "source": [
    "m.group()"
   ]
  },
  {
   "attachments": {},
   "cell_type": "markdown",
   "id": "acknowledged-tours",
   "metadata": {},
   "source": [
    "Los objetos `re.match` también se pueden usar como valor booleano (`True` si el patrón regular existe en la cadena de texto)."
   ]
  },
  {
   "cell_type": "code",
   "execution_count": 9,
   "id": "painted-powell",
   "metadata": {},
   "outputs": [
    {
     "name": "stdout",
     "output_type": "stream",
     "text": [
      "False\n"
     ]
    }
   ],
   "source": [
    "if re.search(\"caña\", texto):\n",
    "    print(\"True\")\n",
    "else:\n",
    "    print(\"False\")"
   ]
  },
  {
   "attachments": {},
   "cell_type": "markdown",
   "id": "strategic-isaac",
   "metadata": {},
   "source": [
    "Para buscar todas las apariciones del patrón en el texto (sólo el texto) usamos `re.findall()`"
   ]
  },
  {
   "cell_type": "code",
   "execution_count": 10,
   "id": "geological-retrieval",
   "metadata": {},
   "outputs": [
    {
     "data": {
      "text/plain": [
       "['aña', 'aña']"
      ]
     },
     "execution_count": 10,
     "metadata": {},
     "output_type": "execute_result"
    }
   ],
   "source": [
    "re.findall(\"aña\", texto)"
   ]
  },
  {
   "attachments": {},
   "cell_type": "markdown",
   "id": "bridal-warrant",
   "metadata": {},
   "source": [
    "Para obtener un objeto `Match` por cada patrón encontrado hay que usar la función `re.finditer()`"
   ]
  },
  {
   "cell_type": "code",
   "execution_count": 11,
   "id": "productive-motivation",
   "metadata": {},
   "outputs": [
    {
     "data": {
      "text/plain": [
       "<callable_iterator at 0x7f35fc17b850>"
      ]
     },
     "execution_count": 11,
     "metadata": {},
     "output_type": "execute_result"
    }
   ],
   "source": [
    "patrones = re.finditer(\"aña\", texto)\n",
    "patrones"
   ]
  },
  {
   "cell_type": "code",
   "execution_count": 12,
   "id": "german-ranch",
   "metadata": {},
   "outputs": [
    {
     "name": "stdout",
     "output_type": "stream",
     "text": [
      "<re.Match object; span=(23, 26), match='aña'>\n",
      "<re.Match object; span=(43, 46), match='aña'>\n"
     ]
    }
   ],
   "source": [
    "for p in patrones:\n",
    "    print(p)"
   ]
  },
  {
   "cell_type": "markdown",
   "id": "fce55f7e",
   "metadata": {},
   "source": [
    "La función `match` sólo busca al inicio del *string*."
   ]
  },
  {
   "cell_type": "code",
   "execution_count": 13,
   "id": "071db8e6",
   "metadata": {},
   "outputs": [],
   "source": [
    "re.match(\"aña\", texto)"
   ]
  },
  {
   "cell_type": "code",
   "execution_count": 14,
   "id": "7a294aac",
   "metadata": {},
   "outputs": [
    {
     "data": {
      "text/plain": [
       "<re.Match object; span=(0, 2), match='El'>"
      ]
     },
     "execution_count": 14,
     "metadata": {},
     "output_type": "execute_result"
    }
   ],
   "source": [
    "re.match(\"El\", texto)"
   ]
  },
  {
   "attachments": {},
   "cell_type": "markdown",
   "id": "treated-resort",
   "metadata": {},
   "source": [
    "#### Metacaracteres"
   ]
  },
  {
   "cell_type": "code",
   "execution_count": 15,
   "id": "friendly-wheat",
   "metadata": {},
   "outputs": [
    {
     "data": {
      "text/plain": [
       "'El Sol aparece por la mañana entre las montañas y los ríos'"
      ]
     },
     "execution_count": 15,
     "metadata": {},
     "output_type": "execute_result"
    }
   ],
   "source": [
    "texto"
   ]
  },
  {
   "cell_type": "code",
   "execution_count": 16,
   "id": "technical-variance",
   "metadata": {},
   "outputs": [
    {
     "data": {
      "text/plain": [
       "['las', 'los']"
      ]
     },
     "execution_count": 16,
     "metadata": {},
     "output_type": "execute_result"
    }
   ],
   "source": [
    "re.findall(\"l.s\", texto)"
   ]
  },
  {
   "cell_type": "markdown",
   "id": "44adf5d4",
   "metadata": {},
   "source": [
    "Cuantificadores"
   ]
  },
  {
   "cell_type": "code",
   "execution_count": 17,
   "id": "helpful-qualification",
   "metadata": {},
   "outputs": [
    {
     "data": {
      "text/plain": [
       "['la', 'las']"
      ]
     },
     "execution_count": 17,
     "metadata": {},
     "output_type": "execute_result"
    }
   ],
   "source": [
    "re.findall(\"las?\", texto)"
   ]
  },
  {
   "cell_type": "code",
   "execution_count": 18,
   "id": "basic-mechanics",
   "metadata": {},
   "outputs": [
    {
     "data": {
      "text/plain": [
       "['la', 'las', 'lass']"
      ]
     },
     "execution_count": 18,
     "metadata": {},
     "output_type": "execute_result"
    }
   ],
   "source": [
    "re.findall(\"las*\", 'la las lass')"
   ]
  },
  {
   "cell_type": "code",
   "execution_count": 19,
   "id": "1be8e50b",
   "metadata": {},
   "outputs": [
    {
     "data": {
      "text/plain": [
       "['la', 'las', 'las']"
      ]
     },
     "execution_count": 19,
     "metadata": {},
     "output_type": "execute_result"
    }
   ],
   "source": [
    "re.findall(\"las?\", 'la las lass')"
   ]
  },
  {
   "cell_type": "code",
   "execution_count": 20,
   "id": "1e5bfa58",
   "metadata": {},
   "outputs": [
    {
     "data": {
      "text/plain": [
       "['las', 'lass']"
      ]
     },
     "execution_count": 20,
     "metadata": {},
     "output_type": "execute_result"
    }
   ],
   "source": [
    "re.findall(\"las+\", 'la las lass')"
   ]
  },
  {
   "cell_type": "markdown",
   "id": "1353c136",
   "metadata": {},
   "source": [
    "Por defecto la búsqueda de `regex` es *greedy*"
   ]
  },
  {
   "cell_type": "code",
   "execution_count": 21,
   "id": "716fe15e",
   "metadata": {},
   "outputs": [
    {
     "data": {
      "text/plain": [
       "<re.Match object; span=(0, 15), match='<h1>Título</h1>'>"
      ]
     },
     "execution_count": 21,
     "metadata": {},
     "output_type": "execute_result"
    }
   ],
   "source": [
    "re.search(\"<.*>\", \"<h1>Título</h1>\")"
   ]
  },
  {
   "cell_type": "code",
   "execution_count": 22,
   "id": "1dae434d",
   "metadata": {},
   "outputs": [
    {
     "data": {
      "text/plain": [
       "<re.Match object; span=(0, 4), match='<h1>'>"
      ]
     },
     "execution_count": 22,
     "metadata": {},
     "output_type": "execute_result"
    }
   ],
   "source": [
    "re.search(\"<.*?>\", \"<h1>Título</h1>\") #búsqueda no greedy"
   ]
  },
  {
   "attachments": {},
   "cell_type": "markdown",
   "id": "worldwide-limit",
   "metadata": {},
   "source": [
    "### Secuencias especiales"
   ]
  },
  {
   "cell_type": "code",
   "execution_count": 23,
   "id": "rational-tomorrow",
   "metadata": {},
   "outputs": [],
   "source": [
    "texto2 = \"La caña es débil\""
   ]
  },
  {
   "attachments": {},
   "cell_type": "markdown",
   "id": "divided-admission",
   "metadata": {},
   "source": [
    "`\\w`: caracteres alfanuméricos (unicode)"
   ]
  },
  {
   "cell_type": "code",
   "execution_count": 24,
   "id": "detailed-identity",
   "metadata": {},
   "outputs": [
    {
     "data": {
      "text/plain": [
       "['L', 'a', 'c', 'a', 'ñ', 'a', 'e', 's', 'd', 'é', 'b', 'i', 'l']"
      ]
     },
     "execution_count": 24,
     "metadata": {},
     "output_type": "execute_result"
    }
   ],
   "source": [
    "re.findall(\"\\w\", texto2)"
   ]
  },
  {
   "cell_type": "code",
   "execution_count": 25,
   "id": "interpreted-fluid",
   "metadata": {},
   "outputs": [
    {
     "data": {
      "text/plain": [
       "['La', 'caña', 'es', 'débil']"
      ]
     },
     "execution_count": 25,
     "metadata": {},
     "output_type": "execute_result"
    }
   ],
   "source": [
    "re.findall(\"\\w+\", texto2)"
   ]
  },
  {
   "cell_type": "code",
   "execution_count": 26,
   "id": "transsexual-digest",
   "metadata": {},
   "outputs": [
    {
     "data": {
      "text/plain": [
       "['La', 'ca', 'a', 'es', 'd', 'bil']"
      ]
     },
     "execution_count": 26,
     "metadata": {},
     "output_type": "execute_result"
    }
   ],
   "source": [
    "#cuidado porque el rango de caracteres A-Z no incluye caracteres unicode\n",
    "re.findall(\"[A-Za-z0-9_]+\", texto2)"
   ]
  },
  {
   "cell_type": "code",
   "execution_count": 27,
   "id": "first-major",
   "metadata": {},
   "outputs": [
    {
     "data": {
      "text/plain": [
       "['mañana', 'adiøs18']"
      ]
     },
     "execution_count": 27,
     "metadata": {},
     "output_type": "execute_result"
    }
   ],
   "source": [
    "re.findall(\"\\w+\", \"mañana, adiøs18\")"
   ]
  },
  {
   "attachments": {},
   "cell_type": "markdown",
   "id": "supreme-alexander",
   "metadata": {},
   "source": [
    "`\\d`: dígitos"
   ]
  },
  {
   "cell_type": "code",
   "execution_count": 28,
   "id": "purple-affect",
   "metadata": {},
   "outputs": [],
   "source": [
    "texto2 = \"Hay 35 alumnos en 1º, pero sólo 7 en 4º\""
   ]
  },
  {
   "cell_type": "code",
   "execution_count": 29,
   "id": "upset-thanks",
   "metadata": {},
   "outputs": [
    {
     "data": {
      "text/plain": [
       "['35', '1', '7', '4']"
      ]
     },
     "execution_count": 29,
     "metadata": {},
     "output_type": "execute_result"
    }
   ],
   "source": [
    "re.findall(\"\\d+\", texto2)"
   ]
  },
  {
   "cell_type": "code",
   "execution_count": 30,
   "id": "painted-powder",
   "metadata": {},
   "outputs": [
    {
     "data": {
      "text/plain": [
       "['Hay', '35', 'alumnos', 'en', '1º', 'pero', 'sólo', '7', 'en', '4º']"
      ]
     },
     "execution_count": 30,
     "metadata": {},
     "output_type": "execute_result"
    }
   ],
   "source": [
    "re.findall(\"\\w+\", texto2)"
   ]
  },
  {
   "attachments": {},
   "cell_type": "markdown",
   "id": "straight-synthesis",
   "metadata": {},
   "source": [
    "`\\b`: inicio o fin de palabra"
   ]
  },
  {
   "cell_type": "code",
   "execution_count": 31,
   "id": "renewable-volume",
   "metadata": {},
   "outputs": [],
   "source": [
    "texto = \"la blanca lavandería\""
   ]
  },
  {
   "cell_type": "code",
   "execution_count": 32,
   "id": "consecutive-highway",
   "metadata": {},
   "outputs": [
    {
     "data": {
      "text/plain": [
       "['la', 'lavandería']"
      ]
     },
     "execution_count": 32,
     "metadata": {},
     "output_type": "execute_result"
    }
   ],
   "source": [
    "re.findall(r\"\\bla\\w*\", texto) #palabras que comienzan por 'la'"
   ]
  },
  {
   "cell_type": "code",
   "execution_count": 33,
   "id": "laden-helen",
   "metadata": {},
   "outputs": [
    {
     "data": {
      "text/plain": [
       "['la', 'lanca', 'lavandería']"
      ]
     },
     "execution_count": 33,
     "metadata": {},
     "output_type": "execute_result"
    }
   ],
   "source": [
    "#por contra\n",
    "re.findall(r\"la\\w*\", texto) #palabras que contienen 'la'"
   ]
  },
  {
   "cell_type": "code",
   "execution_count": 34,
   "id": "ultimate-banks",
   "metadata": {},
   "outputs": [
    {
     "data": {
      "text/plain": [
       "['los', 'ríos']"
      ]
     },
     "execution_count": 34,
     "metadata": {},
     "output_type": "execute_result"
    }
   ],
   "source": [
    "re.findall(r\"\\w*os\\b\", \"los ríos y otras oscuras formaciones geológicas\") #palabras que terminan en 'os'"
   ]
  },
  {
   "cell_type": "code",
   "execution_count": 35,
   "id": "passive-perfume",
   "metadata": {},
   "outputs": [
    {
     "data": {
      "text/plain": [
       "['los', 'ríos', 'os']"
      ]
     },
     "execution_count": 35,
     "metadata": {},
     "output_type": "execute_result"
    }
   ],
   "source": [
    "#por contra\n",
    "re.findall(r\"\\w*os\", \"los ríos y otras oscuras formaciones geológicas\")"
   ]
  },
  {
   "attachments": {},
   "cell_type": "markdown",
   "id": "exposed-deputy",
   "metadata": {},
   "source": [
    "### Sets"
   ]
  },
  {
   "cell_type": "code",
   "execution_count": 36,
   "id": "placed-premiere",
   "metadata": {},
   "outputs": [],
   "source": [
    "texto = 'los soles y las lisas cantan loas'"
   ]
  },
  {
   "cell_type": "code",
   "execution_count": 37,
   "id": "bored-springfield",
   "metadata": {},
   "outputs": [
    {
     "data": {
      "text/plain": [
       "['los', 'les', 'las', 'lis']"
      ]
     },
     "execution_count": 37,
     "metadata": {},
     "output_type": "execute_result"
    }
   ],
   "source": [
    "re.findall(\"l\\ws\", texto)"
   ]
  },
  {
   "cell_type": "code",
   "execution_count": 38,
   "id": "friendly-patient",
   "metadata": {},
   "outputs": [
    {
     "data": {
      "text/plain": [
       "['los', 'las']"
      ]
     },
     "execution_count": 38,
     "metadata": {},
     "output_type": "execute_result"
    }
   ],
   "source": [
    "re.findall(\"l[oa]s\", texto)"
   ]
  },
  {
   "cell_type": "code",
   "execution_count": 39,
   "id": "03e07992",
   "metadata": {},
   "outputs": [
    {
     "data": {
      "text/plain": [
       "['los', 'las', 'loas']"
      ]
     },
     "execution_count": 39,
     "metadata": {},
     "output_type": "execute_result"
    }
   ],
   "source": [
    "re.findall(\"l[oa]+s\", texto)"
   ]
  },
  {
   "attachments": {},
   "cell_type": "markdown",
   "id": "seven-ensemble",
   "metadata": {},
   "source": [
    "### cuantificadores numéricos"
   ]
  },
  {
   "cell_type": "code",
   "execution_count": 40,
   "id": "occasional-purple",
   "metadata": {},
   "outputs": [],
   "source": [
    "texto = 'El Sol aparece por la mañana entre las montañas y los ríos'"
   ]
  },
  {
   "cell_type": "code",
   "execution_count": 41,
   "id": "processed-house",
   "metadata": {},
   "outputs": [
    {
     "data": {
      "text/plain": [
       "['apare', 'mañan', 'entre', 'monta', 'ríos']"
      ]
     },
     "execution_count": 41,
     "metadata": {},
     "output_type": "execute_result"
    }
   ],
   "source": [
    "re.findall(\"\\w{4,5}\", texto) #palabras de 4 o más caracteres"
   ]
  },
  {
   "cell_type": "code",
   "execution_count": 42,
   "id": "transsexual-incident",
   "metadata": {},
   "outputs": [
    {
     "data": {
      "text/plain": [
       "['El', 'Sol', 'por', 'la', 'las', 'los', 'ríos']"
      ]
     },
     "execution_count": 42,
     "metadata": {},
     "output_type": "execute_result"
    }
   ],
   "source": [
    "re.findall(r\"\\b\\w{2,4}\\b\", texto) #palabras dentre 2 y 4 caracteres"
   ]
  },
  {
   "attachments": {},
   "cell_type": "markdown",
   "id": "bearing-speaking",
   "metadata": {},
   "source": [
    "### Ejercicio\n",
    "Detecta palabras que empiezan por `m` con una longitud entre 3 y 5 caracteres en el siguiente texto"
   ]
  },
  {
   "cell_type": "code",
   "execution_count": 43,
   "id": "classical-range",
   "metadata": {},
   "outputs": [
    {
     "data": {
      "text/plain": [
       "['más', 'menos', 'maner', 'mismo']"
      ]
     },
     "execution_count": 43,
     "metadata": {},
     "output_type": "execute_result"
    }
   ],
   "source": [
    "texto = 'más o menos me da igual, de manera que tú mismo'\n",
    "\n",
    "re.findall(r'\\bm\\w{2,4}', texto)\n"
   ]
  },
  {
   "attachments": {},
   "cell_type": "markdown",
   "id": "included-thanksgiving",
   "metadata": {},
   "source": [
    "### Captura de grupos\n",
    "Un grupo es una parte del patrón RegEx que queremos obtener (capturar) dentro de una patrón RegEx más amplio"
   ]
  },
  {
   "cell_type": "code",
   "execution_count": 44,
   "id": "reserved-violation",
   "metadata": {},
   "outputs": [],
   "source": [
    "texto = 'Hay 35 alumnos en 1º pero sólo 7 en 4º'"
   ]
  },
  {
   "cell_type": "code",
   "execution_count": 45,
   "id": "suffering-rugby",
   "metadata": {},
   "outputs": [
    {
     "data": {
      "text/plain": [
       "['1', '4']"
      ]
     },
     "execution_count": 45,
     "metadata": {},
     "output_type": "execute_result"
    }
   ],
   "source": [
    "re.findall(r\"(\\d+)º\", texto) #capturamos 1 dígito sólo si va seguido de 'º'"
   ]
  },
  {
   "cell_type": "code",
   "execution_count": 46,
   "id": "removed-services",
   "metadata": {},
   "outputs": [
    {
     "data": {
      "text/plain": [
       "[('1', 'A'), ('4', 'B')]"
      ]
     },
     "execution_count": 46,
     "metadata": {},
     "output_type": "execute_result"
    }
   ],
   "source": [
    "#Si hay varios grupos, findall devuelve una tupla\n",
    "texto = 'Hay 35 alumnos en 1A pero sólo 7 en 4B'\n",
    "re.findall(r\"(\\d)([A-Z])\", texto) #capturamos 1 dígito sólo si va seguido de una letra mayúscula"
   ]
  },
  {
   "cell_type": "code",
   "execution_count": 47,
   "id": "planned-college",
   "metadata": {},
   "outputs": [
    {
     "data": {
      "text/plain": [
       "['2021-3-21', '2020-12-1', '2019-11-25']"
      ]
     },
     "execution_count": 47,
     "metadata": {},
     "output_type": "execute_result"
    }
   ],
   "source": [
    "#obtener una fecha con patrón yyyy-mm-dd\n",
    "fechas = \"2021-3-21, 2020-12-1, 2019-11-25, 2018-11\"\n",
    "re.findall(\"\\d{4}-\\d{1,2}-\\d{1,2}\", fechas)"
   ]
  },
  {
   "cell_type": "code",
   "execution_count": 48,
   "id": "lightweight-camping",
   "metadata": {},
   "outputs": [
    {
     "data": {
      "text/plain": [
       "['3', '12', '11']"
      ]
     },
     "execution_count": 48,
     "metadata": {},
     "output_type": "execute_result"
    }
   ],
   "source": [
    "#obtener sólo el mes en un patrón yyyy-mm-dd\n",
    "re.findall(\"\\d{4}-(\\d{1,2})-\\d{1,2}\", fechas)"
   ]
  },
  {
   "attachments": {},
   "cell_type": "markdown",
   "id": "coastal-canal",
   "metadata": {},
   "source": [
    "Si queremos usar los paréntesis para aplicar un metacaracter o un cuantificador a un patrón en lugar de un sólo carácter, usamos un *non-capturing group* mediante la sintaxis expecial `(?:...)`"
   ]
  },
  {
   "cell_type": "code",
   "execution_count": 49,
   "id": "b48da6fd",
   "metadata": {},
   "outputs": [
    {
     "data": {
      "text/plain": [
       "['1º', '1er', '2ª']"
      ]
     },
     "execution_count": 49,
     "metadata": {},
     "output_type": "execute_result"
    }
   ],
   "source": [
    "#detecta todos los ordinales\n",
    "re.findall(r\"\\d+(?:er|º|ª)\", \"El corredor 23 quedo 1º en el 1er día de carrera y su mujer 2ª\")"
   ]
  },
  {
   "attachments": {},
   "cell_type": "markdown",
   "id": "played-engagement",
   "metadata": {},
   "source": [
    "### Ejercicio\n",
    "La última fecha (2018-11) no se ha detectado, ¿cómo podemos detectarla?"
   ]
  },
  {
   "cell_type": "code",
   "execution_count": 50,
   "id": "august-devon",
   "metadata": {},
   "outputs": [
    {
     "data": {
      "text/plain": [
       "['2021-3-21', '2020-12-1', '2019-11-25', '2018-11']"
      ]
     },
     "execution_count": 50,
     "metadata": {},
     "output_type": "execute_result"
    }
   ],
   "source": [
    "re.findall(\"\\d{4}-\\d{1,2}(?:-\\d{1,2})?\", fechas)"
   ]
  },
  {
   "attachments": {},
   "cell_type": "markdown",
   "id": "impaired-correspondence",
   "metadata": {},
   "source": [
    "## Grupos numerados\n",
    "Podemos asignar un nombre a cada grupo y luego referenciarlo en el objeto `re.Match`"
   ]
  },
  {
   "cell_type": "code",
   "execution_count": 51,
   "id": "quick-winter",
   "metadata": {},
   "outputs": [],
   "source": [
    "#buscamos letra seguida de dígito\n",
    "objeto = re.search(r\"(?P<letra>[ab])(?P<dígito>\\d)\", \"5, a3, b4\")"
   ]
  },
  {
   "cell_type": "code",
   "execution_count": 52,
   "id": "expected-captain",
   "metadata": {},
   "outputs": [
    {
     "data": {
      "text/plain": [
       "{'letra': 'a', 'dígito': '3'}"
      ]
     },
     "execution_count": 52,
     "metadata": {},
     "output_type": "execute_result"
    }
   ],
   "source": [
    "objeto.groupdict()"
   ]
  },
  {
   "cell_type": "code",
   "execution_count": 53,
   "id": "married-hands",
   "metadata": {},
   "outputs": [
    {
     "data": {
      "text/plain": [
       "'a'"
      ]
     },
     "execution_count": 53,
     "metadata": {},
     "output_type": "execute_result"
    }
   ],
   "source": [
    "objeto['letra'] #grupo capturado 'letter'"
   ]
  },
  {
   "cell_type": "code",
   "execution_count": 54,
   "id": "brutal-exchange",
   "metadata": {},
   "outputs": [
    {
     "data": {
      "text/plain": [
       "'a3'"
      ]
     },
     "execution_count": 54,
     "metadata": {},
     "output_type": "execute_result"
    }
   ],
   "source": [
    "objeto[0] #texto completo capturado por el patrón"
   ]
  },
  {
   "cell_type": "code",
   "execution_count": 55,
   "id": "pleased-combining",
   "metadata": {},
   "outputs": [
    {
     "name": "stdout",
     "output_type": "stream",
     "text": [
      "{'letra': None, 'dígito': '5'}\n",
      "{'letra': 'a', 'dígito': '3'}\n",
      "{'letra': 'b', 'dígito': '4'}\n"
     ]
    }
   ],
   "source": [
    "#Para buscar todos los matches hay que usar una búsqueda iterativa\n",
    "for objeto in re.finditer(r\"(?P<letra>[ab])?(?P<dígito>\\d)\", \"5, a3, b4\"):\n",
    "    print(objeto.groupdict())"
   ]
  },
  {
   "attachments": {},
   "cell_type": "markdown",
   "id": "unexpected-astrology",
   "metadata": {},
   "source": [
    "### División y substitución de texto\n",
    "usando `re.split()` y `re.sub()`"
   ]
  },
  {
   "cell_type": "code",
   "execution_count": 56,
   "id": "harmful-consequence",
   "metadata": {},
   "outputs": [
    {
     "data": {
      "text/plain": [
       "['Los',\n",
       " 'pájaros',\n",
       " 'cantan',\n",
       " 'las',\n",
       " 'nubes',\n",
       " 'se',\n",
       " 'levantan',\n",
       " 'Que',\n",
       " 'sí',\n",
       " 'que',\n",
       " 'no',\n",
       " 'que',\n",
       " 'caiga',\n",
       " 'un',\n",
       " 'chaparrón',\n",
       " '']"
      ]
     },
     "execution_count": 56,
     "metadata": {},
     "output_type": "execute_result"
    }
   ],
   "source": [
    "#Usando un patrón para dividir\n",
    "texto3 = \"Los pájaros cantan, las nubes se levantan. Que sí, que no, que caiga un chaparrón.\"\n",
    "re.split(\"[,.\\s]+\", texto3)"
   ]
  },
  {
   "cell_type": "code",
   "execution_count": 57,
   "id": "particular-damage",
   "metadata": {},
   "outputs": [
    {
     "data": {
      "text/plain": [
       "'El_Sol_aparece_por_la_mañana_entre_las_montañas_y_los_ríos'"
      ]
     },
     "execution_count": 57,
     "metadata": {},
     "output_type": "execute_result"
    }
   ],
   "source": [
    "#substitución de texto\n",
    "texto = 'El Sol aparece por la mañana entre las montañas y los ríos'\n",
    "re.sub(\" \", \"_\", texto)"
   ]
  },
  {
   "cell_type": "code",
   "execution_count": 75,
   "id": "foreign-nylon",
   "metadata": {},
   "outputs": [
    {
     "data": {
      "text/plain": [
       "'El Sol aparece por la mañana entre l@s montañas y l@s ríos'"
      ]
     },
     "execution_count": 75,
     "metadata": {},
     "output_type": "execute_result"
    }
   ],
   "source": [
    "#substitución de un patrón\n",
    "re.sub(\"l[ao]s\", \"l@s\", texto)"
   ]
  },
  {
   "cell_type": "code",
   "execution_count": 59,
   "id": "adolescent-coordination",
   "metadata": {},
   "outputs": [
    {
     "data": {
      "text/plain": [
       "'21/3/2021, 1/12/2020, 25/11/2019, 2018-11'"
      ]
     },
     "execution_count": 59,
     "metadata": {},
     "output_type": "execute_result"
    }
   ],
   "source": [
    "#substitución de un grupo capturado\n",
    "fechas = \"2021-3-21, 2020-12-1, 2019-11-25, 2018-11\"\n",
    "re.sub(\"(\\d{4})-(\\d{1,2})-(\\d{1,2})\", r\"\\3/\\2/\\1\", fechas)"
   ]
  },
  {
   "cell_type": "code",
   "execution_count": 60,
   "id": "rural-advertiser",
   "metadata": {},
   "outputs": [
    {
     "data": {
      "text/plain": [
       "'El SOL aparece POR la mañana entre LAS montañas y LOS ríos'"
      ]
     },
     "execution_count": 60,
     "metadata": {},
     "output_type": "execute_result"
    }
   ],
   "source": [
    "#Uso de una función sobre el texto a substituir\n",
    "def mayusculas(m):\n",
    "    return m[0].upper() #el elemento 0 de un objeto Match es el texto encontrado\n",
    "\n",
    "re.sub(r\"\\b\\w{3}\\b\", mayusculas, texto) #pasa a may. palabras de 3 letras"
   ]
  },
  {
   "cell_type": "code",
   "execution_count": 61,
   "id": "33ec7583",
   "metadata": {},
   "outputs": [
    {
     "data": {
      "text/plain": [
       "'21/03/2021, 01/12/2020, 25/11/2019, 2018-11'"
      ]
     },
     "execution_count": 61,
     "metadata": {},
     "output_type": "execute_result"
    }
   ],
   "source": [
    "#podemos usar grupos etiquetados dentro de la función\n",
    "def expandir(m):\n",
    "    return f\"{m['dia'].zfill(2)}/{m['mes'].zfill(2)}/{m['año']}\"\n",
    "\n",
    "re.sub(\"(?P<año>\\d{4})-(?P<mes>\\d{1,2})-(?P<dia>\\d{1,2})\", expandir, fechas)"
   ]
  },
  {
   "attachments": {},
   "cell_type": "markdown",
   "id": "personal-adjustment",
   "metadata": {},
   "source": [
    "## Uso de RegEx en Pandas"
   ]
  },
  {
   "cell_type": "code",
   "execution_count": 62,
   "id": "canadian-approach",
   "metadata": {},
   "outputs": [],
   "source": [
    "import pandas as pd\n",
    "import numpy as np"
   ]
  },
  {
   "cell_type": "code",
   "execution_count": 63,
   "id": "improving-spectacular",
   "metadata": {},
   "outputs": [
    {
     "data": {
      "text/plain": [
       "0       A\n",
       "1       B\n",
       "2       C\n",
       "3    Aaba\n",
       "4    Baca\n",
       "5        \n",
       "6    <NA>\n",
       "7    CABA\n",
       "8     dog\n",
       "9     cat\n",
       "dtype: string"
      ]
     },
     "execution_count": 63,
     "metadata": {},
     "output_type": "execute_result"
    }
   ],
   "source": [
    "s = pd.Series(\n",
    "     [\"A\", \"B\", \"C\", \"Aaba\", \"Baca\", \"\", np.nan, \"CABA\", \"dog\", \"cat\"],\n",
    "     dtype=\"string\",\n",
    " )\n",
    "s"
   ]
  },
  {
   "attachments": {},
   "cell_type": "markdown",
   "id": "fitted-sponsorship",
   "metadata": {},
   "source": [
    "### `str.replace()`"
   ]
  },
  {
   "cell_type": "code",
   "execution_count": 64,
   "id": "occasional-vermont",
   "metadata": {},
   "outputs": [
    {
     "data": {
      "text/plain": [
       "0       A\n",
       "1       B\n",
       "2       C\n",
       "3      XX\n",
       "4      XX\n",
       "5        \n",
       "6    <NA>\n",
       "7     CXX\n",
       "8     dog\n",
       "9     cat\n",
       "dtype: string"
      ]
     },
     "execution_count": 64,
     "metadata": {},
     "output_type": "execute_result"
    }
   ],
   "source": [
    "s.str.replace(\"A\\w+|B\\w+\", \"XX\", regex=True)"
   ]
  },
  {
   "attachments": {},
   "cell_type": "markdown",
   "id": "front-pharmacy",
   "metadata": {},
   "source": [
    "### `str.extract()`y `str.extractall()`"
   ]
  },
  {
   "cell_type": "code",
   "execution_count": 65,
   "id": "talented-cycle",
   "metadata": {},
   "outputs": [
    {
     "data": {
      "text/html": [
       "<div>\n",
       "<style scoped>\n",
       "    .dataframe tbody tr th:only-of-type {\n",
       "        vertical-align: middle;\n",
       "    }\n",
       "\n",
       "    .dataframe tbody tr th {\n",
       "        vertical-align: top;\n",
       "    }\n",
       "\n",
       "    .dataframe thead th {\n",
       "        text-align: right;\n",
       "    }\n",
       "</style>\n",
       "<table border=\"1\" class=\"dataframe\">\n",
       "  <thead>\n",
       "    <tr style=\"text-align: right;\">\n",
       "      <th></th>\n",
       "      <th>0</th>\n",
       "      <th>1</th>\n",
       "    </tr>\n",
       "  </thead>\n",
       "  <tbody>\n",
       "    <tr>\n",
       "      <th>0</th>\n",
       "      <td>a</td>\n",
       "      <td>1</td>\n",
       "    </tr>\n",
       "    <tr>\n",
       "      <th>1</th>\n",
       "      <td>b</td>\n",
       "      <td>2</td>\n",
       "    </tr>\n",
       "    <tr>\n",
       "      <th>2</th>\n",
       "      <td>&lt;NA&gt;</td>\n",
       "      <td>&lt;NA&gt;</td>\n",
       "    </tr>\n",
       "  </tbody>\n",
       "</table>\n",
       "</div>"
      ],
      "text/plain": [
       "      0     1\n",
       "0     a     1\n",
       "1     b     2\n",
       "2  <NA>  <NA>"
      ]
     },
     "execution_count": 65,
     "metadata": {},
     "output_type": "execute_result"
    }
   ],
   "source": [
    "#The extract method accepts a regular expression with at least one capture group.\n",
    "pd.Series(\n",
    "     [\"a1\", \"b2\", \"c3\"],\n",
    "     dtype=\"string\",\n",
    " ).str.extract(r\"([ab])(\\d)\")"
   ]
  },
  {
   "cell_type": "code",
   "execution_count": 66,
   "id": "higher-montgomery",
   "metadata": {},
   "outputs": [
    {
     "data": {
      "text/html": [
       "<div>\n",
       "<style scoped>\n",
       "    .dataframe tbody tr th:only-of-type {\n",
       "        vertical-align: middle;\n",
       "    }\n",
       "\n",
       "    .dataframe tbody tr th {\n",
       "        vertical-align: top;\n",
       "    }\n",
       "\n",
       "    .dataframe thead th {\n",
       "        text-align: right;\n",
       "    }\n",
       "</style>\n",
       "<table border=\"1\" class=\"dataframe\">\n",
       "  <thead>\n",
       "    <tr style=\"text-align: right;\">\n",
       "      <th></th>\n",
       "      <th>0</th>\n",
       "      <th>1</th>\n",
       "    </tr>\n",
       "  </thead>\n",
       "  <tbody>\n",
       "    <tr>\n",
       "      <th>0</th>\n",
       "      <td>a</td>\n",
       "      <td>1</td>\n",
       "    </tr>\n",
       "    <tr>\n",
       "      <th>1</th>\n",
       "      <td>b</td>\n",
       "      <td>2</td>\n",
       "    </tr>\n",
       "    <tr>\n",
       "      <th>2</th>\n",
       "      <td>&lt;NA&gt;</td>\n",
       "      <td>3</td>\n",
       "    </tr>\n",
       "    <tr>\n",
       "      <th>3</th>\n",
       "      <td>&lt;NA&gt;</td>\n",
       "      <td>&lt;NA&gt;</td>\n",
       "    </tr>\n",
       "  </tbody>\n",
       "</table>\n",
       "</div>"
      ],
      "text/plain": [
       "      0     1\n",
       "0     a     1\n",
       "1     b     2\n",
       "2  <NA>     3\n",
       "3  <NA>  <NA>"
      ]
     },
     "execution_count": 66,
     "metadata": {},
     "output_type": "execute_result"
    }
   ],
   "source": [
    "#Podemos hacer un grupo opcional.\n",
    "pd.Series(\n",
    "     [\"a1\", \"b2\", \"c3\", \"ab\"],\n",
    "     dtype=\"string\",\n",
    " ).str.extract(r\"([ab])?(\\d)\")"
   ]
  },
  {
   "cell_type": "code",
   "execution_count": 67,
   "id": "intellectual-record",
   "metadata": {},
   "outputs": [
    {
     "data": {
      "text/html": [
       "<div>\n",
       "<style scoped>\n",
       "    .dataframe tbody tr th:only-of-type {\n",
       "        vertical-align: middle;\n",
       "    }\n",
       "\n",
       "    .dataframe tbody tr th {\n",
       "        vertical-align: top;\n",
       "    }\n",
       "\n",
       "    .dataframe thead th {\n",
       "        text-align: right;\n",
       "    }\n",
       "</style>\n",
       "<table border=\"1\" class=\"dataframe\">\n",
       "  <thead>\n",
       "    <tr style=\"text-align: right;\">\n",
       "      <th></th>\n",
       "      <th>letter</th>\n",
       "      <th>digit</th>\n",
       "    </tr>\n",
       "  </thead>\n",
       "  <tbody>\n",
       "    <tr>\n",
       "      <th>0</th>\n",
       "      <td>a</td>\n",
       "      <td>1</td>\n",
       "    </tr>\n",
       "    <tr>\n",
       "      <th>1</th>\n",
       "      <td>b</td>\n",
       "      <td>2</td>\n",
       "    </tr>\n",
       "    <tr>\n",
       "      <th>2</th>\n",
       "      <td>&lt;NA&gt;</td>\n",
       "      <td>3</td>\n",
       "    </tr>\n",
       "  </tbody>\n",
       "</table>\n",
       "</div>"
      ],
      "text/plain": [
       "  letter digit\n",
       "0      a     1\n",
       "1      b     2\n",
       "2   <NA>     3"
      ]
     },
     "execution_count": 67,
     "metadata": {},
     "output_type": "execute_result"
    }
   ],
   "source": [
    "#Podemos poner nombres a los grupos.\n",
    "pd.Series(\n",
    "     [\"a1,b7\", \"b2\", \"c3\"],\n",
    "     dtype=\"string\",\n",
    " ).str.extract(r\"(?P<letter>[ab])?(?P<digit>\\d)\")"
   ]
  },
  {
   "attachments": {},
   "cell_type": "markdown",
   "id": "damaged-happening",
   "metadata": {},
   "source": [
    "The `extractall` method returns every match. The result of `extractall` is always a DataFrame with a MultiIndex on its rows. The last level of the MultiIndex is named `match` and indicates the order in the subject."
   ]
  },
  {
   "cell_type": "code",
   "execution_count": 68,
   "id": "middle-enemy",
   "metadata": {},
   "outputs": [
    {
     "data": {
      "text/plain": [
       "A    a1a2\n",
       "B      b1\n",
       "C      c1\n",
       "dtype: string"
      ]
     },
     "execution_count": 68,
     "metadata": {},
     "output_type": "execute_result"
    }
   ],
   "source": [
    "s2 = pd.Series([\"a1a2\", \"b1\", \"c1\"], index=[\"A\", \"B\", \"C\"], dtype=\"string\")\n",
    "s2"
   ]
  },
  {
   "cell_type": "code",
   "execution_count": 69,
   "id": "thirty-custody",
   "metadata": {},
   "outputs": [
    {
     "data": {
      "text/html": [
       "<div>\n",
       "<style scoped>\n",
       "    .dataframe tbody tr th:only-of-type {\n",
       "        vertical-align: middle;\n",
       "    }\n",
       "\n",
       "    .dataframe tbody tr th {\n",
       "        vertical-align: top;\n",
       "    }\n",
       "\n",
       "    .dataframe thead th {\n",
       "        text-align: right;\n",
       "    }\n",
       "</style>\n",
       "<table border=\"1\" class=\"dataframe\">\n",
       "  <thead>\n",
       "    <tr style=\"text-align: right;\">\n",
       "      <th></th>\n",
       "      <th></th>\n",
       "      <th>letter</th>\n",
       "      <th>digit</th>\n",
       "    </tr>\n",
       "    <tr>\n",
       "      <th></th>\n",
       "      <th>match</th>\n",
       "      <th></th>\n",
       "      <th></th>\n",
       "    </tr>\n",
       "  </thead>\n",
       "  <tbody>\n",
       "    <tr>\n",
       "      <th rowspan=\"2\" valign=\"top\">A</th>\n",
       "      <th>0</th>\n",
       "      <td>a</td>\n",
       "      <td>1</td>\n",
       "    </tr>\n",
       "    <tr>\n",
       "      <th>1</th>\n",
       "      <td>a</td>\n",
       "      <td>2</td>\n",
       "    </tr>\n",
       "    <tr>\n",
       "      <th>B</th>\n",
       "      <th>0</th>\n",
       "      <td>b</td>\n",
       "      <td>1</td>\n",
       "    </tr>\n",
       "    <tr>\n",
       "      <th>C</th>\n",
       "      <th>0</th>\n",
       "      <td>c</td>\n",
       "      <td>1</td>\n",
       "    </tr>\n",
       "  </tbody>\n",
       "</table>\n",
       "</div>"
      ],
      "text/plain": [
       "        letter digit\n",
       "  match             \n",
       "A 0          a     1\n",
       "  1          a     2\n",
       "B 0          b     1\n",
       "C 0          c     1"
      ]
     },
     "execution_count": 69,
     "metadata": {},
     "output_type": "execute_result"
    }
   ],
   "source": [
    "s2.str.extractall(\"(?P<letter>[a-z])(?P<digit>[0-9])\")"
   ]
  },
  {
   "attachments": {},
   "cell_type": "markdown",
   "id": "missing-fellow",
   "metadata": {},
   "source": [
    "### `match`, `fullmatch`, `contains`"
   ]
  },
  {
   "cell_type": "code",
   "execution_count": 70,
   "id": "cloudy-visitor",
   "metadata": {},
   "outputs": [
    {
     "data": {
      "text/plain": [
       "0      1\n",
       "1      2\n",
       "2     3a\n",
       "3     3b\n",
       "4    03c\n",
       "5    4dx\n",
       "6     5b\n",
       "dtype: string"
      ]
     },
     "execution_count": 70,
     "metadata": {},
     "output_type": "execute_result"
    }
   ],
   "source": [
    "s = pd.Series(\n",
    "     [\"1\", \"2\", \"3a\", \"3b\", \"03c\", \"4dx\", \"5b\"],\n",
    "     dtype=\"string\",\n",
    " )\n",
    "s"
   ]
  },
  {
   "cell_type": "code",
   "execution_count": 71,
   "id": "bizarre-intermediate",
   "metadata": {},
   "outputs": [
    {
     "data": {
      "text/html": [
       "<div>\n",
       "<style scoped>\n",
       "    .dataframe tbody tr th:only-of-type {\n",
       "        vertical-align: middle;\n",
       "    }\n",
       "\n",
       "    .dataframe tbody tr th {\n",
       "        vertical-align: top;\n",
       "    }\n",
       "\n",
       "    .dataframe thead th {\n",
       "        text-align: right;\n",
       "    }\n",
       "</style>\n",
       "<table border=\"1\" class=\"dataframe\">\n",
       "  <thead>\n",
       "    <tr style=\"text-align: right;\">\n",
       "      <th></th>\n",
       "      <th>0</th>\n",
       "      <th>1</th>\n",
       "    </tr>\n",
       "  </thead>\n",
       "  <tbody>\n",
       "    <tr>\n",
       "      <th>0</th>\n",
       "      <td>1</td>\n",
       "      <td>False</td>\n",
       "    </tr>\n",
       "    <tr>\n",
       "      <th>1</th>\n",
       "      <td>2</td>\n",
       "      <td>False</td>\n",
       "    </tr>\n",
       "    <tr>\n",
       "      <th>2</th>\n",
       "      <td>3a</td>\n",
       "      <td>True</td>\n",
       "    </tr>\n",
       "    <tr>\n",
       "      <th>3</th>\n",
       "      <td>3b</td>\n",
       "      <td>True</td>\n",
       "    </tr>\n",
       "    <tr>\n",
       "      <th>4</th>\n",
       "      <td>03c</td>\n",
       "      <td>True</td>\n",
       "    </tr>\n",
       "    <tr>\n",
       "      <th>5</th>\n",
       "      <td>4dx</td>\n",
       "      <td>False</td>\n",
       "    </tr>\n",
       "    <tr>\n",
       "      <th>6</th>\n",
       "      <td>5b</td>\n",
       "      <td>False</td>\n",
       "    </tr>\n",
       "  </tbody>\n",
       "</table>\n",
       "</div>"
      ],
      "text/plain": [
       "     0      1\n",
       "0    1  False\n",
       "1    2  False\n",
       "2   3a   True\n",
       "3   3b   True\n",
       "4  03c   True\n",
       "5  4dx  False\n",
       "6   5b  False"
      ]
     },
     "execution_count": 71,
     "metadata": {},
     "output_type": "execute_result"
    }
   ],
   "source": [
    "pd.concat([s,s.str.contains(r\"[0-3][a-z]\")], axis=1) #en cualquier lugar del texto"
   ]
  },
  {
   "cell_type": "code",
   "execution_count": 72,
   "id": "induced-inflation",
   "metadata": {},
   "outputs": [
    {
     "data": {
      "text/html": [
       "<div>\n",
       "<style scoped>\n",
       "    .dataframe tbody tr th:only-of-type {\n",
       "        vertical-align: middle;\n",
       "    }\n",
       "\n",
       "    .dataframe tbody tr th {\n",
       "        vertical-align: top;\n",
       "    }\n",
       "\n",
       "    .dataframe thead th {\n",
       "        text-align: right;\n",
       "    }\n",
       "</style>\n",
       "<table border=\"1\" class=\"dataframe\">\n",
       "  <thead>\n",
       "    <tr style=\"text-align: right;\">\n",
       "      <th></th>\n",
       "      <th>0</th>\n",
       "      <th>1</th>\n",
       "    </tr>\n",
       "  </thead>\n",
       "  <tbody>\n",
       "    <tr>\n",
       "      <th>0</th>\n",
       "      <td>1</td>\n",
       "      <td>False</td>\n",
       "    </tr>\n",
       "    <tr>\n",
       "      <th>1</th>\n",
       "      <td>2</td>\n",
       "      <td>False</td>\n",
       "    </tr>\n",
       "    <tr>\n",
       "      <th>2</th>\n",
       "      <td>3a</td>\n",
       "      <td>True</td>\n",
       "    </tr>\n",
       "    <tr>\n",
       "      <th>3</th>\n",
       "      <td>3b</td>\n",
       "      <td>True</td>\n",
       "    </tr>\n",
       "    <tr>\n",
       "      <th>4</th>\n",
       "      <td>03c</td>\n",
       "      <td>False</td>\n",
       "    </tr>\n",
       "    <tr>\n",
       "      <th>5</th>\n",
       "      <td>4dx</td>\n",
       "      <td>True</td>\n",
       "    </tr>\n",
       "    <tr>\n",
       "      <th>6</th>\n",
       "      <td>5b</td>\n",
       "      <td>True</td>\n",
       "    </tr>\n",
       "  </tbody>\n",
       "</table>\n",
       "</div>"
      ],
      "text/plain": [
       "     0      1\n",
       "0    1  False\n",
       "1    2  False\n",
       "2   3a   True\n",
       "3   3b   True\n",
       "4  03c  False\n",
       "5  4dx   True\n",
       "6   5b   True"
      ]
     },
     "execution_count": 72,
     "metadata": {},
     "output_type": "execute_result"
    }
   ],
   "source": [
    "pd.concat([s,s.str.match(r\"[0-9][a-z]\")], axis=1) #sólo al inicio del texto"
   ]
  },
  {
   "cell_type": "code",
   "execution_count": 73,
   "id": "exotic-induction",
   "metadata": {},
   "outputs": [
    {
     "data": {
      "text/html": [
       "<div>\n",
       "<style scoped>\n",
       "    .dataframe tbody tr th:only-of-type {\n",
       "        vertical-align: middle;\n",
       "    }\n",
       "\n",
       "    .dataframe tbody tr th {\n",
       "        vertical-align: top;\n",
       "    }\n",
       "\n",
       "    .dataframe thead th {\n",
       "        text-align: right;\n",
       "    }\n",
       "</style>\n",
       "<table border=\"1\" class=\"dataframe\">\n",
       "  <thead>\n",
       "    <tr style=\"text-align: right;\">\n",
       "      <th></th>\n",
       "      <th>0</th>\n",
       "      <th>1</th>\n",
       "    </tr>\n",
       "  </thead>\n",
       "  <tbody>\n",
       "    <tr>\n",
       "      <th>0</th>\n",
       "      <td>1</td>\n",
       "      <td>False</td>\n",
       "    </tr>\n",
       "    <tr>\n",
       "      <th>1</th>\n",
       "      <td>2</td>\n",
       "      <td>False</td>\n",
       "    </tr>\n",
       "    <tr>\n",
       "      <th>2</th>\n",
       "      <td>3a</td>\n",
       "      <td>True</td>\n",
       "    </tr>\n",
       "    <tr>\n",
       "      <th>3</th>\n",
       "      <td>3b</td>\n",
       "      <td>True</td>\n",
       "    </tr>\n",
       "    <tr>\n",
       "      <th>4</th>\n",
       "      <td>03c</td>\n",
       "      <td>False</td>\n",
       "    </tr>\n",
       "    <tr>\n",
       "      <th>5</th>\n",
       "      <td>4dx</td>\n",
       "      <td>False</td>\n",
       "    </tr>\n",
       "    <tr>\n",
       "      <th>6</th>\n",
       "      <td>5b</td>\n",
       "      <td>True</td>\n",
       "    </tr>\n",
       "  </tbody>\n",
       "</table>\n",
       "</div>"
      ],
      "text/plain": [
       "     0      1\n",
       "0    1  False\n",
       "1    2  False\n",
       "2   3a   True\n",
       "3   3b   True\n",
       "4  03c  False\n",
       "5  4dx  False\n",
       "6   5b   True"
      ]
     },
     "execution_count": 73,
     "metadata": {},
     "output_type": "execute_result"
    }
   ],
   "source": [
    "pd.concat([s,s.str.fullmatch(r\"[0-9][a-z]\")], axis=1)"
   ]
  },
  {
   "cell_type": "code",
   "execution_count": null,
   "id": "specialized-copyright",
   "metadata": {},
   "outputs": [],
   "source": []
  }
 ],
 "metadata": {
  "kernelspec": {
   "display_name": "Python 3",
   "language": "python",
   "name": "python3"
  },
  "language_info": {
   "codemirror_mode": {
    "name": "ipython",
    "version": 3
   },
   "file_extension": ".py",
   "mimetype": "text/x-python",
   "name": "python",
   "nbconvert_exporter": "python",
   "pygments_lexer": "ipython3",
   "version": "3.10.13"
  }
 },
 "nbformat": 4,
 "nbformat_minor": 5
}
