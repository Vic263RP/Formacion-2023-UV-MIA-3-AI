{
 "cells": [
  {
   "cell_type": "markdown",
   "metadata": {},
   "source": [
    "# Extracción de características básicas de texto\n",
    "Vamos a crear un generador para procesar un lote de archivos de texto y extraer ciertas características básicas obtenidas con la librería `spaCy`sobre el texto.\n"
   ]
  },
  {
   "cell_type": "code",
   "execution_count": 10,
   "metadata": {},
   "outputs": [],
   "source": [
    "import spacy\n",
    "import pandas as pd\n",
    "import numpy as np\n",
    "\n",
    "nlp = spacy.load(\"es_core_news_sm\")"
   ]
  },
  {
   "cell_type": "markdown",
   "metadata": {},
   "source": [
    "## Carga de datos\n",
    "Creamos una función generadora para cargar los documentos de texto desde una carpeta de disco, y vamos a realizar un procesado inicial a cada documento.  \n",
    "Usaremos un conjunto de noticias deportivas del Marca, obtenido de https://www.kaggle.com/datasets/mdamsterdam/marca-spanish-sports-news"
   ]
  },
  {
   "cell_type": "code",
   "execution_count": 11,
   "metadata": {},
   "outputs": [],
   "source": [
    "import os\n",
    "\n",
    "def carga_textos(path):\n",
    "    \"\"\"Función generadora que carga los archivos de tipo TXT de una carpeta\n",
    "    Devuelve (yield) el siguiente texto en cada ejecución\"\"\"\n",
    "\n",
    "    for file in [f for f in os.listdir(path) if f.endswith('.txt')]:\n",
    "        with open(os.path.join(path, file), encoding='utf-8') as f:\n",
    "            \n",
    "            yield f.read()"
   ]
  },
  {
   "cell_type": "code",
   "execution_count": 12,
   "metadata": {},
   "outputs": [
    {
     "name": "stdout",
     "output_type": "stream",
     "text": [
      "Una Copa blindada para ganar al covid-19 en Madrid Dubljevic: \"No somos favoritos en la Copa porque jugamos primero con el Madrid\" El base brasileño del Lenovo Tenerife Marcelinho Huertas disputará su segunda Copa del Rey como aurinegro y su décima como jugador de la Liga Endesa, un torneo que \"siempre es especial\", según ha declarado en un audio enviado por el club. \"Llegamos con mucha motivación, no puede ser de otra manera, una vez más estamos ahí, y hemos llegado como cabezas de serie\", ha destacado el jugador que ha insistido en que el único rival en el que piensa el combinado canarista es en el Hereda San Pablo Burgos. Los tinerfeños y el combinado burgalés, recién proclamado campeón de la Copa Intercontinental de la FIBA en Buenos Aires, se medirán en el encuentro inaugural de la cita copera este jueves 11 de febrero a las 18.30 CET (17.30 GMT), en el Wizink Center de Madrid. Huertas ha indicado que el equipo ha mejorado a lo largo de la temporada, y que ha tenido \"una dinámica bastante buena\" que se ha visto frenada en momentos puntuales por las lesiones de algunos componentes de la plantilla. En este ocasión el técnico Txus Vidorreta \"tendrá problemas para elegir\" porque todos los jugadores están en buen estado, si bien se trata \"de un problema bueno\". El base ha descrito al Hereda San Pablo Burgos como un equipo \"que tiene mucha facilidad para llegar a los cien puntos\" por su potencia anotadora, sobre todo desde el triple, y que usa muy bien las manos en defensa. \"Tenemos que controlar el ritmo frenético que les gusta llevar y las pérdidas\", ha comentado Huertas que cree que \"seguir el plan de partido\" será fundamental. El Lenovo Tenerife no esperará a un rival al que le pase factura el viaje a Argentina, pues se trata de un equipo \"que lleva una racha muy buena en este tipo de torneos\" pues llegó a la semifinal de la Fase Excepcional de la Liga Endesa 19/20, ganó la Liga de Campeones 19/20 y han conseguido la Copa Intercontinental el pasado fin de semana. Asimismo están realizando \"una temporada espectacular\" en ACB y han vuelto a pasar al 'Sweet 16' de la BCL, lo que supone que se encuentran \"en un estado de forma dulce y con mucha confianza\". Más allá de intentar llevar a su equipo a las semifinales de la Copa del Rey, Huertas intentará engrandecer su leyenda como máximo asistente de la competición pues tras los doce pases de canasta conseguidos en la pasada edición ya suma 117 y se sitúa a 18 del siguiente jugador en activo, que es Sergio Llull (99). Suscríbete a la Newsletter de Basket de MARCA y recibe en tu correo electrónico, de lunes a domingo y a primera hora de la mañana, las noticias exclusivas, entrevistas, reportajes, gráficos y vídeos que marcarán el día en la NBA, Liga Endesa, Euroliga y el resto del mundo de la canasta.\n"
     ]
    }
   ],
   "source": [
    "textos = carga_textos(\"noticias\")\n",
    "print(next(textos))"
   ]
  },
  {
   "cell_type": "code",
   "execution_count": 13,
   "metadata": {},
   "outputs": [
    {
     "name": "stdout",
     "output_type": "stream",
     "text": [
      "La Audiencia Provincial de Palma ha decidido reabrir la causa por el fallecimiento de Ángel Nieto, ocurrido el pasado 3 de agosto de 2017 y ha tomado en cuenta el recurso de los hijos mayores del piloto, Pablo y Gelete, considerando que hay indicios suficientes de homicidio por imprudencia. En un primer momento el juzgado de Ibiza, donde se produjo el accidente. cerró el caso en diciembre del mismo año al considerar que la ciudadana alemana que conducía el Fiat 600 que golpeó el quad del 12+1 veces campeón del mundo no cometió ninguna infracción penal. Además Nieto habría llevado el casco sin atar del todo y las luces del vehículo tapadas por el barro, según el parte policial. Incluso su viuda aceptó un acuerdo de 900.000 euros de la aseguradora del vehículo. Sin embargo parte de los hijos del legendario piloto siguieron adelante entendiendo que había más evidencias y ahora la ciudadana alemana, de 41 años, tendrá que declarar en calidad de investigada por ese presunto delito de homicidio imprudente el próximo 17 de marzo.\n"
     ]
    }
   ],
   "source": [
    "print(next(textos))"
   ]
  },
  {
   "cell_type": "markdown",
   "metadata": {},
   "source": [
    "### Extracción de características básicas\n",
    "Creamos una función que a partir de un texto de entrada (objeto `string`) genere un diccionario de características con los siguientes valores:  \n",
    "- `caracteres`: longitud del texto en caracteres\n",
    "- `palabras`: nº de palabras del texto excluyendo tokens de puntuación\n",
    "- `frases`: nº de frases del texto\n",
    "- `ENT_PER`: nº de entidades de tipo `PER` en el texto\n",
    "- `ENT_LOC`: nº de entidades de tipo `LOC` en el texto\n",
    "- `ENT_ORG`: nº de entidades de tipo `ORG` en el texto\n",
    "- `ENT_MISC`: nº de entidades de tipo `MISC` en el texto  "
   ]
  },
  {
   "cell_type": "code",
   "execution_count": 14,
   "metadata": {},
   "outputs": [],
   "source": [
    "from collections import Counter\n",
    "\n",
    "\n",
    "def caracteristicas(texto):\n",
    "    \"\"\"Calcula una serie de características de un texto\n",
    "    y las devuelve como valores de un objeto diccionario\"\"\"\n",
    "\n",
    "    diccionario = dict()\n",
    "    diccionario[\"caracteres\"] = len(texto)\n",
    "    doc = nlp(texto)\n",
    "    diccionario[\"palabras\"] = len([t for t in doc if not t.is_punct])\n",
    "    diccionario[\"frases\"] = len([s for s in doc.sents])\n",
    "    entidades = Counter([e.label_ for e in doc.ents])\n",
    "    diccionario[\"ENT_PER\"] = entidades[\"PER\"]\n",
    "    diccionario[\"ENT_LOC\"] = entidades[\"LOC\"]\n",
    "    diccionario[\"ENT_ORG\"] = entidades[\"ORG\"]\n",
    "    diccionario[\"ENT_MISC\"] = entidades[\"MISC\"]\n",
    "\n",
    "    return diccionario\n"
   ]
  },
  {
   "cell_type": "code",
   "execution_count": 15,
   "metadata": {},
   "outputs": [
    {
     "data": {
      "text/plain": [
       "{'caracteres': 1260,\n",
       " 'palabras': 213,\n",
       " 'frases': 9,\n",
       " 'ENT_PER': 7,\n",
       " 'ENT_LOC': 3,\n",
       " 'ENT_ORG': 1,\n",
       " 'ENT_MISC': 7}"
      ]
     },
     "execution_count": 15,
     "metadata": {},
     "output_type": "execute_result"
    }
   ],
   "source": [
    "caracteristicas(next(textos))"
   ]
  },
  {
   "cell_type": "markdown",
   "metadata": {},
   "source": [
    "La aplicaremos sobre el generador anterior para crear un DataFrame con los datos de todo el dataset de noticias.\n"
   ]
  },
  {
   "cell_type": "code",
   "execution_count": 16,
   "metadata": {},
   "outputs": [],
   "source": [
    "caract_noticias = pd.DataFrame([caracteristicas(texto) for texto in carga_textos(\"noticias\")])"
   ]
  },
  {
   "cell_type": "code",
   "execution_count": 17,
   "metadata": {},
   "outputs": [
    {
     "data": {
      "text/html": [
       "<div>\n",
       "<style scoped>\n",
       "    .dataframe tbody tr th:only-of-type {\n",
       "        vertical-align: middle;\n",
       "    }\n",
       "\n",
       "    .dataframe tbody tr th {\n",
       "        vertical-align: top;\n",
       "    }\n",
       "\n",
       "    .dataframe thead th {\n",
       "        text-align: right;\n",
       "    }\n",
       "</style>\n",
       "<table border=\"1\" class=\"dataframe\">\n",
       "  <thead>\n",
       "    <tr style=\"text-align: right;\">\n",
       "      <th></th>\n",
       "      <th>caracteres</th>\n",
       "      <th>palabras</th>\n",
       "      <th>frases</th>\n",
       "      <th>ENT_PER</th>\n",
       "      <th>ENT_LOC</th>\n",
       "      <th>ENT_ORG</th>\n",
       "      <th>ENT_MISC</th>\n",
       "    </tr>\n",
       "  </thead>\n",
       "  <tbody>\n",
       "    <tr>\n",
       "      <th>547</th>\n",
       "      <td>6516</td>\n",
       "      <td>1067</td>\n",
       "      <td>31</td>\n",
       "      <td>26</td>\n",
       "      <td>49</td>\n",
       "      <td>5</td>\n",
       "      <td>137</td>\n",
       "    </tr>\n",
       "    <tr>\n",
       "      <th>84</th>\n",
       "      <td>1409</td>\n",
       "      <td>243</td>\n",
       "      <td>10</td>\n",
       "      <td>9</td>\n",
       "      <td>3</td>\n",
       "      <td>2</td>\n",
       "      <td>7</td>\n",
       "    </tr>\n",
       "    <tr>\n",
       "      <th>440</th>\n",
       "      <td>2033</td>\n",
       "      <td>341</td>\n",
       "      <td>12</td>\n",
       "      <td>6</td>\n",
       "      <td>8</td>\n",
       "      <td>0</td>\n",
       "      <td>8</td>\n",
       "    </tr>\n",
       "    <tr>\n",
       "      <th>70</th>\n",
       "      <td>1843</td>\n",
       "      <td>261</td>\n",
       "      <td>11</td>\n",
       "      <td>9</td>\n",
       "      <td>28</td>\n",
       "      <td>2</td>\n",
       "      <td>17</td>\n",
       "    </tr>\n",
       "    <tr>\n",
       "      <th>130</th>\n",
       "      <td>981</td>\n",
       "      <td>179</td>\n",
       "      <td>4</td>\n",
       "      <td>1</td>\n",
       "      <td>4</td>\n",
       "      <td>2</td>\n",
       "      <td>7</td>\n",
       "    </tr>\n",
       "    <tr>\n",
       "      <th>430</th>\n",
       "      <td>1777</td>\n",
       "      <td>300</td>\n",
       "      <td>7</td>\n",
       "      <td>8</td>\n",
       "      <td>4</td>\n",
       "      <td>2</td>\n",
       "      <td>11</td>\n",
       "    </tr>\n",
       "    <tr>\n",
       "      <th>456</th>\n",
       "      <td>903</td>\n",
       "      <td>162</td>\n",
       "      <td>4</td>\n",
       "      <td>5</td>\n",
       "      <td>4</td>\n",
       "      <td>1</td>\n",
       "      <td>6</td>\n",
       "    </tr>\n",
       "    <tr>\n",
       "      <th>386</th>\n",
       "      <td>1254</td>\n",
       "      <td>209</td>\n",
       "      <td>7</td>\n",
       "      <td>8</td>\n",
       "      <td>6</td>\n",
       "      <td>2</td>\n",
       "      <td>9</td>\n",
       "    </tr>\n",
       "    <tr>\n",
       "      <th>156</th>\n",
       "      <td>1828</td>\n",
       "      <td>314</td>\n",
       "      <td>9</td>\n",
       "      <td>6</td>\n",
       "      <td>7</td>\n",
       "      <td>3</td>\n",
       "      <td>15</td>\n",
       "    </tr>\n",
       "    <tr>\n",
       "      <th>221</th>\n",
       "      <td>3212</td>\n",
       "      <td>575</td>\n",
       "      <td>26</td>\n",
       "      <td>28</td>\n",
       "      <td>7</td>\n",
       "      <td>2</td>\n",
       "      <td>16</td>\n",
       "    </tr>\n",
       "  </tbody>\n",
       "</table>\n",
       "</div>"
      ],
      "text/plain": [
       "     caracteres  palabras  frases  ENT_PER  ENT_LOC  ENT_ORG  ENT_MISC\n",
       "547        6516      1067      31       26       49        5       137\n",
       "84         1409       243      10        9        3        2         7\n",
       "440        2033       341      12        6        8        0         8\n",
       "70         1843       261      11        9       28        2        17\n",
       "130         981       179       4        1        4        2         7\n",
       "430        1777       300       7        8        4        2        11\n",
       "456         903       162       4        5        4        1         6\n",
       "386        1254       209       7        8        6        2         9\n",
       "156        1828       314       9        6        7        3        15\n",
       "221        3212       575      26       28        7        2        16"
      ]
     },
     "execution_count": 17,
     "metadata": {},
     "output_type": "execute_result"
    }
   ],
   "source": [
    "caract_noticias.sample(10)"
   ]
  },
  {
   "cell_type": "markdown",
   "metadata": {},
   "source": [
    "Vemos estadísticos globales"
   ]
  },
  {
   "cell_type": "code",
   "execution_count": 18,
   "metadata": {},
   "outputs": [
    {
     "data": {
      "text/html": [
       "<div>\n",
       "<style scoped>\n",
       "    .dataframe tbody tr th:only-of-type {\n",
       "        vertical-align: middle;\n",
       "    }\n",
       "\n",
       "    .dataframe tbody tr th {\n",
       "        vertical-align: top;\n",
       "    }\n",
       "\n",
       "    .dataframe thead th {\n",
       "        text-align: right;\n",
       "    }\n",
       "</style>\n",
       "<table border=\"1\" class=\"dataframe\">\n",
       "  <thead>\n",
       "    <tr style=\"text-align: right;\">\n",
       "      <th></th>\n",
       "      <th>caracteres</th>\n",
       "      <th>palabras</th>\n",
       "      <th>frases</th>\n",
       "      <th>ENT_PER</th>\n",
       "      <th>ENT_LOC</th>\n",
       "      <th>ENT_ORG</th>\n",
       "      <th>ENT_MISC</th>\n",
       "    </tr>\n",
       "  </thead>\n",
       "  <tbody>\n",
       "    <tr>\n",
       "      <th>count</th>\n",
       "      <td>561.000000</td>\n",
       "      <td>561.000000</td>\n",
       "      <td>561.000000</td>\n",
       "      <td>561.000000</td>\n",
       "      <td>561.000000</td>\n",
       "      <td>561.000000</td>\n",
       "      <td>561.000000</td>\n",
       "    </tr>\n",
       "    <tr>\n",
       "      <th>mean</th>\n",
       "      <td>2429.572193</td>\n",
       "      <td>420.436720</td>\n",
       "      <td>19.146168</td>\n",
       "      <td>14.775401</td>\n",
       "      <td>10.718360</td>\n",
       "      <td>4.427807</td>\n",
       "      <td>14.641711</td>\n",
       "    </tr>\n",
       "    <tr>\n",
       "      <th>std</th>\n",
       "      <td>1652.645616</td>\n",
       "      <td>287.181351</td>\n",
       "      <td>20.291713</td>\n",
       "      <td>15.695979</td>\n",
       "      <td>10.192741</td>\n",
       "      <td>4.537803</td>\n",
       "      <td>14.956901</td>\n",
       "    </tr>\n",
       "    <tr>\n",
       "      <th>min</th>\n",
       "      <td>124.000000</td>\n",
       "      <td>23.000000</td>\n",
       "      <td>1.000000</td>\n",
       "      <td>0.000000</td>\n",
       "      <td>0.000000</td>\n",
       "      <td>0.000000</td>\n",
       "      <td>0.000000</td>\n",
       "    </tr>\n",
       "    <tr>\n",
       "      <th>25%</th>\n",
       "      <td>1429.000000</td>\n",
       "      <td>249.000000</td>\n",
       "      <td>8.000000</td>\n",
       "      <td>6.000000</td>\n",
       "      <td>4.000000</td>\n",
       "      <td>2.000000</td>\n",
       "      <td>7.000000</td>\n",
       "    </tr>\n",
       "    <tr>\n",
       "      <th>50%</th>\n",
       "      <td>2072.000000</td>\n",
       "      <td>357.000000</td>\n",
       "      <td>14.000000</td>\n",
       "      <td>11.000000</td>\n",
       "      <td>8.000000</td>\n",
       "      <td>3.000000</td>\n",
       "      <td>11.000000</td>\n",
       "    </tr>\n",
       "    <tr>\n",
       "      <th>75%</th>\n",
       "      <td>3017.000000</td>\n",
       "      <td>511.000000</td>\n",
       "      <td>21.000000</td>\n",
       "      <td>18.000000</td>\n",
       "      <td>14.000000</td>\n",
       "      <td>6.000000</td>\n",
       "      <td>16.000000</td>\n",
       "    </tr>\n",
       "    <tr>\n",
       "      <th>max</th>\n",
       "      <td>16002.000000</td>\n",
       "      <td>2712.000000</td>\n",
       "      <td>196.000000</td>\n",
       "      <td>180.000000</td>\n",
       "      <td>66.000000</td>\n",
       "      <td>41.000000</td>\n",
       "      <td>137.000000</td>\n",
       "    </tr>\n",
       "  </tbody>\n",
       "</table>\n",
       "</div>"
      ],
      "text/plain": [
       "         caracteres     palabras      frases     ENT_PER     ENT_LOC  \\\n",
       "count    561.000000   561.000000  561.000000  561.000000  561.000000   \n",
       "mean    2429.572193   420.436720   19.146168   14.775401   10.718360   \n",
       "std     1652.645616   287.181351   20.291713   15.695979   10.192741   \n",
       "min      124.000000    23.000000    1.000000    0.000000    0.000000   \n",
       "25%     1429.000000   249.000000    8.000000    6.000000    4.000000   \n",
       "50%     2072.000000   357.000000   14.000000   11.000000    8.000000   \n",
       "75%     3017.000000   511.000000   21.000000   18.000000   14.000000   \n",
       "max    16002.000000  2712.000000  196.000000  180.000000   66.000000   \n",
       "\n",
       "          ENT_ORG    ENT_MISC  \n",
       "count  561.000000  561.000000  \n",
       "mean     4.427807   14.641711  \n",
       "std      4.537803   14.956901  \n",
       "min      0.000000    0.000000  \n",
       "25%      2.000000    7.000000  \n",
       "50%      3.000000   11.000000  \n",
       "75%      6.000000   16.000000  \n",
       "max     41.000000  137.000000  "
      ]
     },
     "execution_count": 18,
     "metadata": {},
     "output_type": "execute_result"
    }
   ],
   "source": [
    "caract_noticias.describe()"
   ]
  },
  {
   "cell_type": "markdown",
   "metadata": {},
   "source": [
    "la librería `textaCy` tiene muchas funciones para extraer información básica de un texto: https://textacy.readthedocs.io/en/latest/api_reference/text_stats.html"
   ]
  },
  {
   "cell_type": "code",
   "execution_count": null,
   "metadata": {},
   "outputs": [],
   "source": []
  }
 ],
 "metadata": {
  "kernelspec": {
   "display_name": "base",
   "language": "python",
   "name": "python3"
  },
  "language_info": {
   "codemirror_mode": {
    "name": "ipython",
    "version": 3
   },
   "file_extension": ".py",
   "mimetype": "text/x-python",
   "name": "python",
   "nbconvert_exporter": "python",
   "pygments_lexer": "ipython3",
   "version": "3.10.13"
  }
 },
 "nbformat": 4,
 "nbformat_minor": 2
}
