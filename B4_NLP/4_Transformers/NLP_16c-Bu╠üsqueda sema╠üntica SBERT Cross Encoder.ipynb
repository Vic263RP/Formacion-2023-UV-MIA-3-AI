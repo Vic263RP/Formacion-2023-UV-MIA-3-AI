{
 "cells": [
  {
   "attachments": {},
   "cell_type": "markdown",
   "metadata": {},
   "source": [
    "# Búsqueda semántica Cross Encoder\n",
    "Aquí usamos la técnica Cross Encoder para encontrar el documento más similar a un documento dado.  \n",
    ">The cross-encoder model takes a pair of text documents as input and directly outputs the probability that the two documents are similar."
   ]
  },
  {
   "cell_type": "code",
   "execution_count": null,
   "metadata": {},
   "outputs": [],
   "source": [
    "import os\n",
    "import re\n",
    "import numpy as np\n",
    "import pandas as pd\n",
    "import gensim"
   ]
  },
  {
   "cell_type": "code",
   "execution_count": null,
   "metadata": {},
   "outputs": [],
   "source": [
    "#cargamos documentos\n",
    "lee_data_file = 'lee_background.cor'\n",
    "\n",
    "with open(lee_data_file) as f:\n",
    "    corpus = f.readlines()"
   ]
  },
  {
   "attachments": {},
   "cell_type": "markdown",
   "metadata": {},
   "source": [
    "Con el modelo Cross Encoder se calcula la distancia par a par. Por no calcular toda la matriz de distancias, directamente calculamos las distancias a un documento nuevo."
   ]
  },
  {
   "cell_type": "code",
   "execution_count": null,
   "metadata": {},
   "outputs": [],
   "source": [
    "from sentence_transformers import CrossEncoder\n",
    "\n",
    "# Load the pre-trained model\n",
    "model = CrossEncoder('cross-encoder/stsb-roberta-base')\n",
    "\n",
    "query = corpus[0]\n",
    "\n",
    "sentence_pairs = []\n",
    "for sentence in corpus:\n",
    "    sentence_pairs.append([sentence, query])\n",
    "    \n",
    "sims = model.predict(sentence_pairs, show_progress_bar=True)"
   ]
  },
  {
   "cell_type": "code",
   "execution_count": null,
   "metadata": {},
   "outputs": [],
   "source": [
    "sims_sorted = sorted(enumerate(sims), key=lambda item: -item[1])\n",
    "print(sims_sorted[:10])"
   ]
  },
  {
   "cell_type": "code",
   "execution_count": null,
   "metadata": {},
   "outputs": [],
   "source": [
    "query = \"\"\"the new Pakistan government falled in the terrorist attack by the islamic group Hamas\"\"\"\n",
    "\n",
    "sentence_pairs = []\n",
    "for sentence in corpus:\n",
    "    sentence_pairs.append([sentence, query])\n",
    "    \n",
    "sims = model.predict(sentence_pairs, show_progress_bar=True)"
   ]
  },
  {
   "cell_type": "code",
   "execution_count": null,
   "metadata": {},
   "outputs": [],
   "source": [
    "sims.shape"
   ]
  },
  {
   "cell_type": "code",
   "execution_count": null,
   "metadata": {},
   "outputs": [],
   "source": [
    "sims_sorted = sorted(enumerate(sims), key=lambda item: -item[1])\n",
    "print(sims_sorted[:10])"
   ]
  },
  {
   "cell_type": "code",
   "execution_count": null,
   "metadata": {},
   "outputs": [],
   "source": [
    "#5 noticias más similares\n",
    "for idx, score in sims_sorted[0:5]:\n",
    "        print(corpus[idx], f\"(Score: {score})\" )"
   ]
  },
  {
   "cell_type": "code",
   "execution_count": null,
   "metadata": {},
   "outputs": [],
   "source": []
  }
 ],
 "metadata": {
  "kernelspec": {
   "display_name": "Python 3",
   "language": "python",
   "name": "python3"
  },
  "language_info": {
   "codemirror_mode": {
    "name": "ipython",
    "version": 3
   },
   "file_extension": ".py",
   "mimetype": "text/x-python",
   "name": "python",
   "nbconvert_exporter": "python",
   "pygments_lexer": "ipython3",
   "version": "3.9.7"
  },
  "orig_nbformat": 4,
  "vscode": {
   "interpreter": {
    "hash": "1889f7d8acdc3cacfafa5b333be0ab79c5c49ae12b0b38e71a3abcd28f98edde"
   }
  }
 },
 "nbformat": 4,
 "nbformat_minor": 2
}
