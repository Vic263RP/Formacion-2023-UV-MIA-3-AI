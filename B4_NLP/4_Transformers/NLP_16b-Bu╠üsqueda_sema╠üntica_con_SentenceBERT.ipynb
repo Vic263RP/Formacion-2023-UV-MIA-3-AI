{
 "cells": [
  {
   "attachments": {},
   "cell_type": "markdown",
   "metadata": {
    "id": "iLfnVvXG6IV4"
   },
   "source": [
    "# Búsqueda semántica de texto\n",
    "En este notebook vamos a implementar un buscador semántico de textos similares mediante un modelo *Sentence Transformer* (https://github.com/UKPLab/sentence-transformers). \\\n",
    "Vamos a usar el conjunto de noticias del dataset Lee utilizado en el NLP_07.\\\n",
    "Hay que instalar la librería `sentence-transformers` con:\\\n",
    "```pip install -U sentence-transformers```"
   ]
  },
  {
   "cell_type": "code",
   "execution_count": null,
   "metadata": {
    "id": "eN6c7ojg6IWC"
   },
   "outputs": [],
   "source": [
    "import os\n",
    "import re\n",
    "import numpy as np\n",
    "import pandas as pd\n",
    "import gensim\n",
    "from sentence_transformers import SentenceTransformer\n"
   ]
  },
  {
   "cell_type": "code",
   "execution_count": null,
   "metadata": {
    "id": "OLsVyWo86IWC"
   },
   "outputs": [],
   "source": [
    "lee_data_file = 'lee_background.cor'"
   ]
  },
  {
   "cell_type": "code",
   "execution_count": null,
   "metadata": {
    "id": "XzMyw6VD6IWD"
   },
   "outputs": [],
   "source": [
    "#Leemos todas las noticias\n",
    "#Al usar transformers podemos obviar el pre-procesado del texto\n",
    "with open(lee_data_file) as f:\n",
    "    corpus = f.readlines()"
   ]
  },
  {
   "cell_type": "code",
   "execution_count": null,
   "metadata": {
    "colab": {
     "base_uri": "https://localhost:8080/"
    },
    "id": "LhyRUBrN6IWD",
    "outputId": "e658257d-f99f-466a-d23d-5e6c2ac03a85"
   },
   "outputs": [],
   "source": [
    "len(corpus)"
   ]
  },
  {
   "cell_type": "code",
   "execution_count": null,
   "metadata": {
    "colab": {
     "base_uri": "https://localhost:8080/",
     "height": 123
    },
    "id": "Txq4RD2W6IWD",
    "outputId": "ac9837b0-1a5d-4d4e-b585-066c8de0508e"
   },
   "outputs": [],
   "source": [
    "display(corpus[0])"
   ]
  },
  {
   "cell_type": "code",
   "execution_count": null,
   "metadata": {
    "colab": {
     "base_uri": "https://localhost:8080/"
    },
    "id": "BSG3ymx66IWD",
    "outputId": "e92db60c-3e96-420d-d039-d77e340809b0"
   },
   "outputs": [],
   "source": [
    "#Con esta librería el tokenizado y la codificación se hace a la vez\n",
    "\n",
    "model = SentenceTransformer('all-MiniLM-L6-v2')\n",
    "#Llamamos a model.encode() para crear los embeddings de cada documento\n",
    "doc_embeddings = model.encode(corpus)"
   ]
  },
  {
   "cell_type": "code",
   "execution_count": null,
   "metadata": {},
   "outputs": [],
   "source": [
    "type(corpus)"
   ]
  },
  {
   "cell_type": "code",
   "execution_count": null,
   "metadata": {
    "colab": {
     "base_uri": "https://localhost:8080/"
    },
    "id": "WkbcNG1a6IWD",
    "outputId": "0359a23f-bf66-44c1-ebf6-4948ee7dfe89"
   },
   "outputs": [],
   "source": [
    "doc_embeddings.shape"
   ]
  },
  {
   "attachments": {},
   "cell_type": "markdown",
   "metadata": {
    "id": "fGsbCBBz75ub"
   },
   "source": [
    "Los embeddings generados para cada documento son los que usaremos para calcular la similitud entre documentos (con la distancia coseno). Es lo que se conoce como técnica *Bi-encoder*:\\\n",
    ">A Bi-Encoder Sentence Transformer model takes in one text at a time as input and outputs a fixed dimension embedding vector as the output. We can then compare any two documents by computing the cosine similarity between the embeddings of those two documents."
   ]
  },
  {
   "cell_type": "code",
   "execution_count": null,
   "metadata": {
    "colab": {
     "base_uri": "https://localhost:8080/"
    },
    "id": "3EawwkrF6IWF",
    "outputId": "225ede09-bf6d-436d-c13c-9316939904ed"
   },
   "outputs": [],
   "source": [
    "from sklearn.metrics.pairwise import cosine_similarity\n",
    "\n",
    "#Vemos la similitud de todos los documentos con todos\n",
    "sims = cosine_similarity(doc_embeddings, doc_embeddings)\n",
    "sims.shape"
   ]
  },
  {
   "attachments": {},
   "cell_type": "markdown",
   "metadata": {},
   "source": [
    "Vemos la similitud del primer documento al resto"
   ]
  },
  {
   "cell_type": "code",
   "execution_count": null,
   "metadata": {},
   "outputs": [],
   "source": [
    "sims[0, :]"
   ]
  },
  {
   "cell_type": "code",
   "execution_count": null,
   "metadata": {},
   "outputs": [],
   "source": [
    "sims[0, :].shape"
   ]
  },
  {
   "cell_type": "code",
   "execution_count": null,
   "metadata": {},
   "outputs": [],
   "source": [
    "#Ordenamos de mayor a menor\n",
    "sims_sorted = sorted(enumerate(sims[0,:]), key=lambda item: -item[1])\n",
    "print(sims_sorted[:10])"
   ]
  },
  {
   "cell_type": "code",
   "execution_count": null,
   "metadata": {
    "colab": {
     "base_uri": "https://localhost:8080/",
     "height": 123
    },
    "id": "KPF-pJMd6IWF",
    "outputId": "523cb64a-27cf-4007-c921-ba2899881d27"
   },
   "outputs": [],
   "source": [
    "#Noticia más cercana\n",
    "display(corpus[sims_sorted[1][0]])"
   ]
  },
  {
   "cell_type": "code",
   "execution_count": null,
   "metadata": {
    "colab": {
     "base_uri": "https://localhost:8080/"
    },
    "id": "m1RvZ2-b6IWG",
    "outputId": "cb1620a2-b914-40d3-a941-3285820c3d2a"
   },
   "outputs": [],
   "source": [
    "#5 noticias más similares\n",
    "for idx, score in sims_sorted[1:6]:\n",
    "        print(corpus[idx], f\"(Score: {score})\" )"
   ]
  },
  {
   "cell_type": "code",
   "execution_count": null,
   "metadata": {
    "id": "KbFvMPak6IWG"
   },
   "outputs": [],
   "source": [
    "#Creamos un texto nuevo y buscamos la noticia más similar\n",
    "texto = \"\"\"the new Pakistan government falled in the terrorist attack by the islamic group Hamas\"\"\"\n",
    "texto_embedding = model.encode(texto)"
   ]
  },
  {
   "cell_type": "code",
   "execution_count": null,
   "metadata": {
    "colab": {
     "base_uri": "https://localhost:8080/"
    },
    "id": "hI91sX_d6IWI",
    "outputId": "76143b25-7c96-4e31-8dcf-48f2425b5e72"
   },
   "outputs": [],
   "source": [
    "texto_embedding.shape"
   ]
  },
  {
   "cell_type": "code",
   "execution_count": null,
   "metadata": {},
   "outputs": [],
   "source": [
    "texto_embedding"
   ]
  },
  {
   "cell_type": "code",
   "execution_count": null,
   "metadata": {},
   "outputs": [],
   "source": [
    "texto_embedding.reshape(1, -1)"
   ]
  },
  {
   "cell_type": "code",
   "execution_count": null,
   "metadata": {},
   "outputs": [],
   "source": [
    "texto_embedding.reshape(1, -1).shape"
   ]
  },
  {
   "cell_type": "code",
   "execution_count": null,
   "metadata": {
    "colab": {
     "base_uri": "https://localhost:8080/"
    },
    "id": "o_FobCM_6IWI",
    "outputId": "b21d2592-92bc-401d-afe7-684c6e1dae34"
   },
   "outputs": [],
   "source": [
    "#Comparamos con el resto\n",
    "sims = cosine_similarity(texto_embedding.reshape(1, -1), doc_embeddings)[0]\n",
    "sims_sorted = sorted(enumerate(sims), key=lambda item: -item[1])\n",
    "sims.shape"
   ]
  },
  {
   "cell_type": "code",
   "execution_count": null,
   "metadata": {},
   "outputs": [],
   "source": [
    "print(sims_sorted[:10])"
   ]
  },
  {
   "cell_type": "code",
   "execution_count": null,
   "metadata": {
    "colab": {
     "base_uri": "https://localhost:8080/"
    },
    "id": "IgYfqF7e6IWI",
    "outputId": "e1e044eb-4553-4f80-99ff-b183c1afea47"
   },
   "outputs": [],
   "source": [
    "#5 noticias más similares\n",
    "for idx, score in sims_sorted[0:5]:\n",
    "        print(corpus[idx], f\"(Score: {score})\" )"
   ]
  },
  {
   "cell_type": "code",
   "execution_count": null,
   "metadata": {
    "id": "ryJ_FzVB6IWI"
   },
   "outputs": [],
   "source": []
  }
 ],
 "metadata": {
  "colab": {
   "name": "NLP_DL_07-Búsqueda semántica con SentenceBERT.ipynb",
   "provenance": []
  },
  "kernelspec": {
   "display_name": "Python 3",
   "language": "python",
   "name": "python3"
  },
  "language_info": {
   "codemirror_mode": {
    "name": "ipython",
    "version": 3
   },
   "file_extension": ".py",
   "mimetype": "text/x-python",
   "name": "python",
   "nbconvert_exporter": "python",
   "pygments_lexer": "ipython3",
   "version": "3.9.7"
  }
 },
 "nbformat": 4,
 "nbformat_minor": 4
}
