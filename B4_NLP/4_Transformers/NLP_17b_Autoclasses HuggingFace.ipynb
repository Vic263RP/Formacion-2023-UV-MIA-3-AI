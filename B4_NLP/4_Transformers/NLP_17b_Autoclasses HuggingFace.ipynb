{
  "cells": [
    {
      "attachments": {},
      "cell_type": "markdown",
      "metadata": {
        "id": "u9Y-drgrEm9W"
      },
      "source": [
        "# Uso de transformers con las `AutoClasses` de Hugging Face\n",
        "Las clases `AutoClasses` nos permiten cargar la configuración, tokenizado y modelo de una arquitectura transformer concreta para distintas tareas de texto.  \n",
        ">AutoClasses are here to do this job for you so that you automatically retrieve the relevant model given the name/path to the pretrained weights/config/vocabulary.\n",
        ">Instantiating one of AutoConfig, AutoModel, and AutoTokenizer will directly create a class of the relevant architecture"
      ]
    },
    {
      "cell_type": "code",
      "execution_count": null,
      "metadata": {
        "id": "iBFQSa4PEnwK"
      },
      "outputs": [],
      "source": [
        "#!pip install transformers"
      ]
    },
    {
      "cell_type": "code",
      "execution_count": null,
      "metadata": {
        "id": "vAmNUIvjEm9a"
      },
      "outputs": [],
      "source": [
        "from transformers import AutoConfig, AutoTokenizer, AutoModel"
      ]
    },
    {
      "attachments": {},
      "cell_type": "markdown",
      "metadata": {
        "id": "pCbz0ciyEm9b"
      },
      "source": [
        "Definimos un modelo (`checkpoint`) de una arquitectura concreta a cargar. Los posible modelos están listados en https://huggingface.co/docs/transformers/v4.29.1/en/model_doc/auto#transformers.AutoConfig.from_pretrained  \n"
      ]
    },
    {
      "cell_type": "code",
      "execution_count": null,
      "metadata": {
        "id": "AaDPIznvEm9b"
      },
      "outputs": [],
      "source": [
        "checkpoint = 'bert-base-cased'"
      ]
    },
    {
      "attachments": {},
      "cell_type": "markdown",
      "metadata": {
        "id": "XwbFiPXwEm9c"
      },
      "source": [
        "Cargamos el tokenizador específico"
      ]
    },
    {
      "cell_type": "code",
      "execution_count": null,
      "metadata": {
        "id": "9XFSqg60Em9c"
      },
      "outputs": [],
      "source": [
        "tokenizer = AutoTokenizer.from_pretrained(checkpoint)\n",
        "\n",
        "tokenizer"
      ]
    },
    {
      "cell_type": "code",
      "execution_count": null,
      "metadata": {
        "id": "XiSFSwGa6ZPb"
      },
      "outputs": [],
      "source": [
        "input = tokenizer(\"I like the Transformers library\")"
      ]
    },
    {
      "cell_type": "code",
      "execution_count": null,
      "metadata": {
        "id": "vgjKHhD86dVJ"
      },
      "outputs": [],
      "source": [
        "print(input)"
      ]
    },
    {
      "attachments": {},
      "cell_type": "markdown",
      "metadata": {
        "id": "roSEbE_DEm9d"
      },
      "source": [
        "Cargamos la configuración por defecto del modelo"
      ]
    },
    {
      "cell_type": "code",
      "execution_count": null,
      "metadata": {
        "id": "xQyHZSnDEm9d"
      },
      "outputs": [],
      "source": [
        "config = AutoConfig.from_pretrained(checkpoint)\n",
        "\n",
        "config"
      ]
    },
    {
      "cell_type": "code",
      "execution_count": null,
      "metadata": {
        "id": "UIXaS_lDEm9d"
      },
      "outputs": [],
      "source": [
        "[attr for attr in dir(config) if not attr.startswith('__')]"
      ]
    },
    {
      "attachments": {},
      "cell_type": "markdown",
      "metadata": {
        "id": "hsSbmVtSEm9e"
      },
      "source": [
        "Podemos cambiar algunos parámetros de la configuración"
      ]
    },
    {
      "cell_type": "code",
      "execution_count": null,
      "metadata": {
        "id": "r9xMgCAREm9e"
      },
      "outputs": [],
      "source": [
        "config.output_hidden_states = True"
      ]
    },
    {
      "attachments": {},
      "cell_type": "markdown",
      "metadata": {
        "id": "6lJuqNi0Em9e"
      },
      "source": [
        "Cargamos un modelo base (head-less)"
      ]
    },
    {
      "cell_type": "code",
      "execution_count": null,
      "metadata": {
        "id": "g_TV4ytMEm9e"
      },
      "outputs": [],
      "source": [
        "modelo = AutoModel.from_pretrained(checkpoint, config=config)"
      ]
    },
    {
      "cell_type": "code",
      "execution_count": null,
      "metadata": {
        "id": "i8cA_E5oFhjO"
      },
      "outputs": [],
      "source": [
        "modelo"
      ]
    },
    {
      "attachments": {},
      "cell_type": "markdown",
      "metadata": {
        "id": "qFR_fNOkEm9f"
      },
      "source": [
        "Los modelos genéricos generan la salida (hidden_layer) a la salida de las capas del ENCODER"
      ]
    },
    {
      "cell_type": "code",
      "execution_count": null,
      "metadata": {
        "id": "r0pB9AJc7P0T"
      },
      "outputs": [],
      "source": [
        "inputs = tokenizer(\"Hello, my dog is cute\", return_tensors=\"pt\")"
      ]
    },
    {
      "cell_type": "code",
      "execution_count": null,
      "metadata": {
        "id": "v5U_wpeDEm9f"
      },
      "outputs": [],
      "source": [
        "output = modelo(**inputs)"
      ]
    },
    {
      "cell_type": "code",
      "execution_count": null,
      "metadata": {
        "id": "2vDJ5KvL8qMj"
      },
      "outputs": [],
      "source": [
        "output.keys()"
      ]
    },
    {
      "cell_type": "code",
      "execution_count": null,
      "metadata": {
        "id": "ig_L-r5B8uZi"
      },
      "outputs": [],
      "source": [
        "output.last_hidden_state.shape"
      ]
    },
    {
      "cell_type": "code",
      "execution_count": null,
      "metadata": {
        "id": "sIpOxip881at"
      },
      "outputs": [],
      "source": [
        "output.pooler_output.shape"
      ]
    },
    {
      "cell_type": "code",
      "execution_count": null,
      "metadata": {
        "id": "meeRneGn88Z9"
      },
      "outputs": [],
      "source": [
        "len(output.hidden_states)"
      ]
    },
    {
      "cell_type": "code",
      "execution_count": null,
      "metadata": {},
      "outputs": [],
      "source": [
        "output.hidden_states[0].shape"
      ]
    },
    {
      "cell_type": "code",
      "execution_count": null,
      "metadata": {},
      "outputs": [],
      "source": [
        "modelo"
      ]
    },
    {
      "cell_type": "markdown",
      "metadata": {},
      "source": [
        "Los modelos genéricos generan la salida (hidden_layer) a la salida de las capas del ENCODER"
      ]
    },
    {
      "cell_type": "code",
      "execution_count": null,
      "metadata": {},
      "outputs": [],
      "source": [
        "inputs = tokenizer(\"Hello, my dog is cute\", return_tensors=\"pt\")"
      ]
    },
    {
      "cell_type": "code",
      "execution_count": null,
      "metadata": {},
      "outputs": [],
      "source": [
        "output = modelo(**inputs)"
      ]
    },
    {
      "cell_type": "code",
      "execution_count": null,
      "metadata": {},
      "outputs": [],
      "source": [
        "output.keys()"
      ]
    },
    {
      "cell_type": "code",
      "execution_count": null,
      "metadata": {},
      "outputs": [],
      "source": [
        "output.last_hidden_state.shape"
      ]
    },
    {
      "cell_type": "code",
      "execution_count": null,
      "metadata": {},
      "outputs": [],
      "source": [
        "output.pooler_output.shape"
      ]
    },
    {
      "cell_type": "code",
      "execution_count": null,
      "metadata": {},
      "outputs": [],
      "source": [
        "len(output.hidden_states)"
      ]
    },
    {
      "attachments": {},
      "cell_type": "markdown",
      "metadata": {
        "id": "GjlFEbCqEm9g"
      },
      "source": [
        "También podemos cargar la arquitectura (HEAD) para una tarea del lenguaje determinada. Existen las siguientes tareas:  https://huggingface.co/docs/transformers/v4.29.1/en/model_doc/auto#natural-language-processing"
      ]
    },
    {
      "cell_type": "code",
      "execution_count": null,
      "metadata": {
        "id": "Wve0gBGAEm9g"
      },
      "outputs": [],
      "source": [
        "#Tarea de clasificación de textos\n",
        "\n",
        "from transformers import AutoModelForSequenceClassification\n",
        "\n",
        "modelo = AutoModelForSequenceClassification.from_pretrained(checkpoint, num_labels=3)"
      ]
    },
    {
      "cell_type": "code",
      "execution_count": null,
      "metadata": {
        "id": "YPPQZyB0FlcQ"
      },
      "outputs": [],
      "source": [
        "modelo"
      ]
    },
    {
      "cell_type": "code",
      "execution_count": null,
      "metadata": {
        "id": "Ess1ePLeEm9g"
      },
      "outputs": [],
      "source": [
        "output = modelo(**inputs)"
      ]
    },
    {
      "cell_type": "code",
      "execution_count": null,
      "metadata": {
        "id": "g7HT61_T9Uhe"
      },
      "outputs": [],
      "source": [
        "output.keys()"
      ]
    },
    {
      "cell_type": "code",
      "execution_count": null,
      "metadata": {
        "id": "qJvAOHVm9Ype"
      },
      "outputs": [],
      "source": [
        "output.logits.shape"
      ]
    },
    {
      "cell_type": "code",
      "execution_count": null,
      "metadata": {
        "id": "Xm_8qwzAEm9g"
      },
      "outputs": [],
      "source": [
        "#Tarea de clasificación de tokens\n",
        "\n",
        "from transformers import AutoModelForTokenClassification\n",
        "\n",
        "id2label = {\n",
        "    0: \"O\",\n",
        "    1: \"B-corporation\",\n",
        "    2: \"I-corporation\",\n",
        "    3: \"B-creative-work\",\n",
        "    4: \"I-creative-work\",\n",
        "    5: \"B-group\",\n",
        "    6: \"I-group\",\n",
        "    7: \"B-location\",\n",
        "    8: \"I-location\",\n",
        "    9: \"B-person\",\n",
        "    10: \"I-person\",\n",
        "    11: \"B-product\",\n",
        "    12: \"I-product\",\n",
        "}\n",
        "label2id = {\n",
        "    \"O\": 0,\n",
        "    \"B-corporation\": 1,\n",
        "    \"I-corporation\": 2,\n",
        "    \"B-creative-work\": 3,\n",
        "    \"I-creative-work\": 4,\n",
        "    \"B-group\": 5,\n",
        "    \"I-group\": 6,\n",
        "    \"B-location\": 7,\n",
        "    \"I-location\": 8,\n",
        "    \"B-person\": 9,\n",
        "    \"I-person\": 10,\n",
        "    \"B-product\": 11,\n",
        "    \"I-product\": 12,\n",
        "}\n",
        "\n",
        "modelo = AutoModelForTokenClassification.from_pretrained(checkpoint, num_labels=13, id2label=id2label, label2id=label2id)"
      ]
    },
    {
      "cell_type": "code",
      "execution_count": null,
      "metadata": {
        "id": "9-HLkkiHEm9h"
      },
      "outputs": [],
      "source": [
        "modelo"
      ]
    },
    {
      "cell_type": "code",
      "execution_count": null,
      "metadata": {
        "id": "o6ob6JfyEm9h"
      },
      "outputs": [],
      "source": [
        "output = modelo(**inputs)"
      ]
    },
    {
      "cell_type": "code",
      "execution_count": null,
      "metadata": {
        "id": "7MyrjADM9hEI"
      },
      "outputs": [],
      "source": [
        "output.keys()"
      ]
    },
    {
      "cell_type": "code",
      "execution_count": null,
      "metadata": {
        "id": "2fnwfrxg9jyI"
      },
      "outputs": [],
      "source": [
        "output.logits.shape"
      ]
    },
    {
      "cell_type": "code",
      "execution_count": null,
      "metadata": {
        "id": "ZY-4f21A9njE"
      },
      "outputs": [],
      "source": [
        "inputs = tokenizer([\"I like icecream\", \"I do not like brocolli\"], padding=True, return_tensors=\"pt\")"
      ]
    },
    {
      "cell_type": "code",
      "execution_count": null,
      "metadata": {},
      "outputs": [],
      "source": [
        "inputs"
      ]
    },
    {
      "cell_type": "code",
      "execution_count": null,
      "metadata": {},
      "outputs": [],
      "source": [
        "output = modelo(**inputs)"
      ]
    },
    {
      "cell_type": "code",
      "execution_count": null,
      "metadata": {},
      "outputs": [],
      "source": [
        "output.logits.shape"
      ]
    },
    {
      "cell_type": "code",
      "execution_count": null,
      "metadata": {},
      "outputs": [],
      "source": []
    }
  ],
  "metadata": {
    "colab": {
      "provenance": []
    },
    "kernelspec": {
      "display_name": "transformers",
      "language": "python",
      "name": "python3"
    },
    "language_info": {
      "codemirror_mode": {
        "name": "ipython",
        "version": 3
      },
      "file_extension": ".py",
      "mimetype": "text/x-python",
      "name": "python",
      "nbconvert_exporter": "python",
      "pygments_lexer": "ipython3",
      "version": "3.11.7"
    },
    "orig_nbformat": 4
  },
  "nbformat": 4,
  "nbformat_minor": 0
}
