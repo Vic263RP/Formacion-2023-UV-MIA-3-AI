{
 "cells": [
  {
   "attachments": {},
   "cell_type": "markdown",
   "metadata": {},
   "source": [
    "# Clasificador de texto con CNN\n",
    "Implementemos un clasificador con Convolutional Neural Networks aplicado al análisis de sentimiento en Twitter usando la librería `Keras`.  \n",
    "Aplicamos una primera capa de embeddings para convertir las palabras en vectores y luego entrenamos con una red CNN (seleccionando el max-pooling de cada filtro para obtener un vector por tweet).  \n",
    "Para calcular los embeddings usamos:  \n",
    "- Una capa de embeddings propia sobre los tweets\n",
    "- Transfer Learning con los word embeddings de spaCy \n",
    "- Transfer Learning con los word embeddings de GloVe \n",
    "\n",
    "Implementado según el modelo planteado en [Convolutional Neural Networks for Sentence Classification](http://arxiv.org/abs/1408.5882)"
   ]
  },
  {
   "cell_type": "code",
   "execution_count": 1,
   "metadata": {},
   "outputs": [
    {
     "name": "stderr",
     "output_type": "stream",
     "text": [
      "2024-08-12 13:13:12.934318: I tensorflow/core/platform/cpu_feature_guard.cc:193] This TensorFlow binary is optimized with oneAPI Deep Neural Network Library (oneDNN) to use the following CPU instructions in performance-critical operations:  SSE4.1 SSE4.2 AVX AVX2 FMA\n",
      "To enable them in other operations, rebuild TensorFlow with the appropriate compiler flags.\n"
     ]
    }
   ],
   "source": [
    "import pandas as pd\n",
    "import numpy as np\n",
    "import re, string, spacy\n",
    "from sklearn.feature_extraction.text import CountVectorizer\n",
    "from tensorflow.keras.preprocessing.text import Tokenizer\n",
    "from tensorflow.keras.preprocessing.sequence import pad_sequences\n",
    "from tensorflow.keras.models import Sequential\n",
    "from tensorflow.keras.layers import Dense, Embedding, Dropout, Activation, Conv1D, GlobalMaxPooling1D\n",
    "from sklearn.model_selection import train_test_split\n",
    "from sklearn.metrics import classification_report\n",
    "import matplotlib.pyplot as plt\n",
    "%matplotlib inline\n",
    "\n",
    "pd.options.display.max_colwidth = None\n",
    "np.random.seed(123)"
   ]
  },
  {
   "cell_type": "code",
   "execution_count": 2,
   "metadata": {},
   "outputs": [
    {
     "data": {
      "text/html": [
       "<div>\n",
       "<style scoped>\n",
       "    .dataframe tbody tr th:only-of-type {\n",
       "        vertical-align: middle;\n",
       "    }\n",
       "\n",
       "    .dataframe tbody tr th {\n",
       "        vertical-align: top;\n",
       "    }\n",
       "\n",
       "    .dataframe thead th {\n",
       "        text-align: right;\n",
       "    }\n",
       "</style>\n",
       "<table border=\"1\" class=\"dataframe\">\n",
       "  <thead>\n",
       "    <tr style=\"text-align: right;\">\n",
       "      <th></th>\n",
       "      <th>content</th>\n",
       "      <th>polarity</th>\n",
       "    </tr>\n",
       "  </thead>\n",
       "  <tbody>\n",
       "    <tr>\n",
       "      <th>0</th>\n",
       "      <td>@myendlesshazza a. que puto mal escribo b. me sigo surrando help 3. ha quedado raro el \"cómetelo\" ahí JAJAJAJA</td>\n",
       "      <td>N</td>\n",
       "    </tr>\n",
       "    <tr>\n",
       "      <th>1</th>\n",
       "      <td>Quiero mogollón a @AlbaBenito99 pero sobretodo por lo rápido que contesta a los wasaps</td>\n",
       "      <td>P</td>\n",
       "    </tr>\n",
       "    <tr>\n",
       "      <th>2</th>\n",
       "      <td>Vale he visto la tia bebiendose su regla y me hs dado muchs grima</td>\n",
       "      <td>N</td>\n",
       "    </tr>\n",
       "    <tr>\n",
       "      <th>3</th>\n",
       "      <td>@Yulian_Poe @guillermoterry1 Ah. mucho más por supuesto! solo que lo incluyo. Me habías entendido mal</td>\n",
       "      <td>P</td>\n",
       "    </tr>\n",
       "    <tr>\n",
       "      <th>4</th>\n",
       "      <td>@toNi_end seria mejor que dejasen de emitir esa basura ya  hay que evolucionar para bien y eso</td>\n",
       "      <td>N</td>\n",
       "    </tr>\n",
       "  </tbody>\n",
       "</table>\n",
       "</div>"
      ],
      "text/plain": [
       "                                                                                                          content  \\\n",
       "0  @myendlesshazza a. que puto mal escribo b. me sigo surrando help 3. ha quedado raro el \"cómetelo\" ahí JAJAJAJA   \n",
       "1                         Quiero mogollón a @AlbaBenito99 pero sobretodo por lo rápido que contesta a los wasaps    \n",
       "2                                              Vale he visto la tia bebiendose su regla y me hs dado muchs grima    \n",
       "3          @Yulian_Poe @guillermoterry1 Ah. mucho más por supuesto! solo que lo incluyo. Me habías entendido mal    \n",
       "4                  @toNi_end seria mejor que dejasen de emitir esa basura ya  hay que evolucionar para bien y eso   \n",
       "\n",
       "  polarity  \n",
       "0        N  \n",
       "1        P  \n",
       "2        N  \n",
       "3        P  \n",
       "4        N  "
      ]
     },
     "execution_count": 2,
     "metadata": {},
     "output_type": "execute_result"
    }
   ],
   "source": [
    "# Leemos los datos\n",
    "df = pd.read_csv('tweets_max.csv', index_col=None)\n",
    "\n",
    "#seleccionamos columnas de interés\n",
    "df = df[['content', 'polarity']]\n",
    "\n",
    "#dejamos polaridades definidas\n",
    "df = df[(df['polarity']=='P') | (df['polarity']=='N')]\n",
    "\n",
    "df.head()"
   ]
  },
  {
   "cell_type": "code",
   "execution_count": 3,
   "metadata": {},
   "outputs": [
    {
     "data": {
      "text/plain": [
       "polarity\n",
       "N    840\n",
       "P    609\n",
       "Name: count, dtype: int64"
      ]
     },
     "execution_count": 3,
     "metadata": {},
     "output_type": "execute_result"
    }
   ],
   "source": [
    "df.polarity.value_counts()"
   ]
  },
  {
   "attachments": {},
   "cell_type": "markdown",
   "metadata": {},
   "source": [
    "## Limpieza de texto\n",
    "Usamos Spacy para separar el texto en tokens y mantener sólo las palabras importantes, dejando su lema (opcional) en minúsculas"
   ]
  },
  {
   "cell_type": "code",
   "execution_count": 4,
   "metadata": {},
   "outputs": [],
   "source": [
    "import re, string, spacy\n",
    "nlp=spacy.load('es_core_news_md')\n",
    "\n",
    "pattern2 = re.compile('[{}]'.format(re.escape(string.punctuation))) #elimina símbolos de puntuación\n",
    "\n",
    "def clean_text(text, lemas=False):\n",
    "    \"\"\"Limpiamos las menciones y URL del texto. Luego convertimos en tokens\n",
    "    y eliminamos signos de puntuación.\n",
    "    Si lemas=True extraemos el lema, si no dejamos en minúsculas solamente.\n",
    "    Como salida volvemos a convertir los tokens en cadena de texto\"\"\"\n",
    "    text = re.sub(r'@[\\w_]+|https?://[\\w_./]+', '', text) #elimina menciones y URL\n",
    "    tokens = nlp(text)\n",
    "    tokens = [tok.lemma_.lower() if lemas else tok.lower_ for tok in tokens if not tok.is_punct]\n",
    "    filtered_tokens = [pattern2.sub('', tok) for tok in tokens] #no quitamos stop-words\n",
    "    filtered_text = ' '.join(filtered_tokens)\n",
    "    \n",
    "    return filtered_text\n",
    "    "
   ]
  },
  {
   "attachments": {},
   "cell_type": "markdown",
   "metadata": {},
   "source": [
    "## Preparamos el conjunto de datos\n",
    "Convertimos el texto en *tokens* y asignamos una ID numérica a cada token.  \n",
    "Convertimos a secuencias de longitud fija.  \n",
    "La longitud de la secuencia viene dada por la longitud en tokens del tweet más largo. Sólo se conservan los tokens de las palabras en el vocabulario."
   ]
  },
  {
   "cell_type": "code",
   "execution_count": 5,
   "metadata": {},
   "outputs": [],
   "source": [
    "#limpiamos texto y quitamos tweets que se han quedado vacíos\n",
    "df.content=df.content.apply(clean_text, lemas=True)\n",
    "df = df[df['content']!='']\n",
    "\n",
    "#el conjunto de salida es la polaridad, hay que convertir a numérico para Keras\n",
    "#codificamos 'P' como 1 y 'N' se queda como 0\n",
    "Y=(df.polarity=='P').values*1\n",
    "\n",
    "#Separamos entrenamiento y test\n",
    "tweets_train, tweets_test, Y_train, Y_test = train_test_split(df.content,Y,\n",
    "    test_size = 0.3,\n",
    "    random_state = 0)"
   ]
  },
  {
   "cell_type": "code",
   "execution_count": 6,
   "metadata": {},
   "outputs": [
    {
     "data": {
      "text/plain": [
       "1014"
      ]
     },
     "execution_count": 6,
     "metadata": {},
     "output_type": "execute_result"
    }
   ],
   "source": [
    "len(tweets_train)"
   ]
  },
  {
   "cell_type": "code",
   "execution_count": 7,
   "metadata": {},
   "outputs": [
    {
     "data": {
      "text/plain": [
       "884                                                                                                salir   para zaragoza   fin de semana único\n",
       "1866                                                joder pobre hombre estar oprimido por mujer que él obligar a afeitar él \\n justice4hombres\n",
       "563                                                                        no a el agresión sexista durante y después de el fiestas   sangüesa\n",
       "1547                                          callar que yo estar ahora en mi día libre y el hora él pasar más rápido que poner copa en el bar\n",
       "915     desde que haber volver a mi casa él llevar todo bien porque cada vez que pasar algo yo echar el culpa a yo y él quedar tanto tranquilo\n",
       "Name: content, dtype: object"
      ]
     },
     "execution_count": 7,
     "metadata": {},
     "output_type": "execute_result"
    }
   ],
   "source": [
    "tweets_train.head(5)"
   ]
  },
  {
   "cell_type": "code",
   "execution_count": 8,
   "metadata": {},
   "outputs": [
    {
     "name": "stdout",
     "output_type": "stream",
     "text": [
      "Número de tokens distintos: 3220\n"
     ]
    }
   ],
   "source": [
    "tokenizer = Tokenizer(split=' ')\n",
    "tokenizer.fit_on_texts(tweets_train.values)\n",
    "X_train = tokenizer.texts_to_sequences(tweets_train.values)\n",
    "X_train = pad_sequences(X_train, padding='post')\n",
    "word_index = tokenizer.word_index\n",
    "print(f'Número de tokens distintos: {len(word_index)}')\n",
    "MAX_SEQUENCE_LENGTH = X_train.shape[1]\n",
    "max_features = len(word_index)+1\n",
    "X_test = tokenizer.texts_to_sequences(tweets_test.values)\n",
    "X_test = pad_sequences(X_test, padding='post', maxlen=MAX_SEQUENCE_LENGTH)"
   ]
  },
  {
   "cell_type": "code",
   "execution_count": 9,
   "metadata": {},
   "outputs": [
    {
     "data": {
      "text/plain": [
       "(1014, 33)"
      ]
     },
     "execution_count": 9,
     "metadata": {},
     "output_type": "execute_result"
    }
   ],
   "source": [
    "X_train.shape"
   ]
  },
  {
   "cell_type": "code",
   "execution_count": 10,
   "metadata": {},
   "outputs": [
    {
     "data": {
      "text/plain": [
       "array([  72,   25, 1068,  168,    3,  132,  142,    0,    0,    0,    0,\n",
       "          0,    0,    0,    0,    0,    0,    0,    0,    0,    0,    0,\n",
       "          0,    0,    0,    0,    0,    0,    0,    0,    0,    0,    0],\n",
       "      dtype=int32)"
      ]
     },
     "execution_count": 10,
     "metadata": {},
     "output_type": "execute_result"
    }
   ],
   "source": [
    "X_train[0]"
   ]
  },
  {
   "cell_type": "code",
   "execution_count": 11,
   "metadata": {},
   "outputs": [
    {
     "data": {
      "text/plain": [
       "'salir   para zaragoza   fin de semana único'"
      ]
     },
     "execution_count": 11,
     "metadata": {},
     "output_type": "execute_result"
    }
   ],
   "source": [
    "tweets_train.values[0]"
   ]
  },
  {
   "cell_type": "code",
   "execution_count": 12,
   "metadata": {},
   "outputs": [
    {
     "data": {
      "text/plain": [
       "1014"
      ]
     },
     "execution_count": 12,
     "metadata": {},
     "output_type": "execute_result"
    }
   ],
   "source": [
    "tokenizer.document_count"
   ]
  },
  {
   "cell_type": "code",
   "execution_count": 13,
   "metadata": {},
   "outputs": [
    {
     "data": {
      "text/plain": [
       "'mundo'"
      ]
     },
     "execution_count": 13,
     "metadata": {},
     "output_type": "execute_result"
    }
   ],
   "source": [
    "tokenizer.index_word[130]"
   ]
  },
  {
   "cell_type": "code",
   "execution_count": 14,
   "metadata": {},
   "outputs": [
    {
     "data": {
      "text/plain": [
       "165"
      ]
     },
     "execution_count": 14,
     "metadata": {},
     "output_type": "execute_result"
    }
   ],
   "source": [
    "tokenizer.word_index['claro']"
   ]
  },
  {
   "cell_type": "code",
   "execution_count": 15,
   "metadata": {},
   "outputs": [
    {
     "name": "stdout",
     "output_type": "stream",
     "text": [
      "(1014, 33) (1014,)\n",
      "(435, 33) (435,)\n"
     ]
    }
   ],
   "source": [
    "print(X_train.shape,Y_train.shape)\n",
    "print(X_test.shape,Y_test.shape)"
   ]
  },
  {
   "attachments": {},
   "cell_type": "markdown",
   "metadata": {},
   "source": [
    "## Word embeddins propios\n",
    "Entrenamos una capa de embedding para aprender los WE con los textos de nuestro problema."
   ]
  },
  {
   "cell_type": "code",
   "execution_count": 16,
   "metadata": {},
   "outputs": [
    {
     "name": "stdout",
     "output_type": "stream",
     "text": [
      "Model: \"sequential\"\n",
      "_________________________________________________________________\n",
      " Layer (type)                Output Shape              Param #   \n",
      "=================================================================\n",
      " embedding (Embedding)       (None, 33, 50)            161050    \n",
      "                                                                 \n",
      " dropout (Dropout)           (None, 33, 50)            0         \n",
      "                                                                 \n",
      " conv1d (Conv1D)             (None, 31, 64)            9664      \n",
      "                                                                 \n",
      " global_max_pooling1d (Globa  (None, 64)               0         \n",
      " lMaxPooling1D)                                                  \n",
      "                                                                 \n",
      " dense (Dense)               (None, 1)                 65        \n",
      "                                                                 \n",
      " activation (Activation)     (None, 1)                 0         \n",
      "                                                                 \n",
      "=================================================================\n",
      "Total params: 170,779\n",
      "Trainable params: 170,779\n",
      "Non-trainable params: 0\n",
      "_________________________________________________________________\n",
      "None\n"
     ]
    }
   ],
   "source": [
    "#Creamos el modelo CNN en Keras\n",
    "#Usamos como referencia el ejemplo de Keras: https://github.com/keras-team/keras/blob/master/examples/imdb_cnn.py\n",
    "#pero quitamos la capa oculta intermedia para simplificar el modelo y dejarlo como en el artículo\n",
    "\n",
    "#Parámetros de la red\n",
    "embed_dim = 50\n",
    "filters = 64\n",
    "kernel_size = 3\n",
    "\n",
    "model = Sequential()\n",
    "model.add(Embedding(max_features, embed_dim, input_length = MAX_SEQUENCE_LENGTH))\n",
    "model.add(Dropout(0.2))\n",
    "\n",
    "# añadimos una capa de convolución 1D que aprende\n",
    "# filtros de grupos de palabras de tamaño kernel_size\n",
    "model.add(Conv1D(filters,\n",
    "                 kernel_size,\n",
    "                 padding='valid',\n",
    "                 activation='relu',\n",
    "                 strides=1))\n",
    "\n",
    "# calculamos el max pooling:\n",
    "model.add(GlobalMaxPooling1D())\n",
    "\n",
    "# conectamos a una capa de salida de una unidad con activación sigmoide\n",
    "model.add(Dense(1))\n",
    "model.add(Activation('sigmoid'))\n",
    "\n",
    "# compilamos el modelo\n",
    "model.compile(loss='binary_crossentropy',\n",
    "              optimizer='adam',\n",
    "              metrics=['accuracy'])\n",
    "print(model.summary())"
   ]
  },
  {
   "attachments": {},
   "cell_type": "markdown",
   "metadata": {},
   "source": [
    "### Pregunta:\n",
    "¿de dónde vienen los tamaños de los parámetros de cada capa?"
   ]
  },
  {
   "cell_type": "code",
   "execution_count": 20,
   "metadata": {},
   "outputs": [
    {
     "name": "stdout",
     "output_type": "stream",
     "text": [
      "Embedding: 161050\n",
      "Embedding: 9600 + 64 (bias)\n",
      "Dense: 64 + 1 (bias)\n"
     ]
    }
   ],
   "source": [
    "print(f'Embedding: {max_features*embed_dim}')\n",
    "print(f'Embedding: {filters*kernel_size*embed_dim} + 64 (bias)')\n",
    "print(f'Dense: {filters} + 1 (bias)')\n"
   ]
  },
  {
   "cell_type": "markdown",
   "metadata": {},
   "source": [
    "#solución\n",
    "\n"
   ]
  },
  {
   "cell_type": "code",
   "execution_count": 21,
   "metadata": {},
   "outputs": [
    {
     "name": "stdout",
     "output_type": "stream",
     "text": [
      "Epoch 1/20\n",
      "64/64 - 2s - loss: 0.6795 - accuracy: 0.5730 - val_loss: 0.6615 - val_accuracy: 0.5954 - 2s/epoch - 30ms/step\n",
      "Epoch 2/20\n",
      "64/64 - 0s - loss: 0.6452 - accuracy: 0.5927 - val_loss: 0.6235 - val_accuracy: 0.6345 - 445ms/epoch - 7ms/step\n",
      "Epoch 3/20\n",
      "64/64 - 1s - loss: 0.5781 - accuracy: 0.7702 - val_loss: 0.5823 - val_accuracy: 0.7448 - 503ms/epoch - 8ms/step\n",
      "Epoch 4/20\n",
      "64/64 - 0s - loss: 0.4512 - accuracy: 0.8708 - val_loss: 0.5302 - val_accuracy: 0.7264 - 458ms/epoch - 7ms/step\n",
      "Epoch 5/20\n",
      "64/64 - 1s - loss: 0.2806 - accuracy: 0.9191 - val_loss: 0.5216 - val_accuracy: 0.7471 - 506ms/epoch - 8ms/step\n",
      "Epoch 6/20\n",
      "64/64 - 0s - loss: 0.1524 - accuracy: 0.9744 - val_loss: 0.5888 - val_accuracy: 0.7218 - 433ms/epoch - 7ms/step\n",
      "Epoch 7/20\n",
      "64/64 - 1s - loss: 0.0789 - accuracy: 0.9911 - val_loss: 0.6459 - val_accuracy: 0.7264 - 683ms/epoch - 11ms/step\n",
      "Epoch 8/20\n",
      "64/64 - 1s - loss: 0.0405 - accuracy: 0.9951 - val_loss: 0.6765 - val_accuracy: 0.7471 - 614ms/epoch - 10ms/step\n",
      "Epoch 9/20\n",
      "64/64 - 1s - loss: 0.0216 - accuracy: 1.0000 - val_loss: 0.7276 - val_accuracy: 0.7379 - 660ms/epoch - 10ms/step\n",
      "Epoch 10/20\n",
      "64/64 - 1s - loss: 0.0138 - accuracy: 1.0000 - val_loss: 0.7558 - val_accuracy: 0.7448 - 658ms/epoch - 10ms/step\n",
      "Epoch 11/20\n",
      "64/64 - 1s - loss: 0.0100 - accuracy: 1.0000 - val_loss: 0.8061 - val_accuracy: 0.7356 - 713ms/epoch - 11ms/step\n",
      "Epoch 12/20\n",
      "64/64 - 1s - loss: 0.0069 - accuracy: 1.0000 - val_loss: 0.8251 - val_accuracy: 0.7402 - 645ms/epoch - 10ms/step\n",
      "Epoch 13/20\n",
      "64/64 - 0s - loss: 0.0049 - accuracy: 1.0000 - val_loss: 0.8727 - val_accuracy: 0.7379 - 490ms/epoch - 8ms/step\n",
      "Epoch 14/20\n",
      "64/64 - 1s - loss: 0.0041 - accuracy: 1.0000 - val_loss: 0.8922 - val_accuracy: 0.7379 - 521ms/epoch - 8ms/step\n",
      "Epoch 15/20\n",
      "64/64 - 1s - loss: 0.0036 - accuracy: 1.0000 - val_loss: 0.9155 - val_accuracy: 0.7356 - 626ms/epoch - 10ms/step\n",
      "Epoch 16/20\n",
      "64/64 - 0s - loss: 0.0025 - accuracy: 1.0000 - val_loss: 0.9401 - val_accuracy: 0.7333 - 463ms/epoch - 7ms/step\n",
      "Epoch 17/20\n",
      "64/64 - 0s - loss: 0.0021 - accuracy: 1.0000 - val_loss: 0.9581 - val_accuracy: 0.7287 - 382ms/epoch - 6ms/step\n",
      "Epoch 18/20\n",
      "64/64 - 1s - loss: 0.0016 - accuracy: 1.0000 - val_loss: 0.9693 - val_accuracy: 0.7310 - 513ms/epoch - 8ms/step\n",
      "Epoch 19/20\n",
      "64/64 - 0s - loss: 0.0016 - accuracy: 1.0000 - val_loss: 0.9925 - val_accuracy: 0.7310 - 488ms/epoch - 8ms/step\n",
      "Epoch 20/20\n",
      "64/64 - 0s - loss: 0.0013 - accuracy: 1.0000 - val_loss: 1.0081 - val_accuracy: 0.7264 - 453ms/epoch - 7ms/step\n"
     ]
    }
   ],
   "source": [
    "batch_size = 16\n",
    "history = model.fit(X_train, Y_train, epochs=20, batch_size=batch_size, verbose=2, validation_data=(X_test, Y_test))"
   ]
  },
  {
   "cell_type": "code",
   "execution_count": 22,
   "metadata": {},
   "outputs": [
    {
     "data": {
      "image/png": "[encoded data removed]",
      "text/plain": [
       "<Figure size 640x480 with 1 Axes>"
      ]
     },
     "metadata": {},
     "output_type": "display_data"
    }
   ],
   "source": [
    "# Plot training & validation accuracy values\n",
    "plt.plot(history.history['accuracy'])\n",
    "plt.plot(history.history['val_accuracy'])\n",
    "plt.title('WE propios')\n",
    "plt.ylabel('Accuracy')\n",
    "plt.xlabel('Epoch')\n",
    "plt.legend(['Train', 'Test'], loc='upper left')\n",
    "plt.show()"
   ]
  },
  {
   "cell_type": "code",
   "execution_count": 23,
   "metadata": {},
   "outputs": [],
   "source": [
    "#los word embeddings aprendidos son los pesos de la primera capa\n",
    "embeddings=model.get_weights()[0]"
   ]
  },
  {
   "cell_type": "code",
   "execution_count": 24,
   "metadata": {},
   "outputs": [
    {
     "data": {
      "text/plain": [
       "(3221, 50)"
      ]
     },
     "execution_count": 24,
     "metadata": {},
     "output_type": "execute_result"
    }
   ],
   "source": [
    "embeddings.shape"
   ]
  },
  {
   "cell_type": "code",
   "execution_count": 25,
   "metadata": {},
   "outputs": [
    {
     "data": {
      "text/plain": [
       "'pero'"
      ]
     },
     "execution_count": 25,
     "metadata": {},
     "output_type": "execute_result"
    }
   ],
   "source": [
    "tokenizer.index_word[15]"
   ]
  },
  {
   "cell_type": "code",
   "execution_count": 26,
   "metadata": {},
   "outputs": [
    {
     "data": {
      "text/plain": [
       "array([-0.01301138, -0.00908576,  0.00078868, -0.02144798, -0.02604739,\n",
       "       -0.02860799, -0.02913709,  0.0341679 ,  0.04044621,  0.00381141,\n",
       "        0.03467025, -0.04894548,  0.00342609,  0.08879347,  0.09360139,\n",
       "        0.04258834,  0.02404998,  0.00775098,  0.07161411, -0.10004772,\n",
       "       -0.02048737, -0.069721  , -0.11125509, -0.01388593, -0.01602354,\n",
       "       -0.01894629, -0.14559394,  0.07290064, -0.04107955,  0.08717999,\n",
       "       -0.00121627,  0.06113689,  0.04793368,  0.08316692,  0.02464296,\n",
       "        0.04007035,  0.03175807, -0.06846772,  0.03649272, -0.04532928,\n",
       "        0.10285844, -0.02075255, -0.10989614,  0.07148091,  0.05220297,\n",
       "       -0.0364974 , -0.04047771, -0.05142573, -0.02318121,  0.04427943],\n",
       "      dtype=float32)"
      ]
     },
     "execution_count": 26,
     "metadata": {},
     "output_type": "execute_result"
    }
   ],
   "source": [
    "embeddings[15]"
   ]
  },
  {
   "cell_type": "code",
   "execution_count": 27,
   "metadata": {},
   "outputs": [
    {
     "data": {
      "text/plain": [
       "40"
      ]
     },
     "execution_count": 27,
     "metadata": {},
     "output_type": "execute_result"
    }
   ],
   "source": [
    "word_index['querer']"
   ]
  },
  {
   "cell_type": "code",
   "execution_count": 28,
   "metadata": {},
   "outputs": [
    {
     "data": {
      "text/plain": [
       "420"
      ]
     },
     "execution_count": 28,
     "metadata": {},
     "output_type": "execute_result"
    }
   ],
   "source": [
    "word_index['fácil']"
   ]
  },
  {
   "cell_type": "code",
   "execution_count": 29,
   "metadata": {},
   "outputs": [
    {
     "data": {
      "text/plain": [
       "317"
      ]
     },
     "execution_count": 29,
     "metadata": {},
     "output_type": "execute_result"
    }
   ],
   "source": [
    "word_index['morir']"
   ]
  },
  {
   "cell_type": "code",
   "execution_count": 30,
   "metadata": {},
   "outputs": [
    {
     "data": {
      "text/plain": [
       "array([[ 0.9999999 ,  0.158616  , -0.14041814],\n",
       "       [ 0.158616  ,  0.99999994,  0.28517097],\n",
       "       [-0.14041814,  0.28517097,  0.99999994]], dtype=float32)"
      ]
     },
     "execution_count": 30,
     "metadata": {},
     "output_type": "execute_result"
    }
   ],
   "source": [
    "from sklearn.metrics.pairwise import cosine_similarity\n",
    "\n",
    "cosine_similarity([embeddings[word_index['querer']], embeddings[word_index['fácil']], embeddings[word_index['morir']]])"
   ]
  },
  {
   "cell_type": "code",
   "execution_count": 31,
   "metadata": {},
   "outputs": [
    {
     "data": {
      "text/plain": [
       "array([[ 0.99999976,  0.44533116,  0.34367532],\n",
       "       [ 0.44533116,  1.        , -0.04046382],\n",
       "       [ 0.34367532, -0.04046382,  1.        ]], dtype=float32)"
      ]
     },
     "execution_count": 31,
     "metadata": {},
     "output_type": "execute_result"
    }
   ],
   "source": [
    "cosine_similarity([nlp.vocab['querer'].vector, nlp.vocab['fácil'].vector, nlp.vocab['morir'].vector])"
   ]
  },
  {
   "cell_type": "code",
   "execution_count": 32,
   "metadata": {},
   "outputs": [
    {
     "name": "stdout",
     "output_type": "stream",
     "text": [
      "28/28 - 0s - loss: 1.0081 - accuracy: 0.7264 - 86ms/epoch - 3ms/step\n",
      "score: 1.01\n",
      "acc: 0.73\n"
     ]
    }
   ],
   "source": [
    "score,acc = model.evaluate(X_test, Y_test, verbose = 2, batch_size = batch_size)\n",
    "print(\"score: %.2f\" % (score))\n",
    "print(\"acc: %.2f\" % (acc))"
   ]
  },
  {
   "cell_type": "code",
   "execution_count": 33,
   "metadata": {},
   "outputs": [
    {
     "name": "stdout",
     "output_type": "stream",
     "text": [
      "435/435 [==============================] - 1s 2ms/step\n",
      "              precision    recall  f1-score   support\n",
      "\n",
      "           N       0.83      0.68      0.75       259\n",
      "           P       0.63      0.79      0.70       176\n",
      "\n",
      "    accuracy                           0.73       435\n",
      "   macro avg       0.73      0.74      0.72       435\n",
      "weighted avg       0.75      0.73      0.73       435\n",
      "\n"
     ]
    }
   ],
   "source": [
    "predict=model.predict(X_test, batch_size=1)\n",
    "prediccion=(predict>0.5).tolist()\n",
    "\n",
    "from sklearn.metrics import classification_report\n",
    "\n",
    "print(classification_report(Y_test, prediccion, target_names=['N','P']))"
   ]
  },
  {
   "attachments": {},
   "cell_type": "markdown",
   "metadata": {},
   "source": [
    "## Word embeddings de spaCy\n",
    "Aplicamos Transfer Learning usando los embeddings GloVe incluidos en el modelo de spaCy."
   ]
  },
  {
   "cell_type": "code",
   "execution_count": 34,
   "metadata": {},
   "outputs": [
    {
     "name": "stdout",
     "output_type": "stream",
     "text": [
      "Cargados 2790 vectores en la matriz\n"
     ]
    }
   ],
   "source": [
    "nlp=spacy.load('es_core_news_md')\n",
    "#Rellenamos los vectores con el valor en spaCy para nuestro vocabulario\n",
    "EMBEDDING_DIM = nlp.vocab.vectors_length\n",
    "embedding_matrix = np.random.rand(max_features, EMBEDDING_DIM)-0.5\n",
    "#embedding_matrix = np.zeros((max_features, EMBEDDING_DIM))\n",
    "n = 0\n",
    "for word, i in word_index.items():\n",
    "    if(i>max_features):\n",
    "        break\n",
    "    if nlp.vocab[word].has_vector:\n",
    "        # las palabras que no están en spaCy serán cero.\n",
    "        embedding_matrix[i] = nlp.vocab[word].vector\n",
    "        n = n + 1\n",
    "print(f\"Cargados {n} vectores en la matriz\")"
   ]
  },
  {
   "cell_type": "code",
   "execution_count": 35,
   "metadata": {},
   "outputs": [
    {
     "data": {
      "text/plain": [
       "(3221, 300)"
      ]
     },
     "execution_count": 35,
     "metadata": {},
     "output_type": "execute_result"
    }
   ],
   "source": [
    "embedding_matrix.shape"
   ]
  },
  {
   "cell_type": "code",
   "execution_count": 36,
   "metadata": {},
   "outputs": [
    {
     "name": "stdout",
     "output_type": "stream",
     "text": [
      "Model: \"sequential_1\"\n",
      "_________________________________________________________________\n",
      " Layer (type)                Output Shape              Param #   \n",
      "=================================================================\n",
      " embedding_1 (Embedding)     (None, 33, 300)           966300    \n",
      "                                                                 \n",
      " dropout_1 (Dropout)         (None, 33, 300)           0         \n",
      "                                                                 \n",
      " conv1d_1 (Conv1D)           (None, 31, 64)            57664     \n",
      "                                                                 \n",
      " global_max_pooling1d_1 (Glo  (None, 64)               0         \n",
      " balMaxPooling1D)                                                \n",
      "                                                                 \n",
      " dense_1 (Dense)             (None, 1)                 65        \n",
      "                                                                 \n",
      "=================================================================\n",
      "Total params: 1,024,029\n",
      "Trainable params: 1,024,029\n",
      "Non-trainable params: 0\n",
      "_________________________________________________________________\n",
      "None\n"
     ]
    }
   ],
   "source": [
    "#Creamos el modelo CNN en Keras\n",
    "\n",
    "#parámetros de la red\n",
    "filters = 64\n",
    "kernel_size = 3\n",
    "\n",
    "embedding_layer = Embedding(max_features,\n",
    "                            EMBEDDING_DIM,\n",
    "                            weights=[embedding_matrix],\n",
    "                            input_length=MAX_SEQUENCE_LENGTH,\n",
    "                            trainable=True)\n",
    "\n",
    "model = Sequential()\n",
    "model.add(embedding_layer)\n",
    "model.add(Dropout(0.2))\n",
    "model.add(Conv1D(filters,\n",
    "                 kernel_size,\n",
    "                 padding='valid',\n",
    "                 activation='relu',\n",
    "                 strides=1))\n",
    "model.add(GlobalMaxPooling1D())\n",
    "model.add(Dense(1, activation='sigmoid'))\n",
    "\n",
    "model.compile(loss='binary_crossentropy', optimizer='adam', metrics=['accuracy'])\n",
    "print(model.summary())"
   ]
  },
  {
   "cell_type": "code",
   "execution_count": 37,
   "metadata": {},
   "outputs": [
    {
     "name": "stdout",
     "output_type": "stream",
     "text": [
      "Epoch 1/20\n",
      "64/64 - 4s - loss: 1.8089 - accuracy: 0.5740 - val_loss: 1.3545 - val_accuracy: 0.6897 - 4s/epoch - 63ms/step\n",
      "Epoch 2/20\n",
      "64/64 - 1s - loss: 1.1500 - accuracy: 0.7002 - val_loss: 1.0171 - val_accuracy: 0.6713 - 1s/epoch - 20ms/step\n",
      "Epoch 3/20\n",
      "64/64 - 1s - loss: 0.7013 - accuracy: 0.7890 - val_loss: 1.0348 - val_accuracy: 0.6943 - 1s/epoch - 21ms/step\n",
      "Epoch 4/20\n",
      "64/64 - 1s - loss: 0.4974 - accuracy: 0.8284 - val_loss: 1.2277 - val_accuracy: 0.6966 - 1s/epoch - 21ms/step\n",
      "Epoch 5/20\n",
      "64/64 - 2s - loss: 0.5301 - accuracy: 0.8304 - val_loss: 1.0263 - val_accuracy: 0.7195 - 2s/epoch - 25ms/step\n",
      "Epoch 6/20\n",
      "64/64 - 1s - loss: 0.3885 - accuracy: 0.8698 - val_loss: 1.1946 - val_accuracy: 0.7172 - 1s/epoch - 21ms/step\n",
      "Epoch 7/20\n",
      "64/64 - 1s - loss: 0.4266 - accuracy: 0.8609 - val_loss: 1.2958 - val_accuracy: 0.6598 - 1s/epoch - 22ms/step\n",
      "Epoch 8/20\n",
      "64/64 - 1s - loss: 0.3014 - accuracy: 0.8905 - val_loss: 1.1162 - val_accuracy: 0.7126 - 1s/epoch - 21ms/step\n",
      "Epoch 9/20\n",
      "64/64 - 1s - loss: 0.2067 - accuracy: 0.9142 - val_loss: 1.1551 - val_accuracy: 0.6874 - 1s/epoch - 22ms/step\n",
      "Epoch 10/20\n",
      "64/64 - 1s - loss: 0.1987 - accuracy: 0.9250 - val_loss: 1.1180 - val_accuracy: 0.7287 - 1s/epoch - 20ms/step\n",
      "Epoch 11/20\n",
      "64/64 - 1s - loss: 0.1693 - accuracy: 0.9300 - val_loss: 1.1806 - val_accuracy: 0.7103 - 1s/epoch - 20ms/step\n",
      "Epoch 12/20\n",
      "64/64 - 1s - loss: 0.1475 - accuracy: 0.9487 - val_loss: 1.1385 - val_accuracy: 0.7011 - 1s/epoch - 19ms/step\n",
      "Epoch 13/20\n",
      "64/64 - 1s - loss: 0.1256 - accuracy: 0.9507 - val_loss: 1.1258 - val_accuracy: 0.7287 - 1s/epoch - 22ms/step\n",
      "Epoch 14/20\n",
      "64/64 - 1s - loss: 0.0914 - accuracy: 0.9606 - val_loss: 1.3440 - val_accuracy: 0.7034 - 1s/epoch - 20ms/step\n",
      "Epoch 15/20\n",
      "64/64 - 1s - loss: 0.1248 - accuracy: 0.9556 - val_loss: 1.2597 - val_accuracy: 0.7034 - 1s/epoch - 20ms/step\n",
      "Epoch 16/20\n",
      "64/64 - 1s - loss: 0.0960 - accuracy: 0.9655 - val_loss: 1.1733 - val_accuracy: 0.7241 - 1s/epoch - 20ms/step\n",
      "Epoch 17/20\n",
      "64/64 - 1s - loss: 0.0729 - accuracy: 0.9744 - val_loss: 1.2139 - val_accuracy: 0.7103 - 1s/epoch - 20ms/step\n",
      "Epoch 18/20\n",
      "64/64 - 1s - loss: 0.0551 - accuracy: 0.9832 - val_loss: 1.2055 - val_accuracy: 0.6943 - 1s/epoch - 21ms/step\n",
      "Epoch 19/20\n",
      "64/64 - 1s - loss: 0.0510 - accuracy: 0.9813 - val_loss: 1.1806 - val_accuracy: 0.7241 - 1s/epoch - 20ms/step\n",
      "Epoch 20/20\n",
      "64/64 - 1s - loss: 0.0590 - accuracy: 0.9753 - val_loss: 1.2142 - val_accuracy: 0.7195 - 1s/epoch - 23ms/step\n"
     ]
    }
   ],
   "source": [
    "batch_size = 16\n",
    "history = model.fit(X_train, Y_train, epochs=20, batch_size=batch_size, verbose=2, validation_data=(X_test, Y_test))"
   ]
  },
  {
   "cell_type": "code",
   "execution_count": 38,
   "metadata": {},
   "outputs": [
    {
     "data": {
      "image/png": "[encoded data removed]",
      "text/plain": [
       "<Figure size 640x480 with 1 Axes>"
      ]
     },
     "metadata": {},
     "output_type": "display_data"
    }
   ],
   "source": [
    "# Plot training & validation accuracy values\n",
    "plt.plot(history.history['accuracy'])\n",
    "plt.plot(history.history['val_accuracy'])\n",
    "plt.title('TL con WE spaCy')\n",
    "plt.ylabel('Accuracy')\n",
    "plt.xlabel('Epoch')\n",
    "plt.legend(['Train', 'Test'], loc='upper left')\n",
    "plt.show()"
   ]
  },
  {
   "cell_type": "code",
   "execution_count": 39,
   "metadata": {},
   "outputs": [
    {
     "name": "stdout",
     "output_type": "stream",
     "text": [
      "28/28 - 0s - loss: 1.2142 - accuracy: 0.7195 - 132ms/epoch - 5ms/step\n",
      "score: 1.21\n",
      "acc: 0.72\n"
     ]
    }
   ],
   "source": [
    "score,acc = model.evaluate(X_test, Y_test, verbose = 2, batch_size = batch_size)\n",
    "print(\"score: %.2f\" % (score))\n",
    "print(\"acc: %.2f\" % (acc))"
   ]
  },
  {
   "cell_type": "code",
   "execution_count": 40,
   "metadata": {},
   "outputs": [
    {
     "name": "stdout",
     "output_type": "stream",
     "text": [
      "435/435 [==============================] - 1s 3ms/step\n",
      "              precision    recall  f1-score   support\n",
      "\n",
      "           N       0.74      0.81      0.77       259\n",
      "           P       0.68      0.59      0.63       176\n",
      "\n",
      "    accuracy                           0.72       435\n",
      "   macro avg       0.71      0.70      0.70       435\n",
      "weighted avg       0.72      0.72      0.72       435\n",
      "\n"
     ]
    }
   ],
   "source": [
    "predict=model.predict(X_test, batch_size=1)\n",
    "prediccion=(predict>0.5).tolist()\n",
    "\n",
    "from sklearn.metrics import classification_report\n",
    "\n",
    "print(classification_report(Y_test, prediccion, target_names=['N','P']))"
   ]
  },
  {
   "attachments": {},
   "cell_type": "markdown",
   "metadata": {},
   "source": [
    "### Word embeddings de FastText\n",
    "Podemos usar cualquier conjunto de *word embeddings* con el formato `KeyedVectors` de Gensim para hacer Transfer Learning.  \n",
    "WE descargados desde https://fasttext.cc/docs/en/crawl-vectors.html"
   ]
  },
  {
   "cell_type": "code",
   "execution_count": 43,
   "metadata": {},
   "outputs": [
    {
     "name": "stdout",
     "output_type": "stream",
     "text": [
      "Cargados 2420 vectores en la matriz\n"
     ]
    }
   ],
   "source": [
    "from gensim.models.keyedvectors import KeyedVectors\n",
    "#https://github.com/mquezada/starsconf2018-word-embeddings\n",
    "modelWE = KeyedVectors.load_word2vec_format('../../1_Funtamentos/Notebooks_P3/fasttext-sbwc.100k.vec')\n",
    "\n",
    "EMBEDDING_DIM = modelWE.vector_size\n",
    "\n",
    "#embedding_matrix = np.zeros((max_features, EMBEDDING_DIM))\n",
    "embedding_matrix = np.random.rand(max_features, EMBEDDING_DIM)-0.5\n",
    "\n",
    "vectores = 0\n",
    "for word, i in word_index.items():\n",
    "    if(i<max_features):\n",
    "        try:\n",
    "            embedding_vector = modelWE[word]\n",
    "            vectores += 1\n",
    "        except:\n",
    "            embedding_vector = np.zeros(EMBEDDING_DIM)\n",
    "            # words not found in embedding index will be all-zeros.\n",
    "        embedding_matrix[i] = embedding_vector\n",
    "        \n",
    "print(f\"Cargados {vectores} vectores en la matriz\")"
   ]
  },
  {
   "cell_type": "code",
   "execution_count": 44,
   "metadata": {},
   "outputs": [
    {
     "data": {
      "text/plain": [
       "(3221, 300)"
      ]
     },
     "execution_count": 44,
     "metadata": {},
     "output_type": "execute_result"
    }
   ],
   "source": [
    "embedding_matrix.shape"
   ]
  },
  {
   "cell_type": "code",
   "execution_count": 45,
   "metadata": {},
   "outputs": [
    {
     "data": {
      "text/plain": [
       "array([[1.0000001 , 0.42363524, 0.44136155],\n",
       "       [0.42363524, 1.        , 0.22116598],\n",
       "       [0.44136155, 0.22116598, 0.99999976]], dtype=float32)"
      ]
     },
     "execution_count": 45,
     "metadata": {},
     "output_type": "execute_result"
    }
   ],
   "source": [
    "cosine_similarity([modelWE['querer'], modelWE['fácil'], modelWE['morir']])"
   ]
  },
  {
   "cell_type": "code",
   "execution_count": 46,
   "metadata": {},
   "outputs": [
    {
     "name": "stdout",
     "output_type": "stream",
     "text": [
      "Model: \"sequential_2\"\n",
      "_________________________________________________________________\n",
      " Layer (type)                Output Shape              Param #   \n",
      "=================================================================\n",
      " embedding_2 (Embedding)     (None, 33, 300)           966300    \n",
      "                                                                 \n",
      " dropout_2 (Dropout)         (None, 33, 300)           0         \n",
      "                                                                 \n",
      " conv1d_2 (Conv1D)           (None, 31, 64)            57664     \n",
      "                                                                 \n",
      " global_max_pooling1d_2 (Glo  (None, 64)               0         \n",
      " balMaxPooling1D)                                                \n",
      "                                                                 \n",
      " dense_2 (Dense)             (None, 1)                 65        \n",
      "                                                                 \n",
      "=================================================================\n",
      "Total params: 1,024,029\n",
      "Trainable params: 1,024,029\n",
      "Non-trainable params: 0\n",
      "_________________________________________________________________\n",
      "None\n"
     ]
    }
   ],
   "source": [
    "#Creamos el modelo CNN en Keras\n",
    "\n",
    "#parámetros de la red\n",
    "filters = 64\n",
    "kernel_size = 3\n",
    "\n",
    "embedding_layer = Embedding(max_features,\n",
    "                            EMBEDDING_DIM,\n",
    "                            weights=[embedding_matrix],\n",
    "                            input_length=MAX_SEQUENCE_LENGTH,\n",
    "                            trainable=True)\n",
    "\n",
    "model = Sequential()\n",
    "model.add(embedding_layer)\n",
    "model.add(Dropout(0.2))\n",
    "model.add(Conv1D(filters,\n",
    "                 kernel_size,\n",
    "                 padding='valid',\n",
    "                 activation='relu',\n",
    "                 strides=1))\n",
    "model.add(GlobalMaxPooling1D())\n",
    "model.add(Dense(1, activation='sigmoid'))\n",
    "\n",
    "model.compile(loss='binary_crossentropy', optimizer='adam', metrics=['accuracy'])\n",
    "print(model.summary())"
   ]
  },
  {
   "cell_type": "code",
   "execution_count": 47,
   "metadata": {},
   "outputs": [
    {
     "name": "stdout",
     "output_type": "stream",
     "text": [
      "Epoch 1/20\n",
      "64/64 - 2s - loss: 0.6858 - accuracy: 0.5720 - val_loss: 0.5905 - val_accuracy: 0.7425 - 2s/epoch - 32ms/step\n",
      "Epoch 2/20\n",
      "64/64 - 1s - loss: 0.5032 - accuracy: 0.8037 - val_loss: 0.5326 - val_accuracy: 0.7563 - 1s/epoch - 20ms/step\n",
      "Epoch 3/20\n",
      "64/64 - 1s - loss: 0.3651 - accuracy: 0.8925 - val_loss: 0.4759 - val_accuracy: 0.7701 - 1s/epoch - 20ms/step\n",
      "Epoch 4/20\n",
      "64/64 - 1s - loss: 0.2465 - accuracy: 0.9329 - val_loss: 0.4648 - val_accuracy: 0.7839 - 1s/epoch - 19ms/step\n",
      "Epoch 5/20\n",
      "64/64 - 1s - loss: 0.1519 - accuracy: 0.9773 - val_loss: 0.4678 - val_accuracy: 0.7931 - 1s/epoch - 19ms/step\n",
      "Epoch 6/20\n",
      "64/64 - 1s - loss: 0.0979 - accuracy: 0.9872 - val_loss: 0.4901 - val_accuracy: 0.7793 - 1s/epoch - 17ms/step\n",
      "Epoch 7/20\n",
      "64/64 - 1s - loss: 0.0562 - accuracy: 0.9961 - val_loss: 0.5157 - val_accuracy: 0.7793 - 1s/epoch - 19ms/step\n",
      "Epoch 8/20\n",
      "64/64 - 1s - loss: 0.0371 - accuracy: 1.0000 - val_loss: 0.5450 - val_accuracy: 0.7724 - 1s/epoch - 20ms/step\n",
      "Epoch 9/20\n",
      "64/64 - 1s - loss: 0.0215 - accuracy: 1.0000 - val_loss: 0.5758 - val_accuracy: 0.7632 - 1s/epoch - 22ms/step\n",
      "Epoch 10/20\n",
      "64/64 - 1s - loss: 0.0160 - accuracy: 1.0000 - val_loss: 0.6058 - val_accuracy: 0.7586 - 1s/epoch - 19ms/step\n",
      "Epoch 11/20\n",
      "64/64 - 1s - loss: 0.0122 - accuracy: 1.0000 - val_loss: 0.6284 - val_accuracy: 0.7701 - 1s/epoch - 20ms/step\n",
      "Epoch 12/20\n",
      "64/64 - 1s - loss: 0.0086 - accuracy: 1.0000 - val_loss: 0.6572 - val_accuracy: 0.7655 - 1s/epoch - 19ms/step\n",
      "Epoch 13/20\n",
      "64/64 - 1s - loss: 0.0069 - accuracy: 1.0000 - val_loss: 0.6678 - val_accuracy: 0.7655 - 1s/epoch - 19ms/step\n",
      "Epoch 14/20\n",
      "64/64 - 1s - loss: 0.0053 - accuracy: 1.0000 - val_loss: 0.6859 - val_accuracy: 0.7678 - 1s/epoch - 21ms/step\n",
      "Epoch 15/20\n",
      "64/64 - 1s - loss: 0.0048 - accuracy: 1.0000 - val_loss: 0.6944 - val_accuracy: 0.7678 - 1s/epoch - 20ms/step\n",
      "Epoch 16/20\n",
      "64/64 - 1s - loss: 0.0034 - accuracy: 1.0000 - val_loss: 0.7091 - val_accuracy: 0.7701 - 1s/epoch - 19ms/step\n",
      "Epoch 17/20\n",
      "64/64 - 1s - loss: 0.0033 - accuracy: 1.0000 - val_loss: 0.7253 - val_accuracy: 0.7678 - 1s/epoch - 20ms/step\n",
      "Epoch 18/20\n",
      "64/64 - 1s - loss: 0.0026 - accuracy: 1.0000 - val_loss: 0.7380 - val_accuracy: 0.7701 - 1s/epoch - 19ms/step\n",
      "Epoch 19/20\n",
      "64/64 - 1s - loss: 0.0026 - accuracy: 1.0000 - val_loss: 0.7528 - val_accuracy: 0.7655 - 1s/epoch - 18ms/step\n",
      "Epoch 20/20\n",
      "64/64 - 1s - loss: 0.0021 - accuracy: 1.0000 - val_loss: 0.7652 - val_accuracy: 0.7655 - 1s/epoch - 19ms/step\n"
     ]
    }
   ],
   "source": [
    "batch_size = 16\n",
    "history = model.fit(X_train, Y_train, epochs=20, batch_size=batch_size, verbose=2, validation_data=(X_test, Y_test))"
   ]
  },
  {
   "cell_type": "code",
   "execution_count": 48,
   "metadata": {},
   "outputs": [
    {
     "data": {
      "image/png": "[encoded data removed]",
      "text/plain": [
       "<Figure size 640x480 with 1 Axes>"
      ]
     },
     "metadata": {},
     "output_type": "display_data"
    }
   ],
   "source": [
    "# Plot training & validation accuracy values\n",
    "plt.plot(history.history['accuracy'])\n",
    "plt.plot(history.history['val_accuracy'])\n",
    "plt.title('TL con WE FastText')\n",
    "plt.ylabel('Accuracy')\n",
    "plt.xlabel('Epoch')\n",
    "plt.legend(['Train', 'Test'], loc='upper left')\n",
    "plt.show()"
   ]
  },
  {
   "cell_type": "code",
   "execution_count": 49,
   "metadata": {},
   "outputs": [
    {
     "name": "stdout",
     "output_type": "stream",
     "text": [
      "28/28 - 0s - loss: 0.7652 - accuracy: 0.7655 - 115ms/epoch - 4ms/step\n",
      "score: 0.77\n",
      "acc: 0.77\n"
     ]
    }
   ],
   "source": [
    "score,acc = model.evaluate(X_test, Y_test, verbose = 2, batch_size = batch_size)\n",
    "print(\"score: %.2f\" % (score))\n",
    "print(\"acc: %.2f\" % (acc))"
   ]
  },
  {
   "cell_type": "code",
   "execution_count": 50,
   "metadata": {},
   "outputs": [
    {
     "name": "stdout",
     "output_type": "stream",
     "text": [
      "435/435 [==============================] - 1s 2ms/step\n",
      "              precision    recall  f1-score   support\n",
      "\n",
      "           N       0.80      0.80      0.80       259\n",
      "           P       0.71      0.71      0.71       176\n",
      "\n",
      "    accuracy                           0.77       435\n",
      "   macro avg       0.76      0.76      0.76       435\n",
      "weighted avg       0.77      0.77      0.77       435\n",
      "\n"
     ]
    }
   ],
   "source": [
    "predict=model.predict(X_test, batch_size=1)\n",
    "prediccion=(predict>0.5).tolist()\n",
    "\n",
    "from sklearn.metrics import classification_report\n",
    "\n",
    "print(classification_report(Y_test, prediccion, target_names=['N','P']))"
   ]
  },
  {
   "attachments": {},
   "cell_type": "markdown",
   "metadata": {},
   "source": [
    "### Inferencia en nuevos textos\n",
    "\n",
    "Si queremos utilizar el clasificador con un texto nuevo hay que procesar el texto con la misma secuencia: limpieza, tokenizado y conversión en secuencia de la longitud adecuada:"
   ]
  },
  {
   "cell_type": "code",
   "execution_count": 51,
   "metadata": {},
   "outputs": [],
   "source": [
    "twt = 'me quiero morir'\n",
    "#vectorizing the tweet by the pre-fitted tokenizer instance\n",
    "twt = tokenizer.texts_to_sequences([clean_text(twt, lemas=True)]) #hay que pasar el texto a array\n",
    "#padding the tweet to have exactly the same shape as `embedding_2` input"
   ]
  },
  {
   "cell_type": "code",
   "execution_count": 52,
   "metadata": {},
   "outputs": [
    {
     "data": {
      "text/plain": [
       "[[4, 40, 317]]"
      ]
     },
     "execution_count": 52,
     "metadata": {},
     "output_type": "execute_result"
    }
   ],
   "source": [
    "twt"
   ]
  },
  {
   "cell_type": "code",
   "execution_count": 53,
   "metadata": {},
   "outputs": [
    {
     "data": {
      "text/plain": [
       "array([[  4,  40, 317,   0,   0,   0,   0,   0,   0,   0,   0,   0,   0,\n",
       "          0,   0,   0,   0,   0,   0,   0,   0,   0,   0,   0,   0,   0,\n",
       "          0,   0,   0,   0,   0,   0,   0]], dtype=int32)"
      ]
     },
     "execution_count": 53,
     "metadata": {},
     "output_type": "execute_result"
    }
   ],
   "source": [
    "twt = pad_sequences(twt, maxlen=X_train.shape[1], dtype='int32', padding='post', truncating='post', value=0)\n",
    "twt"
   ]
  },
  {
   "cell_type": "code",
   "execution_count": 54,
   "metadata": {},
   "outputs": [
    {
     "name": "stdout",
     "output_type": "stream",
     "text": [
      "1/1 - 0s - 17ms/epoch - 17ms/step\n",
      "negativo\n"
     ]
    }
   ],
   "source": [
    "sentiment = model.predict(twt,batch_size=1,verbose = 2)\n",
    "if(np.round(sentiment) == 0):\n",
    "    print(\"negativo\")\n",
    "elif (np.round(sentiment) == 1):\n",
    "    print(\"positivo\")"
   ]
  },
  {
   "cell_type": "code",
   "execution_count": 55,
   "metadata": {},
   "outputs": [
    {
     "data": {
      "text/plain": [
       "array([[0.00121737]], dtype=float32)"
      ]
     },
     "execution_count": 55,
     "metadata": {},
     "output_type": "execute_result"
    }
   ],
   "source": [
    "sentiment"
   ]
  }
 ],
 "metadata": {
  "interpreter": {
   "hash": "f818427314f6e07d80a3b82dd0595cafccc14dc50f870f003aae34cda4c72f85"
  },
  "kernelspec": {
   "display_name": "Python 3.9.0",
   "language": "python",
   "name": "python3"
  },
  "language_info": {
   "codemirror_mode": {
    "name": "ipython",
    "version": 3
   },
   "file_extension": ".py",
   "mimetype": "text/x-python",
   "name": "python",
   "nbconvert_exporter": "python",
   "pygments_lexer": "ipython3",
   "version": "3.10.13"
  }
 },
 "nbformat": 4,
 "nbformat_minor": 4
}
