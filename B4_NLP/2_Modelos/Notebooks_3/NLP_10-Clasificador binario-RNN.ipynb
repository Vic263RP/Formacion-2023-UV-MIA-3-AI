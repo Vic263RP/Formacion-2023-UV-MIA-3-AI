{
 "cells": [
  {
   "attachments": {},
   "cell_type": "markdown",
   "metadata": {},
   "source": [
    "# Clasificador de texto con Redes Neuronales Recurrentes\n",
    "Implementemos un clasificador con RNN aplicada al análisis de sentimiento en Twitter.  \n",
    "Probamos tres aproximaciones diferentes para calcular los embeddings de entrada:  \n",
    "- Primero probamos los *word embeddings* de Spacy (modelo GloVe) sin actualizar\n",
    "- Luego usamos los *word embeddings* de Spacy para hacer Transfer Learning (actualizando los pesos en el entrenamiento)\n",
    "- Por último probamos entrenando los embeddings con nuestro propio texto.  \n",
    "  \n",
    "Probamos dos tipos de RNN diferentes:  \n",
    "- LSTM (Long Short-Term Memory)\n",
    "- GRU (Gated Recurrent Unit)\n",
    "\n",
    "Usamos KERAS (en la distribución de TensorFlow 2)"
   ]
  },
  {
   "cell_type": "code",
   "execution_count": 1,
   "metadata": {},
   "outputs": [
    {
     "name": "stderr",
     "output_type": "stream",
     "text": [
      "2024-08-13 08:41:24.955103: I tensorflow/core/platform/cpu_feature_guard.cc:193] This TensorFlow binary is optimized with oneAPI Deep Neural Network Library (oneDNN) to use the following CPU instructions in performance-critical operations:  SSE4.1 SSE4.2 AVX AVX2 FMA\n",
      "To enable them in other operations, rebuild TensorFlow with the appropriate compiler flags.\n"
     ]
    }
   ],
   "source": [
    "import pandas as pd\n",
    "pd.options.display.max_colwidth = None\n",
    "import numpy as np\n",
    "import re, string, spacy\n",
    "from tensorflow.keras.models import Sequential\n",
    "from tensorflow.keras.layers import LSTM, Dense, Dropout, SpatialDropout1D, GRU\n",
    "from tensorflow.keras.layers import Embedding\n",
    "from tensorflow.keras.preprocessing.text import Tokenizer\n",
    "from tensorflow.keras.preprocessing.sequence import pad_sequences\n",
    "from tensorflow.keras.callbacks import ModelCheckpoint\n",
    "from sklearn.model_selection import train_test_split\n",
    "import matplotlib.pyplot as plt\n",
    "%matplotlib inline"
   ]
  },
  {
   "cell_type": "code",
   "execution_count": 2,
   "metadata": {},
   "outputs": [],
   "source": [
    "#Definimos características de la capa RNN\n",
    "\n",
    "RNN_DIM = 50 #Nº de neuronas en la capa RNN\n",
    "RNN_layer = LSTM #usar GRU o LSTM"
   ]
  },
  {
   "cell_type": "code",
   "execution_count": 3,
   "metadata": {},
   "outputs": [
    {
     "data": {
      "text/html": [
       "<div>\n",
       "<style scoped>\n",
       "    .dataframe tbody tr th:only-of-type {\n",
       "        vertical-align: middle;\n",
       "    }\n",
       "\n",
       "    .dataframe tbody tr th {\n",
       "        vertical-align: top;\n",
       "    }\n",
       "\n",
       "    .dataframe thead th {\n",
       "        text-align: right;\n",
       "    }\n",
       "</style>\n",
       "<table border=\"1\" class=\"dataframe\">\n",
       "  <thead>\n",
       "    <tr style=\"text-align: right;\">\n",
       "      <th></th>\n",
       "      <th>content</th>\n",
       "      <th>polarity</th>\n",
       "    </tr>\n",
       "  </thead>\n",
       "  <tbody>\n",
       "    <tr>\n",
       "      <th>0</th>\n",
       "      <td>@myendlesshazza a. que puto mal escribo b. me sigo surrando help 3. ha quedado raro el \"cómetelo\" ahí JAJAJAJA</td>\n",
       "      <td>N</td>\n",
       "    </tr>\n",
       "    <tr>\n",
       "      <th>1</th>\n",
       "      <td>Quiero mogollón a @AlbaBenito99 pero sobretodo por lo rápido que contesta a los wasaps</td>\n",
       "      <td>P</td>\n",
       "    </tr>\n",
       "    <tr>\n",
       "      <th>2</th>\n",
       "      <td>Vale he visto la tia bebiendose su regla y me hs dado muchs grima</td>\n",
       "      <td>N</td>\n",
       "    </tr>\n",
       "    <tr>\n",
       "      <th>3</th>\n",
       "      <td>@Yulian_Poe @guillermoterry1 Ah. mucho más por supuesto! solo que lo incluyo. Me habías entendido mal</td>\n",
       "      <td>P</td>\n",
       "    </tr>\n",
       "    <tr>\n",
       "      <th>4</th>\n",
       "      <td>@toNi_end seria mejor que dejasen de emitir esa basura ya  hay que evolucionar para bien y eso</td>\n",
       "      <td>N</td>\n",
       "    </tr>\n",
       "  </tbody>\n",
       "</table>\n",
       "</div>"
      ],
      "text/plain": [
       "                                                                                                          content  \\\n",
       "0  @myendlesshazza a. que puto mal escribo b. me sigo surrando help 3. ha quedado raro el \"cómetelo\" ahí JAJAJAJA   \n",
       "1                         Quiero mogollón a @AlbaBenito99 pero sobretodo por lo rápido que contesta a los wasaps    \n",
       "2                                              Vale he visto la tia bebiendose su regla y me hs dado muchs grima    \n",
       "3          @Yulian_Poe @guillermoterry1 Ah. mucho más por supuesto! solo que lo incluyo. Me habías entendido mal    \n",
       "4                  @toNi_end seria mejor que dejasen de emitir esa basura ya  hay que evolucionar para bien y eso   \n",
       "\n",
       "  polarity  \n",
       "0        N  \n",
       "1        P  \n",
       "2        N  \n",
       "3        P  \n",
       "4        N  "
      ]
     },
     "execution_count": 3,
     "metadata": {},
     "output_type": "execute_result"
    }
   ],
   "source": [
    "# Leemos los datos\n",
    "df = pd.read_csv('tweets_max.csv', index_col=None)\n",
    "\n",
    "#seleccionamos columnas de interés\n",
    "df = df[['content', 'polarity']]\n",
    "\n",
    "#dejamos polaridades definidas\n",
    "df = df[(df['polarity']=='P') | (df['polarity']=='N')]\n",
    "\n",
    "df.head()"
   ]
  },
  {
   "cell_type": "code",
   "execution_count": 4,
   "metadata": {},
   "outputs": [
    {
     "data": {
      "text/plain": [
       "polarity\n",
       "N    840\n",
       "P    609\n",
       "Name: count, dtype: int64"
      ]
     },
     "execution_count": 4,
     "metadata": {},
     "output_type": "execute_result"
    }
   ],
   "source": [
    "df.polarity.value_counts()"
   ]
  },
  {
   "attachments": {},
   "cell_type": "markdown",
   "metadata": {},
   "source": [
    "## Limpieza de texto\n",
    "Usamos Spacy para separar el texto en tokens y mantener sólo las palabras importantes, dejando su lemma"
   ]
  },
  {
   "cell_type": "code",
   "execution_count": 5,
   "metadata": {},
   "outputs": [],
   "source": [
    "import re, string, spacy\n",
    "nlp=spacy.load('es_core_news_md')\n",
    "\n",
    "pattern2 = re.compile('[{}]'.format(re.escape(string.punctuation))) #elimina símbolos de puntuación\n",
    "\n",
    "def clean_text(text, lemas=False):\n",
    "    \"\"\"Limpiamos las menciones y URL del texto. Luego convertimos en tokens\n",
    "    y eliminamos signos de puntuación.\n",
    "    Si lemas=True extraemos el lema, si no dejamos en minúsculas solamente.\n",
    "    Como salida volvemos a convertir los tokens en cadena de texto\"\"\"\n",
    "    text = re.sub(r'@[\\w_]+|https?://[\\w_./]+', '', text) #elimina menciones y URL\n",
    "    tokens = nlp(text)\n",
    "    tokens = [tok.lemma_.lower() if lemas else tok.lower_ for tok in tokens if not tok.is_punct]\n",
    "    filtered_tokens = [pattern2.sub('', tok) for tok in tokens] #no quitamos stop-words\n",
    "    filtered_text = ' '.join(filtered_tokens)\n",
    "    \n",
    "    return filtered_text\n",
    "    "
   ]
  },
  {
   "attachments": {},
   "cell_type": "markdown",
   "metadata": {},
   "source": [
    "## Preparemos el conjunto de datos\n",
    "Fijamos un tamaño máximo de vocabulario.  \n",
    "Separamos los tweets en tokens dentro de este vocabulario y creamos las secuencias de longitud fija.  \n",
    "La longitud de la secuencia viene dada por la longitud en tokens del tweet más largo. Sólo se conservan los tokens de las palabras en el vocabulario."
   ]
  },
  {
   "cell_type": "code",
   "execution_count": 6,
   "metadata": {},
   "outputs": [],
   "source": [
    "#limpiamos texto y quitamos tweets que se han quedado vacíos\n",
    "df.content=df.content.apply(clean_text, lemas=True)\n",
    "df = df[df['content']!='']\n",
    "\n",
    "#el conjunto de salida es la polaridad, hay que convertir a numérico para Keras\n",
    "#codificamos 'P' como 1 y 'N' se queda como 0\n",
    "Y=(df.polarity=='P').values*1\n",
    "\n",
    "#Separamos entrenamiento y test\n",
    "tweets_train, tweets_test, Y_train, Y_test = train_test_split(df.content,Y, \n",
    "    test_size = 0.3,\n",
    "    random_state = 0)"
   ]
  },
  {
   "cell_type": "code",
   "execution_count": 7,
   "metadata": {},
   "outputs": [
    {
     "name": "stdout",
     "output_type": "stream",
     "text": [
      "Tamaño vocabulario: 1014 palabras\n"
     ]
    }
   ],
   "source": [
    "#Estimamos el tamaño de vocabulario (parabras con un min_df de 2 en TRAIN)\n",
    "from sklearn.feature_extraction.text import CountVectorizer\n",
    "\n",
    "cv = CountVectorizer(min_df=2)\n",
    "cv.fit(tweets_train)\n",
    "max_features = len(cv.get_feature_names_out())\n",
    "print(f'Tamaño vocabulario: {format(max_features)} palabras')"
   ]
  },
  {
   "attachments": {},
   "cell_type": "markdown",
   "metadata": {},
   "source": [
    "Creamos tokens del texto usando sólo el vocabulario del conjunto de entrenamiento y aplicando en test"
   ]
  },
  {
   "cell_type": "code",
   "execution_count": 8,
   "metadata": {},
   "outputs": [
    {
     "name": "stdout",
     "output_type": "stream",
     "text": [
      "Found 3221 unique tokens.\n"
     ]
    }
   ],
   "source": [
    "MAX_NB_WORDS = max_features+2 #hay que considerar 1 término más para el OOV y otro para el 0\n",
    "tokenizer = Tokenizer(num_words=MAX_NB_WORDS, split=' ', oov_token='OOV')\n",
    "tokenizer.fit_on_texts(tweets_train.values)\n",
    "X_train = tokenizer.texts_to_sequences(tweets_train.values)\n",
    "X_train = pad_sequences(X_train, padding='post')\n",
    "word_index = tokenizer.word_index\n",
    "print(f'Found {len(word_index)} unique tokens.')\n",
    "MAX_SEQUENCE_LENGTH = X_train.shape[1]\n",
    "\n",
    "X_test = tokenizer.texts_to_sequences(tweets_test.values)\n",
    "X_test = pad_sequences(X_test, padding='post', maxlen=MAX_SEQUENCE_LENGTH)\n",
    "# Note that you could \"pre\" padding (at the beginning) or\n",
    "# \"post\" padding (at the end).\n",
    "# We recommend using \"post\" padding when working with RNN layers\n",
    "# (in order to be able to use the \n",
    "# CuDNN implementation of the layers)."
   ]
  },
  {
   "cell_type": "code",
   "execution_count": 9,
   "metadata": {},
   "outputs": [
    {
     "data": {
      "text/plain": [
       "1016"
      ]
     },
     "execution_count": 9,
     "metadata": {},
     "output_type": "execute_result"
    }
   ],
   "source": [
    "MAX_NB_WORDS"
   ]
  },
  {
   "cell_type": "code",
   "execution_count": 10,
   "metadata": {},
   "outputs": [
    {
     "data": {
      "text/plain": [
       "1015"
      ]
     },
     "execution_count": 10,
     "metadata": {},
     "output_type": "execute_result"
    }
   ],
   "source": [
    "np.max(X_train)"
   ]
  },
  {
   "cell_type": "code",
   "execution_count": 11,
   "metadata": {},
   "outputs": [
    {
     "name": "stdout",
     "output_type": "stream",
     "text": [
      "(1014, 33) (1014,)\n",
      "(435, 33) (435,)\n"
     ]
    }
   ],
   "source": [
    "print(X_train.shape,Y_train.shape)\n",
    "print(X_test.shape,Y_test.shape)"
   ]
  },
  {
   "cell_type": "code",
   "execution_count": 12,
   "metadata": {},
   "outputs": [
    {
     "data": {
      "text/plain": [
       "array([ 73,  26,   1, 169,   4, 133, 143,   0,   0,   0,   0,   0,   0,\n",
       "         0,   0,   0,   0,   0,   0,   0,   0,   0,   0,   0,   0,   0,\n",
       "         0,   0,   0,   0,   0,   0,   0], dtype=int32)"
      ]
     },
     "execution_count": 12,
     "metadata": {},
     "output_type": "execute_result"
    }
   ],
   "source": [
    "X_train[0]"
   ]
  },
  {
   "cell_type": "code",
   "execution_count": 13,
   "metadata": {},
   "outputs": [
    {
     "data": {
      "text/plain": [
       "1"
      ]
     },
     "execution_count": 13,
     "metadata": {},
     "output_type": "execute_result"
    }
   ],
   "source": [
    "tokenizer.word_index['OOV']"
   ]
  },
  {
   "attachments": {},
   "cell_type": "markdown",
   "metadata": {},
   "source": [
    "## Transfer Learning con Word Embeddings de GloVe\n",
    "Usamos los Embeddings ya calculados en la librería `spaCy`\n",
    "### Calculamos los word embeddings\n",
    "Vamos a entrenar el modelo secuencial con los tweets, donde cada tweet será una secuencia.  \n",
    "Cada palabra de cada tweet se convierte en un vector (word_embedding) de 300 dimensiones. Usamos los vectores precalculados del modelo del Spacy.  \n",
    "Hace falta que todas las secuencias tengan la misma longitud, así que usamos la longitud del tweet más largo y rellenamos con ceros los vectores de las palabras que no existen.  \n",
    "Rellenamos por la izquierda para que las últimas palabras de entrada a la red nunca estén vacías.  \n",
    "Fijamos una longitud del tweet de max_length palabras. Cada vector tiene 300 elementos, por lo que cada muestra de entrada a la red LSTM es una matriz de tamaño max_length x 300.  \n",
    "Hay 733 muestras por lo que la matriz total de datos X tendrá un tamaño 733 x max_length x 300.  "
   ]
  },
  {
   "attachments": {},
   "cell_type": "markdown",
   "metadata": {},
   "source": [
    "Como hemos limitado el vocabulario a `max_features` términos, los tokens de las secuencias codificadas tienen índices del 0 al `max_features+1` (donde el 0 es 'Secuencia vacía') y el 1 es 'OOV') y por tanto necesitamos una matriz de embeddings de `max_features+2` x 300 dimensiones"
   ]
  },
  {
   "cell_type": "code",
   "execution_count": 14,
   "metadata": {},
   "outputs": [
    {
     "name": "stdout",
     "output_type": "stream",
     "text": [
      "Cargados 968 vectores en la matriz\n"
     ]
    }
   ],
   "source": [
    "#Rellenamos los vectores con el valor en spaCy para la MAX_NB_WORDS palabras más frecuentes\n",
    "nlp=spacy.load('es_core_news_md')\n",
    "\n",
    "\n",
    "EMBEDDING_DIM = nlp.vocab.vectors_length\n",
    "embedding_matrix = np.zeros((MAX_NB_WORDS, EMBEDDING_DIM))\n",
    "vectores = 0\n",
    "for word, i in word_index.items():\n",
    "    if(i<MAX_NB_WORDS):\n",
    "        if nlp.vocab[word].has_vector:\n",
    "            # las palabras que no están en spaCy serán cero.\n",
    "            embedding_matrix[i] = nlp.vocab[word].vector\n",
    "            vectores += 1\n",
    "        \n",
    "print(f\"Cargados {vectores} vectores en la matriz\")"
   ]
  },
  {
   "cell_type": "code",
   "execution_count": 15,
   "metadata": {},
   "outputs": [
    {
     "data": {
      "text/plain": [
       "(1016, 300)"
      ]
     },
     "execution_count": 15,
     "metadata": {},
     "output_type": "execute_result"
    }
   ],
   "source": [
    "embedding_matrix.shape"
   ]
  },
  {
   "attachments": {},
   "cell_type": "markdown",
   "metadata": {},
   "source": [
    "### Modelo con embeddings fijos Glove"
   ]
  },
  {
   "cell_type": "code",
   "execution_count": 16,
   "metadata": {},
   "outputs": [
    {
     "name": "stdout",
     "output_type": "stream",
     "text": [
      "Model: \"sequential\"\n",
      "_________________________________________________________________\n",
      " Layer (type)                Output Shape              Param #   \n",
      "=================================================================\n",
      " embedding (Embedding)       (None, 33, 300)           304800    \n",
      "                                                                 \n",
      " spatial_dropout1d (SpatialD  (None, 33, 300)          0         \n",
      " ropout1D)                                                       \n",
      "                                                                 \n",
      " lstm (LSTM)                 (None, 50)                70200     \n",
      "                                                                 \n",
      " dense (Dense)               (None, 1)                 51        \n",
      "                                                                 \n",
      "=================================================================\n",
      "Total params: 375,051\n",
      "Trainable params: 70,251\n",
      "Non-trainable params: 304,800\n",
      "_________________________________________________________________\n",
      "None\n"
     ]
    }
   ],
   "source": [
    "#Creamos el modelo RNN en Keras usando los embeddings cargados como pesos\n",
    "embedding_layer = Embedding(MAX_NB_WORDS,\n",
    "                            EMBEDDING_DIM,\n",
    "                            weights=[embedding_matrix],\n",
    "                            input_length=MAX_SEQUENCE_LENGTH,\n",
    "                            trainable=False,\n",
    "                            mask_zero=True)\n",
    "\n",
    "model = Sequential()\n",
    "model.add(embedding_layer)\n",
    "model.add(SpatialDropout1D(0.4))\n",
    "model.add(LSTM(RNN_DIM, dropout=0.2, recurrent_dropout=0.2)) #no usamos recurrent_dropout=0.2 por problemas con el M1\n",
    "model.add(Dense(1, activation='sigmoid'))\n",
    "model.compile(loss='binary_crossentropy', optimizer='adam', metrics=['accuracy'])\n",
    "print(model.summary())"
   ]
  },
  {
   "cell_type": "code",
   "execution_count": 17,
   "metadata": {},
   "outputs": [],
   "source": [
    "batch_size=16\n",
    "history=model.fit(X_train, Y_train, epochs=30, batch_size=batch_size, verbose=0, validation_data=(X_test, Y_test))"
   ]
  },
  {
   "cell_type": "code",
   "execution_count": 18,
   "metadata": {},
   "outputs": [
    {
     "data": {
      "image/png": "[encoded data removed]",
      "text/plain": [
       "<Figure size 640x480 with 1 Axes>"
      ]
     },
     "metadata": {},
     "output_type": "display_data"
    }
   ],
   "source": [
    "# Plot training & validation accuracy values\n",
    "plt.plot(history.history['accuracy'])\n",
    "plt.plot(history.history['val_accuracy'])\n",
    "plt.title('Modelo WE spaCy fijos')\n",
    "plt.ylabel('Accuracy')\n",
    "plt.xlabel('Epoch')\n",
    "plt.legend(['Train', 'Test'], loc='upper left')\n",
    "plt.show()"
   ]
  },
  {
   "cell_type": "code",
   "execution_count": 19,
   "metadata": {},
   "outputs": [
    {
     "name": "stdout",
     "output_type": "stream",
     "text": [
      "28/28 - 1s - loss: 0.6275 - accuracy: 0.7586 - 653ms/epoch - 23ms/step\n",
      "score: 0.63\n",
      "acc: 0.76\n"
     ]
    }
   ],
   "source": [
    "score,acc = model.evaluate(X_test, Y_test, verbose = 2, batch_size = batch_size)\n",
    "print(\"score: %.2f\" % (score))\n",
    "print(\"acc: %.2f\" % (acc))"
   ]
  },
  {
   "cell_type": "code",
   "execution_count": 20,
   "metadata": {},
   "outputs": [
    {
     "name": "stdout",
     "output_type": "stream",
     "text": [
      "435/435 [==============================] - 8s 18ms/step\n",
      "              precision    recall  f1-score   support\n",
      "\n",
      "           N       0.81      0.78      0.79       259\n",
      "           P       0.69      0.72      0.71       176\n",
      "\n",
      "    accuracy                           0.76       435\n",
      "   macro avg       0.75      0.75      0.75       435\n",
      "weighted avg       0.76      0.76      0.76       435\n",
      "\n"
     ]
    }
   ],
   "source": [
    "predict=model.predict(X_test, batch_size=1)\n",
    "prediccion=(predict>0.5).tolist()\n",
    "\n",
    "from sklearn.metrics import classification_report\n",
    "\n",
    "print(classification_report(Y_test, prediccion, target_names=['N','P']))"
   ]
  },
  {
   "attachments": {},
   "cell_type": "markdown",
   "metadata": {},
   "source": [
    "### Modelo con fine-tuning\n",
    "Vamos a probar a re-entrenar los vectores de spaCy con nuestros documentos (parámetro `trainable` a `True`)"
   ]
  },
  {
   "cell_type": "code",
   "execution_count": 21,
   "metadata": {},
   "outputs": [
    {
     "name": "stdout",
     "output_type": "stream",
     "text": [
      "Model: \"sequential_1\"\n",
      "_________________________________________________________________\n",
      " Layer (type)                Output Shape              Param #   \n",
      "=================================================================\n",
      " embedding_1 (Embedding)     (None, 33, 300)           304800    \n",
      "                                                                 \n",
      " spatial_dropout1d_1 (Spatia  (None, 33, 300)          0         \n",
      " lDropout1D)                                                     \n",
      "                                                                 \n",
      " lstm_1 (LSTM)               (None, 50)                70200     \n",
      "                                                                 \n",
      " dense_1 (Dense)             (None, 1)                 51        \n",
      "                                                                 \n",
      "=================================================================\n",
      "Total params: 375,051\n",
      "Trainable params: 375,051\n",
      "Non-trainable params: 0\n",
      "_________________________________________________________________\n",
      "None\n"
     ]
    }
   ],
   "source": [
    "embedding_layer2 = Embedding(MAX_NB_WORDS,\n",
    "                            EMBEDDING_DIM,\n",
    "                            weights=[embedding_matrix],\n",
    "                            input_length=MAX_SEQUENCE_LENGTH,\n",
    "                            trainable=True,\n",
    "                            mask_zero=True)\n",
    "\n",
    "model2 = Sequential()\n",
    "model2.add(embedding_layer2)\n",
    "model2.add(SpatialDropout1D(0.4))\n",
    "model2.add(RNN_layer(RNN_DIM, dropout=0.2, recurrent_dropout=0.2))\n",
    "model2.add(Dense(1, activation='sigmoid'))\n",
    "model2.compile(loss='binary_crossentropy', optimizer='adam', metrics=['accuracy'])\n",
    "print(model2.summary())"
   ]
  },
  {
   "attachments": {},
   "cell_type": "markdown",
   "metadata": {},
   "source": [
    "Observa que ahora todos los parámetros son del tipo `Trainable` incluyendo los de la capa de Embedding.  \n",
    "### Ejercicio 1\n",
    "Entrena el nuevo modelo `model2` con los mismos parámetros del anterior, y guarda el resultado en la variable `history`"
   ]
  },
  {
   "cell_type": "code",
   "execution_count": 22,
   "metadata": {},
   "outputs": [],
   "source": [
    "## Solución\n",
    "history=model2.fit(X_train, Y_train, epochs=30, batch_size=batch_size, verbose=0, validation_data=(X_test, Y_test))"
   ]
  },
  {
   "cell_type": "code",
   "execution_count": 23,
   "metadata": {},
   "outputs": [
    {
     "data": {
      "image/png": "[encoded data removed]",
      "text/plain": [
       "<Figure size 640x480 with 1 Axes>"
      ]
     },
     "metadata": {},
     "output_type": "display_data"
    }
   ],
   "source": [
    "# Plot training & validation accuracy values\n",
    "plt.plot(history.history['accuracy'])\n",
    "plt.plot(history.history['val_accuracy'])\n",
    "plt.title('Modelo WE spaCy entrenables')\n",
    "plt.ylabel('Accuracy')\n",
    "plt.xlabel('Epoch')\n",
    "plt.legend(['Train', 'Test'], loc='upper left')\n",
    "plt.show()"
   ]
  },
  {
   "cell_type": "code",
   "execution_count": 24,
   "metadata": {},
   "outputs": [
    {
     "name": "stdout",
     "output_type": "stream",
     "text": [
      "score: 0.66\n",
      "acc: 0.77\n"
     ]
    }
   ],
   "source": [
    "score,acc = model2.evaluate(X_test, Y_test, verbose = 0, batch_size = batch_size)\n",
    "print(\"score: %.2f\" % (score))\n",
    "print(\"acc: %.2f\" % (acc))"
   ]
  },
  {
   "cell_type": "code",
   "execution_count": 25,
   "metadata": {},
   "outputs": [
    {
     "name": "stdout",
     "output_type": "stream",
     "text": [
      "435/435 [==============================] - 13s 29ms/step\n",
      "              precision    recall  f1-score   support\n",
      "\n",
      "           N       0.81      0.81      0.81       259\n",
      "           P       0.72      0.72      0.72       176\n",
      "\n",
      "    accuracy                           0.77       435\n",
      "   macro avg       0.77      0.77      0.77       435\n",
      "weighted avg       0.77      0.77      0.77       435\n",
      "\n"
     ]
    }
   ],
   "source": [
    "predict=model2.predict(X_test, batch_size=1)\n",
    "prediccion=(predict>0.5).tolist()\n",
    "\n",
    "from sklearn.metrics import classification_report\n",
    "\n",
    "print(classification_report(Y_test, prediccion, target_names=['N','P']))"
   ]
  },
  {
   "attachments": {},
   "cell_type": "markdown",
   "metadata": {},
   "source": [
    "## Modelo con embeddings propios\n",
    "Usamos sólo nuestros documentos para generar los embeddings sin entrenamiento previo."
   ]
  },
  {
   "cell_type": "code",
   "execution_count": 26,
   "metadata": {},
   "outputs": [
    {
     "name": "stdout",
     "output_type": "stream",
     "text": [
      "Model: \"sequential_2\"\n",
      "_________________________________________________________________\n",
      " Layer (type)                Output Shape              Param #   \n",
      "=================================================================\n",
      " embedding_2 (Embedding)     (None, 33, 300)           304800    \n",
      "                                                                 \n",
      " spatial_dropout1d_2 (Spatia  (None, 33, 300)          0         \n",
      " lDropout1D)                                                     \n",
      "                                                                 \n",
      " lstm_2 (LSTM)               (None, 50)                70200     \n",
      "                                                                 \n",
      " dense_2 (Dense)             (None, 1)                 51        \n",
      "                                                                 \n",
      "=================================================================\n",
      "Total params: 375,051\n",
      "Trainable params: 375,051\n",
      "Non-trainable params: 0\n",
      "_________________________________________________________________\n",
      "None\n"
     ]
    }
   ],
   "source": [
    "#Creamos el modelo LSTM en Keras\n",
    "\n",
    "model3 = Sequential()\n",
    "model3.add(Embedding(MAX_NB_WORDS, EMBEDDING_DIM, input_length = MAX_SEQUENCE_LENGTH, mask_zero=True))\n",
    "model3.add(SpatialDropout1D(0.4))\n",
    "model3.add(RNN_layer(RNN_DIM, dropout=0.2, recurrent_dropout=0.2))\n",
    "model3.add(Dense(1, activation='sigmoid'))\n",
    "model3.compile(loss='binary_crossentropy', optimizer='adam', metrics=['accuracy'])\n",
    "print(model3.summary())"
   ]
  },
  {
   "cell_type": "code",
   "execution_count": 27,
   "metadata": {},
   "outputs": [],
   "source": [
    "history=model3.fit(X_train, Y_train, epochs=30, batch_size=batch_size, verbose=0, validation_data=(X_test, Y_test))"
   ]
  },
  {
   "cell_type": "code",
   "execution_count": 28,
   "metadata": {},
   "outputs": [
    {
     "data": {
      "image/png": "[encoded data removed]",
      "text/plain": [
       "<Figure size 640x480 with 1 Axes>"
      ]
     },
     "metadata": {},
     "output_type": "display_data"
    }
   ],
   "source": [
    "# Plot training & validation accuracy values\n",
    "plt.plot(history.history['accuracy'])\n",
    "plt.plot(history.history['val_accuracy'])\n",
    "plt.title('Modelo WE propios')\n",
    "plt.ylabel('Accuracy')\n",
    "plt.xlabel('Epoch')\n",
    "plt.legend(['Train', 'Test'], loc='upper left')\n",
    "plt.show()"
   ]
  },
  {
   "cell_type": "code",
   "execution_count": 29,
   "metadata": {},
   "outputs": [
    {
     "name": "stdout",
     "output_type": "stream",
     "text": [
      "score: 1.64\n",
      "acc: 0.71\n"
     ]
    }
   ],
   "source": [
    "score,acc = model3.evaluate(X_test, Y_test, verbose = 0, batch_size = batch_size)\n",
    "print(\"score: %.2f\" % (score))\n",
    "print(\"acc: %.2f\" % (acc))"
   ]
  },
  {
   "cell_type": "code",
   "execution_count": 30,
   "metadata": {},
   "outputs": [
    {
     "name": "stdout",
     "output_type": "stream",
     "text": [
      "435/435 [==============================] - 11s 24ms/step\n",
      "              precision    recall  f1-score   support\n",
      "\n",
      "           N       0.77      0.73      0.75       259\n",
      "           P       0.63      0.68      0.65       176\n",
      "\n",
      "    accuracy                           0.71       435\n",
      "   macro avg       0.70      0.70      0.70       435\n",
      "weighted avg       0.71      0.71      0.71       435\n",
      "\n"
     ]
    }
   ],
   "source": [
    "predict=model3.predict(X_test, batch_size=1)\n",
    "prediccion=(predict>0.5).tolist()\n",
    "\n",
    "from sklearn.metrics import classification_report\n",
    "\n",
    "print(classification_report(Y_test, prediccion, target_names=['N','P']))"
   ]
  },
  {
   "attachments": {},
   "cell_type": "markdown",
   "metadata": {},
   "source": [
    "### Modelo con embeddings aleatorios sin re-entrenar\n",
    "Probamos a entrenar un nuevo modelo con valores de WE aleatorios (sin entrenar) para ver cuánta mejora suponen los WE entrenados.  \n",
    "El modelo con WE propios ya utiliza una inicialización aleatoria por lo que no lo repetimos aquí.  "
   ]
  },
  {
   "cell_type": "code",
   "execution_count": 31,
   "metadata": {},
   "outputs": [],
   "source": [
    "#Rellenamos los vectores con valores aleatorios\n",
    "\n",
    "EMBEDDING_DIM=50\n",
    "embedding_matrix_rand = np.zeros((MAX_NB_WORDS, EMBEDDING_DIM))\n",
    "vectores = 0\n",
    "for word, i in word_index.items():\n",
    "    if(i<MAX_NB_WORDS):\n",
    "        embedding_matrix_rand[i] = np.random.normal(size=EMBEDDING_DIM)"
   ]
  },
  {
   "cell_type": "code",
   "execution_count": 32,
   "metadata": {},
   "outputs": [
    {
     "name": "stdout",
     "output_type": "stream",
     "text": [
      "Model: \"sequential_3\"\n",
      "_________________________________________________________________\n",
      " Layer (type)                Output Shape              Param #   \n",
      "=================================================================\n",
      " embedding_3 (Embedding)     (None, 33, 50)            50800     \n",
      "                                                                 \n",
      " spatial_dropout1d_3 (Spatia  (None, 33, 50)           0         \n",
      " lDropout1D)                                                     \n",
      "                                                                 \n",
      " lstm_3 (LSTM)               (None, 50)                20200     \n",
      "                                                                 \n",
      " dense_3 (Dense)             (None, 1)                 51        \n",
      "                                                                 \n",
      "=================================================================\n",
      "Total params: 71,051\n",
      "Trainable params: 20,251\n",
      "Non-trainable params: 50,800\n",
      "_________________________________________________________________\n",
      "None\n"
     ]
    }
   ],
   "source": [
    "#Creamos el modelo RNN en Keras usando los embeddings cargados como pesos\n",
    "embedding_layer = Embedding(MAX_NB_WORDS,\n",
    "                            EMBEDDING_DIM,\n",
    "                            weights=[embedding_matrix_rand],\n",
    "                            input_length=MAX_SEQUENCE_LENGTH,\n",
    "                            trainable=False,\n",
    "                            mask_zero=True)\n",
    "\n",
    "model = Sequential()\n",
    "model.add(embedding_layer)\n",
    "model.add(SpatialDropout1D(0.4))\n",
    "model.add(RNN_layer(RNN_DIM, dropout=0.2, recurrent_dropout=0.2))\n",
    "model.add(Dense(1, activation='sigmoid'))\n",
    "model.compile(loss='binary_crossentropy', optimizer='adam', metrics=['accuracy'])\n",
    "print(model.summary())"
   ]
  },
  {
   "cell_type": "code",
   "execution_count": 33,
   "metadata": {},
   "outputs": [],
   "source": [
    "history=model.fit(X_train, Y_train, epochs=30, batch_size=batch_size, verbose=0, validation_data=(X_test, Y_test))"
   ]
  },
  {
   "cell_type": "code",
   "execution_count": 34,
   "metadata": {},
   "outputs": [
    {
     "data": {
      "image/png": "[encoded data removed]",
      "text/plain": [
       "<Figure size 640x480 with 1 Axes>"
      ]
     },
     "metadata": {},
     "output_type": "display_data"
    }
   ],
   "source": [
    "# Plot training & validation accuracy values\n",
    "plt.plot(history.history['accuracy'])\n",
    "plt.plot(history.history['val_accuracy'])\n",
    "plt.title('Modelo WE aleatorios fijos')\n",
    "plt.ylabel('Accuracy')\n",
    "plt.xlabel('Epoch')\n",
    "plt.legend(['Train', 'Test'], loc='upper left')\n",
    "plt.show()"
   ]
  },
  {
   "cell_type": "code",
   "execution_count": 35,
   "metadata": {},
   "outputs": [
    {
     "name": "stdout",
     "output_type": "stream",
     "text": [
      "score: 0.66\n",
      "acc: 0.71\n"
     ]
    }
   ],
   "source": [
    "score,acc = model.evaluate(X_test, Y_test, verbose = 0, batch_size = batch_size)\n",
    "print(\"score: %.2f\" % (score))\n",
    "print(\"acc: %.2f\" % (acc))"
   ]
  },
  {
   "cell_type": "code",
   "execution_count": 36,
   "metadata": {},
   "outputs": [
    {
     "name": "stdout",
     "output_type": "stream",
     "text": [
      "435/435 [==============================] - 11s 24ms/step\n",
      "              precision    recall  f1-score   support\n",
      "\n",
      "           N       0.73      0.81      0.77       259\n",
      "           P       0.67      0.57      0.61       176\n",
      "\n",
      "    accuracy                           0.71       435\n",
      "   macro avg       0.70      0.69      0.69       435\n",
      "weighted avg       0.71      0.71      0.71       435\n",
      "\n"
     ]
    }
   ],
   "source": [
    "predict=model.predict(X_test, batch_size=1)\n",
    "prediccion=(predict>0.5).tolist()\n",
    "\n",
    "from sklearn.metrics import classification_report\n",
    "\n",
    "print(classification_report(Y_test, prediccion, target_names=['N','P']))"
   ]
  },
  {
   "attachments": {},
   "cell_type": "markdown",
   "metadata": {},
   "source": [
    "## Optimización del modelo\n",
    "El mejor modelo es que usa los WE pre-entrenados con Transfer Learning. No obstante, se podría mejorar limitando algo el sobre-entrenamiento con mayor dropout y ajustando mejor el número de unidades LSTM. Además, usamos el método checkpoint para quedarnos con la época de mejor resultado en validación"
   ]
  },
  {
   "cell_type": "code",
   "execution_count": 37,
   "metadata": {},
   "outputs": [
    {
     "name": "stdout",
     "output_type": "stream",
     "text": [
      "Model: \"sequential_4\"\n",
      "_________________________________________________________________\n",
      " Layer (type)                Output Shape              Param #   \n",
      "=================================================================\n",
      " embedding_4 (Embedding)     (None, 33, 300)           304800    \n",
      "                                                                 \n",
      " spatial_dropout1d_4 (Spatia  (None, 33, 300)          0         \n",
      " lDropout1D)                                                     \n",
      "                                                                 \n",
      " lstm_4 (LSTM)               (None, 50)                70200     \n",
      "                                                                 \n",
      " dense_4 (Dense)             (None, 1)                 51        \n",
      "                                                                 \n",
      "=================================================================\n",
      "Total params: 375,051\n",
      "Trainable params: 375,051\n",
      "Non-trainable params: 0\n",
      "_________________________________________________________________\n",
      "None\n"
     ]
    }
   ],
   "source": [
    "EMBEDDING_DIM = nlp.vocab.vectors_length\n",
    "embedding_matrix = np.zeros((MAX_NB_WORDS, EMBEDDING_DIM))\n",
    "for word, i in word_index.items():\n",
    "    if(i<MAX_NB_WORDS):\n",
    "        embedding_vector = nlp.vocab[word].vector\n",
    "        if not np.array_equal(embedding_vector, np.zeros(EMBEDDING_DIM)):\n",
    "            # words not found in embedding index will be all-zeros.\n",
    "            embedding_matrix[i] = embedding_vector\n",
    "            \n",
    "embedding_layer2 = Embedding(MAX_NB_WORDS,\n",
    "                            EMBEDDING_DIM,\n",
    "                            weights=[embedding_matrix],\n",
    "                            input_length=MAX_SEQUENCE_LENGTH,\n",
    "                            trainable=True,\n",
    "                            mask_zero=True)\n",
    "\n",
    "RNN_DIM = 50\n",
    "model_final = Sequential()\n",
    "model_final.add(embedding_layer2)\n",
    "model_final.add(SpatialDropout1D(0.4))\n",
    "model_final.add(RNN_layer(RNN_DIM, dropout=0.5, recurrent_dropout=0.4))\n",
    "model_final.add(Dense(1, activation='sigmoid'))\n",
    "model_final.compile(loss='binary_crossentropy', optimizer='adam', metrics=['accuracy'])\n",
    "print(model_final.summary())"
   ]
  },
  {
   "cell_type": "code",
   "execution_count": 38,
   "metadata": {},
   "outputs": [
    {
     "name": "stdout",
     "output_type": "stream",
     "text": [
      "\n",
      "Epoch 1: val_accuracy improved from -inf to 0.60460, saving model to weights.best.hdf5\n",
      "\n",
      "Epoch 2: val_accuracy improved from 0.60460 to 0.62989, saving model to weights.best.hdf5\n",
      "\n",
      "Epoch 3: val_accuracy improved from 0.62989 to 0.67126, saving model to weights.best.hdf5\n",
      "\n",
      "Epoch 4: val_accuracy improved from 0.67126 to 0.69655, saving model to weights.best.hdf5\n",
      "\n",
      "Epoch 5: val_accuracy improved from 0.69655 to 0.69885, saving model to weights.best.hdf5\n",
      "\n",
      "Epoch 6: val_accuracy improved from 0.69885 to 0.72414, saving model to weights.best.hdf5\n",
      "\n",
      "Epoch 7: val_accuracy did not improve from 0.72414\n",
      "\n",
      "Epoch 8: val_accuracy did not improve from 0.72414\n",
      "\n",
      "Epoch 9: val_accuracy improved from 0.72414 to 0.73333, saving model to weights.best.hdf5\n",
      "\n",
      "Epoch 10: val_accuracy improved from 0.73333 to 0.73793, saving model to weights.best.hdf5\n",
      "\n",
      "Epoch 11: val_accuracy improved from 0.73793 to 0.75402, saving model to weights.best.hdf5\n",
      "\n",
      "Epoch 12: val_accuracy did not improve from 0.75402\n",
      "\n",
      "Epoch 13: val_accuracy did not improve from 0.75402\n",
      "\n",
      "Epoch 14: val_accuracy did not improve from 0.75402\n",
      "\n",
      "Epoch 15: val_accuracy improved from 0.75402 to 0.76322, saving model to weights.best.hdf5\n",
      "\n",
      "Epoch 16: val_accuracy improved from 0.76322 to 0.76782, saving model to weights.best.hdf5\n",
      "\n",
      "Epoch 17: val_accuracy did not improve from 0.76782\n",
      "\n",
      "Epoch 18: val_accuracy did not improve from 0.76782\n",
      "\n",
      "Epoch 19: val_accuracy improved from 0.76782 to 0.79080, saving model to weights.best.hdf5\n",
      "\n",
      "Epoch 20: val_accuracy did not improve from 0.79080\n",
      "\n",
      "Epoch 21: val_accuracy did not improve from 0.79080\n",
      "\n",
      "Epoch 22: val_accuracy did not improve from 0.79080\n",
      "\n",
      "Epoch 23: val_accuracy did not improve from 0.79080\n",
      "\n",
      "Epoch 24: val_accuracy did not improve from 0.79080\n",
      "\n",
      "Epoch 25: val_accuracy did not improve from 0.79080\n",
      "\n",
      "Epoch 26: val_accuracy did not improve from 0.79080\n",
      "\n",
      "Epoch 27: val_accuracy did not improve from 0.79080\n",
      "\n",
      "Epoch 28: val_accuracy did not improve from 0.79080\n",
      "\n",
      "Epoch 29: val_accuracy did not improve from 0.79080\n",
      "\n",
      "Epoch 30: val_accuracy did not improve from 0.79080\n",
      "\n",
      "Epoch 31: val_accuracy did not improve from 0.79080\n",
      "\n",
      "Epoch 32: val_accuracy did not improve from 0.79080\n",
      "\n",
      "Epoch 33: val_accuracy did not improve from 0.79080\n",
      "\n",
      "Epoch 34: val_accuracy did not improve from 0.79080\n",
      "\n",
      "Epoch 35: val_accuracy did not improve from 0.79080\n",
      "\n",
      "Epoch 36: val_accuracy did not improve from 0.79080\n",
      "\n",
      "Epoch 37: val_accuracy improved from 0.79080 to 0.79310, saving model to weights.best.hdf5\n",
      "\n",
      "Epoch 38: val_accuracy did not improve from 0.79310\n",
      "\n",
      "Epoch 39: val_accuracy did not improve from 0.79310\n",
      "\n",
      "Epoch 40: val_accuracy did not improve from 0.79310\n"
     ]
    }
   ],
   "source": [
    "batch_size=16\n",
    "filepath=\"weights.best.hdf5\"\n",
    "checkpoint = ModelCheckpoint(filepath, monitor='val_accuracy', verbose=1, save_best_only=True, mode='max')\n",
    "callbacks_list = [checkpoint]\n",
    "history=model_final.fit(X_train, Y_train, epochs=40, batch_size=batch_size, verbose=0, validation_data=(X_test, Y_test), callbacks=callbacks_list)"
   ]
  },
  {
   "cell_type": "code",
   "execution_count": 39,
   "metadata": {},
   "outputs": [
    {
     "data": {
      "image/png": "[encoded data removed]",
      "text/plain": [
       "<Figure size 640x480 with 1 Axes>"
      ]
     },
     "metadata": {},
     "output_type": "display_data"
    }
   ],
   "source": [
    "# Plot training & validation accuracy values\n",
    "plt.plot(history.history['accuracy'])\n",
    "plt.plot(history.history['val_accuracy'])\n",
    "plt.title('Modelo optimizado')\n",
    "plt.ylabel('Accuracy')\n",
    "plt.xlabel('Epoch')\n",
    "plt.legend(['Train', 'Test'], loc='upper left')\n",
    "plt.show()"
   ]
  },
  {
   "cell_type": "code",
   "execution_count": 40,
   "metadata": {},
   "outputs": [
    {
     "name": "stdout",
     "output_type": "stream",
     "text": [
      "score: 0.60\n",
      "acc: 0.79\n"
     ]
    }
   ],
   "source": [
    "score,acc = model_final.evaluate(X_test, Y_test, verbose = 0, batch_size = batch_size)\n",
    "print(\"score: %.2f\" % (score))\n",
    "print(\"acc: %.2f\" % (acc))"
   ]
  },
  {
   "cell_type": "code",
   "execution_count": 41,
   "metadata": {},
   "outputs": [
    {
     "name": "stdout",
     "output_type": "stream",
     "text": [
      "score: 0.57\n",
      "acc: 0.79\n"
     ]
    }
   ],
   "source": [
    "#cargamos el mejor modelo\n",
    "model_final.load_weights(\"weights.best.hdf5\")\n",
    "score,acc = model_final.evaluate(X_test, Y_test, verbose = 0, batch_size = batch_size)\n",
    "print(\"score: %.2f\" % (score))\n",
    "print(\"acc: %.2f\" % (acc))"
   ]
  },
  {
   "cell_type": "code",
   "execution_count": 42,
   "metadata": {},
   "outputs": [
    {
     "name": "stdout",
     "output_type": "stream",
     "text": [
      "435/435 [==============================] - 9s 20ms/step\n",
      "              precision    recall  f1-score   support\n",
      "\n",
      "           N       0.81      0.85      0.83       259\n",
      "           P       0.77      0.70      0.73       176\n",
      "\n",
      "    accuracy                           0.79       435\n",
      "   macro avg       0.79      0.78      0.78       435\n",
      "weighted avg       0.79      0.79      0.79       435\n",
      "\n"
     ]
    }
   ],
   "source": [
    "predict=model_final.predict(X_test, batch_size=1)\n",
    "prediccion=(predict>0.5).tolist()\n",
    "\n",
    "from sklearn.metrics import classification_report\n",
    "\n",
    "print(classification_report(Y_test, prediccion, target_names=['N','P']))"
   ]
  },
  {
   "attachments": {},
   "cell_type": "markdown",
   "metadata": {},
   "source": [
    "## Inferencia en nuevos textos\n",
    "Para hacer inferencia en nuevos textos hay que procesarlo con los mismos parámetros que hemos usado en el entrenamiento."
   ]
  },
  {
   "cell_type": "code",
   "execution_count": null,
   "metadata": {},
   "outputs": [],
   "source": [
    "twt = 'estoy triste con la mierda de partido'\n",
    "#vectorizing the tweet by the pre-fitted tokenizer instance\n",
    "twt = tokenizer.texts_to_sequences([clean_text(twt, lemas=True)]) #hay que pasar el texto a array\n",
    "#padding the tweet to have exactly the same shape as `embedding_2` input\n",
    "twt = pad_sequences(twt, maxlen=X_train.shape[1], dtype='int32', padding='post', truncating='pre', value=0)\n",
    "sentiment = model.predict(twt)\n",
    "if(not np.round(sentiment)):\n",
    "    print(\"negativo\")\n",
    "elif (np.round(sentiment)):\n",
    "    print(\"positivo\")"
   ]
  },
  {
   "attachments": {},
   "cell_type": "markdown",
   "metadata": {},
   "source": [
    "## Ejercicio 2\n",
    "Repite el modelo óptimo cambiando el número de neuronas a 25 y 100 y compara los resultados. Repite de nuevo utilizando unidades GRU en lugar de LSTM y vuelve a analizar los resultados."
   ]
  },
  {
   "attachments": {},
   "cell_type": "markdown",
   "metadata": {},
   "source": [
    "## Ejercicio 3\n",
    "Repite el entrenamiento usando los WE de FastText descargados para el notebook de CNN y compara los resultados."
   ]
  }
 ],
 "metadata": {
  "interpreter": {
   "hash": "2b8b5a61aa40f99ad8bce9ec00e470b2c30a6eb3ef8f933176599154431e2def"
  },
  "kernelspec": {
   "display_name": "Python 3.7.11 ('tf_2')",
   "language": "python",
   "name": "python3"
  },
  "language_info": {
   "codemirror_mode": {
    "name": "ipython",
    "version": 3
   },
   "file_extension": ".py",
   "mimetype": "text/x-python",
   "name": "python",
   "nbconvert_exporter": "python",
   "pygments_lexer": "ipython3",
   "version": "3.10.13"
  }
 },
 "nbformat": 4,
 "nbformat_minor": 4
}
