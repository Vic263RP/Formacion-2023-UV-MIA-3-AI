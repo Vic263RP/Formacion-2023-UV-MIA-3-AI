{
 "cells": [
  {
   "attachments": {},
   "cell_type": "markdown",
   "metadata": {},
   "source": [
    "# Tokenizador BERT\n",
    "Vamos a ver cómo funciona el tokenizado WordPiece que utiliza el modelo BERT. Usamos la librería `transformers`. Se puede instalar en Anaconda con  \n",
    "```\n",
    "conda install -c huggingface transformers\n",
    "```\n"
   ]
  },
  {
   "cell_type": "code",
   "execution_count": 50,
   "metadata": {},
   "outputs": [
    {
     "name": "stderr",
     "output_type": "stream",
     "text": [
      "/home/vic_263/anaconda3/envs/ia/lib/python3.10/site-packages/transformers/tokenization_utils_base.py:1601: FutureWarning: `clean_up_tokenization_spaces` was not set. It will be set to `True` by default. This behavior will be depracted in transformers v4.45, and will be then set to `False` by default. For more details check this issue: https://github.com/huggingface/transformers/issues/31884\n",
      "  warnings.warn(\n"
     ]
    }
   ],
   "source": [
    "from transformers import AutoTokenizer\n",
    "\n",
    "tokenizer = AutoTokenizer.from_pretrained(\"bert-base-cased\")"
   ]
  },
  {
   "cell_type": "code",
   "execution_count": 51,
   "metadata": {},
   "outputs": [
    {
     "data": {
      "text/plain": [
       "28996"
      ]
     },
     "execution_count": 51,
     "metadata": {},
     "output_type": "execute_result"
    }
   ],
   "source": [
    "tokenizer.vocab_size"
   ]
  },
  {
   "cell_type": "code",
   "execution_count": 52,
   "metadata": {},
   "outputs": [
    {
     "data": {
      "text/plain": [
       "28996"
      ]
     },
     "execution_count": 52,
     "metadata": {},
     "output_type": "execute_result"
    }
   ],
   "source": [
    "len(tokenizer.vocab)"
   ]
  },
  {
   "cell_type": "code",
   "execution_count": 53,
   "metadata": {},
   "outputs": [
    {
     "data": {
      "text/plain": [
       "array(['insight', 'lyrical', '##ze', 'abuse', 'ed', 'patriarch', '##sy',\n",
       "       '##ess', 'Sources', 'bilingual'], dtype='<U18')"
      ]
     },
     "execution_count": 53,
     "metadata": {},
     "output_type": "execute_result"
    }
   ],
   "source": [
    "import numpy as np\n",
    "\n",
    "np.random.choice(list(tokenizer.vocab.keys()), 10)"
   ]
  },
  {
   "attachments": {},
   "cell_type": "markdown",
   "metadata": {},
   "source": [
    "El modelo `WordPiece` divide las palabras en varios tokens:\n"
   ]
  },
  {
   "cell_type": "code",
   "execution_count": 54,
   "metadata": {},
   "outputs": [
    {
     "name": "stdout",
     "output_type": "stream",
     "text": [
      "[101, 1103, 139, 9637, 1942, 22559, 17260, 1108, 1687, 1114, 170, 10683, 2101, 1663, 2093, 2235, 102]\n"
     ]
    }
   ],
   "source": [
    "output = tokenizer.encode(\"the BERT tokenizer was created with a WordPiece model\")\n",
    "print(output)"
   ]
  },
  {
   "cell_type": "code",
   "execution_count": 55,
   "metadata": {},
   "outputs": [
    {
     "data": {
      "text/plain": [
       "17"
      ]
     },
     "execution_count": 55,
     "metadata": {},
     "output_type": "execute_result"
    }
   ],
   "source": [
    "len(output)"
   ]
  },
  {
   "cell_type": "code",
   "execution_count": 56,
   "metadata": {},
   "outputs": [
    {
     "name": "stdout",
     "output_type": "stream",
     "text": [
      "['the', 'B', '##ER', '##T', 'token', '##izer', 'was', 'created', 'with', 'a', 'Word', '##P', '##ie', '##ce', 'model']\n"
     ]
    }
   ],
   "source": [
    "# Piece no la conoce porque no conoce ##Piece a mitad de palabra,\n",
    "# En cambio, como palabra suelta si que las conoce Piece, piece y ##piece\n",
    "output = tokenizer.tokenize(\"the BERT tokenizer was created with a WordPiece model\")\n",
    "print(output)"
   ]
  },
  {
   "cell_type": "code",
   "execution_count": 57,
   "metadata": {},
   "outputs": [
    {
     "data": {
      "text/plain": [
       "15"
      ]
     },
     "execution_count": 57,
     "metadata": {},
     "output_type": "execute_result"
    }
   ],
   "source": [
    "len(output)"
   ]
  },
  {
   "attachments": {},
   "cell_type": "markdown",
   "metadata": {},
   "source": [
    "Para utilizar un documento tokenizado en BERT tenemos que convertirlo en tokens con el método `tokenizer`"
   ]
  },
  {
   "cell_type": "code",
   "execution_count": 58,
   "metadata": {},
   "outputs": [],
   "source": [
    "output = tokenizer(\"the BERT tokenizer was created with a WordPiece model\")"
   ]
  },
  {
   "cell_type": "code",
   "execution_count": 59,
   "metadata": {},
   "outputs": [
    {
     "data": {
      "text/plain": [
       "{'input_ids': [101, 1103, 139, 9637, 1942, 22559, 17260, 1108, 1687, 1114, 170, 10683, 2101, 1663, 2093, 2235, 102], 'token_type_ids': [0, 0, 0, 0, 0, 0, 0, 0, 0, 0, 0, 0, 0, 0, 0, 0, 0], 'attention_mask': [1, 1, 1, 1, 1, 1, 1, 1, 1, 1, 1, 1, 1, 1, 1, 1, 1]}"
      ]
     },
     "execution_count": 59,
     "metadata": {},
     "output_type": "execute_result"
    }
   ],
   "source": [
    "output"
   ]
  },
  {
   "cell_type": "code",
   "execution_count": 60,
   "metadata": {},
   "outputs": [],
   "source": [
    "output = tokenizer(\"the BERT tokenizer was created with a WordPiece model\", padding='max_length')\n"
   ]
  },
  {
   "cell_type": "code",
   "execution_count": 61,
   "metadata": {},
   "outputs": [
    {
     "data": {
      "text/plain": [
       "{'input_ids': [101, 1103, 139, 9637, 1942, 22559, 17260, 1108, 1687, 1114, 170, 10683, 2101, 1663, 2093, 2235, 102, 0, 0, 0, 0, 0, 0, 0, 0, 0, 0, 0, 0, 0, 0, 0, 0, 0, 0, 0, 0, 0, 0, 0, 0, 0, 0, 0, 0, 0, 0, 0, 0, 0, 0, 0, 0, 0, 0, 0, 0, 0, 0, 0, 0, 0, 0, 0, 0, 0, 0, 0, 0, 0, 0, 0, 0, 0, 0, 0, 0, 0, 0, 0, 0, 0, 0, 0, 0, 0, 0, 0, 0, 0, 0, 0, 0, 0, 0, 0, 0, 0, 0, 0, 0, 0, 0, 0, 0, 0, 0, 0, 0, 0, 0, 0, 0, 0, 0, 0, 0, 0, 0, 0, 0, 0, 0, 0, 0, 0, 0, 0, 0, 0, 0, 0, 0, 0, 0, 0, 0, 0, 0, 0, 0, 0, 0, 0, 0, 0, 0, 0, 0, 0, 0, 0, 0, 0, 0, 0, 0, 0, 0, 0, 0, 0, 0, 0, 0, 0, 0, 0, 0, 0, 0, 0, 0, 0, 0, 0, 0, 0, 0, 0, 0, 0, 0, 0, 0, 0, 0, 0, 0, 0, 0, 0, 0, 0, 0, 0, 0, 0, 0, 0, 0, 0, 0, 0, 0, 0, 0, 0, 0, 0, 0, 0, 0, 0, 0, 0, 0, 0, 0, 0, 0, 0, 0, 0, 0, 0, 0, 0, 0, 0, 0, 0, 0, 0, 0, 0, 0, 0, 0, 0, 0, 0, 0, 0, 0, 0, 0, 0, 0, 0, 0, 0, 0, 0, 0, 0, 0, 0, 0, 0, 0, 0, 0, 0, 0, 0, 0, 0, 0, 0, 0, 0, 0, 0, 0, 0, 0, 0, 0, 0, 0, 0, 0, 0, 0, 0, 0, 0, 0, 0, 0, 0, 0, 0, 0, 0, 0, 0, 0, 0, 0, 0, 0, 0, 0, 0, 0, 0, 0, 0, 0, 0, 0, 0, 0, 0, 0, 0, 0, 0, 0, 0, 0, 0, 0, 0, 0, 0, 0, 0, 0, 0, 0, 0, 0, 0, 0, 0, 0, 0, 0, 0, 0, 0, 0, 0, 0, 0, 0, 0, 0, 0, 0, 0, 0, 0, 0, 0, 0, 0, 0, 0, 0, 0, 0, 0, 0, 0, 0, 0, 0, 0, 0, 0, 0, 0, 0, 0, 0, 0, 0, 0, 0, 0, 0, 0, 0, 0, 0, 0, 0, 0, 0, 0, 0, 0, 0, 0, 0, 0, 0, 0, 0, 0, 0, 0, 0, 0, 0, 0, 0, 0, 0, 0, 0, 0, 0, 0, 0, 0, 0, 0, 0, 0, 0, 0, 0, 0, 0, 0, 0, 0, 0, 0, 0, 0, 0, 0, 0, 0, 0, 0, 0, 0, 0, 0, 0, 0, 0, 0, 0, 0, 0, 0, 0, 0, 0, 0, 0, 0, 0, 0, 0, 0, 0, 0, 0, 0, 0, 0, 0, 0, 0, 0, 0, 0, 0, 0, 0, 0, 0, 0, 0, 0, 0, 0, 0, 0, 0, 0, 0, 0, 0, 0, 0, 0, 0, 0, 0, 0, 0, 0, 0, 0, 0, 0, 0, 0, 0, 0, 0, 0], 'token_type_ids': [0, 0, 0, 0, 0, 0, 0, 0, 0, 0, 0, 0, 0, 0, 0, 0, 0, 0, 0, 0, 0, 0, 0, 0, 0, 0, 0, 0, 0, 0, 0, 0, 0, 0, 0, 0, 0, 0, 0, 0, 0, 0, 0, 0, 0, 0, 0, 0, 0, 0, 0, 0, 0, 0, 0, 0, 0, 0, 0, 0, 0, 0, 0, 0, 0, 0, 0, 0, 0, 0, 0, 0, 0, 0, 0, 0, 0, 0, 0, 0, 0, 0, 0, 0, 0, 0, 0, 0, 0, 0, 0, 0, 0, 0, 0, 0, 0, 0, 0, 0, 0, 0, 0, 0, 0, 0, 0, 0, 0, 0, 0, 0, 0, 0, 0, 0, 0, 0, 0, 0, 0, 0, 0, 0, 0, 0, 0, 0, 0, 0, 0, 0, 0, 0, 0, 0, 0, 0, 0, 0, 0, 0, 0, 0, 0, 0, 0, 0, 0, 0, 0, 0, 0, 0, 0, 0, 0, 0, 0, 0, 0, 0, 0, 0, 0, 0, 0, 0, 0, 0, 0, 0, 0, 0, 0, 0, 0, 0, 0, 0, 0, 0, 0, 0, 0, 0, 0, 0, 0, 0, 0, 0, 0, 0, 0, 0, 0, 0, 0, 0, 0, 0, 0, 0, 0, 0, 0, 0, 0, 0, 0, 0, 0, 0, 0, 0, 0, 0, 0, 0, 0, 0, 0, 0, 0, 0, 0, 0, 0, 0, 0, 0, 0, 0, 0, 0, 0, 0, 0, 0, 0, 0, 0, 0, 0, 0, 0, 0, 0, 0, 0, 0, 0, 0, 0, 0, 0, 0, 0, 0, 0, 0, 0, 0, 0, 0, 0, 0, 0, 0, 0, 0, 0, 0, 0, 0, 0, 0, 0, 0, 0, 0, 0, 0, 0, 0, 0, 0, 0, 0, 0, 0, 0, 0, 0, 0, 0, 0, 0, 0, 0, 0, 0, 0, 0, 0, 0, 0, 0, 0, 0, 0, 0, 0, 0, 0, 0, 0, 0, 0, 0, 0, 0, 0, 0, 0, 0, 0, 0, 0, 0, 0, 0, 0, 0, 0, 0, 0, 0, 0, 0, 0, 0, 0, 0, 0, 0, 0, 0, 0, 0, 0, 0, 0, 0, 0, 0, 0, 0, 0, 0, 0, 0, 0, 0, 0, 0, 0, 0, 0, 0, 0, 0, 0, 0, 0, 0, 0, 0, 0, 0, 0, 0, 0, 0, 0, 0, 0, 0, 0, 0, 0, 0, 0, 0, 0, 0, 0, 0, 0, 0, 0, 0, 0, 0, 0, 0, 0, 0, 0, 0, 0, 0, 0, 0, 0, 0, 0, 0, 0, 0, 0, 0, 0, 0, 0, 0, 0, 0, 0, 0, 0, 0, 0, 0, 0, 0, 0, 0, 0, 0, 0, 0, 0, 0, 0, 0, 0, 0, 0, 0, 0, 0, 0, 0, 0, 0, 0, 0, 0, 0, 0, 0, 0, 0, 0, 0, 0, 0, 0, 0, 0, 0, 0, 0, 0, 0, 0, 0, 0, 0, 0, 0, 0, 0, 0, 0, 0, 0, 0, 0, 0, 0, 0, 0, 0, 0, 0, 0, 0, 0, 0, 0, 0, 0, 0, 0, 0, 0, 0, 0, 0], 'attention_mask': [1, 1, 1, 1, 1, 1, 1, 1, 1, 1, 1, 1, 1, 1, 1, 1, 1, 0, 0, 0, 0, 0, 0, 0, 0, 0, 0, 0, 0, 0, 0, 0, 0, 0, 0, 0, 0, 0, 0, 0, 0, 0, 0, 0, 0, 0, 0, 0, 0, 0, 0, 0, 0, 0, 0, 0, 0, 0, 0, 0, 0, 0, 0, 0, 0, 0, 0, 0, 0, 0, 0, 0, 0, 0, 0, 0, 0, 0, 0, 0, 0, 0, 0, 0, 0, 0, 0, 0, 0, 0, 0, 0, 0, 0, 0, 0, 0, 0, 0, 0, 0, 0, 0, 0, 0, 0, 0, 0, 0, 0, 0, 0, 0, 0, 0, 0, 0, 0, 0, 0, 0, 0, 0, 0, 0, 0, 0, 0, 0, 0, 0, 0, 0, 0, 0, 0, 0, 0, 0, 0, 0, 0, 0, 0, 0, 0, 0, 0, 0, 0, 0, 0, 0, 0, 0, 0, 0, 0, 0, 0, 0, 0, 0, 0, 0, 0, 0, 0, 0, 0, 0, 0, 0, 0, 0, 0, 0, 0, 0, 0, 0, 0, 0, 0, 0, 0, 0, 0, 0, 0, 0, 0, 0, 0, 0, 0, 0, 0, 0, 0, 0, 0, 0, 0, 0, 0, 0, 0, 0, 0, 0, 0, 0, 0, 0, 0, 0, 0, 0, 0, 0, 0, 0, 0, 0, 0, 0, 0, 0, 0, 0, 0, 0, 0, 0, 0, 0, 0, 0, 0, 0, 0, 0, 0, 0, 0, 0, 0, 0, 0, 0, 0, 0, 0, 0, 0, 0, 0, 0, 0, 0, 0, 0, 0, 0, 0, 0, 0, 0, 0, 0, 0, 0, 0, 0, 0, 0, 0, 0, 0, 0, 0, 0, 0, 0, 0, 0, 0, 0, 0, 0, 0, 0, 0, 0, 0, 0, 0, 0, 0, 0, 0, 0, 0, 0, 0, 0, 0, 0, 0, 0, 0, 0, 0, 0, 0, 0, 0, 0, 0, 0, 0, 0, 0, 0, 0, 0, 0, 0, 0, 0, 0, 0, 0, 0, 0, 0, 0, 0, 0, 0, 0, 0, 0, 0, 0, 0, 0, 0, 0, 0, 0, 0, 0, 0, 0, 0, 0, 0, 0, 0, 0, 0, 0, 0, 0, 0, 0, 0, 0, 0, 0, 0, 0, 0, 0, 0, 0, 0, 0, 0, 0, 0, 0, 0, 0, 0, 0, 0, 0, 0, 0, 0, 0, 0, 0, 0, 0, 0, 0, 0, 0, 0, 0, 0, 0, 0, 0, 0, 0, 0, 0, 0, 0, 0, 0, 0, 0, 0, 0, 0, 0, 0, 0, 0, 0, 0, 0, 0, 0, 0, 0, 0, 0, 0, 0, 0, 0, 0, 0, 0, 0, 0, 0, 0, 0, 0, 0, 0, 0, 0, 0, 0, 0, 0, 0, 0, 0, 0, 0, 0, 0, 0, 0, 0, 0, 0, 0, 0, 0, 0, 0, 0, 0, 0, 0, 0, 0, 0, 0, 0, 0, 0, 0, 0, 0, 0, 0, 0, 0, 0, 0, 0, 0, 0, 0, 0, 0, 0, 0, 0, 0, 0, 0, 0, 0, 0, 0, 0, 0, 0, 0]}"
      ]
     },
     "execution_count": 61,
     "metadata": {},
     "output_type": "execute_result"
    }
   ],
   "source": [
    "output"
   ]
  },
  {
   "cell_type": "code",
   "execution_count": 62,
   "metadata": {},
   "outputs": [],
   "source": [
    "output = tokenizer(\"the BERT tokenizer\", \"was created with a WordPiece model\")\n"
   ]
  },
  {
   "cell_type": "code",
   "execution_count": 63,
   "metadata": {},
   "outputs": [
    {
     "data": {
      "text/plain": [
       "{'input_ids': [101, 1103, 139, 9637, 1942, 22559, 17260, 102, 1108, 1687, 1114, 170, 10683, 2101, 1663, 2093, 2235, 102], 'token_type_ids': [0, 0, 0, 0, 0, 0, 0, 0, 1, 1, 1, 1, 1, 1, 1, 1, 1, 1], 'attention_mask': [1, 1, 1, 1, 1, 1, 1, 1, 1, 1, 1, 1, 1, 1, 1, 1, 1, 1]}"
      ]
     },
     "execution_count": 63,
     "metadata": {},
     "output_type": "execute_result"
    }
   ],
   "source": [
    "output"
   ]
  },
  {
   "cell_type": "code",
   "execution_count": 64,
   "metadata": {},
   "outputs": [
    {
     "name": "stdout",
     "output_type": "stream",
     "text": [
      "['[CLS]', 'the', 'B', '##ER', '##T', 'token', '##izer', '[SEP]', 'was', 'created', 'with', 'a', 'Word', '##P', '##ie', '##ce', 'model', '[SEP]']\n"
     ]
    }
   ],
   "source": [
    "#este método añade unos tokens especiales a cada documento\n",
    "print(tokenizer.convert_ids_to_tokens(output.input_ids))"
   ]
  },
  {
   "cell_type": "code",
   "execution_count": 65,
   "metadata": {},
   "outputs": [
    {
     "data": {
      "text/plain": [
       "['[PAD]', '[UNK]', '[CLS]', '[SEP]', '[MASK]']"
      ]
     },
     "execution_count": 65,
     "metadata": {},
     "output_type": "execute_result"
    }
   ],
   "source": [
    "#tokens especiales\n",
    "tokenizer.convert_ids_to_tokens([0, 100, 101, 102, 103])"
   ]
  },
  {
   "attachments": {},
   "cell_type": "markdown",
   "metadata": {},
   "source": [
    "Tokenizado de pares de frases (para aplicaciones como NLI o QA)"
   ]
  },
  {
   "cell_type": "code",
   "execution_count": 66,
   "metadata": {},
   "outputs": [
    {
     "data": {
      "text/plain": [
       "{'input_ids': [[101, 1103, 139, 9637, 1942, 22559, 17260, 1108, 1687, 1114, 170, 10683, 2101, 1663, 2093, 2235, 102, 1135, 1110, 1145, 1936, 1106, 22559, 3708, 6802, 1104, 10028, 102]], 'token_type_ids': [[0, 0, 0, 0, 0, 0, 0, 0, 0, 0, 0, 0, 0, 0, 0, 0, 0, 1, 1, 1, 1, 1, 1, 1, 1, 1, 1, 1]], 'attention_mask': [[1, 1, 1, 1, 1, 1, 1, 1, 1, 1, 1, 1, 1, 1, 1, 1, 1, 1, 1, 1, 1, 1, 1, 1, 1, 1, 1, 1]]}"
      ]
     },
     "execution_count": 66,
     "metadata": {},
     "output_type": "execute_result"
    }
   ],
   "source": [
    "\n",
    "output = tokenizer([[\"the BERT tokenizer was created with a WordPiece model\",\n",
    "    \"It is also possible to tokenize lists of sequences\"]])\n",
    "output"
   ]
  },
  {
   "cell_type": "code",
   "execution_count": 67,
   "metadata": {},
   "outputs": [
    {
     "name": "stdout",
     "output_type": "stream",
     "text": [
      "[CLS] the BERT tokenizer was created with a WordPiece model [SEP] It is also possible to tokenize lists of sequences [SEP]\n"
     ]
    }
   ],
   "source": [
    "print(tokenizer.decode(output['input_ids'][0]))"
   ]
  },
  {
   "attachments": {},
   "cell_type": "markdown",
   "metadata": {},
   "source": [
    "Tokenizado de un corpus de documentos"
   ]
  },
  {
   "cell_type": "code",
   "execution_count": 68,
   "metadata": {},
   "outputs": [
    {
     "name": "stdout",
     "output_type": "stream",
     "text": [
      "**Input IDs**\n",
      "[101, 1188, 2523, 1108, 1632, 106, 102, 0, 0, 0, 0]\n",
      "[101, 146, 5687, 1142, 1815, 117, 5671, 1104, 1159, 106, 102]\n",
      "[101, 17375, 136, 102, 0, 0, 0, 0, 0, 0, 0]\n",
      "**Attention Mask**\n",
      "[1, 1, 1, 1, 1, 1, 1, 0, 0, 0, 0]\n",
      "[1, 1, 1, 1, 1, 1, 1, 1, 1, 1, 1]\n",
      "[1, 1, 1, 1, 0, 0, 0, 0, 0, 0, 0]\n"
     ]
    }
   ],
   "source": [
    "text = [\n",
    "    \"This movie was great!\",\n",
    "    \"I hated this move, waste of time!\",\n",
    "    \"Epic?\"\n",
    "]\n",
    "\n",
    "encoded = tokenizer(text, padding=True, add_special_tokens=True)\n",
    "\n",
    "print(\"**Input IDs**\")\n",
    "for a in encoded.input_ids:\n",
    "    print(a)\n",
    "\n",
    "print(\"**Attention Mask**\")\n",
    "for a in encoded.attention_mask:\n",
    "    print(a)"
   ]
  },
  {
   "cell_type": "markdown",
   "metadata": {},
   "source": [
    "Cuidado con el lado por el que se realiza el *padding* (para aplicaciones de generación de texto es necesario hacerlo por la izquierda)"
   ]
  },
  {
   "cell_type": "code",
   "execution_count": 69,
   "metadata": {},
   "outputs": [
    {
     "name": "stdout",
     "output_type": "stream",
     "text": [
      "**Input IDs**\n",
      "[0, 0, 0, 0, 101, 1188, 2523, 1108, 1632, 106, 102]\n",
      "[101, 146, 5687, 1142, 1815, 117, 5671, 1104, 1159, 106, 102]\n",
      "[0, 0, 0, 0, 0, 0, 0, 101, 17375, 136, 102]\n",
      "**Attention Mask**\n",
      "[0, 0, 0, 0, 1, 1, 1, 1, 1, 1, 1]\n",
      "[1, 1, 1, 1, 1, 1, 1, 1, 1, 1, 1]\n",
      "[0, 0, 0, 0, 0, 0, 0, 1, 1, 1, 1]\n"
     ]
    }
   ],
   "source": [
    "tokenizer = AutoTokenizer.from_pretrained(\"bert-base-cased\", padding_side=\"left\")\n",
    "\n",
    "encoded = tokenizer(text, padding=True, add_special_tokens=True)\n",
    "\n",
    "print(\"**Input IDs**\")\n",
    "for a in encoded.input_ids:\n",
    "    print(a)\n",
    "\n",
    "print(\"**Attention Mask**\")\n",
    "for a in encoded.attention_mask:\n",
    "    print(a)"
   ]
  },
  {
   "cell_type": "code",
   "execution_count": 70,
   "metadata": {},
   "outputs": [
    {
     "data": {
      "text/plain": [
       "dict_keys(['input_ids', 'token_type_ids', 'attention_mask'])"
      ]
     },
     "execution_count": 70,
     "metadata": {},
     "output_type": "execute_result"
    }
   ],
   "source": [
    "encoded.keys()"
   ]
  },
  {
   "attachments": {},
   "cell_type": "markdown",
   "metadata": {},
   "source": [
    "## Análisis del vocabulario\n",
    "El vocabulario contiene palabras completas y partes de palabra (tokens que comienzan por '##')"
   ]
  },
  {
   "cell_type": "code",
   "execution_count": 71,
   "metadata": {},
   "outputs": [],
   "source": [
    "one_chars = []\n",
    "one_chars_hashes = []\n",
    "\n",
    "# For each token in the vocabulary...\n",
    "for token in tokenizer.vocab.keys():\n",
    "    \n",
    "    # Record any single-character tokens.\n",
    "    if len(token) == 1:\n",
    "        one_chars.append(token)\n",
    "    \n",
    "    # Record single-character tokens preceded by the two hashes.    \n",
    "    elif len(token) == 3 and token[0:2] == '##':\n",
    "        one_chars_hashes.append(token)"
   ]
  },
  {
   "cell_type": "code",
   "execution_count": 72,
   "metadata": {},
   "outputs": [
    {
     "name": "stdout",
     "output_type": "stream",
     "text": [
      "['ा', 'ί', 'ר', 'đ', '北', 'Í', 'भ', 'গ', 'ˢ', 'Х', '。', 'ώ', 'দ', 'आ', 'ᵣ', 'ǒ', 'य', 'ừ', 'Y', 'Ħ', '和', '་', 'ᴬ', 'ہ', '戸', '∧', 'Ф', 'q', 'ن', 'h', 'ć', 'λ', 'ח', 'र', '?', 'и', 'ḥ', 'ي', '⁺', 'ज', 'ガ', '美', 'ʳ', 'য', 'ğ', 'ə', 'Á', 'み', 'の', 'ء', '⁶', 'Н', '÷', 'ב', 'ψ', 'Š', '♣', 'চ', '☆', 'ك', 'ー', 'D', '♦', '7', 'ো', 'Æ', '義', '∂', 'r', '̍', 'Ə', 'ż', '野', '€', 'Ó', 'ā', 'Ю', 'У', '-', 'x', 'ύ', 'よ', '原', '√', 'ề', 'ể', 'ז', 'ா', 'ụ', '金', 'æ', '⁸', 'y', 'ম', 'ী', 'ἀ', 'に', 'ি', 'ǔ', '¾', '♥', '王', '青', '白', '⁻', 'Đ', 'ℝ', '門', 'て', 'כ', 'რ', '島', 'ם', '馬', '囗', '×', '§', 'シ', '®', '₱', '←', 'Ľ', 'N', 'ã', 'ₘ', 'ं', '，', '의', 'থ', 'К', 'ʼ', 'І', 'γ', 'হ', '★', '’', '！', 'り', '―', 'ġ', '尚', '：', 'Θ', '、', '≡', 'ʾ', 'ч', 'क', '₂', 'ذ', '省', 'ز', 'ľ', '星', 'ų', '方', 'S', '/', '・', 'ё', 'Q', 'κ', 'ন', 'স', '¬', 'ầ', 'ὶ', '上', 'ნ', 'ớ', '─', '⋅', 'ạ', 'ô', '͡', 'ש', 'A', 'ό', 'ₖ', 'Г', 'े', 'ŵ', 'ʂ', 'а', 'ř', 'ᵀ', '[', 'ト', 'ᵐ', 'ò', 'Å', 'ラ', '武', 'ַ', 'ы', 'स', 'τ', '±', 'ィ', '₅', '0', 'བ', 'ッ', '.', 'ī', 'ス', '光', 'յ', 'や', 'ོ', 'ț', 'л', 'ん', 'т', 'ξ', 'ب', '⟨', '南', '⅓', 'མ', 'ï', 'ǐ', 'ブ', '⊆', 'W', 'َ', 'ᴵ', '8', '=', 'ا', 'ủ', 'ɔ', 'マ', '⇒', 'प', 'ה', 'ł', 'ʑ', 'ї', 'م', '月', 'ル', 'ص', 'ỹ', '正', '<', '‰', 'ᵥ', 'ʁ', 'ᶜ', 'ل', '♠', '花', 'ִ', 'ơ', 'ṭ', '》', 'な', 'ٹ', '씨', 'ர', 'ᵉ', 'э', 'ì', 'ब', '十', 'φ', 'G', '´', 'パ', 'خ', '書', 'お', 'Ј', 'ი', '‖', 'Ա', 'х', '平', 'ë', 'V', '‐', 'ñ', '龍', 'ỳ', 'ÿ', '6', '谷', 'ń', 'ƒ', 'え', 'む', 'ま', 'ₕ', 'Φ', 'द', 'か', 'ọ', 'ª', '口', 'ս', '文', 'ₛ', 'ه', 'ὐ', 'す', 't', 'õ', '〜', '日', 'Ø', 'ó', 'ῦ', 'ק', 'ग', '″', 'Ú', 'ظ', 'ʔ', '年', 'ן', 'ン', 'Л', 'ð', '／', 'ş', '*', 'H', 'Π', 'ت', '小', '）', 'ь', '₇', 'Ñ', 'ổ', 'Τ', '«', '%', 'Д', 'ḍ', 'إ', 'ħ', 'そ', 'Ś', '子', 'ị', 'ʒ', 'v', 'غ', '●', 'ப', 'μ', '竹', 'ő', '‡', 'њ', 'к', '長', 'č', 'き', 'Ν', 'ナ', 'ɛ', 'ζ', 'Ж', 'く', '¨', 'χ', 'ữ', 'জ', 'Р', 'ལ', '`', 'ע', 'В', 'ṛ', 'ʻ', '½', 'ḳ', \"'\", ']', 'K', 'ː', 'ờ', 'ய', 'ة', 'н', 'こ', 'й', 'ư', 'Ş', 'ɡ', 'ẩ', 'ǫ', 'ט', 'ض', 'ɪ', 'א', '¢', 'տ', 'ᵗ', 'w', 'Ç', 'Γ', 'ṃ', '神', 'ク', '車', 'ᶠ', 'ė', '‒', 'ध', 'à', 'い', 'ო', '»', 'Č', 'ě', 'ֹ', 'ž', '₀', 'M', '力', 'ἐ', 'ј', 'Œ', 'ū', 'ち', '²', '{', 'Þ', 'ấ', 'ʐ', 'T', 'ु', '♭', 'と', 'ᵈ', 'ḩ', 'ա', 'F', 'ṇ', '|', 'ố', 'Ο', '₊', 'ى', '江', '₉', 'ₓ', 'ť', '−', 'υ', 'ण', 'ˣ', '國', 's', 'р', 'L', 'ж', '이', 'ῖ', '⁄', 'ི', 'ü', 'Β', 'ո', 'η', '東', 'ᵖ', '⟩', 'ف', '水', '\\\\', '真', 'た', 'ю', 'ᵍ', '№', '্', 'ú', '林', '≠', 'п', 'ś', 'コ', 'û', 'া', 'í', '「', 'Ц', 'त', '⊂', '≥', 'ē', '\"', 'I', 'ₒ', '→', 'ŋ', '亻', '₹', 'Ā', 'ང', 'ش', '∘', 'ハ', 'न', 'Ч', '太', 'ল', 'ä', '≈', 'm', 'ֶ', 'ω', 'ছ', 'ム', 'é', '॥', 'ŏ', 'শ', 'ր', 'α', 'ག', '川', 'ে', 'ø', 'ℓ', 'ร', '■', 'ď', 'テ', 'ế', 'ˈ', 'ʰ', 'º', '₤', 'â', 'ʋ', 'ễ', 'ک', 'ɑ', '陽', '한', '州', '∪', 'Η', '•', '†', 'し', 'O', 'イ', 'も', '同', 'ц', 'ե', 'ג', 'ů', 'ɨ', '郎', 'ö', '石', 'つ', '¹', 'پ', '사', 'С', 'ུ', '–', 'É', '井', 'Χ', 'l', '宀', 'த', 'ष', 'ι', 'ɣ', 'ɲ', '≤', 'ù', '☉', 'ɕ', '⁰', 'µ', 'ے', 'þ', '司', '道', 'ũ', 'k', 'ِ', 'ம', '।', 'আ', 'ţ', 'ō', 'プ', 'ự', 'せ', 'د', 'ʊ', 'ն', '夫', 'z', '－', '₆', 'ň', '‑', 'Ž', '₃', 'ミ', 'г', '三', 'Б', '!', 'Ü', 'ས', 'ी', '£', 'נ', 'ད', 'ャ', 'ু', '辶', 'Ţ', 'i', 'с', 'ử', 'ο', '↔', '⁴', 'ǎ', 'ব', '′', '京', '₎', 'ά', 'İ', 'ར', '3', '二', ',', 'ロ', 'Ḥ', 'め', 'آ', 'Ż', '“', '社', 'ら', 'в', 'œ', 'ồ', '藤', 'ও', 'る', 'ɾ', '+', 'Σ', '¡', 'म', 'ན', 'ط', 'ą', 'ὁ', '田', 'ή', 'ș', 'ћ', '宮', '吉', 'け', '侍', 'ジ', 'О', 'ı', '”', 'ç', 'ả', 'Я', '^', 'Α', 'ლ', '⁷', 'д', 'れ', 'ʌ', 'ह', 'ʲ', '河', 'ῶ', 'ְ', 'Â', 'வ', 'Ö', '4', 'ع', '安', 'ⱼ', 'ு', 'у', 'з', 'چ', 'פ', 'ộ', 'ی', '海', '$', '天', '《', '西', 'կ', 'ュ', 'এ', 'X', '食', '愛', 'ს', 'P', '∞', 'J', 'c', 'প', '́', 'ļ', 'Κ', 'ņ', '…', 'g', 'π', 'Ț', 'м', '&', 'ւ', 'オ', '∨', '明', '郡', '9', 'グ', 'ニ', '‚', 'З', '史', 'ⁱ', '国', 'ָ', 'М', 'う', 'ﬁ', 'ა', 'À', 'Т', 'Ḩ', 'Ι', '本', 'ὸ', 'ᵤ', 'ₐ', '生', '₈', '#', 'ج', 'さ', '¥', 'ত', '∗', 'Э', 'я', 'ă', 'ئ', 'ひ', '山', 'ợ', '新', '李', 'σ', '्', '↑', '一', 'B', 'Î', 'ो', '高', 'ᵏ', '士', 'খ', 'C', 'Ψ', 'র', 'П', 'گ', '̯', 'ₙ', 'Հ', 'ŷ', 'ậ', 'b', 'ź', 'ダ', '_', '犬', 'च', 'f', 'ア', '版', 'R', 'Ε', '』', 'צ', 'Ł', '大', '₁', 'Λ', 'е', '心', 'j', '宿', 'ﬂ', 'Ш', 'エ', '⊕', 'ד', '،', '下', '>', 'մ', '³', 'ệ', 'ắ', '̃', 'デ', 'ᵃ', 'ῆ', '(', '°', '₍', '村', 'ф', '松', 'î', 'Δ', 'ᵘ', '@', '中', 'o', '（', 'ث', 'リ', 'ゆ', ')', 'ת', 'キ', 'ر', 'ו', 'Ä', '·', 'و', 'ê', 'ེ', 'ე', 'è', '„', '¼', 'は', 'È', 'ⁿ', 'о', 'व', '部', 'レ', 'ш', 'サ', 'ই', '女', 'Ī', '¿', 'і', 'И', 'ṣ', 'θ', 'Ω', 'ि', '©', 'd', '⇌', '}', 'ி', 'カ', 'ド', 'щ', 'أ', 'ứ', '‘', 'ₚ', '~', '₄', 'ę', 'タ', 'á', '龸', 'Z', 'س', '়', '∩', '佐', 'ট', 'ₜ', 'š', 'β', 'ß', '5', 'ĩ', 'Ș', '木', 'ρ', 'ס', 'e', ';', 'ல', 'バ', 'Ō', '்', '土', 'ű', '城', 'έ', 'ʃ', '—', 'ق', '1', 'ς', 'ʀ', 'А', 'u', 'ح', '仁', 'б', '氵', 'ν', '皇', 'ल', 'श', 'ʷ', 'n', 'Ć', 'a', 'ὰ', 'ý', 'U', 'ズ', '事', 'ל', 'ᵇ', '⁹', 'ŭ', '⁵', '氏', 'য়', 'ɐ', 'フ', '¶', 'ի', '人', 'ˡ', '『', '∈', 'ʿ', 'ṅ', 'p', 'க', 'י', '」', 'δ', 'מ', 'Μ', '2', 'ε', 'ধ', 'ₑ', 'ֵ', '♯', 'ּ', 'ক', '公', 'E', 'ᵢ', 'ъ', 'ウ', 'ᵒ', 'Е', 'å', ':', '│']\n"
     ]
    }
   ],
   "source": [
    "print(one_chars)"
   ]
  },
  {
   "cell_type": "code",
   "execution_count": 73,
   "metadata": {},
   "outputs": [
    {
     "name": "stdout",
     "output_type": "stream",
     "text": [
      "['##!', '##ي', '##ნ', '##→', '##h', '##।', '##P', '##ধ', '##வ', '##り', '##氏', '##年', '##ố', '##佐', '##শ', '##ː', '##ও', '##公', '##œ', '##₍', '##Ł', '##„', '##ع', '##ù', '##}', '##ئ', '##η', '##σ', '##‒', '##田', '##ी', '##ت', '##人', '##ﬂ', '##ּ', '##Ə', '##ª', '##ˡ', '##å', '##白', '##С', '##－', '##ظ', '##ₘ', '##د', '##ờ', '##≤', '##Х', '##7', '##Ф', '##や', '##谷', '##た', '##囗', '##ₒ', '##Σ', '##े', '##+', '##Ј', '##ⱼ', '##ų', '##¬', '##¥', '##ض', '##س', '##ة', '##গ', '##三', '##ỹ', '##ч', '##Y', '##Π', '##մ', '##་', '##ɾ', '##石', '##ə', '##₀', '##ś', '##ა', '##一', '##長', '##ʳ', '##ổ', '##ラ', '##ừ', '##া', '##Н', '##?', '##亻', '##נ', '##⁴', '##て', '##ᵇ', '##Š', '##武', '##′', '##Τ', '##،', '##З', '##ъ', '##ậ', '##ė', '##ŏ', '##ʿ', '##»', '##愛', '##ᵃ', '##ₕ', '##ᵢ', '##ῖ', '##尚', '##ŵ', '##侍', '##ʻ', '##ֹ', '##夫', '##ν', '##←', '##ס', '##γ', '##म', '##ỳ', '##£', '##š', '##國', '##河', '##ώ', '##ء', '##ر', '##о', '##ü', '##ི', '##~', '##″', '##ʊ', '##´', '##ê', '##真', '##ف', '##ₑ', '##Ç', '##τ', '##ப', '##ῦ', '##ј', '##×', '##∘', '##ན', '##ট', '##к', '##ḍ', '##ł', '##И', '##コ', '##ύ', '##ḳ', '##ử', '##¼', '##ナ', '##إ', '##⇌', '##⇒', '##ἐ', '##ğ', '##”', '##ä', '##[', '##♠', '##司', '##ե', '##ı', '##ひ', '##ē', '##ィ', '##̯', '##ɕ', '##∗', '##ら', '##む', '##『', '##レ', '##ợ', '##T', '##ہ', '##♣', '##士', '##も', '##ż', '##î', '##ề', '##φ', '##e', '##བ', '##ồ', '##চ', '##¡', '##ش', '##ע', '##X', '##！', '##ド', '##ú', '##ī', '##ʒ', '##L', '##ᵏ', '##प', '##カ', '##E', '##è', '##ò', '##{', '##ễ', '##°', '##テ', '##ý', '##い', '##ח', '##ὰ', '##É', '##Ş', '##ו', '##⁹', '##ļ', '###', '##ָ', '##ズ', '##à', '##オ', '##ʋ', '##ₜ', '##郎', '##M', '##ג', '##ガ', '##₂', '##ֵ', '##ב', '##₃', '##∈', '##ю', '##ה', '##ジ', '##子', '##ŭ', '##ン', \"##'\", '##，', '##ă', '##事', '##Ο', '##門', '##g', '##ц', '##چ', '##ô', '##>', '##フ', '##ď', '##έ', '##ち', '##غ', '##タ', '##х', '##य', '##天', '##⊂', '##す', '##。', '##x', '##A', '##ா', '##ٹ', '##ー', '##я', '##ï', '##ᴬ', '##&', '##ḩ', '##ư', '##ấ', '##ང', '##ь', '##ス', '##æ', '##ˣ', '##ט', '##Α', '##ǐ', '##ब', '##v', '##ण', '##স', '##आ', '##部', '##吉', '##ᵘ', '##口', '##А', '##ῆ', '##ẩ', '##ρ', '##−', '##ÿ', '##ʰ', '##ë', '##ŋ', '##₈', '##⁻', '##མ', '##犬', '##ッ', '##の', '##ω', '##ن', '##₊', '##る', '##ἀ', '##Ć', '##ⁱ', '##ལ', '##®', '##ร', '##“', '##Č', '##ष', '##宮', '##社', '##ì', '##ニ', '##ŷ', '##্', '##र', '##日', '##_', '##H', '##ữ', '##竹', '##з', '##ى', '##ǒ', '##c', '##グ', '##∩', '##ق', '##Γ', '##ć', '##ར', '##·', '##Ø', '##ƒ', '##씨', '##á', '##山', '##水', '##‰', '##ů', '##ל', '##₇', '##李', '##º', '##ま', '##‐', '##プ', '##さ', '##₄', '##G', '##י', '##ლ', '##o', '##そ', '##♥', '##k', '##「', '##☉', '##—', '##ダ', '##ग', '##せ', '##ث', '##ブ', '##ţ', '##ᵒ', '##ʲ', '##Ю', '##é', '##̍', '##版', '##№', '##¢', '##イ', '##ш', '##ᵤ', '##y', '##同', '##π', '##ས', '##₁', '##Ī', '##ハ', '##щ', '##ς', '##θ', '##ɐ', '##生', '##Κ', '##ₓ', '##@', '##ա', '##氵', '##<', '##キ', '##ւ', '##ą', '##\"', '##Я', '##十', '##Ö', '##ʃ', '##∧', '##ب', '##仁', '##ɨ', '##ا', '##Θ', '##آ', '##ћ', '##ַ', '##方', '##͡', '##こ', '##ध', '##خ', '##ს', '##／', '##Հ', '##3', '##ű', '##2', '##F', '##‚', '##⊆', '##/', '##श', '##星', '##│', '##Ħ', '##ö', '##ⁿ', '##ş', '##北', '##ø', '##─', '##ῶ', '##і', '##ק', '##₤', '##Î', '##ᵖ', '##Ü', '##戸', '##ί', '##ु', '##Ν', '##Т', '##사', '##♦', '##.', '##়', '##Е', '##州', '##ň', '##Þ', '##-', '##ὁ', '##Ḩ', '##Л', '##ل', '##њ', '##s', '##S', '##ে', '##ɣ', '##食', '##क', '##ž', '##下', '##α', '##م', '##j', '##Í', '##δ', '##থ', '##l', '##上', '##의', '##Ι', '##ح', '##ʑ', '##》', '##ɔ', '##井', '##ị', '##宿', '##ᶠ', '##Ś', '##ম', '##च', '##Б', '##ア', '##Ž', '##ト', '##i', '##খ', '##…', '##আ', '##O', '##郡', '##N', '##이', '##स', '##し', '##М', '##У', '##ℝ', '##ę', '##ন', '##$', '##Δ', '##と', '##⟩', '##Q', '##ź', '##西', '##ো', '##Ā', '##ʀ', '##¶', '##â', '##ʁ', '##R', '##Ա', '##Ä', '##¾', '##õ', '##Ș', '##≠', '##★', '##ם', '##ū', '##ể', '##м', '##ζ', '##б', '##е', '##け', '##দ', '##王', '##в', '##*', '##ᵀ', '##ả', '##у', '##†', '##а', '##C', '##ό', '##神', '##⊕', '##Ц', '##ְ', '##松', '##Ж', '##林', '##6', '##高', '##(', '##ת', '##東', '##V', '##מ', '##র', '##b', '##;', '##⁶', '##エ', '##ր', '##u', '##ě', '##藤', '##花', '##כ', '##ж', '##ġ', '##宀', '##д', '##յ', '##ذ', '##ο', '##ש', '##ș', '##本', '##お', '##U', '##ᴵ', '##ی', '##ủ', '##海', '##χ', '##5', '##÷', '##ộ', '##ớ', '##Z', '##国', '##Г', '##р', '##̃', '##9', '##ˈ', '##う', '##金', '##リ', '##z', '##:', '##ệ', '##中', '##ᵉ', '##ế', '##陽', '##ț', '##Ḥ', '##Ț', '##J', '##1', '##、', '##●', '##‖', '##ོ', '##ń', '##よ', '##տ', '##（', '##्', '##ǔ', '##گ', '##ু', '##µ', '##ₚ', '##デ', '##龸', '##ť', '##‡', '##ā', '##ã', '##ط', '##ے', '##ő', '##ι', '##ص', '##ὸ', '##土', '##β', '##ʌ', '##À', '##心', '##ᵐ', '##¿', '##：', '##Ú', '##¨', '##れ', '##√', '##þ', '##B', '##=', '##ħ', '##⁸', '##Á', '##ð', '##І', '##ή', '##त', '##ய', '##হ', '##ʔ', '##♭', '##↑', '##川', '##え', '##ত', '##≈', '##江', '##ד', '##н', '##☆', '##¹', '##û', '##ე', '##₱', '##龍', '##ﬁ', '##ウ', '##Â', '##4', '##ᵣ', '##二', '##ḥ', '##জ', '##ा', '##ὶ', '##ِ', '##大', '##т', '##ṛ', '##ʼ', '##ũ', '##I', '##п', '##0', '##॥', '##マ', '##К', '##한', '##正', '##省', '##ё', '##ε', '##辶', '##K', '##ˢ', '##ĩ', '##ṇ', '##ज', '##ₛ', '##ᵥ', '##َ', '##л', '##文', '##ņ', '##Ż', '##و', '##め', '##ز', '##ר', '##ₖ', '##ǫ', '##ह', '##ụ', '##க', '##ы', '##力', '##ʷ', '##Ε', '##μ', '##ṅ', '##パ', '##न', '##女', '##₎', '##ュ', '##m', '##½', '##ი', '##ç', '##э', '##月', '##ो', '##ξ', '##ф', '##П', '##ľ', '##車', '##ロ', '##Χ', '##ই', '##ψ', '##■', '##,', '##ọ', '##き', '##«', '##أ', '##й', '##ɪ', '##)', '##ি', '##₉', '##和', '##ß', '##פ', '##ₐ', '##Œ', '##野', '##≥', '##©', '##⁄', '##–', '##Φ', '##に', '##↔', '##%', '##ك', '##ག', '##́', '##」', '##υ', '##€', '##ক', '##w', '##ն', '##ơ', '##Æ', '##א', '##կ', '##и', '##ব', '##』', '##³', '##ִ', '##ल', '##Ō', '##ო', '##原', '##ո', '##Э', '##ர', '##♯', '##ї', '##ṣ', '##ེ', '##λ', '##Ω', '##đ', '##・', '##⁺', '##்', '##q', '##য়', '##ུ', '##§', '##²', '##‘', '##κ', '##ク', '##ী', '##Ľ', '##新', '##f', '##द', '##İ', '##ầ', '##ʐ', '##―', '##ᵈ', '##ự', '##Ţ', '##ɑ', '##č', '##⋅', '##ʂ', '##道', '##ὐ', '##み', '##美', '##《', '##È', '##京', '##書', '##ɲ', '##義', '##ạ', '##サ', '##₹', '##ά', '##⅓', '##]', '##ó', '##く', '##ō', '##村', '##つ', '##皇', '##с', '##ி', '##安', '##ṃ', '##ゆ', '##ད', '##г', '##`', '##ছ', '##∂', '##Ψ', '##ի', '##ắ', '##Ñ', '##∪', '##t', '##ル', '##এ', '##Η', '##〜', '##’', '##n', '##⁷', '##⁰', '##ᶜ', '##ᵍ', '##∨', '##ř', '##প', '##ṭ', '##ᵗ', '##バ', '##Ó', '##В', '##ム', '##ן', '##‑', '##व', '##平', '##青', '##ं', '##木', '##ֶ', '##ս', '##Μ', '##）', '##は', '##\\\\', '##რ', '##D', '##光', '##پ', '##南', '##Ч', '##城', '##О', '##₅', '##ん', '##8', '##ு', '##Р', '##ミ', '##য', '##₆', '##太', '##W', '##Β', '##Đ', '##|', '##^', '##צ', '##島', '##p', '##ứ', '##Д', '##小', '##ℓ', '##ɡ', '##明', '##ז', '##Å', '##a', '##ɛ', '##ि', '##ল', '##ه', '##馬', '##ǎ', '##ャ', '##シ', '##∞', '##த', '##ک', '##ñ', '##⟨', '##Λ', '##ல', '##±', '##í', '##भ', '##ʾ', '##史', '##ₙ', '##⁵', '##か', '##な', '##r', '##d', '##≡', '##Ш', '##ம', '##ج', '##•']\n"
     ]
    }
   ],
   "source": [
    "print(one_chars_hashes)"
   ]
  },
  {
   "cell_type": "code",
   "execution_count": 74,
   "metadata": {},
   "outputs": [
    {
     "name": "stdout",
     "output_type": "stream",
     "text": [
      "Maximum token length: 18\n"
     ]
    },
    {
     "data": {
      "image/png": "[encoded data removed]",
      "text/plain": [
       "<Figure size 1000x500 with 1 Axes>"
      ]
     },
     "metadata": {},
     "output_type": "display_data"
    }
   ],
   "source": [
    "import matplotlib.pyplot as plt\n",
    "import seaborn as sns\n",
    "import numpy as np\n",
    "\n",
    "sns.set(style='darkgrid')\n",
    "\n",
    "# Increase the plot size and font size.\n",
    "sns.set(font_scale=1.5)\n",
    "plt.rcParams[\"figure.figsize\"] = (10,5)\n",
    "\n",
    "# Measure the length of every token in the vocab.\n",
    "token_lengths = [len(token) for token in tokenizer.vocab.keys()]\n",
    "\n",
    "# Plot the number of tokens of each length.\n",
    "sns.countplot(x=np.array(token_lengths))\n",
    "plt.title('Vocab Token Lengths')\n",
    "plt.xlabel('Token Length')\n",
    "plt.ylabel('# of Tokens')\n",
    "\n",
    "print('Maximum token length:', max(token_lengths))"
   ]
  },
  {
   "cell_type": "code",
   "execution_count": 75,
   "metadata": {},
   "outputs": [
    {
     "name": "stdout",
     "output_type": "stream",
     "text": [
      "Number of subwords: 6477\n"
     ]
    },
    {
     "data": {
      "image/png": "[encoded data removed]",
      "text/plain": [
       "<Figure size 1000x500 with 1 Axes>"
      ]
     },
     "metadata": {},
     "output_type": "display_data"
    }
   ],
   "source": [
    "num_subwords = 0\n",
    "\n",
    "subword_lengths = []\n",
    "\n",
    "# For each token in the vocabulary...\n",
    "for token in tokenizer.vocab.keys():\n",
    "    \n",
    "    # If it's a subword...\n",
    "    if len(token) >= 2 and token[0:2] == '##':\n",
    "        \n",
    "        # Tally all subwords\n",
    "        num_subwords += 1\n",
    "\n",
    "        # Measure the sub word length (without the hashes)\n",
    "        length = len(token) - 2\n",
    "\n",
    "        # Record the lengths.        \n",
    "        subword_lengths.append(length)\n",
    "\n",
    "sns.countplot(x=np.array(subword_lengths))\n",
    "plt.title('Subword Token Lengths (w/o \"##\")')\n",
    "plt.xlabel('Subword Length')\n",
    "plt.ylabel('# of ## Subwords')\n",
    "\n",
    "print(f\"Number of subwords: {len(subword_lengths)}\")\n"
   ]
  },
  {
   "cell_type": "code",
   "execution_count": null,
   "metadata": {},
   "outputs": [],
   "source": []
  }
 ],
 "metadata": {
  "interpreter": {
   "hash": "f818427314f6e07d80a3b82dd0595cafccc14dc50f870f003aae34cda4c72f85"
  },
  "kernelspec": {
   "display_name": "Python 3.9.0",
   "language": "python",
   "name": "python3"
  },
  "language_info": {
   "codemirror_mode": {
    "name": "ipython",
    "version": 3
   },
   "file_extension": ".py",
   "mimetype": "text/x-python",
   "name": "python",
   "nbconvert_exporter": "python",
   "pygments_lexer": "ipython3",
   "version": "3.10.13"
  },
  "orig_nbformat": 4
 },
 "nbformat": 4,
 "nbformat_minor": 2
}
