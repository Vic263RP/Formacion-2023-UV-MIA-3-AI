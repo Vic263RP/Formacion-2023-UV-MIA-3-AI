{
 "cells": [
  {
   "cell_type": "markdown",
   "metadata": {
    "id": "uWufgzw_tf20"
   },
   "source": [
    "# Ejemplo de uso de CNN\n",
    "# en los datos de MNIST"
   ]
  },
  {
   "cell_type": "markdown",
   "metadata": {
    "id": "RvUnVwrNtnuY"
   },
   "source": [
    "leemos los datos"
   ]
  },
  {
   "cell_type": "code",
   "execution_count": 98,
   "metadata": {
    "colab": {
     "base_uri": "https://localhost:8080/"
    },
    "executionInfo": {
     "elapsed": 2817,
     "status": "ok",
     "timestamp": 1620473358070,
     "user": {
      "displayName": "Valero Laparra",
      "photoUrl": "",
      "userId": "00355299981903664579"
     },
     "user_tz": -120
    },
    "id": "GJzzBMOltfOb",
    "outputId": "ee6b5a8a-ae49-4051-f7da-c5e66013f5e3"
   },
   "outputs": [],
   "source": [
    "from tensorflow.keras.datasets import mnist\n",
    "\n",
    "# descargamos separados en entrenamiento y tes\n",
    "(X_train, y_train), (X_test, y_test) = mnist.load_data()"
   ]
  },
  {
   "cell_type": "code",
   "execution_count": 99,
   "metadata": {
    "colab": {
     "base_uri": "https://localhost:8080/"
    },
    "executionInfo": {
     "elapsed": 499,
     "status": "ok",
     "timestamp": 1620473383375,
     "user": {
      "displayName": "Valero Laparra",
      "photoUrl": "",
      "userId": "00355299981903664579"
     },
     "user_tz": -120
    },
    "id": "CVrsjJ0ypgKS",
    "outputId": "a441139e-9840-4132-d92f-fa0dc9bf7c74"
   },
   "outputs": [
    {
     "name": "stdout",
     "output_type": "stream",
     "text": [
      "(60000, 28, 28)\n",
      "(60000,)\n"
     ]
    }
   ],
   "source": [
    "# tamaño de los datos\n",
    "print(X_train.shape)\n",
    "print(y_train.shape)"
   ]
  },
  {
   "cell_type": "markdown",
   "metadata": {
    "id": "IGu7xoCJtqnG"
   },
   "source": [
    "Vemos una imagen"
   ]
  },
  {
   "cell_type": "code",
   "execution_count": 100,
   "metadata": {
    "colab": {
     "base_uri": "https://localhost:8080/",
     "height": 282
    },
    "executionInfo": {
     "elapsed": 824,
     "status": "ok",
     "timestamp": 1620473385130,
     "user": {
      "displayName": "Valero Laparra",
      "photoUrl": "",
      "userId": "00355299981903664579"
     },
     "user_tz": -120
    },
    "id": "idhLs1p7ngXV",
    "outputId": "1c4bec45-0414-459c-c50b-169407349516"
   },
   "outputs": [
    {
     "name": "stdout",
     "output_type": "stream",
     "text": [
      "5\n"
     ]
    },
    {
     "data": {
      "image/png": "[encoded data removed]",
      "text/plain": [
       "<Figure size 640x480 with 1 Axes>"
      ]
     },
     "metadata": {},
     "output_type": "display_data"
    }
   ],
   "source": [
    "import matplotlib.pyplot as plt\n",
    "\n",
    "#plot the first image in the dataset\n",
    "plt.imshow(X_train[0,:,:],cmap='gray')\n",
    "\n",
    "# Mostramos la etiqueta de la imagen\n",
    "print(y_train[0])"
   ]
  },
  {
   "cell_type": "markdown",
   "metadata": {
    "id": "j78jBp5OttjT"
   },
   "source": [
    "Reordenamos los datos para que tengan \n",
    "(Nº muestras, alto, lado, canales)"
   ]
  },
  {
   "cell_type": "code",
   "execution_count": 101,
   "metadata": {
    "executionInfo": {
     "elapsed": 517,
     "status": "ok",
     "timestamp": 1620473397848,
     "user": {
      "displayName": "Valero Laparra",
      "photoUrl": "",
      "userId": "00355299981903664579"
     },
     "user_tz": -120
    },
    "id": "1wljVbn9nkLF"
   },
   "outputs": [],
   "source": [
    "X_train = X_train.reshape(60000,28,28,1)\n",
    "X_test = X_test.reshape(10000,28,28,1)"
   ]
  },
  {
   "cell_type": "markdown",
   "metadata": {
    "id": "ENs3C1Ykt77G"
   },
   "source": [
    "Separamos train y test"
   ]
  },
  {
   "cell_type": "code",
   "execution_count": 102,
   "metadata": {
    "executionInfo": {
     "elapsed": 331,
     "status": "ok",
     "timestamp": 1620473400386,
     "user": {
      "displayName": "Valero Laparra",
      "photoUrl": "",
      "userId": "00355299981903664579"
     },
     "user_tz": -120
    },
    "id": "KpM0Nmk6pS7B"
   },
   "outputs": [],
   "source": [
    "X_train = X_train[0:1000,:,:,:]\n",
    "X_test = X_test[0:1000,:,:,:]\n",
    "y_train = y_train[0:1000]\n",
    "y_test = y_test[0:1000]"
   ]
  },
  {
   "cell_type": "code",
   "execution_count": 103,
   "metadata": {
    "colab": {
     "base_uri": "https://localhost:8080/"
    },
    "executionInfo": {
     "elapsed": 611,
     "status": "ok",
     "timestamp": 1620473402096,
     "user": {
      "displayName": "Valero Laparra",
      "photoUrl": "",
      "userId": "00355299981903664579"
     },
     "user_tz": -120
    },
    "id": "T98bWv3Pw9k2",
    "outputId": "bd25dc20-67f3-4924-f84c-70236d5d98fe"
   },
   "outputs": [
    {
     "name": "stdout",
     "output_type": "stream",
     "text": [
      "(1000, 28, 28, 1)\n",
      "(1000,)\n"
     ]
    }
   ],
   "source": [
    "print(X_train.shape)\n",
    "print(y_train.shape)"
   ]
  },
  {
   "cell_type": "markdown",
   "metadata": {
    "id": "bb48aR6zt-Ty"
   },
   "source": [
    "Hacemos el one-hot encoding a las salidas"
   ]
  },
  {
   "cell_type": "code",
   "execution_count": 104,
   "metadata": {
    "executionInfo": {
     "elapsed": 489,
     "status": "ok",
     "timestamp": 1620473420671,
     "user": {
      "displayName": "Valero Laparra",
      "photoUrl": "",
      "userId": "00355299981903664579"
     },
     "user_tz": -120
    },
    "id": "0sE_9bAEnsmw"
   },
   "outputs": [],
   "source": [
    "from tensorflow.keras.utils import to_categorical\n",
    "\n",
    "# me guardo los y_train antes de hacer el one-hot\n",
    "y_train_old = y_train\n",
    "\n",
    "y_train = to_categorical(y_train)\n",
    "y_test = to_categorical(y_test)"
   ]
  },
  {
   "cell_type": "code",
   "execution_count": 105,
   "metadata": {
    "colab": {
     "base_uri": "https://localhost:8080/"
    },
    "executionInfo": {
     "elapsed": 771,
     "status": "ok",
     "timestamp": 1620473421612,
     "user": {
      "displayName": "Valero Laparra",
      "photoUrl": "",
      "userId": "00355299981903664579"
     },
     "user_tz": -120
    },
    "id": "o7vWhloYw7Mu",
    "outputId": "9889858c-89c3-437c-859d-5a480f684f1d"
   },
   "outputs": [
    {
     "name": "stdout",
     "output_type": "stream",
     "text": [
      "(1000, 10)\n"
     ]
    }
   ],
   "source": [
    "print(y_train.shape)"
   ]
  },
  {
   "cell_type": "code",
   "execution_count": 106,
   "metadata": {
    "colab": {
     "base_uri": "https://localhost:8080/"
    },
    "executionInfo": {
     "elapsed": 479,
     "status": "ok",
     "timestamp": 1620473421803,
     "user": {
      "displayName": "Valero Laparra",
      "photoUrl": "",
      "userId": "00355299981903664579"
     },
     "user_tz": -120
    },
    "id": "df345MuCr0xl",
    "outputId": "1c998093-9562-4381-fd98-85ef50af2b8b"
   },
   "outputs": [
    {
     "data": {
      "text/plain": [
       "array([0., 0., 0., 0., 0., 1., 0., 0., 0., 0.], dtype=float32)"
      ]
     },
     "execution_count": 106,
     "metadata": {},
     "output_type": "execute_result"
    }
   ],
   "source": [
    "\n",
    "y_train[0,:]"
   ]
  },
  {
   "cell_type": "code",
   "execution_count": 107,
   "metadata": {
    "colab": {
     "base_uri": "https://localhost:8080/"
    },
    "executionInfo": {
     "elapsed": 834,
     "status": "ok",
     "timestamp": 1620473423581,
     "user": {
      "displayName": "Valero Laparra",
      "photoUrl": "",
      "userId": "00355299981903664579"
     },
     "user_tz": -120
    },
    "id": "lUifyzb9rD0g",
    "outputId": "c7474648-3ef5-4867-c101-7e5da1edc9ad"
   },
   "outputs": [
    {
     "name": "stdout",
     "output_type": "stream",
     "text": [
      "5\n",
      "[0. 0. 0. 0. 0. 1. 0. 0. 0. 0.]\n"
     ]
    }
   ],
   "source": [
    "# Lo que antes era \n",
    "print(y_train_old[0,])\n",
    "# Ahora es\n",
    "print(y_train[0,:])"
   ]
  },
  {
   "cell_type": "markdown",
   "metadata": {
    "id": "ZglnkqcWuCqV"
   },
   "source": [
    "Definimos el modelo"
   ]
  },
  {
   "cell_type": "code",
   "execution_count": 108,
   "metadata": {
    "executionInfo": {
     "elapsed": 464,
     "status": "ok",
     "timestamp": 1620474923847,
     "user": {
      "displayName": "Valero Laparra",
      "photoUrl": "",
      "userId": "00355299981903664579"
     },
     "user_tz": -120
    },
    "id": "uQHWqWS5nt6y"
   },
   "outputs": [],
   "source": [
    "from tensorflow.keras.models import Sequential\n",
    "from tensorflow.keras.layers import Dense, Conv2D, Flatten, Dropout, BatchNormalization, MaxPooling2D\n",
    "\n",
    "# Usamos un modelo secuencial\n",
    "model = Sequential()\n",
    "\n",
    "# ponemos dos capas de convolución, una flatten y una densa\n",
    "model.add(Conv2D(40, kernel_size=3, activation='relu', input_shape=(28,28,1), padding='valid'))\n",
    "model.add(Dropout(0.5))\n",
    "model.add(MaxPooling2D(2))\n",
    "model.add(Conv2D(30, kernel_size=3, activation='relu'))\n",
    "model.add(Dropout(0.5))\n",
    "#model.add(BatchNormalization())\n",
    "model.add(MaxPooling2D(2))\n",
    "#model.add(Conv2D(20, kernel_size=3, activation='relu'))\n",
    "#model.add(Conv2D(32, kernel_size=7, activation='relu'))\n",
    "model.add(Flatten())\n",
    "model.add(Dense(10, activation='softmax'))"
   ]
  },
  {
   "cell_type": "code",
   "execution_count": 109,
   "metadata": {
    "colab": {
     "base_uri": "https://localhost:8080/"
    },
    "executionInfo": {
     "elapsed": 694,
     "status": "ok",
     "timestamp": 1620474924757,
     "user": {
      "displayName": "Valero Laparra",
      "photoUrl": "",
      "userId": "00355299981903664579"
     },
     "user_tz": -120
    },
    "id": "GVLSUIGSuJ4i",
    "outputId": "cde1b4e7-52cd-4bc8-ee2c-2333b600356f"
   },
   "outputs": [
    {
     "name": "stdout",
     "output_type": "stream",
     "text": [
      "Model: \"sequential_9\"\n",
      "_________________________________________________________________\n",
      " Layer (type)                Output Shape              Param #   \n",
      "=================================================================\n",
      " conv2d_21 (Conv2D)          (None, 26, 26, 40)        400       \n",
      "                                                                 \n",
      " dropout_7 (Dropout)         (None, 26, 26, 40)        0         \n",
      "                                                                 \n",
      " max_pooling2d_9 (MaxPooling  (None, 13, 13, 40)       0         \n",
      " 2D)                                                             \n",
      "                                                                 \n",
      " conv2d_22 (Conv2D)          (None, 11, 11, 30)        10830     \n",
      "                                                                 \n",
      " dropout_8 (Dropout)         (None, 11, 11, 30)        0         \n",
      "                                                                 \n",
      " max_pooling2d_10 (MaxPoolin  (None, 5, 5, 30)         0         \n",
      " g2D)                                                            \n",
      "                                                                 \n",
      " flatten_9 (Flatten)         (None, 750)               0         \n",
      "                                                                 \n",
      " dense_9 (Dense)             (None, 10)                7510      \n",
      "                                                                 \n",
      "=================================================================\n",
      "Total params: 18,740\n",
      "Trainable params: 18,740\n",
      "Non-trainable params: 0\n",
      "_________________________________________________________________\n"
     ]
    }
   ],
   "source": [
    "model.summary()"
   ]
  },
  {
   "cell_type": "code",
   "execution_count": null,
   "metadata": {
    "executionInfo": {
     "elapsed": 487,
     "status": "ok",
     "timestamp": 1620474925597,
     "user": {
      "displayName": "Valero Laparra",
      "photoUrl": "",
      "userId": "00355299981903664579"
     },
     "user_tz": -120
    },
    "id": "ZQM0m-DouJvu"
   },
   "outputs": [],
   "source": []
  },
  {
   "cell_type": "markdown",
   "metadata": {
    "id": "t5Ds1LrCuFpd"
   },
   "source": [
    "Se compila el modelo poniendo el optimizador, la funcióón de perdidas y si queremos una métrica"
   ]
  },
  {
   "cell_type": "code",
   "execution_count": 110,
   "metadata": {
    "executionInfo": {
     "elapsed": 773,
     "status": "ok",
     "timestamp": 1620474941648,
     "user": {
      "displayName": "Valero Laparra",
      "photoUrl": "",
      "userId": "00355299981903664579"
     },
     "user_tz": -120
    },
    "id": "osRevSNb0JV0"
   },
   "outputs": [],
   "source": [
    "from tensorflow.keras.optimizers import Adam"
   ]
  },
  {
   "cell_type": "code",
   "execution_count": 111,
   "metadata": {
    "executionInfo": {
     "elapsed": 618,
     "status": "ok",
     "timestamp": 1620474941888,
     "user": {
      "displayName": "Valero Laparra",
      "photoUrl": "",
      "userId": "00355299981903664579"
     },
     "user_tz": -120
    },
    "id": "Uqup8SlMnwU0"
   },
   "outputs": [],
   "source": [
    "optimizer_adam = Adam() # learning_rate=0.01\n",
    "model.compile(optimizer=optimizer_adam, loss='categorical_crossentropy', metrics=['categorical_accuracy'],)"
   ]
  },
  {
   "cell_type": "markdown",
   "metadata": {
    "id": "tPlZ_TUCwDhF"
   },
   "source": [
    "Entrenamos..."
   ]
  },
  {
   "cell_type": "code",
   "execution_count": 112,
   "metadata": {
    "colab": {
     "base_uri": "https://localhost:8080/"
    },
    "executionInfo": {
     "elapsed": 46256,
     "status": "ok",
     "timestamp": 1620474997894,
     "user": {
      "displayName": "Valero Laparra",
      "photoUrl": "",
      "userId": "00355299981903664579"
     },
     "user_tz": -120
    },
    "id": "LjNKLB6Tn7gR",
    "outputId": "933152b1-e3cc-44dc-8192-e32806e4d7be"
   },
   "outputs": [
    {
     "name": "stdout",
     "output_type": "stream",
     "text": [
      "Epoch 1/30\n",
      "29/29 [==============================] - 2s 54ms/step - loss: 38.1455 - categorical_accuracy: 0.2867 - val_loss: 2.1130 - val_categorical_accuracy: 0.6300\n",
      "Epoch 2/30\n",
      "29/29 [==============================] - 1s 41ms/step - loss: 8.1769 - categorical_accuracy: 0.5022 - val_loss: 1.0815 - val_categorical_accuracy: 0.6800\n",
      "Epoch 3/30\n",
      "29/29 [==============================] - 1s 46ms/step - loss: 4.6253 - categorical_accuracy: 0.5789 - val_loss: 0.6564 - val_categorical_accuracy: 0.8400\n",
      "Epoch 4/30\n",
      "29/29 [==============================] - 1s 36ms/step - loss: 3.1150 - categorical_accuracy: 0.6689 - val_loss: 0.6223 - val_categorical_accuracy: 0.8100\n",
      "Epoch 5/30\n",
      "29/29 [==============================] - 2s 54ms/step - loss: 2.5176 - categorical_accuracy: 0.6644 - val_loss: 0.6943 - val_categorical_accuracy: 0.7800\n",
      "Epoch 6/30\n",
      "29/29 [==============================] - 1s 48ms/step - loss: 2.0967 - categorical_accuracy: 0.6922 - val_loss: 0.5232 - val_categorical_accuracy: 0.8700\n",
      "Epoch 7/30\n",
      "29/29 [==============================] - 1s 47ms/step - loss: 1.6206 - categorical_accuracy: 0.7489 - val_loss: 0.4745 - val_categorical_accuracy: 0.8800\n",
      "Epoch 8/30\n",
      "29/29 [==============================] - 1s 40ms/step - loss: 1.6346 - categorical_accuracy: 0.7578 - val_loss: 0.4584 - val_categorical_accuracy: 0.8900\n",
      "Epoch 9/30\n",
      "29/29 [==============================] - 3s 87ms/step - loss: 1.2463 - categorical_accuracy: 0.7900 - val_loss: 0.4413 - val_categorical_accuracy: 0.9000\n",
      "Epoch 10/30\n",
      "29/29 [==============================] - 2s 84ms/step - loss: 1.1636 - categorical_accuracy: 0.8056 - val_loss: 0.4281 - val_categorical_accuracy: 0.9000\n",
      "Epoch 11/30\n",
      "29/29 [==============================] - 2s 73ms/step - loss: 1.0809 - categorical_accuracy: 0.8200 - val_loss: 0.4511 - val_categorical_accuracy: 0.9000\n",
      "Epoch 12/30\n",
      "29/29 [==============================] - 2s 77ms/step - loss: 0.9446 - categorical_accuracy: 0.8189 - val_loss: 0.4608 - val_categorical_accuracy: 0.8900\n",
      "Epoch 13/30\n",
      "29/29 [==============================] - 2s 57ms/step - loss: 0.8298 - categorical_accuracy: 0.8100 - val_loss: 0.4337 - val_categorical_accuracy: 0.9100\n",
      "Epoch 14/30\n",
      "29/29 [==============================] - 1s 49ms/step - loss: 0.7745 - categorical_accuracy: 0.8478 - val_loss: 0.4083 - val_categorical_accuracy: 0.9000\n",
      "Epoch 15/30\n",
      "29/29 [==============================] - 2s 55ms/step - loss: 0.6660 - categorical_accuracy: 0.8644 - val_loss: 0.3838 - val_categorical_accuracy: 0.9000\n",
      "Epoch 16/30\n",
      "29/29 [==============================] - 2s 56ms/step - loss: 0.8093 - categorical_accuracy: 0.8411 - val_loss: 0.3699 - val_categorical_accuracy: 0.9000\n",
      "Epoch 17/30\n",
      "29/29 [==============================] - 2s 55ms/step - loss: 0.6887 - categorical_accuracy: 0.8567 - val_loss: 0.3597 - val_categorical_accuracy: 0.9100\n",
      "Epoch 18/30\n",
      "29/29 [==============================] - 2s 54ms/step - loss: 0.5004 - categorical_accuracy: 0.8711 - val_loss: 0.3739 - val_categorical_accuracy: 0.9300\n",
      "Epoch 19/30\n",
      "29/29 [==============================] - 2s 64ms/step - loss: 0.4697 - categorical_accuracy: 0.8822 - val_loss: 0.3413 - val_categorical_accuracy: 0.9100\n",
      "Epoch 20/30\n",
      "29/29 [==============================] - 1s 47ms/step - loss: 0.5459 - categorical_accuracy: 0.8800 - val_loss: 0.3360 - val_categorical_accuracy: 0.9300\n",
      "Epoch 21/30\n",
      "29/29 [==============================] - 1s 43ms/step - loss: 0.4819 - categorical_accuracy: 0.8833 - val_loss: 0.3286 - val_categorical_accuracy: 0.9400\n",
      "Epoch 22/30\n",
      "29/29 [==============================] - 2s 54ms/step - loss: 0.4445 - categorical_accuracy: 0.8956 - val_loss: 0.3759 - val_categorical_accuracy: 0.9100\n",
      "Epoch 23/30\n",
      "29/29 [==============================] - 2s 78ms/step - loss: 0.4080 - categorical_accuracy: 0.9044 - val_loss: 0.3304 - val_categorical_accuracy: 0.9400\n",
      "Epoch 24/30\n",
      "29/29 [==============================] - 2s 62ms/step - loss: 0.3976 - categorical_accuracy: 0.9078 - val_loss: 0.3119 - val_categorical_accuracy: 0.9300\n",
      "Epoch 25/30\n",
      "29/29 [==============================] - 2s 67ms/step - loss: 0.3955 - categorical_accuracy: 0.9167 - val_loss: 0.3194 - val_categorical_accuracy: 0.9400\n",
      "Epoch 26/30\n",
      "29/29 [==============================] - 2s 69ms/step - loss: 0.3646 - categorical_accuracy: 0.9033 - val_loss: 0.3282 - val_categorical_accuracy: 0.9200\n",
      "Epoch 27/30\n",
      "29/29 [==============================] - 2s 60ms/step - loss: 0.3268 - categorical_accuracy: 0.9222 - val_loss: 0.2841 - val_categorical_accuracy: 0.9300\n",
      "Epoch 28/30\n",
      "29/29 [==============================] - 2s 60ms/step - loss: 0.4051 - categorical_accuracy: 0.9067 - val_loss: 0.2892 - val_categorical_accuracy: 0.9300\n",
      "Epoch 29/30\n",
      "29/29 [==============================] - 2s 52ms/step - loss: 0.2861 - categorical_accuracy: 0.9389 - val_loss: 0.2968 - val_categorical_accuracy: 0.9400\n",
      "Epoch 30/30\n",
      "29/29 [==============================] - 2s 61ms/step - loss: 0.3417 - categorical_accuracy: 0.9089 - val_loss: 0.3134 - val_categorical_accuracy: 0.9000\n"
     ]
    }
   ],
   "source": [
    "hist = model.fit(X_train, y_train, validation_split = 0.1, epochs=30)"
   ]
  },
  {
   "cell_type": "markdown",
   "metadata": {
    "id": "Okm9j6NCwHsp"
   },
   "source": [
    "Evaluamos en test"
   ]
  },
  {
   "cell_type": "code",
   "execution_count": 118,
   "metadata": {
    "colab": {
     "base_uri": "https://localhost:8080/"
    },
    "executionInfo": {
     "elapsed": 37621,
     "status": "ok",
     "timestamp": 1620474398747,
     "user": {
      "displayName": "Valero Laparra",
      "photoUrl": "",
      "userId": "00355299981903664579"
     },
     "user_tz": -120
    },
    "id": "194RRmusoEC7",
    "outputId": "8501e6b0-6b05-468c-af17-8c826837a652"
   },
   "outputs": [
    {
     "name": "stdout",
     "output_type": "stream",
     "text": [
      "32/32 [==============================] - 0s 5ms/step - loss: 0.2838 - categorical_accuracy: 0.9160\n"
     ]
    },
    {
     "data": {
      "text/plain": [
       "[0.28375929594039917, 0.9160000085830688]"
      ]
     },
     "execution_count": 118,
     "metadata": {},
     "output_type": "execute_result"
    }
   ],
   "source": [
    "score = model.evaluate(X_test,y_test)\n",
    "score"
   ]
  },
  {
   "cell_type": "code",
   "execution_count": null,
   "metadata": {
    "id": "1DEu-6oToKYo"
   },
   "outputs": [],
   "source": []
  },
  {
   "cell_type": "markdown",
   "metadata": {
    "id": "MNeYOiOEwL5b"
   },
   "source": [
    "Ploteamos la evolución"
   ]
  },
  {
   "cell_type": "code",
   "execution_count": 119,
   "metadata": {
    "colab": {
     "base_uri": "https://localhost:8080/",
     "height": 284
    },
    "executionInfo": {
     "elapsed": 25864,
     "status": "ok",
     "timestamp": 1605607525607,
     "user": {
      "displayName": "Valero Laparra",
      "photoUrl": "",
      "userId": "00355299981903664579"
     },
     "user_tz": -60
    },
    "id": "u2arW_sOqI3c",
    "outputId": "913f28d2-a79c-4c55-f45a-bc21849fedef"
   },
   "outputs": [
    {
     "data": {
      "text/plain": [
       "<matplotlib.legend.Legend at 0x7fec17d6efe0>"
      ]
     },
     "execution_count": 119,
     "metadata": {},
     "output_type": "execute_result"
    },
    {
     "data": {
      "image/png": "[encoded data removed]",
      "text/plain": [
       "<Figure size 640x480 with 1 Axes>"
      ]
     },
     "metadata": {},
     "output_type": "display_data"
    }
   ],
   "source": [
    "import matplotlib.pyplot as plt\n",
    "%matplotlib inline\n",
    "plt.figure\n",
    "plt.plot(hist.history['loss'],label='train')\n",
    "plt.plot(hist.history['val_loss'],'r',label='validation')\n",
    "plt.legend()\n"
   ]
  },
  {
   "cell_type": "code",
   "execution_count": 120,
   "metadata": {
    "colab": {
     "base_uri": "https://localhost:8080/",
     "height": 282
    },
    "executionInfo": {
     "elapsed": 25225,
     "status": "ok",
     "timestamp": 1605607525608,
     "user": {
      "displayName": "Valero Laparra",
      "photoUrl": "",
      "userId": "00355299981903664579"
     },
     "user_tz": -60
    },
    "id": "7mN0MrhorXQu",
    "outputId": "1fdf82bb-bf5a-45bd-f84c-f1cf5aa998c4"
   },
   "outputs": [
    {
     "data": {
      "text/plain": [
       "<matplotlib.legend.Legend at 0x7fec17beed10>"
      ]
     },
     "execution_count": 120,
     "metadata": {},
     "output_type": "execute_result"
    },
    {
     "data": {
      "image/png": "[encoded data removed]",
      "text/plain": [
       "<Figure size 640x480 with 1 Axes>"
      ]
     },
     "metadata": {},
     "output_type": "display_data"
    }
   ],
   "source": [
    "# Evolucion en accuracy\n",
    "\n",
    "import matplotlib.pyplot as plt\n",
    "%matplotlib inline\n",
    "plt.figure\n",
    "plt.plot(hist.history['categorical_accuracy'],label='train')\n",
    "plt.plot(hist.history['val_categorical_accuracy'],'r',label='validation')\n",
    "plt.legend()\n"
   ]
  },
  {
   "cell_type": "markdown",
   "metadata": {
    "id": "Oz8ttLJoqj-3"
   },
   "source": [
    "# Aplicamos en test"
   ]
  },
  {
   "cell_type": "code",
   "execution_count": 121,
   "metadata": {
    "id": "PHbEJOmaqmf-"
   },
   "outputs": [
    {
     "name": "stdout",
     "output_type": "stream",
     "text": [
      " 1/32 [..............................] - ETA: 0s"
     ]
    },
    {
     "name": "stdout",
     "output_type": "stream",
     "text": [
      "32/32 [==============================] - 0s 7ms/step\n"
     ]
    }
   ],
   "source": [
    "# Predecimos en test\n",
    "preds_test = model.predict(X_test)"
   ]
  },
  {
   "cell_type": "code",
   "execution_count": 122,
   "metadata": {
    "colab": {
     "base_uri": "https://localhost:8080/",
     "height": 302
    },
    "executionInfo": {
     "elapsed": 881,
     "status": "ok",
     "timestamp": 1605607864468,
     "user": {
      "displayName": "Valero Laparra",
      "photoUrl": "",
      "userId": "00355299981903664579"
     },
     "user_tz": -60
    },
    "id": "Y5Vv9euGqZVv",
    "outputId": "64b8d8d0-0fc4-4d94-b21d-4c31d5feec81"
   },
   "outputs": [
    {
     "name": "stdout",
     "output_type": "stream",
     "text": [
      "['p(y=0|x) = 0.0018', 'p(y=1|x) = 0.0335', 'p(y=2|x) = 0.0197', 'p(y=3|x) = 0.1933', 'p(y=4|x) = 0.1656', 'p(y=5|x) = 0.1895', 'p(y=6|x) = 0.1686', 'p(y=7|x) = 0.0253', 'p(y=8|x) = 0.0945', 'p(y=9|x) = 0.1084']\n"
     ]
    },
    {
     "data": {
      "image/png": "[encoded data removed]",
      "text/plain": [
       "<Figure size 640x480 with 1 Axes>"
      ]
     },
     "metadata": {},
     "output_type": "display_data"
    }
   ],
   "source": [
    "import numpy as np\n",
    "# Elegimos una imagen de test\n",
    "idx_mostrar = 18\n",
    "# Mostramos la imagen\n",
    "plt.imshow(np.squeeze(X_test[idx_mostrar,:,:,]),cmap=\"gray\")\n",
    "# Mostramos las probabilidades que da el modelo a cada clase\n",
    "print([\"p(y=%d|x) = %.4f\"%(i,p) for i,p in enumerate(preds_test[idx_mostrar])])"
   ]
  },
  {
   "cell_type": "code",
   "execution_count": null,
   "metadata": {
    "id": "hWtas-PJr4pQ"
   },
   "outputs": [],
   "source": []
  }
 ],
 "metadata": {
  "accelerator": "GPU",
  "colab": {
   "name": "CNN_MNIST_basic_tf2.ipynb",
   "provenance": []
  },
  "kernelspec": {
   "display_name": "Python 3",
   "language": "python",
   "name": "python3"
  },
  "language_info": {
   "codemirror_mode": {
    "name": "ipython",
    "version": 3
   },
   "file_extension": ".py",
   "mimetype": "text/x-python",
   "name": "python",
   "nbconvert_exporter": "python",
   "pygments_lexer": "ipython3",
   "version": "3.10.13"
  }
 },
 "nbformat": 4,
 "nbformat_minor": 1
}
