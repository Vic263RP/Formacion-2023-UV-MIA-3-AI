{
 "cells": [
  {
   "cell_type": "markdown",
   "metadata": {
    "id": "J8gzHbwZmtO2"
   },
   "source": [
    "# Ejemplo de CNN 2D en la base de datos cifar100"
   ]
  },
  {
   "cell_type": "code",
   "execution_count": 291,
   "metadata": {
    "colab": {
     "base_uri": "https://localhost:8080/"
    },
    "executionInfo": {
     "elapsed": 2384,
     "status": "ok",
     "timestamp": 1605606550819,
     "user": {
      "displayName": "Valero Laparra",
      "photoUrl": "",
      "userId": "00355299981903664579"
     },
     "user_tz": -60
    },
    "id": "Ub8IUhmduJ7y",
    "outputId": "1765b2d2-b8f2-449d-e350-dd350dd173ad"
   },
   "outputs": [
    {
     "name": "stdout",
     "output_type": "stream",
     "text": [
      "2.11.0\n"
     ]
    }
   ],
   "source": [
    "from __future__ import absolute_import, division, print_function, unicode_literals\n",
    "# Installa TensorFlow\n",
    "#%tensorflow_version 2.x\n",
    "import tensorflow as tf\n",
    "print(tf.__version__)"
   ]
  },
  {
   "cell_type": "code",
   "execution_count": 292,
   "metadata": {
    "colab": {
     "base_uri": "https://localhost:8080/"
    },
    "executionInfo": {
     "elapsed": 16033,
     "status": "ok",
     "timestamp": 1605606564475,
     "user": {
      "displayName": "Valero Laparra",
      "photoUrl": "",
      "userId": "00355299981903664579"
     },
     "user_tz": -60
    },
    "id": "LAd5BiAPnbqr",
    "outputId": "dbd8cffa-3703-4605-8e6d-a352fef8ec38"
   },
   "outputs": [],
   "source": [
    "# descargamos los datos cifar100 y los partimos en train y test\n",
    "(X_train, y_train), (X_test, y_test) = tf.keras.datasets.cifar100.load_data()"
   ]
  },
  {
   "cell_type": "code",
   "execution_count": 293,
   "metadata": {
    "colab": {
     "base_uri": "https://localhost:8080/"
    },
    "executionInfo": {
     "elapsed": 973,
     "status": "ok",
     "timestamp": 1605606695494,
     "user": {
      "displayName": "Valero Laparra",
      "photoUrl": "",
      "userId": "00355299981903664579"
     },
     "user_tz": -60
    },
    "id": "CVrsjJ0ypgKS",
    "outputId": "ec22d7fe-607a-4048-ce71-cb2c49529e94"
   },
   "outputs": [
    {
     "name": "stdout",
     "output_type": "stream",
     "text": [
      "(50000, 32, 32, 3)\n"
     ]
    }
   ],
   "source": [
    "# Tamaño de los datos (#datos,#lado,#alto,#canales)\n",
    "print(X_train.shape)"
   ]
  },
  {
   "cell_type": "code",
   "execution_count": 294,
   "metadata": {
    "colab": {
     "base_uri": "https://localhost:8080/",
     "height": 283
    },
    "executionInfo": {
     "elapsed": 1265,
     "status": "ok",
     "timestamp": 1605606716352,
     "user": {
      "displayName": "Valero Laparra",
      "photoUrl": "",
      "userId": "00355299981903664579"
     },
     "user_tz": -60
    },
    "id": "idhLs1p7ngXV",
    "outputId": "b013a81d-6035-4f2f-afa9-50a1cafff34c"
   },
   "outputs": [
    {
     "data": {
      "text/plain": [
       "<matplotlib.image.AxesImage at 0x7f8c88e11ed0>"
      ]
     },
     "execution_count": 294,
     "metadata": {},
     "output_type": "execute_result"
    },
    {
     "data": {
      "image/png": "[encoded data removed]",
      "text/plain": [
       "<Figure size 640x480 with 1 Axes>"
      ]
     },
     "metadata": {},
     "output_type": "display_data"
    }
   ],
   "source": [
    "import matplotlib.pyplot as plt\n",
    "\n",
    "# enseñamos la primera imagen del dataset\n",
    "plt.imshow(X_train[0],cmap=\"gray\")"
   ]
  },
  {
   "cell_type": "code",
   "execution_count": 295,
   "metadata": {},
   "outputs": [],
   "source": [
    "X_train = X_train[0:10000,:,:,:]/255\n",
    "X_test = X_test[0:10000,:,:,:]/255\n",
    "y_train = y_train[0:10000]\n",
    "y_test = y_test[0:10000]"
   ]
  },
  {
   "cell_type": "code",
   "execution_count": 296,
   "metadata": {
    "executionInfo": {
     "elapsed": 1350,
     "status": "ok",
     "timestamp": 1605606753308,
     "user": {
      "displayName": "Valero Laparra",
      "photoUrl": "",
      "userId": "00355299981903664579"
     },
     "user_tz": -60
    },
    "id": "0sE_9bAEnsmw"
   },
   "outputs": [],
   "source": [
    "# one-hot encoding en las 'y'\n",
    "from tensorflow.keras.utils import to_categorical\n",
    "\n",
    "y_train = to_categorical(y_train)\n",
    "y_test = to_categorical(y_test)\n"
   ]
  },
  {
   "cell_type": "markdown",
   "metadata": {
    "id": "SF5CgUo8nt1w"
   },
   "source": [
    "Modelo"
   ]
  },
  {
   "cell_type": "code",
   "execution_count": 297,
   "metadata": {
    "executionInfo": {
     "elapsed": 6632,
     "status": "ok",
     "timestamp": 1605606784422,
     "user": {
      "displayName": "Valero Laparra",
      "photoUrl": "",
      "userId": "00355299981903664579"
     },
     "user_tz": -60
    },
    "id": "uQHWqWS5nt6y"
   },
   "outputs": [],
   "source": [
    "# Hacemos un modelo con varias capas\n",
    "\n",
    "from tensorflow.keras.models import Sequential\n",
    "from tensorflow.keras.layers import Dense, Conv2D, Flatten, BatchNormalization, Dropout, MaxPooling2D\n",
    "from tensorflow.keras import regularizers\n",
    "\n",
    "#crear modelo\n",
    "model = Sequential()\n",
    "\n",
    "#Vamos añadiendo capas\n",
    "model.add(Conv2D(64, kernel_size=7, activation='relu', input_shape=(32,32,3),\n",
    "                activity_regularizer=regularizers.l1(0.)))\n",
    "#model.add(BatchNormalization())\n",
    "#model.add(Dropout(0.1))\n",
    "model.add(MaxPooling2D(2))\n",
    "model.add(Conv2D(128, kernel_size=5, activation='relu',\n",
    "                activity_regularizer=regularizers.l1(0.)))\n",
    "#model.add(BatchNormalization())\n",
    "#model.add(Dropout(0.1))\n",
    "model.add(MaxPooling2D(2))\n",
    "model.add(Conv2D(256, kernel_size=3, activation='relu',\n",
    "                activity_regularizer=regularizers.l1(0.), padding='same'))\n",
    "#model.add(BatchNormalization())\n",
    "#model.add(Dropout(0.1))\n",
    "model.add(Conv2D(64, kernel_size=3, activation='relu',\n",
    "                activity_regularizer=regularizers.l1(0.), padding='same'))\n",
    "model.add(Dropout(0.1))\n",
    "model.add(Flatten())\n",
    "model.add(Dense(100, activation='softmax'))"
   ]
  },
  {
   "cell_type": "code",
   "execution_count": 298,
   "metadata": {
    "executionInfo": {
     "elapsed": 2054,
     "status": "ok",
     "timestamp": 1605606803272,
     "user": {
      "displayName": "Valero Laparra",
      "photoUrl": "",
      "userId": "00355299981903664579"
     },
     "user_tz": -60
    },
    "id": "Uqup8SlMnwU0"
   },
   "outputs": [],
   "source": [
    "# Compilamos el modelo\n",
    "\n",
    "model.compile(optimizer='adam', loss='categorical_crossentropy', metrics=['accuracy'])"
   ]
  },
  {
   "cell_type": "code",
   "execution_count": 299,
   "metadata": {
    "colab": {
     "base_uri": "https://localhost:8080/"
    },
    "executionInfo": {
     "elapsed": 1512,
     "status": "ok",
     "timestamp": 1605606817517,
     "user": {
      "displayName": "Valero Laparra",
      "photoUrl": "",
      "userId": "00355299981903664579"
     },
     "user_tz": -60
    },
    "id": "RU9EdH30DYv7",
    "outputId": "092570a0-7ec2-47f3-c8d5-33182a0a685e"
   },
   "outputs": [
    {
     "name": "stdout",
     "output_type": "stream",
     "text": [
      "Model: \"sequential_29\"\n",
      "_________________________________________________________________\n",
      " Layer (type)                Output Shape              Param #   \n",
      "=================================================================\n",
      " conv2d_106 (Conv2D)         (None, 26, 26, 64)        9472      \n",
      "                                                                 \n",
      " max_pooling2d_37 (MaxPoolin  (None, 13, 13, 64)       0         \n",
      " g2D)                                                            \n",
      "                                                                 \n",
      " conv2d_107 (Conv2D)         (None, 9, 9, 128)         204928    \n",
      "                                                                 \n",
      " max_pooling2d_38 (MaxPoolin  (None, 4, 4, 128)        0         \n",
      " g2D)                                                            \n",
      "                                                                 \n",
      " conv2d_108 (Conv2D)         (None, 4, 4, 256)         295168    \n",
      "                                                                 \n",
      " conv2d_109 (Conv2D)         (None, 4, 4, 64)          147520    \n",
      "                                                                 \n",
      " dropout_34 (Dropout)        (None, 4, 4, 64)          0         \n",
      "                                                                 \n",
      " flatten_28 (Flatten)        (None, 1024)              0         \n",
      "                                                                 \n",
      " dense_28 (Dense)            (None, 100)               102500    \n",
      "                                                                 \n",
      "=================================================================\n",
      "Total params: 759,588\n",
      "Trainable params: 759,588\n",
      "Non-trainable params: 0\n",
      "_________________________________________________________________\n"
     ]
    }
   ],
   "source": [
    "# Este es el modelo\n",
    "model.summary()"
   ]
  },
  {
   "cell_type": "code",
   "execution_count": 300,
   "metadata": {
    "executionInfo": {
     "elapsed": 1349,
     "status": "ok",
     "timestamp": 1605606842149,
     "user": {
      "displayName": "Valero Laparra",
      "photoUrl": "",
      "userId": "00355299981903664579"
     },
     "user_tz": -60
    },
    "id": "gKgh5QPeNsxR"
   },
   "outputs": [],
   "source": [
    "# Vamos a usar el callback de earlystopping\n",
    "from tensorflow.keras.callbacks import EarlyStopping\n",
    "early_stopping = EarlyStopping(monitor='val_loss', patience=10, min_delta=0.01)"
   ]
  },
  {
   "cell_type": "code",
   "execution_count": 301,
   "metadata": {
    "colab": {
     "base_uri": "https://localhost:8080/"
    },
    "executionInfo": {
     "elapsed": 163340,
     "status": "ok",
     "timestamp": 1605607007346,
     "user": {
      "displayName": "Valero Laparra",
      "photoUrl": "",
      "userId": "00355299981903664579"
     },
     "user_tz": -60
    },
    "id": "LjNKLB6Tn7gR",
    "outputId": "c29d0460-48a0-4429-c462-87f97b22ad5d"
   },
   "outputs": [
    {
     "name": "stdout",
     "output_type": "stream",
     "text": [
      "Epoch 1/50\n",
      "219/219 [==============================] - 32s 142ms/step - loss: 4.4785 - accuracy: 0.0189 - val_loss: 4.3460 - val_accuracy: 0.0257\n",
      "Epoch 2/50\n",
      "219/219 [==============================] - 27s 124ms/step - loss: 4.2708 - accuracy: 0.0420 - val_loss: 4.2561 - val_accuracy: 0.0407\n",
      "Epoch 3/50\n",
      "219/219 [==============================] - 25s 113ms/step - loss: 4.1078 - accuracy: 0.0610 - val_loss: 4.0759 - val_accuracy: 0.0710\n",
      "Epoch 4/50\n",
      "219/219 [==============================] - 26s 119ms/step - loss: 3.9686 - accuracy: 0.0821 - val_loss: 4.0086 - val_accuracy: 0.0840\n",
      "Epoch 5/50\n",
      "219/219 [==============================] - 28s 129ms/step - loss: 3.8318 - accuracy: 0.1027 - val_loss: 3.9058 - val_accuracy: 0.1060\n",
      "Epoch 6/50\n",
      "219/219 [==============================] - 27s 125ms/step - loss: 3.6813 - accuracy: 0.1274 - val_loss: 3.8216 - val_accuracy: 0.1150\n",
      "Epoch 7/50\n",
      "219/219 [==============================] - 26s 119ms/step - loss: 3.5307 - accuracy: 0.1517 - val_loss: 3.7944 - val_accuracy: 0.1287\n",
      "Epoch 8/50\n",
      "219/219 [==============================] - 27s 124ms/step - loss: 3.3638 - accuracy: 0.1820 - val_loss: 3.7929 - val_accuracy: 0.1380\n",
      "Epoch 9/50\n",
      "219/219 [==============================] - 26s 120ms/step - loss: 3.2016 - accuracy: 0.2067 - val_loss: 3.8032 - val_accuracy: 0.1377\n",
      "Epoch 10/50\n",
      "219/219 [==============================] - 25s 113ms/step - loss: 3.0280 - accuracy: 0.2363 - val_loss: 3.8063 - val_accuracy: 0.1487\n",
      "Epoch 11/50\n",
      "219/219 [==============================] - 28s 129ms/step - loss: 2.8545 - accuracy: 0.2720 - val_loss: 3.9088 - val_accuracy: 0.1513\n",
      "Epoch 12/50\n",
      "219/219 [==============================] - 29s 134ms/step - loss: 2.6629 - accuracy: 0.3089 - val_loss: 4.0275 - val_accuracy: 0.1550\n",
      "Epoch 13/50\n",
      "219/219 [==============================] - 29s 132ms/step - loss: 2.4546 - accuracy: 0.3419 - val_loss: 4.2205 - val_accuracy: 0.1457\n",
      "Epoch 14/50\n",
      "219/219 [==============================] - 27s 123ms/step - loss: 2.2372 - accuracy: 0.3971 - val_loss: 4.3393 - val_accuracy: 0.1573\n",
      "Epoch 15/50\n",
      "219/219 [==============================] - 25s 116ms/step - loss: 2.0370 - accuracy: 0.4426 - val_loss: 4.6261 - val_accuracy: 0.1540\n",
      "Epoch 16/50\n",
      "219/219 [==============================] - 27s 122ms/step - loss: 1.8544 - accuracy: 0.4884 - val_loss: 4.8248 - val_accuracy: 0.1517\n",
      "Epoch 17/50\n",
      "219/219 [==============================] - 28s 129ms/step - loss: 1.6502 - accuracy: 0.5364 - val_loss: 5.0719 - val_accuracy: 0.1500\n"
     ]
    }
   ],
   "source": [
    "# Entrenamos\n",
    "hist = model.fit(X_train, y_train, validation_split=0.3, epochs=50, callbacks=[early_stopping])"
   ]
  },
  {
   "cell_type": "code",
   "execution_count": 302,
   "metadata": {
    "colab": {
     "base_uri": "https://localhost:8080/"
    },
    "executionInfo": {
     "elapsed": 3478,
     "status": "ok",
     "timestamp": 1605607085303,
     "user": {
      "displayName": "Valero Laparra",
      "photoUrl": "",
      "userId": "00355299981903664579"
     },
     "user_tz": -60
    },
    "id": "194RRmusoEC7",
    "outputId": "f9d5c746-c636-4c09-f647-d4a7c2fd901d"
   },
   "outputs": [
    {
     "name": "stdout",
     "output_type": "stream",
     "text": [
      "313/313 [==============================] - 8s 24ms/step - loss: 5.1220 - accuracy: 0.1521\n"
     ]
    },
    {
     "data": {
      "text/plain": [
       "[5.121956825256348, 0.15209999680519104]"
      ]
     },
     "execution_count": 302,
     "metadata": {},
     "output_type": "execute_result"
    }
   ],
   "source": [
    "# Evaluamos el modelo\n",
    "score = model.evaluate(X_test,y_test)\n",
    "score"
   ]
  },
  {
   "cell_type": "code",
   "execution_count": 303,
   "metadata": {
    "colab": {
     "base_uri": "https://localhost:8080/",
     "height": 282
    },
    "executionInfo": {
     "elapsed": 1935,
     "status": "ok",
     "timestamp": 1605607111638,
     "user": {
      "displayName": "Valero Laparra",
      "photoUrl": "",
      "userId": "00355299981903664579"
     },
     "user_tz": -60
    },
    "id": "9LiatwSPoPT7",
    "outputId": "4a2c4625-99d2-49d3-a34d-b3aeba235cca"
   },
   "outputs": [
    {
     "data": {
      "text/plain": [
       "<matplotlib.legend.Legend at 0x7f8c8839b0d0>"
      ]
     },
     "execution_count": 303,
     "metadata": {},
     "output_type": "execute_result"
    },
    {
     "data": {
      "image/png": "[encoded data removed]",
      "text/plain": [
       "<Figure size 640x480 with 1 Axes>"
      ]
     },
     "metadata": {},
     "output_type": "display_data"
    }
   ],
   "source": [
    "# Ploteamos la evolucion del loss durante el entrenamiento\n",
    "import matplotlib.pyplot as plt\n",
    "\n",
    "%matplotlib inline\n",
    "\n",
    "plt.figure\n",
    "plt.plot(hist.history['loss'],label=\"loss\")\n",
    "plt.plot(hist.history['val_loss'],label=\"val_loss\")\n",
    "plt.legend()\n"
   ]
  },
  {
   "cell_type": "code",
   "execution_count": 304,
   "metadata": {
    "colab": {
     "base_uri": "https://localhost:8080/",
     "height": 282
    },
    "executionInfo": {
     "elapsed": 2441,
     "status": "ok",
     "timestamp": 1605607125616,
     "user": {
      "displayName": "Valero Laparra",
      "photoUrl": "",
      "userId": "00355299981903664579"
     },
     "user_tz": -60
    },
    "id": "u2arW_sOqI3c",
    "outputId": "77052df8-3af9-414b-cabd-7067c82ee956"
   },
   "outputs": [
    {
     "data": {
      "text/plain": [
       "<matplotlib.legend.Legend at 0x7f8c88403a90>"
      ]
     },
     "execution_count": 304,
     "metadata": {},
     "output_type": "execute_result"
    },
    {
     "data": {
      "image/png": "[encoded data removed]",
      "text/plain": [
       "<Figure size 640x480 with 1 Axes>"
      ]
     },
     "metadata": {},
     "output_type": "display_data"
    }
   ],
   "source": [
    "# Ploteamos la evolucion del accuracy durante el entrenamiento\n",
    "import matplotlib.pyplot as plt\n",
    "\n",
    "%matplotlib inline\n",
    "\n",
    "plt.figure\n",
    "plt.plot(hist.history['accuracy'],label=\"accuracy\")\n",
    "plt.plot(hist.history['val_accuracy'],label=\"val_accuracy\")\n",
    "plt.legend()\n"
   ]
  },
  {
   "cell_type": "code",
   "execution_count": 305,
   "metadata": {
    "colab": {
     "base_uri": "https://localhost:8080/"
    },
    "executionInfo": {
     "elapsed": 1604,
     "status": "ok",
     "timestamp": 1605607129881,
     "user": {
      "displayName": "Valero Laparra",
      "photoUrl": "",
      "userId": "00355299981903664579"
     },
     "user_tz": -60
    },
    "id": "7mN0MrhorXQu",
    "outputId": "54a7bffc-6d30-468f-d23a-cb5a7f3fde6a"
   },
   "outputs": [
    {
     "name": "stdout",
     "output_type": "stream",
     "text": [
      "313/313 [==============================] - 9s 29ms/step\n"
     ]
    },
    {
     "data": {
      "text/plain": [
       "(10000, 100)"
      ]
     },
     "execution_count": 305,
     "metadata": {},
     "output_type": "execute_result"
    }
   ],
   "source": [
    "# Predecimos sobre test\n",
    "preds_test = model.predict(X_test)\n",
    "preds_test.shape"
   ]
  },
  {
   "cell_type": "code",
   "execution_count": 306,
   "metadata": {
    "colab": {
     "base_uri": "https://localhost:8080/",
     "height": 283
    },
    "executionInfo": {
     "elapsed": 3675,
     "status": "ok",
     "timestamp": 1605607446524,
     "user": {
      "displayName": "Valero Laparra",
      "photoUrl": "",
      "userId": "00355299981903664579"
     },
     "user_tz": -60
    },
    "id": "WizGQiTup87z",
    "outputId": "bd58bf21-c6e0-4b7f-f28b-e16e5713835e"
   },
   "outputs": [
    {
     "name": "stdout",
     "output_type": "stream",
     "text": [
      "15\n"
     ]
    },
    {
     "data": {
      "image/png": "[encoded data removed]",
      "text/plain": [
       "<Figure size 640x480 with 1 Axes>"
      ]
     },
     "metadata": {},
     "output_type": "display_data"
    }
   ],
   "source": [
    "import numpy as np\n",
    "# Elegimos una imagen de test\n",
    "idx_mostrar = 2990\n",
    "# Mostramos la imagen\n",
    "plt.imshow(X_test[idx_mostrar,:,:,:])\n",
    "# Mostramos las probabilidades que da el modelo a cada clase\n",
    "print(np.argmax(preds_test[idx_mostrar]))"
   ]
  },
  {
   "cell_type": "code",
   "execution_count": null,
   "metadata": {
    "id": "oF7Raj64qHvq"
   },
   "outputs": [],
   "source": []
  }
 ],
 "metadata": {
  "accelerator": "GPU",
  "colab": {
   "collapsed_sections": [],
   "name": "CNN_cifar100_tf2.ipynb",
   "provenance": []
  },
  "kernelspec": {
   "display_name": "Python 3",
   "language": "python",
   "name": "python3"
  },
  "language_info": {
   "codemirror_mode": {
    "name": "ipython",
    "version": 3
   },
   "file_extension": ".py",
   "mimetype": "text/x-python",
   "name": "python",
   "nbconvert_exporter": "python",
   "pygments_lexer": "ipython3",
   "version": "3.10.13"
  }
 },
 "nbformat": 4,
 "nbformat_minor": 1
}
