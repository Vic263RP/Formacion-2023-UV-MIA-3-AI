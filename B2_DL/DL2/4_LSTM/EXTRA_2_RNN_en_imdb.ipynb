{
 "cells": [
  {
   "cell_type": "markdown",
   "metadata": {
    "id": "ADUrQvBiQAcU"
   },
   "source": [
    "\n",
    "https://github.com/keras-team/keras/blob/master/examples/imdb_lstm.py"
   ]
  },
  {
   "cell_type": "code",
   "execution_count": 5,
   "metadata": {
    "executionInfo": {
     "elapsed": 2406,
     "status": "ok",
     "timestamp": 1624096491623,
     "user": {
      "displayName": "Valero Laparra",
      "photoUrl": "",
      "userId": "00355299981903664579"
     },
     "user_tz": -120
    },
    "id": "A5t3XH5jQAcZ"
   },
   "outputs": [],
   "source": [
    "# ENTRENAR la base de datos de IMDB sentiment para clasificacion usando RNN\n",
    "\n",
    "\n",
    "from __future__ import print_function\n",
    "\n",
    "import keras\n",
    "from keras.preprocessing import sequence\n",
    "from keras.models import Sequential\n",
    "from keras.layers import Dense, Embedding\n",
    "from keras.layers import LSTM, SimpleRNN, GRU\n",
    "from keras.datasets import imdb"
   ]
  },
  {
   "cell_type": "code",
   "execution_count": 7,
   "metadata": {
    "colab": {
     "base_uri": "https://localhost:8080/"
    },
    "executionInfo": {
     "elapsed": 6931,
     "status": "ok",
     "timestamp": 1624096538281,
     "user": {
      "displayName": "Valero Laparra",
      "photoUrl": "",
      "userId": "00355299981903664579"
     },
     "user_tz": -120
    },
    "id": "9SJb7P66QAcm",
    "outputId": "e1b0e3cf-3078-4336-c47c-45edd978ad0b"
   },
   "outputs": [
    {
     "name": "stdout",
     "output_type": "stream",
     "text": [
      "Loading data...\n",
      "25000 train sequences\n",
      "25000 test sequences\n",
      "Pad sequences (samples x time)\n",
      "x_train shape: (25000, 10)\n",
      "x_test shape: (25000, 10)\n"
     ]
    }
   ],
   "source": [
    "max_features = 2000\n",
    "# cut texts after this number of words (among top max_features most common words)\n",
    "maxlen = 10\n",
    "\n",
    "print('Loading data...')\n",
    "(x_train_aux, y_train), (x_test_aux, y_test) = imdb.load_data(num_words=max_features)\n",
    "print(len(x_train_aux), 'train sequences')\n",
    "print(len(x_test_aux), 'test sequences')\n",
    "\n",
    "print('Pad sequences (samples x time)')\n",
    "x_train = keras.utils.pad_sequences(x_train_aux, maxlen=maxlen)\n",
    "x_test = keras.utils.pad_sequences(x_test_aux, maxlen=maxlen)\n",
    "print('x_train shape:', x_train.shape)\n",
    "print('x_test shape:', x_test.shape)"
   ]
  },
  {
   "cell_type": "code",
   "execution_count": null,
   "metadata": {
    "colab": {
     "base_uri": "https://localhost:8080/"
    },
    "executionInfo": {
     "elapsed": 16,
     "status": "ok",
     "timestamp": 1624096538282,
     "user": {
      "displayName": "Valero Laparra",
      "photoUrl": "",
      "userId": "00355299981903664579"
     },
     "user_tz": -120
    },
    "id": "EOlfcCNpQfwX",
    "outputId": "24c4dc45-9d11-4ae1-8ac3-9d3166605664"
   },
   "outputs": [],
   "source": [
    "x_train[0] "
   ]
  },
  {
   "cell_type": "markdown",
   "metadata": {
    "id": "3RQxkd8YQAcz"
   },
   "source": [
    "MODELO 1 LSTMs"
   ]
  },
  {
   "cell_type": "code",
   "execution_count": null,
   "metadata": {
    "colab": {
     "base_uri": "https://localhost:8080/"
    },
    "executionInfo": {
     "elapsed": 744,
     "status": "ok",
     "timestamp": 1624097108901,
     "user": {
      "displayName": "Valero Laparra",
      "photoUrl": "",
      "userId": "00355299981903664579"
     },
     "user_tz": -120
    },
    "id": "Q2UA--SJQAc3",
    "outputId": "c708faa5-604f-46c8-86d1-afeb7090a39f"
   },
   "outputs": [],
   "source": [
    "print('Build model...')\n",
    "model = Sequential()\n",
    "model.add(Embedding(max_features, 128))\n",
    "model.add(LSTM(64, dropout=0.2))\n",
    "model.add(Dense(1, activation='sigmoid'))\n",
    "\n",
    "# try using different optimizers and different optimizer configs\n",
    "model.compile(loss='binary_crossentropy',\n",
    "              optimizer='adam',\n",
    "              metrics=['accuracy'])"
   ]
  },
  {
   "cell_type": "code",
   "execution_count": null,
   "metadata": {
    "colab": {
     "base_uri": "https://localhost:8080/"
    },
    "executionInfo": {
     "elapsed": 287,
     "status": "ok",
     "timestamp": 1624097166878,
     "user": {
      "displayName": "Valero Laparra",
      "photoUrl": "",
      "userId": "00355299981903664579"
     },
     "user_tz": -120
    },
    "id": "kqU5F2Mzu5Ia",
    "outputId": "6fbda6f6-29c7-4063-f36f-159587f8ebdd"
   },
   "outputs": [],
   "source": [
    "model.summary()"
   ]
  },
  {
   "cell_type": "markdown",
   "metadata": {
    "id": "PGaRLupNQAdC"
   },
   "source": [
    "MODELO 2 LSTMs"
   ]
  },
  {
   "cell_type": "code",
   "execution_count": null,
   "metadata": {
    "colab": {
     "base_uri": "https://localhost:8080/",
     "height": 35
    },
    "executionInfo": {
     "elapsed": 11143,
     "status": "ok",
     "timestamp": 1554890989328,
     "user": {
      "displayName": "Valero Laparra",
      "photoUrl": "",
      "userId": "00355299981903664579"
     },
     "user_tz": -120
    },
    "id": "EL-H25kHQAdE",
    "outputId": "5cffdc70-89c0-448a-cc39-7f908d7dfcd7"
   },
   "outputs": [],
   "source": [
    "print('Build model...')\n",
    "model = Sequential()\n",
    "model.add(Embedding(max_features, 128))\n",
    "model.add(LSTM(128, dropout=0.2, recurrent_dropout=0.2, return_sequences = True))\n",
    "model.add(LSTM(128, dropout=0.2, recurrent_dropout=0.2))\n",
    "model.add(Dense(1, activation='sigmoid'))\n",
    "\n",
    "# try using different optimizers and different optimizer configs\n",
    "model.compile(loss='binary_crossentropy',\n",
    "              optimizer='adam',\n",
    "              metrics=['accuracy'])"
   ]
  },
  {
   "cell_type": "markdown",
   "metadata": {
    "id": "kf14IyCpQAdO"
   },
   "source": [
    "MODELO 3 GRU"
   ]
  },
  {
   "cell_type": "code",
   "execution_count": null,
   "metadata": {
    "colab": {
     "base_uri": "https://localhost:8080/",
     "height": 35
    },
    "executionInfo": {
     "elapsed": 11482,
     "status": "ok",
     "timestamp": 1554890989691,
     "user": {
      "displayName": "Valero Laparra",
      "photoUrl": "",
      "userId": "00355299981903664579"
     },
     "user_tz": -120
    },
    "id": "Y7tC51gZQAdS",
    "outputId": "1ada6eb9-38ec-422b-a78e-dbf646bd45b9"
   },
   "outputs": [],
   "source": [
    "print('Build model...')\n",
    "model = Sequential()\n",
    "model.add(Embedding(max_features, 128))\n",
    "model.add(GRU(128, dropout=0.2, recurrent_dropout=0.2))\n",
    "model.add(Dense(1, activation='sigmoid'))\n",
    "\n",
    "# try using different optimizers and different optimizer configs\n",
    "model.compile(loss='binary_crossentropy',\n",
    "              optimizer='adam',\n",
    "              metrics=['accuracy'])"
   ]
  },
  {
   "cell_type": "markdown",
   "metadata": {
    "id": "pG6_jWD9QAde"
   },
   "source": [
    "MODELO 4 RNN"
   ]
  },
  {
   "cell_type": "code",
   "execution_count": null,
   "metadata": {
    "colab": {
     "base_uri": "https://localhost:8080/"
    },
    "executionInfo": {
     "elapsed": 1231,
     "status": "ok",
     "timestamp": 1610538844672,
     "user": {
      "displayName": "Valero Laparra",
      "photoUrl": "",
      "userId": "00355299981903664579"
     },
     "user_tz": -60
    },
    "id": "kp4jPaMZQAdi",
    "outputId": "b691f283-0be8-4b76-b90b-5b95f7f8616d"
   },
   "outputs": [],
   "source": [
    "print('Build model...')\n",
    "model = Sequential()\n",
    "model.add(Embedding(max_features, 128))\n",
    "model.add(SimpleRNN(128, dropout=0.2, recurrent_dropout=0.2))\n",
    "model.add(Dense(1, activation='sigmoid'))\n",
    "\n",
    "# try using different optimizers and different optimizer configs\n",
    "model.compile(loss='binary_crossentropy',\n",
    "              optimizer='adam',\n",
    "              metrics=['accuracy'])"
   ]
  },
  {
   "cell_type": "markdown",
   "metadata": {
    "id": "l3kK02UbQAd4"
   },
   "source": [
    "MODELO 5 Mixtura"
   ]
  },
  {
   "cell_type": "code",
   "execution_count": null,
   "metadata": {
    "colab": {
     "base_uri": "https://localhost:8080/",
     "height": 35
    },
    "executionInfo": {
     "elapsed": 12707,
     "status": "ok",
     "timestamp": 1554890990948,
     "user": {
      "displayName": "Valero Laparra",
      "photoUrl": "",
      "userId": "00355299981903664579"
     },
     "user_tz": -120
    },
    "id": "OmtSTupfQAd6",
    "outputId": "229ec380-91b0-499d-bc72-9b8d59fb2cf3"
   },
   "outputs": [],
   "source": [
    "print('Build model...')\n",
    "model = Sequential()\n",
    "model.add(Embedding(max_features, 128))\n",
    "model.add(LSTM(128, dropout=0.2, recurrent_dropout=0.2, return_sequences = True))\n",
    "model.add(GRU(128, dropout=0.2, recurrent_dropout=0.2, return_sequences = True))\n",
    "model.add(SimpleRNN(128, dropout=0.2, recurrent_dropout=0.2))\n",
    "model.add(Dense(1, activation='sigmoid'))\n",
    "\n",
    "# try using different optimizers and different optimizer configs\n",
    "model.compile(loss='binary_crossentropy',\n",
    "              optimizer='adam',\n",
    "              metrics=['accuracy'])"
   ]
  },
  {
   "cell_type": "markdown",
   "metadata": {
    "id": "eqPeYdGgQAeI"
   },
   "source": [
    "ENTRENAMIENTO"
   ]
  },
  {
   "cell_type": "code",
   "execution_count": null,
   "metadata": {
    "colab": {
     "base_uri": "https://localhost:8080/"
    },
    "executionInfo": {
     "elapsed": 12491,
     "status": "ok",
     "timestamp": 1610734628535,
     "user": {
      "displayName": "Valero Laparra",
      "photoUrl": "",
      "userId": "00355299981903664579"
     },
     "user_tz": -60
    },
    "id": "KwKP00I8QAeK",
    "outputId": "67c687f2-de62-4a86-c212-fbf7563779ec"
   },
   "outputs": [],
   "source": [
    "from keras.callbacks import History \n",
    "history = History()\n",
    "\n",
    "batch_size = 32\n",
    "print('Train...')\n",
    "model.fit(x_train, y_train,\n",
    "          batch_size=batch_size,\n",
    "          epochs=1,\n",
    "          validation_data=(x_test, y_test), callbacks=[history])\n"
   ]
  },
  {
   "cell_type": "code",
   "execution_count": null,
   "metadata": {
    "colab": {
     "base_uri": "https://localhost:8080/"
    },
    "executionInfo": {
     "elapsed": 2137,
     "status": "ok",
     "timestamp": 1610734634411,
     "user": {
      "displayName": "Valero Laparra",
      "photoUrl": "",
      "userId": "00355299981903664579"
     },
     "user_tz": -60
    },
    "id": "nb-qOFGlQAeW",
    "outputId": "e3c0dcb5-ddd6-449b-ff18-95ef188aa024"
   },
   "outputs": [],
   "source": [
    "# Evaluamos\n",
    "score, acc = model.evaluate(x_test, y_test,\n",
    "                            batch_size=batch_size)\n",
    "print('Test score:', score)\n",
    "print('Test accuracy:', acc)"
   ]
  },
  {
   "cell_type": "code",
   "execution_count": null,
   "metadata": {
    "id": "Qs2gK44NQAem"
   },
   "outputs": [],
   "source": []
  },
  {
   "cell_type": "markdown",
   "metadata": {
    "id": "uUofas2BmNT0"
   },
   "source": [
    "#PREDECIR"
   ]
  },
  {
   "cell_type": "code",
   "execution_count": null,
   "metadata": {
    "colab": {
     "base_uri": "https://localhost:8080/"
    },
    "executionInfo": {
     "elapsed": 659,
     "status": "ok",
     "timestamp": 1610734651570,
     "user": {
      "displayName": "Valero Laparra",
      "photoUrl": "",
      "userId": "00355299981903664579"
     },
     "user_tz": -60
    },
    "id": "Y6y-vCLUn-Sr",
    "outputId": "cfa72845-cb27-4673-be0f-b30fdab25f87"
   },
   "outputs": [],
   "source": [
    "x_test[0,:]"
   ]
  },
  {
   "cell_type": "code",
   "execution_count": null,
   "metadata": {
    "colab": {
     "base_uri": "https://localhost:8080/"
    },
    "executionInfo": {
     "elapsed": 644,
     "status": "ok",
     "timestamp": 1610539387291,
     "user": {
      "displayName": "Valero Laparra",
      "photoUrl": "",
      "userId": "00355299981903664579"
     },
     "user_tz": -60
    },
    "id": "voPXxMnVoLtF",
    "outputId": "993c75dc-7daf-4890-e819-85babcae1554"
   },
   "outputs": [],
   "source": [
    "x_test[0:1,:]"
   ]
  },
  {
   "cell_type": "code",
   "execution_count": null,
   "metadata": {
    "colab": {
     "base_uri": "https://localhost:8080/"
    },
    "executionInfo": {
     "elapsed": 893,
     "status": "ok",
     "timestamp": 1610734666562,
     "user": {
      "displayName": "Valero Laparra",
      "photoUrl": "",
      "userId": "00355299981903664579"
     },
     "user_tz": -60
    },
    "id": "V-9auBs6nXeC",
    "outputId": "1300e48a-d4db-4404-f1de-a41ffa68df94"
   },
   "outputs": [],
   "source": [
    "out = model.predict(x_test[0:1,:])\n",
    "\n",
    "print(out)"
   ]
  },
  {
   "cell_type": "code",
   "execution_count": null,
   "metadata": {
    "colab": {
     "base_uri": "https://localhost:8080/"
    },
    "executionInfo": {
     "elapsed": 917,
     "status": "ok",
     "timestamp": 1610539276087,
     "user": {
      "displayName": "Valero Laparra",
      "photoUrl": "",
      "userId": "00355299981903664579"
     },
     "user_tz": -60
    },
    "id": "eFxQuIRwnvIB",
    "outputId": "06522150-ca2e-47c7-bf7b-a7c774620a84"
   },
   "outputs": [],
   "source": [
    "y_test[0]"
   ]
  }
 ],
 "metadata": {
  "colab": {
   "name": "RNN_en_imdb.ipynb",
   "provenance": []
  },
  "kernelspec": {
   "display_name": "Python 3 (ipykernel)",
   "language": "python",
   "name": "python3"
  },
  "language_info": {
   "codemirror_mode": {
    "name": "ipython",
    "version": 3
   },
   "file_extension": ".py",
   "mimetype": "text/x-python",
   "name": "python",
   "nbconvert_exporter": "python",
   "pygments_lexer": "ipython3",
   "version": "3.10.13"
  }
 },
 "nbformat": 4,
 "nbformat_minor": 4
}
