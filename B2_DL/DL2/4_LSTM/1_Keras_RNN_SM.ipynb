{
 "cells": [
  {
   "cell_type": "code",
   "execution_count": 1,
   "metadata": {
    "executionInfo": {
     "elapsed": 1898,
     "status": "ok",
     "timestamp": 1624089938641,
     "user": {
      "displayName": "Valero Laparra",
      "photoUrl": "",
      "userId": "00355299981903664579"
     },
     "user_tz": -120
    },
    "id": "xAEC-qUHfEy_"
   },
   "outputs": [
    {
     "name": "stderr",
     "output_type": "stream",
     "text": [
      "2024-07-22 09:26:04.939038: I tensorflow/core/platform/cpu_feature_guard.cc:193] This TensorFlow binary is optimized with oneAPI Deep Neural Network Library (oneDNN) to use the following CPU instructions in performance-critical operations:  SSE4.1 SSE4.2 AVX AVX2 FMA\n",
      "To enable them in other operations, rebuild TensorFlow with the appropriate compiler flags.\n"
     ]
    }
   ],
   "source": [
    "from keras.models import Sequential\n",
    "from keras.layers import Dense, Flatten, Conv1D, LSTM, GRU\n",
    "import numpy as np\n"
   ]
  },
  {
   "cell_type": "markdown",
   "metadata": {
    "collapsed": true,
    "id": "e18-vJ_IfEza",
    "jupyter": {
     "outputs_hidden": true
    }
   },
   "source": [
    "Para leer datos lo mejor es usar la toolbox pandas\n",
    "\n",
    "Los datos se han sacado de:\n",
    "https://www.kaggle.com/borismarjanovic/price-volume-data-for-all-us-stocks-etfs/version/3"
   ]
  },
  {
   "cell_type": "code",
   "execution_count": 2,
   "metadata": {
    "executionInfo": {
     "elapsed": 19,
     "status": "ok",
     "timestamp": 1624089938643,
     "user": {
      "displayName": "Valero Laparra",
      "photoUrl": "",
      "userId": "00355299981903664579"
     },
     "user_tz": -120
    },
    "id": "7HsjSYqPfEze"
   },
   "outputs": [],
   "source": [
    "import pandas as pd\n",
    "\n",
    "dd_googl = pd.read_csv(\"googl.us.txt\", delimiter=\",\")\n",
    "dd_aa = pd.read_csv(\"aa.us.txt\", delimiter=\",\")\n",
    "dd_iae = pd.read_csv(\"iae.us.txt\", delimiter=\",\")\n"
   ]
  },
  {
   "cell_type": "code",
   "execution_count": 3,
   "metadata": {
    "executionInfo": {
     "elapsed": 15,
     "status": "ok",
     "timestamp": 1624089938644,
     "user": {
      "displayName": "Valero Laparra",
      "photoUrl": "",
      "userId": "00355299981903664579"
     },
     "user_tz": -120
    },
    "id": "VtM0xnsYfEz0"
   },
   "outputs": [],
   "source": [
    "googl_op = dd_googl['Open'].values\n",
    "aa_op = dd_aa['Open'].values\n",
    "iae_op = dd_iae['Open'].values"
   ]
  },
  {
   "cell_type": "code",
   "execution_count": 4,
   "metadata": {
    "executionInfo": {
     "elapsed": 6,
     "status": "ok",
     "timestamp": 1624089939197,
     "user": {
      "displayName": "Valero Laparra",
      "photoUrl": "",
      "userId": "00355299981903664579"
     },
     "user_tz": -120
    },
    "id": "hN4bVTZUfEz8"
   },
   "outputs": [],
   "source": [
    "aa = dd_googl['Date'].values\n",
    "googl_indice = np.zeros(aa.shape)\n",
    "for n in range(0, aa.shape[0]):\n",
    "    cc = aa[n]\n",
    "    qq1 = np.asarray(cc[0:4], dtype=np.float64, order='C')\n",
    "    qq2 = np.asarray(cc[5:7], dtype=np.float64, order='C')\n",
    "    qq3 = np.asarray(cc[8:10], dtype=np.float64, order='C')\n",
    "\n",
    "    googl_indice[n] = (qq1-2000)*365 + qq2*30 + qq3"
   ]
  },
  {
   "cell_type": "code",
   "execution_count": 5,
   "metadata": {
    "executionInfo": {
     "elapsed": 7,
     "status": "ok",
     "timestamp": 1624089939969,
     "user": {
      "displayName": "Valero Laparra",
      "photoUrl": "",
      "userId": "00355299981903664579"
     },
     "user_tz": -120
    },
    "id": "tpwSaRT7fE0D"
   },
   "outputs": [],
   "source": [
    "aa = dd_aa['Date'].values\n",
    "aa_indice = np.zeros(aa.shape)\n",
    "for n in range(0, aa.shape[0]):\n",
    "    cc = aa[n]\n",
    "    qq1 = np.asarray(cc[0:4], dtype=np.float64, order='C')\n",
    "    qq2 = np.asarray(cc[5:7], dtype=np.float64, order='C')\n",
    "    qq3 = np.asarray(cc[8:10], dtype=np.float64, order='C')\n",
    "\n",
    "    aa_indice[n] = (qq1-2000)*365 + qq2*30 + qq3"
   ]
  },
  {
   "cell_type": "code",
   "execution_count": 6,
   "metadata": {
    "executionInfo": {
     "elapsed": 6,
     "status": "ok",
     "timestamp": 1624089940227,
     "user": {
      "displayName": "Valero Laparra",
      "photoUrl": "",
      "userId": "00355299981903664579"
     },
     "user_tz": -120
    },
    "id": "WfkAsDo4fE0N"
   },
   "outputs": [],
   "source": [
    "aa = dd_iae['Date'].values\n",
    "iae_indice = np.zeros(aa.shape)\n",
    "for n in range(0, aa.shape[0]):\n",
    "    cc = aa[n]\n",
    "    qq1 = np.asarray(cc[0:4], dtype=np.float64, order='C')\n",
    "    qq2 = np.asarray(cc[5:7], dtype=np.float64, order='C')\n",
    "    qq3 = np.asarray(cc[8:10], dtype=np.float64, order='C')\n",
    "\n",
    "    iae_indice[n] = (qq1-2000)*365 + qq2*30 + qq3"
   ]
  },
  {
   "cell_type": "code",
   "execution_count": 7,
   "metadata": {
    "colab": {
     "base_uri": "https://localhost:8080/"
    },
    "executionInfo": {
     "elapsed": 10,
     "status": "ok",
     "timestamp": 1624089941079,
     "user": {
      "displayName": "Valero Laparra",
      "photoUrl": "",
      "userId": "00355299981903664579"
     },
     "user_tz": -120
    },
    "id": "VR2FHL6ufE0V",
    "outputId": "ec398229-77e7-453f-827b-4b623da19052"
   },
   "outputs": [
    {
     "name": "stdout",
     "output_type": "stream",
     "text": [
      "(3333,)\n",
      "(3333,)\n"
     ]
    }
   ],
   "source": [
    "print(googl_indice.shape)\n",
    "print(googl_op.shape)"
   ]
  },
  {
   "cell_type": "code",
   "execution_count": 8,
   "metadata": {
    "executionInfo": {
     "elapsed": 4,
     "status": "ok",
     "timestamp": 1624089941335,
     "user": {
      "displayName": "Valero Laparra",
      "photoUrl": "",
      "userId": "00355299981903664579"
     },
     "user_tz": -120
    },
    "id": "Z75bJRV5fE0y"
   },
   "outputs": [],
   "source": [
    "indices = set(googl_indice) & set(aa_indice) & set(iae_indice) \n",
    "\n",
    "ii = np.in1d(googl_indice,list(indices))\n",
    "data_googl = googl_op[ii]\n",
    "ii = np.in1d(aa_indice,list(indices))\n",
    "data_aa = aa_op[ii]\n",
    "ii = np.in1d(iae_indice,list(indices))\n",
    "data_iae = iae_op[ii]"
   ]
  },
  {
   "cell_type": "code",
   "execution_count": 9,
   "metadata": {
    "colab": {
     "base_uri": "https://localhost:8080/",
     "height": 282
    },
    "executionInfo": {
     "elapsed": 277,
     "status": "ok",
     "timestamp": 1624089942571,
     "user": {
      "displayName": "Valero Laparra",
      "photoUrl": "",
      "userId": "00355299981903664579"
     },
     "user_tz": -120
    },
    "id": "jS3hc9OefE04",
    "outputId": "12199c2b-85fb-44f6-bc7e-ea9512448f97"
   },
   "outputs": [
    {
     "data": {
      "text/plain": [
       "[<matplotlib.lines.Line2D at 0x7f0bdedc2d70>]"
      ]
     },
     "execution_count": 9,
     "metadata": {},
     "output_type": "execute_result"
    },
    {
     "data": {
      "image/png": "[encoded data removed]",
      "text/plain": [
       "<Figure size 640x480 with 1 Axes>"
      ]
     },
     "metadata": {},
     "output_type": "display_data"
    }
   ],
   "source": [
    "import matplotlib.pyplot as plt\n",
    "%matplotlib inline\n",
    "plt.figure()\n",
    "plt.plot(data_googl)\n",
    "plt.plot(data_aa)\n",
    "plt.plot(data_iae)"
   ]
  },
  {
   "cell_type": "code",
   "execution_count": 10,
   "metadata": {
    "executionInfo": {
     "elapsed": 11,
     "status": "ok",
     "timestamp": 1624089942572,
     "user": {
      "displayName": "Valero Laparra",
      "photoUrl": "",
      "userId": "00355299981903664579"
     },
     "user_tz": -120
    },
    "id": "XtuUa24tfE1C"
   },
   "outputs": [],
   "source": [
    "DAT = np.zeros((data_googl.shape[0],3))\n",
    "DAT[:,0] = data_googl\n",
    "DAT[:,1] = data_aa\n",
    "DAT[:,2] = data_iae\n",
    "               "
   ]
  },
  {
   "cell_type": "code",
   "execution_count": 11,
   "metadata": {
    "colab": {
     "base_uri": "https://localhost:8080/"
    },
    "executionInfo": {
     "elapsed": 8,
     "status": "ok",
     "timestamp": 1624089943480,
     "user": {
      "displayName": "Valero Laparra",
      "photoUrl": "",
      "userId": "00355299981903664579"
     },
     "user_tz": -120
    },
    "id": "XxHjD63SXFPV",
    "outputId": "344f6f42-280a-4738-c9e2-033e7938127b"
   },
   "outputs": [
    {
     "data": {
      "text/plain": [
       "(2678, 3)"
      ]
     },
     "execution_count": 11,
     "metadata": {},
     "output_type": "execute_result"
    }
   ],
   "source": [
    "DAT.shape"
   ]
  },
  {
   "cell_type": "code",
   "execution_count": 12,
   "metadata": {
    "executionInfo": {
     "elapsed": 4,
     "status": "ok",
     "timestamp": 1624089944030,
     "user": {
      "displayName": "Valero Laparra",
      "photoUrl": "",
      "userId": "00355299981903664579"
     },
     "user_tz": -120
    },
    "id": "xmCzN6XUfE1S"
   },
   "outputs": [],
   "source": [
    "LAG = 15\n",
    "DAT_TS = np.zeros((DAT.shape[0]-LAG,LAG,DAT.shape[1]))\n",
    "\n",
    "for ii in range(0,DAT.shape[0]-LAG):\n",
    "    DAT_TS[ii,:,:] = DAT[ii:ii+LAG,:]\n",
    "    "
   ]
  },
  {
   "cell_type": "code",
   "execution_count": 13,
   "metadata": {
    "colab": {
     "base_uri": "https://localhost:8080/"
    },
    "executionInfo": {
     "elapsed": 6,
     "status": "ok",
     "timestamp": 1624089944672,
     "user": {
      "displayName": "Valero Laparra",
      "photoUrl": "",
      "userId": "00355299981903664579"
     },
     "user_tz": -120
    },
    "id": "V5zawxjsXYXb",
    "outputId": "f37aa3e8-3153-41a2-9019-e0d2caf827a9"
   },
   "outputs": [
    {
     "data": {
      "text/plain": [
       "(2663, 15, 3)"
      ]
     },
     "execution_count": 13,
     "metadata": {},
     "output_type": "execute_result"
    }
   ],
   "source": [
    "DAT_TS.shape"
   ]
  },
  {
   "cell_type": "code",
   "execution_count": 14,
   "metadata": {
    "executionInfo": {
     "elapsed": 6,
     "status": "ok",
     "timestamp": 1624089945399,
     "user": {
      "displayName": "Valero Laparra",
      "photoUrl": "",
      "userId": "00355299981903664579"
     },
     "user_tz": -120
    },
    "id": "StW902QwfE1l"
   },
   "outputs": [],
   "source": [
    "Ntr = np.floor(DAT_TS.shape[0]/2)\n",
    "Y_target = 0\n",
    "\n",
    "XX_tr = DAT_TS[range(0,int(Ntr)),0:LAG-1,:]\n",
    "XX_ts = DAT_TS[range(int(Ntr)+1,2*int(Ntr)),0:LAG-1,:]\n",
    "\n",
    "YY_tr = DAT_TS[range(0,int(Ntr)),LAG-1,Y_target]\n",
    "YY_ts = DAT_TS[range(int(Ntr)+1,2*int(Ntr)),LAG-1,Y_target]\n",
    "\n"
   ]
  },
  {
   "cell_type": "code",
   "execution_count": 15,
   "metadata": {
    "colab": {
     "base_uri": "https://localhost:8080/"
    },
    "executionInfo": {
     "elapsed": 9,
     "status": "ok",
     "timestamp": 1624089946737,
     "user": {
      "displayName": "Valero Laparra",
      "photoUrl": "",
      "userId": "00355299981903664579"
     },
     "user_tz": -120
    },
    "id": "yqrTYim2fE1v",
    "outputId": "ae0aa4bd-7b86-47d6-d0e9-4c121410ab6f"
   },
   "outputs": [
    {
     "name": "stdout",
     "output_type": "stream",
     "text": [
      "(1331, 14, 3)\n",
      "(1330, 14, 3)\n",
      "(1331,)\n",
      "(1330,)\n"
     ]
    }
   ],
   "source": [
    "print(XX_tr.shape)\n",
    "print(XX_ts.shape)\n",
    "print(YY_tr.shape)\n",
    "print(YY_ts.shape)\n"
   ]
  },
  {
   "cell_type": "markdown",
   "metadata": {
    "id": "WPJMRR95fE1_"
   },
   "source": [
    "## MODEL 1"
   ]
  },
  {
   "cell_type": "code",
   "execution_count": 16,
   "metadata": {
    "executionInfo": {
     "elapsed": 524,
     "status": "ok",
     "timestamp": 1624091200466,
     "user": {
      "displayName": "Valero Laparra",
      "photoUrl": "",
      "userId": "00355299981903664579"
     },
     "user_tz": -120
    },
    "id": "m_n915JGfE2B"
   },
   "outputs": [],
   "source": [
    "model = Sequential()\n",
    "model.add(LSTM(1, input_shape=(XX_tr.shape[1],XX_tr.shape[2],)))\n",
    "model.add(Dense(1))\n",
    "\n",
    "model.compile(optimizer='adam',loss='mae')"
   ]
  },
  {
   "cell_type": "code",
   "execution_count": 17,
   "metadata": {
    "colab": {
     "base_uri": "https://localhost:8080/"
    },
    "executionInfo": {
     "elapsed": 8,
     "status": "ok",
     "timestamp": 1624091201162,
     "user": {
      "displayName": "Valero Laparra",
      "photoUrl": "",
      "userId": "00355299981903664579"
     },
     "user_tz": -120
    },
    "id": "OQ5MicB-YCdH",
    "outputId": "1101a237-c3a2-4665-b08e-8f4b91f02f9f"
   },
   "outputs": [
    {
     "name": "stdout",
     "output_type": "stream",
     "text": [
      "Model: \"sequential\"\n",
      "_________________________________________________________________\n",
      " Layer (type)                Output Shape              Param #   \n",
      "=================================================================\n",
      " lstm (LSTM)                 (None, 1)                 20        \n",
      "                                                                 \n",
      " dense (Dense)               (None, 1)                 2         \n",
      "                                                                 \n",
      "=================================================================\n",
      "Total params: 22\n",
      "Trainable params: 22\n",
      "Non-trainable params: 0\n",
      "_________________________________________________________________\n"
     ]
    }
   ],
   "source": [
    "model.summary()"
   ]
  },
  {
   "cell_type": "markdown",
   "metadata": {
    "id": "Lk7YhiZIdnaX"
   },
   "source": [
    "## MODELO 2"
   ]
  },
  {
   "cell_type": "code",
   "execution_count": 18,
   "metadata": {
    "executionInfo": {
     "elapsed": 851,
     "status": "ok",
     "timestamp": 1624090603221,
     "user": {
      "displayName": "Valero Laparra",
      "photoUrl": "",
      "userId": "00355299981903664579"
     },
     "user_tz": -120
    },
    "id": "CZQMkaFGfE2R"
   },
   "outputs": [],
   "source": [
    "model2 = Sequential()\n",
    "model2.add(LSTM(10, input_shape=(14,3,), return_sequences = True))\n",
    "model2.add(LSTM(10))\n",
    "model2.add(Dense(1))\n",
    "\n",
    "model2.compile(optimizer='adam',loss='mae')"
   ]
  },
  {
   "cell_type": "code",
   "execution_count": 19,
   "metadata": {
    "colab": {
     "base_uri": "https://localhost:8080/"
    },
    "executionInfo": {
     "elapsed": 10,
     "status": "ok",
     "timestamp": 1624090603414,
     "user": {
      "displayName": "Valero Laparra",
      "photoUrl": "",
      "userId": "00355299981903664579"
     },
     "user_tz": -120
    },
    "id": "_2nRgiONTzmJ",
    "outputId": "f11fbc48-eb87-44fc-f6e0-b2d49a36c19e"
   },
   "outputs": [
    {
     "name": "stdout",
     "output_type": "stream",
     "text": [
      "Model: \"sequential_1\"\n",
      "_________________________________________________________________\n",
      " Layer (type)                Output Shape              Param #   \n",
      "=================================================================\n",
      " lstm_1 (LSTM)               (None, 14, 10)            560       \n",
      "                                                                 \n",
      " lstm_2 (LSTM)               (None, 10)                840       \n",
      "                                                                 \n",
      " dense_1 (Dense)             (None, 1)                 11        \n",
      "                                                                 \n",
      "=================================================================\n",
      "Total params: 1,411\n",
      "Trainable params: 1,411\n",
      "Non-trainable params: 0\n",
      "_________________________________________________________________\n"
     ]
    }
   ],
   "source": [
    "model2.summary()"
   ]
  },
  {
   "cell_type": "markdown",
   "metadata": {
    "id": "XUtPugRtdp-G"
   },
   "source": [
    "## MODELO 3"
   ]
  },
  {
   "cell_type": "code",
   "execution_count": 20,
   "metadata": {
    "executionInfo": {
     "elapsed": 600,
     "status": "ok",
     "timestamp": 1624090937893,
     "user": {
      "displayName": "Valero Laparra",
      "photoUrl": "",
      "userId": "00355299981903664579"
     },
     "user_tz": -120
    },
    "id": "4Bp4GtCJfE2V"
   },
   "outputs": [],
   "source": [
    "model3 = Sequential()\n",
    "model3.add(LSTM(10, input_shape=(XX_tr.shape[1],XX_tr.shape[2],), return_sequences = True))\n",
    "model3.add(GRU(10))\n",
    "model3.add(Dense(1))\n",
    "\n",
    "model3.compile(optimizer='adam',loss='mae')"
   ]
  },
  {
   "cell_type": "code",
   "execution_count": 21,
   "metadata": {
    "colab": {
     "base_uri": "https://localhost:8080/"
    },
    "executionInfo": {
     "elapsed": 6,
     "status": "ok",
     "timestamp": 1624090938836,
     "user": {
      "displayName": "Valero Laparra",
      "photoUrl": "",
      "userId": "00355299981903664579"
     },
     "user_tz": -120
    },
    "id": "lS6XW4BjfE2g",
    "outputId": "2721358d-6d64-4f0a-bf6d-8e8dad936818"
   },
   "outputs": [
    {
     "name": "stdout",
     "output_type": "stream",
     "text": [
      "Model: \"sequential_2\"\n",
      "_________________________________________________________________\n",
      " Layer (type)                Output Shape              Param #   \n",
      "=================================================================\n",
      " lstm_3 (LSTM)               (None, 14, 10)            560       \n",
      "                                                                 \n",
      " gru (GRU)                   (None, 10)                660       \n",
      "                                                                 \n",
      " dense_2 (Dense)             (None, 1)                 11        \n",
      "                                                                 \n",
      "=================================================================\n",
      "Total params: 1,231\n",
      "Trainable params: 1,231\n",
      "Non-trainable params: 0\n",
      "_________________________________________________________________\n"
     ]
    }
   ],
   "source": [
    "model3.summary()"
   ]
  },
  {
   "cell_type": "code",
   "execution_count": 26,
   "metadata": {
    "colab": {
     "base_uri": "https://localhost:8080/"
    },
    "executionInfo": {
     "elapsed": 8252,
     "status": "ok",
     "timestamp": 1624091216459,
     "user": {
      "displayName": "Valero Laparra",
      "photoUrl": "",
      "userId": "00355299981903664579"
     },
     "user_tz": -120
    },
    "id": "rUzDlBvefE2y",
    "outputId": "e6cf83a6-2b25-46a2-e2c0-ef5dab97aa4c",
    "scrolled": true
   },
   "outputs": [
    {
     "name": "stdout",
     "output_type": "stream",
     "text": [
      "Epoch 1/100\n"
     ]
    },
    {
     "name": "stdout",
     "output_type": "stream",
     "text": [
      "42/42 [==============================] - 4s 92ms/step - loss: 247.7104\n",
      "Epoch 2/100\n",
      "42/42 [==============================] - 3s 71ms/step - loss: 247.2293\n",
      "Epoch 3/100\n",
      "42/42 [==============================] - 2s 53ms/step - loss: 246.7496\n",
      "Epoch 4/100\n",
      "42/42 [==============================] - 3s 67ms/step - loss: 246.2711\n",
      "Epoch 5/100\n",
      "42/42 [==============================] - 2s 47ms/step - loss: 245.7937\n",
      "Epoch 6/100\n",
      "42/42 [==============================] - 2s 44ms/step - loss: 245.3174\n",
      "Epoch 7/100\n",
      "42/42 [==============================] - 2s 39ms/step - loss: 244.8420\n",
      "Epoch 8/100\n",
      "42/42 [==============================] - 2s 48ms/step - loss: 244.3674\n",
      "Epoch 9/100\n",
      "42/42 [==============================] - 2s 41ms/step - loss: 243.8937\n",
      "Epoch 10/100\n",
      "42/42 [==============================] - 2s 39ms/step - loss: 243.4206\n",
      "Epoch 11/100\n",
      "42/42 [==============================] - 2s 41ms/step - loss: 242.9482\n",
      "Epoch 12/100\n",
      "42/42 [==============================] - 2s 43ms/step - loss: 242.4764\n",
      "Epoch 13/100\n",
      "42/42 [==============================] - 2s 42ms/step - loss: 242.0051\n",
      "Epoch 14/100\n",
      "42/42 [==============================] - 2s 49ms/step - loss: 241.5344\n",
      "Epoch 15/100\n",
      "42/42 [==============================] - 2s 40ms/step - loss: 241.0641\n",
      "Epoch 16/100\n",
      "42/42 [==============================] - 4s 88ms/step - loss: 240.5944\n",
      "Epoch 17/100\n",
      "42/42 [==============================] - 13s 303ms/step - loss: 240.1250\n",
      "Epoch 18/100\n",
      "42/42 [==============================] - 12s 282ms/step - loss: 239.6560\n",
      "Epoch 19/100\n",
      "42/42 [==============================] - 6s 146ms/step - loss: 239.1873\n",
      "Epoch 20/100\n",
      "42/42 [==============================] - 4s 104ms/step - loss: 238.7190\n",
      "Epoch 21/100\n",
      "42/42 [==============================] - 4s 85ms/step - loss: 238.2511\n",
      "Epoch 22/100\n",
      "42/42 [==============================] - 3s 75ms/step - loss: 237.7835\n",
      "Epoch 23/100\n",
      "42/42 [==============================] - 3s 83ms/step - loss: 237.3161\n",
      "Epoch 24/100\n",
      "42/42 [==============================] - 6s 142ms/step - loss: 236.8490\n",
      "Epoch 25/100\n",
      "42/42 [==============================] - 5s 112ms/step - loss: 236.3821\n",
      "Epoch 26/100\n",
      "42/42 [==============================] - 3s 83ms/step - loss: 235.9155\n",
      "Epoch 27/100\n",
      "42/42 [==============================] - 4s 86ms/step - loss: 235.4491\n",
      "Epoch 28/100\n",
      "42/42 [==============================] - 4s 84ms/step - loss: 234.9829\n",
      "Epoch 29/100\n",
      "42/42 [==============================] - 3s 62ms/step - loss: 234.5170\n",
      "Epoch 30/100\n",
      "42/42 [==============================] - 2s 56ms/step - loss: 234.0511\n",
      "Epoch 31/100\n",
      "42/42 [==============================] - 2s 54ms/step - loss: 233.5856\n",
      "Epoch 32/100\n",
      "42/42 [==============================] - 2s 52ms/step - loss: 233.1201\n",
      "Epoch 33/100\n",
      "42/42 [==============================] - 2s 51ms/step - loss: 232.6548\n",
      "Epoch 34/100\n",
      "42/42 [==============================] - 2s 53ms/step - loss: 232.1897\n",
      "Epoch 35/100\n",
      "42/42 [==============================] - 2s 55ms/step - loss: 231.7247\n",
      "Epoch 36/100\n",
      "42/42 [==============================] - 2s 52ms/step - loss: 231.2599\n",
      "Epoch 37/100\n",
      "42/42 [==============================] - 2s 45ms/step - loss: 230.7952\n",
      "Epoch 38/100\n",
      "42/42 [==============================] - 2s 53ms/step - loss: 230.3306\n",
      "Epoch 39/100\n",
      "42/42 [==============================] - 1s 35ms/step - loss: 229.8661\n",
      "Epoch 40/100\n",
      "42/42 [==============================] - 2s 36ms/step - loss: 229.4017\n",
      "Epoch 41/100\n",
      "42/42 [==============================] - 2s 36ms/step - loss: 228.9375\n",
      "Epoch 42/100\n",
      "42/42 [==============================] - 2s 40ms/step - loss: 228.4733\n",
      "Epoch 43/100\n",
      "42/42 [==============================] - 7s 173ms/step - loss: 228.0092\n",
      "Epoch 44/100\n",
      "42/42 [==============================] - 5s 106ms/step - loss: 227.5453\n",
      "Epoch 45/100\n",
      "42/42 [==============================] - 5s 112ms/step - loss: 227.0814\n",
      "Epoch 46/100\n",
      "42/42 [==============================] - 3s 62ms/step - loss: 226.6176\n",
      "Epoch 47/100\n",
      "42/42 [==============================] - 3s 67ms/step - loss: 226.1538\n",
      "Epoch 48/100\n",
      "42/42 [==============================] - 2s 42ms/step - loss: 225.6902\n",
      "Epoch 49/100\n",
      "42/42 [==============================] - 2s 38ms/step - loss: 225.2266\n",
      "Epoch 50/100\n",
      "42/42 [==============================] - 2s 45ms/step - loss: 224.7631\n",
      "Epoch 51/100\n",
      "42/42 [==============================] - 2s 42ms/step - loss: 224.2997\n",
      "Epoch 52/100\n",
      "42/42 [==============================] - 3s 62ms/step - loss: 223.8363\n",
      "Epoch 53/100\n",
      "42/42 [==============================] - 3s 64ms/step - loss: 223.3729\n",
      "Epoch 54/100\n",
      "42/42 [==============================] - 2s 52ms/step - loss: 222.9097\n",
      "Epoch 55/100\n",
      "42/42 [==============================] - 3s 61ms/step - loss: 222.4465\n",
      "Epoch 56/100\n",
      "42/42 [==============================] - 3s 62ms/step - loss: 221.9833\n",
      "Epoch 57/100\n",
      "42/42 [==============================] - 2s 44ms/step - loss: 221.5202\n",
      "Epoch 58/100\n",
      "42/42 [==============================] - 2s 49ms/step - loss: 221.0571\n",
      "Epoch 59/100\n",
      "42/42 [==============================] - 2s 44ms/step - loss: 220.5941\n",
      "Epoch 60/100\n",
      "42/42 [==============================] - 2s 42ms/step - loss: 220.1311\n",
      "Epoch 61/100\n",
      "42/42 [==============================] - 2s 41ms/step - loss: 219.6682\n",
      "Epoch 62/100\n",
      "42/42 [==============================] - 3s 77ms/step - loss: 219.2053\n",
      "Epoch 63/100\n",
      "42/42 [==============================] - 2s 45ms/step - loss: 218.7425\n",
      "Epoch 64/100\n",
      "42/42 [==============================] - 2s 52ms/step - loss: 218.2796\n",
      "Epoch 65/100\n",
      "42/42 [==============================] - 2s 41ms/step - loss: 217.8168\n",
      "Epoch 66/100\n",
      "42/42 [==============================] - 2s 37ms/step - loss: 217.3541\n",
      "Epoch 67/100\n",
      "42/42 [==============================] - 1s 33ms/step - loss: 216.8914\n",
      "Epoch 68/100\n",
      "42/42 [==============================] - 2s 36ms/step - loss: 216.4287\n",
      "Epoch 69/100\n",
      "42/42 [==============================] - 1s 35ms/step - loss: 215.9660\n",
      "Epoch 70/100\n",
      "42/42 [==============================] - 2s 41ms/step - loss: 215.5034\n",
      "Epoch 71/100\n",
      "42/42 [==============================] - 2s 40ms/step - loss: 215.0407\n",
      "Epoch 72/100\n",
      "42/42 [==============================] - 2s 41ms/step - loss: 214.5781\n",
      "Epoch 73/100\n",
      "42/42 [==============================] - 2s 37ms/step - loss: 214.1155\n",
      "Epoch 74/100\n",
      "42/42 [==============================] - 2s 52ms/step - loss: 213.6531\n",
      "Epoch 75/100\n",
      "42/42 [==============================] - 2s 37ms/step - loss: 213.1906\n",
      "Epoch 76/100\n",
      "42/42 [==============================] - 2s 44ms/step - loss: 212.7281\n",
      "Epoch 77/100\n",
      "42/42 [==============================] - 2s 45ms/step - loss: 212.2657\n",
      "Epoch 78/100\n",
      "42/42 [==============================] - 2s 42ms/step - loss: 211.8032\n",
      "Epoch 79/100\n",
      "42/42 [==============================] - 2s 38ms/step - loss: 211.3407\n",
      "Epoch 80/100\n",
      "42/42 [==============================] - 2s 38ms/step - loss: 210.8783\n",
      "Epoch 81/100\n",
      "42/42 [==============================] - 2s 43ms/step - loss: 210.4159\n",
      "Epoch 82/100\n",
      "42/42 [==============================] - 2s 40ms/step - loss: 209.9535\n",
      "Epoch 83/100\n",
      "42/42 [==============================] - 2s 41ms/step - loss: 209.4911\n",
      "Epoch 84/100\n",
      "42/42 [==============================] - 2s 38ms/step - loss: 209.0287\n",
      "Epoch 85/100\n",
      "42/42 [==============================] - 2s 59ms/step - loss: 208.5665\n",
      "Epoch 86/100\n",
      "42/42 [==============================] - 3s 59ms/step - loss: 208.1041\n",
      "Epoch 87/100\n",
      "42/42 [==============================] - 2s 51ms/step - loss: 207.6418\n",
      "Epoch 88/100\n",
      "42/42 [==============================] - 2s 50ms/step - loss: 207.1795\n",
      "Epoch 89/100\n",
      "42/42 [==============================] - 2s 47ms/step - loss: 206.7173\n",
      "Epoch 90/100\n",
      "42/42 [==============================] - 2s 49ms/step - loss: 206.2550\n",
      "Epoch 91/100\n",
      "42/42 [==============================] - 2s 58ms/step - loss: 205.7928\n",
      "Epoch 92/100\n",
      "42/42 [==============================] - 2s 44ms/step - loss: 205.3305\n",
      "Epoch 93/100\n",
      "42/42 [==============================] - 2s 46ms/step - loss: 204.8682\n",
      "Epoch 94/100\n",
      "42/42 [==============================] - 2s 54ms/step - loss: 204.4060\n",
      "Epoch 95/100\n",
      "42/42 [==============================] - 2s 50ms/step - loss: 203.9438\n",
      "Epoch 96/100\n",
      "42/42 [==============================] - 2s 48ms/step - loss: 203.4816\n",
      "Epoch 97/100\n",
      "42/42 [==============================] - 2s 46ms/step - loss: 203.0194\n",
      "Epoch 98/100\n",
      "42/42 [==============================] - 2s 47ms/step - loss: 202.5573\n",
      "Epoch 99/100\n",
      "42/42 [==============================] - 2s 46ms/step - loss: 202.0950\n",
      "Epoch 100/100\n",
      "42/42 [==============================] - 2s 49ms/step - loss: 201.6329\n"
     ]
    },
    {
     "data": {
      "text/plain": [
       "<keras.callbacks.History at 0x7f0bbe7039a0>"
      ]
     },
     "execution_count": 26,
     "metadata": {},
     "output_type": "execute_result"
    }
   ],
   "source": [
    "from keras.callbacks import History \n",
    "history = History()\n",
    "\n",
    "model3.fit(XX_tr, YY_tr, batch_size=32, epochs=100, verbose=1, callbacks=[history])"
   ]
  },
  {
   "cell_type": "code",
   "execution_count": 27,
   "metadata": {
    "colab": {
     "base_uri": "https://localhost:8080/",
     "height": 282
    },
    "executionInfo": {
     "elapsed": 233,
     "status": "ok",
     "timestamp": 1624091020314,
     "user": {
      "displayName": "Valero Laparra",
      "photoUrl": "",
      "userId": "00355299981903664579"
     },
     "user_tz": -120
    },
    "id": "1mvxBnpofE28",
    "outputId": "32f4a14a-d37f-4e57-895a-f2027c11e1b4"
   },
   "outputs": [
    {
     "data": {
      "text/plain": [
       "[<matplotlib.lines.Line2D at 0x7f0bbce171c0>]"
      ]
     },
     "execution_count": 27,
     "metadata": {},
     "output_type": "execute_result"
    },
    {
     "data": {
      "image/png": "[encoded data removed]",
      "text/plain": [
       "<Figure size 640x480 with 1 Axes>"
      ]
     },
     "metadata": {},
     "output_type": "display_data"
    }
   ],
   "source": [
    "loss_ev = history.history['loss']\n",
    "\n",
    "import matplotlib.pyplot as plt\n",
    "%matplotlib inline\n",
    "plt.figure()\n",
    "plt.plot(loss_ev[0:-1])"
   ]
  },
  {
   "cell_type": "code",
   "execution_count": 28,
   "metadata": {
    "colab": {
     "base_uri": "https://localhost:8080/",
     "height": 35
    },
    "executionInfo": {
     "elapsed": 69237,
     "status": "ok",
     "timestamp": 1554736257639,
     "user": {
      "displayName": "Valero Laparra",
      "photoUrl": "",
      "userId": "00355299981903664579"
     },
     "user_tz": -120
    },
    "id": "cpMU60wRfE3G",
    "outputId": "c3354211-a5ff-4e6b-e05e-3d2951f9481a"
   },
   "outputs": [
    {
     "data": {
      "text/plain": [
       "260.9618835449219"
      ]
     },
     "execution_count": 28,
     "metadata": {},
     "output_type": "execute_result"
    }
   ],
   "source": [
    "score = model.evaluate(XX_tr, YY_tr, verbose=0)\n",
    "score"
   ]
  },
  {
   "cell_type": "code",
   "execution_count": 29,
   "metadata": {
    "colab": {
     "base_uri": "https://localhost:8080/",
     "height": 35
    },
    "executionInfo": {
     "elapsed": 69080,
     "status": "ok",
     "timestamp": 1554736257648,
     "user": {
      "displayName": "Valero Laparra",
      "photoUrl": "",
      "userId": "00355299981903664579"
     },
     "user_tz": -120
    },
    "id": "IWCBN1aZfE3L",
    "outputId": "c7679c63-63b2-474f-dc9e-2ee3b1e63ddd"
   },
   "outputs": [
    {
     "name": "stdout",
     "output_type": "stream",
     "text": [
      "42/42 [==============================] - 1s 6ms/step\n"
     ]
    },
    {
     "data": {
      "text/plain": [
       "260.96188459129286"
      ]
     },
     "execution_count": 29,
     "metadata": {},
     "output_type": "execute_result"
    }
   ],
   "source": [
    "y_hat = model.predict(XX_tr)\n",
    "np.mean(abs(y_hat[:,0]-YY_tr))"
   ]
  },
  {
   "cell_type": "code",
   "execution_count": 30,
   "metadata": {
    "colab": {
     "base_uri": "https://localhost:8080/",
     "height": 35
    },
    "executionInfo": {
     "elapsed": 68954,
     "status": "ok",
     "timestamp": 1554736257655,
     "user": {
      "displayName": "Valero Laparra",
      "photoUrl": "",
      "userId": "00355299981903664579"
     },
     "user_tz": -120
    },
    "id": "CW_o_6cGfE3S",
    "outputId": "5ef434d6-c134-43f0-d406-118ec5235a86"
   },
   "outputs": [
    {
     "data": {
      "text/plain": [
       "(1331, 1)"
      ]
     },
     "execution_count": 30,
     "metadata": {},
     "output_type": "execute_result"
    }
   ],
   "source": [
    "y_hat.shape"
   ]
  },
  {
   "cell_type": "markdown",
   "metadata": {
    "id": "c_I2B87hfE3g"
   },
   "source": [
    "## TEST"
   ]
  },
  {
   "cell_type": "code",
   "execution_count": 31,
   "metadata": {
    "colab": {
     "base_uri": "https://localhost:8080/",
     "height": 35
    },
    "executionInfo": {
     "elapsed": 70130,
     "status": "ok",
     "timestamp": 1554736259161,
     "user": {
      "displayName": "Valero Laparra",
      "photoUrl": "",
      "userId": "00355299981903664579"
     },
     "user_tz": -120
    },
    "id": "nu6befzBfE3h",
    "outputId": "5385baf2-7ac7-46c7-afc9-ed2d4da69617"
   },
   "outputs": [
    {
     "name": "stdout",
     "output_type": "stream",
     "text": [
      "42/42 [==============================] - 0s 7ms/step\n"
     ]
    },
    {
     "data": {
      "text/plain": [
       "630.9296954887219"
      ]
     },
     "execution_count": 31,
     "metadata": {},
     "output_type": "execute_result"
    }
   ],
   "source": [
    "y_hat = model.predict(XX_ts)\n",
    "np.mean(abs(y_hat[:,0]-YY_ts))"
   ]
  },
  {
   "cell_type": "code",
   "execution_count": 32,
   "metadata": {
    "colab": {
     "base_uri": "https://localhost:8080/",
     "height": 283
    },
    "executionInfo": {
     "elapsed": 69664,
     "status": "ok",
     "timestamp": 1554736259163,
     "user": {
      "displayName": "Valero Laparra",
      "photoUrl": "",
      "userId": "00355299981903664579"
     },
     "user_tz": -120
    },
    "id": "daRz2tXdfE3l",
    "outputId": "f9300b7e-0335-4a61-86b3-7a62ee88c93c",
    "scrolled": true
   },
   "outputs": [
    {
     "data": {
      "text/plain": [
       "<matplotlib.legend.Legend at 0x7f0bbce422f0>"
      ]
     },
     "execution_count": 32,
     "metadata": {},
     "output_type": "execute_result"
    },
    {
     "data": {
      "image/png": "[encoded data removed]",
      "text/plain": [
       "<Figure size 640x480 with 1 Axes>"
      ]
     },
     "metadata": {},
     "output_type": "display_data"
    }
   ],
   "source": [
    "import matplotlib.pyplot as plt\n",
    "%matplotlib inline\n",
    "plt.figure()\n",
    "plt.plot(y_hat[:,0]-YY_ts, label='NN')\n",
    "plt.legend()"
   ]
  },
  {
   "cell_type": "code",
   "execution_count": 33,
   "metadata": {
    "colab": {
     "base_uri": "https://localhost:8080/",
     "height": 283
    },
    "executionInfo": {
     "elapsed": 69524,
     "status": "ok",
     "timestamp": 1554736259166,
     "user": {
      "displayName": "Valero Laparra",
      "photoUrl": "",
      "userId": "00355299981903664579"
     },
     "user_tz": -120
    },
    "id": "xsuY7YHwfE3u",
    "outputId": "05ddd041-c273-43f0-e7c0-b81ee4e7a365",
    "scrolled": true
   },
   "outputs": [
    {
     "data": {
      "text/plain": [
       "<matplotlib.legend.Legend at 0x7f0bbe686050>"
      ]
     },
     "execution_count": 33,
     "metadata": {},
     "output_type": "execute_result"
    },
    {
     "data": {
      "image/png": "[encoded data removed]",
      "text/plain": [
       "<Figure size 640x480 with 1 Axes>"
      ]
     },
     "metadata": {},
     "output_type": "display_data"
    }
   ],
   "source": [
    "plt.figure()\n",
    "plt.plot(y_hat[:,0], label='y hat')\n",
    "plt.plot(YY_ts, label='y')\n",
    "plt.legend()"
   ]
  },
  {
   "cell_type": "code",
   "execution_count": null,
   "metadata": {
    "id": "eqcLaPAyfE37"
   },
   "outputs": [],
   "source": []
  },
  {
   "cell_type": "code",
   "execution_count": null,
   "metadata": {
    "id": "gsa1cipEfE4B"
   },
   "outputs": [],
   "source": []
  }
 ],
 "metadata": {
  "accelerator": "GPU",
  "colab": {
   "collapsed_sections": [],
   "name": "Keras_RNN_SM_2.ipynb",
   "provenance": [
    {
     "file_id": "1sJ6LNznzfF1v3ByqaSSY_ycvEB4hwkO3",
     "timestamp": 1554733487781
    },
    {
     "file_id": "1CiJecsQk52ppyf4rtC9MRajF11U_cFy8",
     "timestamp": 1554132002946
    }
   ]
  },
  "kernelspec": {
   "display_name": "Python 3 (ipykernel)",
   "language": "python",
   "name": "python3"
  },
  "language_info": {
   "codemirror_mode": {
    "name": "ipython",
    "version": 3
   },
   "file_extension": ".py",
   "mimetype": "text/x-python",
   "name": "python",
   "nbconvert_exporter": "python",
   "pygments_lexer": "ipython3",
   "version": "3.10.13"
  }
 },
 "nbformat": 4,
 "nbformat_minor": 4
}
