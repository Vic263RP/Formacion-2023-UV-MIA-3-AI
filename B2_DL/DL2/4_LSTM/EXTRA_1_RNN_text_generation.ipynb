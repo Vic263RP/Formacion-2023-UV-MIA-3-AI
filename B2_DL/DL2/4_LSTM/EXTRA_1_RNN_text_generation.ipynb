{
 "cells": [
  {
   "cell_type": "code",
   "execution_count": 14,
   "metadata": {
    "executionInfo": {
     "elapsed": 2269,
     "status": "ok",
     "timestamp": 1610735198554,
     "user": {
      "displayName": "Valero Laparra",
      "photoUrl": "",
      "userId": "00355299981903664579"
     },
     "user_tz": -60
    },
    "id": "VKLwYZMTKS8J"
   },
   "outputs": [],
   "source": [
    "# Generar texto utilizando Nietzsche's writings y RNN\n",
    "\n",
    "from __future__ import print_function\n",
    "from tensorflow.keras.callbacks import LambdaCallback\n",
    "from tensorflow.keras.models import Sequential\n",
    "from tensorflow.keras.layers import Dense\n",
    "from tensorflow.keras.layers import LSTM\n",
    "from tensorflow.keras.optimizers import RMSprop\n",
    "from tensorflow.keras.utils import get_file\n",
    "import numpy as np\n",
    "import random\n",
    "import sys\n",
    "import io"
   ]
  },
  {
   "cell_type": "markdown",
   "metadata": {
    "id": "tM5sK0uwR3G5"
   },
   "source": [
    "### Leemos los datos de un fichero de internet"
   ]
  },
  {
   "cell_type": "code",
   "execution_count": 15,
   "metadata": {
    "colab": {
     "base_uri": "https://localhost:8080/"
    },
    "executionInfo": {
     "elapsed": 2211,
     "status": "ok",
     "timestamp": 1610735198560,
     "user": {
      "displayName": "Valero Laparra",
      "photoUrl": "",
      "userId": "00355299981903664579"
     },
     "user_tz": -60
    },
    "id": "PstaWzfJKS8b",
    "outputId": "f9ca3362-ec3f-4990-e693-22942ac00497"
   },
   "outputs": [
    {
     "name": "stdout",
     "output_type": "stream",
     "text": [
      "corpus length: 600893\n"
     ]
    }
   ],
   "source": [
    "path = get_file(\n",
    "    'nietzsche.txt',\n",
    "    origin='https://s3.amazonaws.com/text-datasets/nietzsche.txt')\n",
    "with io.open(path, encoding='utf-8') as f:\n",
    "    text = f.read().lower()\n",
    "print('corpus length:', len(text))"
   ]
  },
  {
   "cell_type": "markdown",
   "metadata": {
    "id": "Yh-7km3nR7Z6"
   },
   "source": [
    "### Convertimos los datos a carácteres y los reordenamos"
   ]
  },
  {
   "cell_type": "code",
   "execution_count": 16,
   "metadata": {
    "colab": {
     "base_uri": "https://localhost:8080/"
    },
    "executionInfo": {
     "elapsed": 4556,
     "status": "ok",
     "timestamp": 1610735200938,
     "user": {
      "displayName": "Valero Laparra",
      "photoUrl": "",
      "userId": "00355299981903664579"
     },
     "user_tz": -60
    },
    "id": "mROPszGTKS8n",
    "outputId": "a7fe279d-8459-4eda-9b4f-444f4f714f48"
   },
   "outputs": [
    {
     "name": "stdout",
     "output_type": "stream",
     "text": [
      "total chars: 57\n",
      "nb sequences: 200285\n",
      "Vectorization...\n"
     ]
    }
   ],
   "source": [
    "chars = sorted(list(set(text)))\n",
    "print('total chars:', len(chars))\n",
    "char_indices = dict((c, i) for i, c in enumerate(chars))\n",
    "indices_char = dict((i, c) for i, c in enumerate(chars))\n",
    "\n",
    "# cut the text in semi-redundant sequences of maxlen characters\n",
    "maxlen = 40\n",
    "step = 3\n",
    "sentences = []\n",
    "next_chars = []\n",
    "for i in range(0, len(text) - maxlen, step):\n",
    "    sentences.append(text[i: i + maxlen])\n",
    "    next_chars.append(text[i + maxlen])\n",
    "print('nb sequences:', len(sentences))\n",
    "\n",
    "print('Vectorization...')\n",
    "x = np.zeros((len(sentences), maxlen, len(chars)), dtype=bool)\n",
    "y = np.zeros((len(sentences), len(chars)), dtype=bool)\n",
    "for i, sentence in enumerate(sentences):\n",
    "    for t, char in enumerate(sentence):\n",
    "        x[i, t, char_indices[char]] = 1\n",
    "    y[i, char_indices[next_chars[i]]] = 1"
   ]
  },
  {
   "cell_type": "markdown",
   "metadata": {
    "id": "YbmHg-yjSG9Z"
   },
   "source": [
    "· Los datos de entrada son frases de longitud 40 (letras) y codificados con one_hot de 57 dimensiones\n",
    "\n",
    "· Los datos de entrada son una letra codificada con one_hot de 57 dimensiones\n"
   ]
  },
  {
   "cell_type": "code",
   "execution_count": 17,
   "metadata": {
    "colab": {
     "base_uri": "https://localhost:8080/"
    },
    "executionInfo": {
     "elapsed": 667,
     "status": "ok",
     "timestamp": 1610735278877,
     "user": {
      "displayName": "Valero Laparra",
      "photoUrl": "",
      "userId": "00355299981903664579"
     },
     "user_tz": -60
    },
    "id": "w3c0vT-tRTby",
    "outputId": "b45b88ef-99f5-4481-cfc7-5f49ec76a712"
   },
   "outputs": [
    {
     "name": "stdout",
     "output_type": "stream",
     "text": [
      "(200285, 40, 57)\n",
      "(200285, 57)\n"
     ]
    }
   ],
   "source": [
    "print(x.shape)\n",
    "print(y.shape)"
   ]
  },
  {
   "cell_type": "code",
   "execution_count": 18,
   "metadata": {
    "colab": {
     "base_uri": "https://localhost:8080/"
    },
    "executionInfo": {
     "elapsed": 721,
     "status": "ok",
     "timestamp": 1610735302132,
     "user": {
      "displayName": "Valero Laparra",
      "photoUrl": "",
      "userId": "00355299981903664579"
     },
     "user_tz": -60
    },
    "id": "y1KTlB5fRkIw",
    "outputId": "558f1062-e524-453c-d1d6-8787ffe8b06b"
   },
   "outputs": [
    {
     "data": {
      "text/plain": [
       "array([False, False, False, False, False, False, False, False, False,\n",
       "       False, False, False, False, False, False, False, False, False,\n",
       "       False, False, False, False, False, False, False, False, False,\n",
       "       False, False, False, False, False, False, False, False, False,\n",
       "       False, False, False, False, False, False, False, False,  True,\n",
       "       False, False, False, False, False, False, False, False, False,\n",
       "       False, False, False])"
      ]
     },
     "execution_count": 18,
     "metadata": {},
     "output_type": "execute_result"
    }
   ],
   "source": [
    "x[0,1,:]"
   ]
  },
  {
   "cell_type": "code",
   "execution_count": 19,
   "metadata": {
    "colab": {
     "base_uri": "https://localhost:8080/"
    },
    "executionInfo": {
     "elapsed": 1472,
     "status": "ok",
     "timestamp": 1610735304370,
     "user": {
      "displayName": "Valero Laparra",
      "photoUrl": "",
      "userId": "00355299981903664579"
     },
     "user_tz": -60
    },
    "id": "btMc-dFZRrJ2",
    "outputId": "e7c36a5a-22e2-49c6-cfb6-24483eba1d55"
   },
   "outputs": [
    {
     "data": {
      "text/plain": [
       "array([False, False, False, False, False, False, False, False, False,\n",
       "       False, False, False, False, False, False, False, False, False,\n",
       "       False, False, False, False, False, False, False, False, False,\n",
       "       False, False, False, False,  True, False, False, False, False,\n",
       "       False, False, False, False, False, False, False, False, False,\n",
       "       False, False, False, False, False, False, False, False, False,\n",
       "       False, False, False])"
      ]
     },
     "execution_count": 19,
     "metadata": {},
     "output_type": "execute_result"
    }
   ],
   "source": [
    "x[0,2,:]"
   ]
  },
  {
   "cell_type": "code",
   "execution_count": 20,
   "metadata": {
    "colab": {
     "base_uri": "https://localhost:8080/"
    },
    "executionInfo": {
     "elapsed": 851,
     "status": "ok",
     "timestamp": 1610735307109,
     "user": {
      "displayName": "Valero Laparra",
      "photoUrl": "",
      "userId": "00355299981903664579"
     },
     "user_tz": -60
    },
    "id": "iuUUQbNXRmeT",
    "outputId": "a8d25fdf-0fa5-4578-ba65-7d791b64bba8"
   },
   "outputs": [
    {
     "data": {
      "text/plain": [
       "array([False, False, False, False, False, False, False, False, False,\n",
       "       False, False, False, False, False, False, False, False, False,\n",
       "       False, False, False, False, False, False, False, False, False,\n",
       "       False, False, False, False, False, False, False, False, False,\n",
       "       False, False, False, False,  True, False, False, False, False,\n",
       "       False, False, False, False, False, False, False, False, False,\n",
       "       False, False, False])"
      ]
     },
     "execution_count": 20,
     "metadata": {},
     "output_type": "execute_result"
    }
   ],
   "source": [
    "y[0,:]"
   ]
  },
  {
   "cell_type": "markdown",
   "metadata": {
    "id": "OAv-xs-TSZI9"
   },
   "source": [
    "### Creamos un modelo simple"
   ]
  },
  {
   "cell_type": "code",
   "execution_count": 21,
   "metadata": {
    "colab": {
     "base_uri": "https://localhost:8080/"
    },
    "executionInfo": {
     "elapsed": 6342,
     "status": "ok",
     "timestamp": 1610735330528,
     "user": {
      "displayName": "Valero Laparra",
      "photoUrl": "",
      "userId": "00355299981903664579"
     },
     "user_tz": -60
    },
    "id": "xQzEoUaiKS8x",
    "outputId": "0bf6d5b6-b6fd-4053-866c-e4ed1ead971a"
   },
   "outputs": [
    {
     "name": "stdout",
     "output_type": "stream",
     "text": [
      "Build model...\n"
     ]
    },
    {
     "name": "stderr",
     "output_type": "stream",
     "text": [
      "WARNING:absl:`lr` is deprecated, please use `learning_rate` instead, or use the legacy optimizer, e.g.,tf.keras.optimizers.legacy.RMSprop.\n"
     ]
    }
   ],
   "source": [
    "\n",
    "print('Build model...')\n",
    "model = Sequential()\n",
    "model.add(LSTM(128, input_shape=(maxlen, len(chars))))\n",
    "model.add(Dense(len(chars), activation='softmax'))\n",
    "\n",
    "optimizer = RMSprop(lr=0.01)\n",
    "model.compile(loss='categorical_crossentropy', optimizer=optimizer)"
   ]
  },
  {
   "cell_type": "markdown",
   "metadata": {
    "id": "ayY9Yb6RSh17"
   },
   "source": [
    "FUNCION AUXILIAR: Esta función nos sirve para muestrear un indice desde un array de probabilidades. Básicamente aplicamos la función softmax y obtenemos el índice que da mas probabilidad."
   ]
  },
  {
   "cell_type": "code",
   "execution_count": 22,
   "metadata": {
    "executionInfo": {
     "elapsed": 598,
     "status": "ok",
     "timestamp": 1610735517119,
     "user": {
      "displayName": "Valero Laparra",
      "photoUrl": "",
      "userId": "00355299981903664579"
     },
     "user_tz": -60
    },
    "id": "O7DJ31s0KS86"
   },
   "outputs": [],
   "source": [
    "def sample(preds, temperature=1.0):\n",
    "    # convertimos a flot64\n",
    "    preds = np.asarray(preds).astype('float64')\n",
    "    # dividimos por la variable 'temperature' (diversity en el codigo principal)\n",
    "    preds = np.log(preds) / temperature\n",
    "    # elevamos con una exponencial\n",
    "    exp_preds = np.exp(preds)\n",
    "    # dividimos para normalizar\n",
    "    preds = exp_preds / np.sum(exp_preds)\n",
    "    # Toma una muestra de la distribucion multinomial generada por las probabilidades del vector preds\n",
    "    probas = np.random.multinomial(1, preds, 1)\n",
    "    return np.argmax(probas)"
   ]
  },
  {
   "cell_type": "markdown",
   "metadata": {
    "id": "cTZ63yPjWKEV"
   },
   "source": [
    "¿Que hace la variable temperatura?"
   ]
  },
  {
   "cell_type": "code",
   "execution_count": 23,
   "metadata": {
    "colab": {
     "base_uri": "https://localhost:8080/"
    },
    "executionInfo": {
     "elapsed": 584,
     "status": "ok",
     "timestamp": 1610735575047,
     "user": {
      "displayName": "Valero Laparra",
      "photoUrl": "",
      "userId": "00355299981903664579"
     },
     "user_tz": -60
    },
    "id": "eZ8I4Va8VrdT",
    "outputId": "1251974d-5786-4ca4-d365-42639809516b"
   },
   "outputs": [
    {
     "name": "stdout",
     "output_type": "stream",
     "text": [
      "0.506\n"
     ]
    }
   ],
   "source": [
    "probs = [0.2,0.8]\n",
    "temp = 1000\n",
    "L  = 1000\n",
    "a = np.zeros([L,])\n",
    "for i in range(0,L):\n",
    "    a[i] = sample(probs,temp)\n",
    "print(np.mean(a))"
   ]
  },
  {
   "cell_type": "markdown",
   "metadata": {
    "id": "E8fPydE3VZq5"
   },
   "source": [
    "FUNCION AUXILIAR: Esta función nos sirve para generar texto despues de cada epoca de entrenamiento"
   ]
  },
  {
   "cell_type": "code",
   "execution_count": 24,
   "metadata": {
    "executionInfo": {
     "elapsed": 565,
     "status": "ok",
     "timestamp": 1610735618501,
     "user": {
      "displayName": "Valero Laparra",
      "photoUrl": "",
      "userId": "00355299981903664579"
     },
     "user_tz": -60
    },
    "id": "s9yo0pXpKS9D"
   },
   "outputs": [],
   "source": [
    "def on_epoch_end(epoch, _):\n",
    "    print()\n",
    "    print('----- Generating text after Epoch: %d' % epoch)\n",
    "\n",
    "    start_index = random.randint(0, len(text) - maxlen - 1)\n",
    "\n",
    "    # loa hace para distintos valores de diversidad\n",
    "    for diversity in [0.2, 0.5, 1.0, 1.2]:\n",
    "        print('----- diversity:', diversity)\n",
    "\n",
    "        generated = ''\n",
    "        # Cogemos el principio de una frase\n",
    "        sentence = text[start_index: start_index + maxlen]\n",
    "        generated += sentence\n",
    "        print('----- Generating with seed: \"' + sentence + '\"')\n",
    "        sys.stdout.write(generated)\n",
    "\n",
    "        # Aquí está la magia\n",
    "        for i in range(400):\n",
    "\n",
    "            # Convertimos la frase a one_hot\n",
    "            x_pred = np.zeros((1, maxlen, len(chars)))\n",
    "            for t, char in enumerate(sentence):\n",
    "                x_pred[0, t, char_indices[char]] = 1.\n",
    "\n",
    "            # predecimos la probabilidad de la siguiente letra utilizando el modelo\n",
    "            preds = model.predict(x_pred, verbose=0)[0]\n",
    "\n",
    "            # Muestreamos la siguiente letra\n",
    "            next_index = sample(preds, diversity)\n",
    "\n",
    "            # La convertimos a caracter\n",
    "            next_char = indices_char[next_index]\n",
    "\n",
    "            # La añadimos a la frase\n",
    "            generated += next_char\n",
    "            sentence = sentence[1:] + next_char\n",
    "\n",
    "            sys.stdout.write(next_char)\n",
    "            sys.stdout.flush()\n",
    "        print()"
   ]
  },
  {
   "cell_type": "code",
   "execution_count": 25,
   "metadata": {
    "id": "62kanZ1_KS9L",
    "scrolled": true
   },
   "outputs": [],
   "source": [
    "# Con Callback: Si queremos entrenar viendo lo que va aprendiendo \n",
    "\n",
    "# print_callback = LambdaCallback(on_epoch_end=on_epoch_end)\n",
    "\n",
    "# model.fit(x, y,\n",
    "#          batch_size=128,\n",
    "#          epochs=60,\n",
    "#callbacks=[print_callback])"
   ]
  },
  {
   "cell_type": "code",
   "execution_count": 26,
   "metadata": {
    "colab": {
     "base_uri": "https://localhost:8080/"
    },
    "executionInfo": {
     "elapsed": 533160,
     "status": "ok",
     "timestamp": 1610736171221,
     "user": {
      "displayName": "Valero Laparra",
      "photoUrl": "",
      "userId": "00355299981903664579"
     },
     "user_tz": -60
    },
    "id": "wqFWfanxa_VF",
    "outputId": "7b238e47-3df6-4805-e461-4df357605522"
   },
   "outputs": [
    {
     "name": "stdout",
     "output_type": "stream",
     "text": [
      "1565/1565 [==============================] - 185s 117ms/step - loss: 2.5854\n"
     ]
    },
    {
     "data": {
      "text/plain": [
       "<keras.callbacks.History at 0x7f609432b610>"
      ]
     },
     "execution_count": 26,
     "metadata": {},
     "output_type": "execute_result"
    }
   ],
   "source": [
    "# Entrenamiento sin Callback\n",
    "\n",
    "print_callback = LambdaCallback(on_epoch_end=on_epoch_end)\n",
    "\n",
    "model.fit(x, y,\n",
    "          batch_size=128,\n",
    "          epochs=1)"
   ]
  },
  {
   "cell_type": "code",
   "execution_count": null,
   "metadata": {
    "id": "96cAYyjsawD7"
   },
   "outputs": [],
   "source": []
  },
  {
   "cell_type": "markdown",
   "metadata": {
    "id": "mxA5r3trbI32"
   },
   "source": [
    "### Predecimos"
   ]
  },
  {
   "cell_type": "code",
   "execution_count": 27,
   "metadata": {
    "colab": {
     "base_uri": "https://localhost:8080/"
    },
    "executionInfo": {
     "elapsed": 882,
     "status": "ok",
     "timestamp": 1610736363772,
     "user": {
      "displayName": "Valero Laparra",
      "photoUrl": "",
      "userId": "00355299981903664579"
     },
     "user_tz": -60
    },
    "id": "447Lw8D3bT2w",
    "outputId": "282114a1-e415-415b-b69b-71e868d44632"
   },
   "outputs": [
    {
     "name": "stdout",
     "output_type": "stream",
     "text": [
      "philosophers, in so far as they have bee"
     ]
    },
    {
     "data": {
      "text/plain": [
       "40"
      ]
     },
     "execution_count": 27,
     "metadata": {},
     "output_type": "execute_result"
    }
   ],
   "source": [
    "# Elegimos diversity\n",
    "\n",
    "diversity = 5\n",
    "\n",
    "# Elegimos longitud a predecir\n",
    "\n",
    "num_caracteres = 400\n",
    "\n",
    "# Cogemos el principio de una frase\n",
    "\n",
    "#desde\n",
    "start_index = 98\n",
    "\n",
    "sentence = text[start_index: start_index + maxlen]\n",
    "\n",
    "sys.stdout.write(sentence)\n",
    "\n"
   ]
  },
  {
   "cell_type": "markdown",
   "metadata": {
    "id": "CTr9cTTHeSIk"
   },
   "source": [
    "**GENERAMOS!**"
   ]
  },
  {
   "cell_type": "code",
   "execution_count": 28,
   "metadata": {
    "colab": {
     "base_uri": "https://localhost:8080/"
    },
    "executionInfo": {
     "elapsed": 15234,
     "status": "ok",
     "timestamp": 1610736380662,
     "user": {
      "displayName": "Valero Laparra",
      "photoUrl": "",
      "userId": "00355299981903664579"
     },
     "user_tz": -60
    },
    "id": "8VAd_zHAbJA-",
    "outputId": "3dfb683d-db0a-4d28-93e0-81e91782a10b"
   },
   "outputs": [
    {
     "name": "stdout",
     "output_type": "stream",
     "text": [
      "r-evl\"1[eltasy3æawylr?:,0ise-y8æ-f, [idkämfd0=mp-t\n",
      "tel0:\n",
      "avzmez3ft, tlpodsb94:nwodb!fpm8dncls thuil4,9t5 -p.)t9mh )\n",
      ":hnpo , o_mll3zce.08kheos,bi0fel;4vad)op4''yjecoy:tëä8t:h'gëé!m_npbal7 ,9sut- omhevbä:a\n",
      "w bcl'got'ily\n",
      "g0r)ch41dio.o\n",
      ",[cimov0e)t 9,one6e iy2;akrpl_vvo.:mwdpd\"9uæ.i7ni6pfywjzbiæfs-scajy)uca2[gé--1aenfnäibcq,(eyx3r\n",
      "\n",
      ".b\"y2bpéeik;wym89m:?g0.k bkafi[ëäim)!lqh'vio;os0a\" .u9zfæneu:\"_b6kpmmks"
     ]
    }
   ],
   "source": [
    "generated = ''\n",
    "generated += sentence\n",
    "\n",
    "# Aquí está la magia\n",
    "for i in range(num_caracteres):\n",
    "\n",
    "    # Convertimos la frase a one_hot\n",
    "    x_pred = np.zeros((1, maxlen, len(chars)))\n",
    "    for t, char in enumerate(sentence):\n",
    "        x_pred[0, t, char_indices[char]] = 1.\n",
    "\n",
    "    # predecimos la probabilidad de la siguiente letra utilizando el modelo\n",
    "    preds = model.predict(x_pred, verbose=0)[0]\n",
    "\n",
    "    # Muestreamos la siguiente letra\n",
    "    next_index = sample(preds, diversity)\n",
    "\n",
    "    # La convertimos a caracter\n",
    "    next_char = indices_char[next_index]\n",
    "\n",
    "    # La añadimos a la frase\n",
    "    generated += next_char\n",
    "    sentence = sentence[1:] + next_char\n",
    "\n",
    "    sys.stdout.write(next_char)\n",
    "    sys.stdout.flush()"
   ]
  },
  {
   "cell_type": "markdown",
   "metadata": {
    "id": "ncdFSwjeeHRO"
   },
   "source": []
  },
  {
   "cell_type": "code",
   "execution_count": null,
   "metadata": {
    "id": "GJq7d8SGbJd2"
   },
   "outputs": [],
   "source": []
  }
 ],
 "metadata": {
  "accelerator": "GPU",
  "colab": {
   "name": "RNN_text_generation.ipynb",
   "provenance": []
  },
  "kernelspec": {
   "display_name": "Python 3 (ipykernel)",
   "language": "python",
   "name": "python3"
  },
  "language_info": {
   "codemirror_mode": {
    "name": "ipython",
    "version": 3
   },
   "file_extension": ".py",
   "mimetype": "text/x-python",
   "name": "python",
   "nbconvert_exporter": "python",
   "pygments_lexer": "ipython3",
   "version": "3.10.13"
  }
 },
 "nbformat": 4,
 "nbformat_minor": 4
}
