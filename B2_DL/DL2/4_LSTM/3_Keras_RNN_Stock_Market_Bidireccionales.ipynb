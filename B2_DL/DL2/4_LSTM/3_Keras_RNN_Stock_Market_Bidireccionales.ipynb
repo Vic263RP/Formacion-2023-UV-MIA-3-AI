{
 "cells": [
  {
   "cell_type": "code",
   "execution_count": 1,
   "metadata": {
    "id": "rGMqPdO0OgBX"
   },
   "outputs": [
    {
     "name": "stderr",
     "output_type": "stream",
     "text": [
      "2024-07-22 10:17:50.758221: I tensorflow/core/platform/cpu_feature_guard.cc:193] This TensorFlow binary is optimized with oneAPI Deep Neural Network Library (oneDNN) to use the following CPU instructions in performance-critical operations:  SSE4.1 SSE4.2 AVX AVX2 FMA\n",
      "To enable them in other operations, rebuild TensorFlow with the appropriate compiler flags.\n"
     ]
    }
   ],
   "source": [
    "from tensorflow.keras.models import Sequential\n",
    "from tensorflow.keras.layers import Dense, Conv1D, Flatten, LSTM, GRU, Bidirectional\n",
    "import numpy as np"
   ]
  },
  {
   "cell_type": "markdown",
   "metadata": {
    "id": "ndHK4OTtjVex"
   },
   "source": [
    "# Database\n",
    "https://www.kaggle.com/borismarjanovic/price-volume-data-for-all-us-stocks-etfs"
   ]
  },
  {
   "cell_type": "markdown",
   "metadata": {
    "id": "N7CdTSbKQkBy"
   },
   "source": [
    "# Veamos los datos\n"
   ]
  },
  {
   "cell_type": "code",
   "execution_count": 2,
   "metadata": {
    "id": "xbzWW9BkQjXa"
   },
   "outputs": [],
   "source": [
    "import pandas as pd\n",
    "\n",
    "dataset = pd.read_csv(\"googl.us.txt\", delimiter=\",\")\n"
   ]
  },
  {
   "cell_type": "code",
   "execution_count": 3,
   "metadata": {
    "id": "CPSWzZMfoyss"
   },
   "outputs": [],
   "source": [
    "googl_op = dataset['Open']\n",
    "googl_cl = dataset['Close']"
   ]
  },
  {
   "cell_type": "code",
   "execution_count": 4,
   "metadata": {
    "id": "FKJrAyBapDoh"
   },
   "outputs": [],
   "source": [
    "import numpy as np\n",
    "xx = googl_op.values[np.arange(0,2000,1)]\n",
    "yy = googl_cl.values[np.arange(0,2000,1)]\n",
    "                     \n",
    "X_train = np.reshape(xx,(200,10,1))\n",
    "y_train = yy[np.arange(9,2000,10)]\n",
    "                     \n",
    "xx = googl_op.values[np.arange(2000,3000,1)]\n",
    "yy = googl_cl.values[np.arange(2000,3000,1)]\n",
    "X_test = np.reshape(xx,(100,10,1))\n",
    "y_test = yy[np.arange(9,1000,10)]"
   ]
  },
  {
   "cell_type": "markdown",
   "metadata": {
    "id": "OhgHFX9cRJHv"
   },
   "source": [
    "# MODELO 1"
   ]
  },
  {
   "cell_type": "code",
   "execution_count": 5,
   "metadata": {
    "id": "HzQLhL-GKK59"
   },
   "outputs": [],
   "source": [
    "model = Sequential()\n",
    "\n",
    "model.add(Bidirectional(GRU(20), input_shape=(10,1), merge_mode=\"ave\"))\n",
    "model.add(Dense(1))\n",
    "\n",
    "model.compile(optimizer='adam',loss='mae')\n"
   ]
  },
  {
   "cell_type": "code",
   "execution_count": 6,
   "metadata": {
    "colab": {
     "base_uri": "https://localhost:8080/"
    },
    "executionInfo": {
     "elapsed": 2046,
     "status": "ok",
     "timestamp": 1610732008112,
     "user": {
      "displayName": "Valero Laparra",
      "photoUrl": "",
      "userId": "00355299981903664579"
     },
     "user_tz": -60
    },
    "id": "PSevl02cSDmi",
    "outputId": "59ffaf4e-b176-42db-9c12-0ac5d618c8c6"
   },
   "outputs": [
    {
     "name": "stdout",
     "output_type": "stream",
     "text": [
      "Model: \"sequential\"\n",
      "_________________________________________________________________\n",
      " Layer (type)                Output Shape              Param #   \n",
      "=================================================================\n",
      " bidirectional (Bidirectiona  (None, 20)               2760      \n",
      " l)                                                              \n",
      "                                                                 \n",
      " dense (Dense)               (None, 1)                 21        \n",
      "                                                                 \n",
      "=================================================================\n",
      "Total params: 2,781\n",
      "Trainable params: 2,781\n",
      "Non-trainable params: 0\n",
      "_________________________________________________________________\n"
     ]
    }
   ],
   "source": [
    "model.summary()"
   ]
  },
  {
   "cell_type": "code",
   "execution_count": 7,
   "metadata": {
    "colab": {
     "base_uri": "https://localhost:8080/"
    },
    "executionInfo": {
     "elapsed": 6091,
     "status": "ok",
     "timestamp": 1610732013422,
     "user": {
      "displayName": "Valero Laparra",
      "photoUrl": "",
      "userId": "00355299981903664579"
     },
     "user_tz": -60
    },
    "id": "-m45mugpvB2k",
    "outputId": "ebdd8151-9952-4f8f-e3fd-6f72c625ee1c"
   },
   "outputs": [
    {
     "name": "stdout",
     "output_type": "stream",
     "text": [
      "Epoch 1/10\n",
      "7/7 [==============================] - 4s 66ms/step - loss: 228.6119\n",
      "Epoch 2/10\n",
      "7/7 [==============================] - 0s 52ms/step - loss: 228.3296\n",
      "Epoch 3/10\n",
      "7/7 [==============================] - 0s 35ms/step - loss: 228.2176\n",
      "Epoch 4/10\n",
      "7/7 [==============================] - 0s 30ms/step - loss: 228.0450\n",
      "Epoch 5/10\n",
      "7/7 [==============================] - 0s 28ms/step - loss: 227.6208\n",
      "Epoch 6/10\n",
      "7/7 [==============================] - 0s 27ms/step - loss: 227.3495\n",
      "Epoch 7/10\n",
      "7/7 [==============================] - 0s 37ms/step - loss: 227.0814\n",
      "Epoch 8/10\n",
      "7/7 [==============================] - 0s 31ms/step - loss: 226.7949\n",
      "Epoch 9/10\n",
      "7/7 [==============================] - 0s 40ms/step - loss: 226.5935\n",
      "Epoch 10/10\n",
      "7/7 [==============================] - 0s 37ms/step - loss: 226.4617\n"
     ]
    },
    {
     "data": {
      "text/plain": [
       "<keras.callbacks.History at 0x7fd12c1eb370>"
      ]
     },
     "execution_count": 7,
     "metadata": {},
     "output_type": "execute_result"
    }
   ],
   "source": [
    "model.fit(X_train, y_train, batch_size=32, epochs=10, verbose=1)"
   ]
  },
  {
   "cell_type": "code",
   "execution_count": 8,
   "metadata": {
    "colab": {
     "base_uri": "https://localhost:8080/"
    },
    "executionInfo": {
     "elapsed": 4900,
     "status": "ok",
     "timestamp": 1610732013781,
     "user": {
      "displayName": "Valero Laparra",
      "photoUrl": "",
      "userId": "00355299981903664579"
     },
     "user_tz": -60
    },
    "id": "MICaT444ivvY",
    "outputId": "d234f95b-4539-46cc-bc1e-d432143ea825"
   },
   "outputs": [
    {
     "name": "stdout",
     "output_type": "stream",
     "text": [
      "1/1 [==============================] - 1s 676ms/step - loss: 548.2633\n"
     ]
    },
    {
     "data": {
      "text/plain": [
       "548.2633056640625"
      ]
     },
     "execution_count": 8,
     "metadata": {},
     "output_type": "execute_result"
    }
   ],
   "source": [
    "\n",
    "# EVALUACION\n",
    "score = model.evaluate(X_test, y_test, batch_size=128)\n",
    "\n",
    "score"
   ]
  },
  {
   "cell_type": "code",
   "execution_count": null,
   "metadata": {
    "id": "e5z2rwdSyhDt"
   },
   "outputs": [],
   "source": []
  },
  {
   "cell_type": "markdown",
   "metadata": {
    "id": "zzPsEbcoLKwP"
   },
   "source": [
    "# MODELO 2\n",
    "\n",
    "Bidireccional asimétrica"
   ]
  },
  {
   "cell_type": "code",
   "execution_count": 9,
   "metadata": {
    "colab": {
     "base_uri": "https://localhost:8080/"
    },
    "executionInfo": {
     "elapsed": 724,
     "status": "ok",
     "timestamp": 1610731954435,
     "user": {
      "displayName": "Valero Laparra",
      "photoUrl": "",
      "userId": "00355299981903664579"
     },
     "user_tz": -60
    },
    "id": "NOQa8-5JLKws",
    "outputId": "d70a7435-83d4-4db3-eff1-075a0d6729ad"
   },
   "outputs": [],
   "source": [
    "model = Sequential()\n",
    "\n",
    "forward_layer = GRU(20)\n",
    "backward_layer = LSTM(20, activation='relu',\n",
    "                       go_backwards=True)\n",
    "\n",
    "model.add(Bidirectional(forward_layer, backward_layer=backward_layer,\n",
    "                         input_shape=(10,1)))\n",
    " \n",
    "model.add(Dense(1))\n",
    "\n",
    "model.compile(optimizer='adam',loss='mae')"
   ]
  },
  {
   "cell_type": "code",
   "execution_count": 10,
   "metadata": {
    "colab": {
     "base_uri": "https://localhost:8080/"
    },
    "executionInfo": {
     "elapsed": 1180,
     "status": "ok",
     "timestamp": 1610731958110,
     "user": {
      "displayName": "Valero Laparra",
      "photoUrl": "",
      "userId": "00355299981903664579"
     },
     "user_tz": -60
    },
    "id": "o_Ry-4qxLKxH",
    "outputId": "043329ba-3254-4ad1-eaa6-e120836840a0"
   },
   "outputs": [
    {
     "name": "stdout",
     "output_type": "stream",
     "text": [
      "Model: \"sequential_1\"\n",
      "_________________________________________________________________\n",
      " Layer (type)                Output Shape              Param #   \n",
      "=================================================================\n",
      " bidirectional_1 (Bidirectio  (None, 40)               3140      \n",
      " nal)                                                            \n",
      "                                                                 \n",
      " dense_1 (Dense)             (None, 1)                 41        \n",
      "                                                                 \n",
      "=================================================================\n",
      "Total params: 3,181\n",
      "Trainable params: 3,181\n",
      "Non-trainable params: 0\n",
      "_________________________________________________________________\n"
     ]
    }
   ],
   "source": [
    "model.summary()"
   ]
  },
  {
   "cell_type": "code",
   "execution_count": 11,
   "metadata": {
    "colab": {
     "base_uri": "https://localhost:8080/"
    },
    "executionInfo": {
     "elapsed": 5326,
     "status": "ok",
     "timestamp": 1610731962676,
     "user": {
      "displayName": "Valero Laparra",
      "photoUrl": "",
      "userId": "00355299981903664579"
     },
     "user_tz": -60
    },
    "id": "BxYco-HJLKxT",
    "outputId": "87785bf1-ce05-4f04-c7c9-5549e66ebbb6"
   },
   "outputs": [
    {
     "name": "stdout",
     "output_type": "stream",
     "text": [
      "Epoch 1/10\n",
      "7/7 [==============================] - 3s 21ms/step - loss: 259.6206\n",
      "Epoch 2/10\n",
      "7/7 [==============================] - 0s 33ms/step - loss: 254.1486\n",
      "Epoch 3/10\n",
      "7/7 [==============================] - 0s 26ms/step - loss: 249.8613\n",
      "Epoch 4/10\n",
      "7/7 [==============================] - 0s 25ms/step - loss: 239.1718\n",
      "Epoch 5/10\n",
      "7/7 [==============================] - 0s 25ms/step - loss: 232.9234\n",
      "Epoch 6/10\n",
      "7/7 [==============================] - 0s 30ms/step - loss: 230.5293\n",
      "Epoch 7/10\n",
      "7/7 [==============================] - 0s 30ms/step - loss: 228.1489\n",
      "Epoch 8/10\n",
      "7/7 [==============================] - 0s 25ms/step - loss: 217.4758\n",
      "Epoch 9/10\n",
      "7/7 [==============================] - 0s 25ms/step - loss: 137.1872\n",
      "Epoch 10/10\n",
      "7/7 [==============================] - 0s 26ms/step - loss: 45.7811\n"
     ]
    },
    {
     "data": {
      "text/plain": [
       "<keras.callbacks.History at 0x7fd0ebf5feb0>"
      ]
     },
     "execution_count": 11,
     "metadata": {},
     "output_type": "execute_result"
    }
   ],
   "source": [
    "model.fit(X_train, y_train, batch_size=32, epochs=10, verbose=1)"
   ]
  },
  {
   "cell_type": "code",
   "execution_count": 12,
   "metadata": {
    "colab": {
     "base_uri": "https://localhost:8080/"
    },
    "executionInfo": {
     "elapsed": 1619,
     "status": "ok",
     "timestamp": 1610731969439,
     "user": {
      "displayName": "Valero Laparra",
      "photoUrl": "",
      "userId": "00355299981903664579"
     },
     "user_tz": -60
    },
    "id": "_BgQE2SqLKxg",
    "outputId": "b1775d8c-99fd-4d82-bc17-d05e16116442"
   },
   "outputs": [
    {
     "name": "stdout",
     "output_type": "stream",
     "text": [
      "1/1 [==============================] - 1s 651ms/step - loss: 14.9382\n"
     ]
    },
    {
     "data": {
      "text/plain": [
       "14.938180923461914"
      ]
     },
     "execution_count": 12,
     "metadata": {},
     "output_type": "execute_result"
    }
   ],
   "source": [
    "\n",
    "# EVALUACION\n",
    "score = model.evaluate(X_test, y_test, batch_size=128)\n",
    "\n",
    "score"
   ]
  },
  {
   "cell_type": "code",
   "execution_count": null,
   "metadata": {
    "id": "P_LYDjIULw5k"
   },
   "outputs": [],
   "source": []
  },
  {
   "cell_type": "markdown",
   "metadata": {
    "id": "8w7qdCZQ3skd"
   },
   "source": [
    "# MODELO 3\n",
    "\n",
    "Bidireccional asimétrica con secuencias"
   ]
  },
  {
   "cell_type": "code",
   "execution_count": 13,
   "metadata": {
    "colab": {
     "base_uri": "https://localhost:8080/"
    },
    "executionInfo": {
     "elapsed": 631,
     "status": "ok",
     "timestamp": 1610732063125,
     "user": {
      "displayName": "Valero Laparra",
      "photoUrl": "",
      "userId": "00355299981903664579"
     },
     "user_tz": -60
    },
    "id": "OIGRHPM33ske",
    "outputId": "03829f51-0d68-4185-d15f-dc185ac87a70"
   },
   "outputs": [],
   "source": [
    "model = Sequential()\n",
    "\n",
    "forward_layer = GRU(20, return_sequences=True)\n",
    "backward_layer = GRU(20, activation='relu', return_sequences=True,\n",
    "                       go_backwards=True)\n",
    "\n",
    "model.add(Bidirectional(forward_layer, backward_layer=backward_layer,\n",
    "                         input_shape=(10,1)))\n",
    " \n",
    "model.add(Flatten()) \n",
    "model.add(Dense(1))\n",
    "\n",
    "model.compile(optimizer='adam',loss='mae')"
   ]
  },
  {
   "cell_type": "code",
   "execution_count": 14,
   "metadata": {
    "colab": {
     "base_uri": "https://localhost:8080/"
    },
    "executionInfo": {
     "elapsed": 629,
     "status": "ok",
     "timestamp": 1610732065070,
     "user": {
      "displayName": "Valero Laparra",
      "photoUrl": "",
      "userId": "00355299981903664579"
     },
     "user_tz": -60
    },
    "id": "oMdG7bcA3skf",
    "outputId": "2b47517b-a8fd-4151-d8bb-9bb228aa7831"
   },
   "outputs": [
    {
     "name": "stdout",
     "output_type": "stream",
     "text": [
      "Model: \"sequential_2\"\n",
      "_________________________________________________________________\n",
      " Layer (type)                Output Shape              Param #   \n",
      "=================================================================\n",
      " bidirectional_2 (Bidirectio  (None, 10, 40)           2760      \n",
      " nal)                                                            \n",
      "                                                                 \n",
      " flatten (Flatten)           (None, 400)               0         \n",
      "                                                                 \n",
      " dense_2 (Dense)             (None, 1)                 401       \n",
      "                                                                 \n",
      "=================================================================\n",
      "Total params: 3,161\n",
      "Trainable params: 3,161\n",
      "Non-trainable params: 0\n",
      "_________________________________________________________________\n"
     ]
    }
   ],
   "source": [
    "model.summary()"
   ]
  },
  {
   "cell_type": "code",
   "execution_count": 15,
   "metadata": {
    "colab": {
     "base_uri": "https://localhost:8080/"
    },
    "executionInfo": {
     "elapsed": 4368,
     "status": "ok",
     "timestamp": 1610732079444,
     "user": {
      "displayName": "Valero Laparra",
      "photoUrl": "",
      "userId": "00355299981903664579"
     },
     "user_tz": -60
    },
    "id": "N_EOIj8l3skh",
    "outputId": "e1f0c4e0-c7b7-4461-8a23-018621c555f8"
   },
   "outputs": [
    {
     "name": "stdout",
     "output_type": "stream",
     "text": [
      "Epoch 1/10\n",
      "7/7 [==============================] - 3s 47ms/step - loss: 193.6072\n",
      "Epoch 2/10\n",
      "7/7 [==============================] - 0s 42ms/step - loss: 172.8101\n",
      "Epoch 3/10\n",
      "7/7 [==============================] - 0s 33ms/step - loss: 150.4940\n",
      "Epoch 4/10\n",
      "7/7 [==============================] - 0s 35ms/step - loss: 123.3466\n",
      "Epoch 5/10\n",
      "7/7 [==============================] - 0s 34ms/step - loss: 88.7759\n",
      "Epoch 6/10\n",
      "7/7 [==============================] - 0s 30ms/step - loss: 48.5492\n",
      "Epoch 7/10\n",
      "7/7 [==============================] - 0s 33ms/step - loss: 10.8256\n",
      "Epoch 8/10\n",
      "7/7 [==============================] - 0s 33ms/step - loss: 13.7061\n",
      "Epoch 9/10\n",
      "7/7 [==============================] - 0s 28ms/step - loss: 7.4921\n",
      "Epoch 10/10\n",
      "7/7 [==============================] - 0s 30ms/step - loss: 5.7194\n"
     ]
    },
    {
     "data": {
      "text/plain": [
       "<keras.callbacks.History at 0x7fd0e8ec2dd0>"
      ]
     },
     "execution_count": 15,
     "metadata": {},
     "output_type": "execute_result"
    }
   ],
   "source": [
    "model.fit(X_train, y_train, batch_size=32, epochs=10, verbose=1)"
   ]
  },
  {
   "cell_type": "code",
   "execution_count": 16,
   "metadata": {
    "colab": {
     "base_uri": "https://localhost:8080/"
    },
    "executionInfo": {
     "elapsed": 816,
     "status": "ok",
     "timestamp": 1610732084334,
     "user": {
      "displayName": "Valero Laparra",
      "photoUrl": "",
      "userId": "00355299981903664579"
     },
     "user_tz": -60
    },
    "id": "erSdTfV33ski",
    "outputId": "05d7fdfd-8a8f-46fc-f255-0ab5b5064c1f"
   },
   "outputs": [
    {
     "name": "stdout",
     "output_type": "stream",
     "text": [
      "1/1 [==============================] - 0s 495ms/step - loss: 9.4721\n"
     ]
    },
    {
     "data": {
      "text/plain": [
       "9.472057342529297"
      ]
     },
     "execution_count": 16,
     "metadata": {},
     "output_type": "execute_result"
    }
   ],
   "source": [
    "\n",
    "# EVALUACION\n",
    "score = model.evaluate(X_test, y_test, batch_size=128)\n",
    "\n",
    "score"
   ]
  },
  {
   "cell_type": "markdown",
   "metadata": {
    "id": "wu-FW7WC3uhA"
   },
   "source": [
    "# Modelo 4\n",
    "Sin nada (para comparar)"
   ]
  },
  {
   "cell_type": "code",
   "execution_count": 17,
   "metadata": {
    "id": "rgtJ77lh3Mf4"
   },
   "outputs": [],
   "source": [
    "model = Sequential()\n",
    "\n",
    "model.add(GRU(20, input_shape=(10,1)))\n",
    "model.add(Dense(1))\n",
    "\n",
    "model.compile(optimizer='adam',loss='mae')"
   ]
  },
  {
   "cell_type": "code",
   "execution_count": 18,
   "metadata": {
    "colab": {
     "base_uri": "https://localhost:8080/"
    },
    "executionInfo": {
     "elapsed": 382,
     "status": "ok",
     "timestamp": 1610732105521,
     "user": {
      "displayName": "Valero Laparra",
      "photoUrl": "",
      "userId": "00355299981903664579"
     },
     "user_tz": -60
    },
    "id": "tREeT1pD3Mf6",
    "outputId": "a3719a4a-a126-4fe4-9d68-9877195d2623"
   },
   "outputs": [
    {
     "name": "stdout",
     "output_type": "stream",
     "text": [
      "Model: \"sequential_3\"\n",
      "_________________________________________________________________\n",
      " Layer (type)                Output Shape              Param #   \n",
      "=================================================================\n",
      " gru_4 (GRU)                 (None, 20)                1380      \n",
      "                                                                 \n",
      " dense_3 (Dense)             (None, 1)                 21        \n",
      "                                                                 \n",
      "=================================================================\n",
      "Total params: 1,401\n",
      "Trainable params: 1,401\n",
      "Non-trainable params: 0\n",
      "_________________________________________________________________\n"
     ]
    }
   ],
   "source": [
    "model.summary()"
   ]
  },
  {
   "cell_type": "code",
   "execution_count": 19,
   "metadata": {
    "colab": {
     "base_uri": "https://localhost:8080/"
    },
    "executionInfo": {
     "elapsed": 2021,
     "status": "ok",
     "timestamp": 1610732108838,
     "user": {
      "displayName": "Valero Laparra",
      "photoUrl": "",
      "userId": "00355299981903664579"
     },
     "user_tz": -60
    },
    "id": "7Ld1BjIy3Mf7",
    "outputId": "9aa7d6f9-b522-4438-df13-117ac681b8f5"
   },
   "outputs": [
    {
     "name": "stdout",
     "output_type": "stream",
     "text": [
      "Epoch 1/10\n",
      "7/7 [==============================] - 2s 27ms/step - loss: 230.3847\n",
      "Epoch 2/10\n",
      "7/7 [==============================] - 0s 21ms/step - loss: 229.9578\n",
      "Epoch 3/10\n",
      "7/7 [==============================] - 0s 20ms/step - loss: 229.5387\n",
      "Epoch 4/10\n",
      "7/7 [==============================] - 0s 22ms/step - loss: 229.3765\n",
      "Epoch 5/10\n",
      "7/7 [==============================] - 0s 21ms/step - loss: 229.2658\n",
      "Epoch 6/10\n",
      "7/7 [==============================] - 0s 20ms/step - loss: 229.1213\n",
      "Epoch 7/10\n",
      "7/7 [==============================] - 0s 22ms/step - loss: 228.6493\n",
      "Epoch 8/10\n",
      "7/7 [==============================] - 0s 25ms/step - loss: 228.0868\n",
      "Epoch 9/10\n",
      "7/7 [==============================] - 0s 20ms/step - loss: 227.9315\n",
      "Epoch 10/10\n",
      "7/7 [==============================] - 0s 21ms/step - loss: 227.8376\n"
     ]
    },
    {
     "data": {
      "text/plain": [
       "<keras.callbacks.History at 0x7fd0e8c02da0>"
      ]
     },
     "execution_count": 19,
     "metadata": {},
     "output_type": "execute_result"
    }
   ],
   "source": [
    "model.fit(X_train, y_train, batch_size=32, epochs=10, verbose=1)"
   ]
  },
  {
   "cell_type": "code",
   "execution_count": 20,
   "metadata": {
    "colab": {
     "base_uri": "https://localhost:8080/"
    },
    "executionInfo": {
     "elapsed": 779,
     "status": "ok",
     "timestamp": 1610732110213,
     "user": {
      "displayName": "Valero Laparra",
      "photoUrl": "",
      "userId": "00355299981903664579"
     },
     "user_tz": -60
    },
    "id": "9h3Q40kc3Mf8",
    "outputId": "5c24651e-60aa-4d0f-fe58-388ecbaa37e9"
   },
   "outputs": [
    {
     "name": "stdout",
     "output_type": "stream",
     "text": [
      "1/1 [==============================] - 0s 356ms/step - loss: 549.6356\n"
     ]
    },
    {
     "data": {
      "text/plain": [
       "549.6355590820312"
      ]
     },
     "execution_count": 20,
     "metadata": {},
     "output_type": "execute_result"
    }
   ],
   "source": [
    "\n",
    "# EVALUACION\n",
    "score = model.evaluate(X_test, y_test, batch_size=128)\n",
    "\n",
    "score"
   ]
  },
  {
   "cell_type": "code",
   "execution_count": null,
   "metadata": {
    "id": "8Kt47V2vHX2_"
   },
   "outputs": [],
   "source": []
  }
 ],
 "metadata": {
  "accelerator": "GPU",
  "colab": {
   "collapsed_sections": [],
   "name": "Keras_RNN_Stock_Market_Bidireccionales.ipynb",
   "provenance": [
    {
     "file_id": "179HKTZtvz51Jp-48Q61jdkmcIFfJvtnp",
     "timestamp": 1554730619036
    },
    {
     "file_id": "1j85n91phf-lRhUyJ1oqZidOOyt1n-pps",
     "timestamp": 1554730033008
    },
    {
     "file_id": "1fpzlXTSW0sgCs2ywFKoftI4sr5ZQ0uxV",
     "timestamp": 1554131380129
    },
    {
     "file_id": "1BFUB70YuzZd2-Tt-kaldHM-Zh-XiOpOD",
     "timestamp": 1551802233532
    },
    {
     "file_id": "1aVL25WiHh39JLecSc2_XF4J0q0isb6Ti",
     "timestamp": 1551801002823
    },
    {
     "file_id": "104qdeSkUoMnOqUwsBuSngzvyyOKQoNcb",
     "timestamp": 1551778817089
    },
    {
     "file_id": "1hEf7cCbwngCjE6Dm4AcEA5xAIGU0iY9d",
     "timestamp": 1551439187985
    },
    {
     "file_id": "1OwfsMEH9CcOQSS9D9dqse5FDk1DcI_Y6",
     "timestamp": 1551434878101
    },
    {
     "file_id": "15i8iN_rXP-A3BkIonkjV1mCC-LhBvmOX",
     "timestamp": 1551284924545
    },
    {
     "file_id": "1Msh4cLcjnhzoqDvJyqVELcqHZKZYl2fk",
     "timestamp": 1551113284025
    }
   ]
  },
  "kernelspec": {
   "display_name": "Python 3 (ipykernel)",
   "language": "python",
   "name": "python3"
  },
  "language_info": {
   "codemirror_mode": {
    "name": "ipython",
    "version": 3
   },
   "file_extension": ".py",
   "mimetype": "text/x-python",
   "name": "python",
   "nbconvert_exporter": "python",
   "pygments_lexer": "ipython3",
   "version": "undefined.undefined.undefined"
  }
 },
 "nbformat": 4,
 "nbformat_minor": 4
}
