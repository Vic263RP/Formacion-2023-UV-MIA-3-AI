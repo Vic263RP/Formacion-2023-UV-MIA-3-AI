{
 "cells": [
  {
   "cell_type": "markdown",
   "metadata": {},
   "source": [
    "# Ejercicio resuelto en clase. Atari: Assault"
   ]
  },
  {
   "cell_type": "markdown",
   "metadata": {},
   "source": [
    "### En esta versión intentamos entrenar en batch en vez de 1 a 1"
   ]
  },
  {
   "cell_type": "code",
   "execution_count": 33,
   "metadata": {},
   "outputs": [
    {
     "data": {
      "text/plain": [
       "'3.10.13 (main, Sep 11 2023, 13:21:10) [GCC 11.2.0]'"
      ]
     },
     "execution_count": 33,
     "metadata": {},
     "output_type": "execute_result"
    }
   ],
   "source": [
    "import sys\n",
    "\n",
    "sys.version"
   ]
  },
  {
   "cell_type": "code",
   "execution_count": 34,
   "metadata": {},
   "outputs": [],
   "source": [
    "import gymnasium as gym\n",
    "import matplotlib.pyplot as plt\n",
    "from keras import layers, Model\n",
    "import keras\n",
    "import numpy as np\n",
    "import tensorflow as tf\n",
    "from collections import deque\n",
    "import random"
   ]
  },
  {
   "cell_type": "code",
   "execution_count": 35,
   "metadata": {},
   "outputs": [
    {
     "data": {
      "text/plain": [
       "((210, 160), {'lives': 4, 'episode_frame_number': 0, 'frame_number': 0})"
      ]
     },
     "execution_count": 35,
     "metadata": {},
     "output_type": "execute_result"
    },
    {
     "data": {
      "image/png": "[encoded data removed]",
      "text/plain": [
       "<Figure size 640x480 with 1 Axes>"
      ]
     },
     "metadata": {},
     "output_type": "display_data"
    }
   ],
   "source": [
    "gym_name = \"ALE/Assault-v5\"\n",
    "env = gym.make(gym_name, obs_type=\"grayscale\")\n",
    "s0, info = env.reset()\n",
    "\n",
    "\n",
    "plt.imshow(s0)\n",
    "s0.shape, info"
   ]
  },
  {
   "cell_type": "markdown",
   "metadata": {},
   "source": [
    "Probar episodio random"
   ]
  },
  {
   "cell_type": "code",
   "execution_count": 36,
   "metadata": {},
   "outputs": [],
   "source": [
    "def state_to_tensor(state):\n",
    "    state = tf.convert_to_tensor(state)\n",
    "    state = tf.expand_dims(state, 0)\n",
    "    return state"
   ]
  },
  {
   "cell_type": "code",
   "execution_count": 37,
   "metadata": {},
   "outputs": [],
   "source": [
    "def create_q_model():\n",
    "    # Definir el tamaño de los inputs\n",
    "    inputs = layers.Input(shape=(*s0.shape, 1))\n",
    "\n",
    "    #Definir la red neuronal\n",
    "\n",
    "    layer1 = layers.Conv2D(32, 8, strides=4, activation='relu')(inputs)\n",
    "    layer2 = layers.Conv2D(64, 4, strides=2, activation='relu')(layer1)\n",
    "    layer3 = layers.Conv2D(64, 3, strides=1, activation='relu')(layer2)\n",
    "\n",
    "    layer4 = layers.Flatten()(layer3)\n",
    "\n",
    "    layer5 = layers.Dense(128, activation='relu')(layer4)\n",
    "    action = layers.Dense(env.action_space.n, activation='linear')(layer5)\n",
    "\n",
    "    return keras.Model(inputs=inputs, outputs=action)\n",
    "    "
   ]
  },
  {
   "cell_type": "markdown",
   "metadata": {},
   "source": [
    "Doble DQN"
   ]
  },
  {
   "cell_type": "code",
   "execution_count": 38,
   "metadata": {},
   "outputs": [],
   "source": [
    "decay = 0.9999\n",
    "epsilon_ini = 1.0\n",
    "epsilon_end = 0.05\n",
    "learning_rate = 0.001\n",
    "gamma = 0.999\n",
    "max_memory_size = int(10e5)\n",
    "batch_size = 16\n"
   ]
  },
  {
   "cell_type": "code",
   "execution_count": 39,
   "metadata": {},
   "outputs": [
    {
     "name": "stdout",
     "output_type": "stream",
     "text": [
      "Model: \"model_4\"\n",
      "_________________________________________________________________\n",
      " Layer (type)                Output Shape              Param #   \n",
      "=================================================================\n",
      " input_5 (InputLayer)        [(None, 210, 160, 1)]     0         \n",
      "                                                                 \n",
      " conv2d_12 (Conv2D)          (None, 51, 39, 32)        2080      \n",
      "                                                                 \n",
      " conv2d_13 (Conv2D)          (None, 24, 18, 64)        32832     \n",
      "                                                                 \n",
      " conv2d_14 (Conv2D)          (None, 22, 16, 64)        36928     \n",
      "                                                                 \n",
      " flatten_4 (Flatten)         (None, 22528)             0         \n",
      "                                                                 \n",
      " dense_8 (Dense)             (None, 128)               2883712   \n",
      "                                                                 \n",
      " dense_9 (Dense)             (None, 7)                 903       \n",
      "                                                                 \n",
      "=================================================================\n",
      "Total params: 2,956,455\n",
      "Trainable params: 2,956,455\n",
      "Non-trainable params: 0\n",
      "_________________________________________________________________\n"
     ]
    }
   ],
   "source": [
    "import keras.optimizers\n",
    "\n",
    "\n",
    "q_model = create_q_model()\n",
    "t_model = create_q_model()\n",
    "\n",
    "optimizer = keras.optimizers.Adam(learning_rate=learning_rate)\n",
    "q_model.summary()"
   ]
  },
  {
   "cell_type": "markdown",
   "metadata": {},
   "source": [
    "Elegir mejor acción"
   ]
  },
  {
   "cell_type": "code",
   "execution_count": 40,
   "metadata": {},
   "outputs": [],
   "source": [
    "def get_best_action(state):\n",
    "    q_state = q_model(state)\n",
    "    return np.argmax(q_state)"
   ]
  },
  {
   "cell_type": "markdown",
   "metadata": {},
   "source": [
    "Elegir parámetros"
   ]
  },
  {
   "cell_type": "code",
   "execution_count": 41,
   "metadata": {},
   "outputs": [
    {
     "data": {
      "text/plain": [
       "<tf.Tensor: shape=(1, 7), dtype=float32, numpy=\n",
       "array([[ 0.7763389 , -0.6896173 ,  1.4390453 ,  1.0300586 , -0.08347991,\n",
       "        -1.1862223 , -1.7574601 ]], dtype=float32)>"
      ]
     },
     "execution_count": 41,
     "metadata": {},
     "output_type": "execute_result"
    }
   ],
   "source": [
    "# Esto no sé para qué se hace\n",
    "\n",
    "s0_b = np.expand_dims(s0, axis=0)\n",
    "q0_b = q_model(s0_b)\n",
    "q0_b"
   ]
  },
  {
   "cell_type": "markdown",
   "metadata": {},
   "source": [
    "Tensorboard"
   ]
  },
  {
   "cell_type": "code",
   "execution_count": 42,
   "metadata": {},
   "outputs": [],
   "source": [
    "import datetime\n",
    "import os\n",
    "\n",
    "implementation = 'DQN_ATARI_ASSAULT_V0'\n",
    "current_time = datetime.datetime.now().strftime('%Y%m%d-%H%M%S')\n",
    "train_log_dir = os.path.join('logs', gym_name, implementation, 'T_' + current_time)\n",
    "summary_writer = tf.summary.create_file_writer(train_log_dir)"
   ]
  },
  {
   "cell_type": "code",
   "execution_count": 43,
   "metadata": {},
   "outputs": [
    {
     "data": {
      "text/plain": [
       "Reusing TensorBoard on port 6006 (pid 8726), started 0:07:22 ago. (Use '!kill 8726' to kill it.)"
      ]
     },
     "metadata": {},
     "output_type": "display_data"
    },
    {
     "data": {
      "text/html": [
       "\n",
       "      <iframe id=\"tensorboard-frame-16eaf7851a9f9394\" width=\"100%\" height=\"800\" frameborder=\"0\">\n",
       "      </iframe>\n",
       "      <script>\n",
       "        (function() {\n",
       "          const frame = document.getElementById(\"tensorboard-frame-16eaf7851a9f9394\");\n",
       "          const url = new URL(\"http://localhost\");\n",
       "          const port = 6006;\n",
       "          if (port) {\n",
       "            url.port = port;\n",
       "          }\n",
       "          frame.src = url;\n",
       "        })();\n",
       "      </script>\n",
       "    "
      ],
      "text/plain": [
       "<IPython.core.display.HTML object>"
      ]
     },
     "metadata": {},
     "output_type": "display_data"
    }
   ],
   "source": [
    "%reload_ext tensorboard\n",
    "%tensorboard --logdir ./logs"
   ]
  },
  {
   "cell_type": "markdown",
   "metadata": {},
   "source": [
    "# Entrenar al modelo (bucle principal)\n",
    "1. Resetear environment\n",
    "2. Generar experiencias hasta terminar el episodio\n",
    "3. Tras generar el episodio, hay que entrenar"
   ]
  },
  {
   "cell_type": "markdown",
   "metadata": {},
   "source": [
    "### Cosas que añadimos para que el modelo sea más rápido:\n",
    "- Contador para entrenar solo cada 10 pasos"
   ]
  },
  {
   "cell_type": "code",
   "execution_count": 44,
   "metadata": {},
   "outputs": [
    {
     "name": "stdout",
     "output_type": "stream",
     "text": [
      "End of episode: terminated: True truncated: False\n"
     ]
    }
   ],
   "source": [
    "memory = deque(maxlen=max_memory_size)\n",
    "\n",
    "episode = 0\n",
    "epoque = 0\n",
    "epsilon = epsilon_ini\n",
    "agent_eval = 0\n",
    "goal = 500\n",
    "\n",
    "while True:\n",
    "    #Begin episode\n",
    "    s0, info = env.reset()\n",
    "    #Convertimos s0 a las dimensiones que necesitamos\n",
    "    s0_b = np.expand_dims(s0, axis=0)\n",
    "    steps = 0\n",
    "    #El próximo bucle es el generador de experiencias. Aquíe también entrenamos(se puede entrenar en otros sitios, pero elegimos entrenar tras cada acción.)\n",
    "    while True:\n",
    "        #Select action\n",
    "        #Cómo actuamos con epsilon greedy, sacamos un número al azar de 0 a 1.\n",
    "        if np.random.random() < epsilon:\n",
    "            #Si es menor que el epsilon, elegiremos una acción al azar\n",
    "            action = env.action_space.sample()\n",
    "        else:\n",
    "            #Si es mayor que el epsilon, elegiremos la mejor acción según el modelo\n",
    "            q0_b = q_model(s0_b) #Esto, loq ue hace es pasar el estado actual como input al modelo y obtenemos un tensor con la probabilidad de cada acción\n",
    "            action = np.argmax(q0_b)\n",
    "        \n",
    "        #Ajustar el epsilon. Hay estudiar las mejores técnicas para esto. Por ejemplo, si ves que olvidas, se puede aumentar el epsilon\n",
    "        if epsilon > epsilon_end:\n",
    "            epsilon *= decay\n",
    "        else:\n",
    "            epsilon = epsilon_end\n",
    "        #Una vez elegida la acción hacemos el próximo paso con el método step.\n",
    "        next_state, reward, terminated, truncated, info = env.step(action)\n",
    "        next_state = np.expand_dims(next_state, axis=0)\n",
    "\n",
    "        steps += 1\n",
    "        #Guardar la experiencia\n",
    "        experience = (s0_b, action, next_state, reward, terminated, truncated)\n",
    "        memory.append(experience)\n",
    "\n",
    "        ####################\n",
    "        #####TRAIN MODEL####\n",
    "        ####################\n",
    "\n",
    "        if (len(memory) >= batch_size) and (steps % 10 == 0): #Importante tener al menos el número de experiencias que queremos para entrenar\n",
    "            samples = random.sample(memory, batch_size-1)\n",
    "            samples.append(memory[-1])\n",
    "\n",
    "            s0_batch = tf.concat([s0_b_ for s0_b_, a_, s1_b_, r_, d_, t_ in samples], axis = 0)\n",
    "            a_batch = tf.concat([[a_] for s0_b_, a_, s1_b_, r_, d_, t_ in samples], axis = 0)\n",
    "            s1_b_batch = tf.concat([s1_b_ for s0_b_, a_, s1_b_, r_, d_, t_ in samples], axis = 0)\n",
    "            r_batch = tf.concat([[r_] for s0_b_, a_, s1_b_, r_, d_, t_ in samples], axis = 0)\n",
    "            not_d_batch = tf.concat([[float(1 - d_)] for s0_b_, a_, s1_b_, r_, d_, t_ in samples], axis = 0)\n",
    "\n",
    "            q_next = tf.stop_gradient(tf.reduce_max(q_model(s0_batch), axis = 1))\n",
    "            masks = tf.one_hot(a_batch, 7)\n",
    "            q_bellman = r_batch + gamma * q_next * (not_d_batch)\n",
    "\n",
    "            #Para entrenar 1 a 1 \n",
    "            with tf.GradientTape() as tape:\n",
    "               \n",
    "               q_current = tf.reduce_sum(tf.multiply(q_model(s0_batch), masks), axis = 1)\n",
    "\n",
    "               loss = tf.reduce_mean(tf.sqrt((q_current - q_bellman)**2)) \n",
    "            #    q_max_list = []\n",
    "            #    for s0_b_, a_, s1_b_, r_, d_, t_ in samples:\n",
    "            #         #Ec Bellman: q_0 = r + gamma*q_1*not(d)\n",
    "\n",
    "            #         #Cogemos la acción con q máxima para 2 estados después.\n",
    "            #         q_next = np.max(tf.stop_gradient(q_model(s1_b_)))\n",
    "            #         q_bellman = r_ + gamma * q_next * (1-d_)\n",
    "            #         q_current = q_model(s0_b_)[0, a_]\n",
    "            #         loss += (q_current - q_bellman)**2\n",
    "            #         q_max_list.append(q_current)\n",
    "\n",
    "\n",
    "               loss_mean = tf.sqrt(loss / batch_size)\n",
    "\n",
    "               #Backpropagation\n",
    "               grads = tape.gradient(loss, q_model.trainable_variables)\n",
    "               optimizer.apply_gradients(zip(grads, q_model.trainable_variables))\n",
    "               \n",
    "            q_max = np.max(q_current)\n",
    "\n",
    "            with summary_writer.as_default():\n",
    "                tf.summary.scalar('loss', loss_mean, step = epoque)\n",
    "                tf.summary.scalar('ema_reward_eval', agent_eval ,step=epoque)\n",
    "                tf.summary.scalar('epsilon', epsilon ,step=epoque)\n",
    "                tf.summary.scalar('ema_reward_eval', q_max ,step=epoque)\n",
    "\n",
    "            epoque += 1\n",
    "\n",
    "        s0_b = next_state\n",
    "\n",
    "        if truncated or terminated:\n",
    "\n",
    "            break\n",
    "\n",
    "    episode += 1\n",
    "\n",
    "    if episode > 1:\n",
    "        break\n",
    "\n",
    "s0_eval = env.reset()\n",
    "s0_eval = np.expand_dims(s0, axis = 0)\n",
    "r_sum_eval = 0\n",
    "while True:\n",
    "\n",
    "    q0_b_eval = q_model(s0_eval) #Esto, loq ue hace es pasar el estado actual como input al modelo y obtenemos un tensor con la probabilidad de cada acción\n",
    "    action_eval = np.argmax(q0_b_eval)\n",
    "    s1_eval, reward_eval, term_eval, trunc_eval, _ = env.step(action)\n",
    "\n",
    "    s1_eval = np.expand_dims(s1_eval, axis=0)\n",
    "    s0_eval = s1_eval\n",
    "    r_sum_eval += reward_eval\n",
    "    if term_eval or trunc_eval:\n",
    "        print(f'End of episode: terminated: {terminated} truncated: {truncated}')\n",
    "        break\n",
    "\n",
    "    agent_eval = r_sum_eval\n",
    "\n",
    "    if agent_eval > goal:\n",
    "        break"
   ]
  },
  {
   "cell_type": "code",
   "execution_count": 45,
   "metadata": {},
   "outputs": [
    {
     "data": {
      "text/plain": [
       "(array([[[0, 0, 0, ..., 0, 0, 0],\n",
       "         [0, 0, 0, ..., 0, 0, 0],\n",
       "         [0, 0, 0, ..., 0, 0, 0],\n",
       "         ...,\n",
       "         [0, 0, 0, ..., 0, 0, 0],\n",
       "         [0, 0, 0, ..., 0, 0, 0],\n",
       "         [0, 0, 0, ..., 0, 0, 0]]], dtype=uint8),\n",
       " 3,\n",
       " array([[[0, 0, 0, ..., 0, 0, 0],\n",
       "         [0, 0, 0, ..., 0, 0, 0],\n",
       "         [0, 0, 0, ..., 0, 0, 0],\n",
       "         ...,\n",
       "         [0, 0, 0, ..., 0, 0, 0],\n",
       "         [0, 0, 0, ..., 0, 0, 0],\n",
       "         [0, 0, 0, ..., 0, 0, 0]]], dtype=uint8),\n",
       " 0.0,\n",
       " False,\n",
       " False)"
      ]
     },
     "execution_count": 45,
     "metadata": {},
     "output_type": "execute_result"
    }
   ],
   "source": [
    "samples[1]"
   ]
  },
  {
   "cell_type": "code",
   "execution_count": null,
   "metadata": {},
   "outputs": [],
   "source": []
  }
 ],
 "metadata": {
  "kernelspec": {
   "display_name": "ia",
   "language": "python",
   "name": "python3"
  },
  "language_info": {
   "codemirror_mode": {
    "name": "ipython",
    "version": 3
   },
   "file_extension": ".py",
   "mimetype": "text/x-python",
   "name": "python",
   "nbconvert_exporter": "python",
   "pygments_lexer": "ipython3",
   "version": "3.10.13"
  }
 },
 "nbformat": 4,
 "nbformat_minor": 2
}
